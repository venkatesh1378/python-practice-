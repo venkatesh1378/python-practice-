{
 "cells": [
  {
   "cell_type": "code",
   "execution_count": null,
   "id": "a774e739-3509-4dbf-a33c-18775bb5dadd",
   "metadata": {},
   "outputs": [],
   "source": [
    "#advanced topics in python-1\n",
    "#namespaces\n",
    "#modules and python standard library\n",
    "#name==__main__\n",
    "# working with the dates\n",
    "#decorators\n",
    "#iterarotors\n",
    "#map,reduce,filter,lambda functions\n",
    "#generators\n",
    "#assertion\n"
   ]
  },
  {
   "cell_type": "markdown",
   "id": "e30d1e25-362e-46f9-a908-ddd50ea51a00",
   "metadata": {},
   "source": [
    "**namespaces in python**"
   ]
  },
  {
   "cell_type": "code",
   "execution_count": null,
   "id": "87050125-8e73-4835-ac69-124f546c8951",
   "metadata": {},
   "outputs": [],
   "source": [
    "- Generally any thing assigned to the python variables are called objects...................\n",
    "- name sapces are the collection  of the    names and objects and their information like references.............\n",
    "- namespaces are mainly used to resolve the conflit of using the same variables different places in the program.........\n",
    "- the same name of variable can be used different parts of the program................."
   ]
  },
  {
   "cell_type": "code",
   "execution_count": 2,
   "id": "141c2366-3df8-4a01-823e-ff7e85529186",
   "metadata": {},
   "outputs": [
    {
     "name": "stdout",
     "output_type": "stream",
     "text": [
      "20\n",
      "9\n"
     ]
    }
   ],
   "source": [
    "a=9\n",
    "def hello():\n",
    "    a=20\n",
    "    print(a)\n",
    "hello()\n",
    "print(a)"
   ]
  },
  {
   "cell_type": "code",
   "execution_count": null,
   "id": "117b4684-c6fe-4246-8bb4-8812bdf71ec6",
   "metadata": {},
   "outputs": [],
   "source": [
    "# so the same name is used even though there is no conflicts \n",
    "# direct locations they were created in the namespaces"
   ]
  },
  {
   "cell_type": "code",
   "execution_count": null,
   "id": "f7d80e10-2f33-4e6f-acb9-1b1fec23d2bf",
   "metadata": {},
   "outputs": [],
   "source": [
    "#types of namespaces\n",
    "# bulit-in namespaces       #entire in the program till ends print id,.................... #reason always they should avaiable in program\n",
    "# global namespaces         # when module is loaded outside the function we can use the global namespaces\n",
    "# local namespaces          #with in the functions we can use them"
   ]
  },
  {
   "cell_type": "code",
   "execution_count": null,
   "id": "eecde599-52fd-484c-a052-7aeb20d84459",
   "metadata": {},
   "outputs": [],
   "source": [
    "#local variables\n",
    "#global variables "
   ]
  },
  {
   "cell_type": "code",
   "execution_count": 3,
   "id": "a24fc1e9-cc5a-4bf0-bf92-efc985a33335",
   "metadata": {},
   "outputs": [
    {
     "name": "stdout",
     "output_type": "stream",
     "text": [
      "12\n"
     ]
    },
    {
     "ename": "NameError",
     "evalue": "name 'l' is not defined",
     "output_type": "error",
     "traceback": [
      "\u001b[1;31m---------------------------------------------------------------------------\u001b[0m",
      "\u001b[1;31mNameError\u001b[0m                                 Traceback (most recent call last)",
      "Cell \u001b[1;32mIn[3], line 8\u001b[0m\n\u001b[0;32m      6\u001b[0m     \u001b[38;5;28mprint\u001b[39m(l)\n\u001b[0;32m      7\u001b[0m a()\n\u001b[1;32m----> 8\u001b[0m \u001b[38;5;28mprint\u001b[39m(\u001b[43ml\u001b[49m)\n",
      "\u001b[1;31mNameError\u001b[0m: name 'l' is not defined"
     ]
    }
   ],
   "source": [
    "#local variables are the variables which are used with in function or method\n",
    "# local variable scope  or lifetime is with in the fucntion or method\n",
    "#example\n",
    "def a():\n",
    "    l=12\n",
    "    print(l)\n",
    "a()\n",
    "print(l)         #local can used inside the function we cannot use it outside of the functions it leads the l is not defined"
   ]
  },
  {
   "cell_type": "code",
   "execution_count": 4,
   "id": "ec7b0e7a-2ecb-48e2-ab0d-059d7044db0d",
   "metadata": {},
   "outputs": [
    {
     "name": "stdout",
     "output_type": "stream",
     "text": [
      "10\n",
      "10\n"
     ]
    }
   ],
   "source": [
    "#global variables\n",
    "#variable which can be used any where in the program is called global variables\n",
    "#variable scope or life time is entire in the program\n",
    "#upto the end of the program u can use any where in the program\n",
    "a=10\n",
    "def get():\n",
    "    print(a)              \n",
    "get()\n",
    "print(a)"
   ]
  },
  {
   "cell_type": "code",
   "execution_count": null,
   "id": "053024aa-29fe-42bd-8b46-b16bc5cbba36",
   "metadata": {},
   "outputs": [],
   "source": [
    "#suppose in some scenario u want to use the local variable outside  of the function we can use global keyword"
   ]
  },
  {
   "cell_type": "code",
   "execution_count": 9,
   "id": "af4e59c6-b887-490a-819e-e60acfe62074",
   "metadata": {},
   "outputs": [
    {
     "name": "stdout",
     "output_type": "stream",
     "text": [
      "10\n",
      "56\n",
      "56\n"
     ]
    }
   ],
   "source": [
    "b=10      # u wnat to change the global v ariable value u can use global keyword\n",
    "print(b)\n",
    "def checking():\n",
    "    global b;\n",
    "    b=56                        #we are accesing the local variable outside of the function through global keyword\n",
    "    print(b)\n",
    "checking()\n",
    "print(b)"
   ]
  },
  {
   "cell_type": "code",
   "execution_count": null,
   "id": "9b9a35bc-9a79-4071-a8a6-d5906b01afe5",
   "metadata": {},
   "outputs": [],
   "source": [
    "# python standard library"
   ]
  },
  {
   "cell_type": "code",
   "execution_count": null,
   "id": "e40bb1e2-df11-4679-aafc-62ba54959d24",
   "metadata": {},
   "outputs": [],
   "source": [
    "#python standard library which consits of large number of the classes ,functions,methods which we can use them"
   ]
  },
  {
   "cell_type": "code",
   "execution_count": null,
   "id": "00cb69bc-6fc2-4805-b0d2-26b7166426c3",
   "metadata": {},
   "outputs": [],
   "source": [
    "#module \n",
    "# a file consists of python code is called a modules"
   ]
  },
  {
   "cell_type": "code",
   "execution_count": null,
   "id": "ea901882-d0bd-42f6-bb9a-8dcfafdd3ddc",
   "metadata": {},
   "outputs": [],
   "source": [
    "#package \n",
    "# all the files are placed in the folder is called python package"
   ]
  },
  {
   "cell_type": "code",
   "execution_count": null,
   "id": "515d5cd0-7c1e-479d-b6a7-d38d20d1386b",
   "metadata": {},
   "outputs": [],
   "source": [
    "#modules\n",
    "#math\n",
    "#random\n",
    "#datetime"
   ]
  },
  {
   "cell_type": "code",
   "execution_count": 11,
   "id": "bb558ad1-5a0f-4d4a-b00e-2f95632dadbf",
   "metadata": {},
   "outputs": [
    {
     "data": {
      "text/plain": [
       "24"
      ]
     },
     "execution_count": 11,
     "metadata": {},
     "output_type": "execute_result"
    }
   ],
   "source": [
    "import math\n",
    "math.factorial(4)\n",
    "#math-----------------module\n",
    "#factorial ----------method inside the math"
   ]
  },
  {
   "cell_type": "code",
   "execution_count": 12,
   "id": "097b6dd7-e19f-4b6f-aba4-c8f56d609103",
   "metadata": {},
   "outputs": [
    {
     "data": {
      "text/plain": [
       "6"
      ]
     },
     "execution_count": 12,
     "metadata": {},
     "output_type": "execute_result"
    }
   ],
   "source": [
    "from math import factorial\n",
    "factorial(3)"
   ]
  },
  {
   "cell_type": "code",
   "execution_count": 17,
   "id": "71625d67-d897-4501-90aa-ee21c309ea50",
   "metadata": {},
   "outputs": [
    {
     "data": {
      "text/plain": [
       "24"
      ]
     },
     "execution_count": 17,
     "metadata": {},
     "output_type": "execute_result"
    }
   ],
   "source": [
    "from math import factorial as fp\n",
    "fp(4)"
   ]
  },
  {
   "cell_type": "code",
   "execution_count": 28,
   "id": "f7a0465c-4eae-49fa-a497-c7c35b86f200",
   "metadata": {},
   "outputs": [
    {
     "data": {
      "text/plain": [
       "datetime.date(2001, 12, 2)"
      ]
     },
     "execution_count": 28,
     "metadata": {},
     "output_type": "execute_result"
    }
   ],
   "source": [
    "from datetime import date,time,datetime\n",
    "k=date(2001,12,2)\n",
    "k"
   ]
  },
  {
   "cell_type": "code",
   "execution_count": 29,
   "id": "5a280539-9620-4023-b03f-3e58acca80e8",
   "metadata": {},
   "outputs": [
    {
     "data": {
      "text/plain": [
       "datetime.time(3, 4, 4)"
      ]
     },
     "execution_count": 29,
     "metadata": {},
     "output_type": "execute_result"
    }
   ],
   "source": [
    "l=time(3,4,4)\n",
    "l"
   ]
  },
  {
   "cell_type": "code",
   "execution_count": 41,
   "id": "bf102ab5-fe78-4c78-9de5-1df166ace4e3",
   "metadata": {},
   "outputs": [
    {
     "name": "stdout",
     "output_type": "stream",
     "text": [
      "2001-12-01 02:03:04\n"
     ]
    }
   ],
   "source": [
    "m=datetime(2001,12,1,2,3,4)\n",
    "print(m)"
   ]
  },
  {
   "cell_type": "code",
   "execution_count": 40,
   "id": "8f5d4305-d17b-4fc1-abe9-b102ffe11cd4",
   "metadata": {},
   "outputs": [
    {
     "name": "stdout",
     "output_type": "stream",
     "text": [
      "2025-02-01 19:30:11.133781\n"
     ]
    }
   ],
   "source": [
    "#timedelta\n",
    "#duration of the objec\n",
    "from datetime import datetime,timedelta\n",
    "current_date=datetime.now()\n",
    "new=timedelta(days=365,hours=4,seconds=45)\n",
    "print(current_date+new)"
   ]
  },
  {
   "cell_type": "code",
   "execution_count": null,
   "id": "573855e0-1fa3-4abb-9859-9ade5111b93b",
   "metadata": {},
   "outputs": [],
   "source": [
    "#strftime---------------------givws the date           input-----------\"%y,%b ,%m\"---------------------olp 12 nov 2012\n",
    "#  strfmethod-------------given thing date formated  inut 23 sept 2003--------------------               \"%y,%b,%m\""
   ]
  },
  {
   "cell_type": "code",
   "execution_count": null,
   "id": "e52f8aab-802a-4b9d-aea1-e3c6edf64bf0",
   "metadata": {},
   "outputs": [],
   "source": [
    "#modules "
   ]
  },
  {
   "cell_type": "code",
   "execution_count": 44,
   "id": "1825d0ad-b785-4672-a293-2ae61b78898c",
   "metadata": {},
   "outputs": [
    {
     "data": {
      "text/plain": [
       "3"
      ]
     },
     "execution_count": 44,
     "metadata": {},
     "output_type": "execute_result"
    }
   ],
   "source": [
    "#addition.py\n",
    "def add(a,b):\n",
    "    return a+b\n",
    "add(1,2)"
   ]
  },
  {
   "cell_type": "code",
   "execution_count": null,
   "id": "a7eafc8e-cac4-4f8a-9dd5-cbf9caa63d53",
   "metadata": {},
   "outputs": [],
   "source": [
    "from adttion import add\n",
    "print(add(12,13)) \n",
    "#same add sub mul,div() perform them"
   ]
  },
  {
   "cell_type": "code",
   "execution_count": null,
   "id": "78fc0bf6-d56d-40cd-b329-236e9854b1f8",
   "metadata": {},
   "outputs": [],
   "source": [
    "#packages\n",
    "a python files are placed in a folder is called package \n",
    "# first file is __init__.py file it will firstly excuted when packages are import \n",
    "#pythonpackages\n",
    "   -- __init__.py\n",
    "   --- module-1\n",
    "    ----module-2\n",
    "   ---"
   ]
  },
  {
   "cell_type": "code",
   "execution_count": null,
   "id": "f68c7b3d-140d-4105-89ec-af582d73306b",
   "metadata": {},
   "outputs": [],
   "source": [
    "#subpackages\n",
    "--------pavkage\n",
    "        --init.py\n",
    "          ---subpackage-1 \n",
    "             ----init.py\n",
    "              ---module 1\n",
    "          -----subpackage-2\n",
    "                ----init.py\n",
    "                ----module 2"
   ]
  },
  {
   "cell_type": "code",
   "execution_count": null,
   "id": "bf98d2f4-beaa-4f04-b539-4f58901165d8",
   "metadata": {},
   "outputs": [],
   "source": [
    "#modularation in python\n",
    "# breaking down th =e large components of the program into small parts\n",
    "#divide into parts is acleld modularazation\n",
    "#fucntions independent created and tested\n",
    "#calculator.py\n",
    "#add()  #created and tested\n",
    "#sub()\n",
    "#mul()\n",
    "#div()\n",
    "from calculator import add,sub,mul,div \n",
    "#we can use them in another files also.........."
   ]
  },
  {
   "cell_type": "code",
   "execution_count": null,
   "id": "69063257-26c8-47b7-9d74-0241773a7560",
   "metadata": {},
   "outputs": [],
   "source": [
    "#map.reduce,filter"
   ]
  },
  {
   "cell_type": "code",
   "execution_count": null,
   "id": "aaedeee4-052f-4df0-a51d-8750722996f9",
   "metadata": {},
   "outputs": [],
   "source": [
    "#map which is used the map the values with the function\n",
    "#map function which is applied on every item in the sequence what we do"
   ]
  },
  {
   "cell_type": "code",
   "execution_count": 53,
   "id": "57e36269-a07c-4b98-8e33-ef27cb3af410",
   "metadata": {},
   "outputs": [
    {
     "data": {
      "text/plain": [
       "[1, 4, 9]"
      ]
     },
     "execution_count": 53,
     "metadata": {},
     "output_type": "execute_result"
    }
   ],
   "source": [
    "def hello(i):\n",
    "    return i*i\n",
    "a=[1,2,3]\n",
    "s=map(hello,a)  #every elemnet in a is mapped with function coressponded logic we have written\n",
    "list(s)"
   ]
  },
  {
   "cell_type": "code",
   "execution_count": null,
   "id": "3c06878b-aa67-43a2-9833-73e37fa3ed03",
   "metadata": {},
   "outputs": [],
   "source": [
    "#filter \n",
    "#which is applied on each item in the sequence filter the values based on the conditions"
   ]
  },
  {
   "cell_type": "code",
   "execution_count": 56,
   "id": "5bd5e837-6128-455d-8ec7-1e8b1328cad6",
   "metadata": {},
   "outputs": [
    {
     "data": {
      "text/plain": [
       "[2, 4]"
      ]
     },
     "execution_count": 56,
     "metadata": {},
     "output_type": "execute_result"
    }
   ],
   "source": [
    "def hello(i):\n",
    "    return i>0\n",
    "a=[-1,2,0,4]\n",
    "s=filter(hello,a)\n",
    "list(s)"
   ]
  },
  {
   "cell_type": "code",
   "execution_count": 58,
   "id": "904f5a62-4389-4905-9b45-0e8d0e97fc79",
   "metadata": {},
   "outputs": [
    {
     "data": {
      "text/plain": [
       "15"
      ]
     },
     "execution_count": 58,
     "metadata": {},
     "output_type": "execute_result"
    }
   ],
   "source": [
    "# reduce \n",
    "#reduce the items and make them into one \n",
    "from functools import reduce\n",
    "def hello(i,j):\n",
    "    return i+j\n",
    "s=[1,2,3,4,5]\n",
    "k=reduce(hello,s)\n",
    "k"
   ]
  },
  {
   "cell_type": "code",
   "execution_count": null,
   "id": "213d354d-f8de-47d5-8c31-64e602ca1ebd",
   "metadata": {},
   "outputs": [],
   "source": [
    "#lambda function"
   ]
  },
  {
   "cell_type": "code",
   "execution_count": null,
   "id": "2e4e19f1-0b8c-406b-9d7d-b34d655cdd47",
   "metadata": {},
   "outputs": [],
   "source": [
    "#a small anonomyous function which we alternative of the fucntion'\n",
    "#express them in single line\n",
    "#lambda arguments:experssion\n"
   ]
  },
  {
   "cell_type": "code",
   "execution_count": 59,
   "id": "01dd9998-662c-43dd-89dc-144ab7a3be81",
   "metadata": {},
   "outputs": [
    {
     "data": {
      "text/plain": [
       "4"
      ]
     },
     "execution_count": 59,
     "metadata": {},
     "output_type": "execute_result"
    }
   ],
   "source": [
    "x=lambda a:a+2\n",
    "x(2)"
   ]
  },
  {
   "cell_type": "code",
   "execution_count": 67,
   "id": "c3eba8e3-0a21-4dd4-b33f-9918371664f8",
   "metadata": {},
   "outputs": [
    {
     "data": {
      "text/plain": [
       "['APPLE', 'ACT', 'DOG']"
      ]
     },
     "execution_count": 67,
     "metadata": {},
     "output_type": "execute_result"
    }
   ],
   "source": [
    "list_1=[\"apple\",\"act\",\"dog\"]\n",
    "k=map(lambda i:i.upper(),list_1)\n",
    "list(k)"
   ]
  },
  {
   "cell_type": "code",
   "execution_count": 70,
   "id": "9ff11c20-bf83-41f2-b2eb-21f922cd3f40",
   "metadata": {},
   "outputs": [
    {
     "data": {
      "text/plain": [
       "[True, False, True]"
      ]
     },
     "execution_count": 70,
     "metadata": {},
     "output_type": "execute_result"
    }
   ],
   "source": [
    "list_1=[\"apple\",\"act\",\"dog3\"]\n",
    "l=map(lambda i:len(i)>3,list_1)\n",
    "list(l)"
   ]
  },
  {
   "cell_type": "code",
   "execution_count": 71,
   "id": "90bf74cb-ab9a-43df-a909-ef4c521b5d7f",
   "metadata": {},
   "outputs": [
    {
     "data": {
      "text/plain": [
       "['apple', 'dog3']"
      ]
     },
     "execution_count": 71,
     "metadata": {},
     "output_type": "execute_result"
    }
   ],
   "source": [
    "list_1=[\"apple\",\"act\",\"dog3\"]\n",
    "l=filter(lambda i:len(i)>3,list_1)\n",
    "list(l)"
   ]
  },
  {
   "cell_type": "code",
   "execution_count": null,
   "id": "1b77144e-5a63-4006-a6d8-18d5915f0712",
   "metadata": {},
   "outputs": [],
   "source": []
  },
  {
   "cell_type": "code",
   "execution_count": null,
   "id": "2b25dff4-cafb-4f88-a0f0-77ae7ac5611a",
   "metadata": {},
   "outputs": [],
   "source": [
    "#decorators in python"
   ]
  },
  {
   "cell_type": "code",
   "execution_count": null,
   "id": "a8f1f4ff-dd56-4398-9356-7203d3124b34",
   "metadata": {},
   "outputs": [],
   "source": [
    "#decarototra are  functions or special fucntion\n",
    "#modify behaviour of a function without changing the lofic of the code \n",
    "#prechecking before implementing our code \n",
    "#denoted by starts with the @decoratename"
   ]
  },
  {
   "cell_type": "code",
   "execution_count": null,
   "id": "dc19e6bd-2c02-4d00-b281-206214e757d7",
   "metadata": {},
   "outputs": [],
   "source": []
  },
  {
   "cell_type": "code",
   "execution_count": 80,
   "id": "9a042008-ed49-4d46-8e30-f9a619cb0e40",
   "metadata": {},
   "outputs": [
    {
     "name": "stdout",
     "output_type": "stream",
     "text": [
      "plz enter both even numbers\n"
     ]
    }
   ],
   "source": [
    "def even_odd(add):\n",
    "    def inner(a,b):\n",
    "        if a%2==0 and b%2==0:\n",
    "            add(a,b)\n",
    "        else:\n",
    "            print(\"plz enter both even numbers\")\n",
    "    return inner\n",
    "        \n",
    "\n",
    "\n",
    "@even_odd\n",
    "def add(a,b):\n",
    "    return a+b\n",
    "k=add(2,3)\n",
    "k"
   ]
  },
  {
   "cell_type": "code",
   "execution_count": 81,
   "id": "9c2427a4-f012-43ce-b476-c75574c7eb7c",
   "metadata": {},
   "outputs": [
    {
     "name": "stdout",
     "output_type": "stream",
     "text": [
      "Something is happening before the function is called.\n",
      "Hello!\n",
      "Something is happening after the function is called.\n"
     ]
    }
   ],
   "source": [
    "def my_decorator(func):\n",
    "    def wrapper():\n",
    "        print(\"Something is happening before the function is called.\")\n",
    "        func()\n",
    "        print(\"Something is happening after the function is called.\")\n",
    "    return wrapper\n",
    "\n",
    "@my_decorator\n",
    "def say_hello():\n",
    "    print(\"Hello!\")\n",
    "\n",
    "say_hello()\n"
   ]
  },
  {
   "cell_type": "code",
   "execution_count": null,
   "id": "1a919ce0-9f4b-4aaa-9e97-68fbdca4e8a0",
   "metadata": {},
   "outputs": [],
   "source": [
    "#developing the code user regrestion and login using the decorators concept "
   ]
  },
  {
   "cell_type": "code",
   "execution_count": 97,
   "id": "838fce64-6828-476d-bea4-c07d569efb5d",
   "metadata": {},
   "outputs": [
    {
     "name": "stdin",
     "output_type": "stream",
     "text": [
      " w\n",
      " 2\n"
     ]
    },
    {
     "name": "stdout",
     "output_type": "stream",
     "text": [
      "plz do regristation first then login next\n"
     ]
    }
   ],
   "source": [
    "\n",
    "def registartion_process(login):\n",
    "    def inner(a,b):\n",
    "        if a==\"Venkat\" and b==123:\n",
    "            login(a,b)\n",
    "        else:\n",
    "            print(\"plz do regristation first then login next\")\n",
    "    return inner\n",
    "\n",
    "\n",
    "@registartion_process\n",
    "def login(a,b):\n",
    "     print(\"welcome \"+a)\n",
    "\n",
    "\n",
    "a=input()\n",
    "b=int(input())\n",
    "login(a,b)\n"
   ]
  },
  {
   "cell_type": "code",
   "execution_count": null,
   "id": "8e06c700-f458-4775-b701-c16c23133100",
   "metadata": {},
   "outputs": [],
   "source": [
    "#Geneartors in python"
   ]
  },
  {
   "cell_type": "code",
   "execution_count": null,
   "id": "a8114087-0051-45ed-84b0-76c345b8871b",
   "metadata": {},
   "outputs": [],
   "source": [
    "#t o retun mutliple statemnets from the function\n",
    "# in function after return statement the code will, ot work because function will return at the coresspondingly called it\n",
    "# geneartors are used yield keyword\n",
    "#way to create the iterators and load entire sequences into memeory at a time \n",
    "#generator return thing is iterable which we can iterate to it"
   ]
  },
  {
   "cell_type": "code",
   "execution_count": 101,
   "id": "96764de7-a51f-4fa0-8df3-20dc25cb6966",
   "metadata": {},
   "outputs": [
    {
     "data": {
      "text/plain": [
       "'Good evening madam'"
      ]
     },
     "execution_count": 101,
     "metadata": {},
     "output_type": "execute_result"
    }
   ],
   "source": [
    "#normal function vs generators\n",
    "def wish():\n",
    "    return \"Good evening madam\"\n",
    "    return \"hello mam\"                       #print statemnt was never executed in this cases \n",
    "wish()"
   ]
  },
  {
   "cell_type": "code",
   "execution_count": 105,
   "id": "00e036c5-81d1-4451-a7fa-b690baf69a3c",
   "metadata": {},
   "outputs": [
    {
     "name": "stdout",
     "output_type": "stream",
     "text": [
      "Good evening madam\n",
      "hello mam\n"
     ]
    }
   ],
   "source": [
    "#generators\n",
    "def wish():                                     #concept of generatoes \n",
    "    yield \"Good evening madam\"\n",
    "    yield \"hello mam\"\n",
    "k=wish()\n",
    "for i in k:\n",
    "    print(i)"
   ]
  },
  {
   "cell_type": "code",
   "execution_count": null,
   "id": "0138afe9-fc77-43e0-a1fa-563cc4fd2e1a",
   "metadata": {},
   "outputs": [],
   "source": [
    "#assertions\n",
    "assertion are used to check wheteher the logicexpression or condition is true or false\n",
    "if true it will execute rest of the code \n",
    "else it will raise an exception called assertion error"
   ]
  },
  {
   "cell_type": "code",
   "execution_count": 107,
   "id": "aa026f3f-4aa3-449a-b842-98a666cb06a9",
   "metadata": {},
   "outputs": [
    {
     "ename": "AssertionError",
     "evalue": "",
     "output_type": "error",
     "traceback": [
      "\u001b[1;31m---------------------------------------------------------------------------\u001b[0m",
      "\u001b[1;31mAssertionError\u001b[0m                            Traceback (most recent call last)",
      "Cell \u001b[1;32mIn[107], line 2\u001b[0m\n\u001b[0;32m      1\u001b[0m a\u001b[38;5;241m=\u001b[39m\u001b[38;5;241m20\u001b[39m\n\u001b[1;32m----> 2\u001b[0m \u001b[38;5;28;01massert\u001b[39;00m a\u001b[38;5;241m>\u001b[39m\u001b[38;5;241m100\u001b[39m\n\u001b[0;32m      3\u001b[0m \u001b[38;5;28mprint\u001b[39m(\u001b[38;5;124m\"\u001b[39m\u001b[38;5;124myes u r right \u001b[39m\u001b[38;5;124m\"\u001b[39m)\n",
      "\u001b[1;31mAssertionError\u001b[0m: "
     ]
    }
   ],
   "source": [
    "a=20\n",
    "assert a>100\n",
    "print(\"yes u r right \")"
   ]
  },
  {
   "cell_type": "code",
   "execution_count": null,
   "id": "99f2c419-0eae-42f9-bd36-859d25b8b67b",
   "metadata": {},
   "outputs": [],
   "source": [
    "#handle with try except block "
   ]
  },
  {
   "cell_type": "code",
   "execution_count": 112,
   "id": "9c8ac8e7-6938-4ad8-82a0-1ef1c23519a5",
   "metadata": {},
   "outputs": [
    {
     "name": "stdout",
     "output_type": "stream",
     "text": [
      "weloc\n"
     ]
    }
   ],
   "source": [
    "a=20\n",
    "try:\n",
    "    assert a>100\n",
    "    print(\"welcome\")\n",
    "except Exception as e:\n",
    "    print(\"weloc\")"
   ]
  },
  {
   "cell_type": "code",
   "execution_count": null,
   "id": "dd6c4743-9aeb-47b1-9446-369b628dc968",
   "metadata": {},
   "outputs": [],
   "source": [
    "#assertion are python tools help for debugging smooth flow of the code"
   ]
  },
  {
   "cell_type": "code",
   "execution_count": null,
   "id": "c2648cb2-619b-4b63-b2f4-dde6f88d7c3c",
   "metadata": {},
   "outputs": [],
   "source": [
    "#iterator\n",
    "#iterator in the python says that iteration over the different objects like tuple list strings etc....\n",
    "__iter__  used to initalize the iterator\n",
    "__next__ generator the items  in the iterators"
   ]
  },
  {
   "cell_type": "code",
   "execution_count": 115,
   "id": "584b2ed3-364b-4310-b251-c13fcb51bd4f",
   "metadata": {},
   "outputs": [
    {
     "name": "stdout",
     "output_type": "stream",
     "text": [
      "1\n",
      "2\n",
      "3\n"
     ]
    }
   ],
   "source": [
    "a=[1,2,3]\n",
    "b=iter(a)\n",
    "print(next(b))\n",
    "print(next(b))\n",
    "print(next(b))"
   ]
  },
  {
   "cell_type": "code",
   "execution_count": 116,
   "id": "f7436312-40bb-4021-a893-95272e9260bb",
   "metadata": {},
   "outputs": [
    {
     "name": "stdout",
     "output_type": "stream",
     "text": [
      "1\n",
      "2\n",
      "3\n"
     ]
    }
   ],
   "source": [
    "a=[1,2,3]\n",
    "b=iter(a)\n",
    "for i in b:\n",
    "    print(i)"
   ]
  },
  {
   "cell_type": "code",
   "execution_count": null,
   "id": "167239df-2b1c-4382-a6b3-66345f36d7a6",
   "metadata": {},
   "outputs": [],
   "source": [
    "#iterators more memory\n",
    "#generators less memory"
   ]
  },
  {
   "cell_type": "code",
   "execution_count": null,
   "id": "a60b291b-240b-4632-85e1-b6d11283af91",
   "metadata": {},
   "outputs": [],
   "source": [
    "#is vs ==="
   ]
  },
  {
   "cell_type": "code",
   "execution_count": null,
   "id": "26551de8-1b46-414e-9b4e-d5169128ddcb",
   "metadata": {},
   "outputs": [],
   "source": [
    "#is is used to compare the two objects \n",
    "#if two objects referes same thing then return True else False"
   ]
  },
  {
   "cell_type": "code",
   "execution_count": 119,
   "id": "f001ceca-431b-4464-baba-e567dde992ac",
   "metadata": {},
   "outputs": [
    {
     "name": "stdout",
     "output_type": "stream",
     "text": [
      "True\n",
      "False\n"
     ]
    }
   ],
   "source": [
    "a = [1, 2, 3]\n",
    "b = [1, 2, 3]\n",
    "\n",
    "# Using '==' to check for equality\n",
    "print(a == b)  # True (values are the same)\n",
    "\n",
    "# Using 'is' to check for identity\n",
    "print(a is b)  # False (different objects in memory)\n"
   ]
  },
  {
   "cell_type": "code",
   "execution_count": 120,
   "id": "04147592-bec6-4146-b40c-dc9f80ebbec3",
   "metadata": {},
   "outputs": [
    {
     "data": {
      "text/plain": [
       "True"
      ]
     },
     "execution_count": 120,
     "metadata": {},
     "output_type": "execute_result"
    }
   ],
   "source": [
    "#is' may evaluate to True for small integers due to optimization\n",
    "a=10\n",
    "b=10\n",
    "a is b"
   ]
  },
  {
   "cell_type": "code",
   "execution_count": null,
   "id": "27cd3cc4-c6fd-4256-a35f-b81815f58e31",
   "metadata": {},
   "outputs": [],
   "source": [
    "#it's important to note that the is operator checks for object identity, not necessarily equality.\n",
    "#While two objects that are equal will also have the same identity in some cases \n",
    "#(e.g., small integers and certain string literals due to Python's internal optimization), this is not guaranteed"
   ]
  },
  {
   "cell_type": "code",
   "execution_count": null,
   "id": "a4be7315-579a-486e-9604-95e665c116bb",
   "metadata": {},
   "outputs": [],
   "source": [
    "#name__main__ concept in python"
   ]
  },
  {
   "cell_type": "code",
   "execution_count": null,
   "id": "9047db93-f63e-4f6a-8296-299f6ce40e88",
   "metadata": {},
   "outputs": [],
   "source": [
    "__name__ is an variable is set to main says main program is to be executed \n",
    "# only certain part of the code is executed"
   ]
  },
  {
   "cell_type": "code",
   "execution_count": 126,
   "id": "0d296c16-7372-4636-beca-807704d4c4ff",
   "metadata": {},
   "outputs": [
    {
     "name": "stdout",
     "output_type": "stream",
     "text": [
      "hello\n"
     ]
    }
   ],
   "source": [
    "#print(\"welcome\")\n",
    "\n",
    "def main():\n",
    "    print(\"my name is main\")\n",
    "def get():\n",
    "    print(\"hello\")\n",
    "\n",
    "if __name__ == \"__main__\":\n",
    "    #main()\n",
    "    get()\n"
   ]
  },
  {
   "cell_type": "code",
   "execution_count": null,
   "id": "656e83e4-896a-425e-8546-ee2e79f06775",
   "metadata": {},
   "outputs": [],
   "source": [
    "# get function will not exceuted when we import this modile to another files \n",
    "#need to check them"
   ]
  },
  {
   "cell_type": "code",
   "execution_count": null,
   "id": "ee1f48db-0466-42f2-90d9-8671794647aa",
   "metadata": {},
   "outputs": [],
   "source": []
  },
  {
   "cell_type": "code",
   "execution_count": null,
   "id": "fea3db6d-9c5a-4c60-bbac-1421de6d4700",
   "metadata": {},
   "outputs": [],
   "source": [
    "#advance concepts-2\n",
    "1.#picking and unpicking\n",
    "2.#json\n",
    "4.#shallow and deep access\n",
    "5.#memory management in python\n",
    "6.#multithreading concepts\n",
    "7.#regular expression \n",
    "8.#web scrapping concepts"
   ]
  },
  {
   "cell_type": "code",
   "execution_count": null,
   "id": "5ac5f881-3876-4b67-82eb-ba96b6284d5f",
   "metadata": {},
   "outputs": [],
   "source": [
    "\n",
    "# picking and unpickling  concepts in the python...."
   ]
  },
  {
   "cell_type": "code",
   "execution_count": null,
   "id": "d0354792-1d4e-4e4f-82ae-9472c40bf169",
   "metadata": {},
   "outputs": [],
   "source": [
    "#suppose there is a scenariot you have data in the two different servers\n",
    "# let us take an example for better understanding this things...\n",
    "#server-1   we have students names and their grades \n",
    "#server -2   we have schloralship based on the grades \n",
    "# we require that server_1 consists data into server_2 inorder to get scholarship based on their grades\n",
    "# we have to transefer data from app-1 to app-2or server-1 to server-2 \n",
    "#picking comes to picture\n",
    "# pickel file()\n",
    "#picking \n",
    "#it is also known as serialization \n",
    "# which is used to convert python objects into stream bytes(0,1)\n",
    "# stored in a pickel file .pkl\n",
    "#it will take all the student details from the server-1 and store them in the  pickel file\n",
    "#then to use that files in server-2 inorder to grant the scholarships based on the grades\n",
    "#pkl file should converted into object is import\n",
    "#deserialization or unpickiling comes to the picture to do that\n",
    "# it will convert the byte streams into the python objects"
   ]
  },
  {
   "cell_type": "code",
   "execution_count": null,
   "id": "5a0add09-22e8-4396-85dd-392b210daf5f",
   "metadata": {},
   "outputs": [],
   "source": [
    "#methods\n",
    "#dump-------------------objects----to pkl\n",
    "#load---------------------pkl to objects"
   ]
  },
  {
   "cell_type": "code",
   "execution_count": 4,
   "id": "191daadb-c5a5-4a18-af02-64a57c62e744",
   "metadata": {},
   "outputs": [],
   "source": [
    "import pickle                       #we are picking the data files\n",
    "student_1={\"name\":\"venkatesh\",\"Roll_number\":24,\"age\":21,\"grade\":\"A+\"}\n",
    "with open(\"data.pkl\",'wb') as fp:\n",
    "   pickle.dump(student_1,fp)"
   ]
  },
  {
   "cell_type": "code",
   "execution_count": 5,
   "id": "e67b7461-5a61-4df4-97d2-99aa5baad9f6",
   "metadata": {},
   "outputs": [
    {
     "data": {
      "text/plain": [
       "{'name': 'venkatesh', 'Roll_number': 24, 'age': 21, 'grade': 'A+'}"
      ]
     },
     "execution_count": 5,
     "metadata": {},
     "output_type": "execute_result"
    }
   ],
   "source": [
    "import pickle\n",
    "with open(\"data.pkl\",\"rb\") as fp:\n",
    "    loaded_data=pickle.load(fp)                         #we are unpicking the data we can see it \n",
    "loaded_data"
   ]
  },
  {
   "cell_type": "code",
   "execution_count": null,
   "id": "cce6c9ea-2ebe-43b0-aa86-bdc33b96178b",
   "metadata": {},
   "outputs": [],
   "source": []
  },
  {
   "cell_type": "code",
   "execution_count": null,
   "id": "3be2d8cc-b428-4bec-b96d-b85aed9b5d43",
   "metadata": {},
   "outputs": [],
   "source": [
    "#json format"
   ]
  },
  {
   "cell_type": "code",
   "execution_count": null,
   "id": "8698240a-32fb-4fb9-86f6-320dd2e7b529",
   "metadata": {},
   "outputs": [],
   "source": [
    "# json is a data format\n",
    "# it is looks like similar in the ptython dictionaries\n",
    "#json---javascript object notation\n",
    "# which is used to store and transpose the data\n",
    "# many of the programming languages understands the json format\n",
    "# if we write the code in java we convert it json format \n",
    "# that it can easily understand by the python...........\n",
    "#use it to fecth data from apis"
   ]
  },
  {
   "cell_type": "code",
   "execution_count": 6,
   "id": "8fd65866-6250-4ab9-af0a-64ba43e93028",
   "metadata": {},
   "outputs": [
    {
     "data": {
      "text/plain": [
       "'{\"name\": \"Venkatesh\", \"age\": 23, \"Pass\": true}'"
      ]
     },
     "execution_count": 6,
     "metadata": {},
     "output_type": "execute_result"
    }
   ],
   "source": [
    "import json\n",
    "data={\"name\":\"Venkatesh\",\"age\":23,\"Pass\":True}\n",
    "json.dumps(data)\n",
    "#we can see that True-------------------true in json format\n",
    "#we can notice that dumps method converts or formats into the   json string"
   ]
  },
  {
   "cell_type": "code",
   "execution_count": 7,
   "id": "28290083-51d8-42ae-a003-f3422730d213",
   "metadata": {},
   "outputs": [
    {
     "data": {
      "text/plain": [
       "{'name': 'Venkatesh', 'age': 23, 'Pass': True}"
      ]
     },
     "execution_count": 7,
     "metadata": {},
     "output_type": "execute_result"
    }
   ],
   "source": [
    "#to decode that json formated into strings we use loads() function\n",
    "data_1='{\"name\": \"Venkatesh\", \"age\": 23, \"Pass\": true}'\n",
    "json.loads(data_1)"
   ]
  },
  {
   "cell_type": "code",
   "execution_count": null,
   "id": "64cdab05-8a84-441c-9088-a21babe81a74",
   "metadata": {},
   "outputs": [],
   "source": [
    "# it will convert the json formated things into the python dictionary"
   ]
  },
  {
   "cell_type": "code",
   "execution_count": null,
   "id": "f5d9331c-c96c-4681-a2a3-5f1f2652f881",
   "metadata": {},
   "outputs": [],
   "source": [
    "#shallow and deep copy in the python"
   ]
  },
  {
   "cell_type": "code",
   "execution_count": null,
   "id": "10716fbd-8c6c-40cf-9eae-a403c7b88392",
   "metadata": {},
   "outputs": [],
   "source": [
    "#shallow copy which will create the the copy of the object \n",
    "# how ever it will take the reference of the original copy for nested objected like nested lists (list inside a list)\n",
    "#  it means change  in the new copy  effects the old copy \n",
    "#it has reference \n",
    "#deep copy\n",
    "# deep copy will also make the copy of an object \n",
    "# which says that it will have independent completely separately from the original one\n",
    "#change in the new one will not effect the old copy"
   ]
  },
  {
   "cell_type": "code",
   "execution_count": 20,
   "id": "805dde43-5918-44c9-8db5-61cf0caae317",
   "metadata": {},
   "outputs": [
    {
     "data": {
      "text/plain": [
       "[1, 2, 3, ['x', 5]]"
      ]
     },
     "execution_count": 20,
     "metadata": {},
     "output_type": "execute_result"
    }
   ],
   "source": [
    "\n",
    "a=[1,2,3,[4,5]]\n",
    "import copy\n",
    "b=copy.copy(a)\n",
    "b[3][0]=\"x\"\n",
    "a\n"
   ]
  },
  {
   "cell_type": "code",
   "execution_count": 21,
   "id": "611c46dd-e09b-46cf-8fae-cb95b9e8ed48",
   "metadata": {},
   "outputs": [
    {
     "data": {
      "text/plain": [
       "[1, 2, 3, [4, 5]]"
      ]
     },
     "execution_count": 21,
     "metadata": {},
     "output_type": "execute_result"
    }
   ],
   "source": [
    "a=[1,2,3,[4,5]]\n",
    "import copy\n",
    "b=copy.deepcopy(a)\n",
    "b[3][1]=\"x\"                   #not reflecting in the original one\n",
    "a"
   ]
  },
  {
   "cell_type": "code",
   "execution_count": null,
   "id": "7267c4ce-93a1-498a-b954-d1dcf723d1aa",
   "metadata": {},
   "outputs": [],
   "source": [
    "#memeory management"
   ]
  },
  {
   "cell_type": "code",
   "execution_count": null,
   "id": "37be27c9-8b77-494a-8f31-b0ceb3dfa30b",
   "metadata": {},
   "outputs": [],
   "source": [
    "#memory management in the python is completely automatic which says allocation and deallocation is automating\n",
    "#mememory manager-------memory allocation\n",
    "#Garbage collector-----------memory deallocation\n",
    "#we can have the two memory\n",
    "#stack and heap memories\n",
    "#stack\n",
    "#which variables and functions names are preset\n",
    "# static memory\n",
    "# direct access\n",
    "# heap memory\n",
    "# heap memory which has the values\n",
    "#no direct access\n",
    "# dynamic memory\n",
    "\n",
    "x=10\n",
    "# x---stack and y=heap\n",
    "\n",
    "# how the dealloction happens in the memory\n",
    "# methods we have\n",
    "# reference counting\n",
    "# in the reference counting method \n",
    "# we will mainatin the count the same object which is referred to different variables \n",
    "#x=10\n",
    "#y=10              #referenc_count=3\n",
    "#z=10\n",
    "# x=20            # reference_count=2\n",
    "#y=40             # reference_count=1\n",
    "#z=89             # reference_count=0....\n",
    "#when the refernece count =0 then the object is deleted from the memeory\n",
    "#takes large memory space"
   ]
  },
  {
   "cell_type": "code",
   "execution_count": null,
   "id": "4df14274-7462-4794-ad39-3cb612a71ba6",
   "metadata": {},
   "outputs": [],
   "source": [
    "# multi tasking vs multithreading in the python"
   ]
  },
  {
   "cell_type": "code",
   "execution_count": null,
   "id": "49fe6d61-895a-4a4c-b9b5-532d05877390",
   "metadata": {},
   "outputs": [],
   "source": [
    "#multi tasking in the python\n",
    "#excueting the multiple tasks at a time \n",
    "# multi-tasking which is\n",
    "#process based multitaking\n",
    "#it is os-based level\n",
    "#multiple process excute at a time\n",
    "\n",
    "\n",
    "#thread  based multitasking\n",
    "#programmatic-based level\n",
    "#multiple threads execute at a time\n",
    "\n",
    "\n",
    "#thread --- a- light weight program\n",
    "#threads are used os objects which is used to perfom a certain tasks\n",
    "#threads are part of process\n",
    "#process is divided into certain threads\n",
    "#advantages\n",
    "#increse effieciency\n",
    "#performance\n",
    "#reduce response time\n",
    "#speed is increasng # multiple tasks run at a time\n",
    "\n",
    "\n",
    "\n",
    "\n",
    "\n"
   ]
  },
  {
   "cell_type": "code",
   "execution_count": 21,
   "id": "a637c750-534d-4d4a-be14-54e25270dd20",
   "metadata": {},
   "outputs": [
    {
     "name": "stdout",
     "output_type": "stream",
     "text": [
      "<_MainThread(MainThread, started 10428)>\n",
      "6\n",
      "10428\n"
     ]
    }
   ],
   "source": [
    "#main thread \n",
    "#python intrepreterwill make os request to create the main thread\n",
    "#  any process will have deafult thread the will have one thread is called default thread\n",
    "# it is created by pvm(intrepreter)\n",
    "# thread objects are created from Thread() class\n",
    "import threading \n",
    "print(threading.current_thread())  #name of the thread and id\n",
    "print(threading.active_count())\n",
    "print(threading.get_ident())            #id we get"
   ]
  },
  {
   "cell_type": "code",
   "execution_count": null,
   "id": "97a0f587-96d7-4d04-bd2e-38ce57efe95f",
   "metadata": {},
   "outputs": [],
   "source": [
    "#creation of threads\n",
    "#creating the threads by two ways\n",
    "#by extending thread class\n",
    "#importing thread from threading module"
   ]
  },
  {
   "cell_type": "code",
   "execution_count": 65,
   "id": "78f0ce81-ee08-4caa-98be-91eac79f67e0",
   "metadata": {},
   "outputs": [],
   "source": [
    "#   step-1: importing the threading  module from thread\n",
    "from threading import Thread\n",
    "#  step-2 :create a function or block of code which u want to run parellely\n",
    "def greetings(a,b):\n",
    "    print(a*b)\n",
    "#step-3 create a thread object \n",
    "my_thread=Thread(target=greetings,args=(2,\"venkat\"))   #main thread is parent thread used to create threads    # 1 thread \n",
    "#step-4: start your thread \n",
    "my_thread.start()   # 2 threads \n",
    "\n",
    "#step 1-3 u have 1 thread\n",
    "# step 4: 2 threads\n"
   ]
  },
  {
   "cell_type": "code",
   "execution_count": null,
   "id": "1b88760e-a20b-4ff7-8a8f-09c763123d5e",
   "metadata": {},
   "outputs": [],
   "source": [
    "#creating threads for the  instance methods\n",
    "#creating the threads for the class methods\n",
    "#creating threads for the static methods"
   ]
  },
  {
   "cell_type": "code",
   "execution_count": 6,
   "id": "bb42d115-d8cb-442e-8dd3-fec8935907e4",
   "metadata": {},
   "outputs": [
    {
     "name": "stdout",
     "output_type": "stream",
     "text": [
      "hi students good morning every one\n"
     ]
    }
   ],
   "source": [
    "from threading import Thread\n",
    "class welcome:\n",
    "    def greet(self):\n",
    "        print(\"hi students good morning every one\")\n",
    "w1=welcome()                                                      #instance methods\n",
    "my_thread=Thread(target=w1.greet())"
   ]
  },
  {
   "cell_type": "code",
   "execution_count": 8,
   "id": "280be89e-a093-4aaa-9811-9a41aaf292de",
   "metadata": {},
   "outputs": [
    {
     "name": "stdout",
     "output_type": "stream",
     "text": [
      "name is the game\n"
     ]
    }
   ],
   "source": [
    "#class methods\n",
    "from threading import Thread\n",
    "class hello:\n",
    "    @classmethod\n",
    "    def sol(cls):\n",
    "        print(\"name is the game\")\n",
    "my_thread=Thread(target=hello.sol())"
   ]
  },
  {
   "cell_type": "code",
   "execution_count": 9,
   "id": "a2bb33c9-6107-4fbe-bd09-2966303b7272",
   "metadata": {},
   "outputs": [
    {
     "name": "stdout",
     "output_type": "stream",
     "text": [
      "i am static make more sense about the functions i am not using and class attrinutes are instance attributes\n"
     ]
    }
   ],
   "source": [
    "#static methods\n",
    "from threading import Thread\n",
    "class greet:\n",
    "    @staticmethod\n",
    "    def sol():\n",
    "        print(\"i am static make more sense about the functions i am not using and class attrinutes are instance attributes\")\n",
    "my_thread=Thread(target=greet.sol())"
   ]
  },
  {
   "cell_type": "code",
   "execution_count": null,
   "id": "fc5ade2f-0c7a-451e-8a60-920cf27c55ee",
   "metadata": {},
   "outputs": [],
   "source": [
    "#method_2:"
   ]
  },
  {
   "cell_type": "code",
   "execution_count": null,
   "id": "3e955143-0ab5-4e70-91e2-7c66d58a471c",
   "metadata": {},
   "outputs": [],
   "source": [
    "# by extending Thread class"
   ]
  },
  {
   "cell_type": "code",
   "execution_count": 26,
   "id": "7d08b22a-fa12-445b-a50a-8bbfe2a0c884",
   "metadata": {},
   "outputs": [
    {
     "name": "stdout",
     "output_type": "stream",
     "text": [
      "hwllo\n",
      "welcome\n"
     ]
    }
   ],
   "source": [
    "from threading import Thread\n",
    "class my_thread(Thread):\n",
    "    def get(self):\n",
    "        print(\"hwllo\")\n",
    "    def run(self):  #run method  which will excute your code  when you create  it in a new method and start it it will be invoked \n",
    "        self.get()\n",
    "        print(\"welcome\")\n",
    "s=my_thread()\n",
    "s.start()"
   ]
  },
  {
   "cell_type": "code",
   "execution_count": null,
   "id": "70f4702a-4695-4569-9404-5b1fed3b3bc3",
   "metadata": {},
   "outputs": [],
   "source": [
    "n Python's threading module, the Thread class has a run method that you can override in your custom thread class.\n",
    "When you create an instance of your custom thread class and call the start method, \n",
    "it internally invokes the run method in a new thread of execution.\n"
   ]
  },
  {
   "cell_type": "code",
   "execution_count": null,
   "id": "75cbbb19-8a28-4ec3-94d2-39a723e96891",
   "metadata": {},
   "outputs": [],
   "source": [
    "#threading names\n",
    "#every thread has the unique names\n",
    "#Thread-[%d]\n",
    "# Thread-1\n",
    "#Thread-2\n"
   ]
  },
  {
   "cell_type": "code",
   "execution_count": 42,
   "id": "b99551d2-0adf-4f32-92c6-cee752acc384",
   "metadata": {},
   "outputs": [
    {
     "name": "stdout",
     "output_type": "stream",
     "text": [
      "welcome 1\n",
      "welcome 2\n",
      "welcome 3\n",
      "venkat\n",
      "Thread-64\n",
      "Thread-65\n",
      "15596\n",
      "15596\n"
     ]
    }
   ],
   "source": [
    "#naming the threads let us check by writting the some code\n",
    "from threading import Thread,current_thread\n",
    "def std1():\n",
    "    print(\"welcome 1\")\n",
    "def std2():\n",
    "    print(\"welcome 2\")\n",
    "def std3():\n",
    "    print(\"welcome 3\")\n",
    "a=Thread(target=std1())\n",
    "b=Thread(target=std2())\n",
    "c=Thread(target=std3())\n",
    "a.start()\n",
    "b.start()\n",
    "c.start()\n",
    "a.name=\"venkat\"\n",
    "print(a.name)\n",
    "print(b.name)\n",
    "print(c.name)\n",
    "print(a.ident)   # same    n python process\n",
    "print(a.native_id)# same    # os\n"
   ]
  },
  {
   "cell_type": "code",
   "execution_count": 35,
   "id": "121546bd-6085-4ba5-8f63-e347b934a667",
   "metadata": {},
   "outputs": [],
   "source": [
    "#thread identifiers\n",
    "#- each thread has a unique id within a python process\n",
    "#assigned by python interpreter\n",
    "#read only positive integers \n",
    "#stored in instance variables\n",
    "#Native identifiers\n",
    "#each thread as the unique identifier assigned by the os\n",
    "# after thread as started values are started \n",
    "#ident and native_id are same but differ\n",
    "# PID   processs \n",
    "# os.getpid()\n"
   ]
  },
  {
   "cell_type": "code",
   "execution_count": null,
   "id": "2f8a2d4a-fddd-4039-b867-fbfe201b8d0b",
   "metadata": {},
   "outputs": [],
   "source": [
    "#5 built-in functions in python\n",
    "#is_alive()      check thread is running or not\n",
    "#main_thread()   return the details of main thread\n",
    "#active_count()   number of running threads  \n",
    "#enumerate()      list of all running threads\n",
    "# get_native_id()  "
   ]
  },
  {
   "cell_type": "code",
   "execution_count": 58,
   "id": "430c9739-226d-4870-8e47-0243aca87c12",
   "metadata": {},
   "outputs": [
    {
     "name": "stdout",
     "output_type": "stream",
     "text": [
      "10428\n",
      "<_MainThread(MainThread, started 10428)>\n",
      "helloworld\n",
      "False\n",
      "False\n",
      "6\n",
      "[<_MainThread(MainThread, started 10428)>, <Thread(IOPub, started daemon 15264)>, <Heartbeat(Heartbeat, started daemon 8300)>, <ControlThread(Control, started daemon 5232)>, <HistorySavingThread(IPythonHistorySavingThread, started 1344)>, <ParentPollerWindows(Thread-4, started daemon 4640)>]\n",
      "10428\n"
     ]
    }
   ],
   "source": [
    "from threading import Thread,active_count,enumerate,get_native_id,main_thread\n",
    "def hello():\n",
    "    print(get_native_id())\n",
    "    print(main_thread())\n",
    "    print(\"helloworld\")\n",
    "T1=Thread(target=hello())\n",
    "print(T1.is_alive())\n",
    "T1.start()\n",
    "print(T1.is_alive())\n",
    "print(active_count())\n",
    "print(enumerate())\n",
    "print(get_native_id())"
   ]
  },
  {
   "cell_type": "code",
   "execution_count": 72,
   "id": "ef2003a5-3d70-4dbc-a6d9-c9d1bda29015",
   "metadata": {},
   "outputs": [
    {
     "name": "stdout",
     "output_type": "stream",
     "text": [
      "False\n",
      "welcome\n",
      "False\n"
     ]
    }
   ],
   "source": [
    "from threading import Thread\n",
    "def display():\n",
    "    print(\"welcome\")\n",
    "my_1=Thread(target=display)\n",
    "print(my_1.is_alive())\n",
    "my_1.start()\n",
    "print(my_1.is_alive())"
   ]
  },
  {
   "cell_type": "code",
   "execution_count": null,
   "id": "dffd60cf-d806-4d3c-ad90-a0b7a83281a9",
   "metadata": {},
   "outputs": [],
   "source": [
    "#join method in "
   ]
  },
  {
   "cell_type": "code",
   "execution_count": null,
   "id": "cbd76a54-8203-4225-b676-d25d41a25b63",
   "metadata": {},
   "outputs": [],
   "source": [
    "#if we want to wiat for some other thread we should go for join() method"
   ]
  },
  {
   "cell_type": "code",
   "execution_count": null,
   "id": "6959a0c4-855b-4b29-90e2-6dd479801e3b",
   "metadata": {},
   "outputs": [],
   "source": [
    "#let us understand the scenario of ypu tube video upload  and notifications "
   ]
  },
  {
   "cell_type": "code",
   "execution_count": 74,
   "id": "63ab734a-c9db-45bb-ad7a-a354719ba65f",
   "metadata": {},
   "outputs": [
    {
     "name": "stdout",
     "output_type": "stream",
     "text": [
      "uploading started.....\n",
      "sending the notifications sucessfully......\n",
      "video is uploaded\n"
     ]
    }
   ],
   "source": [
    "from threading import Thread\n",
    "from time import sleep\n",
    "def video():\n",
    "    print(\"uploading started.....\")\n",
    "    sleep(0.1)\n",
    "    print(\"video is uploaded\")\n",
    "def notification():\n",
    "    print(\"sending the notifications sucessfully......\")\n",
    "T1=Thread(target=video)\n",
    "T2=Thread(target=notification)\n",
    "T1.start()\n",
    "T2.start()\n",
    "     "
   ]
  },
  {
   "cell_type": "code",
   "execution_count": null,
   "id": "6679511a-b0d7-4318-a5f5-af62d82aa410",
   "metadata": {},
   "outputs": [],
   "source": [
    "# in this case with out uploading the video uploaded the sending notification is done\n",
    "# so we should use the join() method to avoid this issuses "
   ]
  },
  {
   "cell_type": "code",
   "execution_count": 75,
   "id": "b8a421bc-455c-4ff5-af27-ce41da409ad8",
   "metadata": {},
   "outputs": [
    {
     "name": "stdout",
     "output_type": "stream",
     "text": [
      "uploading started.....\n",
      "video is uploaded\n",
      "sending the notifications sucessfully......\n"
     ]
    }
   ],
   "source": [
    "from threading import Thread\n",
    "from time import sleep\n",
    "def video():\n",
    "    print(\"uploading started.....\")\n",
    "    sleep(0.1)\n",
    "    print(\"video is uploaded\")\n",
    "def notification():\n",
    "    print(\"sending the notifications sucessfully......\")\n",
    "T1=Thread(target=video)\n",
    "T2=Thread(target=notification)\n",
    "T1.start()\n",
    "T1.join()\n",
    "T2.start()\n",
    "     "
   ]
  },
  {
   "cell_type": "code",
   "execution_count": null,
   "id": "0d81fb33-0f3f-477e-9d88-1e883b994c95",
   "metadata": {},
   "outputs": [],
   "source": [
    "#time.time exceution times multithreading......................."
   ]
  },
  {
   "cell_type": "code",
   "execution_count": 88,
   "id": "0ffb23e7-38c7-467b-99eb-2c90f1e358c8",
   "metadata": {},
   "outputs": [
    {
     "name": "stdout",
     "output_type": "stream",
     "text": [
      "sqaure\n",
      "9\n",
      "sqaure\n",
      "16\n"
     ]
    },
    {
     "data": {
      "text/plain": [
       "0.20377373695373535"
      ]
     },
     "execution_count": 88,
     "metadata": {},
     "output_type": "execute_result"
    }
   ],
   "source": [
    "import time\n",
    "from time import sleep\n",
    "def square(a):\n",
    "    print(\"sqaure\")\n",
    "    sleep(0.1)\n",
    "    print(a*a)\n",
    "def square1(a):\n",
    "    print(\"sqaure\")\n",
    "    sleep(0.1)\n",
    "    print(a*a)\n",
    "begin=time.time()\n",
    "square(3)\n",
    "square1(4)\n",
    "time.time()-begin"
   ]
  },
  {
   "cell_type": "code",
   "execution_count": 91,
   "id": "4dd8085f-8f10-4e00-8391-86740fdc58d5",
   "metadata": {},
   "outputs": [
    {
     "name": "stdout",
     "output_type": "stream",
     "text": [
      "square\n",
      "square\n",
      "9\n",
      "9\n"
     ]
    },
    {
     "data": {
      "text/plain": [
       "0.10846900939941406"
      ]
     },
     "execution_count": 91,
     "metadata": {},
     "output_type": "execute_result"
    }
   ],
   "source": [
    "from threading import Thread\n",
    "import time\n",
    "from time import sleep\n",
    "def square(a):\n",
    "    print(\"square\")\n",
    "    sleep(0.1)\n",
    "    print(a*a)\n",
    "def square1(a):\n",
    "    print(\"square\")\n",
    "    sleep(0.1)\n",
    "    print(a*a)\n",
    "begin=time.time()\n",
    "T1=Thread(target=square,args=(3,))\n",
    "T2=Thread(target=square1,args=(3,))\n",
    "T1.start()\n",
    "T2.start()\n",
    "T1.join()\n",
    "T2.join()\n",
    "time.time()-begin"
   ]
  },
  {
   "cell_type": "code",
   "execution_count": null,
   "id": "ff44aa3b-4e70-462f-a23f-1c4ccd0c91d5",
   "metadata": {},
   "outputs": [],
   "source": [
    "#important concepts in threading\n",
    "#race condition\n",
    "#critical section\n",
    "#locks\n",
    "#rlocks\n",
    "#semaphores\n",
    "#exception handling in threads concept"
   ]
  },
  {
   "cell_type": "code",
   "execution_count": null,
   "id": "d9fe68af-3d81-49f8-beb7-1d2f4833ae45",
   "metadata": {},
   "outputs": [],
   "source": [
    "#race condition\n",
    "#race condition when  two threads are try to update same variable it will give some disered results\n",
    "x=10\n",
    "t1=x+20                  # x==30\n",
    "t2=x+30 #thread-2 updated x ==40"
   ]
  },
  {
   "cell_type": "code",
   "execution_count": null,
   "id": "0925b3fa-34ab-4857-b073-ef8314329a5a",
   "metadata": {},
   "outputs": [],
   "source": [
    "#we will see some scenario to understand the multithreading...concepts"
   ]
  },
  {
   "cell_type": "code",
   "execution_count": 101,
   "id": "28960cc2-f464-443c-a883-a25423247491",
   "metadata": {},
   "outputs": [
    {
     "name": "stdout",
     "output_type": "stream",
     "text": [
      "you are sucessfully booked it.....you are sucessfully booked it.....\n",
      "\n"
     ]
    }
   ],
   "source": [
    "from threading import Thread\n",
    "class booking:\n",
    "    def __init__(self,seats):\n",
    "        self.seats=seats\n",
    "    def purchasing(self,ava_seats):\n",
    "        if ava_seats<=self.seats:\n",
    "            print(\"you are sucessfully booked it.....\")\n",
    "            self.seats-=ava_seats\n",
    "        else:\n",
    "            print(\"sorry u have no seats to available..........\")\n",
    "total=booking(2)\n",
    "pass1=Thread(target=total.purchasing,args=(1,))\n",
    "pass2=Thread(target=total.purchasing,args=(2,))             #probllem race condition \n",
    "#pass3=Thread(target=total.purchasing,args=(1,))\n",
    "pass1.start()\n",
    "pass2.start()\n",
    "#pass3.start()"
   ]
  },
  {
   "cell_type": "code",
   "execution_count": null,
   "id": "bf9501ac-afc7-4e82-b981-a1f2345eacc3",
   "metadata": {},
   "outputs": [],
   "source": [
    "#this scenario we have to avoid the  race conditions \n",
    "#critical section was introducted\n",
    "#critical section same part of the code will not exceute by using the lock mechanism \n",
    "#allowing only one thread to communicate with the code\n",
    "#locking is introduced to avoid this scenario\n",
    "#lock\n",
    "#r-lock\n",
    "#semaphores"
   ]
  },
  {
   "cell_type": "code",
   "execution_count": null,
   "id": "e64b6a6c-f28d-4a6e-a86b-50090539a113",
   "metadata": {},
   "outputs": [],
   "source": [
    "A critical section is a part of the code where a thread accesses shared resources or variables.\n",
    "Only one thread is allowed to execute the critical section at any given time to prevent race conditions."
   ]
  },
  {
   "cell_type": "code",
   "execution_count": 119,
   "id": "d084aff2-0533-4011-9239-b2eff3ff7ac9",
   "metadata": {},
   "outputs": [
    {
     "name": "stdout",
     "output_type": "stream",
     "text": [
      "helloworld\n",
      "helloworld\n",
      "helloworld\n",
      "helloworld\n",
      "helloworld\n",
      "welcome\n",
      "welcome\n",
      "welcome\n",
      "welcome\n",
      "welcome\n"
     ]
    }
   ],
   "source": [
    "#locking steps\n",
    "#creeate a lock object for lock class\n",
    "from threading import Lock\n",
    "from time import sleep\n",
    "mylock=Lock()\n",
    "def greetings(mylock,msg):\n",
    "    mylock.acquire()\n",
    "    for i in range(5):\n",
    "        print(msg)\n",
    "    sleep(2)\n",
    "    mylock.release()\n",
    "t1=Thread(target=greetings,args=(mylock,\"helloworld\"))\n",
    "t2=Thread(target=greetings,args=(mylock,\"welcome\"))\n",
    "t1.start()\n",
    "t2.start()"
   ]
  },
  {
   "cell_type": "code",
   "execution_count": null,
   "id": "b577d364-fdd2-410c-a37a-bc210152f5cb",
   "metadata": {},
   "outputs": [],
   "source": [
    "#lock using the bus problem which we done"
   ]
  },
  {
   "cell_type": "code",
   "execution_count": 131,
   "id": "dae25c12-d311-4bf0-99aa-ea78cdcb19a1",
   "metadata": {},
   "outputs": [
    {
     "name": "stdout",
     "output_type": "stream",
     "text": [
      "you are sucessfully booked it.....\n",
      "sorry u have no seats to available..........\n"
     ]
    }
   ],
   "source": [
    "from threading import *\n",
    "my_lock=Lock()\n",
    "class booking:\n",
    "    def __init__(self,seats,l):\n",
    "        self.seats=seats\n",
    "        self.l=l\n",
    "    def purchasing(self,ava_seats,my_lock):\n",
    "        my_lock.acquire()\n",
    "        if ava_seats<=self.seats:\n",
    "            print(\"you are sucessfully booked it.....\")\n",
    "            self.seats-=ava_seats\n",
    "        else:\n",
    "            print(\"sorry u have no seats to available..........\")\n",
    "        my_lock.release()\n",
    "total=booking(2,my_lock)\n",
    "pass1=Thread(target=total.purchasing,args=(1,my_lock))\n",
    "pass2=Thread(target=total.purchasing,args=(2,my_lock))             #probllem race condition \n",
    "#pass3=Thread(target=total.purchasing,args=(1,))\n",
    "pass1.start()\n",
    "pass2.start()"
   ]
  },
  {
   "cell_type": "code",
   "execution_count": null,
   "id": "9ff95327-d76c-45e1-a4ae-c5540f1d5682",
   "metadata": {},
   "outputs": [],
   "source": [
    "#using rlock  it has info of running threads where lock cannot\n"
   ]
  },
  {
   "cell_type": "code",
   "execution_count": null,
   "id": "97b521a2-4593-449b-8663-3be1fa7810de",
   "metadata": {},
   "outputs": [],
   "source": [
    "#youn cannot acquire multiple times lock\n",
    "#rlock is just modifyed of lock\n",
    "#your program will be stucked when you use multiple times lock...."
   ]
  },
  {
   "cell_type": "code",
   "execution_count": null,
   "id": "aca6e4f5-ddf1-4db6-9d2c-51bc58876e40",
   "metadata": {},
   "outputs": [],
   "source": [
    "#step-1 \n",
    "from threading import *\n"
   ]
  },
  {
   "cell_type": "code",
   "execution_count": 133,
   "id": "16f76dc3-163e-4bb1-95b3-87a679de075d",
   "metadata": {},
   "outputs": [],
   "source": [
    "#draw back of lock\n",
    "from threading import *\n",
    "my_lock=Lock()\n",
    "class booking:\n",
    "    def __init__(self,seats,l):\n",
    "        self.seats=seats\n",
    "        self.l=l\n",
    "    def purchasing(self,ava_seats,my_lock):\n",
    "        my_lock.acquire()\n",
    "        my_lock.acquire()\n",
    "        if ava_seats<=self.seats:\n",
    "            print(\"you are sucessfully booked it.....\")\n",
    "            self.seats-=ava_seats\n",
    "        else:\n",
    "            print(\"sorry u have no seats to available..........\")\n",
    "        my_lock.release()\n",
    "        my_lock.release()\n",
    "total=booking(2,my_lock)\n",
    "pass1=Thread(target=total.purchasing,args=(1,my_lock))\n",
    "pass2=Thread(target=total.purchasing,args=(2,my_lock))             #probllem race condition \n",
    "#pass3=Thread(target=total.purchasing,args=(1,))\n",
    "pass1.start()\n",
    "pass2.start()"
   ]
  },
  {
   "cell_type": "code",
   "execution_count": null,
   "id": "5e50ec60-9c42-463a-83d7-809e5634399a",
   "metadata": {},
   "outputs": [],
   "source": [
    "#solution with rlock"
   ]
  },
  {
   "cell_type": "code",
   "execution_count": 134,
   "id": "7c8bc818-fcf9-48c5-bdc4-5852d6845645",
   "metadata": {},
   "outputs": [
    {
     "name": "stdout",
     "output_type": "stream",
     "text": [
      "you are sucessfully booked it.....\n",
      "sorry u have no seats to available..........\n"
     ]
    }
   ],
   "source": [
    "from threading import *\n",
    "my_lock=RLock()\n",
    "class booking:\n",
    "    def __init__(self,seats,l):\n",
    "        self.seats=seats\n",
    "        self.l=l\n",
    "    def purchasing(self,ava_seats,my_lock):\n",
    "        my_lock.acquire()\n",
    "        my_lock.acquire()\n",
    "        if ava_seats<=self.seats:\n",
    "            print(\"you are sucessfully booked it.....\")\n",
    "            self.seats-=ava_seats\n",
    "        else:\n",
    "            print(\"sorry u have no seats to available..........\")\n",
    "        my_lock.release()\n",
    "        my_lock.release()\n",
    "total=booking(2,my_lock)\n",
    "pass1=Thread(target=total.purchasing,args=(1,my_lock))\n",
    "pass2=Thread(target=total.purchasing,args=(2,my_lock))             #probllem race condition \n",
    "#pass3=Thread(target=total.purchasing,args=(1,))\n",
    "pass1.start()\n",
    "pass2.start()"
   ]
  },
  {
   "cell_type": "code",
   "execution_count": null,
   "id": "94aed21f-941f-4c06-b541-0b0eee76f609",
   "metadata": {},
   "outputs": [],
   "source": [
    "#need of r-lock\n",
    "#why we use r-lock multiple times"
   ]
  },
  {
   "cell_type": "code",
   "execution_count": null,
   "id": "cc1cdc5d-679c-487a-b34a-fffab48f96e0",
   "metadata": {},
   "outputs": [],
   "source": [
    "#need of r-lock\n",
    "#suppose your friend has developed the code \n",
    "# two parts\n",
    "#you are developed the main() function of code\n",
    "#you dont know that your friend is used acquire and release  let us assume that taht code is 4 line and your code is in 1000 line so \n",
    "# you think that to avoid race condituon you put lock\n",
    "#but while yoyr friend is writing code he has putten lock acquire and release \n",
    "# so you cannot see that \n",
    "#lock cannot work in this situation\n",
    "#so r lock is required in this sceanrio\n"
   ]
  },
  {
   "cell_type": "code",
   "execution_count": 136,
   "id": "287d6353-09ec-4e85-8c23-ea96ef245433",
   "metadata": {},
   "outputs": [],
   "source": [
    "#problem with lock function\n",
    "from threading import *\n",
    "my_lock=Lock()\n",
    "def first_line():\n",
    "    my_lock.acquire()                 #code by your friend\n",
    "    print(\"welcome\")\n",
    "    my_lock.release90\n",
    "def second_line():\n",
    "    my_lock.acquire()\n",
    "    print(\"good morning\")           #code by your friend\n",
    "    my_lock.release()\n",
    "def execute():\n",
    "    my_lock.acquire()\n",
    "    first_line()                    #you developed code\n",
    "    second_line\n",
    "    my_lock.release()\n",
    "t1=Thread(target=execute)\n",
    "t1.start()                              #the program will not work due to rlock"
   ]
  },
  {
   "cell_type": "code",
   "execution_count": null,
   "id": "257aae1c-06a1-43e0-8cac-3bb9b4287cbb",
   "metadata": {},
   "outputs": [],
   "source": [
    "#solution with the rlock"
   ]
  },
  {
   "cell_type": "code",
   "execution_count": 139,
   "id": "09f06064-7918-42b7-b057-40dfb6f79758",
   "metadata": {},
   "outputs": [
    {
     "name": "stdout",
     "output_type": "stream",
     "text": [
      "welcome\n",
      "good morning\n"
     ]
    }
   ],
   "source": [
    "from threading import *\n",
    "my_lock=RLock()\n",
    "def first_line():\n",
    "    my_lock.acquire()                 #code by your friend\n",
    "    print(\"welcome\")\n",
    "    my_lock.release()\n",
    "def second_line():\n",
    "    my_lock.acquire()\n",
    "    print(\"good morning\")           #code by your friend\n",
    "    my_lock.release()\n",
    "def execute():\n",
    "    my_lock.acquire()\n",
    "    first_line()                    #you developed code\n",
    "    second_line()\n",
    "    my_lock.release()\n",
    "t1=Thread(target=execute)\n",
    "t1.start()                              #the program will not work due to rlock"
   ]
  },
  {
   "cell_type": "code",
   "execution_count": null,
   "id": "801ed6ea-f8fd-40fa-82e4-c2483b9e0ed1",
   "metadata": {},
   "outputs": [],
   "source": [
    "#semaphores concept \n",
    "#exception handling in threads concept\n",
    "#thread life cycle\n",
    "#deamon threads in python"
   ]
  },
  {
   "cell_type": "code",
   "execution_count": null,
   "id": "92c2fae5-a6b2-413f-99b2-8acb0835f59f",
   "metadata": {},
   "outputs": [],
   "source": [
    "#avoid race condition\n",
    "#thread synchronization techniques\n",
    "#lock\n",
    "#rlock\n",
    "#semaphore\n",
    "#in a lock and rloxk at a time only one Thread is allowed to excute\n",
    "#but sometimes our requirements is to execute a particular number of Threads at a time\n",
    "#example\n",
    "#result website   100 limit   use semaphore at a time 100 students are used\n",
    "#std-1\n",
    "#std-2\n",
    "#std-3"
   ]
  },
  {
   "cell_type": "code",
   "execution_count": null,
   "id": "08588f4c-61b4-4118-87c0-bebccff8b6a5",
   "metadata": {},
   "outputs": [],
   "source": [
    "#semaphore used to limit the access to the shared resources with limited capacity"
   ]
  },
  {
   "cell_type": "code",
   "execution_count": null,
   "id": "c92ccb39-4782-4bb1-9be5-1e5f2329d65b",
   "metadata": {},
   "outputs": [],
   "source": [
    "#steps\n",
    "#create object of semaphore class\n",
    "#acquire lock\n",
    "#release lock\n",
    "#initialize the counter internal counter \n",
    "#counter enter or acquire the counter will decrease by 1\n",
    "# count release the relase the lock increase by 1\n",
    "# assume 3  three threads go to critical sections \n",
    "# then couter by zero no other threads are allowed\n",
    "# after completed one thread it will release and counter increased by 1\n"
   ]
  },
  {
   "cell_type": "code",
   "execution_count": null,
   "id": "3e9bac9e-fa5f-4039-8ea8-687842a59ed6",
   "metadata": {},
   "outputs": [],
   "source": [
    "from threading import  Thread,Semaphore\n",
    "import time\n",
    "obj=Semaphore(3)\n",
    "def display(name):\n",
    "    obj.acquire()\n",
    "    for i in range(3):\n",
    "        print(\"hello world\")\n",
    "        print(name)\n",
    "        time.sleep(3)\n",
    "    obj.release()\n",
    "t1=Thread(target=\"display\",args=(\"Thread-1\",))\n",
    "t2=Thread(target=\"display\",args=(\"Thread-2\",))\n",
    "t3=Thread(target=\"display\",args=(\"Thread-3\",))\n",
    "t4=Thread(target=\"display\",args=(\"Thread-4\",))\n",
    "t5=Thread(target=\"display\",args=(\"Thread-5\",))\n",
    "t1.start()"
   ]
  },
  {
   "cell_type": "code",
   "execution_count": null,
   "id": "9b497a65-6499-4a91-9bee-b8fb1e4be239",
   "metadata": {},
   "outputs": [],
   "source": [
    "# exceptions in multithreading"
   ]
  },
  {
   "cell_type": "code",
   "execution_count": null,
   "id": "e0348467-ead8-47f6-89dc-cc7e96944447",
   "metadata": {},
   "outputs": [],
   "source": [
    "#interview question\n",
    "#what happens when exception occur in one threas?will it impact other threads"
   ]
  },
  {
   "cell_type": "code",
   "execution_count": null,
   "id": "f7c6b973-1c9a-47dc-aba1-0a8b1bbc9bf1",
   "metadata": {},
   "outputs": [],
   "source": [
    "# sol: \n",
    "# there is no impact on other threads\n",
    "# others threads do their work independently\n",
    "# "
   ]
  },
  {
   "cell_type": "code",
   "execution_count": 24,
   "id": "7046bb9c-4354-4cb2-b648-7dcf978f6cef",
   "metadata": {},
   "outputs": [
    {
     "name": "stderr",
     "output_type": "stream",
     "text": [
      "Exception in threading.excepthook:\n"
     ]
    },
    {
     "name": "stdout",
     "output_type": "stream",
     "text": [
      "Enter\n",
      "Enter\n",
      "Enter\n"
     ]
    },
    {
     "ename": "TypeError",
     "evalue": "'_MainThread' object is not callable",
     "output_type": "error",
     "traceback": [
      "\u001b[1;31m---------------------------------------------------------------------------\u001b[0m",
      "\u001b[1;31mTypeError\u001b[0m                                 Traceback (most recent call last)",
      "File \u001b[1;32m~\\AppData\\Local\\Programs\\Python\\Python311\\Lib\\threading.py:1342\u001b[0m, in \u001b[0;36m_make_invoke_excepthook.<locals>.invoke_excepthook\u001b[1;34m(thread)\u001b[0m\n\u001b[0;32m   1338\u001b[0m         hook \u001b[38;5;241m=\u001b[39m old_excepthook\n\u001b[0;32m   1340\u001b[0m     args \u001b[38;5;241m=\u001b[39m ExceptHookArgs([\u001b[38;5;241m*\u001b[39msys_exc_info(), thread])\n\u001b[1;32m-> 1342\u001b[0m     \u001b[43mhook\u001b[49m\u001b[43m(\u001b[49m\u001b[43margs\u001b[49m\u001b[43m)\u001b[49m\n\u001b[0;32m   1343\u001b[0m \u001b[38;5;28;01mexcept\u001b[39;00m \u001b[38;5;167;01mException\u001b[39;00m \u001b[38;5;28;01mas\u001b[39;00m exc:\n\u001b[0;32m   1344\u001b[0m     exc\u001b[38;5;241m.\u001b[39m__suppress_context__ \u001b[38;5;241m=\u001b[39m \u001b[38;5;28;01mTrue\u001b[39;00m\n",
      "\u001b[1;31mTypeError\u001b[0m: '_MainThread' object is not callable"
     ]
    },
    {
     "name": "stdout",
     "output_type": "stream",
     "text": [
      "ff\n",
      "ff\n",
      "ff\n"
     ]
    }
   ],
   "source": [
    "#example\n",
    "import threading\n",
    "def customer_hook(args):\n",
    "    print(args[0])\n",
    "    print(args[1])\n",
    "    print(args[2])\n",
    "    print(args[3])\n",
    "def display():\n",
    "    for i in range(3):\n",
    "        print(\"welcome\"+10)\n",
    "def show():\n",
    "    for i in range(3):\n",
    "        print(\"Enter\")\n",
    "threading.excepthook=current_thread()\n",
    "t1=Thread(target=display)\n",
    "t2=Thread(target=show)\n",
    "t1.start()\n",
    "t2.start()\n",
    "t1.join()\n",
    "t2.join()\n",
    "for i in range(3):\n",
    "    print(\"ff\")"
   ]
  },
  {
   "cell_type": "code",
   "execution_count": null,
   "id": "a5798077-f640-4b02-9017-8b2802b1e19f",
   "metadata": {},
   "outputs": [],
   "source": [
    "#threading.excepthook() \n",
    "#4 argyments\n",
    "#exception class #type value error\n",
    "#exception instance\n",
    "# a traceback object\n",
    "# Thread name\n",
    "#main thread-------------sys.excepthook\n",
    "#created thread-------------threading.excepthook-------------------sys.excepthook()"
   ]
  },
  {
   "cell_type": "code",
   "execution_count": null,
   "id": "d4c9ec5a-b544-42f8-b7ca-bcea94210d0d",
   "metadata": {},
   "outputs": [],
   "source": [
    "#important points\n",
    "#a thread is a flow of exceution in a computer \n",
    "#every python program ha at aleast one thread main thread\n",
    "# both process and created and managed by os\n",
    "# we need to create additional threads concurrentently\n",
    "# threading module\n",
    "#undesired output race condition\n",
    "# critical condition lock rlock sempahore \n",
    "#life cycle of thread\n",
    "\n",
    "#interview questions\n",
    "#ex: difference between  creat and start a thread?\n",
    "# differebce between run and start?\n",
    "# blocked and terminated?\n"
   ]
  },
  {
   "cell_type": "code",
   "execution_count": null,
   "id": "b0afe379-a500-4dfa-9867-da7ee9c4b3e4",
   "metadata": {},
   "outputs": [],
   "source": []
  },
  {
   "cell_type": "code",
   "execution_count": null,
   "id": "ef68014c-a0dd-4859-a1ef-866886fe36b0",
   "metadata": {},
   "outputs": [],
   "source": [
    "new thread\n",
    "runnung thread----------blocked thread\n",
    "terminated thread"
   ]
  },
  {
   "cell_type": "code",
   "execution_count": null,
   "id": "957e8f42-77be-4b46-8876-c8f1cf89fcfc",
   "metadata": {},
   "outputs": [],
   "source": [
    "                 sleeping \n",
    "\n",
    "newthread---------runnable--------(termination with exception)\n",
    "                                  (termination normally)"
   ]
  },
  {
   "cell_type": "code",
   "execution_count": null,
   "id": "c4babb03-bc8a-4d87-b267-f588bc5ce582",
   "metadata": {},
   "outputs": [],
   "source": [
    "the start method is used to initiate the execution of the thread by calling the \n",
    "run method in a separate thread of control.\n",
    "When you call the start method, it creates a new thread and then invokes the run method in that new thread."
   ]
  },
  {
   "cell_type": "code",
   "execution_count": null,
   "id": "705f1e9b-579c-47d7-89e9-c8c25e872ea5",
   "metadata": {},
   "outputs": [],
   "source": [
    "The run method is the method that represents the code to be executed when a thread is started.\n",
    "It is the entry point for the thread's activity."
   ]
  },
  {
   "cell_type": "code",
   "execution_count": null,
   "id": "46698544-ab54-4866-acda-8c9cada5b99a",
   "metadata": {},
   "outputs": [],
   "source": [
    "#blocked means stoped the execution due to wait for resoyrces or may be in the lock state\n",
    "#terminated means end of thread reached end run method"
   ]
  },
  {
   "cell_type": "code",
   "execution_count": null,
   "id": "c54ddb03-1bb1-4598-a6c7-3b169907cb0f",
   "metadata": {},
   "outputs": [],
   "source": [
    "#daemons and non-daemons threads"
   ]
  },
  {
   "cell_type": "code",
   "execution_count": null,
   "id": "78fe4cb1-aabf-42cf-915a-79fa058f67ab",
   "metadata": {},
   "outputs": [],
   "source": [
    "Daemon threads are background threads that run in the background and provide supporting services to non-daemon threads.\n",
    "\n",
    "When the main program exits, daemon threads are terminated abruptly, regardless of whether they have completed their tasks or not.\n",
    "\n",
    "Daemon threads are created by setting the daemon attribute of the thread object to True before starting the thread."
   ]
  },
  {
   "cell_type": "code",
   "execution_count": null,
   "id": "ee7df091-5c2e-4f1c-b2ba-2682a3e38c77",
   "metadata": {},
   "outputs": [],
   "source": [
    "Non-daemon threads are threads that must complete their tasks before the main program can exit.\n",
    "\n",
    "When the main program exits, it will wait for all non-daemon threads to finish their execution before terminating the entire program.\n",
    "\n",
    "Non-daemon threads are created by default when you create a thread using the threading.Thread class without explicitly setting the daemon attribute."
   ]
  },
  {
   "cell_type": "code",
   "execution_count": null,
   "id": "e3ce80bd-d498-46ca-be33-a4fcab3a7711",
   "metadata": {},
   "outputs": [],
   "source": []
  },
  {
   "cell_type": "code",
   "execution_count": null,
   "id": "d73638a4-3312-4500-9eeb-a6750af54f8c",
   "metadata": {},
   "outputs": [],
   "source": []
  },
  {
   "cell_type": "code",
   "execution_count": 29,
   "id": "31a7d32b-7fc2-476a-9584-e4a843c328cf",
   "metadata": {},
   "outputs": [
    {
     "name": "stdout",
     "output_type": "stream",
     "text": [
      "Daemon thread is running...\n",
      "Daemon thread is running...\n",
      "Daemon thread is running...\n",
      "Daemon thread is running...\n"
     ]
    }
   ],
   "source": [
    "#interview questions by chatGPT"
   ]
  },
  {
   "cell_type": "code",
   "execution_count": 30,
   "id": "340f5f07-9e38-4e14-99e5-bba8738bd4a5",
   "metadata": {},
   "outputs": [
    {
     "ename": "SyntaxError",
     "evalue": "invalid syntax (2709932852.py, line 3)",
     "output_type": "error",
     "traceback": [
      "\u001b[1;36m  Cell \u001b[1;32mIn[30], line 3\u001b[1;36m\u001b[0m\n\u001b[1;33m    While you can use the Thread.terminate() method, it is generally discouraged due to potential issues.\u001b[0m\n\u001b[1;37m          ^\u001b[0m\n\u001b[1;31mSyntaxError\u001b[0m\u001b[1;31m:\u001b[0m invalid syntax\n"
     ]
    },
    {
     "name": "stdout",
     "output_type": "stream",
     "text": [
      "Daemon thread is running...\n",
      "Daemon thread is running...\n",
      "Daemon thread is running...\n",
      "Daemon thread is running...\n"
     ]
    }
   ],
   "source": [
    "How can you terminate a thread in Python?\n",
    "\n",
    "While you can use the Thread.terminate() method, it is generally discouraged due to potential issues.\n",
    "A better approach is to design threads to gracefully exit based on some condition."
   ]
  },
  {
   "cell_type": "code",
   "execution_count": null,
   "id": "432c4a2d-9365-48a5-80b5-eecc068f36a1",
   "metadata": {},
   "outputs": [],
   "source": [
    "Explain the concept of a thread pool.\n",
    "\n",
    "A thread pool is a collection of reusable threads managed by a pool manager. \n",
    "It is used to efficiently execute a large number of tasks by reusing existing threads rather than creating new ones."
   ]
  },
  {
   "cell_type": "code",
   "execution_count": null,
   "id": "de52e745-b8ae-41b1-ad1e-682ad02f608a",
   "metadata": {},
   "outputs": [],
   "source": [
    "How can you set thread priorities in Python?\n",
    "\n",
    "Pythons threading module does not provide direct support for setting thread priorities.\n",
    "The GIL also makes thread priorities less effective. Prioritization is typically not recommended in Python."
   ]
  },
  {
   "cell_type": "code",
   "execution_count": null,
   "id": "037cebd2-4566-439b-9d75-b169edbfd267",
   "metadata": {},
   "outputs": [],
   "source": [
    "hat is the Global Interpreter Lock (GIL) in Python, and how does it affect multithreading?\n",
    "\n",
    "The GIL is a mechanism that allows only one thread to execute Python bytecode at a time in a single process. \n",
    "It can limit the effectiveness of multithreading for CPU-bound tasks."
   ]
  },
  {
   "cell_type": "code",
   "execution_count": null,
   "id": "7ec60c9f-02c2-40a1-bf79-10596307d249",
   "metadata": {},
   "outputs": [],
   "source": [
    "Explain the concept of thread synchronization.\n",
    "\n",
    "Thread synchronization involves coordinating the execution of threads to ensure data consistency and avoid race conditions. Locks, \n",
    "semaphores, and conditions are common synchronization mechanisms."
   ]
  },
  {
   "cell_type": "code",
   "execution_count": null,
   "id": "beec0dfa-ce6a-4783-b971-a8d1d60c81f6",
   "metadata": {},
   "outputs": [],
   "source": [
    "how can you handle exceptions in threads in Python?\n",
    "\n",
    "You can use a try-except block within the run method of a thread to handle exceptions. \n",
    "Additionally, you can set the daemon property of a thread to True to let it exit if an unhandled exception occurs."
   ]
  },
  {
   "cell_type": "code",
   "execution_count": null,
   "id": "b3ac57fd-a3b3-44bb-87bc-9df704fac565",
   "metadata": {},
   "outputs": [],
   "source": [
    "Explain the terms \"daemon thread\" and \"non-daemon thread.\"\n",
    "\n",
    "Daemon threads are background threads that automatically terminate when the main program exits,\n",
    "while non-daemon threads continue to run even if the main program has finished"
   ]
  },
  {
   "cell_type": "code",
   "execution_count": null,
   "id": "5f9bb126-020f-4440-b0b0-9c08347a3036",
   "metadata": {},
   "outputs": [],
   "source": [
    "What is the threading.Thread class, and how is it used?\n",
    "\n",
    "threading.Thread is a class in the threading module used for creating and managing threads.\n",
    "It is often subclassed to define the behavior of a thread."
   ]
  },
  {
   "cell_type": "code",
   "execution_count": null,
   "id": "4125826d-d3ff-4e3f-8dbe-3e5f1f958c24",
   "metadata": {},
   "outputs": [],
   "source": [
    "How can you share data between threads in Python?\n",
    "\n",
    "You can use thread-safe data structures or synchronization mechanisms like locks to share data between threads."
   ]
  },
  {
   "cell_type": "code",
   "execution_count": null,
   "id": "1e53aec0-0fc2-44de-9128-efea09bceb21",
   "metadata": {},
   "outputs": [],
   "source": [
    "Explain the difference between multithreading and multiprocessing in Python.\n",
    "\n",
    "Multithreading involves multiple threads sharing the same memory space, while multiprocessing involves multiple processes with separate memory spaces."
   ]
  },
  {
   "cell_type": "code",
   "execution_count": null,
   "id": "dcae7b6b-6a97-43c3-bda6-fb6f407cb697",
   "metadata": {},
   "outputs": [],
   "source": [
    "What is the Global Interpreter Lock (GIL) in Python?\n",
    "\n",
    "The GIL is a mechanism that allows only one thread to execute Python bytecode at a time in a single process. It can impact the performance of multithreaded programs for CPU-bound tasks."
   ]
  },
  {
   "cell_type": "code",
   "execution_count": null,
   "id": "fec911fd-68b8-4cdc-850b-19e694fefb4e",
   "metadata": {},
   "outputs": [],
   "source": []
  },
  {
   "cell_type": "code",
   "execution_count": null,
   "id": "a3800c4f-e727-4f46-acec-dbf547964cbb",
   "metadata": {},
   "outputs": [],
   "source": [
    "\n"
   ]
  },
  {
   "cell_type": "code",
   "execution_count": null,
   "id": "d7947089-4634-4979-965a-7f3480c1a25b",
   "metadata": {},
   "outputs": [],
   "source": []
  }
 ],
 "metadata": {
  "kernelspec": {
   "display_name": "Python 3 (ipykernel)",
   "language": "python",
   "name": "python3"
  },
  "language_info": {
   "codemirror_mode": {
    "name": "ipython",
    "version": 3
   },
   "file_extension": ".py",
   "mimetype": "text/x-python",
   "name": "python",
   "nbconvert_exporter": "python",
   "pygments_lexer": "ipython3",
   "version": "3.11.5"
  }
 },
 "nbformat": 4,
 "nbformat_minor": 5
}
