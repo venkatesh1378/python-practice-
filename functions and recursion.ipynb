{
 "cells": [
  {
   "cell_type": "code",
   "execution_count": null,
   "id": "6c163d7b-6c79-48ab-abdb-7b5647a1823e",
   "metadata": {},
   "outputs": [],
   "source": [
    "1. Write a Python function to find the maximum of three numbers."
   ]
  },
  {
   "cell_type": "code",
   "execution_count": 2,
   "id": "cdacc1ba-7dec-4af6-9b67-cecf880bbfb2",
   "metadata": {},
   "outputs": [
    {
     "name": "stdout",
     "output_type": "stream",
     "text": [
      "3\n"
     ]
    }
   ],
   "source": [
    "def greatest(a,b,c):\n",
    "    if a>b and a>c:\n",
    "        print(a)\n",
    "    elif b>a and b>c:\n",
    "        print(b)\n",
    "    else:\n",
    "        print(c)\n",
    "greatest(1,2,3)"
   ]
  },
  {
   "cell_type": "code",
   "execution_count": null,
   "id": "83179eb5-4aa5-48cf-95a9-d97992ab4654",
   "metadata": {},
   "outputs": [],
   "source": [
    "2. Write a Python function to sum all the numbers in a list.\n",
    "Sample List : (8, 2, 3, 0, 7)\n",
    "Expected Output : 20"
   ]
  },
  {
   "cell_type": "code",
   "execution_count": 3,
   "id": "781a94b1-d39d-4686-861a-4dfaf4ce44be",
   "metadata": {},
   "outputs": [
    {
     "name": "stdout",
     "output_type": "stream",
     "text": [
      "20\n"
     ]
    }
   ],
   "source": [
    "def sums(a):\n",
    "    k=0\n",
    "    for i in a:\n",
    "        k+=i\n",
    "    return k\n",
    "a=[8,2,3,0,7]\n",
    "print(sums(a))\n",
    "    "
   ]
  },
  {
   "cell_type": "code",
   "execution_count": null,
   "id": "06826efd-ae82-4f18-8b6e-781422caf707",
   "metadata": {},
   "outputs": [],
   "source": [
    "3. Write a Python function to multiply all the numbers in a list.\n",
    "Sample List : (8, 2, 3, -1, 7)\n",
    "Expected Output : -336"
   ]
  },
  {
   "cell_type": "code",
   "execution_count": 5,
   "id": "a4227a42-a186-46fd-b71f-15c9555fd12b",
   "metadata": {},
   "outputs": [
    {
     "name": "stdout",
     "output_type": "stream",
     "text": [
      "-336\n"
     ]
    }
   ],
   "source": [
    "def sums(a):\n",
    "    k=1\n",
    "    for i in a:\n",
    "        k*=i\n",
    "    return k\n",
    "a=(8, 2, 3, -1, 7)\n",
    "print(sums(a))"
   ]
  },
  {
   "cell_type": "code",
   "execution_count": null,
   "id": "c324530f-e476-41e6-9454-565e38f0b7d8",
   "metadata": {},
   "outputs": [],
   "source": [
    "4. Write a Python program to reverse a string.\n",
    "Sample String : \"1234abcd\"\n",
    "Expected Output : \"dcba4321\""
   ]
  },
  {
   "cell_type": "code",
   "execution_count": 6,
   "id": "1ae71add-2dd2-4626-a249-f6bc67e1cbe1",
   "metadata": {},
   "outputs": [
    {
     "name": "stdout",
     "output_type": "stream",
     "text": [
      "dcba4321\n"
     ]
    }
   ],
   "source": [
    "def rev1(a):\n",
    "    print(a[::-1])\n",
    "a=\"1234abcd\"\n",
    "rev1(a)"
   ]
  },
  {
   "cell_type": "code",
   "execution_count": null,
   "id": "a1201518-1d50-4302-ab0f-06c6dee76faa",
   "metadata": {},
   "outputs": [],
   "source": [
    "5. Write a Python function to calculate the factorial of a number (a non-negative integer). The function accepts the number as an argument."
   ]
  },
  {
   "cell_type": "code",
   "execution_count": 12,
   "id": "067b43a5-e505-40eb-a703-60e54b8bc364",
   "metadata": {},
   "outputs": [
    {
     "name": "stdout",
     "output_type": "stream",
     "text": [
      " 7\n"
     ]
    },
    {
     "data": {
      "text/plain": [
       "5040"
      ]
     },
     "execution_count": 12,
     "metadata": {},
     "output_type": "execute_result"
    }
   ],
   "source": [
    "\n",
    "def fact(a):\n",
    "    if a==0:\n",
    "        return 1\n",
    "    else:\n",
    "        return a*fact(a-1)\n",
    "\n",
    "a=int(input())\n",
    "fact(a)"
   ]
  },
  {
   "cell_type": "code",
   "execution_count": null,
   "id": "8b89b6e7-eb1e-40c8-bd85-472330218bb2",
   "metadata": {},
   "outputs": [],
   "source": [
    "6. Write a Python function to check whether a number falls within a given range."
   ]
  },
  {
   "cell_type": "code",
   "execution_count": 24,
   "id": "1b0b4346-8e07-4ecc-a7b7-39f0470d59a5",
   "metadata": {},
   "outputs": [
    {
     "name": "stdout",
     "output_type": "stream",
     "text": [
      " 90\n"
     ]
    },
    {
     "name": "stdout",
     "output_type": "stream",
     "text": [
      "90 is falling  not in this range\n"
     ]
    }
   ],
   "source": [
    "def falling(a):\n",
    "    for i in range(3,9):\n",
    "        if a in range(3,9):\n",
    "            print(\"{} is falling in this range\".format(a))\n",
    "            break\n",
    "        else:\n",
    "             print(\"{} is falling  not in this range\".format(a))\n",
    "             break\n",
    "a=int(input())\n",
    "falling(a)"
   ]
  },
  {
   "cell_type": "markdown",
   "id": "69dc5911-0d5d-4e4f-96eb-0af40b17b76c",
   "metadata": {},
   "source": [
    "7. Write a Python function that accepts a string and counts the number of upper and lower case letters.\n",
    "Sample String : 'The quick Brow Fox'\n",
    "Expected Output :\n",
    "No. of Upper case characters : 3\n",
    "No. of Lower case Characters : 12"
   ]
  },
  {
   "cell_type": "code",
   "execution_count": 28,
   "id": "a3eb8f81-000f-4f1e-a3f5-9eaf2d2bc16a",
   "metadata": {},
   "outputs": [
    {
     "name": "stdout",
     "output_type": "stream",
     "text": [
      "lower case 12\n",
      "upper case 3\n"
     ]
    }
   ],
   "source": [
    "def alphabets(a='The quick Brow Fox'):\n",
    "    lower=0\n",
    "    upper=0\n",
    "    for i in a:\n",
    "        if i.isupper():\n",
    "            upper+=1\n",
    "        else:\n",
    "            if i.islower():\n",
    "                lower+=1\n",
    "    print(\"lower case\",lower)\n",
    "    print(\"upper case\",upper)\n",
    "alphabets()\n",
    "            \n",
    "    "
   ]
  },
  {
   "cell_type": "code",
   "execution_count": null,
   "id": "3bd3f102-7ad3-49bd-9a19-201af2dd8aed",
   "metadata": {},
   "outputs": [],
   "source": [
    "8. Write a Python function that takes a list and returns a new list with distinct elements from the first list.\n",
    "Sample List : [1,2,3,3,3,3,4,5]\n",
    "Unique List : [1, 2, 3, 4, 5]"
   ]
  },
  {
   "cell_type": "code",
   "execution_count": 29,
   "id": "ce0d7faf-6309-40c2-bf59-c01eb97e65bc",
   "metadata": {},
   "outputs": [
    {
     "name": "stdout",
     "output_type": "stream",
     "text": [
      "[1, 2, 3, 4, 5]\n"
     ]
    }
   ],
   "source": [
    "def distinct(l):\n",
    "    k=sorted(set(l))\n",
    "    print(k)\n",
    "a=[1,2,3,3,3,3,4,5]\n",
    "distinct(a)\n",
    "    \n"
   ]
  },
  {
   "cell_type": "code",
   "execution_count": null,
   "id": "0c9f2ebd-987c-4e70-8351-46d409749c2b",
   "metadata": {},
   "outputs": [],
   "source": [
    "9. Write a Python function that takes a number as a parameter and checks whether the number is prime or not.\n",
    "Note : A prime number (or a prime) is a natural number greater than 1 and that has no positive divisors other than 1 and itself."
   ]
  },
  {
   "cell_type": "code",
   "execution_count": 31,
   "id": "b36adb2f-ecd6-46b7-9271-e108dd92b31e",
   "metadata": {},
   "outputs": [
    {
     "name": "stdout",
     "output_type": "stream",
     "text": [
      "prime\n"
     ]
    }
   ],
   "source": [
    "def prime(a):\n",
    "    factors=0\n",
    "    for i in range(1,a+1):\n",
    "        if a%i==0:\n",
    "            factors+=1\n",
    "    if factors==2:\n",
    "        print(\"prime\")\n",
    "    else:\n",
    "        print(\"Not a prime\")\n",
    "prime(5)"
   ]
  },
  {
   "cell_type": "code",
   "execution_count": null,
   "id": "7544b4ff-0145-4662-a44b-154a393d7985",
   "metadata": {},
   "outputs": [],
   "source": [
    "10. Write a Python program to print the even numbers from a given list.\n",
    "Sample List : [1, 2, 3, 4, 5, 6, 7, 8, 9]\n",
    "Expected Result : [2, 4, 6, 8]"
   ]
  },
  {
   "cell_type": "code",
   "execution_count": 32,
   "id": "14e5d908-cd6d-4fa0-a4c5-7b31381ac96e",
   "metadata": {},
   "outputs": [
    {
     "name": "stdout",
     "output_type": "stream",
     "text": [
      "[2, 4, 6, 8]\n"
     ]
    }
   ],
   "source": [
    "def check(a):\n",
    "    k=[]\n",
    "    for i in a:\n",
    "        if i%2==0:\n",
    "            k.append(i)\n",
    "    print(k)\n",
    "check([1, 2, 3, 4, 5, 6, 7, 8, 9])"
   ]
  },
  {
   "cell_type": "code",
   "execution_count": null,
   "id": "77b859ce-608a-4742-9713-8432da074e86",
   "metadata": {},
   "outputs": [],
   "source": [
    "1. Write a Python function to check whether a number is \"Perfect\" or not.\n",
    "According to Wikipedia : In number theory, a perfect number is a positive integer that is equal to the sum of its proper positive divisors, \n",
    "that is, the sum of its positive divisors excluding the number itself (also known as its aliquot sum). \n",
    "Equivalently, a perfect number is a number that is half the sum of all of its positive divisors (including itself).\n",
    "Example : The first perfect number is 6, because 1, 2, and 3 are its proper positive divisors, and 1 + 2 + 3 = 6.\n",
    "Equivalently, the number 6 is equal to half the sum of all its positive divisors: ( 1 + 2 + 3 + 6 ) / 2 = 6. \n",
    "The next perfect number is 28 = 1 + 2 + 4 + 7 + 14. This is followed by the perfect numbers 496 and 8128."
   ]
  },
  {
   "cell_type": "code",
   "execution_count": 35,
   "id": "dff13243-dfb3-4425-8a7c-b0a8955a7954",
   "metadata": {},
   "outputs": [
    {
     "name": "stdout",
     "output_type": "stream",
     "text": [
      " 6\n"
     ]
    },
    {
     "name": "stdout",
     "output_type": "stream",
     "text": [
      "perfect number\n"
     ]
    }
   ],
   "source": [
    "def perfection(a):\n",
    "    count=0\n",
    "    for i in range(1,a):\n",
    "        if a%i==0:\n",
    "            count+=i\n",
    "    if count==a:\n",
    "        print(\"perfect number\")\n",
    "    else:\n",
    "        print(\"not a perfect numberr\")\n",
    "perfection(int(input()))\n",
    "        "
   ]
  },
  {
   "cell_type": "code",
   "execution_count": null,
   "id": "f36b1a5f-77af-4a5a-a4a4-ce895ca5ad75",
   "metadata": {},
   "outputs": [],
   "source": [
    "12. Write a Python function that checks whether a passed string is a palindrome or not.\n",
    "Note: A palindrome is a word, phrase, or sequence that reads the same backward as forward, e.g., madam or nurses run."
   ]
  },
  {
   "cell_type": "code",
   "execution_count": 37,
   "id": "5b50219c-a4ef-49aa-b96f-261cbd91d94d",
   "metadata": {},
   "outputs": [
    {
     "name": "stdout",
     "output_type": "stream",
     "text": [
      "palindrome\n"
     ]
    }
   ],
   "source": [
    "def palind(a):\n",
    "     k=a[::-1]\n",
    "     if k==a:\n",
    "         print(\"palindrome\")\n",
    "     else:\n",
    "         print(\"not a palindrome\")\n",
    "palind(\"madam\")\n"
   ]
  },
  {
   "cell_type": "code",
   "execution_count": null,
   "id": "61729920-0e40-43ea-8014-3dc02bd67e9a",
   "metadata": {},
   "outputs": [],
   "source": [
    "3. Write a Python function that prints out the first n rows of Pascal's triangle.\n",
    "Note : Pascal's triangle is an arithmetic and geometric figure first imagined by Blaise Pascal."
   ]
  },
  {
   "cell_type": "code",
   "execution_count": 90,
   "id": "cadb5d0d-d072-49bf-8b8b-14d41e3a2520",
   "metadata": {},
   "outputs": [
    {
     "name": "stdout",
     "output_type": "stream",
     "text": [
      "['1']\n",
      "['1', '1']\n",
      "['1', '2', '1']\n",
      "['1', '3', '3', '1']\n",
      "['1', '4', '6', '4', '1']\n",
      "['1', '6', '1', '0', '5', '1']\n"
     ]
    }
   ],
   "source": [
    "for i in range(6):\n",
    "    b=11**i\n",
    "    c=str(b)\n",
    "    k=[]\n",
    "    for i in c:\n",
    "        k.append(i)\n",
    "    print(k)\n",
    "    \n",
    "    "
   ]
  },
  {
   "cell_type": "code",
   "execution_count": null,
   "id": "aa1588e6-d921-4c5a-ba23-b7fe2cf43cd9",
   "metadata": {},
   "outputs": [],
   "source": [
    "4. Write a Python function to check whether a string is a pangram or not.\n",
    "Note : Pangrams are words or sentences containing every letter of the alphabet at least once.\n",
    "For example : \"The quick brown fox jumps over the lazy dog\""
   ]
  },
  {
   "cell_type": "code",
   "execution_count": 58,
   "id": "20695e7f-a07a-414c-b684-8e3ae9b637f7",
   "metadata": {},
   "outputs": [
    {
     "name": "stdout",
     "output_type": "stream",
     "text": [
      "not a anagrom\n"
     ]
    }
   ],
   "source": [
    "def panagram(a):\n",
    "    count=0\n",
    "    for i in range(97,123):\n",
    "        k=chr(i)\n",
    "        if k not in a:\n",
    "            count=1\n",
    "    if count==1:\n",
    "        print(\"not a anagrom\")\n",
    "    else:\n",
    "        print(\"anagrom\")\n",
    "panagram(\"The quick brown fox jumps over the lazy dog\")\n"
   ]
  },
  {
   "cell_type": "code",
   "execution_count": 56,
   "id": "46eed2ad-05ea-4f69-a8b8-9b9369ad8eb4",
   "metadata": {},
   "outputs": [
    {
     "data": {
      "text/plain": [
       "'z'"
      ]
     },
     "execution_count": 56,
     "metadata": {},
     "output_type": "execute_result"
    }
   ],
   "source": [
    "chr(122)"
   ]
  },
  {
   "cell_type": "code",
   "execution_count": null,
   "id": "807650cc-7a4d-4f01-9e6f-205568a9b109",
   "metadata": {},
   "outputs": [],
   "source": [
    "15. Write a Python program that accepts a hyphen-separated sequence of words as input and prints the words in a hyphen-separated sequence after sorting them alphabetically.\n",
    "Sample Items : green-red-yellow-black-white\n",
    "Expected Result : black-green-red-white-yellow"
   ]
  },
  {
   "cell_type": "code",
   "execution_count": 66,
   "id": "4e2afb9b-b007-4407-b533-98a3a94bb535",
   "metadata": {},
   "outputs": [
    {
     "name": "stdout",
     "output_type": "stream",
     "text": [
      "black-green-red-white-yellow\n"
     ]
    }
   ],
   "source": [
    "def sample(a):\n",
    "    k=[]\n",
    "    for i in a.split(\"-\"):\n",
    "        k.append(i)\n",
    "    k.sort()\n",
    "    s=\"\"\n",
    "    for i in k:\n",
    "        s+=i+\"-\"\n",
    "    print(s[:len(s)-1])\n",
    "    \n",
    "sample(\"green-red-yellow-black-white\")"
   ]
  },
  {
   "cell_type": "code",
   "execution_count": null,
   "id": "63c087ea-6c17-40e1-90d8-8967f9c27a42",
   "metadata": {},
   "outputs": [],
   "source": [
    "16. Write a Python function to create and print a list where the values are the squares of numbers between 1 and 30 (both included)."
   ]
  },
  {
   "cell_type": "code",
   "execution_count": 67,
   "id": "d3f4d5ec-530c-40fe-9697-62c86cf4d92b",
   "metadata": {},
   "outputs": [
    {
     "name": "stdout",
     "output_type": "stream",
     "text": [
      "[1, 4, 9, 16, 25, 36, 49, 64, 81, 100, 121, 144, 169, 196, 225, 256, 289, 324, 361, 400, 441, 484, 529, 576, 625, 676, 729, 784, 841, 900]\n"
     ]
    }
   ],
   "source": [
    "def  numbers():\n",
    "    l=[]\n",
    "    for i in range(1,31):\n",
    "        l.append(i*i)\n",
    "    print(l)\n",
    "numbers()"
   ]
  },
  {
   "cell_type": "code",
   "execution_count": null,
   "id": "e8a469a8-6c24-4a34-a5c1-785efe90a25e",
   "metadata": {},
   "outputs": [],
   "source": [
    "17. Write a Python program to create a chain of function decorators (bold, italic, underline etc.).\n",
    "Click me to see the sample solution"
   ]
  },
  {
   "cell_type": "code",
   "execution_count": 106,
   "id": "852c47c8-a860-42f6-9653-19632b9fa519",
   "metadata": {},
   "outputs": [
    {
     "name": "stdout",
     "output_type": "stream",
     "text": [
      " ven\n"
     ]
    },
    {
     "name": "stdout",
     "output_type": "stream",
     "text": [
      "<i>ven</i>\n"
     ]
    }
   ],
   "source": [
    "def bold(chain):\n",
    "    def inner(a):\n",
    "        return \"<b>\"+a+\"</b>\"\n",
    "    return inner\n",
    "def italic(chain):\n",
    "    def inner(a):\n",
    "        return \"<i>\"+a+\"</i>\"\n",
    "    return inner\n",
    "    \n",
    "\n",
    "@italic\n",
    "def chain(a):\n",
    "    return a\n",
    "a=input()\n",
    "print(chain(a))"
   ]
  },
  {
   "cell_type": "code",
   "execution_count": null,
   "id": "7e6990eb-a9c1-4501-a076-bab12b0d9234",
   "metadata": {},
   "outputs": [],
   "source": []
  },
  {
   "cell_type": "code",
   "execution_count": 102,
   "id": "5892f660-e3cd-4dfb-b3fc-d6089600464a",
   "metadata": {},
   "outputs": [
    {
     "name": "stdout",
     "output_type": "stream",
     "text": [
      "8\n"
     ]
    }
   ],
   "source": [
    "\n"
   ]
  },
  {
   "cell_type": "code",
   "execution_count": null,
   "id": "bd2d31e2-781d-4088-88af-9f92fc5fddd4",
   "metadata": {},
   "outputs": [],
   "source": []
  },
  {
   "cell_type": "code",
   "execution_count": null,
   "id": "e93805d2-1d50-476c-a4d9-3773f5e860b9",
   "metadata": {},
   "outputs": [],
   "source": []
  },
  {
   "cell_type": "code",
   "execution_count": null,
   "id": "2b4608bc-40be-4c44-a8a9-9bf86308643b",
   "metadata": {},
   "outputs": [],
   "source": []
  },
  {
   "cell_type": "code",
   "execution_count": null,
   "id": "e0a08f74-ebf2-4a47-b6f3-91dfb95dee60",
   "metadata": {},
   "outputs": [],
   "source": []
  },
  {
   "cell_type": "code",
   "execution_count": null,
   "id": "a1e86ce0-cfaf-4a3a-9204-0e3f260738d7",
   "metadata": {},
   "outputs": [],
   "source": [
    "Write a Python program to execute a string containing Python code."
   ]
  },
  {
   "cell_type": "code",
   "execution_count": null,
   "id": "b4c79f87-3b6f-452c-87b3-dac1c10bc6db",
   "metadata": {},
   "outputs": [],
   "source": []
  },
  {
   "cell_type": "code",
   "execution_count": 78,
   "id": "4eafc66b-3445-41b6-99ea-e90bfe2f5e17",
   "metadata": {},
   "outputs": [
    {
     "name": "stdout",
     "output_type": "stream",
     "text": [
      "hello world\n",
      "hello world\n"
     ]
    }
   ],
   "source": [
    "mycode = 'print(\"hello world\")'\n",
    "k=mycode.index(\"(\")\n",
    "l=mycode.index(\")\")\n",
    "print(mycode[k+2:l-1])\n",
    "exec(mycode)"
   ]
  },
  {
   "cell_type": "code",
   "execution_count": null,
   "id": "0cd80b5f-279d-4028-a637-1c32dfd95fe7",
   "metadata": {},
   "outputs": [],
   "source": [
    "19. Write a Python program to access a function inside a function.\n",
    "Click me to see the sample solution"
   ]
  },
  {
   "cell_type": "code",
   "execution_count": 87,
   "id": "bbbe44c5-c7a4-424d-881f-79da4c30fbc9",
   "metadata": {},
   "outputs": [
    {
     "name": "stdout",
     "output_type": "stream",
     "text": [
      "[1, 4, 9, 16]\n"
     ]
    }
   ],
   "source": [
    "def square(n):\n",
    "    return n*n\n",
    "\n",
    "def a(b):\n",
    "    s=[]\n",
    "    for i in b:\n",
    "        k=square(i)\n",
    "        s.append(k)\n",
    "    print(s)\n",
    "a([1,2,3,4])"
   ]
  },
  {
   "cell_type": "code",
   "execution_count": null,
   "id": "d2714ea9-713b-4bc8-878b-8ada845dfefd",
   "metadata": {},
   "outputs": [],
   "source": []
  },
  {
   "cell_type": "code",
   "execution_count": null,
   "id": "023c0863-9ee8-4abc-ab10-8389d67b2a5f",
   "metadata": {},
   "outputs": [],
   "source": [
    "20. Write a Python program to detect the number of local variables declared in a function.\n",
    "Sample Output:"
   ]
  },
  {
   "cell_type": "code",
   "execution_count": 86,
   "id": "8bd8b1fd-e81e-4976-a5d0-c53239696c60",
   "metadata": {},
   "outputs": [
    {
     "name": "stdout",
     "output_type": "stream",
     "text": [
      "3\n"
     ]
    }
   ],
   "source": [
    "def abc():\n",
    "    # Define and assign values to local variables 'x', 'y', and 'str1' inside the function 'abc'\n",
    "    x = 1\n",
    "    y = 2\n",
    "    str1 = \"w3resource\"\n",
    "    \n",
    "    # Print the string \"Python Exercises\"\n",
    "    print(\"Python Exercises\")\n",
    "print(abc.__code__.co_nlocals)"
   ]
  },
  {
   "cell_type": "code",
   "execution_count": null,
   "id": "84d15694-02a5-49c8-b13c-80f7662dadb0",
   "metadata": {},
   "outputs": [],
   "source": []
  },
  {
   "cell_type": "code",
   "execution_count": null,
   "id": "173ca804-9b1b-4f6e-a1be-c2edc813b669",
   "metadata": {},
   "outputs": [],
   "source": [
    "21. Write a Python program that invokes a function after a specified period of time.\n",
    "Sample Output:\n",
    "Square root after specific miliseconds:\n",
    "4.0\n",
    "10.0\n",
    "158.42979517754858"
   ]
  },
  {
   "cell_type": "code",
   "execution_count": 83,
   "id": "fe7dd63f-e966-4177-b23b-510c3bc18694",
   "metadata": {},
   "outputs": [
    {
     "name": "stdout",
     "output_type": "stream",
     "text": [
      " 5\n",
      " 6\n"
     ]
    },
    {
     "name": "stdout",
     "output_type": "stream",
     "text": [
      "2.449489742783178\n"
     ]
    },
    {
     "name": "stdout",
     "output_type": "stream",
     "text": [
      " 5\n",
      " 89\n"
     ]
    },
    {
     "name": "stdout",
     "output_type": "stream",
     "text": [
      "9.433981132056603\n"
     ]
    },
    {
     "name": "stdout",
     "output_type": "stream",
     "text": [
      " 6\n",
      " 7\n"
     ]
    },
    {
     "name": "stdout",
     "output_type": "stream",
     "text": [
      "2.6457513110645907\n"
     ]
    }
   ],
   "source": [
    "from time import sleep\n",
    "def square(a,b):\n",
    "     print(b**0.5)\n",
    "    \n",
    "for i in range(3):\n",
    "    a=int(input())\n",
    "    b=int(input())\n",
    "    square(a,b)\n",
    "    sleep(5)\n",
    "        \n"
   ]
  },
  {
   "cell_type": "code",
   "execution_count": null,
   "id": "bf231c70-b6db-4838-a0a2-7604b5c52d5f",
   "metadata": {},
   "outputs": [],
   "source": []
  },
  {
   "cell_type": "code",
   "execution_count": null,
   "id": "163eaacc-ae68-435c-b403-492be4e82aea",
   "metadata": {},
   "outputs": [],
   "source": []
  },
  {
   "cell_type": "code",
   "execution_count": null,
   "id": "58a3a54d-62f2-4861-883d-69b5ae16810e",
   "metadata": {},
   "outputs": [],
   "source": []
  },
  {
   "cell_type": "code",
   "execution_count": null,
   "id": "261a6be5-3438-42e3-86c0-49d5b2cfadda",
   "metadata": {},
   "outputs": [],
   "source": []
  },
  {
   "cell_type": "code",
   "execution_count": null,
   "id": "d998f0a4-0e94-4990-9923-418130ebf4de",
   "metadata": {},
   "outputs": [],
   "source": []
  },
  {
   "cell_type": "code",
   "execution_count": null,
   "id": "d776486b-6955-4028-9c61-d6ad09230fbc",
   "metadata": {},
   "outputs": [],
   "source": []
  },
  {
   "cell_type": "code",
   "execution_count": null,
   "id": "04559663-814b-4e47-b822-6dc9f0a4cc8d",
   "metadata": {},
   "outputs": [],
   "source": [
    "#recursion"
   ]
  },
  {
   "cell_type": "code",
   "execution_count": null,
   "id": "99ed521d-7a2a-4867-9a8a-e5060ea20334",
   "metadata": {},
   "outputs": [],
   "source": [
    "1. Write a Python program to calculate the sum of a list of numbers."
   ]
  },
  {
   "cell_type": "code",
   "execution_count": 126,
   "id": "4253400a-e887-4056-b051-4a27b5e41c20",
   "metadata": {},
   "outputs": [
    {
     "name": "stdout",
     "output_type": "stream",
     "text": [
      "15\n"
     ]
    }
   ],
   "source": [
    "a=[1,2,3,4,5]\n",
    "def list1(a):\n",
    "    if len(a)==1:\n",
    "        return a[0]\n",
    "    else:\n",
    "        return a[0]+list1(a[1:])\n",
    "print(list1(a))"
   ]
  },
  {
   "cell_type": "code",
   "execution_count": null,
   "id": "b852ce22-f675-4843-807d-c0f2434d6e95",
   "metadata": {},
   "outputs": [],
   "source": [
    "3. Write a Python program to sum recursion lists.\n",
    "Test Data: [1, 2, [3,4], [5,6]]\n",
    "Expected Result: 21"
   ]
  },
  {
   "cell_type": "code",
   "execution_count": 132,
   "id": "3b059df5-0c6e-4179-bb9b-589e000023ba",
   "metadata": {},
   "outputs": [
    {
     "name": "stdout",
     "output_type": "stream",
     "text": [
      "A13\n"
     ]
    }
   ],
   "source": [
    "def conversion(a,b):\n",
    "    k=\"01234567890ABCDEF\"\n",
    "    if a<b:\n",
    "        return k[a]\n",
    "    else:\n",
    "        return conversion(a//b,b)+k[a%b]\n",
    "print(conversion(2835,16))"
   ]
  },
  {
   "cell_type": "code",
   "execution_count": null,
   "id": "db7ea48f-162b-43f3-b097-724c54a59472",
   "metadata": {},
   "outputs": [],
   "source": []
  },
  {
   "cell_type": "code",
   "execution_count": 125,
   "id": "60956c88-c41f-484a-9d23-cd54f12ece5c",
   "metadata": {},
   "outputs": [
    {
     "name": "stdout",
     "output_type": "stream",
     "text": [
      "21\n"
     ]
    }
   ],
   "source": [
    "def lists(a):\n",
    "    total=0\n",
    "    for i in a:\n",
    "        if type(i)==type([]):\n",
    "            total+=lists(i)\n",
    "        else:\n",
    "            total+=i\n",
    "    return total\n",
    "a=[1, 2, [3,4], [5,6]]\n",
    "print(lists(a))"
   ]
  },
  {
   "cell_type": "code",
   "execution_count": null,
   "id": "db843443-732d-49c4-ae84-7bd35828855a",
   "metadata": {},
   "outputs": [],
   "source": []
  },
  {
   "cell_type": "code",
   "execution_count": null,
   "id": "98903fc8-9364-406f-8408-eafe46c59585",
   "metadata": {},
   "outputs": [],
   "source": [
    "5. Write a Python program to solve the Fibonacci sequence using recursion."
   ]
  },
  {
   "cell_type": "code",
   "execution_count": 123,
   "id": "1ff82191-2a64-42c5-a228-dcb898d9bde8",
   "metadata": {},
   "outputs": [
    {
     "name": "stdout",
     "output_type": "stream",
     "text": [
      "0\n",
      "1\n",
      "1\n",
      "2\n",
      "3\n",
      "5\n",
      "8\n",
      "13\n"
     ]
    }
   ],
   "source": [
    "def fib(a):\n",
    "    if a<=1:\n",
    "        return a\n",
    "    else:\n",
    "        return fib(a-1)+fib(a-2)\n",
    "for i in range(7):\n",
    "    print(fib(i))\n",
    "print(fib(7))"
   ]
  },
  {
   "cell_type": "code",
   "execution_count": null,
   "id": "b4e4825f-7a5e-48db-8dde-51a8f37ad072",
   "metadata": {},
   "outputs": [],
   "source": []
  },
  {
   "cell_type": "code",
   "execution_count": null,
   "id": "8597c6de-0474-4fc6-b3fd-fc9746a817d4",
   "metadata": {},
   "outputs": [],
   "source": [
    "6. Write a Python program to get the sum of a non-negative integer.\n",
    "Test Data:\n",
    "sumDigits(345) -> 12\n",
    "sumDigits(45) -> 9"
   ]
  },
  {
   "cell_type": "code",
   "execution_count": 117,
   "id": "b888de0a-9cdd-42f1-ac88-c22b980d3fda",
   "metadata": {},
   "outputs": [
    {
     "name": "stdout",
     "output_type": "stream",
     "text": [
      "9\n"
     ]
    }
   ],
   "source": [
    "a=45\n",
    "def number(a):\n",
    "    k=a%10\n",
    "    if k==0:\n",
    "        return 0\n",
    "    else:\n",
    "        return k+number(a//10)\n",
    "print(number(a))"
   ]
  },
  {
   "cell_type": "code",
   "execution_count": null,
   "id": "03d5f92f-7698-499b-8b10-0835cc572c8a",
   "metadata": {},
   "outputs": [],
   "source": []
  },
  {
   "cell_type": "code",
   "execution_count": null,
   "id": "75bd64f5-3974-4dda-aefd-09a4a77aa2b2",
   "metadata": {},
   "outputs": [],
   "source": [
    "7. Write a Python program to calculate the sum of the positive integers of n+(n-2)+(n-4)... (until n-x =< 0).\n",
    "Test Data:\n",
    "sum_series(6) -> 12\n",
    "sum_series(10) -> 30"
   ]
  },
  {
   "cell_type": "code",
   "execution_count": 115,
   "id": "f6d901ff-d0c6-4e66-9f85-4c5998597cbe",
   "metadata": {},
   "outputs": [
    {
     "name": "stdout",
     "output_type": "stream",
     "text": [
      "30\n"
     ]
    }
   ],
   "source": [
    "def sums(a):\n",
    "        if a==0:\n",
    "            return 0\n",
    "        else:\n",
    "            return a+sums(a-2)\n",
    "print(sums(10))"
   ]
  },
  {
   "cell_type": "code",
   "execution_count": null,
   "id": "e43f832e-8b15-49e4-a3f8-f1b541719c16",
   "metadata": {},
   "outputs": [],
   "source": []
  },
  {
   "cell_type": "code",
   "execution_count": null,
   "id": "64932190-9552-403d-8573-611bf6980021",
   "metadata": {},
   "outputs": [],
   "source": []
  },
  {
   "cell_type": "code",
   "execution_count": 114,
   "id": "2c5cb64a-9af2-49a5-b810-c398b08f49bd",
   "metadata": {},
   "outputs": [
    {
     "name": "stdout",
     "output_type": "stream",
     "text": [
      "2.083333333333333\n"
     ]
    }
   ],
   "source": [
    "def geometric(a):\n",
    "    if a==1:\n",
    "        return 1\n",
    "    else:\n",
    "        return (1/a)+geometric(a-1)\n",
    "print(geometric(4))"
   ]
  },
  {
   "cell_type": "code",
   "execution_count": null,
   "id": "d4e4ff03-22a6-4c9a-bef8-36c7c2b7cef7",
   "metadata": {},
   "outputs": [],
   "source": []
  },
  {
   "cell_type": "code",
   "execution_count": null,
   "id": "1aa2f0a6-5dfa-4821-85fc-19779be7aac4",
   "metadata": {},
   "outputs": [],
   "source": []
  },
  {
   "cell_type": "code",
   "execution_count": 113,
   "id": "5b2a7476-bfc2-42e0-be1d-23ccf375d800",
   "metadata": {},
   "outputs": [
    {
     "name": "stdout",
     "output_type": "stream",
     "text": [
      "2.083333333333333\n"
     ]
    }
   ],
   "source": [
    "def geometric(a):\n",
    "    if a<=0:\n",
    "        return 0\n",
    "    else:\n",
    "        return (1/a)+geometric(a-1)\n",
    "print(geometric(4))"
   ]
  },
  {
   "cell_type": "code",
   "execution_count": null,
   "id": "ff6bd13f-5e12-442a-b6d5-27d91fcde144",
   "metadata": {},
   "outputs": [],
   "source": []
  },
  {
   "cell_type": "code",
   "execution_count": null,
   "id": "9d1ee9f5-fad0-4c51-96e9-0ea78a601d44",
   "metadata": {},
   "outputs": [],
   "source": []
  },
  {
   "cell_type": "code",
   "execution_count": null,
   "id": "f4b87040-3e28-4cfc-90e1-1f309f6daa50",
   "metadata": {},
   "outputs": [],
   "source": [
    "10. Write a Python program to calculate the value of 'a' to the power of 'b'.\n",
    "Test Data :\n",
    "(power(3,4) -> 81"
   ]
  },
  {
   "cell_type": "code",
   "execution_count": 108,
   "id": "24c0f7a7-05b9-4882-8541-527156ee7554",
   "metadata": {},
   "outputs": [
    {
     "name": "stdout",
     "output_type": "stream",
     "text": [
      "81\n"
     ]
    }
   ],
   "source": [
    "def power(a,b):\n",
    "    if b==0:\n",
    "        return 1\n",
    "    else:\n",
    "        return a*power(a,b-1)\n",
    "print(power(3,4))"
   ]
  },
  {
   "cell_type": "code",
   "execution_count": null,
   "id": "9c5f42d5-a7a4-44a5-b9df-5b8502add892",
   "metadata": {},
   "outputs": [],
   "source": []
  },
  {
   "cell_type": "code",
   "execution_count": null,
   "id": "5b4f07d6-7a78-4e27-aa4b-a924b915f1b3",
   "metadata": {},
   "outputs": [],
   "source": []
  },
  {
   "cell_type": "code",
   "execution_count": 107,
   "id": "30ea21a5-5a80-495e-8988-446240fe04f3",
   "metadata": {},
   "outputs": [
    {
     "name": "stdout",
     "output_type": "stream",
     "text": [
      " 12\n",
      " 14\n"
     ]
    },
    {
     "name": "stdout",
     "output_type": "stream",
     "text": [
      "2\n"
     ]
    }
   ],
   "source": [
    "\n",
    "def gcd(a,b):\n",
    "    low=min(a,b)\n",
    "    high=max(a,b)\n",
    "    if low==0:\n",
    "        return high\n",
    "    elif low==1:\n",
    "        return 1\n",
    "    else:\n",
    "        return gcd(low,high%low)\n",
    "a=int(input())\n",
    "b=int(input())\n",
    "print(gcd(a,b))"
   ]
  },
  {
   "cell_type": "code",
   "execution_count": null,
   "id": "b6b0eecb-340b-4ad7-b4e0-30c1cb54f885",
   "metadata": {},
   "outputs": [],
   "source": [
    "#prime logic"
   ]
  },
  {
   "cell_type": "code",
   "execution_count": 147,
   "id": "28fd0f28-bc19-4499-a436-f1e4dcad6b39",
   "metadata": {},
   "outputs": [
    {
     "name": "stdout",
     "output_type": "stream",
     "text": [
      " 12\n"
     ]
    },
    {
     "name": "stdout",
     "output_type": "stream",
     "text": [
      "not a  prime\n"
     ]
    }
   ],
   "source": [
    "def prime(a,i=2):\n",
    "    if a==i:\n",
    "        return (True)\n",
    "    elif a%i==0:\n",
    "        return (False)\n",
    "    return prime(a,i+1)\n",
    "a=int(input())\n",
    "if prime(a):\n",
    "    print(\"yes it is prime\",a)\n",
    "else:\n",
    "    print(\"not a  prime\")"
   ]
  },
  {
   "cell_type": "code",
   "execution_count": 148,
   "id": "388e0f67-4b69-4938-9002-82e1f9112284",
   "metadata": {},
   "outputs": [
    {
     "name": "stdout",
     "output_type": "stream",
     "text": [
      "84\n"
     ]
    }
   ],
   "source": [
    "a=[1,84,5,6,76]\n",
    "n=len(a)\n",
    "def maximum(a,n):\n",
    "    if n==1:\n",
    "        return a[0]\n",
    "    return max(a[n-1],maximum(a,n-1))\n",
    "print(maximum(a,n))\n"
   ]
  },
  {
   "cell_type": "code",
   "execution_count": 149,
   "id": "fe449cbe-5477-40f3-a8c2-fb26021164df",
   "metadata": {},
   "outputs": [
    {
     "name": "stdout",
     "output_type": "stream",
     "text": [
      "1\n"
     ]
    }
   ],
   "source": [
    "a=[1,84,5,6,76]\n",
    "n=len(a)\n",
    "def maximum(a,n):\n",
    "    if n==1:\n",
    "        return a[0]\n",
    "    return min(a[n-1],maximum(a,n-1))\n",
    "print(maximum(a,n))"
   ]
  },
  {
   "cell_type": "code",
   "execution_count": 150,
   "id": "40aaec0e-11f7-4b61-9c70-b93b24dfc254",
   "metadata": {},
   "outputs": [
    {
     "name": "stdout",
     "output_type": "stream",
     "text": [
      "a b\n"
     ]
    }
   ],
   "source": [
    "print(\"a\",\"b\")\n"
   ]
  },
  {
   "cell_type": "code",
   "execution_count": 153,
   "id": "1b9ac1b1-27f2-4237-89fd-ad52e982d9b0",
   "metadata": {},
   "outputs": [
    {
     "data": {
      "text/plain": [
       "100"
      ]
     },
     "execution_count": 153,
     "metadata": {},
     "output_type": "execute_result"
    }
   ],
   "source": [
    "a=1234\n",
    "def hello(a):\n",
    "    k=a\n",
    "    if k==0:\n",
    "        return 0\n",
    "    else:\n",
    "        return (a%10)*10)+hello(a//10)\n",
    "hello(a)"
   ]
  },
  {
   "cell_type": "code",
   "execution_count": 154,
   "id": "956c957b-2e56-4e1d-a009-0796f0f831e1",
   "metadata": {},
   "outputs": [
    {
     "data": {
      "text/plain": [
       "5"
      ]
     },
     "execution_count": 154,
     "metadata": {},
     "output_type": "execute_result"
    }
   ],
   "source": [
    "a=\"hello\"\n",
    "def strings(a):\n",
    "    if a==\"\":\n",
    "        return 0\n",
    "    else:\n",
    "        return 1+strings(a[1:])\n",
    "strings(a)\n",
    "    "
   ]
  },
  {
   "cell_type": "code",
   "execution_count": null,
   "id": "fd15523b-f26e-4278-84ed-4f965e2e03f1",
   "metadata": {},
   "outputs": [],
   "source": []
  }
 ],
 "metadata": {
  "kernelspec": {
   "display_name": "Python 3 (ipykernel)",
   "language": "python",
   "name": "python3"
  },
  "language_info": {
   "codemirror_mode": {
    "name": "ipython",
    "version": 3
   },
   "file_extension": ".py",
   "mimetype": "text/x-python",
   "name": "python",
   "nbconvert_exporter": "python",
   "pygments_lexer": "ipython3",
   "version": "3.11.5"
  }
 },
 "nbformat": 4,
 "nbformat_minor": 5
}
