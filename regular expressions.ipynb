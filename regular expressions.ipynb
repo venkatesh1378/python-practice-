{
 "cells": [
  {
   "cell_type": "markdown",
   "id": "63b4d46b-a743-4b51-a948-e456f99c9a3a",
   "metadata": {},
   "source": [
    "**regular expressions**"
   ]
  },
  {
   "cell_type": "markdown",
   "id": "a53c4b96-b87f-4445-9e25-fe7f8d0c4d3e",
   "metadata": {},
   "source": [
    "re is a powerful tool used to find the searching patterns and formating the strings"
   ]
  },
  {
   "cell_type": "markdown",
   "id": "1573f46f-7570-4bef-ba27-ef294becdfbf",
   "metadata": {},
   "source": [
    "- application\n",
    "- data validation\n",
    "- mobile validialtions\n",
    "- email validation'\n",
    "-form mistakens\n",
    "\n",
    "- pattern matching application\n",
    "- like operator in sql"
   ]
  },
  {
   "cell_type": "markdown",
   "id": "83f9a396-9b09-4743-adef-5549721f901e",
   "metadata": {},
   "source": [
    "- example \n",
    "- i have clients email id and i want to check the emails and filter the non-following email\n",
    "- compilers interpreters assemblers\n",
    "- syntax analysis lexical analysis \n"
   ]
  },
  {
   "cell_type": "markdown",
   "id": "f242e9b1-c7ee-4a7f-9e2c-38133be5c576",
   "metadata": {},
   "source": [
    "- extract specifillacy wanted data\n",
    "- data cleaning\n",
    "-  remove unwanted characters"
   ]
  },
  {
   "cell_type": "markdown",
   "id": "4a246940-4aa6-4b41-b62b-ef2405f4c099",
   "metadata": {},
   "source": [
    "- web scrapping\n",
    "- extract specific info HTML or XML documnets"
   ]
  },
  {
   "cell_type": "markdown",
   "id": "ea0b1efb-8fe9-46e4-a261-56ecfe216b7f",
   "metadata": {},
   "source": [
    "- password policies\n",
    "- max lengt 8\n",
    "- use in NLP ---to identify specific patterns "
   ]
  },
  {
   "cell_type": "code",
   "execution_count": null,
   "id": "75f69f75-fdba-409f-a88d-0f7e38b32765",
   "metadata": {},
   "outputs": [],
   "source": [
    "# search"
   ]
  },
  {
   "cell_type": "markdown",
   "id": "94c162c1-41f0-43f0-8a4d-46bd84936ccf",
   "metadata": {},
   "source": [
    "- re.search()\n",
    "- re.search(pattern,data)\n",
    "- pattern-------------regular expression returns pattern you want to search for\n",
    "- data---------------input string in which you want to search pattern\n",
    "- returns : match object if match is found or NOne if no match is found"
   ]
  },
  {
   "cell_type": "code",
   "execution_count": 1,
   "id": "16e9c9a1-3692-44e0-9e05-d8a983bc5424",
   "metadata": {},
   "outputs": [
    {
     "name": "stdout",
     "output_type": "stream",
     "text": [
      "<re.Match object; span=(38, 44), match='python'>\n",
      "python\n",
      "<class 're.Match'>\n"
     ]
    }
   ],
   "source": [
    "import re\n",
    "a=\"PYthon\"\n",
    "b=\"the important programming language is pythonand python is easy to learn\"\n",
    "match=re.search(a,b,re.IGNORECASE)\n",
    "print(match)\n",
    "print(match.group())\n",
    "print(type(match))"
   ]
  },
  {
   "cell_type": "markdown",
   "id": "72db7235-cc62-42aa-951a-bc6000e2166c",
   "metadata": {},
   "source": [
    "- re.match\n",
    "- search for the patterns at the begining of the straing\n",
    "- re.match(pattern,string)\n",
    "-return if match object found at begging string else NOne"
   ]
  },
  {
   "cell_type": "code",
   "execution_count": 2,
   "id": "5e154664-e8e0-4b9b-81eb-d12008a0082e",
   "metadata": {},
   "outputs": [
    {
     "name": "stdout",
     "output_type": "stream",
     "text": [
      "None\n",
      "<class 'NoneType'>\n"
     ]
    }
   ],
   "source": [
    "import re\n",
    "a=r\"PYthon\"    #use raw strings escape sequence are ignored\n",
    "b=\"the important programming language is pythonand python is easy to learn\"\n",
    "match=re.match(a,b,re.IGNORECASE)\n",
    "print(match)\n",
    "#print(match.group())\n",
    "print(type(match))"
   ]
  },
  {
   "cell_type": "markdown",
   "id": "9fb82b09-0e27-4eb7-8614-a5b7cb7127be",
   "metadata": {},
   "source": [
    "- use regular expressions in two ways\n",
    "- irectly patterns\n",
    "- regular expression objects"
   ]
  },
  {
   "cell_type": "markdown",
   "id": "f7ea09b1-cc09-41a9-91ae-44f19d4872f0",
   "metadata": {},
   "source": [
    "- to increase the performance in the program use objects\n",
    "- we use re.compile"
   ]
  },
  {
   "cell_type": "code",
   "execution_count": 4,
   "id": "7c5c2464-e4c1-4564-97be-1b4d1c44ba4d",
   "metadata": {},
   "outputs": [
    {
     "data": {
      "text/plain": [
       "<re.Match object; span=(0, 6), match='python'>"
      ]
     },
     "execution_count": 4,
     "metadata": {},
     "output_type": "execute_result"
    }
   ],
   "source": [
    "import re\n",
    "pattern=re.compile(r'python',re.IGNORECASE)\n",
    "data=\"python is a powerful programing language\"\n",
    "k=re.match(pattern,data)\n",
    "k\n"
   ]
  },
  {
   "cell_type": "code",
   "execution_count": null,
   "id": "48093adc-f355-4d13-b49f-f0199aaf0f66",
   "metadata": {},
   "outputs": [],
   "source": [
    "#findall()\n",
    "#finditer()"
   ]
  },
  {
   "cell_type": "code",
   "execution_count": 7,
   "id": "5aaa7214-ee2b-42be-8c73-c3d3c6d67bdd",
   "metadata": {},
   "outputs": [
    {
     "data": {
      "text/plain": [
       "<callable_iterator at 0x271d70647f0>"
      ]
     },
     "execution_count": 7,
     "metadata": {},
     "output_type": "execute_result"
    }
   ],
   "source": [
    "#re.finditer()\n",
    "#find all the patterns in the data \n",
    "re.finditer(pattern,data)\n",
    "#returns iterators"
   ]
  },
  {
   "cell_type": "code",
   "execution_count": 8,
   "id": "f3958911-f700-4d68-9624-9a8f6eadc89a",
   "metadata": {},
   "outputs": [
    {
     "name": "stdout",
     "output_type": "stream",
     "text": [
      "0\n",
      "ab\n",
      "2\n",
      "3\n",
      "ab\n",
      "5\n",
      "5\n",
      "ab\n",
      "7\n",
      "8\n",
      "ab\n",
      "10\n"
     ]
    }
   ],
   "source": [
    "import re\n",
    "x=\"ab\"\n",
    "data=\"abcababcab\"\n",
    "k=re.finditer(x,data,re.IGNORECASE)\n",
    "for i in k:\n",
    "    print(i.start())\n",
    "    print(i.group())\n",
    "    print(i.end())"
   ]
  },
  {
   "cell_type": "code",
   "execution_count": 9,
   "id": "04a8f7e2-bad9-40ca-9283-4027d180941c",
   "metadata": {},
   "outputs": [
    {
     "name": "stdout",
     "output_type": "stream",
     "text": [
      "ab\n",
      "ab\n",
      "ab\n",
      "ab\n"
     ]
    }
   ],
   "source": [
    "import re\n",
    "x=\"ab\"\n",
    "data=\"abcababcab\"\n",
    "k=re.findall(x,data,re.IGNORECASE)  # return list\n",
    "for i in k:\n",
    "    print(i)"
   ]
  },
  {
   "cell_type": "markdown",
   "id": "5ea737fe-4a0e-468d-805b-060707d3772f",
   "metadata": {},
   "source": [
    "- list vs iterator\n",
    "- iterator---------------at atime only one element   \n",
    "- lists--------store every thing in memory allocation"
   ]
  },
  {
   "cell_type": "markdown",
   "id": "36f6af9d-754f-4aaa-a668-c44c0043ff21",
   "metadata": {},
   "source": [
    "- findall  doesnot give every information like start end "
   ]
  },
  {
   "cell_type": "markdown",
   "id": "5d83593f-6f0b-4fc9-a50c-b73c53fc4c21",
   "metadata": {},
   "source": [
    "- find all non-overlapping matches \n"
   ]
  },
  {
   "cell_type": "code",
   "execution_count": 11,
   "id": "66da6fa2-f41f-4f32-807f-19b4f8c794e9",
   "metadata": {},
   "outputs": [
    {
     "name": "stdout",
     "output_type": "stream",
     "text": [
      "['bb']\n"
     ]
    }
   ],
   "source": [
    "import re\n",
    "pattern=\"bb\"\n",
    "data=\"bbbaba\"\n",
    "k=re.findall(pattern,data)\n",
    "print(k)"
   ]
  },
  {
   "cell_type": "markdown",
   "id": "9f3a09ba-9eb0-494c-94a3-f85fdc62c8ba",
   "metadata": {},
   "source": [
    "- **character classes**\n",
    "- refers to set of characters that you can define using re\n",
    "- character classes are used to specify range or group of characters you want to search in data"
   ]
  },
  {
   "cell_type": "code",
   "execution_count": 12,
   "id": "9d74d830-8c47-46ef-b6e3-50866e30423c",
   "metadata": {},
   "outputs": [
    {
     "name": "stdout",
     "output_type": "stream",
     "text": [
      "<re.Match object; span=(20, 21), match='1'>\n",
      "<re.Match object; span=(21, 22), match='0'>\n",
      "<re.Match object; span=(22, 23), match='0'>\n"
     ]
    }
   ],
   "source": [
    "#find the given data\n",
    "import re\n",
    "pattern =r'[0-9]'  #metacharacters \\d\n",
    "data=\"price of carrot is $100\"\n",
    "match=re.finditer(pattern,data)\n",
    "for i in match:\n",
    "    print(i)"
   ]
  },
  {
   "cell_type": "code",
   "execution_count": 13,
   "id": "d42f9fac-13a2-4f63-a10d-a5ee4b69774e",
   "metadata": {},
   "outputs": [],
   "source": [
    "pattern =r'[A-Za-z0-9]'  #to find all things "
   ]
  },
  {
   "cell_type": "code",
   "execution_count": 14,
   "id": "ce77b8cc-27c8-4bc1-8ae9-15d3e07a0896",
   "metadata": {},
   "outputs": [
    {
     "data": {
      "text/plain": [
       "[' ', ' ', ' ', ' ', '$']"
      ]
     },
     "execution_count": 14,
     "metadata": {},
     "output_type": "execute_result"
    }
   ],
   "source": [
    "import re\n",
    "pattern =r'[^a-z0-9]'  #metacharacters \\d  \"^ ignore that characters\"\n",
    "data=\"price of carrot is $100\"\n",
    "match=re.findall(pattern,data)\n",
    "match"
   ]
  },
  {
   "cell_type": "code",
   "execution_count": null,
   "id": "903ba511-2112-4f75-9aac-94321b33d396",
   "metadata": {},
   "outputs": [],
   "source": [
    "#escape charatets\n",
    "#r[0-9]  alterante r'/d'\n",
    "\\d--- matches digits\n",
    "\\D---non-digit character\n",
    "\\w---matches any word character\n",
    "\\W----matches any  non-word  character\n",
    "\\s---matches any whitespaces\n",
    "\\S---matches any non-whitespaces\n",
    "\\A---startswith\n",
    "\\Z---endswith\n",
    ".:---matches every character"
   ]
  },
  {
   "cell_type": "code",
   "execution_count": 16,
   "id": "f385c9f1-b20b-4a9f-ba92-b26fd540611c",
   "metadata": {},
   "outputs": [
    {
     "data": {
      "text/plain": [
       "['2', '3']"
      ]
     },
     "execution_count": 16,
     "metadata": {},
     "output_type": "execute_result"
    }
   ],
   "source": [
    "import re\n",
    "pattern=r'\\d'                       # digits\n",
    "data=\"my name is venkatesh age is 23\"\n",
    "re.findall(pattern,data)\n",
    "re.findall(pattern,data)"
   ]
  },
  {
   "cell_type": "code",
   "execution_count": 18,
   "id": "683bcc90-c995-4976-97df-783c439a53bd",
   "metadata": {},
   "outputs": [
    {
     "data": {
      "text/plain": [
       "['m',\n",
       " 'y',\n",
       " ' ',\n",
       " 'n',\n",
       " 'a',\n",
       " 'm',\n",
       " 'e',\n",
       " ' ',\n",
       " 'i',\n",
       " 's',\n",
       " ' ',\n",
       " 'v',\n",
       " 'e',\n",
       " 'n',\n",
       " 'k',\n",
       " 'a',\n",
       " 't',\n",
       " 'e',\n",
       " 's',\n",
       " 'h',\n",
       " ' ',\n",
       " 'a',\n",
       " 'g',\n",
       " 'e',\n",
       " ' ',\n",
       " 'i',\n",
       " 's',\n",
       " ' ']"
      ]
     },
     "execution_count": 18,
     "metadata": {},
     "output_type": "execute_result"
    }
   ],
   "source": [
    "import re\n",
    "pattern=r'\\D'                       # digits\n",
    "data=\"my name is venkatesh age is 23\"\n",
    "re.findall(pattern,data)"
   ]
  },
  {
   "cell_type": "code",
   "execution_count": 19,
   "id": "482a4238-81ba-4525-90dd-ae212d15f19e",
   "metadata": {},
   "outputs": [
    {
     "data": {
      "text/plain": [
       "['m',\n",
       " 'y',\n",
       " 'n',\n",
       " 'a',\n",
       " 'm',\n",
       " 'e',\n",
       " 'i',\n",
       " 's',\n",
       " 'v',\n",
       " 'e',\n",
       " 'n',\n",
       " 'k',\n",
       " 'a',\n",
       " 't',\n",
       " 'e',\n",
       " 's',\n",
       " 'h',\n",
       " 'a',\n",
       " 'g',\n",
       " 'e',\n",
       " 'i',\n",
       " 's',\n",
       " '2',\n",
       " '3',\n",
       " '_']"
      ]
     },
     "execution_count": 19,
     "metadata": {},
     "output_type": "execute_result"
    }
   ],
   "source": [
    "import re\n",
    "pattern=r'\\w'                       # digits\n",
    "data=\"my name is venkatesh age is 23  $ _ \"\n",
    "re.findall(pattern,data)"
   ]
  },
  {
   "cell_type": "code",
   "execution_count": 20,
   "id": "ee227026-482b-43e6-a242-36e44f2d51c8",
   "metadata": {},
   "outputs": [
    {
     "data": {
      "text/plain": [
       "[' ', ' ', ' ', ' ', ' ', ' ', ' ', ' ', '$', ' ', ' ']"
      ]
     },
     "execution_count": 20,
     "metadata": {},
     "output_type": "execute_result"
    }
   ],
   "source": [
    "import re\n",
    "pattern=r'\\W'                       # digits\n",
    "data=\"my name is venkatesh age is 23  $ _ \"\n",
    "re.findall(pattern,data)"
   ]
  },
  {
   "cell_type": "code",
   "execution_count": 21,
   "id": "8817f5fc-0d9f-4a1b-9920-144cf30d52f8",
   "metadata": {},
   "outputs": [
    {
     "data": {
      "text/plain": [
       "[' ', ' ', ' ', ' ', ' ', ' ', ' ', ' ', ' ', ' ']"
      ]
     },
     "execution_count": 21,
     "metadata": {},
     "output_type": "execute_result"
    }
   ],
   "source": [
    "import re\n",
    "pattern=r'\\s'                       # digits\n",
    "data=\"my name is venkatesh age is 23  $ _ \"\n",
    "re.findall(pattern,data)"
   ]
  },
  {
   "cell_type": "code",
   "execution_count": 22,
   "id": "964754af-fb72-4e8b-b2c6-5d3155baa48b",
   "metadata": {},
   "outputs": [
    {
     "data": {
      "text/plain": [
       "['m',\n",
       " 'y',\n",
       " 'n',\n",
       " 'a',\n",
       " 'm',\n",
       " 'e',\n",
       " 'i',\n",
       " 's',\n",
       " 'v',\n",
       " 'e',\n",
       " 'n',\n",
       " 'k',\n",
       " 'a',\n",
       " 't',\n",
       " 'e',\n",
       " 's',\n",
       " 'h',\n",
       " 'a',\n",
       " 'g',\n",
       " 'e',\n",
       " 'i',\n",
       " 's',\n",
       " '2',\n",
       " '3',\n",
       " '$',\n",
       " '_']"
      ]
     },
     "execution_count": 22,
     "metadata": {},
     "output_type": "execute_result"
    }
   ],
   "source": [
    "import re\n",
    "pattern=r'\\S'                       # digits\n",
    "data=\"my name is venkatesh age is 23  $ _ \"\n",
    "re.findall(pattern,data)"
   ]
  },
  {
   "cell_type": "code",
   "execution_count": 23,
   "id": "9ea6402d-7901-4ea3-bcd4-7c81453977e2",
   "metadata": {},
   "outputs": [
    {
     "data": {
      "text/plain": [
       "['my']"
      ]
     },
     "execution_count": 23,
     "metadata": {},
     "output_type": "execute_result"
    }
   ],
   "source": [
    "import re\n",
    "pattern=r'\\Amy'                       # digits\n",
    "data=\"my name is venkatesh age is 23  $ _ \"\n",
    "re.findall(pattern,data)"
   ]
  },
  {
   "cell_type": "code",
   "execution_count": 24,
   "id": "d5f058c1-662e-44df-8043-c5412e7e3f29",
   "metadata": {},
   "outputs": [
    {
     "data": {
      "text/plain": [
       "['23']"
      ]
     },
     "execution_count": 24,
     "metadata": {},
     "output_type": "execute_result"
    }
   ],
   "source": [
    "import re\n",
    "pattern=r'23\\Z'                       # digits\n",
    "data=\"my name is venkatesh age is 23\"\n",
    "re.findall(pattern,data)"
   ]
  },
  {
   "cell_type": "code",
   "execution_count": 25,
   "id": "a3b8e3d1-ad48-4a3a-b073-68068230b29c",
   "metadata": {},
   "outputs": [
    {
     "data": {
      "text/plain": [
       "['m',\n",
       " 'y',\n",
       " ' ',\n",
       " 'n',\n",
       " 'a',\n",
       " 'm',\n",
       " 'e',\n",
       " ' ',\n",
       " 'i',\n",
       " 's',\n",
       " ' ',\n",
       " 'v',\n",
       " 'e',\n",
       " 'n',\n",
       " 'k',\n",
       " 'a',\n",
       " 't',\n",
       " 'e',\n",
       " 's',\n",
       " 'h',\n",
       " ' ',\n",
       " 'a',\n",
       " 'g',\n",
       " 'e',\n",
       " ' ',\n",
       " '.',\n",
       " 'i',\n",
       " 's',\n",
       " ' ',\n",
       " '2',\n",
       " '3']"
      ]
     },
     "execution_count": 25,
     "metadata": {},
     "output_type": "execute_result"
    }
   ],
   "source": [
    "import re\n",
    "pattern=r'.'                       # digits\n",
    "data=\"my name is venkatesh age .is 23\"\n",
    "re.findall(pattern,data)"
   ]
  },
  {
   "cell_type": "code",
   "execution_count": 26,
   "id": "a28c2bc0-01fb-470a-a2bd-820e676635bb",
   "metadata": {},
   "outputs": [],
   "source": [
    "#how to find the dot in the patterns"
   ]
  },
  {
   "cell_type": "code",
   "execution_count": 27,
   "id": "6dfae77c-4546-4c14-8af2-060c0945a485",
   "metadata": {},
   "outputs": [
    {
     "data": {
      "text/plain": [
       "['.']"
      ]
     },
     "execution_count": 27,
     "metadata": {},
     "output_type": "execute_result"
    }
   ],
   "source": [
    "import re\n",
    "pattern=r'\\.'                       # digits\n",
    "data=\"my name is venkatesh age .is 23\"\n",
    "re.findall(pattern,data)"
   ]
  },
  {
   "cell_type": "code",
   "execution_count": 28,
   "id": "dba6ce7c-8005-4e1f-9a43-24183eeb9ebc",
   "metadata": {},
   "outputs": [
    {
     "name": "stdout",
     "output_type": "stream",
     "text": [
      "<re.Match object; span=(20, 22), match='[]'>\n"
     ]
    }
   ],
   "source": [
    "import re\n",
    "pattern=r'\\[\\]'                       # digits\n",
    "data=\"my name is venkatesh[] age .is 23\"\n",
    "s=re.finditer(pattern,data)\n",
    "for i in s:\n",
    "    print(i)"
   ]
  },
  {
   "cell_type": "code",
   "execution_count": 29,
   "id": "63d4d3a4-2f5d-46d1-9384-d44398ae120d",
   "metadata": {},
   "outputs": [
    {
     "name": "stdout",
     "output_type": "stream",
     "text": [
      "<re.Match object; span=(19, 21), match='\\\\h'>\n"
     ]
    }
   ],
   "source": [
    "import re\n",
    "pattern=r'\\\\h'                       # digits\n",
    "data=\"my name is venkates\\hage .is 23\"\n",
    "s=re.finditer(pattern,data)\n",
    "for i in s:\n",
    "    print(i)"
   ]
  },
  {
   "cell_type": "code",
   "execution_count": 30,
   "id": "9f05b21e-bcab-46ca-9dda-7d3fca3a1a42",
   "metadata": {},
   "outputs": [
    {
     "name": "stdout",
     "output_type": "stream",
     "text": [
      "<re.Match object; span=(19, 20), match='\\\\'>\n"
     ]
    }
   ],
   "source": [
    "import re\n",
    "pattern=r'\\\\'                       # digits\n",
    "data=\"my name is venkates\\hage .is 23\"\n",
    "s=re.finditer(pattern,data)\n",
    "for i in s:\n",
    "    print(i)"
   ]
  },
  {
   "cell_type": "code",
   "execution_count": 31,
   "id": "52994ff0-f69c-43d9-ad7b-ff1e007a2a23",
   "metadata": {},
   "outputs": [
    {
     "name": "stdout",
     "output_type": "stream",
     "text": [
      "<re.Match object; span=(19, 20), match='\\\\'>\n"
     ]
    }
   ],
   "source": [
    "import re\n",
    "pattern=r'\\\\'                       # digits\n",
    "data=\"my name is venkates\\\\hage .is 23\"\n",
    "s=re.finditer(pattern,data)\n",
    "for i in s:\n",
    "    print(i)"
   ]
  },
  {
   "cell_type": "code",
   "execution_count": 32,
   "id": "9dcd94b1-d90e-48e3-b6fb-41f45ce32966",
   "metadata": {},
   "outputs": [
    {
     "name": "stdout",
     "output_type": "stream",
     "text": [
      "<re.Match object; span=(4, 14), match='2023-09-07'>\n",
      "<re.Match object; span=(57, 67), match='2023-09-19'>\n"
     ]
    }
   ],
   "source": [
    "import re\n",
    "text=\" on 2023-09-07 the conference is begin and ended with in 2023-09-19\"\n",
    "date_pattern=r\"\\d{4}-\\d{2}-\\d{2}\"                     #concept of regular expression\n",
    "k=re.finditer(date_pattern,text)\n",
    "for i in k:\n",
    "    print(i)"
   ]
  },
  {
   "cell_type": "code",
   "execution_count": null,
   "id": "080f13ed-99be-4090-81b7-88574c6b0822",
   "metadata": {},
   "outputs": [],
   "source": [
    "#metacharacters in python important\n",
    "#are special characters  that affect how the regular expressions around them are interpreted\n",
    "#metacharacters donot match themseleves that they indicates some rules\n"
   ]
  },
  {
   "cell_type": "code",
   "execution_count": 33,
   "id": "0376f194-c9e2-475d-afef-649949184592",
   "metadata": {},
   "outputs": [
    {
     "name": "stdout",
     "output_type": "stream",
     "text": [
      "[' ', 'i', ' ', 'a', 'm', ' ', 'v', 'e', 'n', 'k', 'a', 't', 'e', 's', 'h']\n"
     ]
    }
   ],
   "source": [
    "import re\n",
    "data=\" i am venkatesh\"   \n",
    "pattern=r'.'\n",
    "matches=re.findall(pattern,data)\n",
    "print(matches)"
   ]
  },
  {
   "cell_type": "code",
   "execution_count": 34,
   "id": "07dba4b2-190f-49e1-8d85-ddab85e104d5",
   "metadata": {},
   "outputs": [
    {
     "name": "stdout",
     "output_type": "stream",
     "text": [
      "<re.Match object; span=(0, 1), match=' '>\n",
      "<re.Match object; span=(1, 2), match='i'>\n",
      "<re.Match object; span=(2, 3), match=' '>\n",
      "<re.Match object; span=(3, 4), match='a'>\n",
      "<re.Match object; span=(4, 5), match='m'>\n",
      "<re.Match object; span=(6, 7), match='v'>\n",
      "<re.Match object; span=(7, 8), match='e'>\n",
      "<re.Match object; span=(8, 9), match='n'>\n",
      "<re.Match object; span=(9, 10), match='k'>\n",
      "<re.Match object; span=(10, 11), match='a'>\n",
      "<re.Match object; span=(11, 12), match='t'>\n",
      "<re.Match object; span=(12, 13), match='e'>\n",
      "<re.Match object; span=(13, 14), match='s'>\n",
      "<re.Match object; span=(14, 15), match='h'>\n"
     ]
    }
   ],
   "source": [
    "data=\" i am\\nvenkatesh\"   \n",
    "pattern=r'.'\n",
    "matches=re.finditer(pattern,data)\n",
    "for i in matches:\n",
    "    print(i)"
   ]
  },
  {
   "cell_type": "markdown",
   "id": "d127f913-99dc-4934-ae77-ce145c5539b9",
   "metadata": {},
   "source": [
    "#+(plus)\n",
    "character should repeat one or more times \n",
    "with many repetations possible 1 or more tahn 1 is possible"
   ]
  },
  {
   "cell_type": "code",
   "execution_count": 36,
   "id": "f0bb555f-e9dd-4963-bd31-dcc0c3553fe4",
   "metadata": {},
   "outputs": [
    {
     "name": "stdout",
     "output_type": "stream",
     "text": [
      "<re.Match object; span=(2, 6), match='llll'>\n",
      "<re.Match object; span=(11, 12), match='l'>\n"
     ]
    }
   ],
   "source": [
    "import re\n",
    "data=\"hellllo world\"\n",
    "pattern=r'l+'\n",
    "matches=re.finditer(pattern,data)\n",
    "for i in matches:\n",
    "    print(i)"
   ]
  },
  {
   "cell_type": "code",
   "execution_count": 37,
   "id": "35b08273-17f3-47e0-b504-10c7e6c67b1e",
   "metadata": {},
   "outputs": [
    {
     "data": {
      "text/plain": [
       "['12', '44', '55', '55', '66']"
      ]
     },
     "execution_count": 37,
     "metadata": {},
     "output_type": "execute_result"
    }
   ],
   "source": [
    "import re\n",
    "data=\"12,2,3,444,5555,66\"\n",
    "pattern=r'\\d\\d'\n",
    "matches=re.findall(pattern,data)\n",
    "matches"
   ]
  },
  {
   "cell_type": "code",
   "execution_count": 38,
   "id": "4eab44a9-e8ed-405b-b65f-b41aa086f988",
   "metadata": {},
   "outputs": [
    {
     "data": {
      "text/plain": [
       "['12', '2', '3', '444', '5555', '66']"
      ]
     },
     "execution_count": 38,
     "metadata": {},
     "output_type": "execute_result"
    }
   ],
   "source": [
    "import re\n",
    "data=\"12,2,3,444,5555,66\"\n",
    "pattern=r'\\d+'\n",
    "matches=re.findall(pattern,data)\n",
    "matches"
   ]
  },
  {
   "cell_type": "code",
   "execution_count": 39,
   "id": "1998153b-8043-4ab3-ae40-463f728f4752",
   "metadata": {},
   "outputs": [
    {
     "data": {
      "text/plain": [
       "['venkat@gmail.com', 'sura12@12.com']"
      ]
     },
     "execution_count": 39,
     "metadata": {},
     "output_type": "execute_result"
    }
   ],
   "source": [
    "#checking the emails\n",
    "import re\n",
    "data=\"My eamil are venkat@gmail.com and sura12@12.com\"\n",
    "pattern=r'\\w+@\\w+\\.\\w+'\n",
    "email=re.findall(pattern,data)\n",
    "email"
   ]
  },
  {
   "cell_type": "code",
   "execution_count": 40,
   "id": "576cb8d5-36dc-4001-a6db-73f75ad0f926",
   "metadata": {},
   "outputs": [],
   "source": [
    "#*astreik\n",
    "#zero or more characters  including zero occurances\n"
   ]
  },
  {
   "cell_type": "code",
   "execution_count": 41,
   "id": "31003b26-6d43-40b6-98b5-104b7ff06777",
   "metadata": {},
   "outputs": [
    {
     "name": "stdout",
     "output_type": "stream",
     "text": [
      "<re.Match object; span=(0, 0), match=''>\n",
      "<re.Match object; span=(1, 1), match=''>\n",
      "<re.Match object; span=(2, 6), match='llll'>\n",
      "<re.Match object; span=(6, 6), match=''>\n",
      "<re.Match object; span=(7, 7), match=''>\n",
      "<re.Match object; span=(8, 8), match=''>\n",
      "<re.Match object; span=(9, 9), match=''>\n",
      "<re.Match object; span=(10, 10), match=''>\n",
      "<re.Match object; span=(11, 12), match='l'>\n",
      "<re.Match object; span=(12, 12), match=''>\n",
      "<re.Match object; span=(13, 13), match=''>\n"
     ]
    }
   ],
   "source": [
    "import re\n",
    "data=\"hellllo world\"\n",
    "pattern=r'l*'\n",
    "matches=re.finditer(pattern,data)   #o or more occurances \n",
    "for i in matches:\n",
    "    print(i)"
   ]
  },
  {
   "cell_type": "code",
   "execution_count": 42,
   "id": "82211992-6ef2-4242-acf5-3bc64b209c68",
   "metadata": {},
   "outputs": [
    {
     "data": {
      "text/plain": [
       "['abb', 'aaabbbb', 'aaabbbccc', 'bb']"
      ]
     },
     "execution_count": 42,
     "metadata": {},
     "output_type": "execute_result"
    }
   ],
   "source": [
    "import re\n",
    "data=\"abb ac aaabbbb aaa aaabbbccc cc bb\"\n",
    "pattern=r'a*b+\\w+'\n",
    "k=re.findall(pattern,data)\n",
    "k"
   ]
  },
  {
   "cell_type": "code",
   "execution_count": null,
   "id": "c832e0b2-bbf7-417b-bee4-e810993b5856",
   "metadata": {},
   "outputs": [],
   "source": [
    "#^ ensures pattern matches or started  carat"
   ]
  },
  {
   "cell_type": "code",
   "execution_count": 43,
   "id": "392f3ca8-f91e-4fe1-b956-2b39903793f3",
   "metadata": {},
   "outputs": [
    {
     "name": "stdout",
     "output_type": "stream",
     "text": [
      "['hello']\n"
     ]
    }
   ],
   "source": [
    "import re\n",
    "pattern= r'^hello'\n",
    "text=\"hello world\"\n",
    "matches=re.findall(pattern,text)\n",
    "print(matches)"
   ]
  },
  {
   "cell_type": "code",
   "execution_count": 44,
   "id": "238c342c-566f-4e72-8599-2709e50fb2d1",
   "metadata": {},
   "outputs": [
    {
     "data": {
      "text/plain": [
       "['h', 'e', 'l', 'l', 'o', ' ', ' ', 'w', 'o', 'r', 'l', 'd']"
      ]
     },
     "execution_count": 44,
     "metadata": {},
     "output_type": "execute_result"
    }
   ],
   "source": [
    "import re\n",
    "pattern=r\"[^0-9]\"\n",
    "text=\"hello 10 56world\"\n",
    "matches=re.findall(pattern,text)\n",
    "matches"
   ]
  },
  {
   "cell_type": "code",
   "execution_count": 45,
   "id": "ddce2fc5-189e-4d35-bf09-b2c76efa8933",
   "metadata": {},
   "outputs": [
    {
     "data": {
      "text/plain": [
       "['23']"
      ]
     },
     "execution_count": 45,
     "metadata": {},
     "output_type": "execute_result"
    }
   ],
   "source": [
    "import re\n",
    "pattern=r\"\\d{2}$\"\n",
    "text=\"hello 10 56world123\"\n",
    "matches=re.findall(pattern,text)\n",
    "matches"
   ]
  },
  {
   "cell_type": "code",
   "execution_count": 46,
   "id": "87ce4296-db06-4db6-be5d-40ca0d9e8c6a",
   "metadata": {},
   "outputs": [
    {
     "name": "stdout",
     "output_type": "stream",
     "text": [
      "<re.Match object; span=(0, 6), match='colour'>\n",
      "<re.Match object; span=(11, 16), match='color'>\n"
     ]
    }
   ],
   "source": [
    "import re                      #? preceding character is optional or not\n",
    "data=\"colour and color are same \"\n",
    "pattern ='colou?r'\n",
    "matches=re.finditer(pattern,data)\n",
    "for i in matches:\n",
    "    print(i)\n"
   ]
  },
  {
   "cell_type": "code",
   "execution_count": 47,
   "id": "94bbe118-cffc-467a-b88d-463785f3c81b",
   "metadata": {},
   "outputs": [
    {
     "data": {
      "text/plain": [
       "['123456789', '123-245-355']"
      ]
     },
     "execution_count": 47,
     "metadata": {},
     "output_type": "execute_result"
    }
   ],
   "source": [
    "import re\n",
    "data= \"123456789 or 123-245-355\"\n",
    "pattern=\"\\d{3}-?\\d{3}-?\\d{3}\"\n",
    "matches=re.findall(pattern,data)\n",
    "matches"
   ]
  },
  {
   "cell_type": "code",
   "execution_count": 48,
   "id": "55ccc21d-b798-4ae8-ac02-062c8d1aacf6",
   "metadata": {},
   "outputs": [
    {
     "name": "stdout",
     "output_type": "stream",
     "text": [
      "<re.Match object; span=(0, 18), match='http://example.com'>\n",
      "<re.Match object; span=(0, 19), match='http://examples.org'>\n",
      "None\n"
     ]
    }
   ],
   "source": [
    "import re\n",
    "pattern=r'https?://\\w+\\.\\w+'\n",
    "urls=[\"http://example.com\",\"http://examples.org\",\"htttps://fileserver.net\"]\n",
    "for  url in urls:\n",
    "    print(re.match(pattern,url))"
   ]
  },
  {
   "cell_type": "code",
   "execution_count": null,
   "id": "45ec60ec-1c52-4fe3-b068-46e1a96e4551",
   "metadata": {},
   "outputs": [],
   "source": [
    "| (pipe symbol)\n",
    "- used for alternation\n",
    "- specify the multiple patterns and matching any one of them\n"
   ]
  },
  {
   "cell_type": "code",
   "execution_count": 49,
   "id": "ded07dec-a458-4af4-ba41-8e29ac0fce03",
   "metadata": {},
   "outputs": [
    {
     "data": {
      "text/plain": [
       "['cat', 'dog']"
      ]
     },
     "execution_count": 49,
     "metadata": {},
     "output_type": "execute_result"
    }
   ],
   "source": [
    "import re\n",
    "pattern=r'cat|dog'\n",
    "data=\"there is a cat and dog\"\n",
    "re.findall(pattern,data)"
   ]
  },
  {
   "cell_type": "code",
   "execution_count": 50,
   "id": "0b596dd3-f48d-48f5-b5dd-d6e9b8c96243",
   "metadata": {},
   "outputs": [],
   "source": [
    "#python regex  allowsb optional flags to specify when using regular expressions patterns with functions\n",
    "#match\n",
    "#finditer\n",
    "#findall\n",
    "\n",
    "\n",
    "#re.IGNORECASE"
   ]
  },
  {
   "cell_type": "code",
   "execution_count": 51,
   "id": "35d42555-4c63-47d1-8772-57b4497f0a9d",
   "metadata": {},
   "outputs": [
    {
     "data": {
      "text/plain": [
       "['123', '456', '789']"
      ]
     },
     "execution_count": 51,
     "metadata": {},
     "output_type": "execute_result"
    }
   ],
   "source": [
    "data='''sachin 123\n",
    "shantahan456\n",
    "akshay789'''\n",
    "pattern=r'\\d{3}$'\n",
    "matches=re.findall(pattern,data,re.MULTILINE)\n",
    "matches"
   ]
  },
  {
   "cell_type": "code",
   "execution_count": 52,
   "id": "221c6841-7b9b-4517-8493-a247096d9c6a",
   "metadata": {},
   "outputs": [
    {
     "data": {
      "text/plain": [
       "['h', 'e', 'l', 'l', 'o', '\\n', 'w', 'o', 'r', 'l', 'd']"
      ]
     },
     "execution_count": 52,
     "metadata": {},
     "output_type": "execute_result"
    }
   ],
   "source": [
    "import re\n",
    "data='''hello\\nworld'''\n",
    "pattern=r'.'\n",
    "matches=re.findall(pattern,data,re.DOTALL)\n",
    "matches"
   ]
  },
  {
   "cell_type": "code",
   "execution_count": 53,
   "id": "08ef03fe-3ab0-47d8-a502-22ae494f5c56",
   "metadata": {},
   "outputs": [],
   "source": [
    "#re.verbose"
   ]
  },
  {
   "cell_type": "code",
   "execution_count": 56,
   "id": "d6456b7c-fd04-4bd7-8e45-e1a6eb32f7a4",
   "metadata": {},
   "outputs": [
    {
     "data": {
      "text/plain": [
       "['hello.world']"
      ]
     },
     "execution_count": 56,
     "metadata": {},
     "output_type": "execute_result"
    }
   ],
   "source": [
    "import re\n",
    "data='''hello.world'''                        #matchesdata----------------comment\n",
    "pattern=r'\\w+\\.\\w+#matchesdata'               #(?#matchesdata----------------comment middle data)\n",
    "matches=re.findall(pattern,data,re.VERBOSE)\n",
    "matches\n",
    "\n"
   ]
  },
  {
   "cell_type": "code",
   "execution_count": null,
   "id": "b33138c1-1674-4e59-b346-955d2883eeed",
   "metadata": {},
   "outputs": [],
   "source": [
    "#quantifiers important topic\n",
    "#number of times occurances \n",
    "#used for repetation\n",
    "+  (1  or more occurance)\n",
    "*  (0 or more occurance)\n",
    "{}------------specific number of occurances  range \n",
    "{a,b}\n",
    "{a,}\n",
    "{,b}"
   ]
  },
  {
   "cell_type": "code",
   "execution_count": 57,
   "id": "716b11d6-15cd-4bde-b5da-54955e93867e",
   "metadata": {},
   "outputs": [
    {
     "name": "stdout",
     "output_type": "stream",
     "text": [
      "['65780', '38365', '454', '']\n"
     ]
    }
   ],
   "source": [
    "import re\n",
    "data=\"6578038365454\"\n",
    "pattern=r'\\d{,5}'\n",
    "print(re.findall(pattern,data))"
   ]
  },
  {
   "cell_type": "code",
   "execution_count": 58,
   "id": "90c051bf-76b0-4b6e-8758-f1ba3695854e",
   "metadata": {},
   "outputs": [],
   "source": [
    "#grouping metacharacters(...)\n",
    "#non-grouping metacharacters(?:...)"
   ]
  },
  {
   "cell_type": "code",
   "execution_count": 59,
   "id": "9d0f8f0a-d3ec-4ded-bc97-55d2bebcc910",
   "metadata": {},
   "outputs": [
    {
     "name": "stdout",
     "output_type": "stream",
     "text": [
      "[('venkey', 'example.', 'com'), ('surya', 'gmail.', 'com'), ('puspha', 'yahho.', 'com')]\n"
     ]
    }
   ],
   "source": [
    "import re\n",
    "data=\"Email address venkey@example.com,surya@gmail.com,puspha@yahho.com\"\n",
    "pattern=r'(\\w+)@(\\w+\\.)(\\w+)'\n",
    "print(re.findall(pattern,data))\n",
    "#tuple  we can acess individuals \n"
   ]
  },
  {
   "cell_type": "code",
   "execution_count": 60,
   "id": "2a7572be-8647-42d2-bee3-2c29c2ded2a6",
   "metadata": {},
   "outputs": [
    {
     "data": {
      "text/plain": [
       "['http://www.example.com', 'http://example.com']"
      ]
     },
     "execution_count": 60,
     "metadata": {},
     "output_type": "execute_result"
    }
   ],
   "source": [
    "import re\n",
    "text=\"visit http://www.example.com or http://example.com\"\n",
    "pattern=r'http://(?:www\\.)?\\w+\\.\\w+'\n",
    "matches=re.findall(pattern,text)\n",
    "matches"
   ]
  },
  {
   "cell_type": "code",
   "execution_count": 61,
   "id": "e58af6d4-60e2-4038-acfc-2eff8def5345",
   "metadata": {},
   "outputs": [],
   "source": [
    "#some real time examples in the regex\n",
    "#datavalidation\n",
    "#mobile number pancard gmailvalidations\n",
    "#data extraction\n",
    "#mobile number extractions from hugedata\n",
    "#datacleanings\n",
    "#whitespaces are removed\n",
    "#webscrapping\n",
    "#fnd linksb in web pages"
   ]
  },
  {
   "cell_type": "code",
   "execution_count": 62,
   "id": "19c4b89d-2e60-45cd-8b8f-996fc0038e69",
   "metadata": {},
   "outputs": [
    {
     "name": "stdin",
     "output_type": "stream",
     "text": [
      "enter email adress venkat@gmail.com\n"
     ]
    },
    {
     "name": "stdout",
     "output_type": "stream",
     "text": [
      "valid email\n"
     ]
    }
   ],
   "source": [
    "#email-validation\n",
    "import re\n",
    "email=input(\"enter email adress\")\n",
    "pattern=r'^[a-zA-Z_][\\w+_\\.]+@[a-zA-Z]+\\.\\w+'\n",
    "match=re.match(pattern,email)\n",
    "if match:\n",
    "    print(\"valid email\")\n",
    "else:\n",
    "    print(\"not valid\")"
   ]
  },
  {
   "cell_type": "code",
   "execution_count": null,
   "id": "7fcefc79-ebae-4f09-ab5b-d5d495f5962e",
   "metadata": {},
   "outputs": [],
   "source": []
  }
 ],
 "metadata": {
  "kernelspec": {
   "display_name": "Python 3 (ipykernel)",
   "language": "python",
   "name": "python3"
  },
  "language_info": {
   "codemirror_mode": {
    "name": "ipython",
    "version": 3
   },
   "file_extension": ".py",
   "mimetype": "text/x-python",
   "name": "python",
   "nbconvert_exporter": "python",
   "pygments_lexer": "ipython3",
   "version": "3.11.5"
  }
 },
 "nbformat": 4,
 "nbformat_minor": 5
}
