{
 "cells": [
  {
   "cell_type": "code",
   "execution_count": null,
   "id": "ecd06ff4-0119-4a6f-a88c-7829e0bf7aef",
   "metadata": {},
   "outputs": [],
   "source": [
    "1. Write a Python program to sum all the items in a list."
   ]
  },
  {
   "cell_type": "code",
   "execution_count": 3,
   "id": "12fb0acf-33c4-42d0-bfa5-43bdb877e8f1",
   "metadata": {},
   "outputs": [
    {
     "name": "stdin",
     "output_type": "stream",
     "text": [
      " 1 2 3 4 5\n"
     ]
    },
    {
     "data": {
      "text/plain": [
       "15"
      ]
     },
     "execution_count": 3,
     "metadata": {},
     "output_type": "execute_result"
    }
   ],
   "source": [
    "a=list(map(int,input().split()))\n",
    "count=0\n",
    "for i in a:\n",
    "    count+=i\n",
    "count"
   ]
  },
  {
   "cell_type": "code",
   "execution_count": null,
   "id": "fd391377-ee04-4d0e-80f3-cccb79885575",
   "metadata": {},
   "outputs": [],
   "source": [
    "2. Write a Python program to multiply all the items in a list."
   ]
  },
  {
   "cell_type": "markdown",
   "id": "58dbc9c4-8f5c-48de-afd1-2227da8cf134",
   "metadata": {},
   "source": [
    "a=list(map(int,input().split()))\n",
    "count=1\n",
    "for i in a:\n",
    "    count*=i\n",
    "count"
   ]
  },
  {
   "cell_type": "markdown",
   "id": "1e79cdb3-354a-46bc-96e7-941e7eedf0d6",
   "metadata": {},
   "source": [
    " - 3 Write a Python program to get the largest number from a list."
   ]
  },
  {
   "cell_type": "code",
   "execution_count": 6,
   "id": "45f9f289-6238-4eba-959d-e3a7622e4b7a",
   "metadata": {},
   "outputs": [
    {
     "name": "stdin",
     "output_type": "stream",
     "text": [
      " 65 76 34 58 795454\n"
     ]
    },
    {
     "name": "stdout",
     "output_type": "stream",
     "text": [
      "795454\n"
     ]
    }
   ],
   "source": [
    "a=list(map(int,input().split()))\n",
    "b=a[0]\n",
    "for i in range(len(a)):\n",
    "    if a[i]>b:\n",
    "        b=a[i]\n",
    "print(b)"
   ]
  },
  {
   "cell_type": "markdown",
   "id": "4c186392-bc65-45c9-8ff0-be8417c2b631",
   "metadata": {},
   "source": [
    "- 4.Write a Python program to get the smallest number from a list."
   ]
  },
  {
   "cell_type": "code",
   "execution_count": 8,
   "id": "1b2eef05-58d8-44e2-95fe-5b93d4b154d8",
   "metadata": {},
   "outputs": [
    {
     "name": "stdin",
     "output_type": "stream",
     "text": [
      " 56 45 32 575\n"
     ]
    },
    {
     "name": "stdout",
     "output_type": "stream",
     "text": [
      "32\n"
     ]
    }
   ],
   "source": [
    "a=list(map(int,input().split()))\n",
    "b=a[0]\n",
    "for i in range(len(a)):\n",
    "    if a[i]<b:\n",
    "        b=a[i]\n",
    "print(b)"
   ]
  },
  {
   "cell_type": "markdown",
   "id": "05252329-2767-45f7-86e5-9bd80c514c24",
   "metadata": {},
   "source": [
    " - 5. Write a Python program to count the number of strings from a given list of strings. The string length is 2 or more and the first and last characters are the same.\n",
    "Sample List : ['abc', 'xyz', 'aba', '1221']\n",
    "Expected Result : 2"
   ]
  },
  {
   "cell_type": "code",
   "execution_count": 10,
   "id": "0c4bc36c-9888-482f-9619-d829670995c5",
   "metadata": {},
   "outputs": [
    {
     "name": "stdin",
     "output_type": "stream",
     "text": [
      " abc 1231 xyx \n"
     ]
    },
    {
     "data": {
      "text/plain": [
       "2"
      ]
     },
     "execution_count": 10,
     "metadata": {},
     "output_type": "execute_result"
    }
   ],
   "source": [
    "a=list(map(str,input().split()))\n",
    "count=0\n",
    "for i in  a:\n",
    "    if len(i)>2 and i[0]==i[-1]:\n",
    "        count+=1\n",
    "count"
   ]
  },
  {
   "cell_type": "markdown",
   "id": "76c208d5-2f32-4493-b1f1-726349c9a18e",
   "metadata": {},
   "source": [
    " - 6. Write a Python program to get a list, sorted in increasing order by the last element in each tuple from a given list of non-empty tuples.\n",
    "Sample List : [(2, 5), (1, 2), (4, 4), (2, 3), (2, 1)]\n",
    "Expected Result : [(2, 1), (1, 2), (2, 3), (4, 4), (2, 5)]"
   ]
  },
  {
   "cell_type": "code",
   "execution_count": 13,
   "id": "a2b8f328-1f7e-4ee1-bd72-91d5e36b3deb",
   "metadata": {},
   "outputs": [
    {
     "data": {
      "text/plain": [
       "[(5, 2), (4, 4), (3, 2), (2, 1), (1, 2)]"
      ]
     },
     "execution_count": 13,
     "metadata": {},
     "output_type": "execute_result"
    }
   ],
   "source": []
  },
  {
   "cell_type": "code",
   "execution_count": null,
   "id": "ece8e3ec-16d1-428a-abfa-e02a8f4ab734",
   "metadata": {},
   "outputs": [],
   "source": []
  },
  {
   "cell_type": "code",
   "execution_count": null,
   "id": "1f2d3251-45dd-4fd5-83e7-1f359ffe4af2",
   "metadata": {},
   "outputs": [],
   "source": []
  },
  {
   "cell_type": "markdown",
   "id": "ffab145e-cf7b-4e9e-9da9-0a38ba47ea69",
   "metadata": {},
   "source": [
    " - 7. Write a Python program to remove duplicates from a list."
   ]
  },
  {
   "cell_type": "code",
   "execution_count": 20,
   "id": "a9158bd6-4b05-489c-83c9-1350c62ea041",
   "metadata": {},
   "outputs": [
    {
     "data": {
      "text/plain": [
       "[1, 2, 3, 4, 5, 54]"
      ]
     },
     "execution_count": 20,
     "metadata": {},
     "output_type": "execute_result"
    }
   ],
   "source": [
    "a=[1,2,3,4,5,54,3,2,1]\n",
    "k=[]\n",
    "for i in a:\n",
    "    if i not in k:\n",
    "        k.append(i)\n",
    "k"
   ]
  },
  {
   "cell_type": "markdown",
   "id": "8d8c41fd-9059-4d75-9d18-f3936b3de16e",
   "metadata": {},
   "source": [
    " - 8.Write a Python program to check if a list is empty or not."
   ]
  },
  {
   "cell_type": "code",
   "execution_count": 25,
   "id": "0dfac24d-9bab-4e4e-bc4d-026ce2a51e38",
   "metadata": {},
   "outputs": [
    {
     "name": "stdin",
     "output_type": "stream",
     "text": [
      " \n"
     ]
    },
    {
     "name": "stdout",
     "output_type": "stream",
     "text": [
      "True\n"
     ]
    }
   ],
   "source": [
    " a=list(map(int,input().split()))\n",
    "if not a:\n",
    "    print(\"True\")\n",
    "else:\n",
    "    print(\"False\")"
   ]
  },
  {
   "cell_type": "markdown",
   "id": "3e0b8a1e-f4cc-440c-9f54-046816486274",
   "metadata": {},
   "source": [
    " - 9.Write a Python program to clone or copy a list."
   ]
  },
  {
   "cell_type": "code",
   "execution_count": 27,
   "id": "592e1917-cec3-4d14-98e4-ac5b3ddbb784",
   "metadata": {},
   "outputs": [
    {
     "name": "stdin",
     "output_type": "stream",
     "text": [
      " 12 3\n"
     ]
    },
    {
     "name": "stdout",
     "output_type": "stream",
     "text": [
      "[12, 3]\n"
     ]
    },
    {
     "data": {
      "text/plain": [
       "[12, 3]"
      ]
     },
     "execution_count": 27,
     "metadata": {},
     "output_type": "execute_result"
    }
   ],
   "source": [
    "a=list(map(int,input().split()))\n",
    "b=a\n",
    "print(b)\n",
    "c=a.copy()\n",
    "c"
   ]
  },
  {
   "cell_type": "markdown",
   "id": "25ce949e-c62f-44e5-a8ed-668a6b0846cd",
   "metadata": {},
   "source": [
    " - 10 Write a Python program to find the list of words that are longer than n from a given list of words.\n",
    "\n",
    "Visual Presentation:"
   ]
  },
  {
   "cell_type": "code",
   "execution_count": 30,
   "id": "50a22d96-d514-4850-b58c-96eea2eeabc4",
   "metadata": {},
   "outputs": [
    {
     "name": "stdin",
     "output_type": "stream",
     "text": [
      "  the quick brown fox jumps on lazy dog\n",
      " 3\n"
     ]
    },
    {
     "data": {
      "text/plain": [
       "['the', 'quick', 'brown', 'fox', 'jumps', 'lazy', 'dog']"
      ]
     },
     "execution_count": 30,
     "metadata": {},
     "output_type": "execute_result"
    }
   ],
   "source": [
    "a=list(map(str,input().split()))\n",
    "n=int(input())\n",
    "k=[]\n",
    "for i in a:\n",
    "    if len(i)>=n:\n",
    "        k.append(i)\n",
    "k"
   ]
  },
  {
   "cell_type": "markdown",
   "id": "746eec69-4aaa-447f-8853-13d8d8cacdd6",
   "metadata": {},
   "source": [
    " - 11 Write a Python function that takes two lists and returns True if they have at least one common member"
   ]
  },
  {
   "cell_type": "code",
   "execution_count": 32,
   "id": "1b43d335-954b-412b-998f-498c6a8f47ec",
   "metadata": {},
   "outputs": [
    {
     "name": "stdout",
     "output_type": "stream",
     "text": [
      "False\n"
     ]
    }
   ],
   "source": [
    "a=[1,2,3,4,5]\n",
    "b=[8,9,8,9]\n",
    "count=-1\n",
    "for i in a:\n",
    "    for j in b:\n",
    "        if i==j:\n",
    "            count=0\n",
    "            break\n",
    "if count==0:\n",
    "    print(\"True\")\n",
    "else:\n",
    "    print(\"False\")"
   ]
  },
  {
   "cell_type": "markdown",
   "id": "3dc0da0b-c9c6-4793-864f-369df7017a4e",
   "metadata": {},
   "source": [
    " - 12 2. Write a Python program to print a specified list after removing the 0th, 4th and 5th elements.\n",
    "Sample List : ['Red', 'Green', 'White', 'Black', 'Pink', 'Yellow']\n",
    "Expected Output : ['Green', 'White', 'Black']"
   ]
  },
  {
   "cell_type": "code",
   "execution_count": 41,
   "id": "46fd8dd5-1983-47be-9fe1-036e38940e3c",
   "metadata": {},
   "outputs": [
    {
     "data": {
      "text/plain": [
       "['Green', 'White', 'Black', 'Pink']"
      ]
     },
     "execution_count": 41,
     "metadata": {},
     "output_type": "execute_result"
    }
   ],
   "source": []
  },
  {
   "cell_type": "code",
   "execution_count": null,
   "id": "4876bfe6-a91d-4866-b556-acb8aa1e3e27",
   "metadata": {},
   "outputs": [],
   "source": [
    "13.Write a Python program to generate a 3*4*6 3D array whose each element is *."
   ]
  },
  {
   "cell_type": "code",
   "execution_count": null,
   "id": "8f7fb652-122b-4826-8803-b4d7d05a6c83",
   "metadata": {},
   "outputs": [],
   "source": [
    "14. Write a Python program to print the numbers of a specified list after removing even numbers from it."
   ]
  },
  {
   "cell_type": "code",
   "execution_count": 2,
   "id": "e0ec11e1-33ab-42e8-80a7-bdc690d56cb0",
   "metadata": {},
   "outputs": [
    {
     "data": {
      "text/plain": [
       "[1, 3, 5]"
      ]
     },
     "execution_count": 2,
     "metadata": {},
     "output_type": "execute_result"
    }
   ],
   "source": [
    "a=[1,2,3,4,5,6]\n",
    "b=[i for i in a if i%2!=0]\n",
    "b"
   ]
  },
  {
   "cell_type": "code",
   "execution_count": null,
   "id": "9d245aa5-e718-4fc3-9da5-df1407d14da9",
   "metadata": {},
   "outputs": [],
   "source": [
    "15. Write a Python program to shuffle and print a specified list."
   ]
  },
  {
   "cell_type": "code",
   "execution_count": 5,
   "id": "5738fec0-0010-4400-8b5c-f6c659e94bfb",
   "metadata": {},
   "outputs": [
    {
     "name": "stdout",
     "output_type": "stream",
     "text": [
      "['White', 'Red', 'Black', 'Pink', 'Green', 'Yellow']\n"
     ]
    }
   ],
   "source": [
    "from random import shuffle\n",
    "a= ['Red', 'Green', 'White', 'Black', 'Pink', 'Yellow']\n",
    "shuffle(a)\n",
    "print(a)"
   ]
  },
  {
   "cell_type": "code",
   "execution_count": null,
   "id": "c9d24664-81eb-4d05-836f-c29dacc52a05",
   "metadata": {},
   "outputs": [],
   "source": [
    "16.Write a Python program to generate and print a list of the first and last 5 elements where the values are square numbers \n",
    "between 1 and 30 (both included)."
   ]
  },
  {
   "cell_type": "code",
   "execution_count": 7,
   "id": "0aae59d9-15ad-4b9e-acef-4358a6d1eeb4",
   "metadata": {},
   "outputs": [
    {
     "name": "stdout",
     "output_type": "stream",
     "text": [
      "[1, 4, 9, 16, 25]\n",
      "[676, 729, 784, 841, 900]\n"
     ]
    }
   ],
   "source": [
    "a=[]\n",
    "for i in range(1,31):\n",
    "    a.append(i*i)\n",
    "print(a[:5])\n",
    "print(a[len(a)-5:])"
   ]
  },
  {
   "cell_type": "code",
   "execution_count": null,
   "id": "b2bf00c4-5327-4410-bf53-7d9f1292595b",
   "metadata": {},
   "outputs": [],
   "source": [
    "17.17. Write a Python program to check if each number is prime in a given list of numbers. Return True if all numbers are prime otherwise False.\n",
    "Sample Data:\n",
    "([0, 3, 4, 7, 9]) -> False\n",
    "([3, 5, 7, 13]) -> True\n",
    "([1, 5, 3]) -> False"
   ]
  },
  {
   "cell_type": "code",
   "execution_count": 14,
   "id": "4aa5f414-fc0d-4ecc-be1d-cb9363e11586",
   "metadata": {},
   "outputs": [
    {
     "name": "stdin",
     "output_type": "stream",
     "text": [
      " 3 5 7 13\n"
     ]
    },
    {
     "name": "stdout",
     "output_type": "stream",
     "text": [
      "True\n"
     ]
    }
   ],
   "source": [
    "a=list(map(int,input().split()))\n",
    "flag=0\n",
    "for i in a:\n",
    "    factors=0\n",
    "    for j in range(1,i+1):\n",
    "        if i%j==0:\n",
    "            factors+=1\n",
    "    if factors==2:\n",
    "        flag+=1\n",
    "        \n",
    "if flag==len(a):\n",
    "    print(True)\n",
    "else:\n",
    "    print(False)"
   ]
  },
  {
   "cell_type": "code",
   "execution_count": 17,
   "id": "21f9f4b6-3d93-443f-aa00-03c6b1827480",
   "metadata": {},
   "outputs": [
    {
     "name": "stdout",
     "output_type": "stream",
     "text": [
      "(1, 2, 3)\n",
      "(1, 3, 2)\n",
      "(2, 1, 3)\n",
      "(2, 3, 1)\n",
      "(3, 1, 2)\n",
      "(3, 2, 1)\n"
     ]
    }
   ],
   "source": [
    "#18.Write a Python program to generate all permutations of a list in Python.\n",
    "from itertools import permutations\n",
    "a=[1,2,3]\n",
    "b=permutations(a,len(a))\n",
    "for i in b:\n",
    "    print(i)"
   ]
  },
  {
   "cell_type": "code",
   "execution_count": null,
   "id": "dbba9f80-8ed7-4033-8c6e-e44e6cfd6a2d",
   "metadata": {},
   "outputs": [],
   "source": [
    "19. Write a Python program to calculate the difference between the two lists."
   ]
  },
  {
   "cell_type": "code",
   "execution_count": 21,
   "id": "0cc49868-30ff-485e-a4d0-e0f4414d7d31",
   "metadata": {},
   "outputs": [
    {
     "name": "stdout",
     "output_type": "stream",
     "text": [
      "[1, 3, 5, 7, 9, 2, 4, 6, 8]\n"
     ]
    }
   ],
   "source": [
    "list1 = [1, 3, 5, 7, 9]\n",
    "list2 = [1, 2, 4, 6, 7, 8]\n",
    "l3=[]\n"
   ]
  },
  {
   "cell_type": "code",
   "execution_count": 23,
   "id": "2f628fd7-83a0-46b8-8e87-cc3a893be3c2",
   "metadata": {},
   "outputs": [
    {
     "name": "stdout",
     "output_type": "stream",
     "text": [
      "0 1\n",
      "1 2\n",
      "2 3\n",
      "3 4\n",
      "4 5\n"
     ]
    }
   ],
   "source": [
    "#20.Write a Python program to access the index of a list.\n",
    "a=[1,2,3,4,5]\n",
    "for i in range(len(a)):\n",
    "    print(i,a[i])"
   ]
  },
  {
   "cell_type": "code",
   "execution_count": null,
   "id": "a6471d52-ef17-4ca5-92d9-514f5f74a721",
   "metadata": {},
   "outputs": [],
   "source": [
    "21. Write a Python program to convert a list of characters into a string."
   ]
  },
  {
   "cell_type": "code",
   "execution_count": 25,
   "id": "ad6dbf88-4f7c-4007-9a06-fa9cb5457c84",
   "metadata": {},
   "outputs": [
    {
     "data": {
      "text/plain": [
       "'java'"
      ]
     },
     "execution_count": 25,
     "metadata": {},
     "output_type": "execute_result"
    }
   ],
   "source": [
    "a=['j','a','v','a']\n",
    "b=''.join(a)\n",
    "b"
   ]
  },
  {
   "cell_type": "code",
   "execution_count": null,
   "id": "e834eddc-46d0-4bf6-b1ef-648ce4ab75fb",
   "metadata": {},
   "outputs": [],
   "source": [
    "22. Write a Python program to convert a list of characters into a string."
   ]
  },
  {
   "cell_type": "code",
   "execution_count": 31,
   "id": "77ca14d0-a390-4a01-b379-c40eac4a2687",
   "metadata": {},
   "outputs": [
    {
     "name": "stdout",
     "output_type": "stream",
     "text": [
      "3\n"
     ]
    }
   ],
   "source": [
    "a=[1,2,3,4,5]\n",
    "b=4\n",
    "for i in range(len(a)):\n",
    "    if a[i]==b:\n",
    "        print(i)\n",
    "        break"
   ]
  },
  {
   "cell_type": "code",
   "execution_count": 33,
   "id": "f4751484-5209-47fb-9ea6-175fadb69f16",
   "metadata": {},
   "outputs": [
    {
     "data": {
      "text/plain": [
       "[2, 4, 3, 1, 5, 6, 9, 7, 9, 0]"
      ]
     },
     "execution_count": 33,
     "metadata": {},
     "output_type": "execute_result"
    }
   ],
   "source": [
    "original_list = [[2, 4, 3], [1, 5, 6], [9], [7, 9, 0]]\n",
    "new=[]\n",
    "for i in original_list:\n",
    "    for j in i:\n",
    "        new.append(j)\n",
    "new\n",
    "    "
   ]
  },
  {
   "cell_type": "code",
   "execution_count": 38,
   "id": "b7cabaf8-7219-4c1f-81dc-76b5c786f336",
   "metadata": {},
   "outputs": [
    {
     "name": "stdout",
     "output_type": "stream",
     "text": [
      "[1, 2, 3, 0, 'Red', 'Green', 'Black']\n"
     ]
    }
   ],
   "source": [
    "list1 = [1, 2, 3, 0]\n",
    "list2 = ['Red', 'Green', 'Black']\n",
    "k=list1+list2\n",
    "print(k)\n",
    "\n"
   ]
  },
  {
   "cell_type": "code",
   "execution_count": 44,
   "id": "e93e7001-e6ca-4747-af14-e760cf394492",
   "metadata": {},
   "outputs": [
    {
     "name": "stdout",
     "output_type": "stream",
     "text": [
      "7\n"
     ]
    }
   ],
   "source": [
    "import random\n",
    "a=[1,2,3,4,5,6,7,8]\n",
    "b=random.choice(a)\n",
    "print(b)"
   ]
  },
  {
   "cell_type": "code",
   "execution_count": null,
   "id": "0480a0f7-c9f8-4096-987c-4a7c730ff34e",
   "metadata": {},
   "outputs": [],
   "source": [
    "26. Write a Python program to check whether two lists are circularly identical.\n",
    "Click me to see the sample solution"
   ]
  },
  {
   "cell_type": "code",
   "execution_count": null,
   "id": "39059fed-dfe3-4eda-8890-0272bb5ef1a8",
   "metadata": {},
   "outputs": [],
   "source": [
    "\n",
    "\n",
    "\n",
    "\n",
    "\n",
    "\n",
    "\n"
   ]
  },
  {
   "cell_type": "code",
   "execution_count": null,
   "id": "3f0f04f5-096f-4863-933a-4ee08d027465",
   "metadata": {},
   "outputs": [],
   "source": [
    "27. Write a Python program to find the second smallest number in a list."
   ]
  },
  {
   "cell_type": "code",
   "execution_count": 55,
   "id": "ad5af16c-0f6a-40d2-a344-6642b6ef3e5e",
   "metadata": {},
   "outputs": [
    {
     "name": "stdin",
     "output_type": "stream",
     "text": [
      " 1 1 2 2 -2 -2 0\n"
     ]
    },
    {
     "name": "stdout",
     "output_type": "stream",
     "text": [
      "0\n"
     ]
    }
   ],
   "source": [
    "a=list(map(int,input().split()))\n",
    "b=set(a)\n",
    "a=list(b)\n",
    "\n",
    "min=a[0]\n",
    "i=0\n",
    "k=0\n",
    "while i<1:\n",
    "    for i in range(len(a)):\n",
    "        if a[i]<min:\n",
    "            min=a[i]\n",
    "            k=i\n",
    "    a[k]=99999999999999\n",
    "    \n",
    "min1=a[0]\n",
    "for i in range(len(a)):\n",
    "    if a[i]<min1:\n",
    "        min1=a[i]\n",
    "print(min1)"
   ]
  },
  {
   "cell_type": "code",
   "execution_count": null,
   "id": "f75547dc-c326-41ed-9555-a044092b6321",
   "metadata": {},
   "outputs": [],
   "source": [
    "28. Write a Python program to find the second largest number in a list."
   ]
  },
  {
   "cell_type": "code",
   "execution_count": 57,
   "id": "4ba5f11a-181e-4216-bebd-d7185199c44d",
   "metadata": {},
   "outputs": [
    {
     "name": "stdin",
     "output_type": "stream",
     "text": [
      " 45 67 89 43 23\n"
     ]
    },
    {
     "name": "stdout",
     "output_type": "stream",
     "text": [
      "67\n"
     ]
    }
   ],
   "source": [
    "a=list(map(int,input().split()))\n",
    "b=set(a)\n",
    "a=list(b)\n",
    "\n",
    "min=a[0]\n",
    "i=0\n",
    "k=0\n",
    "while i<1:\n",
    "    for i in range(len(a)):\n",
    "        if a[i]>min:\n",
    "            min=a[i]\n",
    "            k=i\n",
    "    a[k]=-99999999999\n",
    "    \n",
    "min1=a[0]\n",
    "for i in range(len(a)):\n",
    "    if a[i]>min1:\n",
    "        min1=a[i]\n",
    "print(min1)"
   ]
  },
  {
   "cell_type": "code",
   "execution_count": null,
   "id": "86decd1d-ba5d-4dad-8322-14be444130ef",
   "metadata": {},
   "outputs": [],
   "source": [
    "29. Write a Python program to get unique values from a list."
   ]
  },
  {
   "cell_type": "code",
   "execution_count": 58,
   "id": "fad821e3-08be-4f12-b17c-1edec417c57a",
   "metadata": {},
   "outputs": [
    {
     "name": "stdin",
     "output_type": "stream",
     "text": [
      " 1 2 3 1 2 3 4 5\n"
     ]
    },
    {
     "data": {
      "text/plain": [
       "[1, 2, 3, 4, 5]"
      ]
     },
     "execution_count": 58,
     "metadata": {},
     "output_type": "execute_result"
    }
   ],
   "source": [
    "a=list(map(int,input().split()))\n",
    "b=set(a)\n",
    "c=list(b)\n",
    "c"
   ]
  },
  {
   "cell_type": "code",
   "execution_count": null,
   "id": "f806b2cc-a9dc-4503-a121-50470890a245",
   "metadata": {},
   "outputs": [],
   "source": [
    "30. Write a Python program to get the frequency of elements in a list.\n",
    "Click me to see the sample solution"
   ]
  },
  {
   "cell_type": "code",
   "execution_count": 61,
   "id": "118d4425-da89-426f-b159-e4c0459494c8",
   "metadata": {},
   "outputs": [
    {
     "name": "stdout",
     "output_type": "stream",
     "text": [
      "1 1\n",
      "2 2\n",
      "3 2\n",
      "4 2\n",
      "5 2\n",
      "6 1\n"
     ]
    }
   ],
   "source": [
    "a=[1,2,3,4,5,6,5,4,3,2]\n",
    "b=set(a)\n",
    "for i in sorted(b):\n",
    "    print(i,a.count(i))"
   ]
  },
  {
   "cell_type": "code",
   "execution_count": null,
   "id": "373c6f35-ca75-438d-b2e8-f97d7ef38945",
   "metadata": {},
   "outputs": [],
   "source": [
    "31. Write a Python program to count the number of elements in a list within a specified range."
   ]
  },
  {
   "cell_type": "code",
   "execution_count": 64,
   "id": "0e8db44b-7ccc-4353-9197-04930d594ba2",
   "metadata": {},
   "outputs": [
    {
     "name": "stdin",
     "output_type": "stream",
     "text": [
      " 100\n"
     ]
    },
    {
     "name": "stdout",
     "output_type": "stream",
     "text": [
      "1\n"
     ]
    }
   ],
   "source": [
    "a=list(map(int,input().split()))\n",
    "b=30\n",
    "c=100\n",
    "count=0\n",
    "for i in range(len(a)):\n",
    "    for j in range(30,101):\n",
    "        if a[i]==j:\n",
    "            count+=1\n",
    "print(count)\n",
    "    "
   ]
  },
  {
   "cell_type": "code",
   "execution_count": null,
   "id": "57be8bdb-6a69-40e0-86fe-a3cbb9c4a1e2",
   "metadata": {},
   "outputs": [],
   "source": [
    "32. Write a Python program to check whether a list contains a sublist."
   ]
  },
  {
   "cell_type": "code",
   "execution_count": 67,
   "id": "9dc6baac-8900-4b13-a78e-e0cbefe2571a",
   "metadata": {},
   "outputs": [
    {
     "name": "stdin",
     "output_type": "stream",
     "text": [
      " 2 4 3 5 7\n",
      " 3 7\n"
     ]
    },
    {
     "name": "stdout",
     "output_type": "stream",
     "text": [
      "False\n"
     ]
    }
   ],
   "source": [
    "a=list(map(int,input().split()))\n",
    "b=list(map(int,input().split()))\n",
    "count=0\n",
    "for i in range(len(a)):\n",
    "    for j in range(i+1,len(a)+1):\n",
    "        s=a[i:j]\n",
    "        if s==b:\n",
    "            count+=1\n",
    "if count==1:\n",
    "    print(True)\n",
    "else:\n",
    "    print(False)"
   ]
  },
  {
   "cell_type": "code",
   "execution_count": null,
   "id": "d081a72b-cd41-4f56-85ff-96839ea6ce53",
   "metadata": {},
   "outputs": [],
   "source": [
    "33. Write a Python program to generate all sublists of a list."
   ]
  },
  {
   "cell_type": "code",
   "execution_count": 68,
   "id": "30bac2b1-feda-4137-a3b7-5d33a9bf9620",
   "metadata": {},
   "outputs": [
    {
     "name": "stdin",
     "output_type": "stream",
     "text": [
      " 10 20 30 40\n"
     ]
    },
    {
     "name": "stdout",
     "output_type": "stream",
     "text": [
      "[10]\n",
      "[10, 20]\n",
      "[10, 20, 30]\n",
      "[10, 20, 30, 40]\n",
      "[20]\n",
      "[20, 30]\n",
      "[20, 30, 40]\n",
      "[30]\n",
      "[30, 40]\n",
      "[40]\n"
     ]
    }
   ],
   "source": [
    "a=list(map(int,input().split()))\n",
    "count=0\n",
    "for i in range(len(a)):\n",
    "    for j in range(i+1,len(a)+1):\n",
    "        s=a[i:j]\n",
    "        print(s)"
   ]
  },
  {
   "cell_type": "code",
   "execution_count": null,
   "id": "c07c63ca-cbe5-40b2-affc-c23624730bf0",
   "metadata": {},
   "outputs": [],
   "source": [
    "34. Write a Python program that uses the Sieve of Eratosthenes method to compute prime numbers up to a specified number.\n",
    "Note: In mathematics, the sieve of Eratosthenes, (Ancient Greek: κόσκινον Ἐρατοσθένους, kóskinon Eratosthénous)\n",
    "one of a number of prime number sieves, is a simple, \n",
    "ancient algorithm for finding all prime numbers up to any given limit."
   ]
  },
  {
   "cell_type": "code",
   "execution_count": 70,
   "id": "771937ad-16ef-4703-992d-5a4563d22e06",
   "metadata": {},
   "outputs": [
    {
     "name": "stdin",
     "output_type": "stream",
     "text": [
      " 120\n"
     ]
    },
    {
     "name": "stdout",
     "output_type": "stream",
     "text": [
      "[2, 3, 5, 7, 11, 13, 17, 19, 23, 29, 31, 37, 41, 43, 47, 53, 59, 61, 67, 71, 73, 79, 83, 89, 97, 101, 103, 107, 109, 113]\n"
     ]
    }
   ],
   "source": [
    "a=int(input())\n",
    "k=[]\n",
    "for i in range(1,a+1):\n",
    "    count=0\n",
    "    for j in range(1,i+1):\n",
    "        if i%j==0:\n",
    "            count+=1\n",
    "    if count==2:\n",
    "        k.append(i)\n",
    "print(k)"
   ]
  },
  {
   "cell_type": "code",
   "execution_count": null,
   "id": "307d5e8e-5b55-4836-b1e1-0c9c2c8e757f",
   "metadata": {},
   "outputs": [],
   "source": [
    "35. Write a Python program to create a list by concatenating a given list with a range from 1 to n.\n",
    "Sample list : ['p', 'q']\n",
    "n =5\n",
    "Sample Output : ['p1', 'q1', 'p2', 'q2', 'p3', 'q3', 'p4', 'q4', 'p5', 'q5']"
   ]
  },
  {
   "cell_type": "code",
   "execution_count": 71,
   "id": "029865e1-8085-4c97-ad4a-1dd6417a78b1",
   "metadata": {},
   "outputs": [
    {
     "data": {
      "text/plain": [
       "['p1', 'q1', 'p2', 'q2', 'p3', 'q3', 'p4', 'q4', 'p5', 'q5']"
      ]
     },
     "execution_count": 71,
     "metadata": {},
     "output_type": "execute_result"
    }
   ],
   "source": [
    "a=['p','q']\n",
    "b=5\n",
    "c=[]\n",
    "for i in range(1,b+1):\n",
    "    for j in a:\n",
    "        k=j+str(i)\n",
    "        c.append(k)\n",
    "c"
   ]
  },
  {
   "cell_type": "code",
   "execution_count": null,
   "id": "dd171531-38f4-4cd7-8883-547feb655eed",
   "metadata": {},
   "outputs": [],
   "source": [
    " ************************36. Write a Python program to get a variable with an identification number or string."
   ]
  },
  {
   "cell_type": "code",
   "execution_count": 74,
   "id": "7970146a-899c-44d3-bac2-7353bcf6d50e",
   "metadata": {},
   "outputs": [
    {
     "data": {
      "text/plain": [
       "'7ff9ed95e448'"
      ]
     },
     "execution_count": 74,
     "metadata": {},
     "output_type": "execute_result"
    }
   ],
   "source": [
    "a=10\n",
    "b=format(id(a),'x')\n",
    "b"
   ]
  },
  {
   "cell_type": "code",
   "execution_count": null,
   "id": "d25df960-aa63-4eb8-afa1-8c3879cebc5e",
   "metadata": {},
   "outputs": [],
   "source": [
    "37.Write a Python program to find common items in two lists."
   ]
  },
  {
   "cell_type": "code",
   "execution_count": 78,
   "id": "ecb4abc6-f827-4253-89bc-6775cb94e7f3",
   "metadata": {},
   "outputs": [
    {
     "data": {
      "text/plain": [
       "['Green', 'White']"
      ]
     },
     "execution_count": 78,
     "metadata": {},
     "output_type": "execute_result"
    }
   ],
   "source": [
    "a=[\"Red\", \"Green\", \"Orange\", \"White\"]\n",
    "b=[\"Black\", \"Green\", \"White\", \"Pink\"]\n",
    "c=[]\n",
    "for i in a:\n",
    "    for j in b:\n",
    "        if  i==j:\n",
    "            c.append(i)\n",
    "            break\n",
    "c\n",
    "            "
   ]
  },
  {
   "cell_type": "code",
   "execution_count": null,
   "id": "773faa16-4742-42fa-b45a-0241cc9aecd9",
   "metadata": {},
   "outputs": [],
   "source": [
    "38 38. Write a Python program to change the position of every n-th value to the (n+1)th in a list.\n",
    "Sample list: [0,1,2,3,4,5]\n",
    "Expected Output: [1, 0, 3, 2, 5, 4]"
   ]
  },
  {
   "cell_type": "code",
   "execution_count": 84,
   "id": "9cecd809-f7d2-42f7-9bc6-f11f61a27790",
   "metadata": {},
   "outputs": [
    {
     "data": {
      "text/plain": [
       "[1, 0, 3, 2, 5, 4]"
      ]
     },
     "execution_count": 84,
     "metadata": {},
     "output_type": "execute_result"
    }
   ],
   "source": [
    "a=[0,1,2,3,4,5]\n",
    "for i in range(0,len(a)-1,2):\n",
    "    temp=a[i]\n",
    "    a[i]=a[i+1]\n",
    "    a[i+1]=temp\n",
    "a"
   ]
  },
  {
   "cell_type": "code",
   "execution_count": null,
   "id": "fa7b1491-5fc0-4f3f-85d8-92b5f226d361",
   "metadata": {},
   "outputs": [],
   "source": [
    "39. Write a Python program to convert a list of multiple integers into a single integer.\n",
    "Sample list: [11, 33, 50]\n",
    "Expected Output: 113350"
   ]
  },
  {
   "cell_type": "code",
   "execution_count": 86,
   "id": "4e3d853f-cfb1-45a9-90ab-894403ee3204",
   "metadata": {},
   "outputs": [
    {
     "data": {
      "text/plain": [
       "112034"
      ]
     },
     "execution_count": 86,
     "metadata": {},
     "output_type": "execute_result"
    }
   ],
   "source": [
    "a=[11,20,34]\n",
    "c=\"\"\n",
    "for i in a:\n",
    "    c+=str(i)\n",
    "d=int(c)\n",
    "d"
   ]
  },
  {
   "cell_type": "code",
   "execution_count": 92,
   "id": "60c6a78a-ca39-4202-8052-6a3b0e722335",
   "metadata": {},
   "outputs": [
    {
     "ename": "IndexError",
     "evalue": "list index out of range",
     "output_type": "error",
     "traceback": [
      "\u001b[1;31m---------------------------------------------------------------------------\u001b[0m",
      "\u001b[1;31mIndexError\u001b[0m                                Traceback (most recent call last)",
      "Cell \u001b[1;32mIn[92], line 6\u001b[0m\n\u001b[0;32m      4\u001b[0m a\u001b[38;5;241m=\u001b[39m\u001b[38;5;28msorted\u001b[39m(word_list)\n\u001b[0;32m      5\u001b[0m \u001b[38;5;28;01mfor\u001b[39;00m i \u001b[38;5;129;01min\u001b[39;00m \u001b[38;5;28mrange\u001b[39m(\u001b[38;5;241m2\u001b[39m,\u001b[38;5;28mlen\u001b[39m(a)):\n\u001b[1;32m----> 6\u001b[0m     \u001b[38;5;28;01mif\u001b[39;00m \u001b[43mx\u001b[49m\u001b[43m[\u001b[49m\u001b[43mi\u001b[49m\u001b[38;5;241;43m-\u001b[39;49m\u001b[38;5;241;43m1\u001b[39;49m\u001b[43m]\u001b[49m[\u001b[38;5;241m0\u001b[39m]\u001b[38;5;241m!=\u001b[39mx[i][\u001b[38;5;241m0\u001b[39m]:\n\u001b[0;32m      7\u001b[0m         x\u001b[38;5;241m.\u001b[39mappend(x[i][\u001b[38;5;241m0\u001b[39m])\n\u001b[0;32m      8\u001b[0m     x\u001b[38;5;241m.\u001b[39mappend(i)\n",
      "\u001b[1;31mIndexError\u001b[0m: list index out of range"
     ]
    }
   ],
   "source": [
    "word_list = ['be','have','do','say','get','make','go','know','take','see','come','think',\n",
    "     'look','want','give','use','find','tell','ask','work','seem','feel','leave','call']\n",
    "x=[]\n",
    "a=sorted(word_list)\n",
    "for i in range(2,len(a)):\n",
    "    if x[i-1][0]!=x[i][0]:\n",
    "        x.append(x[i][0])\n",
    "    x.append(i)\n",
    "x"
   ]
  },
  {
   "cell_type": "code",
   "execution_count": null,
   "id": "0baf964e-dbf8-4ac7-8c2f-9f64a38f8c07",
   "metadata": {},
   "outputs": [],
   "source": [
    "41. Write a Python program to create multiple lists."
   ]
  },
  {
   "cell_type": "code",
   "execution_count": 93,
   "id": "4ba996a8-23f0-4522-b135-2f38b576ba03",
   "metadata": {},
   "outputs": [
    {
     "data": {
      "text/plain": [
       "{1: '[]',\n",
       " 2: '[]',\n",
       " 3: '[]',\n",
       " 4: '[]',\n",
       " 5: '[]',\n",
       " 6: '[]',\n",
       " 7: '[]',\n",
       " 8: '[]',\n",
       " 9: '[]'}"
      ]
     },
     "execution_count": 93,
     "metadata": {},
     "output_type": "execute_result"
    }
   ],
   "source": [
    "a={}\n",
    "for i in range(1,10):\n",
    "    a[i]=\"[]\"\n",
    "a"
   ]
  },
  {
   "cell_type": "code",
   "execution_count": null,
   "id": "ed9be47c-487d-40cf-a826-847a4febbf7e",
   "metadata": {},
   "outputs": [],
   "source": [
    "42.42. Write a Python program to find missing and additional values in two lists.\n",
    "Sample data : Missing values in second list: b,a,c\n",
    "Additional values in second list: g,h"
   ]
  },
  {
   "cell_type": "code",
   "execution_count": 97,
   "id": "327880ee-1c79-475d-87cb-06b73abedd6c",
   "metadata": {},
   "outputs": [
    {
     "name": "stdout",
     "output_type": "stream",
     "text": [
      "['a', 'b', 'c']\n",
      "['g', 'h']\n"
     ]
    }
   ],
   "source": [
    "a=['a','b','c','d','e','f']\n",
    "b=['d','e','f','g','h']\n",
    "miss=[]\n",
    "additional=[]\n",
    "for i in a:\n",
    "    if  i not in b:\n",
    "        miss.append(i)\n",
    "for i in b:\n",
    "    if i not in a:\n",
    "        additional.append(i)\n",
    "print(miss)\n",
    "print(additional)"
   ]
  },
  {
   "cell_type": "code",
   "execution_count": null,
   "id": "fe0ef006-9ad1-47c8-b22f-9f8fe089c007",
   "metadata": {},
   "outputs": [],
   "source": [
    "4343. Write a Python program to split a list into different variables."
   ]
  },
  {
   "cell_type": "code",
   "execution_count": null,
   "id": "12983865-05d9-4186-808f-559323caace2",
   "metadata": {},
   "outputs": [],
   "source": []
  },
  {
   "cell_type": "code",
   "execution_count": 99,
   "id": "d47127ed-e4bb-44bd-a859-7b99a909e28b",
   "metadata": {},
   "outputs": [
    {
     "name": "stdout",
     "output_type": "stream",
     "text": [
      "('Black', '#000000', 'rgb(0, 0, 0)')\n",
      "('Red', '#FF0000', 'rgb(255, 0, 0)')\n",
      "('Yellow', '#FFFF00', 'rgb(255, 255, 0)')\n"
     ]
    }
   ],
   "source": [
    "color = [\n",
    "    (\"Black\", \"#000000\", \"rgb(0, 0, 0)\"),\n",
    "    (\"Red\", \"#FF0000\", \"rgb(255, 0, 0)\"),\n",
    "    (\"Yellow\", \"#FFFF00\", \"rgb(255, 255, 0)\")\n",
    "]\n",
    "for i in color:\n",
    "    print(i)"
   ]
  },
  {
   "cell_type": "code",
   "execution_count": null,
   "id": "212efc3d-33e4-4242-a409-a9715d7a4431",
   "metadata": {},
   "outputs": [],
   "source": [
    "44. Write a Python program to generate groups of five consecutive numbers in a list."
   ]
  },
  {
   "cell_type": "code",
   "execution_count": 103,
   "id": "0f44a8ea-eef3-47ef-9d61-b54b775ef02f",
   "metadata": {},
   "outputs": [
    {
     "data": {
      "text/plain": [
       "[[1, 2, 3, 4, 5], [6, 7, 8, 9, 10], [11, 12, 13, 14, 15]]"
      ]
     },
     "execution_count": 103,
     "metadata": {},
     "output_type": "execute_result"
    }
   ],
   "source": [
    "a=[]\n",
    "\n",
    "for i in range(1,16,5):\n",
    "    b=[]\n",
    "    for j in range(5):\n",
    "        b.append(i+j)\n",
    "    a.append(b)\n",
    "a"
   ]
  },
  {
   "cell_type": "code",
   "execution_count": null,
   "id": "613f4f9a-9195-4cb3-822d-ff476182407c",
   "metadata": {},
   "outputs": [],
   "source": [
    "45"
   ]
  },
  {
   "cell_type": "code",
   "execution_count": 107,
   "id": "7d4e09c2-8aef-42a2-8b66-fffe43d7774b",
   "metadata": {},
   "outputs": [
    {
     "data": {
      "text/plain": [
       "[1, 2, 3, 4, 5, 6, 7, 8, 9, 10]"
      ]
     },
     "execution_count": 107,
     "metadata": {},
     "output_type": "execute_result"
    }
   ],
   "source": [
    "L = [(1, 2), (3, 4), (1, 2), (5, 6), (7, 8), (1, 2), (3, 4), (3, 4), (7, 8), (9, 10)]\n",
    "m=[]\n",
    "n=[]\n",
    "for i in L:\n",
    "    if i not in m:\n",
    "        m.append(i)\n",
    "for i in m:\n",
    "    for j in i:\n",
    "        n.append(j)\n",
    "n"
   ]
  },
  {
   "cell_type": "code",
   "execution_count": null,
   "id": "adb6da02-14b3-4e91-9a77-ba1587512a40",
   "metadata": {},
   "outputs": [],
   "source": [
    "46\n"
   ]
  },
  {
   "cell_type": "code",
   "execution_count": 109,
   "id": "368f6b35-a062-48bd-a134-de2b4e762c96",
   "metadata": {},
   "outputs": [
    {
     "data": {
      "text/plain": [
       "[1, 3, 5, 7, 9]"
      ]
     },
     "execution_count": 109,
     "metadata": {},
     "output_type": "execute_result"
    }
   ],
   "source": [
    "x = [1, 2, 3, 4, 5, 6, 7, 8, 9]\n",
    "y=[x[i] for i in range(len(x)) if i%2==0 ]\n",
    "y"
   ]
  },
  {
   "cell_type": "code",
   "execution_count": null,
   "id": "87264b40-55dd-4f36-822e-d87441ebf9dd",
   "metadata": {},
   "outputs": [],
   "source": [
    "47"
   ]
  },
  {
   "cell_type": "code",
   "execution_count": 111,
   "id": "d4969560-5f44-4682-8383-3e8d511b73aa",
   "metadata": {},
   "outputs": [
    {
     "data": {
      "text/plain": [
       "['c', 'Red', 'c', 'Green', 'c', 'Black']"
      ]
     },
     "execution_count": 111,
     "metadata": {},
     "output_type": "execute_result"
    }
   ],
   "source": [
    "Original_List=  ['Red', 'Green', 'Black']\n",
    "alp_1=\"c\"\n",
    "k=[]\n",
    "for i  in  Original_List:\n",
    "    k.append(alp_1)\n",
    "    k.append(i)\n",
    "k\n",
    "\n"
   ]
  },
  {
   "cell_type": "code",
   "execution_count": 112,
   "id": "6b84bda8-e005-417e-8dc0-469416066a6a",
   "metadata": {},
   "outputs": [
    {
     "name": "stdout",
     "output_type": "stream",
     "text": [
      "['Red']\n",
      "['Green']\n",
      "['Black']\n"
     ]
    }
   ],
   "source": [
    "a=[['Red'], ['Green'], ['Black']]\n",
    "for i in a:\n",
    "    print(i)"
   ]
  },
  {
   "cell_type": "code",
   "execution_count": null,
   "id": "b0bc37c5-fbd1-4a46-9067-1c6da4a8b788",
   "metadata": {},
   "outputs": [],
   "source": [
    "49. Write a Python program to convert a list to a list of dictionaries.\n",
    "Sample lists: [\"Black\", \"Red\", \"Maroon\", \"Yellow\"], [\"#000000\", \"#FF0000\", \"#800000\", \"#FFFF00\"]"
   ]
  },
  {
   "cell_type": "code",
   "execution_count": 113,
   "id": "bc7589b2-c6ee-4615-9305-cccc19e54394",
   "metadata": {},
   "outputs": [
    {
     "data": {
      "text/plain": [
       "[{'color_name': 'Black', 'color_code': '#000000'},\n",
       " {'color_name': 'Red', 'color_code': '#FF0000'},\n",
       " {'color_name': 'Maroon', 'color_code': '#800000'},\n",
       " {'color_name': 'Yellow', 'color_code': '#FFFF00'}]"
      ]
     },
     "execution_count": 113,
     "metadata": {},
     "output_type": "execute_result"
    }
   ],
   "source": [
    "a=[\"Black\", \"Red\", \"Maroon\", \"Yellow\"]\n",
    "b=[\"#000000\", \"#FF0000\", \"#800000\", \"#FFFF00\"]\n",
    "c=[]\n",
    "for i in range(len(a)):\n",
    "    d={}\n",
    "    d[\"color_name\"]=a[i]\n",
    "    d[\"color_code\"]=b[i]\n",
    "    c.append(d)\n",
    "c"
   ]
  },
  {
   "cell_type": "code",
   "execution_count": null,
   "id": "a53a09c8-a933-42e8-9c81-5a0641afb781",
   "metadata": {},
   "outputs": [],
   "source": [
    "50. Write a Python program to sort a list of nested dictionaries.\n",
    "\n"
   ]
  },
  {
   "cell_type": "code",
   "execution_count": null,
   "id": "7d725b54-4d82-4070-b931-450415bc6b9c",
   "metadata": {},
   "outputs": [],
   "source": []
  },
  {
   "cell_type": "code",
   "execution_count": null,
   "id": "18cfc3ee-7705-4f1d-b4a2-5f7f5d8f08ca",
   "metadata": {},
   "outputs": [],
   "source": [
    "51"
   ]
  },
  {
   "cell_type": "code",
   "execution_count": 118,
   "id": "2d6daa80-26f5-41d8-8fb4-d8f7df452945",
   "metadata": {},
   "outputs": [
    {
     "ename": "IndexError",
     "evalue": "list index out of range",
     "output_type": "error",
     "traceback": [
      "\u001b[1;31m---------------------------------------------------------------------------\u001b[0m",
      "\u001b[1;31mIndexError\u001b[0m                                Traceback (most recent call last)",
      "Cell \u001b[1;32mIn[118], line 7\u001b[0m\n\u001b[0;32m      5\u001b[0m     a\u001b[38;5;241m=\u001b[39m[]\n\u001b[0;32m      6\u001b[0m     \u001b[38;5;28;01mfor\u001b[39;00m j \u001b[38;5;129;01min\u001b[39;00m \u001b[38;5;28mrange\u001b[39m(i,y\u001b[38;5;241m+\u001b[39mi):\n\u001b[1;32m----> 7\u001b[0m         a\u001b[38;5;241m.\u001b[39mappend(\u001b[43mx\u001b[49m\u001b[43m[\u001b[49m\u001b[43mj\u001b[49m\u001b[43m]\u001b[49m)\n\u001b[0;32m      8\u001b[0m     z\u001b[38;5;241m.\u001b[39mappend(a)\n\u001b[0;32m      9\u001b[0m z\n",
      "\u001b[1;31mIndexError\u001b[0m: list index out of range"
     ]
    }
   ],
   "source": [
    "x=['a', 'b', 'c', 'd', 'e', 'f', 'g', 'h', 'i', 'j', 'k', 'l', 'm', 'n']\n",
    "y=5\n",
    "z=[]\n",
    "for i in range(0,len(x),5):\n",
    "    a=[]\n",
    "    for j in range(i,y+i):\n",
    "        a.append(x[j])\n",
    "    z.append(a)\n",
    "z\n",
    "        \n",
    "    \n",
    "    "
   ]
  },
  {
   "cell_type": "code",
   "execution_count": null,
   "id": "25ab0f98-3b76-4f58-8895-05d0e4d7a720",
   "metadata": {},
   "outputs": [],
   "source": [
    "52. Write a Python program to compute the difference between two lists.\n",
    "Sample data: [\"red\", \"orange\", \"green\", \"blue\", \"white\"], [\"black\", \"yellow\", \"green\", \"blue\"]\n",
    "Expected Output:\n",
    "Color1-Color2: ['white', 'orange', 'red']\n",
    "Color2-Color1: ['black', 'yellow']"
   ]
  },
  {
   "cell_type": "code",
   "execution_count": 120,
   "id": "7162ff82-7b25-4ad1-ade6-4166aa3d2d57",
   "metadata": {},
   "outputs": [
    {
     "name": "stdout",
     "output_type": "stream",
     "text": [
      "['orange', 'red', 'white']\n",
      "['yellow', 'black']\n"
     ]
    }
   ],
   "source": [
    "a=[\"red\", \"orange\", \"green\", \"blue\", \"white\"]\n",
    "b= [\"black\", \"yellow\", \"green\", \"blue\"]\n",
    "c=set(a)\n",
    "d=set(b)\n",
    "print(sorted(list(c-d)))\n",
    "print(list(d-c))"
   ]
  },
  {
   "cell_type": "code",
   "execution_count": 123,
   "id": "ee258ab0-3b32-4104-aeb8-a54df946a102",
   "metadata": {},
   "outputs": [
    {
     "name": "stdout",
     "output_type": "stream",
     "text": [
      "['red', 'orange', 'white']\n",
      "['black', 'yellow']\n"
     ]
    }
   ],
   "source": [
    "e=[]\n",
    "d=[]\n",
    "for i in a:\n",
    "    if i not in b:\n",
    "        e.append(i)\n",
    "print(e)\n",
    "for i in b:\n",
    "    if i not in a:\n",
    "        d.append(i)\n",
    "print(d)"
   ]
  },
  {
   "cell_type": "code",
   "execution_count": null,
   "id": "722d96a4-8f0d-4f2a-9e2e-3c59faf872f0",
   "metadata": {},
   "outputs": [],
   "source": [
    "53. Write a Python program to create a list with infinite elements"
   ]
  },
  {
   "cell_type": "code",
   "execution_count": 128,
   "id": "f857901a-5e55-4ba9-9a16-188054e994e7",
   "metadata": {},
   "outputs": [
    {
     "name": "stdout",
     "output_type": "stream",
     "text": [
      "r\n",
      "e\n",
      "d\n",
      "g\n",
      "r\n",
      "e\n",
      "e\n",
      "n\n",
      "o\n",
      "r\n",
      "a\n",
      "n\n",
      "g\n",
      "e\n"
     ]
    }
   ],
   "source": [
    "54.\n",
    "color = ['red', 'green', 'orange']\n",
    "b=\"\".join(color)\n"
   ]
  },
  {
   "cell_type": "code",
   "execution_count": null,
   "id": "b51d21d2-aff6-4bf9-83e4-908e34e40727",
   "metadata": {},
   "outputs": [],
   "source": []
  },
  {
   "cell_type": "code",
   "execution_count": null,
   "id": "e1aa4f4b-53c6-465b-9a9a-5eb8309f06d4",
   "metadata": {},
   "outputs": [],
   "source": [
    "55.55. Write a Python program to remove key-value pairs from a list of dictionaries."
   ]
  },
  {
   "cell_type": "code",
   "execution_count": 134,
   "id": "49116452-1e66-4940-a1a6-c3f2eab916b5",
   "metadata": {},
   "outputs": [
    {
     "ename": "TypeError",
     "evalue": "list indices must be integers or slices, not str",
     "output_type": "error",
     "traceback": [
      "\u001b[1;31m---------------------------------------------------------------------------\u001b[0m",
      "\u001b[1;31mTypeError\u001b[0m                                 Traceback (most recent call last)",
      "Cell \u001b[1;32mIn[134], line 6\u001b[0m\n\u001b[0;32m      4\u001b[0m      \u001b[38;5;28;01mfor\u001b[39;00m j \u001b[38;5;129;01min\u001b[39;00m i:\n\u001b[0;32m      5\u001b[0m          \u001b[38;5;28;01mif\u001b[39;00m j\u001b[38;5;241m!=\u001b[39m\u001b[38;5;124m\"\u001b[39m\u001b[38;5;124mKey1\u001b[39m\u001b[38;5;124m\"\u001b[39m:\n\u001b[1;32m----> 6\u001b[0m              c\u001b[38;5;241m.\u001b[39mappend(\u001b[43ma\u001b[49m\u001b[43m[\u001b[49m\u001b[43mj\u001b[49m\u001b[43m]\u001b[49m)\n\u001b[0;32m      8\u001b[0m c\n",
      "\u001b[1;31mTypeError\u001b[0m: list indices must be integers or slices, not str"
     ]
    }
   ],
   "source": [
    "a= [{'key1': 'value1', 'key2': 'value2'}, {'key1': 'value3', 'key2': 'value4'}]\n",
    "c="
   ]
  },
  {
   "cell_type": "code",
   "execution_count": 140,
   "id": "d0289f19-e22b-4d5e-9885-f616c6af3a54",
   "metadata": {},
   "outputs": [
    {
     "data": {
      "text/plain": [
       "[\"['Red'\", \" 'Green'\", \" 'White']\"]"
      ]
     },
     "execution_count": 140,
     "metadata": {},
     "output_type": "execute_result"
    }
   ],
   "source": [
    "color = \"['Red', 'Green', 'White']\"\n",
    "b=color.split(',')\n",
    "c=list(b)\n",
    "d=[]\n",
    "for i in c:\n",
    "    d.append(i)\n"
   ]
  },
  {
   "cell_type": "code",
   "execution_count": null,
   "id": "8e7b9b8f-f5d6-4844-965b-00c7f0c846bd",
   "metadata": {},
   "outputs": [],
   "source": [
    "57. Write a Python program to check if all items in a given list of strings are equal to a given string"
   ]
  },
  {
   "cell_type": "code",
   "execution_count": 142,
   "id": "de1234bf-b08c-4f3e-95f0-5aee21190a9d",
   "metadata": {},
   "outputs": [
    {
     "name": "stdout",
     "output_type": "stream",
     "text": [
      "False\n"
     ]
    }
   ],
   "source": [
    "a=[\"green\", \"orange\", \"black\", \"white\"]\n",
    "b=\"green\"\n",
    "count=0\n",
    "for i in a:\n",
    "    if i==b:\n",
    "        count+=1\n",
    "if count==len(a):\n",
    "    print(\"True\")\n",
    "else:\n",
    "    print(\"False\")\n",
    "    "
   ]
  },
  {
   "cell_type": "code",
   "execution_count": null,
   "id": "4da51be5-3d3e-478d-ae26-8d827aba18e5",
   "metadata": {},
   "outputs": [],
   "source": [
    "58. Write a Python program to replace the last element in a list with another list.\n",
    "Sample data : [1, 3, 5, 7, 9, 10], [2, 4, 6, 8]\n",
    "Expected Output: [1, 3, 5, 7, 9, 2, 4, 6, 8]"
   ]
  },
  {
   "cell_type": "code",
   "execution_count": 144,
   "id": "cd6bd268-1eb9-4877-a654-f315427d6b1c",
   "metadata": {},
   "outputs": [
    {
     "data": {
      "text/plain": [
       "[1, 3, 5, 7, 9, 2, 4, 6, 8]"
      ]
     },
     "execution_count": 144,
     "metadata": {},
     "output_type": "execute_result"
    }
   ],
   "source": [
    "a=[1, 3, 5, 7, 9, 10]\n",
    "b=[2, 4, 6, 8]\n",
    "c=a[:len(a)-1]\n",
    "for i in b:\n",
    "    c.append(i)\n",
    "c"
   ]
  },
  {
   "cell_type": "code",
   "execution_count": null,
   "id": "691092ec-04a8-4083-b69e-561c73e9453d",
   "metadata": {},
   "outputs": [],
   "source": [
    "59. Write a Python program to check whether the n-th element exists in a given list."
   ]
  },
  {
   "cell_type": "code",
   "execution_count": 147,
   "id": "6cb4b102-14ad-48c4-b9ef-b6155fe0fd69",
   "metadata": {},
   "outputs": [
    {
     "name": "stdout",
     "output_type": "stream",
     "text": [
      "5\n"
     ]
    }
   ],
   "source": [
    "a=[1,2,3,4,5,6]\n",
    "n=-2\n",
    "if n>0:\n",
    "    for i in range(0,len(a)):\n",
    "        if n==i:\n",
    "            print(a[i])\n",
    "else:\n",
    "    for i in range(-1,-len(a),-1):\n",
    "        if n==i:\n",
    "            print(a[i])\n",
    "    "
   ]
  },
  {
   "cell_type": "code",
   "execution_count": null,
   "id": "35292f7b-6c83-49b2-be2b-fbe35fb60a1b",
   "metadata": {},
   "outputs": [],
   "source": [
    "60. Write a Python program to find a tuple, the smallest second index value from a list of tuples."
   ]
  },
  {
   "cell_type": "code",
   "execution_count": null,
   "id": "b112fafd-df63-4f1e-b5be-8d358b19c514",
   "metadata": {},
   "outputs": [],
   "source": [
    "61.Write a Python program to create a list of empty dictionaries."
   ]
  },
  {
   "cell_type": "code",
   "execution_count": 149,
   "id": "1db0e803-e383-4c3d-b79d-9aebd6fb53ad",
   "metadata": {},
   "outputs": [
    {
     "name": "stdin",
     "output_type": "stream",
     "text": [
      " 3\n"
     ]
    },
    {
     "data": {
      "text/plain": [
       "[{}, {}, {}]"
      ]
     },
     "execution_count": 149,
     "metadata": {},
     "output_type": "execute_result"
    }
   ],
   "source": [
    "l=[]\n",
    "n=int(input())\n",
    "for i in range(n):\n",
    "    k={}\n",
    "    l.append(k)\n",
    "l\n"
   ]
  },
  {
   "cell_type": "code",
   "execution_count": null,
   "id": "663ef998-d2b5-499d-b524-863a9953fae0",
   "metadata": {},
   "outputs": [],
   "source": [
    "62.Write a Python program to print a list of space-separated elements."
   ]
  },
  {
   "cell_type": "code",
   "execution_count": 156,
   "id": "d8c62c97-e3ea-4ae9-9ea1-4808ee348ef1",
   "metadata": {},
   "outputs": [
    {
     "name": "stdout",
     "output_type": "stream",
     "text": [
      "1 2 3 4 5\n"
     ]
    }
   ],
   "source": [
    "a=[1,2,3,4,5]\n",
    "b=[]\n",
    "for i in a:\n",
    "    b+=[str(i)]\n",
    "b\n",
    "print(' '.join(b))"
   ]
  },
  {
   "cell_type": "code",
   "execution_count": null,
   "id": "66340fb1-e36f-42bb-baaa-c2a94678b43a",
   "metadata": {},
   "outputs": [],
   "source": [
    "63.63. Write a Python program to insert a given string at the beginning of all items in a list.\n",
    "Sample list : [1,2,3,4], string : emp\n",
    "Expected output : ['emp1', 'emp2', 'emp3', 'emp4']"
   ]
  },
  {
   "cell_type": "code",
   "execution_count": 157,
   "id": "10630af8-4aea-4ad9-b7f9-e03faf24b98b",
   "metadata": {},
   "outputs": [
    {
     "data": {
      "text/plain": [
       "['emp1', 'emp2', 'emp3', 'emp4']"
      ]
     },
     "execution_count": 157,
     "metadata": {},
     "output_type": "execute_result"
    }
   ],
   "source": [
    "a=[1,2,3,4]\n",
    "b=\"emp\"\n",
    "c=[]\n",
    "for i in a:\n",
    "    c.append(b+str(i))\n",
    "c"
   ]
  },
  {
   "cell_type": "code",
   "execution_count": null,
   "id": "f6c69505-80ad-474c-bf33-4136f6577a15",
   "metadata": {},
   "outputs": [],
   "source": [
    "64.Write a Python program to iterate over two lists simultaneously."
   ]
  },
  {
   "cell_type": "code",
   "execution_count": 162,
   "id": "cfa8147c-ae16-4f7b-a92b-857a8029ac90",
   "metadata": {},
   "outputs": [
    {
     "name": "stdout",
     "output_type": "stream",
     "text": [
      "1 4\n",
      "2 5\n",
      "3 6\n"
     ]
    }
   ],
   "source": [
    "a=[1,2,3]\n",
    "b=[4,5,6]\n",
    "for i ,j in zip(a,b):\n",
    "    print(i,j)"
   ]
  },
  {
   "cell_type": "code",
   "execution_count": null,
   "id": "df5c381e-6f21-4308-b8fe-e65f677efc94",
   "metadata": {},
   "outputs": [],
   "source": [
    "65. Write a Python program to move all zero digits to the end of a given list of numbers.\n",
    "Expected output:\n",
    "Original list:\n",
    "[3, 4, 0, 0, 0, 6, 2, 0, 6, 7, 6, 0, 0, 0, 9, 10, 7, 4, 4, 5, 3, 0, 0, 2, 9, 7, 1]\n",
    "Move all zero digits to end of the said list of numbers:\n",
    "[3, 4, 6, 2, 6, 7, 6, 9, 10, 7, 4, 4, 5, 3, 2, 9, 7, 1, 0, 0, 0, 0, 0, 0, 0, 0, 0]"
   ]
  },
  {
   "cell_type": "code",
   "execution_count": 164,
   "id": "7f98b4db-9737-41bd-a313-2e749e7002bd",
   "metadata": {},
   "outputs": [
    {
     "name": "stdout",
     "output_type": "stream",
     "text": [
      "[3, 4, 6, 2, 6, 7, 6, 9, 10, 7, 4, 4, 5, 3, 2, 9, 7, 1, 0, 0, 0, 0, 0, 0, 0, 0, 0]\n"
     ]
    }
   ],
   "source": [
    "a=[3, 4, 0, 0, 0, 6, 2, 0, 6, 7, 6, 0, 0, 0, 9, 10, 7, 4, 4, 5, 3, 0, 0, 2, 9, 7, 1]\n",
    "b=[]\n",
    "c=[]\n",
    "for i in a:\n",
    "    if i==0:\n",
    "        b.append(i)\n",
    "    else:\n",
    "        c.append(i)\n",
    "print(c+b)"
   ]
  },
  {
   "cell_type": "code",
   "execution_count": null,
   "id": "9c639865-44f4-4643-9bc0-d7fd05f12294",
   "metadata": {},
   "outputs": [],
   "source": [
    "66. Write a Python program to find the list in a list of lists whose sum of elements is the highest.\n",
    "Sample lists: [1,2,3], [4,5,6], [10,11,12], [7,8,9]\n",
    "Expected Output: [10, 11, 12]"
   ]
  },
  {
   "cell_type": "code",
   "execution_count": 170,
   "id": "0e038ce9-42b0-4699-9ac4-b111a5d8aa38",
   "metadata": {},
   "outputs": [
    {
     "name": "stdout",
     "output_type": "stream",
     "text": [
      "[10, 11, 12]\n"
     ]
    }
   ],
   "source": [
    "a=[[1,2,3], [4,5,6], [10,11,12], [7,8,9]]\n",
    "b=[]\n",
    "for i in a:\n",
    "    k=sum(i)\n",
    "    b.append(k)\n",
    "d=max(b)\n",
    "e=b.index(d)\n",
    "print(a[e])"
   ]
  },
  {
   "cell_type": "code",
   "execution_count": null,
   "id": "25932516-c58a-4c0e-b2c8-731bc49f1364",
   "metadata": {},
   "outputs": [],
   "source": [
    "67. Write a Python program to find all the values in a list that are greater than a specified number."
   ]
  },
  {
   "cell_type": "code",
   "execution_count": 171,
   "id": "405ab0fd-9c4a-45f9-8918-99a3c893714b",
   "metadata": {},
   "outputs": [
    {
     "name": "stdout",
     "output_type": "stream",
     "text": [
      "True\n"
     ]
    }
   ],
   "source": [
    "list1 = [220, 330, 500]\n",
    "l=200\n",
    "count=0\n",
    "for i in list1:\n",
    "    if i>l:\n",
    "        count+=1\n",
    "if count==len(list1):\n",
    "    print(\"True\")\n",
    "else:\n",
    "    print(\"False\")"
   ]
  },
  {
   "cell_type": "code",
   "execution_count": null,
   "id": "204e2c70-7762-4992-a50b-d644b8ab15a6",
   "metadata": {},
   "outputs": [],
   "source": [
    "68. Write a Python program to extend a list without appending.\n",
    "Sample data: [10, 20, 30]\n",
    "[40, 50, 60]\n",
    "Expected output : [40, 50, 60, 10, 20, 30]"
   ]
  },
  {
   "cell_type": "code",
   "execution_count": 175,
   "id": "118901ea-2b88-4160-95df-82c371f194cf",
   "metadata": {},
   "outputs": [
    {
     "name": "stdout",
     "output_type": "stream",
     "text": [
      "[1, 2, 3, 10, 20, 30]\n"
     ]
    }
   ],
   "source": [
    "a=[10,20,30]\n",
    "b=[1,2,3]\n",
    "print(b+a)\n"
   ]
  },
  {
   "cell_type": "code",
   "execution_count": null,
   "id": "9026378c-8275-4fc3-80a9-8df197064a1e",
   "metadata": {},
   "outputs": [],
   "source": [
    "69. Write a Python program to remove duplicates from a list of lists.\n",
    "Sample list : [[10, 20], [40], [30, 56, 25], [10, 20], [33], [40]]\n",
    "New List : [[10, 20], [30, 56, 25], [33], [40]]"
   ]
  },
  {
   "cell_type": "code",
   "execution_count": 176,
   "id": "6ec874c7-4476-4ea4-af0e-200103908673",
   "metadata": {},
   "outputs": [
    {
     "data": {
      "text/plain": [
       "[[10, 20], [40], [30, 56, 25], [33]]"
      ]
     },
     "execution_count": 176,
     "metadata": {},
     "output_type": "execute_result"
    }
   ],
   "source": [
    "a=[[10, 20], [40], [30, 56, 25], [10, 20], [33], [40]]\n",
    "b=[]\n",
    "for i in a:\n",
    "    if i not in b:\n",
    "        b.append(i)\n",
    "b"
   ]
  },
  {
   "cell_type": "code",
   "execution_count": null,
   "id": "b490e0bb-7b76-4498-a925-37bd6648813a",
   "metadata": {},
   "outputs": [],
   "source": [
    "70. Write a Python program to find items starting with a specific character from a list.\n",
    "Expected Output:\n",
    "Original list:\n",
    "['abcd', 'abc', 'bcd', 'bkie', 'cder', 'cdsw', 'sdfsd', 'dagfa', 'acjd']\n",
    "Items start with a from the said list:\n",
    "['abcd', 'abc', 'acjd']\n",
    "Items start with d from the said list:\n",
    "['dagfa']\n",
    "Items start with w from the said list:\n",
    "[]"
   ]
  },
  {
   "cell_type": "code",
   "execution_count": 178,
   "id": "1a4b84aa-3b0e-4819-8c90-46f7dccf2254",
   "metadata": {},
   "outputs": [
    {
     "name": "stdin",
     "output_type": "stream",
     "text": [
      " w\n"
     ]
    },
    {
     "name": "stdout",
     "output_type": "stream",
     "text": [
      "[]\n"
     ]
    }
   ],
   "source": [
    "a=['abcd', 'abc', 'bcd', 'bkie', 'cder', 'cdsw', 'sdfsd', 'dagfa', 'acjd']\n",
    "b=input()\n",
    "c=[]\n",
    "for i in a:\n",
    "    if i[0]==b:\n",
    "        c.append(i)\n",
    "print(c)"
   ]
  },
  {
   "cell_type": "code",
   "execution_count": null,
   "id": "856240e6-8a06-4f3c-9e1d-a7c908ba5d05",
   "metadata": {},
   "outputs": [],
   "source": [
    "71. Write a Python program to check whether all dictionaries in a list are empty or not.\n",
    "Sample list : [{},{},{}]\n",
    "Return value : True\n",
    "Sample list : [{1,2},{},{}]\n",
    "Return value : False"
   ]
  },
  {
   "cell_type": "code",
   "execution_count": 180,
   "id": "5e685a1f-1135-4ccd-a7cd-19abdd4d1ada",
   "metadata": {},
   "outputs": [
    {
     "name": "stdout",
     "output_type": "stream",
     "text": [
      "False\n"
     ]
    }
   ],
   "source": [
    "a=[{1,2},{},{}]\n",
    "d=0\n",
    "for i in a:\n",
    "    if len(i)>0:\n",
    "        d=1\n",
    "if d==0:\n",
    "    print(\"True\")\n",
    "else:\n",
    "    print(\"False\")"
   ]
  },
  {
   "cell_type": "code",
   "execution_count": null,
   "id": "82c83ba9-a336-404a-b13d-ec7943097b3e",
   "metadata": {},
   "outputs": [],
   "source": [
    "72. Write a Python program to flatten a given nested list structure.\n",
    "Original list: [0, 10, [20, 30], 40, 50, [60, 70, 80], [90, 100, 110, 120]]\n",
    "Flatten list:\n",
    "[0, 10, 20, 30, 40, 50, 60, 70, 80, 90, 100, 110, 120]"
   ]
  },
  {
   "cell_type": "code",
   "execution_count": 182,
   "id": "726cbf2e-b14d-4b24-ba60-30554b89a16f",
   "metadata": {},
   "outputs": [
    {
     "ename": "TypeError",
     "evalue": "object of type 'int' has no len()",
     "output_type": "error",
     "traceback": [
      "\u001b[1;31m---------------------------------------------------------------------------\u001b[0m",
      "\u001b[1;31mTypeError\u001b[0m                                 Traceback (most recent call last)",
      "Cell \u001b[1;32mIn[182], line 4\u001b[0m\n\u001b[0;32m      2\u001b[0m b\u001b[38;5;241m=\u001b[39m[]\n\u001b[0;32m      3\u001b[0m \u001b[38;5;28;01mfor\u001b[39;00m  i \u001b[38;5;129;01min\u001b[39;00m a:\n\u001b[1;32m----> 4\u001b[0m     \u001b[38;5;28;01mif\u001b[39;00m \u001b[38;5;28;43mlen\u001b[39;49m\u001b[43m(\u001b[49m\u001b[43mi\u001b[49m\u001b[43m)\u001b[49m\u001b[38;5;241m<\u001b[39m\u001b[38;5;241m=\u001b[39m\u001b[38;5;241m1\u001b[39m:\n\u001b[0;32m      5\u001b[0m         b\u001b[38;5;241m.\u001b[39mappend(i)\n\u001b[0;32m      6\u001b[0m     \u001b[38;5;28;01melse\u001b[39;00m:\n",
      "\u001b[1;31mTypeError\u001b[0m: object of type 'int' has no len()"
     ]
    }
   ],
   "source": [
    "a=[0, 10, [20, 30], 40, 50, [60, 70, 80], [90, 100, 110, 120]]\n",
    "b=[]\n",
    "for  i in a:\n",
    "    if len(i)<=1:\n",
    "        b.append(i)\n",
    "    else:\n",
    "        for j in a:\n",
    "            b.append(j)\n",
    "b"
   ]
  },
  {
   "cell_type": "code",
   "execution_count": null,
   "id": "fe82e6be-1166-44bc-aaec-20a68334c0b7",
   "metadata": {},
   "outputs": [],
   "source": [
    "73. Write a Python program to remove consecutive (following each other continuously) duplicates (elements) from a given list.\n",
    "Original list:\n",
    "[0, 0, 1, 2, 3, 4, 4, 5, 6, 6, 6, 7, 8, 9, 4, 4]\n",
    "After removing consecutive duplicates:\n",
    "[0, 1, 2, 3, 4, 5, 6, 7, 8, 9, 4]"
   ]
  },
  {
   "cell_type": "code",
   "execution_count": 184,
   "id": "c7e473eb-93e9-45fe-b764-5399181f87f3",
   "metadata": {},
   "outputs": [
    {
     "data": {
      "text/plain": [
       "[0, 1, 2, 3, 4, 5, 6, 7, 8, 9, 4]"
      ]
     },
     "execution_count": 184,
     "metadata": {},
     "output_type": "execute_result"
    }
   ],
   "source": [
    "a=[0, 0, 1, 2, 3, 4, 4, 5, 6, 6, 6, 7, 8, 9, 4, 4]\n",
    "b=[]\n",
    "for i in a:\n",
    "    if len(b)==0 or i!=b[len(b)-1]:\n",
    "        b+=[i]\n",
    "b"
   ]
  },
  {
   "cell_type": "code",
   "execution_count": null,
   "id": "b12862cd-c23a-4ea5-970a-2ba11a6d3896",
   "metadata": {},
   "outputs": [],
   "source": [
    "74. Write a Python program to pack consecutive duplicates of a given list of elements into sublists.\n",
    "Original list:\n",
    "[0, 0, 1, 2, 3, 4, 4, 5, 6, 6, 6, 7, 8, 9, 4, 4]\n",
    "After packing consecutive duplicates of the said list elements into sublists:\n",
    "[[0, 0], [1], [2], [3], [4, 4], [5], [6, 6, 6], [7], [8], [9], [4, 4]]"
   ]
  },
  {
   "cell_type": "code",
   "execution_count": 187,
   "id": "7bfc85d0-3760-4869-8d43-cc3c05091092",
   "metadata": {},
   "outputs": [
    {
     "data": {
      "text/plain": [
       "[[0, 0, 1, 2, 3, 4, 4, 5, 6, 6, 6, 7, 8, 9, 4, 4],\n",
       " [],\n",
       " [],\n",
       " [],\n",
       " [],\n",
       " [],\n",
       " [],\n",
       " [],\n",
       " [],\n",
       " [],\n",
       " [],\n",
       " [],\n",
       " [],\n",
       " [],\n",
       " [],\n",
       " []]"
      ]
     },
     "execution_count": 187,
     "metadata": {},
     "output_type": "execute_result"
    }
   ],
   "source": [
    "a=[0, 0, 1, 2, 3, 4, 4, 5, 6, 6, 6, 7, 8, 9, 4, 4]\n",
    "b=[]\n",
    "for i in a:\n",
    "    c=[]\n",
    "    for j in a:\n",
    "        if len(b)==0 or j==b[len(b)-1]:\n",
    "            c+=[j]\n",
    "    b.append(c)\n",
    "b\n"
   ]
  },
  {
   "cell_type": "code",
   "execution_count": null,
   "id": "9ef9da9a-25db-496c-9362-a16513897403",
   "metadata": {},
   "outputs": [],
   "source": [
    "75. Write a Python program to create a list reflecting the run-length encoding from a given list of integers or a given list of characters.\n",
    "Original list:\n",
    "[1, 1, 2, 3, 4, 4.3, 5, 1]\n",
    "List reflecting the run-length encoding from the said list:\n",
    "[[2, 1], [1, 2], [1, 3], [1, 4], [1, 4.3], [1, 5], [1, 1]]\n",
    "Original String:\n",
    "automatically\n",
    "List reflecting the run-length encoding from the said string:\n",
    "[[1, 'a'], [1, 'u'], [1, 't'], [1, 'o'], [1, 'm'], [1, 'a'], [1, 't'], [1, 'i'], [1, 'c'], [1, 'a'], [2, 'l'], [1, 'y']]"
   ]
  },
  {
   "cell_type": "code",
   "execution_count": 191,
   "id": "a862703c-691e-4f30-9a46-d04786219db1",
   "metadata": {},
   "outputs": [
    {
     "data": {
      "text/plain": [
       "[[3, 1]]"
      ]
     },
     "execution_count": 191,
     "metadata": {},
     "output_type": "execute_result"
    }
   ],
   "source": [
    "a=[1, 1, 2, 3, 4, 4.3, 5, 1]\n",
    "b=[]\n",
    "c=[]\n",
    "for i in a:\n",
    "    if len(c)==0 or i==c[len(c)-1]:\n",
    "        c+=[i]\n",
    "b.append([len(c),i])\n",
    "b\n",
    "    "
   ]
  },
  {
   "cell_type": "code",
   "execution_count": null,
   "id": "585878ce-cc69-43a7-8950-6b6a50be50b0",
   "metadata": {},
   "outputs": [],
   "source": [
    "76. Write a Python program to create a list reflecting the modified run-length encoding from a given list of integers or a given list of characters.\n",
    "Original list:\n",
    "[1, 1, 2, 3, 4, 4, 5, 1]\n",
    "List reflecting the modified run-length encoding from the said list:\n",
    "[[2, 1], 2, 3, [2, 4], 5, 1]\n",
    "Original String:\n",
    "aabcddddadnss\n",
    "List reflecting the modified run-length encoding from the said string:\n",
    "[[2, 'a'], 'b', 'c', [4, 'd'], 'a', 'd', 'n', [2, 's']]"
   ]
  },
  {
   "cell_type": "code",
   "execution_count": 76,
   "id": "e4c4ec61-6cbf-4c60-91fd-c36e6add3eaa",
   "metadata": {},
   "outputs": [
    {
     "data": {
      "text/plain": [
       "[[2, 'a'], 'b', 'c', [4, 'd'], 'a', 'd', 'n', [3, 's']]"
      ]
     },
     "execution_count": 76,
     "metadata": {},
     "output_type": "execute_result"
    }
   ],
   "source": [
    "a=\"aabcddddadnsss\"\n",
    "b=[]\n",
    "count=1\n",
    "for i  in range(len(a)-1):\n",
    "    if a[i]==a[i+1]:\n",
    "        count+=1\n",
    "    else:\n",
    "        if count>1:\n",
    "            b.append([count,a[i]])\n",
    "            count=1\n",
    "        else:\n",
    "            b.append(a[i])\n",
    "\n",
    "    \n",
    "if a[-1]==a[-2]:\n",
    "    b.append([a.count(a[-1]),a[-1]])\n",
    "b\n"
   ]
  },
  {
   "cell_type": "code",
   "execution_count": null,
   "id": "b2879c6b-64db-4418-b3aa-980e63067aeb",
   "metadata": {},
   "outputs": [],
   "source": []
  },
  {
   "cell_type": "code",
   "execution_count": null,
   "id": "79e7a0e4-f2a0-47fd-ba24-7cd8aeab6177",
   "metadata": {},
   "outputs": [],
   "source": [
    "77. Write a Python program to decode a run-length message.\n",
    "Original encoded list:\n",
    "[[2, 1], 2, 3, [2, 4], 5, 1]\n",
    "Decode a run-length encoded said list:\n",
    "[1, 1, 2, 3, 4, 4, 5, 1]"
   ]
  },
  {
   "cell_type": "code",
   "execution_count": 68,
   "id": "e9c6d314-4b68-40d7-8dd0-039ad07c6a27",
   "metadata": {},
   "outputs": [
    {
     "data": {
      "text/plain": [
       "[1, 1, 2, 3, 4, 4, 5, 1]"
      ]
     },
     "execution_count": 68,
     "metadata": {},
     "output_type": "execute_result"
    }
   ],
   "source": [
    "a=[[2, 1], 2, 3, [2, 4], 5, 1]\n",
    "b=[]\n",
    "for i in a:\n",
    "    if type(i) is list:\n",
    "        c=[i[1]]*i[0]\n",
    "        for i in c:\n",
    "            b.append(i)\n",
    "    else:\n",
    "        b.append(i)\n",
    "b"
   ]
  },
  {
   "cell_type": "code",
   "execution_count": null,
   "id": "f1cd9bfe-ee3a-4cd2-ac58-954bbe509565",
   "metadata": {},
   "outputs": [],
   "source": [
    "78. Write a Python program to split a given list into two parts where the length of the first part of the list is given.\n",
    "Original list:\n",
    "[1, 1, 2, 3, 4, 4, 5, 1]\n",
    "Length of the first part of the list: 3\n",
    "Splited the said list into two parts:\n",
    "([1, 1, 2], [3, 4, 4, 5, 1])"
   ]
  },
  {
   "cell_type": "code",
   "execution_count": 59,
   "id": "7e8c9c3f-9647-41b0-9095-d1f7ba90443c",
   "metadata": {},
   "outputs": [
    {
     "data": {
      "text/plain": [
       "([1, 1, 2], [3, 4, 4, 5, 1])"
      ]
     },
     "execution_count": 59,
     "metadata": {},
     "output_type": "execute_result"
    }
   ],
   "source": [
    "a=[1, 1, 2, 3, 4, 4, 5, 1]\n",
    "b=()\n",
    "c=a[:3]\n",
    "d=a[3:]\n",
    "c,d"
   ]
  },
  {
   "cell_type": "code",
   "execution_count": null,
   "id": "8d4f23e7-cebd-4779-9cb5-46f4437ee593",
   "metadata": {},
   "outputs": [],
   "source": [
    "79. Write a Python program to remove the K'th element from a given list, and print the updated list.\n",
    "Original list:\n",
    "[1, 1, 2, 3, 4, 4, 5, 1]\n",
    "After removing an element at the kth position of the said list:\n",
    "[1, 1, 3, 4, 4, 5, 1]"
   ]
  },
  {
   "cell_type": "code",
   "execution_count": 58,
   "id": "8609a47a-0e8c-43cc-8521-1b51a00e27ff",
   "metadata": {},
   "outputs": [
    {
     "name": "stdout",
     "output_type": "stream",
     "text": [
      "[1, 1, 3, 4, 4, 5, 1]\n"
     ]
    }
   ],
   "source": [
    "a=[1, 1, 2, 3, 4, 4, 5, 1]\n",
    "print(a[:2]+a[3:])"
   ]
  },
  {
   "cell_type": "code",
   "execution_count": null,
   "id": "868fe209-d5b5-4161-93ad-9eac065b9947",
   "metadata": {},
   "outputs": [],
   "source": [
    "80. Write a Python program to insert an element at a specified position into a given list.\n",
    "Original list:\n",
    "[1, 1, 2, 3, 4, 4, 5, 1]\n",
    "After inserting an element at kth position in the said list:\n",
    "[1, 1, 12, 2, 3, 4, 4, 5, 1]"
   ]
  },
  {
   "cell_type": "code",
   "execution_count": 57,
   "id": "41f64f95-8cc5-404d-bbdd-e7dec770829d",
   "metadata": {},
   "outputs": [
    {
     "data": {
      "text/plain": [
       "[1, 1, 12, 2, 3, 4, 4, 5, 1]"
      ]
     },
     "execution_count": 57,
     "metadata": {},
     "output_type": "execute_result"
    }
   ],
   "source": [
    "a=[1, 1, 2, 3, 4, 4, 5, 1]\n",
    "a.insert(2,12)\n",
    "a"
   ]
  },
  {
   "cell_type": "code",
   "execution_count": null,
   "id": "26c0316f-eac2-4481-86fd-d5b7adfb5851",
   "metadata": {},
   "outputs": [],
   "source": []
  },
  {
   "cell_type": "code",
   "execution_count": null,
   "id": "aa10e8fc-e1f9-4867-bc76-3b9a809c74f7",
   "metadata": {},
   "outputs": [],
   "source": [
    "81. Write a Python program to extract a given number of randomly selected elements from a given list.\n",
    "Original list:\n",
    "[1, 1, 2, 3, 4, 4, 5, 1]\n",
    "Selected 3 random numbers of the above list:\n",
    "[4, 4, 1]"
   ]
  },
  {
   "cell_type": "code",
   "execution_count": 56,
   "id": "f5b75a05-fa34-420b-a928-935bd6d6dd41",
   "metadata": {},
   "outputs": [
    {
     "data": {
      "text/plain": [
       "[4, 3, 1]"
      ]
     },
     "execution_count": 56,
     "metadata": {},
     "output_type": "execute_result"
    }
   ],
   "source": [
    "from random import choice\n",
    "a=[1, 1, 2, 3, 4, 4, 5, 1]\n",
    "b=[]\n",
    "for i in range(3):\n",
    "    b.append(choice(a))\n",
    "b"
   ]
  },
  {
   "cell_type": "code",
   "execution_count": null,
   "id": "d1fe5d50-0beb-44be-bcf8-f361f8cb4352",
   "metadata": {},
   "outputs": [],
   "source": [
    "82. Write a Python program to generate combinations of n distinct objects taken from the elements of a given list.\n",
    "Original list: [1, 2, 3, 4, 5, 6, 7, 8, 9] Combinations of 2 distinct objects: [1, 2] [1, 3] [1, 4] [1, 5] .... [7, 8] [7, 9] [8, 9]"
   ]
  },
  {
   "cell_type": "code",
   "execution_count": 54,
   "id": "3770d327-0ad6-4a7c-8be6-660fec0ca039",
   "metadata": {},
   "outputs": [
    {
     "name": "stdout",
     "output_type": "stream",
     "text": [
      "[1, 2] [1, 3] [1, 4] [1, 5] [1, 6] [1, 7] [1, 8] [1, 9] [2, 3] [2, 4] [2, 5] [2, 6] [2, 7] [2, 8] [2, 9] [3, 4] [3, 5] [3, 6] [3, 7] [3, 8] [3, 9] [4, 5] [4, 6] [4, 7] [4, 8] [4, 9] [5, 6] [5, 7] [5, 8] [5, 9] [6, 7] [6, 8] [6, 9] [7, 8] [7, 9] [8, 9] "
     ]
    }
   ],
   "source": [
    "from itertools import combinations\n",
    "a=[1, 2, 3, 4, 5, 6, 7, 8, 9]\n",
    "b=combinations(a,2)\n",
    "for i in b:\n",
    "    print(list(i),end=\" \")"
   ]
  },
  {
   "cell_type": "code",
   "execution_count": null,
   "id": "546152c9-5af4-49f5-b168-2dcf982e3576",
   "metadata": {},
   "outputs": [],
   "source": [
    "83. Write a Python program to round every number in a given list of numbers and print the total sum multiplied by the length of the list.\n",
    "Original list: [22.4, 4.0, -16.22, -9.1, 11.0, -12.22, 14.2, -5.2, 17.5]\n",
    "Result:\n",
    "243"
   ]
  },
  {
   "cell_type": "code",
   "execution_count": 52,
   "id": "770dc586-edc2-4d6e-afb1-c3c845ed7682",
   "metadata": {},
   "outputs": [
    {
     "data": {
      "text/plain": [
       "243"
      ]
     },
     "execution_count": 52,
     "metadata": {},
     "output_type": "execute_result"
    }
   ],
   "source": [
    "a=[22.4, 4.0, -16.22, -9.1, 11.0, -12.22, 14.2, -5.2, 17.5]\n",
    "b=[]\n",
    "for i in a:\n",
    "    b.append(round(i))\n",
    "c=sum(b)\n",
    "d=len(b)\n",
    "c*d"
   ]
  },
  {
   "cell_type": "code",
   "execution_count": null,
   "id": "a0b4b724-ee17-4d5e-8daa-52d2fd862b40",
   "metadata": {},
   "outputs": [],
   "source": [
    "84. Write a Python program to round the numbers in a given list, print the minimum and maximum numbers and multiply the numbers by 5. Print the unique numbers in ascending order separated by space.\n",
    "Original list: [22.4, 4.0, 16.22, 9.1, 11.0, 12.22, 14.2, 5.2, 17.5]\n",
    "Minimum value: 4\n",
    "Maximum value: 22\n",
    "Result:\n",
    "20 25 45 55 60 70 80 90 110"
   ]
  },
  {
   "cell_type": "code",
   "execution_count": 51,
   "id": "1a62b5f4-adde-4038-9884-312d4dc5f434",
   "metadata": {},
   "outputs": [
    {
     "name": "stdout",
     "output_type": "stream",
     "text": [
      "22\n",
      "4\n"
     ]
    },
    {
     "data": {
      "text/plain": [
       "[20, 25, 45, 55, 60, 70, 80, 90, 110]"
      ]
     },
     "execution_count": 51,
     "metadata": {},
     "output_type": "execute_result"
    }
   ],
   "source": [
    "a=[22.4, 4.0, 16.22, 9.1, 11.0, 12.22, 14.2, 5.2, 17.5]\n",
    "b=[]\n",
    "c=[]\n",
    "for i in a:\n",
    "    b.append(round(i))\n",
    "print(max(b))\n",
    "print(min(b))\n",
    "for i in b:\n",
    "    c.append(i*5)\n",
    "c.sort()\n",
    "c"
   ]
  },
  {
   "cell_type": "code",
   "execution_count": null,
   "id": "c641d812-f54c-45da-a581-d40ff87fcd2c",
   "metadata": {},
   "outputs": [],
   "source": []
  },
  {
   "cell_type": "code",
   "execution_count": null,
   "id": "df9b5e94-aa4e-404d-9e31-b37783386a4e",
   "metadata": {},
   "outputs": [],
   "source": [
    "85. Write a Python program to create a multidimensional list (lists of lists) with zeros.\n",
    "Multidimensional list: [[0, 0], [0, 0], [0, 0]]"
   ]
  },
  {
   "cell_type": "code",
   "execution_count": 46,
   "id": "4448b68b-453e-4830-9190-49f6cea9f5ef",
   "metadata": {},
   "outputs": [
    {
     "data": {
      "text/plain": [
       "[[0, 0, 0], [0, 0, 0], [0, 0, 0]]"
      ]
     },
     "execution_count": 46,
     "metadata": {},
     "output_type": "execute_result"
    }
   ],
   "source": [
    "a=[]\n",
    "for i in range(1,4):\n",
    "    b=[]\n",
    "    for j in range(1,4):\n",
    "        b.append(0)\n",
    "    a.append(b)\n",
    "a"
   ]
  },
  {
   "cell_type": "code",
   "execution_count": null,
   "id": "ceec8f65-0cec-4e9f-abf4-cf1cdd2ab830",
   "metadata": {},
   "outputs": [],
   "source": [
    "86. Write a Python program to create a 3X3 grid with numbers.\n",
    "3X3 grid with numbers:\n",
    "[[1, 2, 3], [1, 2, 3], [1, 2, 3]]"
   ]
  },
  {
   "cell_type": "code",
   "execution_count": 45,
   "id": "f0c226e6-a905-4fa9-a25f-81cb758ba357",
   "metadata": {},
   "outputs": [
    {
     "data": {
      "text/plain": [
       "[[1, 2, 3], [1, 2, 3], [1, 2, 3]]"
      ]
     },
     "execution_count": 45,
     "metadata": {},
     "output_type": "execute_result"
    }
   ],
   "source": [
    "a=[]\n",
    "for i in range(1,4):\n",
    "    b=[]\n",
    "    for j in range(1,4):\n",
    "        b.append(j)\n",
    "    a.append(b)\n",
    "a"
   ]
  },
  {
   "cell_type": "code",
   "execution_count": null,
   "id": "1a6cca07-e061-4083-bf95-bf6644de8be0",
   "metadata": {},
   "outputs": [],
   "source": [
    "87. Write a Python program to read a matrix from the console and print the sum for each column. As input from the user, accept matrix rows, columns, and elements separated by a space (each row).\n",
    "Input rows: 2\n",
    "Input columns: 2\n",
    "Input number of elements in a row (1, 2, 3):\n",
    "1 2\n",
    "3 4\n",
    "sum for each column:\n",
    "4 6"
   ]
  },
  {
   "cell_type": "code",
   "execution_count": 44,
   "id": "7216de75-9daf-44b5-89d8-b063259f0adc",
   "metadata": {},
   "outputs": [
    {
     "name": "stdin",
     "output_type": "stream",
     "text": [
      " 1 2\n",
      " 3 4\n"
     ]
    },
    {
     "data": {
      "text/plain": [
       "[4, 6]"
      ]
     },
     "execution_count": 44,
     "metadata": {},
     "output_type": "execute_result"
    }
   ],
   "source": [
    "rows=2\n",
    "colums=2\n",
    "b=[]\n",
    "d=[]\n",
    "for i in range(rows):\n",
    "    c=list(map(int,input().split()))\n",
    "    b.append(c)\n",
    "for i in range(rows):\n",
    "    count=0\n",
    "    for j in range(colums):\n",
    "        count+=b[j][i]\n",
    "    d.append(count)\n",
    "d"
   ]
  },
  {
   "cell_type": "code",
   "execution_count": null,
   "id": "4250bfbe-1436-44c4-b3fe-7253c804c3d5",
   "metadata": {},
   "outputs": [],
   "source": []
  },
  {
   "cell_type": "code",
   "execution_count": null,
   "id": "6ea75667-067b-4d1d-8568-489b8d4e2d55",
   "metadata": {},
   "outputs": [],
   "source": [
    "88. Write a Python program to read a square matrix from the console and print the sum of the matrix's primary diagonal. Accept the size of the square matrix and elements for each column separated with a space (for every row) as input from the user.\n",
    "Input the size of the matrix: 3\n",
    "2 3 4\n",
    "4 5 6\n",
    "3 4 7\n",
    "Sum of matrix primary diagonal:\n",
    "14"
   ]
  },
  {
   "cell_type": "code",
   "execution_count": 37,
   "id": "73305d82-afe5-49ad-a3b6-c9ec76eab6ca",
   "metadata": {},
   "outputs": [
    {
     "name": "stdin",
     "output_type": "stream",
     "text": [
      " 3\n",
      " 1 2 3\n",
      " 4 5 6\n",
      " 7 8 9\n"
     ]
    },
    {
     "data": {
      "text/plain": [
       "15"
      ]
     },
     "execution_count": 37,
     "metadata": {},
     "output_type": "execute_result"
    }
   ],
   "source": [
    "a=int(input())\n",
    "b=[]\n",
    "for i in range(a):\n",
    "    c=list(map(int,input().split()))\n",
    "    b.append(c)\n",
    "count=0\n",
    "for i in range(a):\n",
    "    for j in range(a):\n",
    "        if i==j:\n",
    "            count+=b[i][j]\n",
    "count"
   ]
  },
  {
   "cell_type": "code",
   "execution_count": null,
   "id": "dbb8754e-87f1-4af6-882c-4582015bcb8a",
   "metadata": {},
   "outputs": [],
   "source": [
    "89. Write a Python program to Zip two given lists of lists.\n",
    "Original lists:\n",
    "[[1, 3], [5, 7], [9, 11]]\n",
    "[[2, 4], [6, 8], [10, 12, 14]]\n",
    "Zipped list:\n",
    "[[1, 3, 2, 4], [5, 7, 6, 8], [9, 11, 10, 12, 14]]"
   ]
  },
  {
   "cell_type": "code",
   "execution_count": 33,
   "id": "a8754f35-c15d-4b3a-8627-f60d8222ddb1",
   "metadata": {},
   "outputs": [
    {
     "data": {
      "text/plain": [
       "[[1, 3, 2, 4], [5, 7, 6, 8], [9, 11, 10, 12, 14]]"
      ]
     },
     "execution_count": 33,
     "metadata": {},
     "output_type": "execute_result"
    }
   ],
   "source": [
    "a=[[1, 3], [5, 7], [9, 11]]\n",
    "b=[[2, 4], [6, 8], [10, 12, 14]]\n",
    "c=[]\n",
    "for i,j in zip(a,b):\n",
    "    c.append(i+j)\n",
    "c"
   ]
  },
  {
   "cell_type": "code",
   "execution_count": null,
   "id": "e97d5a6d-5eab-4549-a98c-6fafb8e5f3f9",
   "metadata": {},
   "outputs": [],
   "source": [
    "90. Write a Python program to count the number of lists in a given list of lists.\n",
    "Original list:\n",
    "[[1, 3], [5, 7], [9, 11], [13, 15, 17]]\n",
    "Number of lists in said list of lists:\n",
    "4\n",
    "Original list:\n",
    "[[2, 4], [[6, 8], [4, 5, 8]], [10, 12, 14]]\n",
    "Number of lists in said list of lists:\n",
    "3"
   ]
  },
  {
   "cell_type": "code",
   "execution_count": 32,
   "id": "06e3023d-27ac-49d3-8a62-33a615045e2b",
   "metadata": {},
   "outputs": [
    {
     "data": {
      "text/plain": [
       "4"
      ]
     },
     "execution_count": 32,
     "metadata": {},
     "output_type": "execute_result"
    }
   ],
   "source": [
    "a=[[1, 3], [5, 7], [9, 11], [13, 15, 17]]\n",
    "count=0\n",
    "for i in a:\n",
    "    count+=1\n",
    "count\n"
   ]
  },
  {
   "cell_type": "code",
   "execution_count": null,
   "id": "507700de-a8a5-4afa-bcde-0e42093ca15c",
   "metadata": {},
   "outputs": [],
   "source": [
    "91. Write a Python program to find a list with maximum and minimum lengths.\n",
    "Original list:\n",
    "[[0], [1, 3], [5, 7], [9, 11], [13, 15, 17]]\n",
    "List with maximum length of lists:\n",
    "(3, [13, 15, 17])\n",
    "List with minimum length of lists:\n",
    "(1, [0])\n",
    "Original list:\n",
    "[[0], [1, 3], [5, 7], [9, 11], [3, 5, 7]]\n",
    "List with maximum length of lists:\n",
    "(3, [3, 5, 7])\n",
    "List with minimum length of lists:\n",
    "(1, [0])\n",
    "Original list:\n",
    "[[12], [1, 3], [1, 34, 5, 7], [9, 11], [3, 5, 7]]\n",
    "List with maximum length of lists:\n",
    "(4, [1, 34, 5, 7])\n",
    "List with minimum length of lists:\n",
    "(1, [12])"
   ]
  },
  {
   "cell_type": "code",
   "execution_count": 31,
   "id": "912fe98d-2b1e-49c8-9bf6-f39596d8e992",
   "metadata": {},
   "outputs": [
    {
     "name": "stdout",
     "output_type": "stream",
     "text": [
      "4 [13, 15, 17]\n",
      "0 [0]\n"
     ]
    }
   ],
   "source": [
    "a=[[0], [1, 3], [5, 7], [9, 11], [13, 15, 17]]\n",
    "b=[]\n",
    "for i in a:\n",
    "    b.append(len(i))\n",
    "c=b.index(max(b))\n",
    "print(c,a[c])\n",
    "d=b.index(min(b))\n",
    "print(d,a[d])"
   ]
  },
  {
   "cell_type": "code",
   "execution_count": null,
   "id": "519074b4-5fd5-407b-bbec-2a57db46da18",
   "metadata": {},
   "outputs": [],
   "source": []
  },
  {
   "cell_type": "code",
   "execution_count": null,
   "id": "e19471d3-590e-477c-8e1e-c57d8cfef0fd",
   "metadata": {},
   "outputs": [],
   "source": []
  },
  {
   "cell_type": "code",
   "execution_count": null,
   "id": "75d5879f-c2d0-4eaf-a7bf-afe7f3769ecd",
   "metadata": {},
   "outputs": [],
   "source": [
    "92. Write a Python program to check if a nested list is a subset of another nested list.\n",
    "Original list:\n",
    "[[1, 3], [5, 7], [9, 11], [13, 15, 17]]\n",
    "[[1, 3], [13, 15, 17]]\n",
    "If the one of the said list is a subset of another.:\n",
    "True\n",
    "Original list:\n",
    "[[[1, 2], [2, 3]], [[3, 4], [5, 6]]]\n",
    "[[[3, 4], [5, 6]]]\n",
    "If the one of the said list is a subset of another.:\n",
    "True\n",
    "Original list:\n",
    "[[[1, 2], [2, 3]], [[3, 4], [5, 7]]]\n",
    "[[[3, 4], [5, 6]]]\n",
    "If the one of the said list is a subset of another.:\n",
    "False"
   ]
  },
  {
   "cell_type": "code",
   "execution_count": 26,
   "id": "ed424133-4f53-4019-94ff-ae685a29455c",
   "metadata": {},
   "outputs": [
    {
     "name": "stdout",
     "output_type": "stream",
     "text": [
      "False\n"
     ]
    }
   ],
   "source": [
    "a=[[[1, 2], [2, 3]], [[3, 4], [5, 7]]]\n",
    "b=[[[3, 4], [5, 6]]]\n",
    "count=0\n",
    "for i in  b:\n",
    "    if i in a:\n",
    "        count+=1\n",
    "if count==len(b):\n",
    "    print(\"True\")\n",
    "else:\n",
    "    print(\"False\")"
   ]
  },
  {
   "cell_type": "code",
   "execution_count": null,
   "id": "c8d45489-71e5-42e7-811c-dc96430ba382",
   "metadata": {},
   "outputs": [],
   "source": []
  },
  {
   "cell_type": "code",
   "execution_count": null,
   "id": "393ca692-c7c8-4a8d-aaa0-e07325ac9954",
   "metadata": {},
   "outputs": [],
   "source": []
  },
  {
   "cell_type": "code",
   "execution_count": null,
   "id": "516ee026-ef1d-4439-9afa-06c1728f7ffa",
   "metadata": {},
   "outputs": [],
   "source": []
  },
  {
   "cell_type": "code",
   "execution_count": null,
   "id": "3e209ee8-69b0-490e-8217-cea2b9d0021a",
   "metadata": {},
   "outputs": [],
   "source": []
  },
  {
   "cell_type": "code",
   "execution_count": null,
   "id": "bad8d149-052f-42ef-9e18-ad916adc4f2b",
   "metadata": {},
   "outputs": [],
   "source": []
  },
  {
   "cell_type": "code",
   "execution_count": null,
   "id": "a4a7dbdf-0e86-4d81-bdb9-3a06862f58fa",
   "metadata": {},
   "outputs": [],
   "source": []
  },
  {
   "cell_type": "code",
   "execution_count": null,
   "id": "f79f971e-0bc4-4c28-ae4f-016d079f5cf5",
   "metadata": {},
   "outputs": [],
   "source": []
  },
  {
   "cell_type": "code",
   "execution_count": null,
   "id": "8a3049a8-8a1c-4d8d-aa0c-ab8245e245a2",
   "metadata": {},
   "outputs": [],
   "source": []
  },
  {
   "cell_type": "code",
   "execution_count": null,
   "id": "4710e7ba-e11b-48f1-98b1-19260b85e81e",
   "metadata": {},
   "outputs": [],
   "source": []
  },
  {
   "cell_type": "code",
   "execution_count": null,
   "id": "06bb2ae8-25fc-48e3-9d99-1c0da508530f",
   "metadata": {},
   "outputs": [],
   "source": []
  },
  {
   "cell_type": "code",
   "execution_count": null,
   "id": "623153a5-7d03-4f1f-b9fb-4407acbf7405",
   "metadata": {},
   "outputs": [],
   "source": []
  },
  {
   "cell_type": "code",
   "execution_count": null,
   "id": "aecb34ff-a4f9-4ce0-84dd-1cf2042cf82f",
   "metadata": {},
   "outputs": [],
   "source": []
  },
  {
   "cell_type": "code",
   "execution_count": null,
   "id": "bb7af1af-7d70-4f3b-a317-4eb88e04e88b",
   "metadata": {},
   "outputs": [],
   "source": []
  },
  {
   "cell_type": "code",
   "execution_count": 25,
   "id": "3b594d15-f401-4437-8afb-2d43e100b308",
   "metadata": {},
   "outputs": [
    {
     "ename": "SyntaxError",
     "evalue": "invalid syntax (1166174704.py, line 1)",
     "output_type": "error",
     "traceback": [
      "\u001b[1;36m  Cell \u001b[1;32mIn[25], line 1\u001b[1;36m\u001b[0m\n\u001b[1;33m    93. Write a Python program to count the number of sublists that contain a particular element.\u001b[0m\n\u001b[1;37m        ^\u001b[0m\n\u001b[1;31mSyntaxError\u001b[0m\u001b[1;31m:\u001b[0m invalid syntax\n"
     ]
    }
   ],
   "source": [
    "#93. Write a Python program to count the number of sublists that contain a particular element.\n",
    "#Original list:\n",
    "[[1, 3], [5, 7], [1, 11], [1, 15, 7]]\n",
    "Count 1 in the said list:\n",
    "3\n",
    "Count 7 in the said list:\n",
    "2\n",
    "Original list:\n",
    "[['A', 'B'], ['A', 'C'], ['A', 'D', 'E'], ['B', 'C', 'D']]\n",
    "Count 'A' in the said list:\n",
    "3\n",
    "Count 'E' in the said list:\n",
    "1"
   ]
  },
  {
   "cell_type": "code",
   "execution_count": 22,
   "id": "d2901e6c-1c53-404f-8bd3-844e9a165f34",
   "metadata": {},
   "outputs": [
    {
     "data": {
      "text/plain": [
       "3"
      ]
     },
     "execution_count": 22,
     "metadata": {},
     "output_type": "execute_result"
    }
   ],
   "source": [
    "a=[[1, 3], [5, 7], [1, 11], [1, 15, 7]]\n",
    "count=0\n",
    "ele=1\n",
    "for i in a:\n",
    "    if 1 in i:\n",
    "        count+=1\n",
    "count"
   ]
  },
  {
   "cell_type": "code",
   "execution_count": null,
   "id": "a79db65e-5cd6-46d8-b9c8-dea6c1f8e824",
   "metadata": {},
   "outputs": [],
   "source": [
    "94. Write a Python program to count the number of unique sublists within a given list.\n",
    "Original list:\n",
    "[[1, 3], [5, 7], [1, 3], [13, 15, 17], [5, 7], [9, 11]]\n",
    "Number of unique lists of the said list:\n",
    "{(1, 3): 2, (5, 7): 2, (13, 15, 17): 1, (9, 11): 1}\n",
    "Original list:\n",
    "[['green', 'orange'], ['black'], ['green', 'orange'], ['white']]\n",
    "Number of unique lists of the said list:\n",
    "{('green', 'orange'): 2, ('black',): 1, ('white',): 1}"
   ]
  },
  {
   "cell_type": "code",
   "execution_count": 21,
   "id": "cb046b2f-fe35-46a4-8ae8-9c90764bfc74",
   "metadata": {},
   "outputs": [
    {
     "data": {
      "text/plain": [
       "{(1, 3): 2, (5, 7): 2, (9, 11): 1, (13, 15, 17): 1}"
      ]
     },
     "execution_count": 21,
     "metadata": {},
     "output_type": "execute_result"
    }
   ],
   "source": [
    "a=[[1, 3], [5, 7], [1, 3], [13, 15, 17], [5, 7], [9, 11]]\n",
    "b=[]\n",
    "for i in a:\n",
    "    b.append(tuple(i))\n",
    "c={}\n",
    "for i in sorted(set(b)):\n",
    "    c[i]=b.count(i)\n",
    "c"
   ]
  },
  {
   "cell_type": "code",
   "execution_count": null,
   "id": "4a35dcbf-fae1-4f5e-bee4-5e8f3cb52146",
   "metadata": {},
   "outputs": [],
   "source": []
  },
  {
   "cell_type": "code",
   "execution_count": null,
   "id": "18c56be9-a72a-4fb3-bb4d-ec0199bcb167",
   "metadata": {},
   "outputs": [],
   "source": []
  },
  {
   "cell_type": "code",
   "execution_count": null,
   "id": "e370aacc-1f0e-45b2-a075-d8f8966700fc",
   "metadata": {},
   "outputs": [],
   "source": [
    "97. Write a Python program to remove sublists from a given list of lists that contain an element outside a given range.\n",
    "Original list:\n",
    "[[2], [0], [1, 2, 3], [0, 1, 2, 3, 6, 7], [9, 11], [13, 14, 15, 17]]\n",
    "After removing sublists from a given list of lists, which contains an element outside the given range:\n",
    "[[13, 14, 15, 17]]"
   ]
  },
  {
   "cell_type": "code",
   "execution_count": 18,
   "id": "2bd89fbd-e965-430d-abb0-69d357e4c14f",
   "metadata": {},
   "outputs": [
    {
     "data": {
      "text/plain": [
       "[[13, 14, 15, 17]]"
      ]
     },
     "execution_count": 18,
     "metadata": {},
     "output_type": "execute_result"
    }
   ],
   "source": [
    "a=[[2], [0], [1, 2, 3], [0, 1, 2, 3, 6, 7], [9, 11], [13, 14, 15, 17]]\n",
    "start=13\n",
    "end=18\n",
    "k=[13,14,15,16,17,18]\n",
    "c=[]\n",
    "for i in a:\n",
    "    x=len(i)\n",
    "    count=0\n",
    "    for j in i:\n",
    "        if j in k:\n",
    "            count+=1\n",
    "    if count==x:\n",
    "        c.append(i)\n",
    "c\n",
    "\n"
   ]
  },
  {
   "cell_type": "code",
   "execution_count": null,
   "id": "483e8272-4a87-40e0-841e-68eb3c8a69a3",
   "metadata": {},
   "outputs": [],
   "source": [
    "98. Write a Python program to scramble the letters of a string in a given list.\n",
    "Original list:\n",
    "['Python', 'list', 'exercises', 'practice', 'solution']\n",
    "After scrambling the letters of the strings of the said list:\n",
    "['tnPhyo', 'tlis', 'ecrsseiex', 'ccpitear', 'noiltuos']"
   ]
  },
  {
   "cell_type": "code",
   "execution_count": null,
   "id": "2d6f2690-8152-43c6-965e-07135bb3e902",
   "metadata": {},
   "outputs": [],
   "source": []
  },
  {
   "cell_type": "code",
   "execution_count": 15,
   "id": "9c3cc36a-114d-44f3-88a2-44d127741b9c",
   "metadata": {},
   "outputs": [
    {
     "data": {
      "text/plain": [
       "['Ptohyn', 'islt', 'ssirxecee', 'aiccpert', 'ooutnsil']"
      ]
     },
     "execution_count": 15,
     "metadata": {},
     "output_type": "execute_result"
    }
   ],
   "source": [
    "import random\n",
    "a=['Python', 'list', 'exercises', 'practice', 'solution']\n",
    "b=[]\n",
    "for i in a:\n",
    "    c=list(i)\n",
    "    random.shuffle(c)\n",
    "    b.append(\"\".join(c))\n",
    "b\n"
   ]
  },
  {
   "cell_type": "code",
   "execution_count": null,
   "id": "326884d0-2729-4bbd-be3a-28b954303872",
   "metadata": {},
   "outputs": [],
   "source": []
  },
  {
   "cell_type": "code",
   "execution_count": null,
   "id": "ad24f23b-a054-47b3-a09c-655d7d972078",
   "metadata": {},
   "outputs": [],
   "source": []
  },
  {
   "cell_type": "code",
   "execution_count": null,
   "id": "70f72e69-bad8-4454-b5bc-e1ed1c77dbad",
   "metadata": {},
   "outputs": [],
   "source": [
    "99. Write a Python program to find the maximum and minimum values in a given heterogeneous list.\n",
    "Original list:\n",
    "['Python', 3, 2, 4, 5, 'version']\n",
    "Maximum and Minimum values in the said list:\n",
    "(5, 2)"
   ]
  },
  {
   "cell_type": "code",
   "execution_count": 2,
   "id": "24752e9b-7bd8-4621-8b5f-15d67c043802",
   "metadata": {},
   "outputs": [
    {
     "name": "stdout",
     "output_type": "stream",
     "text": [
      "2 5\n"
     ]
    }
   ],
   "source": [
    "a=['Python', 3, 2, 4, 5, 'version']\n",
    "b=[]\n",
    "for i in a:\n",
    "    if type(i) is int:\n",
    "        b.append(i)\n",
    "b.sort()\n",
    "print(b[0],b[-1])"
   ]
  },
  {
   "cell_type": "code",
   "execution_count": null,
   "id": "2814ccee-1e8a-48b3-bb5b-d2f708426f06",
   "metadata": {},
   "outputs": [],
   "source": [
    "100. Write a Python program to extract common index elements from more than one given list.\n",
    "Original lists:\n",
    "[1, 1, 3, 4, 5, 6, 7]\n",
    "[0, 1, 2, 3, 4, 5, 7]\n",
    "[0, 1, 2, 3, 4, 5, 7]\n",
    "Common index elements of the said lists:\n",
    "[1, 7]"
   ]
  },
  {
   "cell_type": "code",
   "execution_count": 1,
   "id": "7e531f5b-93dd-4095-aec0-78a0a55abd28",
   "metadata": {},
   "outputs": [
    {
     "data": {
      "text/plain": [
       "[1, 7]"
      ]
     },
     "execution_count": 1,
     "metadata": {},
     "output_type": "execute_result"
    }
   ],
   "source": [
    "a=[1, 1, 3, 4, 5, 6, 7]\n",
    "b=[0, 1, 2, 3, 4, 5, 7]\n",
    "c=[0, 1, 2, 3, 4, 5, 7]\n",
    "d=[]\n",
    "for i,j,k in zip(a,b,c):\n",
    "    if i==j==k:\n",
    "        d.append(i)\n",
    "d"
   ]
  },
  {
   "cell_type": "code",
   "execution_count": null,
   "id": "e1cf3a3d-acf8-4712-82a8-e892518d280c",
   "metadata": {},
   "outputs": [],
   "source": [
    "102. Write a Python program to extract specified size of strings from a give list of string values.\n",
    "Original list:\n",
    "['Python', 'list', 'exercises', 'practice', 'solution']\n",
    "length of the string to extract:\n",
    "8\n",
    "After extracting strings of specified length from the said list:\n",
    "['practice', 'solution']"
   ]
  },
  {
   "cell_type": "code",
   "execution_count": 329,
   "id": "7066735b-d412-4161-ba52-0f5c48f9b4c0",
   "metadata": {},
   "outputs": [
    {
     "data": {
      "text/plain": [
       "['practice', 'solution']"
      ]
     },
     "execution_count": 329,
     "metadata": {},
     "output_type": "execute_result"
    }
   ],
   "source": [
    "a=['Python', 'list', 'exercises', 'practice', 'solution']\n",
    "b=[]\n",
    "for i in a:\n",
    "    if len(i)==8:\n",
    "        b.append(i)\n",
    "b"
   ]
  },
  {
   "cell_type": "code",
   "execution_count": null,
   "id": "b81eab0f-9b74-4860-907c-eb50d73ee6ab",
   "metadata": {},
   "outputs": [],
   "source": []
  },
  {
   "cell_type": "code",
   "execution_count": null,
   "id": "0594060e-a7a7-46ea-b852-26399260494b",
   "metadata": {},
   "outputs": [],
   "source": []
  },
  {
   "cell_type": "code",
   "execution_count": null,
   "id": "8fba24d1-2812-4d26-b041-a715767978e0",
   "metadata": {},
   "outputs": [],
   "source": [
    "103. Write a Python program to extract specified number of elements from a given list, which follows each other continuously.\n",
    "Original list:\n",
    "[1, 1, 3, 4, 4, 5, 6, 7]\n",
    "Extract 2 number of elements from the said list which follows each other continuously:\n",
    "[1, 4]\n",
    "Original lists:\n",
    "[0, 1, 2, 3, 4, 4, 4, 4, 5, 7]\n",
    "Extract 4 number of elements from the said list which follows each other continuously:\n",
    "[4]"
   ]
  },
  {
   "cell_type": "code",
   "execution_count": 326,
   "id": "37ea5dd4-5035-4d05-be98-78f27134c90a",
   "metadata": {},
   "outputs": [
    {
     "name": "stdin",
     "output_type": "stream",
     "text": [
      " 4\n"
     ]
    },
    {
     "data": {
      "text/plain": [
       "[4]"
      ]
     },
     "execution_count": 326,
     "metadata": {},
     "output_type": "execute_result"
    }
   ],
   "source": [
    "a=[0, 1, 2, 3, 4, 4, 4, 4,4,5, 7]\n",
    "b=int(input())\n",
    "count=1\n",
    "c=[]\n",
    "for i in range(len(a)-1):\n",
    "    if a[i]==a[i+1]:\n",
    "        count+=1\n",
    "    if count==b:\n",
    "        c.append(a[i])\n",
    "        count=1\n",
    "c"
   ]
  },
  {
   "cell_type": "code",
   "execution_count": null,
   "id": "2dd2f7e6-7a55-4b25-a9d8-434bca6892be",
   "metadata": {},
   "outputs": [],
   "source": [
    "104. Write a Python program to find the difference between consecutive numbers in a given list.\n",
    "Original list:\n",
    "[1, 1, 3, 4, 4, 5, 6, 7]\n",
    "Difference between consecutive numbers of the said list:\n",
    "[0, 2, 1, 0, 1, 1, 1]\n",
    "Original list:\n",
    "[4, 5, 8, 9, 6, 10]\n",
    "Difference between consecutive numbers of the said list:\n",
    "[1, 3, 1, -3, 4]"
   ]
  },
  {
   "cell_type": "code",
   "execution_count": 319,
   "id": "0d44ab8e-1d86-43b4-b470-833e77d04f74",
   "metadata": {},
   "outputs": [
    {
     "data": {
      "text/plain": [
       "[0, 2, 1, 0, 1, 1, 1]"
      ]
     },
     "execution_count": 319,
     "metadata": {},
     "output_type": "execute_result"
    }
   ],
   "source": [
    "a=[1, 1, 3, 4, 4, 5, 6, 7]\n",
    "b=[]\n",
    "for i in range(len(a)-1):\n",
    "    b.append(a[i+1]-a[i])\n",
    "b\n",
    "    "
   ]
  },
  {
   "cell_type": "code",
   "execution_count": null,
   "id": "cb4920df-e7f6-4e1e-bab4-465750d29e57",
   "metadata": {},
   "outputs": [],
   "source": []
  },
  {
   "cell_type": "code",
   "execution_count": null,
   "id": "d514e5d8-6cdb-4224-8a2c-50227dd02e04",
   "metadata": {},
   "outputs": [],
   "source": [
    "105. Write a Python program to compute average of two given lists.\n",
    "Original list:\n",
    "[1, 1, 3, 4, 4, 5, 6, 7]\n",
    "[0, 1, 2, 3, 4, 4, 5, 7, 8]"
   ]
  },
  {
   "cell_type": "code",
   "execution_count": 318,
   "id": "6a74969d-a6c7-46ef-ac48-6e490c31fb3a",
   "metadata": {},
   "outputs": [
    {
     "data": {
      "text/plain": [
       "3.823529411764706"
      ]
     },
     "execution_count": 318,
     "metadata": {},
     "output_type": "execute_result"
    }
   ],
   "source": [
    "a=[1, 1, 3, 4, 4, 5, 6, 7]\n",
    "b=[0, 1, 2, 3, 4, 4, 5, 7, 8]\n",
    "c=a+b\n",
    "d=0\n",
    "for i in c:\n",
    "    d+=i\n",
    "d/len(c)"
   ]
  },
  {
   "cell_type": "code",
   "execution_count": null,
   "id": "96f296b8-be85-480b-bb42-9058238d668d",
   "metadata": {},
   "outputs": [],
   "source": []
  },
  {
   "cell_type": "code",
   "execution_count": null,
   "id": "6f346508-6af0-44d1-9c8f-ca89c68ebad2",
   "metadata": {},
   "outputs": [],
   "source": [
    "06. Write a Python program to count integers in a given mixed list.\n",
    "Original list:\n",
    "[1, 'abcd', 3, 1.2, 4, 'xyz', 5, 'pqr', 7, -5, -12.22]\n",
    "Number of integers in the said mixed list:\n",
    "6"
   ]
  },
  {
   "cell_type": "code",
   "execution_count": 315,
   "id": "4aaf0a40-c936-450c-b9e4-bbd3364aeb57",
   "metadata": {},
   "outputs": [
    {
     "data": {
      "text/plain": [
       "6"
      ]
     },
     "execution_count": 315,
     "metadata": {},
     "output_type": "execute_result"
    }
   ],
   "source": [
    "a=[1, 'abcd', 3, 1.2, 4, 'xyz', 5, 'pqr', 7, -5, -12.22]\n",
    "b=0\n",
    "for i in a:\n",
    "    if type(i) is int:\n",
    "        b+=1\n",
    "b"
   ]
  },
  {
   "cell_type": "code",
   "execution_count": null,
   "id": "8b0bb3f1-ac85-4c3a-a5ae-1c18fa594099",
   "metadata": {},
   "outputs": [],
   "source": []
  },
  {
   "cell_type": "code",
   "execution_count": null,
   "id": "ae850203-a76d-441d-a14b-b1e8fd54fd02",
   "metadata": {},
   "outputs": [],
   "source": [
    "107. Write a Python program to remove a specified column from a given nested list.\n",
    "Original Nested list:\n",
    "[[1, 2, 3], [2, 4, 5], [1, 1, 1]]\n",
    "After removing 1st column:\n",
    "[[2, 3], [4, 5], [1, 1]]\n",
    "Original Nested list:\n",
    "[[1, 2, 3], [-2, 4, -5], [1, -1, 1]]\n",
    "After removing 3rd column:\n",
    "[[1, 2], [-2, 4], [1, -1]]"
   ]
  },
  {
   "cell_type": "code",
   "execution_count": 313,
   "id": "52a7d89b-8a63-4eb9-9f34-dc1fe54137ba",
   "metadata": {},
   "outputs": [
    {
     "name": "stdin",
     "output_type": "stream",
     "text": [
      " 1\n"
     ]
    },
    {
     "data": {
      "text/plain": [
       "[[2, 3], [4, 5], [1, 1]]"
      ]
     },
     "execution_count": 313,
     "metadata": {},
     "output_type": "execute_result"
    }
   ],
   "source": [
    "a=[[1, 2, 3], [2, 4, 5], [1, 1, 1]]\n",
    "b=int(input())\n",
    "c=[]\n",
    "for i in range(len(a)):\n",
    "    k=a[i][b-1]\n",
    "    a[i].remove(k)\n",
    "a\n"
   ]
  },
  {
   "cell_type": "code",
   "execution_count": null,
   "id": "c30e1f62-bf5a-4270-8828-d86eaf0c1d86",
   "metadata": {},
   "outputs": [],
   "source": [
    "108. Write a Python program to extract a specified column from a given nested list.\n",
    "Original Nested list:\n",
    "[[1, 2, 3], [2, 4, 5], [1, 1, 1]]\n",
    "Extract 1st column:\n",
    "[1, 2, 1]\n",
    "Original Nested list:\n",
    "[[1, 2, 3], [-2, 4, -5], [1, -1, 1]]\n",
    "Extract 3rd column:\n",
    "[3, -5, 1]"
   ]
  },
  {
   "cell_type": "code",
   "execution_count": 312,
   "id": "c7240564-3d72-4b96-88e0-55e266d005c7",
   "metadata": {},
   "outputs": [
    {
     "name": "stdin",
     "output_type": "stream",
     "text": [
      " 3\n"
     ]
    },
    {
     "data": {
      "text/plain": [
       "[3, 5, 1]"
      ]
     },
     "execution_count": 312,
     "metadata": {},
     "output_type": "execute_result"
    }
   ],
   "source": [
    "a=[[1, 2, 3], [2, 4, 5], [1, 1, 1]]\n",
    "b=int(input())\n",
    "c=[]\n",
    "for i in range(len(a)):\n",
    "    c.append(a[i][b-1])\n",
    "c"
   ]
  },
  {
   "cell_type": "code",
   "execution_count": null,
   "id": "43e29504-e878-497c-8bcd-22baa4135c2b",
   "metadata": {},
   "outputs": [],
   "source": [
    "109. Write a Python program to rotate a given list by a specified number of items in the right or left direction.\n",
    "original List:\n",
    "[1, 2, 3, 4, 5, 6, 7, 8, 9, 10]\n",
    "Rotate the said list in left direction by 4:\n",
    "[4, 5, 6, 7, 8, 9, 10, 1, 2, 3, 4]\n",
    "Rotate the said list in left direction by 2:\n",
    "[3, 4, 5, 6, 7, 8, 9, 10, 1, 2]\n",
    "Rotate the said list in Right direction by 4:\n",
    "[8, 9, 10, 1, 2, 3, 4, 5, 6]\n",
    "Rotate the said list in Right direction by 2:\n",
    "[9, 10, 1, 2, 3, 4, 5, 6, 7, 8]"
   ]
  },
  {
   "cell_type": "code",
   "execution_count": 307,
   "id": "55e3394d-92d5-4543-98ad-e2f886ead489",
   "metadata": {},
   "outputs": [
    {
     "name": "stdin",
     "output_type": "stream",
     "text": [
      " right\n",
      " 4\n"
     ]
    },
    {
     "name": "stdout",
     "output_type": "stream",
     "text": [
      "[7, 8, 9, 10, 1, 2, 3, 4, 5, 6]\n"
     ]
    }
   ],
   "source": [
    "a=[1, 2, 3, 4, 5, 6, 7, 8, 9, 10]\n",
    "b=input()\n",
    "c=int(input())\n",
    "if b.lower()==\"left\":\n",
    "    k=a[:c]\n",
    "    l=a[c:]\n",
    "    print(l+k)\n",
    "else:\n",
    "    k=a[len(a)-c:]\n",
    "    l=a[:len(a)-c]\n",
    "    print(k+l)"
   ]
  },
  {
   "cell_type": "code",
   "execution_count": null,
   "id": "fa21ec50-ae28-4a65-ab5f-bb1b3a1387c2",
   "metadata": {},
   "outputs": [],
   "source": [
    "110. Write a Python program to find the item with the most occurrences in a given list.\n",
    "Original list:\n",
    "[2, 3, 8, 4, 7, 9, 8, 2, 6, 5, 1, 6, 1, 2, 3, 4, 6, 9, 1, 2]\n",
    "Item with maximum occurrences of the said list:\n",
    "2"
   ]
  },
  {
   "cell_type": "code",
   "execution_count": 305,
   "id": "e8ddd5e5-73d4-4bc9-9ab6-907ba7701c6b",
   "metadata": {},
   "outputs": [
    {
     "data": {
      "text/plain": [
       "2"
      ]
     },
     "execution_count": 305,
     "metadata": {},
     "output_type": "execute_result"
    }
   ],
   "source": [
    "a=[2, 3, 8, 4, 7, 9, 8, 2, 6, 5, 1, 6, 1, 2, 3, 4, 6, 9, 1, 2]\n",
    "b=set(a)\n",
    "c={}\n",
    "for i in sorted(b):\n",
    "    k,v=i,a.count(i)\n",
    "    c[k]=v\n",
    "x=list(c.keys())\n",
    "y=list(c.values())\n",
    "max=y[0]\n",
    "for i in y:\n",
    "    if i>max:\n",
    "        max=i\n",
    "s=y.index(max)\n",
    "x[s]"
   ]
  },
  {
   "cell_type": "code",
   "execution_count": null,
   "id": "aec14a3e-8b74-4e8d-a19a-2fdfc8bfed26",
   "metadata": {},
   "outputs": [],
   "source": []
  },
  {
   "cell_type": "code",
   "execution_count": null,
   "id": "0c23e695-4a2a-427a-b0c3-31898a682d1e",
   "metadata": {},
   "outputs": [],
   "source": [
    "111. Write a Python program to access multiple elements at a specified index from a given list.\n",
    "Original list:\n",
    "[2, 3, 8, 4, 7, 9, 8, 2, 6, 5, 1, 6, 1, 2, 3, 4, 6, 9, 1, 2]\n",
    "Index list:\n",
    "[0, 3, 5, 7, 10]\n",
    "Items with specified index of the said list:\n",
    "[2, 4, 9, 2, 1]"
   ]
  },
  {
   "cell_type": "code",
   "execution_count": 302,
   "id": "32f0471c-0456-4a0f-b960-ba580e31c61a",
   "metadata": {},
   "outputs": [
    {
     "data": {
      "text/plain": [
       "[2, 4, 9, 2, 1]"
      ]
     },
     "execution_count": 302,
     "metadata": {},
     "output_type": "execute_result"
    }
   ],
   "source": [
    "a=[2, 3, 8, 4, 7, 9, 8, 2, 6, 5, 1, 6, 1, 2, 3, 4, 6, 9, 1, 2]\n",
    "b=[0, 3, 5, 7, 10]\n",
    "c=[]\n",
    "for i in b:\n",
    "    for j in range(len(a)):\n",
    "        if i==j:\n",
    "            c.append(a[j])\n",
    "c"
   ]
  },
  {
   "cell_type": "code",
   "execution_count": null,
   "id": "2f7aeb1c-ea93-4d83-af12-79ee14a29df6",
   "metadata": {},
   "outputs": [],
   "source": [
    "112. Write a Python program to check whether a specified list is sorted or not.\n",
    "Original list:\n",
    "[1, 2, 4, 6, 8, 10, 12, 14, 16, 17]\n",
    "Is the said list is sorted!\n",
    "True\n",
    "Original list:\n",
    "[1, 2, 4, 6, 8, 10, 12, 14, 16, 17]\n",
    "Is the said list is sorted!"
   ]
  },
  {
   "cell_type": "code",
   "execution_count": 301,
   "id": "16397b0a-2c4e-400c-a6d6-2de6646679bd",
   "metadata": {},
   "outputs": [
    {
     "name": "stdout",
     "output_type": "stream",
     "text": [
      "False\n"
     ]
    }
   ],
   "source": [
    "a=[11, 2, 4, 6, 8, 10, 12, 14, 16, 17]\n",
    "b=sorted(a)\n",
    "print(a==b)"
   ]
  },
  {
   "cell_type": "code",
   "execution_count": null,
   "id": "e2c74fae-e822-4bc2-8c74-d1e1ec7f10ce",
   "metadata": {},
   "outputs": [],
   "source": []
  },
  {
   "cell_type": "code",
   "execution_count": null,
   "id": "11f8e14e-e466-4f93-968c-9a949bf5bd6b",
   "metadata": {},
   "outputs": [],
   "source": []
  },
  {
   "cell_type": "code",
   "execution_count": null,
   "id": "225d3483-7cc0-4d54-b55b-77c8be85bc18",
   "metadata": {},
   "outputs": [],
   "source": [
    "113. Write a Python program to remove duplicate dictionary entries from a given list.\n",
    "Original list with duplicate dictionary:\n",
    "[{'Green': '#008000'}, {'Black': '#000000'}, {'Blue': '#0000FF'}, {'Green': '#008000'}]\n",
    "After removing duplicate dictionary of the said list:\n",
    "[{'Black': '#000000'}, {'Blue': '#0000FF'}, {'Green': '#008000'}]"
   ]
  },
  {
   "cell_type": "code",
   "execution_count": 299,
   "id": "cc7884c6-7807-4ad8-a9c2-c419de48ce24",
   "metadata": {},
   "outputs": [
    {
     "data": {
      "text/plain": [
       "[{'Green': '#008000'}, {'Black': '#000000'}, {'Blue': '#0000FF'}]"
      ]
     },
     "execution_count": 299,
     "metadata": {},
     "output_type": "execute_result"
    }
   ],
   "source": [
    "a=[{'Green': '#008000'}, {'Black': '#000000'}, {'Blue': '#0000FF'}, {'Green': '#008000'}]\n",
    "b=[]\n",
    "for i in a:\n",
    "    if i not in b:\n",
    "        b.append(i)\n",
    "b"
   ]
  },
  {
   "cell_type": "code",
   "execution_count": null,
   "id": "20b5c42b-1b82-468d-bc24-741d91433262",
   "metadata": {},
   "outputs": [],
   "source": []
  },
  {
   "cell_type": "code",
   "execution_count": null,
   "id": "9769fb0c-9931-4689-b355-e955b32c017f",
   "metadata": {},
   "outputs": [],
   "source": []
  },
  {
   "cell_type": "code",
   "execution_count": null,
   "id": "e7e1885b-d9a8-42fe-a51d-887f263e4064",
   "metadata": {},
   "outputs": [],
   "source": [
    "115. Write a Python program to check if the elements of a given list are unique or not.\n",
    "Original list:\n",
    "[1, 2, 4, 6, 8, 2, 1, 4, 10, 12, 14, 12, 16, 17]\n",
    "Is the said list contains all unique elements!\n",
    "False\n",
    "Original list:\n",
    "[2, 4, 6, 8, 10, 12, 14]\n",
    "Is the said list contains all unique elements!\n",
    "True"
   ]
  },
  {
   "cell_type": "code",
   "execution_count": 298,
   "id": "7f331f1a-d978-4d57-824f-594247986d75",
   "metadata": {},
   "outputs": [
    {
     "name": "stdout",
     "output_type": "stream",
     "text": [
      "False\n"
     ]
    }
   ],
   "source": [
    "a=[1, 2, 4, 6, 8, 2, 1, 4, 10, 12, 14, 12, 16, 17]\n",
    "b=len(a)\n",
    "c=set(a)\n",
    "d=len(c)\n",
    "print(c==d)"
   ]
  },
  {
   "cell_type": "code",
   "execution_count": null,
   "id": "c13f6fc8-bc6c-4763-b186-85c77c5e8c39",
   "metadata": {},
   "outputs": [],
   "source": [
    "117. Write a Python program to remove all elements from a given list that are present in another list.\n",
    "Original lists:\n",
    "list1: [1, 2, 3, 4, 5, 6, 7, 8, 9, 10]\n",
    "list2: [2, 4, 6, 8]\n",
    "Remove all elements from 'list1' present in 'list2:\n",
    "[1, 3, 5, 7, 9, 10]"
   ]
  },
  {
   "cell_type": "code",
   "execution_count": 297,
   "id": "576807d3-a9f7-40e6-b621-3ea64473265b",
   "metadata": {},
   "outputs": [
    {
     "name": "stdout",
     "output_type": "stream",
     "text": [
      "[1, 3, 5, 7, 9, 10]\n"
     ]
    }
   ],
   "source": [
    "list1=[1, 2, 3, 4, 5, 6, 7, 8, 9, 10]\n",
    "list2= [2, 4, 6, 8]\n",
    "k=set(list1)-set(list2)\n",
    "print(list(k))"
   ]
  },
  {
   "cell_type": "code",
   "execution_count": null,
   "id": "a25dd21b-7355-4b3d-a168-2d782dfbde2e",
   "metadata": {},
   "outputs": [],
   "source": [
    "18. Write a Python program to find the difference between elements (n+1th - nth) of a given list of numeric values.\n",
    "Original list:\n",
    "[1, 2, 3, 4, 5, 6, 7, 8, 9, 10]\n",
    "Dfference between elements (n+1th - nth) of the said list :\n",
    "[1, 1, 1, 1, 1, 1, 1, 1, 1]\n",
    "Original list:\n",
    "[2, 4, 6, 8]"
   ]
  },
  {
   "cell_type": "code",
   "execution_count": 292,
   "id": "c860b71e-4203-478b-9f0e-31719af28acd",
   "metadata": {},
   "outputs": [
    {
     "data": {
      "text/plain": [
       "[2, 2, 2]"
      ]
     },
     "execution_count": 292,
     "metadata": {},
     "output_type": "execute_result"
    }
   ],
   "source": [
    "a=[2, 4, 6, 8]\n",
    "b=[]\n",
    "for i in range(len(a)-1):\n",
    "    x=a[i+1]-a[i]\n",
    "    b.append(x)\n",
    "b\n",
    "    "
   ]
  },
  {
   "cell_type": "code",
   "execution_count": null,
   "id": "84d18b41-787a-4e32-b1b6-ee0ab43a974b",
   "metadata": {},
   "outputs": [],
   "source": [
    "19. Write a Python program to check if a substring appears in a given list of string values.\n",
    "Original list:\n",
    "['red', 'black', 'white', 'green', 'orange']\n",
    "Substring to search:\n",
    "ack\n",
    "Check if a substring presents in the said list of string values:\n",
    "True\n",
    "Substring to search:\n",
    "abc\n",
    "Check if a substring presents in the said list of string values:\n",
    "False"
   ]
  },
  {
   "cell_type": "code",
   "execution_count": 289,
   "id": "fdb80771-cdec-4ae4-b927-807219756b15",
   "metadata": {},
   "outputs": [
    {
     "name": "stdin",
     "output_type": "stream",
     "text": [
      " abc\n"
     ]
    },
    {
     "name": "stdout",
     "output_type": "stream",
     "text": [
      "False\n"
     ]
    }
   ],
   "source": [
    "a=['red', 'black', 'white', 'green', 'orange']\n",
    "b=input()\n",
    "c=0\n",
    "for i in a:\n",
    "    if b in i:\n",
    "        c=1\n",
    "        break\n",
    "if c==1:\n",
    "    print(\"True\")\n",
    "else:\n",
    "    print(\"False\")\n",
    "    \n"
   ]
  },
  {
   "cell_type": "code",
   "execution_count": null,
   "id": "56c60362-030c-49d7-98fa-312a5f0d69ba",
   "metadata": {},
   "outputs": [],
   "source": [
    "120. Write a Python program to create a list taking alternate elements from a given list.\n",
    "Original list:\n",
    "['red', 'black', 'white', 'green', 'orange']\n",
    "List with alternate elements from the said list:\n",
    "['red', 'white', 'orange']\n",
    "Original list:\n",
    "[2, 0, 3, 4, 0, 2, 8, 3, 4, 2]\n",
    "List with alternate elements from the said list:\n",
    "[2, 3, 0, 8, 4]"
   ]
  },
  {
   "cell_type": "code",
   "execution_count": 247,
   "id": "d618e82c-f813-4b31-9044-b13c823ec156",
   "metadata": {},
   "outputs": [
    {
     "data": {
      "text/plain": [
       "[2, 3, 0, 8, 4]"
      ]
     },
     "execution_count": 247,
     "metadata": {},
     "output_type": "execute_result"
    }
   ],
   "source": [
    "a=[2, 0, 3, 4, 0, 2, 8, 3, 4, 2]\n",
    "b=[]\n",
    "for i in range(0,len(a),2):\n",
    "    b.append(a[i])\n",
    "b"
   ]
  },
  {
   "cell_type": "code",
   "execution_count": null,
   "id": "d9e8d0bb-8839-475b-a069-f96fd4ecee32",
   "metadata": {},
   "outputs": [],
   "source": [
    "121. Write a Python program to find nested list elements that are present in another list.\n",
    "Original lists:\n",
    "[1, 2, 3, 4, 5, 6, 7, 8, 9, 10, 11, 12, 13, 14]\n",
    "[[12, 18, 23, 25, 45], [7, 11, 19, 24, 28], [1, 5, 8, 18, 15, 16]]\n",
    "Intersection of said nested lists:\n",
    "[[12], [7, 11], [1, 5, 8]]"
   ]
  },
  {
   "cell_type": "code",
   "execution_count": 248,
   "id": "15d2a7db-98e9-4afe-aece-cbd8fa6ecf76",
   "metadata": {},
   "outputs": [
    {
     "data": {
      "text/plain": [
       "[[12], [11, 7], [8, 1, 5]]"
      ]
     },
     "execution_count": 248,
     "metadata": {},
     "output_type": "execute_result"
    }
   ],
   "source": [
    "a=[1, 2, 3, 4, 5, 6, 7, 8, 9, 10, 11, 12, 13, 14]\n",
    "b=set(a)\n",
    "c=[]\n",
    "d=[[12, 18, 23, 25, 45], [7, 11, 19, 24, 28], [1, 5, 8, 18, 15, 16]]\n",
    "for i in d:\n",
    "    k=set(i)\n",
    "    z=b&k\n",
    "    z=list(z)\n",
    "    c.append(z)\n",
    "c"
   ]
  },
  {
   "cell_type": "code",
   "execution_count": null,
   "id": "0fcbd15a-56ba-44cc-920e-0f1ec51bbe97",
   "metadata": {},
   "outputs": [],
   "source": [
    "122. Write a Python program to find common elements in a nested list.\n",
    "Original lists:\n",
    "[[12, 18, 23, 25, 45], [7, 12, 18, 24, 28], [1, 5, 8, 12, 15, 16, 18]]\n",
    "Common element(s) in nested lists:\n",
    "[18, 12]"
   ]
  },
  {
   "cell_type": "code",
   "execution_count": 260,
   "id": "79bb374c-d7d3-4d32-9a69-dcd57391ffe7",
   "metadata": {},
   "outputs": [
    {
     "name": "stdout",
     "output_type": "stream",
     "text": [
      "[18, 12]\n"
     ]
    }
   ],
   "source": [
    "a=[[12, 18, 23, 25, 45], [7, 12, 18, 24, 28], [1, 5, 8, 12, 15, 16, 18,23]]\n",
    "b=set(a[0])\n",
    "b\n",
    "for i in a:\n",
    "    k=b&set(i)\n",
    "    b=k\n",
    "print(list(k))\n"
   ]
  },
  {
   "cell_type": "code",
   "execution_count": null,
   "id": "532c9762-6a22-493e-b6ca-2d3055a1a7ec",
   "metadata": {},
   "outputs": [],
   "source": [
    "123. Write a Python program to reverse strings in a given list of string values.\n",
    "Original lists:\n",
    "['Red', 'Green', 'Blue', 'White', 'Black']\n",
    "Reverse strings of the said given list:\n",
    "['deR', 'neerG', 'eulB', 'etihW', 'kcalB']"
   ]
  },
  {
   "cell_type": "code",
   "execution_count": 261,
   "id": "7ba8d612-b12b-4e26-91c7-75673db2c199",
   "metadata": {},
   "outputs": [
    {
     "data": {
      "text/plain": [
       "['deR', 'neerG', 'eulB', 'etihW', 'kcalB']"
      ]
     },
     "execution_count": 261,
     "metadata": {},
     "output_type": "execute_result"
    }
   ],
   "source": [
    "a=['Red', 'Green', 'Blue', 'White', 'Black']\n",
    "b=[]\n",
    "for i in a:\n",
    "    b.append(i[::-1])\n",
    "b"
   ]
  },
  {
   "cell_type": "code",
   "execution_count": null,
   "id": "d59be70e-cafa-4b6a-83d5-767cc3d31dd3",
   "metadata": {},
   "outputs": [],
   "source": [
    "24. Write a Python program to find the maximum and minimum product of pairs of tuples within a given list.\n",
    "The original list, tuple :\n",
    "[(2, 7), (2, 6), (1, 8), (4, 9)]\n",
    "Maximum and minimum product from the pairs of the said tuple of list:\n",
    "(36, 8)"
   ]
  },
  {
   "cell_type": "code",
   "execution_count": 262,
   "id": "2b197b71-cf34-4e63-b128-71f2aa12b65d",
   "metadata": {},
   "outputs": [
    {
     "name": "stdout",
     "output_type": "stream",
     "text": [
      "8 36\n"
     ]
    }
   ],
   "source": [
    "a=[(2, 7), (2, 6), (1, 8), (4, 9)]\n",
    "b=dict(a)\n",
    "c=[]\n",
    "for i,j in b.items():\n",
    "    c.append(i*j)\n",
    "c.sort()\n",
    "print(c[0],c[-1])"
   ]
  },
  {
   "cell_type": "code",
   "execution_count": null,
   "id": "1f8734d8-1562-4f2c-a95c-97385c23fe53",
   "metadata": {},
   "outputs": [],
   "source": [
    "125. Write a Python program to calculate the product of the unique numbers in a given list.\n",
    "Original List : [10, 20, 30, 40, 20, 50, 60, 40]\n",
    "Product of the unique numbers of the said list: 720000000"
   ]
  },
  {
   "cell_type": "code",
   "execution_count": 263,
   "id": "1d7c7d4e-9ffb-414c-a07a-1c71b3f46c0c",
   "metadata": {},
   "outputs": [
    {
     "data": {
      "text/plain": [
       "720000000"
      ]
     },
     "execution_count": 263,
     "metadata": {},
     "output_type": "execute_result"
    }
   ],
   "source": [
    "a=[10, 20, 30, 40, 20, 50, 60, 40]\n",
    "b=[]\n",
    "for i in a:\n",
    "    if i not in b:\n",
    "        b.append(i)\n",
    "count=1\n",
    "for i in b:\n",
    "    count*=i\n",
    "count"
   ]
  },
  {
   "cell_type": "code",
   "execution_count": null,
   "id": "0ea1e123-a647-461f-aa14-aadf3bf45e0d",
   "metadata": {},
   "outputs": [],
   "source": [
    "126. Write a Python program to interleave multiple lists of the same length.\n",
    "Original list:\n",
    "list1: [1, 2, 3, 4, 5, 6, 7]\n",
    "list2: [10, 20, 30, 40, 50, 60, 70]\n",
    "list3: [100, 200, 300, 400, 500, 600, 700]\n",
    "Interleave multiple lists:\n",
    "[1, 10, 100, 2, 20, 200, 3, 30, 300, 4, 40, 400, 5, 50, 500, 6, 60, 600, 7, 70, 700]"
   ]
  },
  {
   "cell_type": "code",
   "execution_count": 264,
   "id": "ce32418a-f73b-408e-947d-698dc911b05a",
   "metadata": {},
   "outputs": [
    {
     "data": {
      "text/plain": [
       "[1,\n",
       " 10,\n",
       " 100,\n",
       " 2,\n",
       " 20,\n",
       " 200,\n",
       " 3,\n",
       " 30,\n",
       " 300,\n",
       " 4,\n",
       " 40,\n",
       " 400,\n",
       " 5,\n",
       " 50,\n",
       " 500,\n",
       " 6,\n",
       " 60,\n",
       " 600,\n",
       " 7,\n",
       " 70,\n",
       " 700]"
      ]
     },
     "execution_count": 264,
     "metadata": {},
     "output_type": "execute_result"
    }
   ],
   "source": [
    "list1= [1, 2, 3, 4, 5, 6, 7]\n",
    "list2=[10, 20, 30, 40, 50, 60, 70]\n",
    "list3=[100, 200, 300, 400, 500, 600, 700]\n",
    "k1=[]\n",
    "for i,j,k in zip(list1,list2,list3):\n",
    "    k1.append(i)\n",
    "    k1.append(j)\n",
    "    k1.append(k)\n",
    "k1\n",
    "\n",
    "    "
   ]
  },
  {
   "cell_type": "code",
   "execution_count": null,
   "id": "e5d7f011-d0a8-4f84-92fb-2505614816f4",
   "metadata": {},
   "outputs": [],
   "source": [
    "127. Write a Python program to remove words from a given list of strings containing a character or string.\n",
    "Original list:\n",
    "list1: ['Red color', 'Orange#', 'Green', 'Orange @', 'White']\n",
    "Character list:\n",
    "['#', 'color', '@']\n",
    "New list:\n",
    "['Red', '', 'Green', 'Orange', 'White']"
   ]
  },
  {
   "cell_type": "code",
   "execution_count": 284,
   "id": "77d54a2c-fffd-4366-96b8-b5bee829f4af",
   "metadata": {},
   "outputs": [
    {
     "name": "stdout",
     "output_type": "stream",
     "text": [
      "Red color\n",
      "Orange#\n",
      "Green\n",
      "Orange @\n",
      "White\n",
      "Red color\n",
      "Orange#\n",
      "Green\n",
      "Orange @\n",
      "White\n",
      "Red color\n",
      "Orange#\n",
      "Green\n",
      "Orange @\n",
      "White\n"
     ]
    }
   ],
   "source": [
    "list1=['Red color', 'Orange#', 'Green', 'Orange @', 'White']\n",
    "c=[]\n",
    "b=['#', 'color', '@']\n",
    "f"
   ]
  },
  {
   "cell_type": "code",
   "execution_count": null,
   "id": "a6b98f8c-9afa-4d70-8cde-12ab5fc72b2c",
   "metadata": {},
   "outputs": [],
   "source": [
    "128. Write a Python program to calculate the sum of the numbers in a list between the indices of a specified range.\n",
    "Original list:\n",
    "[2, 1, 5, 6, 8, 3, 4, 9, 10, 11, 8, 12]\n",
    "Range: 8 , 10\n",
    "Sum of the specified range:\n",
    "29"
   ]
  },
  {
   "cell_type": "code",
   "execution_count": 286,
   "id": "f2f7f70e-e9cc-4670-a654-9ae11cd38be6",
   "metadata": {},
   "outputs": [
    {
     "data": {
      "text/plain": [
       "29"
      ]
     },
     "execution_count": 286,
     "metadata": {},
     "output_type": "execute_result"
    }
   ],
   "source": [
    "a=[2, 1, 5, 6, 8, 3, 4, 9, 10, 11, 8, 12]\n",
    "sum=0\n",
    "for i in range(8,11):\n",
    "    sum=sum+a[i]\n",
    "sum"
   ]
  },
  {
   "cell_type": "code",
   "execution_count": null,
   "id": "383739d6-8005-4f9f-bdfe-8f01048ff976",
   "metadata": {},
   "outputs": [],
   "source": [
    "129. Write a Python program to reverse each list in a given list of lists.\n",
    "Original list of lists:\n",
    "[[1, 2, 3, 4], [5, 6, 7, 8], [9, 10, 11, 12], [13, 14, 15, 16]]\n",
    "Reverse each list in the said list of lists:\n",
    "[[4, 3, 2, 1], [8, 7, 6, 5], [12, 11, 10, 9], [16, 15, 14, 13]]"
   ]
  },
  {
   "cell_type": "code",
   "execution_count": 287,
   "id": "f96286bd-4724-4e51-9c2f-6d814d522622",
   "metadata": {},
   "outputs": [
    {
     "data": {
      "text/plain": [
       "[[4, 3, 2, 1], [8, 7, 6, 5], [12, 11, 10, 9], [16, 15, 14, 13]]"
      ]
     },
     "execution_count": 287,
     "metadata": {},
     "output_type": "execute_result"
    }
   ],
   "source": [
    "a=[[1, 2, 3, 4], [5, 6, 7, 8], [9, 10, 11, 12], [13, 14, 15, 16]]\n",
    "b=[]\n",
    "for i in a:\n",
    "    b.append(i[::-1])\n",
    "b"
   ]
  },
  {
   "cell_type": "code",
   "execution_count": null,
   "id": "643aed71-f183-4186-87b7-0c59a8432f00",
   "metadata": {},
   "outputs": [],
   "source": [
    "130.Write a Python program to count the same pair in three given lists."
   ]
  },
  {
   "cell_type": "code",
   "execution_count": 1,
   "id": "a09adf0c-6aa9-4cf3-9763-247ef4a2f452",
   "metadata": {},
   "outputs": [
    {
     "data": {
      "text/plain": [
       "3"
      ]
     },
     "execution_count": 1,
     "metadata": {},
     "output_type": "execute_result"
    }
   ],
   "source": [
    "nums1 = [1, 2, 3, 4, 5, 6, 7, 8]\n",
    "nums2 = [2, 2, 3, 1, 2, 6, 7, 9]\n",
    "nums3 = [2, 1, 3, 1, 2, 6, 7, 9]\n",
    "count=0\n",
    "for i,j,k in zip(nums1,nums2,nums3):\n",
    "    if i==j==k:\n",
    "        count+=1\n",
    "count"
   ]
  },
  {
   "cell_type": "code",
   "execution_count": 12,
   "id": "6b7a64c3-3264-4286-a027-05a0bb7d99a5",
   "metadata": {},
   "outputs": [
    {
     "ename": "SyntaxError",
     "evalue": "invalid syntax (3290452621.py, line 1)",
     "output_type": "error",
     "traceback": [
      "\u001b[1;36m  Cell \u001b[1;32mIn[12], line 1\u001b[1;36m\u001b[0m\n\u001b[1;33m    131. Write a Python program to count the frequency of consecutive duplicate elements in a given list of numbers.\u001b[0m\n\u001b[1;37m         ^\u001b[0m\n\u001b[1;31mSyntaxError\u001b[0m\u001b[1;31m:\u001b[0m invalid syntax\n"
     ]
    }
   ],
   "source": [
    "131. Write a Python program to count the frequency of consecutive duplicate elements in a given list of numbers.\n",
    "Original lists:\n",
    "[1, 2, 2, 2, 4, 4, 4, 5, 5, 5, 5]\n",
    "Consecutive duplicate elements and their frequency:\n",
    "([1, 2, 4, 5], [1, 3, 3, 4])"
   ]
  },
  {
   "cell_type": "code",
   "execution_count": 19,
   "id": "05aca0d6-e7de-4643-8cd5-ead031ee5fc5",
   "metadata": {},
   "outputs": [
    {
     "name": "stdout",
     "output_type": "stream",
     "text": [
      "[1, 2, 4, 3, 2, 3, 4, 5, 4, 5] [1, 3, 2, 1, 1, 1, 1, 1, 1, 4]\n"
     ]
    }
   ],
   "source": [
    "a=[1, 2, 2, 2, 4, 4,3 ,2,3, 4 ,5, 4, 5, 5, 5, 5]\n",
    "b=[]\n",
    "d=[]\n",
    "count=1\n",
    "for i in range(len(a)-1):\n",
    "    if a[i]==a[i+1]:\n",
    "        count+=1\n",
    "    else:\n",
    "        d.append(count)\n",
    "        count=1\n",
    "        b.append(a[i])\n",
    "b.append(a[i+1])\n",
    "d.append(count)\n",
    "print(b,d)\n",
    "    "
   ]
  },
  {
   "cell_type": "code",
   "execution_count": null,
   "id": "a7b8e220-1913-4610-9bc0-710cfb88c5dd",
   "metadata": {},
   "outputs": [],
   "source": [
    "32. Write a Python program to find all index positions of the maximum and minimum values in a given list of numbers.\n",
    "Original list:\n",
    "[12, 33, 23, 10, 67, 89, 45, 667, 23, 12, 11, 10, 54]\n",
    "Index positions of the maximum value of the said list:\n",
    "7\n",
    "Index positions of the minimum value of the said list:\n",
    "3, 11"
   ]
  },
  {
   "cell_type": "code",
   "execution_count": 24,
   "id": "3707c795-aac7-4ade-80e1-7357b49c8bf3",
   "metadata": {},
   "outputs": [
    {
     "name": "stdout",
     "output_type": "stream",
     "text": [
      "7  \n",
      "3 11 "
     ]
    }
   ],
   "source": [
    "a=[12, 33, 23, 10, 67, 89, 45, 667, 23, 12, 11, 10, 54]\n",
    "max=a[0]\n",
    "k=0\n",
    "for i in range(len(a)):\n",
    "    if a[i]>max:\n",
    "        max=a[i]\n",
    "        k=i\n",
    "c=[]\n",
    "c.append(k)\n",
    "for i in range(len(a)):\n",
    "    if max==a[i] and i!=k:\n",
    "        c.append(i)\n",
    "for i in c:\n",
    "    print(i,end=\" \")\n",
    "    print(\" \")\n",
    "min=a[0]\n",
    "k=0\n",
    "for i in range(len(a)):\n",
    "    if a[i]<max:\n",
    "        max=a[i]\n",
    "        k=i\n",
    "c=[]\n",
    "c.append(k)\n",
    "for i in range(len(a)):\n",
    "    if max==a[i] and i!=k:\n",
    "        c.append(i)\n",
    "for i in c:\n",
    "    print(i,end=\" \")"
   ]
  },
  {
   "cell_type": "code",
   "execution_count": null,
   "id": "603a5bfc-1a58-4ad6-add0-ccf130d7be2a",
   "metadata": {},
   "outputs": [],
   "source": [
    "33. Write a Python program to check if two lists have the same elements in them in same order or not.\n",
    "Original lists:\n",
    "['red', 'green', 'black', 'orange']\n",
    "['red', 'pink', 'green', 'white', 'black']\n",
    "['white', 'orange', 'pink', 'black']\n",
    "Test common elements between color1 and color2 are in same order?\n",
    "True\n",
    "Test common elements between color1 and color3 are in same order?\n",
    "False\n",
    "Test common elements between color2 and color3 are in same order?\n",
    "False"
   ]
  },
  {
   "cell_type": "code",
   "execution_count": 27,
   "id": "98e2ca98-3d42-4e9c-a928-58b5ad7fe18d",
   "metadata": {},
   "outputs": [
    {
     "data": {
      "text/plain": [
       "False"
      ]
     },
     "execution_count": 27,
     "metadata": {},
     "output_type": "execute_result"
    }
   ],
   "source": [
    "a=['red', 'green', 'black', 'orange']\n",
    "b=['red', 'pink', 'green', 'white', 'black']\n",
    "c=['white', 'orange', 'pink', 'black']\n",
    "def test(c1,c2):\n",
    "    count=0\n",
    "    for i,j in zip(c1,c2):\n",
    "        if i==j:\n",
    "            count+=1\n",
    "    if count>=1:\n",
    "        return True\n",
    "    else:\n",
    "        return False\n",
    "test(b,c)"
   ]
  },
  {
   "cell_type": "code",
   "execution_count": null,
   "id": "d037c7f2-600d-4478-aab8-29ea75612c83",
   "metadata": {},
   "outputs": [],
   "source": [
    "134. Write a Python program to find the difference between two lists including duplicate elements.\n",
    "Original lists:\n",
    "[1, 1, 2, 3, 3, 4, 4, 5, 6, 7]\n",
    "[1, 1, 2, 4, 5, 6]\n",
    "Difference between two said list including duplicate elements):\n",
    "[3, 3, 4, 7]"
   ]
  },
  {
   "cell_type": "code",
   "execution_count": 28,
   "id": "d812ef00-9748-4945-b587-92ccfb9a6eb4",
   "metadata": {},
   "outputs": [
    {
     "data": {
      "text/plain": [
       "[3, 3, 4, 7]"
      ]
     },
     "execution_count": 28,
     "metadata": {},
     "output_type": "execute_result"
    }
   ],
   "source": [
    "a=[1, 1, 2, 3, 3, 4, 4, 5, 6, 7]\n",
    "b=[1, 1, 2, 4, 5, 6]\n",
    "c=[]\n",
    "for i in range(len(b)):\n",
    "    a.remove(b[i])\n",
    "a\n"
   ]
  },
  {
   "cell_type": "code",
   "execution_count": 36,
   "id": "ed6d222c-7b72-49fe-9771-52f9396202dd",
   "metadata": {},
   "outputs": [
    {
     "data": {
      "text/plain": [
       "[3, 3, 4, 7]"
      ]
     },
     "execution_count": 36,
     "metadata": {},
     "output_type": "execute_result"
    }
   ],
   "source": [
    "a=[1, 1, 2, 3, 3, 4, 4, 5, 6, 7]\n",
    "b=[1, 1, 2, 4, 5, 6]\n",
    "c=[]\n",
    "d=[]\n",
    "for i in a:\n",
    "    c+=[0]\n",
    "for i in range(len(b)):\n",
    "    for j in range(len(a)):\n",
    "        if b[i]==a[j] and c[j]!=-1:\n",
    "            c[j]=-1\n",
    "            break\n",
    "\n",
    "for i in range(len(a)):\n",
    "    if c[i]!=-1:\n",
    "        d.append(a[i])\n",
    "d"
   ]
  },
  {
   "cell_type": "code",
   "execution_count": null,
   "id": "6b3eabef-965a-46de-a76e-ea1bad37bf39",
   "metadata": {},
   "outputs": [],
   "source": [
    "135. Write a Python program to iterate over all pairs of consecutive items in a given list.\n",
    "Original lists:\n",
    "[1, 1, 2, 3, 3, 4, 4, 5]\n",
    "Iterate over all pairs of consecutive items of the said list:\n",
    "[(1, 1), (1, 2), (2, 3), (3, 3), (3, 4), (4, 4), (4, 5)]"
   ]
  },
  {
   "cell_type": "code",
   "execution_count": 37,
   "id": "30b63fd7-99ba-4d68-ab53-3a3cb4be3aaf",
   "metadata": {},
   "outputs": [
    {
     "data": {
      "text/plain": [
       "[(1, 1), (1, 2), (2, 3), (3, 3), (3, 4), (4, 4), (4, 5)]"
      ]
     },
     "execution_count": 37,
     "metadata": {},
     "output_type": "execute_result"
    }
   ],
   "source": [
    "a=[1, 1, 2, 3, 3, 4, 4, 5]\n",
    "b=[]\n",
    "for i in range(len(a)-1):\n",
    "    b.append((a[i],a[i+1]))\n",
    "b"
   ]
  },
  {
   "cell_type": "code",
   "execution_count": null,
   "id": "64338425-148f-449b-a59a-e2d3dbaad9f9",
   "metadata": {},
   "outputs": [],
   "source": [
    "136. Write a Python program to remove duplicate words from a given list of strings.\n",
    "Original String:\n",
    "['Python', 'Exercises', 'Practice', 'Solution', 'Exercises']\n",
    "After removing duplicate words from the said list of strings:\n",
    "['Python', 'Exercises', 'Practice', 'Solution']"
   ]
  },
  {
   "cell_type": "code",
   "execution_count": 38,
   "id": "40613d6d-cfe0-4a4a-a179-4f0f1d33ddc8",
   "metadata": {},
   "outputs": [
    {
     "data": {
      "text/plain": [
       "['Python', 'Exercises', 'Practice', 'Solution']"
      ]
     },
     "execution_count": 38,
     "metadata": {},
     "output_type": "execute_result"
    }
   ],
   "source": [
    "a=['Python', 'Exercises', 'Practice', 'Solution', 'Exercises']\n",
    "b=[]\n",
    "for i in a:\n",
    "    if i not in b:\n",
    "        b+=[i]\n",
    "b"
   ]
  },
  {
   "cell_type": "code",
   "execution_count": null,
   "id": "2a39d9a0-2e55-42f1-88f1-172749fd1e5c",
   "metadata": {},
   "outputs": [],
   "source": [
    "137. Write a Python program to find the first even and odd number in a given list of numbers.\n",
    "Original list:\n",
    "[1, 3, 5, 7, 4, 1, 6, 8]\n",
    "First even and odd number of the said list of numbers:\n",
    "(4, 1)"
   ]
  },
  {
   "cell_type": "code",
   "execution_count": 41,
   "id": "1d51c052-a4f1-49ad-a86d-ae3ef255bc00",
   "metadata": {},
   "outputs": [
    {
     "data": {
      "text/plain": [
       "(4, 1)"
      ]
     },
     "execution_count": 41,
     "metadata": {},
     "output_type": "execute_result"
    }
   ],
   "source": [
    "a=[1, 3, 5, 7, 4, 1, 6, 8]\n",
    "b=0\n",
    "c=0\n",
    "for i in a:\n",
    "    if i%2==0:\n",
    "        b=i\n",
    "        break\n",
    "for i in a:\n",
    "    if i%2==1:\n",
    "        c=i\n",
    "        break\n",
    "b,c\n",
    "    "
   ]
  },
  {
   "cell_type": "code",
   "execution_count": null,
   "id": "cd3665bd-0a9b-4929-ae4d-d05efe1d480c",
   "metadata": {},
   "outputs": [],
   "source": [
    "138. Write a Python program to sort a given mixed list of integers and strings. Numbers must be sorted before strings.\n",
    "Original list:\n",
    "[19, 'red', 12, 'green', 'blue', 10, 'white', 'green', 1]\n",
    "Sort the said mixed list of integers and strings:\n",
    "[1, 10, 12, 19, 'blue', 'green', 'green', 'red', 'white']"
   ]
  },
  {
   "cell_type": "code",
   "execution_count": 49,
   "id": "26800da4-6b80-42bd-960a-0c444376e858",
   "metadata": {},
   "outputs": [
    {
     "data": {
      "text/plain": [
       "[1, 10, 12, 19, 'blue', 'green', 'green', 'red', 'white']"
      ]
     },
     "execution_count": 49,
     "metadata": {},
     "output_type": "execute_result"
    }
   ],
   "source": [
    "a=[19, 'red', 12, 'green', 'blue', 10, 'white', 'green', 1]\n",
    "b=[]\n",
    "c=[]\n",
    "for i in a:\n",
    "    try:\n",
    "        if i.isdigit():\n",
    "            pass \n",
    "    except:\n",
    "        b.append(i)\n",
    "b.sort()\n",
    "for i in a:\n",
    "    if  i not in b:\n",
    "        c.append(i)\n",
    "c.sort()\n",
    "b+c\n",
    "        \n"
   ]
  },
  {
   "cell_type": "code",
   "execution_count": 57,
   "id": "713bcd2d-36de-4209-bdd0-1785f9e499da",
   "metadata": {},
   "outputs": [
    {
     "name": "stdout",
     "output_type": "stream",
     "text": [
      "[1, 10, 12, 19]\n",
      "['blue', 'green', 'green', 'red', 'white']\n"
     ]
    },
    {
     "data": {
      "text/plain": [
       "[19, 12, 10, 1, 'red', 'green', 'blue', 'white', 'green']"
      ]
     },
     "execution_count": 57,
     "metadata": {},
     "output_type": "execute_result"
    }
   ],
   "source": [
    "a=[19, 'red', 12, 'green', 'blue', 10, 'white', 'green', 1]\n",
    "k=[]\n",
    "l=[]\n",
    "for i in a:\n",
    "    if type(i) is int:\n",
    "        k.append(i)\n",
    "    else:\n",
    "        l.append(i)\n",
    "print(sorted(k))\n",
    "print(sorted(l))\n",
    "k+l\n",
    "        "
   ]
  },
  {
   "cell_type": "code",
   "execution_count": null,
   "id": "b3287980-4ebb-4bbe-8366-128f3c9c4e43",
   "metadata": {},
   "outputs": [],
   "source": [
    "139. Write a Python program to sort a given list of strings(numbers) numerically.\n",
    "Original list:\n",
    "['4', '12', '45', '7', '0', '100', '200', '-12', '-500']\n",
    "Sort the said list of strings(numbers) numerically:\n",
    "[-500, -12, 0, 4, 7, 12, 45, 100, 200]"
   ]
  },
  {
   "cell_type": "code",
   "execution_count": 61,
   "id": "ac36bff5-b17f-4b94-b156-1172fd6e334d",
   "metadata": {},
   "outputs": [
    {
     "data": {
      "text/plain": [
       "[-500, -12, 0, 4, 7, 12, 45, 100, 200]"
      ]
     },
     "execution_count": 61,
     "metadata": {},
     "output_type": "execute_result"
    }
   ],
   "source": [
    "a=['4', '12', '45', '7', '0', '100', '200', '-12', '-500']\n",
    "b=[]\n",
    "for i in a:\n",
    "    b+=[int(i)]\n",
    "b.sort()\n",
    "b"
   ]
  },
  {
   "cell_type": "code",
   "execution_count": null,
   "id": "1630039b-6b7a-4aaf-81fc-294726d8d928",
   "metadata": {},
   "outputs": [],
   "source": [
    "140. Write a Python program to remove a specific item from a given list of lists.\n",
    "Original list of lists:\n",
    "[['Red', 'Maroon', 'Yellow', 'Olive'], ['#FF0000', '#800000', '#FFFF00', '#808000'], ['rgb(255,0,0)', 'rgb(128,0,0)', 'rgb(255,255,0)', 'rgb(128,128,0)']]\n",
    "Remove 1st list from the saod given list of lists:\n",
    "[['Maroon', 'Yellow', 'Olive'], ['#800000', '#FFFF00', '#808000'], ['rgb(128,0,0)', 'rgb(255,255,0)', 'rgb(128,128,0)']]\n",
    "Remove 2nd list from the saod given list of lists:\n",
    "[['Red', 'Yellow', 'Olive'], ['#FF0000', '#FFFF00', '#808000'], ['rgb(255,0,0)', 'rgb(255,255,0)', 'rgb(128,128,0)']]\n",
    "Remove 4th list from the saod given list of lists:\n",
    "[['Red', 'Maroon', 'Yellow'], ['#FF0000', '#800000', '#FFFF00'], ['rgb(255,0,0)', 'rgb(128,0,0)', 'rgb(255,255,0)']]"
   ]
  },
  {
   "cell_type": "code",
   "execution_count": 70,
   "id": "7e79b418-2f3b-410a-9dbf-f9c6e5f05971",
   "metadata": {},
   "outputs": [
    {
     "name": "stdin",
     "output_type": "stream",
     "text": [
      " 1\n"
     ]
    },
    {
     "data": {
      "text/plain": [
       "[['Maroon', 'Yellow', 'Olive'],\n",
       " ['#800000', '#FFFF00', '#808000'],\n",
       " ['rgb(128,0,0)', 'rgb(255,255,0)', 'rgb(128,128,0)']]"
      ]
     },
     "execution_count": 70,
     "metadata": {},
     "output_type": "execute_result"
    }
   ],
   "source": [
    "a=int(input())\n",
    "b=[['Red', 'Maroon', 'Yellow', 'Olive'], ['#FF0000', '#800000', '#FFFF00', '#808000'], ['rgb(255,0,0)', 'rgb(128,0,0)', 'rgb(255,255,0)', 'rgb(128,128,0)']]\n",
    "c=[]\n",
    "d=[]\n",
    "k=0\n",
    "for i in  b:\n",
    "    k=len(i)\n",
    "\n",
    "l=len(b)\n",
    "for i in range(l):\n",
    "    for j in range(k):\n",
    "        c.append(b[i][a-1])\n",
    "        break\n",
    "c\n",
    "x=[]\n",
    "for i in range(l):\n",
    "    z=[]\n",
    "    for j in range(k):\n",
    "        if b[i][j]!=c[i]:\n",
    "            z.append(b[i][j])\n",
    "    x.append(z)\n",
    "           \n",
    "x\n",
    "        "
   ]
  },
  {
   "cell_type": "code",
   "execution_count": null,
   "id": "ca04d0c3-5c2c-41ef-901f-c81de9ab2ff8",
   "metadata": {},
   "outputs": [],
   "source": [
    "41. Write a Python program to remove empty lists from a given list of lists.\n",
    "Original list:\n",
    "[[], [], [], 'Red', 'Green', [1, 2], 'Blue', [], []]\n",
    "After deleting the empty lists from the said lists of lists\n",
    "['Red', 'Green', [1, 2], 'Blue']"
   ]
  },
  {
   "cell_type": "code",
   "execution_count": 73,
   "id": "036d9936-dd66-465a-8ab2-0abb7b0fe6f0",
   "metadata": {},
   "outputs": [
    {
     "data": {
      "text/plain": [
       "['Red', 'Green', [1, 2], 'Blue']"
      ]
     },
     "execution_count": 73,
     "metadata": {},
     "output_type": "execute_result"
    }
   ],
   "source": [
    "a=[[], [], [], 'Red', 'Green', [1, 2], 'Blue', [], []]\n",
    "b=[]\n",
    "for i in a:\n",
    "    if len(i)>=1:\n",
    "        b.append(i)\n",
    "b"
   ]
  },
  {
   "cell_type": "code",
   "execution_count": null,
   "id": "d25c05ef-1209-43d6-93c1-4bf8f6a10e44",
   "metadata": {},
   "outputs": [],
   "source": [
    "42. Write a Python program to sum a specific column of a list in a given list of lists.\n",
    "Original list of lists:\n",
    "[[1, 2, 3, 2], [4, 5, 6, 2], [7, 8, 9, 5]]\n",
    "Sum: 1st column of the said list of lists:\n",
    "12\n",
    "Sum: 2nd column of the said list of lists:\n",
    "15\n",
    "Sum: 4th column of the said list of lists:\n",
    "9"
   ]
  },
  {
   "cell_type": "code",
   "execution_count": 76,
   "id": "41377b0d-c7ca-4f13-b42f-0166fcdff2ef",
   "metadata": {},
   "outputs": [
    {
     "name": "stdout",
     "output_type": "stream",
     "text": [
      "12\n",
      "15\n",
      "18\n"
     ]
    }
   ],
   "source": [
    "a=[[1, 2, 3, 2], [4, 5, 6, 2], [7, 8, 9, 5]]\n",
    "b=len(a)\n",
    "k=0\n",
    "for i in a:\n",
    "    k=len(i)\n",
    "\n",
    "for i in range(b):\n",
    "    sum=0\n",
    "    for j in range(k-1):\n",
    "        sum=sum+a[j][i]\n",
    "    print(sum)\n",
    "        "
   ]
  },
  {
   "cell_type": "code",
   "execution_count": null,
   "id": "26c0eeb7-f121-43a5-8c19-f0374e1f50b9",
   "metadata": {},
   "outputs": [],
   "source": []
  },
  {
   "cell_type": "code",
   "execution_count": null,
   "id": "7c3d442f-5832-4117-8abb-5e3ef9c60c28",
   "metadata": {},
   "outputs": [],
   "source": []
  },
  {
   "cell_type": "code",
   "execution_count": null,
   "id": "9b43809d-083e-47ae-85a9-515e6df9bc11",
   "metadata": {},
   "outputs": [],
   "source": []
  },
  {
   "cell_type": "code",
   "execution_count": null,
   "id": "b8b8ea73-2911-47fd-a1e6-3af293732ab8",
   "metadata": {},
   "outputs": [],
   "source": [
    "145. Write a Python program to generate a number in a specified range except for some specific numbers.\n",
    "Generate a number in a specified range (1, 10) except [2, 9, 10]\n",
    "7\n",
    "Generate a number in a specified range (-5, 5) except [-5,0,4,3,2]\n",
    "-4"
   ]
  },
  {
   "cell_type": "code",
   "execution_count": null,
   "id": "d06ad850-20bb-4d1a-9d30-0cb7cb1bc1d9",
   "metadata": {},
   "outputs": [],
   "source": [
    "from random import choice\n",
    "a=1\n",
    "b=10\n",
    "c=[2,9,10]\n",
    "d=[]\n",
    "for i in range(a,b+1):\n",
    "    if i not in c:\n",
    "        d.append(i)\n",
    "b=choice(d)\n",
    "b"
   ]
  },
  {
   "cell_type": "code",
   "execution_count": null,
   "id": "3e3fe02f-8d49-4fca-b152-08e7cbdebe4f",
   "metadata": {},
   "outputs": [],
   "source": [
    "46. Write a Python program to compute the sum of digits of each number in a given list.\n",
    "Original tuple:\n",
    "[10, 2, 56]\n",
    "Sum of digits of each number of the said list of integers:\n",
    "14\n",
    "Original tuple:\n",
    "[10, 20, 4, 5, 'b', 70, 'a']\n",
    "Sum of digits of each number of the said list of integers:\n",
    "19\n",
    "Original tuple:\n",
    "[10, 20, -4, 5, -70]\n",
    "Sum of digits of each number of the said list of integers:\n",
    "19"
   ]
  },
  {
   "cell_type": "code",
   "execution_count": 90,
   "id": "e1459ecb-a833-4486-9384-9b298d6d96e4",
   "metadata": {},
   "outputs": [
    {
     "data": {
      "text/plain": [
       "19"
      ]
     },
     "execution_count": 90,
     "metadata": {},
     "output_type": "execute_result"
    }
   ],
   "source": [
    "a=[10, 20, -4, 5, -70]\n",
    "b=[]\n",
    "for i in a:\n",
    "    if type(i) is int:\n",
    "        b.append(i)\n",
    "count=0\n",
    "for i in b:\n",
    "    i=abs(i)\n",
    "    while i>0:\n",
    "        x=i%10\n",
    "        count=count+x\n",
    "        i=i//10\n",
    "count"
   ]
  },
  {
   "cell_type": "code",
   "execution_count": 87,
   "id": "2109320b-7568-44ac-8100-cc74cfd84fab",
   "metadata": {},
   "outputs": [
    {
     "data": {
      "text/plain": [
       "2"
      ]
     },
     "execution_count": 87,
     "metadata": {},
     "output_type": "execute_result"
    }
   ],
   "source": [
    "147"
   ]
  },
  {
   "cell_type": "code",
   "execution_count": null,
   "id": "1f6ae288-e079-480c-8b94-c8334ce51f40",
   "metadata": {},
   "outputs": [],
   "source": [
    "147. Write a Python program to combine two lists into another list randomly.\n",
    "Original lists:\n",
    "[1, 2, 7, 8, 3, 7]\n",
    "[4, 3, 8, 9, 4, 3, 8, 9]\n",
    "Interleave two given list into another list randomly:\n",
    "[4, 1, 2, 3, 8, 9, 4, 3, 7, 8, 9, 8, 3, 7]"
   ]
  },
  {
   "cell_type": "code",
   "execution_count": 92,
   "id": "a5795082-1115-46ce-97fb-c11e4f545fe9",
   "metadata": {},
   "outputs": [
    {
     "data": {
      "text/plain": [
       "[9, 3, 1, 2, 8, 7, 8, 9, 3, 8, 4, 4, 7, 3]"
      ]
     },
     "execution_count": 92,
     "metadata": {},
     "output_type": "execute_result"
    }
   ],
   "source": [
    "import random\n",
    "a=[1, 2, 7, 8, 3, 7]\n",
    "b=[4, 3, 8, 9, 4, 3, 8, 9]\n",
    "k=len(b)\n",
    "for i in range(len(b)):\n",
    "    y=random.randint(0,k)\n",
    "    a.insert(y,b[i])\n",
    "a\n",
    "    "
   ]
  },
  {
   "cell_type": "code",
   "execution_count": null,
   "id": "0fdcc47d-c132-46b3-9f77-201d1cd43ff2",
   "metadata": {},
   "outputs": [],
   "source": [
    "148. Write a Python program to remove specific words from a given list.\n",
    "Original list:\n",
    "['red', 'green', 'blue', 'white', 'black', 'orange']\n",
    "Remove words:\n",
    "['white', 'orange']\n",
    "After removing the specified words from the said list:\n",
    "['red', 'green', 'blue', 'black']"
   ]
  },
  {
   "cell_type": "code",
   "execution_count": 93,
   "id": "1ff236e3-ee91-46db-b88c-68af9a6c16b2",
   "metadata": {},
   "outputs": [
    {
     "data": {
      "text/plain": [
       "['red', 'green', 'blue', 'black']"
      ]
     },
     "execution_count": 93,
     "metadata": {},
     "output_type": "execute_result"
    }
   ],
   "source": [
    "a=['red', 'green', 'blue', 'white', 'black', 'orange']\n",
    "b=['white', 'orange']\n",
    "for i in b:\n",
    "    a.remove(i)\n",
    "a"
   ]
  },
  {
   "cell_type": "code",
   "execution_count": 101,
   "id": "6c596c83-204d-45eb-aebf-919f6d2b6beb",
   "metadata": {},
   "outputs": [
    {
     "name": "stdout",
     "output_type": "stream",
     "text": [
      "[]\n",
      "['orange']\n",
      "['red']\n",
      "['green']\n",
      "['blue']\n",
      "['orange', 'red']\n",
      "['orange', 'green']\n",
      "['orange', 'blue']\n",
      "['red', 'green']\n",
      "['red', 'blue']\n",
      "['green', 'blue']\n",
      "['orange', 'red', 'green']\n",
      "['orange', 'red', 'blue']\n",
      "['orange', 'green', 'blue']\n",
      "['red', 'green', 'blue']\n",
      "['orange', 'red', 'green', 'blue']\n"
     ]
    }
   ],
   "source": [
    "from itertools import combinations\n",
    "a=['orange', 'red', 'green', 'blue']\n",
    "for i in range(len(a)+1):\n",
    "    k=combinations(a,i)\n",
    "    for i in k:\n",
    "        print(list(i))"
   ]
  },
  {
   "cell_type": "code",
   "execution_count": null,
   "id": "ef0e1757-4090-4af8-a833-76a569e900a3",
   "metadata": {},
   "outputs": [],
   "source": [
    "150. Write a Python program to reverse a given list of lists.\n",
    "Original list:\n",
    "[['orange', 'red'], ['green', 'blue'], ['white', 'black', 'pink']]\n",
    "Reverse said list of lists:\n",
    "[['white', 'black', 'pink'], ['green', 'blue'], ['orange', 'red']]\n",
    "Original list:\n",
    "[[1, 2, 3, 4], [0, 2, 4, 5], [2, 3, 4, 2, 4]]\n",
    "Reverse said list of lists:\n",
    "[[2, 3, 4, 2, 4], [0, 2, 4, 5], [1, 2, 3, 4]]"
   ]
  },
  {
   "cell_type": "code",
   "execution_count": 104,
   "id": "04984112-8c61-4fc4-af0a-04ca117b3c9a",
   "metadata": {},
   "outputs": [
    {
     "data": {
      "text/plain": [
       "[[2, 3, 4, 2, 4], [0, 2, 4, 5], [1, 2, 3, 4]]"
      ]
     },
     "execution_count": 104,
     "metadata": {},
     "output_type": "execute_result"
    }
   ],
   "source": [
    "a=[[1, 2, 3, 4], [0, 2, 4, 5], [2, 3, 4, 2, 4]]\n",
    "b=[]\n",
    "for i in range(len(a)):\n",
    "    b.append(a[len(a)-i-1])\n",
    "b"
   ]
  },
  {
   "cell_type": "code",
   "execution_count": null,
   "id": "27ec1ba6-8e14-4604-be9c-5b5cf2a8a738",
   "metadata": {},
   "outputs": [],
   "source": [
    "151. Write a Python program to find the maximum and minimum values in a given list within a specified index range.\n",
    "Original list:\n",
    "[4, 3, 0, 5, 3, 0, 2, 3, 4, 2, 4, 3, 5]\n",
    "Index range:\n",
    "3 to 8\n",
    "Maximum and minimum values of the said given list within index range:\n",
    "(5, 0)"
   ]
  },
  {
   "cell_type": "code",
   "execution_count": 107,
   "id": "021e13dc-b5fe-4621-a377-41e46ac62e77",
   "metadata": {},
   "outputs": [
    {
     "data": {
      "text/plain": [
       "(0, 5)"
      ]
     },
     "execution_count": 107,
     "metadata": {},
     "output_type": "execute_result"
    }
   ],
   "source": [
    "a=[4, 3, 0, 5, 3, 0, 2, 3, 4, 2, 4, 3, 5]\n",
    "b=3\n",
    "c=8\n",
    "max=a[b]\n",
    "min=a[b]\n",
    "for i in range(b,c+1):\n",
    "    if a[i]>max:\n",
    "        max=a[i]\n",
    "for i in range(b,c+1):\n",
    "    if a[i]<min:\n",
    "        min=a[i]\n",
    "min,max"
   ]
  },
  {
   "cell_type": "code",
   "execution_count": null,
   "id": "a07c637a-353c-4642-8a7c-c9f8f0026370",
   "metadata": {},
   "outputs": [],
   "source": [
    "52. Write a Python program to combine two sorted lists using the heapq module.\n",
    "Original sorted lists:\n",
    "[1, 3, 5, 7, 9, 11]\n",
    "[0, 2, 4, 6, 8, 10]\n",
    "After merging the said two sorted lists:\n",
    "[0, 1, 2, 3, 4, 5, 6, 7, 8, 9, 10, 11]"
   ]
  },
  {
   "cell_type": "code",
   "execution_count": 108,
   "id": "4b72f406-bc23-434f-98fe-27cf636ee523",
   "metadata": {},
   "outputs": [
    {
     "name": "stdout",
     "output_type": "stream",
     "text": [
      "[0, 1, 2, 3, 4, 5, 6, 7, 8, 9, 10, 11]\n"
     ]
    }
   ],
   "source": [
    "a=[1, 3, 5, 7, 9, 11]\n",
    "b=[0, 2, 4, 6, 8, 10]\n",
    "c=a+b\n",
    "c.sort()\n",
    "print(c)"
   ]
  },
  {
   "cell_type": "code",
   "execution_count": 111,
   "id": "5e7dc5c1-3cba-4c3a-b212-d97958be4f54",
   "metadata": {},
   "outputs": [
    {
     "data": {
      "text/plain": [
       "[0, 1, 2, 3, 4, 5, 6, 7, 8, 9, 10, 11]"
      ]
     },
     "execution_count": 111,
     "metadata": {},
     "output_type": "execute_result"
    }
   ],
   "source": [
    "a=[1, 3, 5, 7, 9, 11]\n",
    "b=[0, 2, 4, 6, 8, 10]\n",
    "c=a+b\n",
    "for i in range(len(c)):\n",
    "    for j in range(i+1,len(c)):\n",
    "        if c[i]>c[j]:\n",
    "            temp=c[i]\n",
    "            c[i]=c[j]\n",
    "            c[j]=temp\n",
    "c"
   ]
  },
  {
   "cell_type": "code",
   "execution_count": null,
   "id": "960d5ede-2f4d-408f-8475-316db6bbc220",
   "metadata": {},
   "outputs": [],
   "source": [
    "153. Write a Python program to check if a given element occurs at least n times in a list.\n",
    "Original list:\n",
    "[0, 1, 3, 5, 0, 3, 4, 5, 0, 8, 0, 3, 6, 0, 3, 1, 1, 0]\n",
    "Check if 3 occurs at least 4 times in a list:\n",
    "True\n",
    "Check if 0 occurs at least 5 times in a list:\n",
    "True\n",
    "Check if 8 occurs at least 3 times in a list:\n",
    "False"
   ]
  },
  {
   "cell_type": "code",
   "execution_count": 116,
   "id": "acc2010c-f07d-4446-ad41-39086c53712d",
   "metadata": {},
   "outputs": [
    {
     "name": "stdout",
     "output_type": "stream",
     "text": [
      "False\n"
     ]
    }
   ],
   "source": [
    "a=[0, 1, 3, 5, 0, 3, 4, 5, 0, 8, 0, 3, 6, 0, 3, 1, 1, 0]\n",
    "b=8\n",
    "c=3\n",
    "c1=a.count(b)\n",
    "if c1==c:\n",
    "    print(\"True\")\n",
    "else:\n",
    "    print(\"False\")"
   ]
  },
  {
   "cell_type": "code",
   "execution_count": null,
   "id": "b653aefe-9e3b-4143-95b6-39e7e3e12780",
   "metadata": {},
   "outputs": [],
   "source": [
    "154. Write a Python program to join two given list of lists of the same length, element wise.\n",
    "Original lists:\n",
    "[[10, 20], [30, 40], [50, 60], [30, 20, 80]]\n",
    "[[61], [12, 14, 15], [12, 13, 19, 20], [12]]\n",
    "Join the said two lists element wise:\n",
    "[[10, 20, 61], [30, 40, 12, 14, 15], [50, 60, 12, 13, 19, 20], [30, 20, 80, 12]]\n",
    "Original lists:\n",
    "[['a', 'b'], ['b', 'c', 'd'], ['e', 'f']]\n",
    "[['p', 'q'], ['p', 's', 't'], ['u', 'v', 'w']]\n",
    "Join the said two lists element wise:\n",
    "[['a', 'b', 'p', 'q'], ['b', 'c', 'd', 'p', 's', 't'], ['e', 'f', 'u', 'v', 'w']]"
   ]
  },
  {
   "cell_type": "code",
   "execution_count": 117,
   "id": "8fa813f4-39cf-4a65-ba40-f7973a81635c",
   "metadata": {},
   "outputs": [
    {
     "data": {
      "text/plain": [
       "[['a', 'b', 'p', 'q'],\n",
       " ['b', 'c', 'd', 'p', 's', 't'],\n",
       " ['e', 'f', 'u', 'v', 'w']]"
      ]
     },
     "execution_count": 117,
     "metadata": {},
     "output_type": "execute_result"
    }
   ],
   "source": [
    "a=[['a', 'b'], ['b', 'c', 'd'], ['e', 'f']]\n",
    "b=[['p', 'q'], ['p', 's', 't'], ['u', 'v', 'w']]\n",
    "c=[]\n",
    "for i,j in zip(a,b):\n",
    "    c.append(i+j)\n",
    "c"
   ]
  },
  {
   "cell_type": "code",
   "execution_count": null,
   "id": "b6f3bec8-b7fd-4b6a-821a-1913265c87cc",
   "metadata": {},
   "outputs": [],
   "source": [
    "155. Write a Python program to add two given lists of different lengths, starting on the left.\n",
    "Original lists:\n",
    "[2, 4, 7, 0, 5, 8]\n",
    "[3, 3, -1, 7]\n",
    "Add said two lists from left:\n",
    "[5, 7, 6, 7, 5, 8]\n",
    "Original lists:\n",
    "[1, 2, 3, 4, 5, 6]\n",
    "[2, 4, -3]\n",
    "Add said two lists from left:\n",
    "[3, 6, 0, 4, 5, 6]"
   ]
  },
  {
   "cell_type": "code",
   "execution_count": 120,
   "id": "5d777e05-256b-4f1c-9345-b440206e31f2",
   "metadata": {},
   "outputs": [
    {
     "data": {
      "text/plain": [
       "[3, 6, 0, 4, 5, 6]"
      ]
     },
     "execution_count": 120,
     "metadata": {},
     "output_type": "execute_result"
    }
   ],
   "source": [
    "a=[1, 2, 3, 4, 5, 6]\n",
    "b=[2, 4, -3]\n",
    "if len(a)>len(b):\n",
    "    max=a\n",
    "    min=b\n",
    "else:\n",
    "    max=b\n",
    "    min=a\n",
    "x=len(max)\n",
    "y=len(min)\n",
    "z=max[:y]\n",
    "q=max[y:]\n",
    "w=[]\n",
    "for i,j in zip(min,z):\n",
    "    w.append(i+j)\n",
    "w+q"
   ]
  },
  {
   "cell_type": "code",
   "execution_count": null,
   "id": "2d86309a-d170-4106-90ff-5fa4338527ec",
   "metadata": {},
   "outputs": [],
   "source": [
    "156. Write a Python program to add two given lists of different lengths, starting on the right.\n",
    "Original lists:\n",
    "[2, 4, 7, 0, 5, 8]\n",
    "[3, 3, -1, 7]\n",
    "Add said two lists from left:\n",
    "[2, 4, 10, 3, 4, 15]\n",
    "Original lists:\n",
    "[1, 2, 3, 4, 5, 6]\n",
    "[2, 4, -3]\n",
    "Add said two lists from left:\n",
    "[1, 2, 3, 6, 9, 3]"
   ]
  },
  {
   "cell_type": "code",
   "execution_count": 121,
   "id": "e990e41e-c254-41b7-8846-689d498f9e65",
   "metadata": {},
   "outputs": [
    {
     "data": {
      "text/plain": [
       "[1, 2, 3, 6, 9, 3]"
      ]
     },
     "execution_count": 121,
     "metadata": {},
     "output_type": "execute_result"
    }
   ],
   "source": [
    "a=[1, 2, 3, 4, 5, 6]\n",
    "b=[2, 4, -3]\n",
    "if len(a)>len(b):\n",
    "    max=a\n",
    "    min=b\n",
    "else:\n",
    "    max=b\n",
    "    min=a\n",
    "x=len(max)\n",
    "y=len(min)\n",
    "z=max[:y]\n",
    "q=max[y:]\n",
    "w=[]\n",
    "for i,j in zip(min,q):\n",
    "    w.append(i+j)\n",
    "z+w"
   ]
  },
  {
   "cell_type": "code",
   "execution_count": null,
   "id": "f5bf3d5c-af1f-4ff4-bf62-16a8fc4e77ee",
   "metadata": {},
   "outputs": [],
   "source": [
    "157. Write a Python program to interleave lists of varying lengths.\n",
    "Original lists:\n",
    "[2, 4, 7, 0, 5, 8]\n",
    "[2, 5, 8]\n",
    "[0, 1]\n",
    "[3, 3, -1, 7]\n",
    "Interleave said lists of different lengths:\n",
    "[2, 2, 0, 3, 4, 5, 1, 3, 7, 8, -1, 0, 7, 5, 8]"
   ]
  },
  {
   "cell_type": "code",
   "execution_count": 124,
   "id": "443f87c5-3ac1-41c8-8e92-64126c6ad4ac",
   "metadata": {},
   "outputs": [
    {
     "data": {
      "text/plain": [
       "[2, 2, 0, 3, 4, 5, 1, 3, 7, 8, -1, 0, 7, 5, 8]"
      ]
     },
     "execution_count": 124,
     "metadata": {},
     "output_type": "execute_result"
    }
   ],
   "source": [
    "a=[2, 4, 7, 0, 5, 8]\n",
    "b=[2, 5, 8]\n",
    "c=[0, 1]\n",
    "d=[3, 3, -1, 7]\n",
    "l1=len(a)\n",
    "l2=len(b)\n",
    "l3=len(c)\n",
    "l4=len(d)\n",
    "x=[]\n",
    "for i in range(len(a)):\n",
    "    if i<l1:\n",
    "        x.append(a[i])\n",
    "    if i<l2:\n",
    "        x.append(b[i])\n",
    "    if i<l3:\n",
    "        x.append(c[i])\n",
    "    if i<l4:\n",
    "        x.append(d[i])\n",
    "x"
   ]
  },
  {
   "cell_type": "code",
   "execution_count": null,
   "id": "80382b34-ffed-48d1-a3c6-b2d480862f46",
   "metadata": {},
   "outputs": [],
   "source": [
    "158. Write a Python program to find the maximum and minimum values in a given list of tuples.\n",
    "Original list with tuples:\n",
    "[('V', 60), ('VI', 70), ('VII', 75), ('VIII', 72), ('IX', 78), ('X', 70)]\n",
    "Maximum and minimum values of the said list of tuples:\n",
    "(78, 60)"
   ]
  },
  {
   "cell_type": "code",
   "execution_count": 128,
   "id": "2f9602d4-eb07-4f1b-b9f1-f13eb9361160",
   "metadata": {},
   "outputs": [
    {
     "name": "stdout",
     "output_type": "stream",
     "text": [
      "(78, 60)\n"
     ]
    }
   ],
   "source": [
    "a=[('V', 60), ('VI', 70), ('VII', 75), ('VIII', 72), ('IX', 78), ('X', 70)]\n",
    "b=dict(a)\n",
    "c=list(b.values())\n",
    "c.sort()\n",
    "print((c[-1],c[0]))"
   ]
  },
  {
   "cell_type": "code",
   "execution_count": null,
   "id": "fb3b25da-fb45-4741-b4cb-392559b7ba5f",
   "metadata": {},
   "outputs": [],
   "source": [
    "159. Write a Python program to append the same value/a list multiple times to a list/list-of-lists.\n",
    "Add a value(7), 5 times, to a list:\n",
    "['7', '7', '7', '7', '7']\n",
    "Add 5, 6 times, to a list:\n",
    "[1, 2, 3, 4, 5, 5, 5, 5, 5, 5]\n",
    "Add a list, 4 times, to a list of lists:\n",
    "[[1, 2, 5], [1, 2, 5], [1, 2, 5], [1, 2, 5]]\n",
    "Add a list, 3 times, to a list of lists:\n",
    "[[5, 6, 7], [1, 2, 5], [1, 2, 5], [1, 2, 5], [1, 2, 5]]\n",
    "Click me to see the sample solution"
   ]
  },
  {
   "cell_type": "code",
   "execution_count": 131,
   "id": "4390a62a-d1b7-46e6-bb72-d7acd0f906b5",
   "metadata": {},
   "outputs": [
    {
     "data": {
      "text/plain": [
       "[1, 2, 3, 4, 5, 5, 5, 5, 5, 5]"
      ]
     },
     "execution_count": 131,
     "metadata": {},
     "output_type": "execute_result"
    }
   ],
   "source": [
    "a=[1, 2, 3, 4]\n",
    "b=5\n",
    "c=6\n",
    "x=[]\n",
    "x.append(b)\n",
    "a+x*c"
   ]
  },
  {
   "cell_type": "code",
   "execution_count": null,
   "id": "2d3d9c58-2580-4d76-bc7c-12ec7727d8b1",
   "metadata": {},
   "outputs": [],
   "source": [
    "160. Write a Python program to remove the first specified number of elements from a given list satisfying a condition.\n",
    "Remove the first 4 number of even numbers from the following list:\n",
    "[3,10,4,7,5,7,8,3,3,4,5,9,3,4,9,8,5]\n",
    "Output:\n",
    "[3, 7, 5, 7, 3, 3, 5, 9, 3, 4, 9, 8, 5]\n",
    "Original list:\n",
    "[3, 10, 4, 7, 5, 7, 8, 3, 3, 4, 5, 9, 3, 4, 9, 8, 5]\n",
    "Remove first 4 even numbers from the said list:\n",
    "[3, 7, 5, 7, 3, 3, 5, 9, 3, 4, 9, 8, 5]"
   ]
  },
  {
   "cell_type": "code",
   "execution_count": 133,
   "id": "49ac260f-6ad2-432e-8534-361f99cb2d3c",
   "metadata": {},
   "outputs": [
    {
     "data": {
      "text/plain": [
       "[3, 7, 5, 7, 3, 3, 5, 9, 3, 4, 9, 8, 5]"
      ]
     },
     "execution_count": 133,
     "metadata": {},
     "output_type": "execute_result"
    }
   ],
   "source": [
    "a=[3, 10, 4, 7, 5, 7, 8, 3, 3, 4, 5, 9, 3, 4, 9, 8, 5]\n",
    "b=4\n",
    "count=0\n",
    "for i in range(len(a)):\n",
    "    if count!=b:\n",
    "        if a[i]%2==0:\n",
    "            a.remove(a[i])\n",
    "            count+=1\n",
    "a"
   ]
  },
  {
   "cell_type": "code",
   "execution_count": null,
   "id": "6785bb72-112c-4a5e-be13-f24553ae0b86",
   "metadata": {},
   "outputs": [],
   "source": [
    "61. Write a Python program to check if a given list increases strictly. Moreover, \n",
    "if removing only one element from the list results in a strictly increasing list, we still consider the list true.\n",
    "True\n",
    "True\n",
    "True\n",
    "True\n",
    "True\n",
    "True\n",
    "True\n",
    "True\n",
    "True\n",
    "True\n",
    "True\n",
    "False\n",
    "False\n",
    "False\n",
    "False\n",
    "False"
   ]
  },
  {
   "cell_type": "code",
   "execution_count": 150,
   "id": "bbfd2544-6c6c-4072-8866-577309f9badf",
   "metadata": {},
   "outputs": [
    {
     "ename": "IndexError",
     "evalue": "list index out of range",
     "output_type": "error",
     "traceback": [
      "\u001b[1;31m---------------------------------------------------------------------------\u001b[0m",
      "\u001b[1;31mIndexError\u001b[0m                                Traceback (most recent call last)",
      "Cell \u001b[1;32mIn[150], line 4\u001b[0m\n\u001b[0;32m      2\u001b[0m count\u001b[38;5;241m=\u001b[39m\u001b[38;5;241m0\u001b[39m\n\u001b[0;32m      3\u001b[0m \u001b[38;5;28;01mfor\u001b[39;00m i \u001b[38;5;129;01min\u001b[39;00m \u001b[38;5;28mrange\u001b[39m(\u001b[38;5;241m0\u001b[39m,\u001b[38;5;28mlen\u001b[39m(a)\u001b[38;5;241m-\u001b[39m\u001b[38;5;241m1\u001b[39m):\n\u001b[1;32m----> 4\u001b[0m     \u001b[38;5;28;01mif\u001b[39;00m (a[i]\u001b[38;5;241m-\u001b[39m\u001b[43ma\u001b[49m\u001b[43m[\u001b[49m\u001b[43mi\u001b[49m\u001b[38;5;241;43m+\u001b[39;49m\u001b[38;5;241;43m1\u001b[39;49m\u001b[43m]\u001b[49m) \u001b[38;5;241m>\u001b[39m\u001b[38;5;241m0\u001b[39m:\n\u001b[0;32m      5\u001b[0m         a\u001b[38;5;241m.\u001b[39mremove(a[i\u001b[38;5;241m+\u001b[39m\u001b[38;5;241m1\u001b[39m])\n\u001b[0;32m      6\u001b[0m a\n",
      "\u001b[1;31mIndexError\u001b[0m: list index out of range"
     ]
    }
   ],
   "source": [
    "a=[10, 11, 12, 2, 3, 4, 5]\n",
    "count=0\n",
    "for i in range(0,len(a)-1):\n",
    "    if (a[i]-a[i+1])>0:\n",
    "        a.remove(a[i+1])\n",
    "a\n",
    "        \n"
   ]
  },
  {
   "cell_type": "code",
   "execution_count": null,
   "id": "75075f1c-1bf7-4a9a-85e4-80db6871b23a",
   "metadata": {},
   "outputs": [],
   "source": [
    "162. Write a Python program to find the last occurrence of a specified item in a given list.\n",
    "Original list:\n",
    "['s', 'd', 'f', 's', 'd', 'f', 's', 'f', 'k', 'o', 'p', 'i', 'w', 'e', 'k', 'c']\n",
    "Last occurrence of f in the said list:\n",
    "7\n",
    "Last occurrence of c in the said list:\n",
    "15\n",
    "Last occurrence of k in the said list:\n",
    "14\n",
    "Last occurrence of w in the said list:\n",
    "12"
   ]
  },
  {
   "cell_type": "code",
   "execution_count": 154,
   "id": "1a428b7d-5654-407f-9c99-68500c701daf",
   "metadata": {},
   "outputs": [
    {
     "name": "stdin",
     "output_type": "stream",
     "text": [
      " k\n"
     ]
    },
    {
     "data": {
      "text/plain": [
       "14"
      ]
     },
     "execution_count": 154,
     "metadata": {},
     "output_type": "execute_result"
    }
   ],
   "source": [
    "a=['s', 'd', 'f', 's', 'd', 'f', 's', 'f', 'k', 'o', 'p', 'i', 'w', 'e', 'k', 'c']\n",
    "b=input()\n",
    "c=[]\n",
    "for i in range(len(a)):\n",
    "    if a[i]==b:\n",
    "        c.append(i)\n",
    "c[-1]"
   ]
  },
  {
   "cell_type": "code",
   "execution_count": null,
   "id": "f130544c-4628-48ab-a8cf-3227d7f09a15",
   "metadata": {},
   "outputs": [],
   "source": [
    "163. Write a Python program to get the index of the first element that is greater than a specified element.\n",
    "Original list:\n",
    "[12, 45, 23, 67, 78, 90, 100, 76, 38, 62, 73, 29, 83]\n",
    "Index of the first element which is greater than 73 in the said list:\n",
    "4\n",
    "Index of the first element which is greater than 21 in the said list:\n",
    "1\n",
    "Index of the first element which is greater than 80 in the said list:\n",
    "5\n",
    "Index of the first element which is greater than 55 in the said list:\n",
    "3"
   ]
  },
  {
   "cell_type": "code",
   "execution_count": 157,
   "id": "9c5ff988-8e58-4054-8768-0b66cb843058",
   "metadata": {},
   "outputs": [
    {
     "name": "stdin",
     "output_type": "stream",
     "text": [
      " 80\n"
     ]
    },
    {
     "data": {
      "text/plain": [
       "5"
      ]
     },
     "execution_count": 157,
     "metadata": {},
     "output_type": "execute_result"
    }
   ],
   "source": [
    "a=[12, 45, 23, 67, 78, 90, 100, 76, 38, 62, 73, 29, 83]\n",
    "b=int(input())\n",
    "c=0\n",
    "for i in range(len(a)):\n",
    "    if a[i]>b:\n",
    "        c=i\n",
    "        break\n",
    "c"
   ]
  },
  {
   "cell_type": "code",
   "execution_count": null,
   "id": "63fd14c7-8af0-4882-b322-fedd0b91d398",
   "metadata": {},
   "outputs": [],
   "source": [
    "164. Write a Python program to get items from a given list with specific conditions.\n",
    "Original list:\n",
    "[12, 45, 23, 67, 78, 90, 45, 32, 100, 76, 38, 62, 73, 29, 83]\n",
    "Number of Items of the said list which are even and greater than 45\n",
    "5"
   ]
  },
  {
   "cell_type": "code",
   "execution_count": 158,
   "id": "bf8fea3e-043e-4901-a62e-8d2df63035dc",
   "metadata": {},
   "outputs": [
    {
     "data": {
      "text/plain": [
       "5"
      ]
     },
     "execution_count": 158,
     "metadata": {},
     "output_type": "execute_result"
    }
   ],
   "source": [
    "a=[12, 45, 23, 67, 78, 90, 45, 32, 100, 76, 38, 62, 73, 29, 83]\n",
    "count=0\n",
    "for i in a:\n",
    "    if i%2==0 and i>45:\n",
    "        count+=1\n",
    "count"
   ]
  },
  {
   "cell_type": "code",
   "execution_count": null,
   "id": "9c3c8352-5a4c-42cb-a2e1-b95b0e610030",
   "metadata": {},
   "outputs": [],
   "source": [
    "165. Write a Python program to split a given list into specified-sized chunks.\n",
    "Original list:\n",
    "[12, 45, 23, 67, 78, 90, 45, 32, 100, 76, 38, 62, 73, 29, 83]\n",
    "Split the said list into equal size 3\n",
    "[[12, 45, 23], [67, 78, 90], [45, 32, 100], [76, 38, 62], [73, 29, 83]]\n",
    "Split the said list into equal size 4\n",
    "[[12, 45, 23, 67], [78, 90, 45, 32], [100, 76, 38, 62], [73, 29, 83]]\n",
    "Split the said list into equal size 5\n",
    "[[12, 45, 23, 67, 78], [90, 45, 32, 100, 76], [38, 62, 73, 29, 83]]"
   ]
  },
  {
   "cell_type": "code",
   "execution_count": 161,
   "id": "3a90680d-dc7e-44c1-a01c-29a6daf01356",
   "metadata": {},
   "outputs": [
    {
     "name": "stdin",
     "output_type": "stream",
     "text": [
      " 5\n"
     ]
    },
    {
     "data": {
      "text/plain": [
       "[[12, 45, 23, 67, 78], [90, 45, 32, 100, 76], [38, 62, 73, 29, 83]]"
      ]
     },
     "execution_count": 161,
     "metadata": {},
     "output_type": "execute_result"
    }
   ],
   "source": [
    "a=[12, 45, 23, 67, 78, 90, 45, 32, 100, 76, 38, 62, 73, 29, 83]\n",
    "b=int(input())\n",
    "c=[]\n",
    "\n",
    "for i in range(0,len(a),b):\n",
    "    c.append(a[i:i+b])\n",
    "c\n"
   ]
  },
  {
   "cell_type": "code",
   "execution_count": null,
   "id": "b854836b-a266-4259-a92a-37262dd4a293",
   "metadata": {},
   "outputs": [],
   "source": [
    "166. Write a Python program to remove the None value from a given list.\n",
    "Original list:\n",
    "[12, 0, None, 23, None, -55, 234, 89, None, 0, 6, -12]\n",
    "Remove None value from the said list:\n",
    "[12, 0, 23, -55, 234, 89, 0, 6, -12]"
   ]
  },
  {
   "cell_type": "code",
   "execution_count": 168,
   "id": "0533be9d-2aa8-4651-9071-355456fa918e",
   "metadata": {},
   "outputs": [
    {
     "data": {
      "text/plain": [
       "[12, 0, 23, -55, 234, 89, 0, 6, -12]"
      ]
     },
     "execution_count": 168,
     "metadata": {},
     "output_type": "execute_result"
    }
   ],
   "source": [
    "a=[12, 0, None, 23, None, -55, 234, 89, None, 0, 6, -12]\n",
    "c=[]\n",
    "for i in a:\n",
    "    if i is not None:\n",
    "        c.append(i)\n",
    "c\n",
    "        \n",
    "        \n",
    "\n",
    "        "
   ]
  },
  {
   "cell_type": "code",
   "execution_count": null,
   "id": "ca307c6c-8a93-467d-82a1-ee8885ffa470",
   "metadata": {},
   "outputs": [],
   "source": [
    "167. Write a Python program to convert a given list of strings into a list of lists.\n",
    "Original list of strings:\n",
    "['Red', 'Maroon', 'Yellow', 'Olive']\n",
    "Convert the said list of strings into list of lists:\n",
    "[['R', 'e', 'd'], ['M', 'a', 'r', 'o', 'o', 'n'], ['Y', 'e', 'l', 'l', 'o', 'w'], ['O', 'l', 'i', 'v', 'e']]"
   ]
  },
  {
   "cell_type": "code",
   "execution_count": 170,
   "id": "c3424c11-f333-4d27-8db2-e18297a6cb36",
   "metadata": {},
   "outputs": [
    {
     "data": {
      "text/plain": [
       "[['R', 'e', 'd'],\n",
       " ['M', 'a', 'r', 'o', 'o', 'n'],\n",
       " ['Y', 'e', 'l', 'l', 'o', 'w'],\n",
       " ['O', 'l', 'i', 'v', 'e']]"
      ]
     },
     "execution_count": 170,
     "metadata": {},
     "output_type": "execute_result"
    }
   ],
   "source": [
    "a=['Red', 'Maroon', 'Yellow', 'Olive']\n",
    "b=[]\n",
    "for i in a:\n",
    "    b.append(list(i))\n",
    "b"
   ]
  },
  {
   "cell_type": "code",
   "execution_count": null,
   "id": "8268ce14-d05b-4194-b2fc-348bfe973724",
   "metadata": {},
   "outputs": [],
   "source": [
    "68. Write a Python program to display vertically each element of a given list, list of lists.\n",
    "Original list:\n",
    "['a', 'b', 'c', 'd', 'e', 'f']\n",
    "Display each element vertically of the said list:\n",
    "a\n",
    "b\n",
    "c\n",
    "d\n",
    "e\n",
    "f\n",
    "Original list:\n",
    "[[1, 2, 5], [4, 5, 8], [7, 3, 6]]\n",
    "Display each element vertically of the said list of lists:\n",
    "1 4 7\n",
    "2 5 3\n",
    "5 8 6"
   ]
  },
  {
   "cell_type": "code",
   "execution_count": 174,
   "id": "0dab3c1a-24c0-4a91-9962-6be0af31a144",
   "metadata": {},
   "outputs": [
    {
     "name": "stdout",
     "output_type": "stream",
     "text": [
      "1 4 7\n",
      "2 5 3\n",
      "5 8 6\n"
     ]
    }
   ],
   "source": [
    "a=[[1, 2, 5], [4, 5, 8], [7, 3, 6]]\n",
    "for i,j,k in zip(a[0],a[1],a[2]):\n",
    "    print(i,j,k)"
   ]
  },
  {
   "cell_type": "code",
   "execution_count": null,
   "id": "c6b3ffff-c76c-407d-89a6-02c8633fa05c",
   "metadata": {},
   "outputs": [],
   "source": [
    "169. Write a Python program to convert a given list of strings and characters to a single list of characters.\n",
    "Original list:\n",
    "['red', 'white', 'a', 'b', 'black', 'f']\n",
    "Convert the said list of strings and characters to a single list of characters:\n",
    "['r', 'e', 'd', 'w', 'h', 'i', 't', 'e', 'a', 'b', 'b', 'l', 'a', 'c', 'k', 'f']"
   ]
  },
  {
   "cell_type": "code",
   "execution_count": 175,
   "id": "4ce656a5-493f-423c-bfe2-f9625e6bb551",
   "metadata": {},
   "outputs": [
    {
     "data": {
      "text/plain": [
       "['r',\n",
       " 'e',\n",
       " 'd',\n",
       " 'w',\n",
       " 'h',\n",
       " 'i',\n",
       " 't',\n",
       " 'e',\n",
       " 'a',\n",
       " 'b',\n",
       " 'b',\n",
       " 'l',\n",
       " 'a',\n",
       " 'c',\n",
       " 'k',\n",
       " 'f']"
      ]
     },
     "execution_count": 175,
     "metadata": {},
     "output_type": "execute_result"
    }
   ],
   "source": [
    "a=['red', 'white', 'a', 'b', 'black', 'f']\n",
    "b=[]\n",
    "for i in a:\n",
    "    if len(i)<=1:\n",
    "        b.append(i)\n",
    "    else:\n",
    "        for j in i:\n",
    "            b.append(j)\n",
    "b"
   ]
  },
  {
   "cell_type": "code",
   "execution_count": null,
   "id": "cfe66337-a25e-46ca-afad-2b68bc760138",
   "metadata": {},
   "outputs": [],
   "source": [
    "170. Write a Python program to insert an element in a given list after every nth position.\n",
    "Original list:\n",
    "[1, 2, 3, 4, 5, 6, 7, 8, 9, 0]\n",
    "Insert a in the said list after 2 nd element:\n",
    "[1, 2, 'a', 3, 4, 'a', 5, 6, 'a', 7, 8, 'a', 9, 0]\n",
    "Insert b in the said list after 4 th element:\n",
    "[1, 2, 3, 4, 'b', 5, 6, 7, 8, 'b', 9, 0]\n"
   ]
  },
  {
   "cell_type": "code",
   "execution_count": 184,
   "id": "ad0418cf-7b38-443d-8260-10e2aef213be",
   "metadata": {},
   "outputs": [
    {
     "name": "stdin",
     "output_type": "stream",
     "text": [
      " a\n",
      " 2\n"
     ]
    },
    {
     "name": "stdout",
     "output_type": "stream",
     "text": [
      "2\n",
      "5\n",
      "8\n"
     ]
    }
   ],
   "source": [
    "a=[1, 2, 3, 4, 5, 6, 7, 8, 9, 0]\n",
    "b=input()\n",
    "c=int(input())\n"
   ]
  },
  {
   "cell_type": "code",
   "execution_count": null,
   "id": "344393a0-5e2a-42fe-a474-2f4c8d977250",
   "metadata": {},
   "outputs": [],
   "source": [
    "171. Write a Python program to concatenate element-wise three given lists.\n",
    "Original lists:\n",
    "['0', '1', '2', '3', '4']\n",
    "['red', 'green', 'black', 'blue', 'white']\n",
    "['100', '200', '300', '400', '500']\n",
    "Concatenate element-wise three said lists:\n",
    "['0red100', '1green200', '2black300', '3blue400', '4white500']"
   ]
  },
  {
   "cell_type": "code",
   "execution_count": 185,
   "id": "0c52b114-db9e-402a-90e7-81dfaf44488a",
   "metadata": {},
   "outputs": [
    {
     "data": {
      "text/plain": [
       "['0red100', '1green200', '2black300', '3blue400', '4white500']"
      ]
     },
     "execution_count": 185,
     "metadata": {},
     "output_type": "execute_result"
    }
   ],
   "source": [
    "a=['0', '1', '2', '3', '4']\n",
    "b=['red', 'green', 'black', 'blue', 'white']\n",
    "c=['100', '200', '300', '400', '500']\n",
    "d=[]\n",
    "for i,j,k in zip(a,b,c):\n",
    "    d.append(i+j+k)\n",
    "d"
   ]
  },
  {
   "cell_type": "code",
   "execution_count": null,
   "id": "99eee6ba-51a3-42e1-a8bd-7c704d2640f1",
   "metadata": {},
   "outputs": [],
   "source": [
    "172. Write a Python program to remove the last N number of elements from a given list.\n",
    "Original lists:\n",
    "[2, 3, 9, 8, 2, 0, 39, 84, 2, 2, 34, 2, 34, 5, 3, 5]\n",
    "Remove the last 3 elements from the said list:\n",
    "[2, 3, 9, 8, 2, 0, 39, 84, 2, 2, 34, 2, 34]\n",
    "Remove the last 5 elements from the said list:\n",
    "[2, 3, 9, 8, 2, 0, 39, 84, 2, 2, 34]\n",
    "Remove the last 1 element from the said list:\n",
    "[2, 3, 9, 8, 2, 0, 39, 84, 2, 2, 34, 2, 34, 5, 3]"
   ]
  },
  {
   "cell_type": "code",
   "execution_count": 188,
   "id": "b0717f67-ff71-4ec7-8924-21bb017f046c",
   "metadata": {},
   "outputs": [
    {
     "name": "stdin",
     "output_type": "stream",
     "text": [
      " 1\n"
     ]
    },
    {
     "name": "stdout",
     "output_type": "stream",
     "text": [
      "[2, 3, 9, 8, 2, 0, 39, 84, 2, 2, 34, 2, 34, 5, 3]\n"
     ]
    }
   ],
   "source": [
    "a=[2, 3, 9, 8, 2, 0, 39, 84, 2, 2, 34, 2, 34, 5, 3, 5]\n",
    "b=int(input())\n",
    "print(a[:len(a)-b])"
   ]
  },
  {
   "cell_type": "code",
   "execution_count": null,
   "id": "3d3a013d-778e-477b-bb50-dbc6e2d4f6b1",
   "metadata": {},
   "outputs": [],
   "source": [
    "173. Write a Python program to merge some list items in a given list using the index value.\n",
    "Original lists:\n",
    "['a', 'b', 'c', 'd', 'e', 'f', 'g']\n",
    "Merge items from 2 to 4 in the said List:\n",
    "['a', 'b', 'cd', 'e', 'f', 'g']\n",
    "Merge items from 3 to 7 in the said List:\n",
    "['a', 'b', 'c', 'defg']"
   ]
  },
  {
   "cell_type": "code",
   "execution_count": 194,
   "id": "6cbd14a2-4253-4124-b23f-a9c415193d61",
   "metadata": {},
   "outputs": [
    {
     "name": "stdin",
     "output_type": "stream",
     "text": [
      " 3\n",
      " 7\n"
     ]
    },
    {
     "data": {
      "text/plain": [
       "['a', 'b', 'c', 'defg']"
      ]
     },
     "execution_count": 194,
     "metadata": {},
     "output_type": "execute_result"
    }
   ],
   "source": [
    "a=['a', 'b', 'c', 'd', 'e', 'f', 'g']\n",
    "b=int(input())\n",
    "c=int(input())\n",
    "d=[]\n",
    "z=\"\"\n",
    "for i in range(0,b):\n",
    "    d.append(a[i])\n",
    "for i in range(b,c):\n",
    "    z=z+a[i]\n",
    "d.append(z)\n",
    "for i in range(c,len(a)):\n",
    "    d.append(a[i])\n",
    "d\n",
    "    "
   ]
  },
  {
   "cell_type": "code",
   "execution_count": null,
   "id": "7dd41ce0-5c43-4c3f-a004-ff5f1d3772fc",
   "metadata": {},
   "outputs": [],
   "source": [
    "174. Write a Python program to add a number to each element in a given list of numbers.\n",
    "Original lists:\n",
    "[3, 8, 9, 4, 5, 0, 5, 0, 3]\n",
    "Add 3 to each element in the said list:\n",
    "[6, 11, 12, 7, 8, 3, 8, 3, 6]\n",
    "Original lists:\n",
    "[3.2, 8, 9.9, 4.2, 5, 0.1, 5, 3.11, 0]\n",
    "Add 0.51 to each element in the said list:\n",
    "[3.71, 8.51, 10.41, 4.71, 5.51, 0.61, 5.51, 3.62, 0.51]"
   ]
  },
  {
   "cell_type": "code",
   "execution_count": 197,
   "id": "68cae8b1-98f9-4d49-baa9-32d27c1bd0cd",
   "metadata": {},
   "outputs": [
    {
     "data": {
      "text/plain": [
       "[3.71, 8.51, 10.41, 4.71, 5.51, 0.61, 5.51, 3.62, 0.51]"
      ]
     },
     "execution_count": 197,
     "metadata": {},
     "output_type": "execute_result"
    }
   ],
   "source": [
    "a=[3.2, 8, 9.9, 4.2, 5, 0.1, 5, 3.11, 0]\n",
    "b=0.51\n",
    "c=[]\n",
    "for i in a:\n",
    "    c.append(i+0.51)\n",
    "c"
   ]
  },
  {
   "cell_type": "code",
   "execution_count": 198,
   "id": "2d0be750-d3af-4909-b70d-84a38eaa9b8e",
   "metadata": {},
   "outputs": [
    {
     "data": {
      "text/plain": [
       "[0.7777777777777778, 0.25, 1.5, 1.3333333333333333, 3.0, 2.0, 1.5]"
      ]
     },
     "execution_count": 198,
     "metadata": {},
     "output_type": "execute_result"
    }
   ],
   "source": [
    "nums1 = [7, 2, 3, 4, 9, 2, 3]\n",
    "nums2 = [9, 8, 2, 3, 3, 1, 2]\n",
    "c=[]\n",
    "for i,j in zip(nums1,nums2):\n",
    "    c.append(i/j)\n",
    "c"
   ]
  },
  {
   "cell_type": "code",
   "execution_count": null,
   "id": "bbfdcc68-d995-41c5-a902-2c3a0f374abd",
   "metadata": {},
   "outputs": [],
   "source": [
    "177. Write a Python program to find common elements in a given list of lists.\n",
    "Original list:\n",
    "[[7, 2, 3, 4, 7], [9, 2, 3, 2, 5], [8, 2, 3, 4, 4]]\n",
    "Common elements of the said list of lists:\n",
    "[2, 3]\n",
    "Original list:\n",
    "[['a', 'b', 'c'], ['b', 'c', 'd'], ['c', 'd', 'e']]\n",
    "Common elements of the said list of lists:"
   ]
  },
  {
   "cell_type": "code",
   "execution_count": null,
   "id": "1e1ce33b-6301-4ebc-80a9-2a2e45aadd90",
   "metadata": {},
   "outputs": [],
   "source": [
    "a=[[7, 2, 3, 4, 7], [9, 2, 3, 2, 5], [8, 2, 3, 4, 4]]\n",
    "b=[]\n",
    "for i in range(1,len(a)):\n",
    "    for j in range(5):\n",
    "        if a[0][j]==a[i][j]:\n",
    "            "
   ]
  },
  {
   "cell_type": "code",
   "execution_count": null,
   "id": "06d52f05-3c6f-42db-a6e4-134f662c6166",
   "metadata": {},
   "outputs": [],
   "source": []
  },
  {
   "cell_type": "code",
   "execution_count": null,
   "id": "88a43655-6321-440a-9d79-dc65723c9adf",
   "metadata": {},
   "outputs": [],
   "source": [
    "79. Write a Python program to create the largest possible number using the elements of a given list of positive integers.\n",
    "Original list:\n",
    "[3, 40, 41, 43, 74, 9]\n",
    "Largest possible number using the elements of the said list of positive integers:\n",
    "9744341403\n",
    "Original list:\n",
    "[10, 40, 20, 30, 50, 60]\n",
    "Largest possible number using the elements of the said list of positive integers:\n",
    "605040302010\n",
    "Original list:\n",
    "[8, 4, 2, 9, 5, 6, 1, 0]\n",
    "Largest possible number using the elements of the said list of positive integers:\n",
    "98654210"
   ]
  },
  {
   "cell_type": "code",
   "execution_count": 208,
   "id": "789030bd-61ca-4208-add7-5d37ba458930",
   "metadata": {},
   "outputs": [
    {
     "data": {
      "text/plain": [
       "9744341403"
      ]
     },
     "execution_count": 208,
     "metadata": {},
     "output_type": "execute_result"
    }
   ],
   "source": [
    "from itertools import permutations\n",
    "a=['3', '40', '41', '43', '74', '9']\n",
    "b=[]\n",
    "s=permutations(a,len(a))\n",
    "for i in s:\n",
    "    k=(list(i))\n",
    "    l=''.join(k)\n",
    "    b.append(int(l))\n",
    "b.sort()\n",
    "b[-1]"
   ]
  },
  {
   "cell_type": "code",
   "execution_count": null,
   "id": "3dd230d7-29a9-43ed-bb99-308a4b510809",
   "metadata": {},
   "outputs": [],
   "source": [
    "180. Write a Python program to create the smallest possible number using the elements of a given list of positive integers.\n",
    "Original list:\n",
    "[3, 40, 41, 43, 74, 9]\n",
    "Smallest possible number using the elements of the said list of positive integers:\n",
    "3404143749\n",
    "Original list:\n",
    "[10, 40, 20, 30, 50, 60]\n",
    "Smallest possible number using the elements of the said list of positive integers:\n",
    "102030405060\n",
    "Original list:\n",
    "[8, 4, 2, 9, 5, 6, 1, 0]\n",
    "Smallest possible number using the elements of the said list of positive integers:\n",
    "01245689"
   ]
  },
  {
   "cell_type": "code",
   "execution_count": 209,
   "id": "857d9312-ae62-44a4-936a-4ad4fc18b34e",
   "metadata": {},
   "outputs": [
    {
     "data": {
      "text/plain": [
       "3404143749"
      ]
     },
     "execution_count": 209,
     "metadata": {},
     "output_type": "execute_result"
    }
   ],
   "source": [
    "from itertools import permutations\n",
    "a=['3', '40', '41', '43', '74', '9']\n",
    "b=[]\n",
    "s=permutations(a,len(a))\n",
    "for i in s:\n",
    "    k=(list(i))\n",
    "    l=''.join(k)\n",
    "    b.append(int(l))\n",
    "b.sort()\n",
    "b[0]"
   ]
  },
  {
   "cell_type": "code",
   "execution_count": null,
   "id": "92747f61-6eef-4456-866d-269a1d1e35ad",
   "metadata": {},
   "outputs": [],
   "source": [
    "81. Write a Python program to iterate a given list cyclically at a specific index position.\n",
    "Original list:\n",
    "['a', 'b', 'c', 'd', 'e', 'f', 'g', 'h']\n",
    "Iterate the said list cyclically on specific index position 3 :\n",
    "['d', 'e', 'f', 'g', 'h', 'a', 'b', 'c']\n",
    "Iterate the said list cyclically on specific index position 5 :\n",
    "['f', 'g', 'h', 'a', 'b', 'c', 'd', 'e']"
   ]
  },
  {
   "cell_type": "code",
   "execution_count": 213,
   "id": "4712c953-ce2e-4604-a283-cd6d339fdf54",
   "metadata": {},
   "outputs": [
    {
     "name": "stdout",
     "output_type": "stream",
     "text": [
      "['f', 'g', 'h', 'a', 'b', 'c', 'd', 'e']\n"
     ]
    }
   ],
   "source": [
    "a=['a', 'b', 'c', 'd', 'e', 'f', 'g', 'h']\n",
    "b=5\n",
    "c=b%len(a)\n",
    "print(a[c:]+a[:c])"
   ]
  },
  {
   "cell_type": "code",
   "execution_count": null,
   "id": "f57bcb71-4b84-468f-a867-05dcfc33df08",
   "metadata": {},
   "outputs": [],
   "source": [
    "182. Write a Python program to calculate the maximum and minimum sum of a sublist in a given list of lists.\n",
    "Original list:\n",
    "[[1, 2, 3, 5], [2, 3, 5, 4], [0, 5, 4, 1], [3, 7, 2, 1], [1, 2, 1, 2]]\n",
    "Maximum sum of sub list of the said list of lists:\n",
    "[2, 3, 5, 4]\n",
    "Minimum sum of sub list of the said list of lists:\n",
    "[1, 2, 1, 2]"
   ]
  },
  {
   "cell_type": "code",
   "execution_count": 214,
   "id": "867d1d4b-b467-4bd8-b7ff-a72799e019ee",
   "metadata": {},
   "outputs": [
    {
     "ename": "TypeError",
     "evalue": "'int' object is not callable",
     "output_type": "error",
     "traceback": [
      "\u001b[1;31m---------------------------------------------------------------------------\u001b[0m",
      "\u001b[1;31mTypeError\u001b[0m                                 Traceback (most recent call last)",
      "Cell \u001b[1;32mIn[214], line 4\u001b[0m\n\u001b[0;32m      2\u001b[0m b\u001b[38;5;241m=\u001b[39m[]\n\u001b[0;32m      3\u001b[0m \u001b[38;5;28;01mfor\u001b[39;00m i \u001b[38;5;129;01min\u001b[39;00m a:\n\u001b[1;32m----> 4\u001b[0m     b\u001b[38;5;241m.\u001b[39mappend(\u001b[38;5;28;43msum\u001b[39;49m\u001b[43m(\u001b[49m\u001b[43mi\u001b[49m\u001b[43m)\u001b[49m)\n\u001b[0;32m      5\u001b[0m b\n",
      "\u001b[1;31mTypeError\u001b[0m: 'int' object is not callable"
     ]
    }
   ],
   "source": [
    "a=[[1, 2, 3, 5], [2, 3, 5, 4], [0, 5, 4, 1], [3, 7, 2, 1], [1, 2, 1, 2]]\n",
    "b=[]\n",
    "for i in a:\n",
    "    b.append(sum(i))\n",
    "b"
   ]
  },
  {
   "cell_type": "code",
   "execution_count": null,
   "id": "1b3f330c-c29e-4253-986a-d1ac176e97d1",
   "metadata": {},
   "outputs": [],
   "source": [
    "89. Write a Python program to shift last element to first position and first element to last position in a given list.\n",
    "Original list:\n",
    "[1, 2, 3, 4, 5, 6, 7]\n",
    "Shift last element to first position and first element to last position of the said list:\n",
    "[7, 2, 3, 4, 5, 6, 1]\n",
    "Original list:\n",
    "['s', 'd', 'f', 'd', 's', 's', 'd', 'f']\n",
    "Shift last element to first position and first element to last position of the said list:\n",
    "['f', 'd', 'f', 'd', 's', 's', 'd', 's']"
   ]
  },
  {
   "cell_type": "code",
   "execution_count": 244,
   "id": "4e38a0a8-953c-4e5a-a1b9-412217ca3238",
   "metadata": {},
   "outputs": [
    {
     "data": {
      "text/plain": [
       "[7, 2, 3, 4, 5, 6, 1]"
      ]
     },
     "execution_count": 244,
     "metadata": {},
     "output_type": "execute_result"
    }
   ],
   "source": [
    "a=[1, 2, 3, 4, 5, 6, 7]\n",
    "temp=a[0]\n",
    "a[0]=a[-1]\n",
    "a[-1]=temp\n",
    "a"
   ]
  },
  {
   "cell_type": "code",
   "execution_count": null,
   "id": "f1352744-8423-4790-9b0b-26173984faef",
   "metadata": {},
   "outputs": [],
   "source": [
    "190. Write a Python program to find the specified number of largest products from two given lists, multiplying an element from each list.\n",
    "Original lists:\n",
    "[1, 2, 3, 4, 5, 6]\n",
    "[3, 6, 8, 9, 10, 6]\n",
    "3 Number of largest products from the said two lists:\n",
    "[60, 54, 50]\n",
    "4 Number of largest products from the said two lists:\n",
    "[60, 54, 50, 48]"
   ]
  },
  {
   "cell_type": "code",
   "execution_count": 243,
   "id": "1c5968bd-2248-4591-a909-712133d21417",
   "metadata": {},
   "outputs": [
    {
     "name": "stdout",
     "output_type": "stream",
     "text": [
      "[60, 54, 50]\n"
     ]
    }
   ],
   "source": [
    "a=[1, 2, 3, 4, 5, 6]\n",
    "b=[3, 6, 8, 9, 10, 6]\n",
    "d=[]\n",
    "for i in range(len(a)):\n",
    "    for j in range(len(b)):\n",
    "        c=a[i]*b[j]\n",
    "        d.append(c)\n",
    "d.sort(reverse=True)\n",
    "\n",
    "print(d[:3])\n",
    "        "
   ]
  },
  {
   "cell_type": "code",
   "execution_count": null,
   "id": "f602c990-fbbd-42e1-8f33-eaa07abdac68",
   "metadata": {},
   "outputs": [],
   "source": []
  },
  {
   "cell_type": "code",
   "execution_count": null,
   "id": "3c491191-ce75-4bbd-8355-603e9774244e",
   "metadata": {},
   "outputs": [],
   "source": []
  },
  {
   "cell_type": "code",
   "execution_count": null,
   "id": "55105c2d-f15f-4900-bff8-2504eae88d7f",
   "metadata": {},
   "outputs": [],
   "source": [
    "191. Write a Python program to find the maximum and minimum values of the three given lists.\n",
    "Original lists:\n",
    "[2, 3, 5, 8, 7, 2, 3]\n",
    "[4, 3, 9, 0, 4, 3, 9]\n",
    "[2, 1, 5, 6, 5, 5, 4]\n",
    "Maximum value of the said three lists:\n",
    "9\n",
    "Minimum value of the said three lists:\n",
    "0"
   ]
  },
  {
   "cell_type": "code",
   "execution_count": null,
   "id": "3c3cb41e-48c9-4efc-8434-09cee50e37f5",
   "metadata": {},
   "outputs": [],
   "source": []
  },
  {
   "cell_type": "code",
   "execution_count": null,
   "id": "050f8ddd-9368-4aa1-9b3e-55b6ea821805",
   "metadata": {},
   "outputs": [],
   "source": [
    "192. Write a Python program to remove all strings from a given list of tuples.\n",
    "Original list:\n",
    "[(100, 'Math'), (80, 'Math'), (90, 'Math'), (88, 'Science', 89), (90, 'Science', 92)]\n",
    "Remove all strings from the said list of tuples:\n",
    "[(100,), (80,), (90,), (88, 89), (90, 92)]"
   ]
  },
  {
   "cell_type": "code",
   "execution_count": 236,
   "id": "191d8956-ef5a-44e3-8015-3e554ceade14",
   "metadata": {},
   "outputs": [
    {
     "name": "stdout",
     "output_type": "stream",
     "text": [
      "[(100, 'Math')]\n",
      "[(80, 'Math')]\n",
      "[(90, 'Math')]\n",
      "[(88, 'Science', 89), (88, 'Science', 89)]\n",
      "[(90, 'Science', 92), (90, 'Science', 92)]\n"
     ]
    }
   ],
   "source": [
    "a=[(100, 'Math'), (80, 'Math'), (90, 'Math'), (88, 'Science', 89), (90, 'Science', 92)]\n",
    "b=[]\n",
    "for i in a:\n",
    "    k=[]\n",
    "    for j in i:\n",
    "        if type(j) is int:\n",
    "            k.append(i)\n",
    "    print(k)\n",
    "            \n"
   ]
  },
  {
   "cell_type": "code",
   "execution_count": null,
   "id": "f7970086-4717-4de4-ac37-95bb64329692",
   "metadata": {},
   "outputs": [],
   "source": [
    "93. Write a Python program to find the dimension of a given matrix.\n",
    "Original list:\n",
    "[[1, 2], [2, 4]]\n",
    "Dimension of the said matrix:\n",
    "(2, 2)\n",
    "Original list:\n",
    "[[0, 1, 2], [2, 4, 5]]\n",
    "Dimension of the said matrix:\n",
    "(2, 3)\n",
    "Original list:\n",
    "[[0, 1, 2], [2, 4, 5], [2, 3, 4]]\n",
    "Dimension of the said matrix:\n",
    "(3, 3)"
   ]
  },
  {
   "cell_type": "code",
   "execution_count": null,
   "id": "bfab0737-93a0-4a75-8975-9122902e74de",
   "metadata": {},
   "outputs": [],
   "source": []
  },
  {
   "cell_type": "code",
   "execution_count": 230,
   "id": "d1a758d7-b65c-48fe-9c9a-9265cece122f",
   "metadata": {},
   "outputs": [
    {
     "data": {
      "text/plain": [
       "(2, 3)"
      ]
     },
     "execution_count": 230,
     "metadata": {},
     "output_type": "execute_result"
    }
   ],
   "source": [
    "a=[[0, 1, 2], [2, 4, 5]]\n",
    "b=len(a)\n",
    "c=0\n",
    "for i in a:\n",
    "    c=len(i)\n",
    "b,c"
   ]
  },
  {
   "cell_type": "code",
   "execution_count": null,
   "id": "6a33b266-772f-46d4-bf18-a7a47e1126be",
   "metadata": {},
   "outputs": [],
   "source": [
    "194. Write a Python program to sum two or more lists. The lengths of the lists may be different.\n",
    "Original list:\n",
    "[[1, 2, 4], [2, 4, 4], [1, 2]]\n",
    "Sum said lists with different lengths:\n",
    "[4, 8, 8]\n",
    "Original list:\n",
    "[[1], [2, 4, 4], [1, 2], [4]]\n",
    "Sum said lists with different lengths:\n",
    "[8, 6, 4]"
   ]
  },
  {
   "cell_type": "code",
   "execution_count": null,
   "id": "58945471-59fa-493c-aa91-85771c20e24b",
   "metadata": {},
   "outputs": [],
   "source": []
  },
  {
   "cell_type": "code",
   "execution_count": null,
   "id": "e6e13559-d850-4801-b820-4ea708389f2f",
   "metadata": {},
   "outputs": [],
   "source": []
  },
  {
   "cell_type": "code",
   "execution_count": null,
   "id": "53028aeb-89d2-4298-b72e-12c4288d0880",
   "metadata": {},
   "outputs": [],
   "source": []
  },
  {
   "cell_type": "code",
   "execution_count": null,
   "id": "9f8af4cc-b16a-419a-9d73-a3a6c0ef06fb",
   "metadata": {},
   "outputs": [],
   "source": []
  },
  {
   "cell_type": "code",
   "execution_count": null,
   "id": "0151101e-9b3a-4617-8845-e9ccb0db3c48",
   "metadata": {},
   "outputs": [],
   "source": [
    "195. Write a Python program to traverse a given list in reverse order, and print the elements with the original index.\n",
    "Original list:\n",
    "['red', 'green', 'white', 'black']\n",
    "Traverse the said list in reverse order:\n",
    "black\n",
    "white\n",
    "green\n",
    "red\n",
    "Traverse the said list in reverse order with original index:\n",
    "3 black\n",
    "2 white\n",
    "1 green\n",
    "0 red"
   ]
  },
  {
   "cell_type": "code",
   "execution_count": 228,
   "id": "0ef3af48-3185-4277-b449-c419383f5d8b",
   "metadata": {},
   "outputs": [
    {
     "name": "stdout",
     "output_type": "stream",
     "text": [
      "3 black\n",
      "2 white\n",
      "1 green\n",
      "0 red\n"
     ]
    }
   ],
   "source": [
    "a=['red', 'green', 'white', 'black']\n",
    "for i in range(len(a)):\n",
    "    k=len(a)-1-i\n",
    "    print(k,a[k])"
   ]
  },
  {
   "cell_type": "code",
   "execution_count": null,
   "id": "073b8876-573b-4b68-81de-df612b727c78",
   "metadata": {},
   "outputs": [],
   "source": [
    "196. Write a Python program to move a specified element in a given list.\n",
    "Original list:\n",
    "['red', 'green', 'white', 'black', 'orange']\n",
    "Move white at the end of the said list:\n",
    "['red', 'green', 'black', 'orange', 'white']\n",
    "Original list:\n",
    "['red', 'green', 'white', 'black', 'orange']\n",
    "Move red at the end of the said list:\n",
    "['green', 'white', 'black', 'orange', 'red']\n",
    "Original list:\n",
    "['red', 'green', 'white', 'black', 'orange']\n",
    "Move black at the end of the said list:\n",
    "['red', 'green', 'white', 'orange', 'black']"
   ]
  },
  {
   "cell_type": "code",
   "execution_count": 227,
   "id": "d8d0d6f5-d722-4143-afef-f5f997e21ed6",
   "metadata": {},
   "outputs": [
    {
     "name": "stdin",
     "output_type": "stream",
     "text": [
      " white\n"
     ]
    },
    {
     "data": {
      "text/plain": [
       "['red', 'green', 'black', 'orange', 'white']"
      ]
     },
     "execution_count": 227,
     "metadata": {},
     "output_type": "execute_result"
    }
   ],
   "source": [
    "a=['red', 'green', 'white', 'black', 'orange']\n",
    "b=input()\n",
    "a.remove(b)\n",
    "a.append(b)\n",
    "a"
   ]
  },
  {
   "cell_type": "code",
   "execution_count": null,
   "id": "c737f885-40c3-4ee6-a94b-e7a619a2f986",
   "metadata": {},
   "outputs": [],
   "source": []
  },
  {
   "cell_type": "code",
   "execution_count": null,
   "id": "ca25e867-6d6f-4775-8007-1fc2f517622f",
   "metadata": {},
   "outputs": [],
   "source": []
  },
  {
   "cell_type": "code",
   "execution_count": null,
   "id": "5e7572aa-abc7-4305-8b90-91ee3d1f5526",
   "metadata": {},
   "outputs": [],
   "source": [
    "198. Write a Python program to compare two given lists and find the indices of the values present in both lists.\n",
    "Original lists:\n",
    "[1, 2, 3, 4, 5, 6]\n",
    "[7, 8, 5, 2, 10, 12]\n",
    "Compare said two lists and get the indices of the values present in both lists:\n",
    "[1, 4]\n",
    "Original lists:\n",
    "[1, 2, 3, 4, 5, 6]\n",
    "[7, 8, 5, 7, 10, 12]\n",
    "Compare said two lists and get the indices of the values present in both lists:\n",
    "[4]\n",
    "Original lists:\n",
    "[1, 2, 3, 4, 15, 6]\n",
    "[7, 8, 5, 7, 10, 12]\n",
    "Compare said two lists and get the indices of the values present in both lists:\n",
    "[]"
   ]
  },
  {
   "cell_type": "code",
   "execution_count": 226,
   "id": "12e02486-577e-43d3-9067-ed069a6a7d7d",
   "metadata": {},
   "outputs": [
    {
     "data": {
      "text/plain": [
       "[1, 4]"
      ]
     },
     "execution_count": 226,
     "metadata": {},
     "output_type": "execute_result"
    }
   ],
   "source": [
    "a=[1, 2, 3, 4, 5, 6]\n",
    "b=[7, 8, 5, 2, 10, 12]\n",
    "c=[]\n",
    "for i in range(len(a)):\n",
    "    for j in range(len(b)):\n",
    "        if a[i]==b[j]:\n",
    "            c.append(i)\n",
    "c\n",
    "            "
   ]
  },
  {
   "cell_type": "code",
   "execution_count": null,
   "id": "a107affb-a64d-4e1c-bdaa-043961b15cf6",
   "metadata": {},
   "outputs": [],
   "source": []
  },
  {
   "cell_type": "code",
   "execution_count": null,
   "id": "6a73f589-7839-4c94-8213-05f81397bab8",
   "metadata": {},
   "outputs": [],
   "source": []
  },
  {
   "cell_type": "code",
   "execution_count": 224,
   "id": "c51d0401-63cc-42ab-9286-3e326583a25f",
   "metadata": {},
   "outputs": [
    {
     "data": {
      "text/plain": [
       "56"
      ]
     },
     "execution_count": 224,
     "metadata": {},
     "output_type": "execute_result"
    }
   ],
   "source": [
    "99. Write a Python program to convert a Unicode list to a list of strings.\n",
    "Original lists:\n",
    "['S001', 'S002', 'S003', 'S004']\n",
    "Convert the said unicode list to a list contains strings:\n",
    "['S001', 'S002', 'S003', 'S004']"
   ]
  },
  {
   "cell_type": "code",
   "execution_count": 225,
   "id": "ec592280-3763-4ef5-95c0-ceb6c924ec32",
   "metadata": {},
   "outputs": [
    {
     "data": {
      "text/plain": [
       "['S001', 'S002', 'S003', 'S004']"
      ]
     },
     "execution_count": 225,
     "metadata": {},
     "output_type": "execute_result"
    }
   ],
   "source": [
    "a=['S001', 'S002', 'S003', 'S004']\n",
    "b=[str(x) for x in a ]\n",
    "b"
   ]
  },
  {
   "cell_type": "code",
   "execution_count": 221,
   "id": "fd6f9462-13f8-479d-8c7d-17c74baaf3ba",
   "metadata": {},
   "outputs": [
    {
     "ename": "SyntaxError",
     "evalue": "invalid syntax (4120372387.py, line 1)",
     "output_type": "error",
     "traceback": [
      "\u001b[1;36m  Cell \u001b[1;32mIn[221], line 1\u001b[1;36m\u001b[0m\n\u001b[1;33m    200. Write a Python program to pair consecutive elements of a given list.\u001b[0m\n\u001b[1;37m         ^\u001b[0m\n\u001b[1;31mSyntaxError\u001b[0m\u001b[1;31m:\u001b[0m invalid syntax\n"
     ]
    }
   ],
   "source": [
    "200. Write a Python program to pair consecutive elements of a given list.\n",
    "Original lists:\n",
    "[1, 2, 3, 4, 5, 6]\n",
    "Pair up the consecutive elements of the said list:\n",
    "[[1, 2], [2, 3], [3, 4], [4, 5], [5, 6]]\n",
    "Original lists:\n",
    "[1, 2, 3, 4, 5]\n",
    "Pair up the consecutive elements of the said list:\n",
    "[[1, 2], [2, 3], [3, 4], [4, 5]]"
   ]
  },
  {
   "cell_type": "code",
   "execution_count": 2,
   "id": "32361335-b438-4133-b74e-df5669c36764",
   "metadata": {},
   "outputs": [
    {
     "data": {
      "text/plain": [
       "[[1, 2], [2, 3], [3, 4], [4, 5]]"
      ]
     },
     "execution_count": 2,
     "metadata": {},
     "output_type": "execute_result"
    }
   ],
   "source": [
    "a=[1,2,3,4,5]\n",
    "b=[]\n",
    "for i in range(len(a)-1):\n",
    "    k,l=a[i],a[i+1]\n",
    "    d=[k,l]\n",
    "    b.append(d)\n",
    "b"
   ]
  },
  {
   "cell_type": "code",
   "execution_count": null,
   "id": "56e182b8-78cf-40c7-9338-3c87c5f8babb",
   "metadata": {},
   "outputs": [],
   "source": [
    "201. Write a Python program to check if a given string contains an element that is present in a list.\n",
    "The original string and list:\n",
    "https://www.w3resource.com/python-exercises/list/\n",
    "['.com', '.edu', '.tv']\n",
    "Check if https://www.w3resource.com/python-exercises/list/ contains an element, which is present in the list ['.com', '.edu', '.tv']\n",
    "True\n",
    "The original string and list: https://www.w3resource.net\n",
    "https://www.w3resource.net\n",
    "['.com', '.edu', '.tv']\n",
    "Check if https://www.w3resource.net contains an element, which is present in the list ['.com', '.edu', '.tv']\n",
    "False"
   ]
  },
  {
   "cell_type": "code",
   "execution_count": 4,
   "id": "abe0d096-d917-4e27-a631-ecc9c64e0415",
   "metadata": {},
   "outputs": [
    {
     "name": "stdout",
     "output_type": "stream",
     "text": [
      "True\n"
     ]
    }
   ],
   "source": [
    "a=\"https://www.w3resource.com/python-exercises/list/\"\n",
    "b=['.com', '.edu', '.tv']\n",
    "c=len(b)\n",
    "count=0\n",
    "for i in b:\n",
    "    if i in a:\n",
    "        count+=1\n",
    "if count>=1:\n",
    "    print(\"True\")\n",
    "else:\n",
    "    print(\"False\")"
   ]
  },
  {
   "cell_type": "code",
   "execution_count": null,
   "id": "78f685c3-1231-43ea-8369-1e8eb820b19d",
   "metadata": {},
   "outputs": [],
   "source": [
    "202. Write a Python program to find the indexes of all None items in a given list.\n",
    "Original list:\n",
    "[1, None, 5, 4, None, 0, None, None]\n",
    "Indexes of all None items of the list:\n",
    "[1, 4, 6, 7]"
   ]
  },
  {
   "cell_type": "code",
   "execution_count": 5,
   "id": "bc48aab8-4000-4f59-957e-01b057d6fc69",
   "metadata": {},
   "outputs": [
    {
     "name": "stdout",
     "output_type": "stream",
     "text": [
      "1\n",
      "4\n",
      "6\n",
      "7\n"
     ]
    }
   ],
   "source": [
    "a=[1, None, 5, 4, None, 0, None, None]\n",
    "for i in range(len(a)):\n",
    "    if a[i]==None:\n",
    "        print(i)"
   ]
  },
  {
   "cell_type": "code",
   "execution_count": null,
   "id": "56a82efc-4c26-436f-b5be-5e92cb6b67ef",
   "metadata": {},
   "outputs": [],
   "source": [
    "203. Write a Python program to join adjacent members of a given list.\n",
    "Original list:\n",
    "['1', '2', '3', '4', '5', '6', '7', '8']\n",
    "Join adjacent members of a given list:\n",
    "['12', '34', '56', '78']\n",
    "Original list:\n",
    "['1', '2', '3']\n",
    "Join adjacent members of a given list:\n",
    "['12']"
   ]
  },
  {
   "cell_type": "code",
   "execution_count": 18,
   "id": "0ba823e0-3916-4e62-9790-88e4951b4bd8",
   "metadata": {},
   "outputs": [
    {
     "data": {
      "text/plain": [
       "['12']"
      ]
     },
     "execution_count": 18,
     "metadata": {},
     "output_type": "execute_result"
    }
   ],
   "source": [
    "a=['1', \"2\"]\n",
    "b=[]\n",
    "if len(a)%2==0 and len(a)>=2:\n",
    "    for i in range(0,len(a),2):\n",
    "        c=str(a[i])+str(a[i+1])\n",
    "        b.append(c)\n",
    "else:\n",
    "    d=a[:len(a)-1]\n",
    "    for i in range(0,len(d),2):\n",
    "        c=str(d[i])+str(d[i+1])\n",
    "        b.append(c)\n",
    "b\n"
   ]
  },
  {
   "cell_type": "code",
   "execution_count": null,
   "id": "9bc6e0cd-94f3-4c40-9ea8-faad01ac7935",
   "metadata": {},
   "outputs": [],
   "source": [
    "204. Write a Python program to check if the first digit or character of each element in a list is the same.\n",
    "Original list:\n",
    "[1234, 122, 1984, 19372, 100]\n",
    "Check if first digit in each element of the said given list is same or not!\n",
    "True\n",
    "Original list:\n",
    "[1234, 922, 1984, 19372, 100]\n",
    "Check if first digit in each element of the said given list is same or not!\n",
    "False\n",
    "Original list:\n",
    "['aabc', 'abc', 'ab', 'a']\n",
    "Check if first character in each element of the said given list is same or not!\n",
    "True\n",
    "Original list:\n",
    "['aabc', 'abc', 'ab', 'ha']\n",
    "Check if first character in each element of the said given list is same or not!\n",
    "False"
   ]
  },
  {
   "cell_type": "code",
   "execution_count": 30,
   "id": "9c31853d-dd81-4324-ba0c-9638455762e9",
   "metadata": {},
   "outputs": [
    {
     "name": "stdout",
     "output_type": "stream",
     "text": [
      "False\n"
     ]
    }
   ],
   "source": [
    "a=['aabc', 'abc', 'ab', 'ha']\n",
    "c=[]\n",
    "for i in a:\n",
    "    c.append(str(i))\n",
    "b=c[0][0]\n",
    "count=0\n",
    "for i in c:\n",
    "    if b==i[0]:\n",
    "        count+=1\n",
    "if count==len(a):\n",
    "    print(\"True\")\n",
    "else:\n",
    "    print(\"False\")"
   ]
  },
  {
   "cell_type": "code",
   "execution_count": 32,
   "id": "514944e3-d4c1-459f-8bad-9540a1d4baf1",
   "metadata": {},
   "outputs": [
    {
     "ename": "SyntaxError",
     "evalue": "invalid syntax (1233110174.py, line 1)",
     "output_type": "error",
     "traceback": [
      "\u001b[1;36m  Cell \u001b[1;32mIn[32], line 1\u001b[1;36m\u001b[0m\n\u001b[1;33m    205. Write a Python program to find the indices of elements in a given list that are greater than a specified value.\u001b[0m\n\u001b[1;37m         ^\u001b[0m\n\u001b[1;31mSyntaxError\u001b[0m\u001b[1;31m:\u001b[0m invalid syntax\n"
     ]
    }
   ],
   "source": [
    "205. Write a Python program to find the indices of elements in a given list that are greater than a specified value.\n",
    "Original list:\n",
    "[1234, 1522, 1984, 19372, 1000, 2342, 7626]\n",
    "Indices of elements of the said list, greater than 9000\n",
    "[3, 6]\n",
    "Original list:\n",
    "[1234, 1522, 1984, 19372, 1000, 2342, 7626]\n",
    "Indices of elements of the said list, greater than 20000\n",
    "[]"
   ]
  },
  {
   "cell_type": "code",
   "execution_count": 33,
   "id": "19ee503c-1105-454b-9dad-e3bb9691d69f",
   "metadata": {},
   "outputs": [
    {
     "data": {
      "text/plain": [
       "[]"
      ]
     },
     "execution_count": 33,
     "metadata": {},
     "output_type": "execute_result"
    }
   ],
   "source": [
    "a=[1234, 1522, 1984, 19372, 1000, 2342, 7626]\n",
    "b=30000\n",
    "c=[]\n",
    "for i in a:\n",
    "    if i>b:\n",
    "        c.append(i)\n",
    "c"
   ]
  },
  {
   "cell_type": "code",
   "execution_count": null,
   "id": "3e4b1ae9-bed3-405e-8997-4013a35137b6",
   "metadata": {},
   "outputs": [],
   "source": [
    "206. Write a Python program to remove additional spaces from a given list.\n",
    "Original list:\n",
    "['abc ', ' ', ' ', 'sdfds ', ' ', ' ', 'sdfds ', 'huy']\n",
    "Remove additional spaces from the said list:\n",
    "['abc', '', '', 'sdfds', '', '', 'sdfds', 'huy']"
   ]
  },
  {
   "cell_type": "code",
   "execution_count": 40,
   "id": "27ac7e0a-f7db-477c-8b15-45fd446eab7f",
   "metadata": {},
   "outputs": [
    {
     "data": {
      "text/plain": [
       "['abc ', '', '', 'sdfds ', '', '', 'sdfds ', 'huy']"
      ]
     },
     "execution_count": 40,
     "metadata": {},
     "output_type": "execute_result"
    }
   ],
   "source": [
    "a=['abc ', ' ', ' ', 'sdfds ', ' ', ' ', 'sdfds ', 'huy']\n",
    "b=[]\n",
    "for i in a:\n",
    "    if i==' ':\n",
    "        b+=[\"\"]\n",
    "    else:\n",
    "        b.append(i)\n",
    "b\n",
    "    "
   ]
  },
  {
   "cell_type": "code",
   "execution_count": null,
   "id": "cf270f92-dae1-47df-9559-c08ed179c832",
   "metadata": {},
   "outputs": [],
   "source": [
    "207. Write a Python program to find the common tuples between two given lists.\n",
    "Original lists:\n",
    "[('red', 'green'), ('black', 'white'), ('orange', 'pink')]\n",
    "[('red', 'green'), ('orange', 'pink')]\n",
    "Common tuples between two said lists\n",
    "[('orange', 'pink'), ('red', 'green')]\n",
    "Original lists:\n",
    "[('red', 'green'), ('orange', 'pink')]\n",
    "[('red', 'green'), ('black', 'white'), ('orange', 'pink')]\n",
    "Common tuples between two said lists\n",
    "[('orange', 'pink'), ('red', 'green')]"
   ]
  },
  {
   "cell_type": "code",
   "execution_count": 42,
   "id": "740a24f7-fac9-4830-a9bf-e8630d4cb293",
   "metadata": {},
   "outputs": [
    {
     "data": {
      "text/plain": [
       "[('red', 'green'), ('orange', 'pink')]"
      ]
     },
     "execution_count": 42,
     "metadata": {},
     "output_type": "execute_result"
    }
   ],
   "source": [
    "a=[('red', 'green'), ('black', 'white'), ('orange', 'pink')]\n",
    "b=[('red', 'green'), ('orange', 'pink')]\n",
    "if len(a)>len(b):\n",
    "    min=b\n",
    "    max=a\n",
    "else:\n",
    "    min=a\n",
    "    max=b\n",
    "c=[]\n",
    "for i in min:\n",
    "    if i in max:\n",
    "        c.append(i)\n",
    "c\n",
    "    "
   ]
  },
  {
   "cell_type": "code",
   "execution_count": null,
   "id": "83f9871d-ab8f-48e6-b261-caa7c5fbdd51",
   "metadata": {},
   "outputs": [],
   "source": [
    "208. Sum a list of numbers. Write a Python program to sum the first number with the second and divide it by 2, then sum the second with the third and divide by 2, and so on.\n",
    "Original list:\n",
    "[1, 2, 3, 4, 5, 6, 7]\n",
    "Sum the said list of numbers:\n",
    "[1.5, 2.5, 3.5, 4.5, 5.5, 6.5]\n",
    "Original list:\n",
    "[0, 1, -3, 3, 7, -5, 6, 7, 11]\n",
    "Sum the said list of numbers:\n",
    "[0.5, -1.0, 0.0, 5.0, 1.0, 0.5, 6.5, 9.0]"
   ]
  },
  {
   "cell_type": "code",
   "execution_count": 56,
   "id": "d727ecb3-2eda-4562-8443-a13a102c001a",
   "metadata": {},
   "outputs": [
    {
     "data": {
      "text/plain": [
       "[0.5, -1.0, 0.0, 5.0, 1.0, 0.5, 6.5, 9.0]"
      ]
     },
     "execution_count": 56,
     "metadata": {},
     "output_type": "execute_result"
    }
   ],
   "source": [
    "a=[0, 1, -3, 3, 7, -5, 6, 7, 11]\n",
    "b=[]\n",
    "for i in range(len(a)-1):\n",
    "    c,d=a[i],a[i+1]\n",
    "    b.append((c+d)/2)\n",
    "b"
   ]
  },
  {
   "cell_type": "code",
   "execution_count": null,
   "id": "44c91d72-09ad-4608-9125-9eeb7c3b5724",
   "metadata": {},
   "outputs": [],
   "source": [
    "209. Write a Python program to count the number of groups of non-zero numbers separated by zeros in a given list of numbers.\n",
    "Original list:\n",
    "[3, 4, 6, 2, 0, 0, 0, 0, 0, 0, 6, 7, 6, 9, 10, 0, 0, 0, 0, 0, 5, 9, 9, 7, 4, 4, 0, 0, 0, 0, 0, 0, 5, 3, 2, 9, 7, 1]\n",
    "Number of groups of non-zero numbers separated by zeros of the said list: 4"
   ]
  },
  {
   "cell_type": "code",
   "execution_count": 67,
   "id": "91611e13-8172-4798-ab38-55a2262b516b",
   "metadata": {},
   "outputs": [
    {
     "data": {
      "text/plain": [
       "6"
      ]
     },
     "execution_count": 67,
     "metadata": {},
     "output_type": "execute_result"
    }
   ],
   "source": [
    "a=[3, 4, 6, 2,1, 0, 0, 0, 0, 0, 0, 6, 7, 6, 9, 10, 0, 0, 0, 0, 0, 5, 9, 9, 7, 4, 4, 0, 0, 0, 0, 0, 0, 5, 3, 2, 9, 7, 1,0,1,1,0,1,0]\n",
    "ctr=0\n",
    "ele=0\n",
    "for i in a:              #3     4  6 2 1  0 0 0  1 \n",
    "    if ele==0 and i!=0:   #t t  f  f  f f f 0 0 0\n",
    "        ctr+=1 \n",
    "    ele=i                #3     4   6 2 1 0 0 0 1 0\n",
    "ctr\n",
    "\n"
   ]
  },
  {
   "cell_type": "code",
   "execution_count": null,
   "id": "431110ca-1ff2-4b83-8feb-e94c7ddbb29d",
   "metadata": {},
   "outputs": [],
   "source": [
    "210. Write a Python program to compute the sum of non-zero groups (separated by zeros) of a given list of numbers.\n",
    "Original list:\n",
    "[3, 4, 6, 2, 0, 0, 0, 0, 0, 0, 6, 7, 6, 9, 10, 0, 0, 0, 0, 0, 7, 4, 4, 0, 0, 0, 0, 0, 0, 5, 3, 2, 9, 7, 1, 0, 0, 0]\n",
    "Compute the sum of non-zero groups (separated by zeros) of the said list of numbers: [15, 38, 15, 27]"
   ]
  },
  {
   "cell_type": "code",
   "execution_count": 60,
   "id": "3420da79-c2c2-4017-9fca-061bd46579cb",
   "metadata": {},
   "outputs": [
    {
     "data": {
      "text/plain": [
       "[15, 38, 15, 27]"
      ]
     },
     "execution_count": 60,
     "metadata": {},
     "output_type": "execute_result"
    }
   ],
   "source": [
    "a=[0,3, 4, 6, 2, 0, 0, 0, 0, 0, 0, 6, 7, 6, 9, 10, 0, 0, 0, 0, 0, 7, 4, 4, 0, 0, 0, 0, 0, 0, 5, 3, 2, 9, 7, 1, 0, 0, 0]\n",
    "s=0\n",
    "c=[]\n",
    "for i in a:\n",
    "    if i!=0:\n",
    "        s+=i\n",
    "    else:\n",
    "        if s>0:\n",
    "            c.append(s)\n",
    "            s=0\n",
    "c\n",
    "\n",
    "            "
   ]
  },
  {
   "cell_type": "code",
   "execution_count": 52,
   "id": "7efff320-c7dd-4dce-acc2-dc4c939de27c",
   "metadata": {},
   "outputs": [
    {
     "ename": "SyntaxError",
     "evalue": "invalid syntax (2641550031.py, line 1)",
     "output_type": "error",
     "traceback": [
      "\u001b[1;36m  Cell \u001b[1;32mIn[52], line 1\u001b[1;36m\u001b[0m\n\u001b[1;33m    211. Write a Python program to remove an element from a given list.\u001b[0m\n\u001b[1;37m         ^\u001b[0m\n\u001b[1;31mSyntaxError\u001b[0m\u001b[1;31m:\u001b[0m invalid syntax\n"
     ]
    }
   ],
   "source": [
    "211. Write a Python program to remove an element from a given list.\n",
    "Original list:\n",
    "['Ricky Rivera', 98, 'Math', 90, 'Science']\n",
    "After deleting an element:, using index of the element: [98, 'Math', 90, 'Science']"
   ]
  },
  {
   "cell_type": "code",
   "execution_count": null,
   "id": "47717de9-766f-4104-8285-361f06cc52bb",
   "metadata": {},
   "outputs": [],
   "source": [
    "a=['Ricky Rivera', 98, 'Math', 90, 'Science']\n",
    "b=0\n",
    "c=[]\n",
    "for i in range(len(a)):\n",
    "    if i!=b:\n",
    "        c.append(a[i])\n",
    "print(c)\n",
    "    "
   ]
  },
  {
   "cell_type": "code",
   "execution_count": null,
   "id": "bbd75474-3220-405e-bbda-ee3a828c763d",
   "metadata": {},
   "outputs": [],
   "source": [
    "212 212. Write a Python program to remove all values except integer values from a given array of mixed values.\n",
    "Original list: [34.67, 12, -94.89, 'Python', 0, 'C#']\n",
    "After removing all the values except integer values from the said array of mixed values: [12, 0]"
   ]
  },
  {
   "cell_type": "code",
   "execution_count": 71,
   "id": "f9b8552b-9dcf-4ec8-a158-e3718399d254",
   "metadata": {},
   "outputs": [
    {
     "data": {
      "text/plain": [
       "[12, 0]"
      ]
     },
     "execution_count": 71,
     "metadata": {},
     "output_type": "execute_result"
    }
   ],
   "source": [
    "a=[34.67, 12, -94.89, 'Python', 0, 'C#']\n",
    "b=[]\n",
    "for i in a:\n",
    "    try:\n",
    "        if i==int(i):\n",
    "            b.append(i)\n",
    "    except:\n",
    "        pass\n",
    "b"
   ]
  },
  {
   "cell_type": "code",
   "execution_count": null,
   "id": "fe937634-4764-4cca-8a5e-496a29e9400b",
   "metadata": {},
   "outputs": [],
   "source": [
    "213. Write a Python program to calculate the sum of two lowest negative numbers in a given array of integers.\n",
    "An integer (from the Latin integer meaning \"whole\") is colloquially defined as a number that can be written without a fractional component. For example, 21, 4, 0, and -2048 are integers.\n",
    "Original list elements: [-14, 15, -10, -11, -12, -13, 16, 17, 18, 19, 20]\n",
    "Sum of two lowest negative numbers of the said array of integers: -27\n",
    "Original list elements: [-4, 5, -2, 0, 3, -1, 4, 9]\n",
    "Sum of two lowest negative numbers of the said array of integers: -6"
   ]
  },
  {
   "cell_type": "code",
   "execution_count": 74,
   "id": "36eb5871-631c-44f1-bbed-8fd365bc49cd",
   "metadata": {},
   "outputs": [
    {
     "name": "stdout",
     "output_type": "stream",
     "text": [
      "-6\n"
     ]
    }
   ],
   "source": [
    "a=[-4, 5, -2, 0, 3, -1, 4, 9]\n",
    "b=sorted(a)\n",
    "print(b[0]+b[1])"
   ]
  },
  {
   "cell_type": "code",
   "execution_count": null,
   "id": "2e805802-92cd-4b81-8cd4-4e16d95a1cbb",
   "metadata": {},
   "outputs": [],
   "source": [
    "214. Write a Python program to sort a given positive number in descending/ascending order.\n",
    "Descending -> Highest to lowest.\n",
    "Ascending -> Lowest to highest\n",
    "Original Number: 134543\n",
    "Descending order of the said number: 544331\n",
    "Ascending order of the said number: 133445\n",
    "Original Number: 43750973\n",
    "Descending order of the said number: 97754330\n",
    "Ascending order of the said number: 3345779"
   ]
  },
  {
   "cell_type": "code",
   "execution_count": 79,
   "id": "f4cc4483-1719-4833-82dc-425ba2db6be5",
   "metadata": {},
   "outputs": [
    {
     "name": "stdout",
     "output_type": "stream",
     "text": [
      "97754330\n",
      "03345779\n"
     ]
    }
   ],
   "source": [
    "a=\"43750973\"\n",
    "b=list(a)\n",
    "c=sorted(a,reverse=True)\n",
    "d=sorted(c)\n",
    "print(''.join(c))\n",
    "print(''.join(d))"
   ]
  },
  {
   "cell_type": "code",
   "execution_count": 83,
   "id": "c5742c11-ed77-4fe8-8532-f3e3345caf51",
   "metadata": {},
   "outputs": [
    {
     "name": "stdin",
     "output_type": "stream",
     "text": [
      " math\n"
     ]
    },
    {
     "data": {
      "text/plain": [
       "{6: 2, 7: 1}"
      ]
     },
     "execution_count": 83,
     "metadata": {},
     "output_type": "execute_result"
    }
   ],
   "source": [
    "import math\n",
    "a=[6.5,7.1,6.4]\n",
    "b=input()\n",
    "c={}\n",
    "if b==\"len\":\n",
    "    for i in a:\n",
    "        k=len(i)\n",
    "        if k not in c:\n",
    "            c[k]=1\n",
    "        else:\n",
    "            c[k]+=1\n",
    "else:\n",
    "    for i in a:\n",
    "        k=math.floor(i)\n",
    "        if k not in c:\n",
    "            c[k]=1\n",
    "        else:\n",
    "            c[k]+=1\n",
    "c\n",
    "    "
   ]
  },
  {
   "cell_type": "code",
   "execution_count": null,
   "id": "8e6cfe2d-e2c6-457b-a039-792777deb7ee",
   "metadata": {},
   "outputs": [],
   "source": [
    "217. Write a Python program to split values into two groups, based on the result of the given filtering function.\n",
    "Sample Output:\n",
    "[['white'], ['red', 'green', 'black']]"
   ]
  },
  {
   "cell_type": "code",
   "execution_count": 85,
   "id": "69b95acb-cb3c-4644-9e04-07b55cf2e768",
   "metadata": {},
   "outputs": [
    {
     "data": {
      "text/plain": [
       "[['white', 'white', 'wernic'], ['red', 'green']]"
      ]
     },
     "execution_count": 85,
     "metadata": {},
     "output_type": "execute_result"
    }
   ],
   "source": [
    "a=[\"white\",\"red\",\"green\",\"white\",\"wernic\"]\n",
    "b=[]\n",
    "c=[]\n",
    "d=[]\n",
    "for  i in a:\n",
    "    if i[0]==\"w\":\n",
    "        c.append(i)\n",
    "    else:\n",
    "        d.append(i)\n",
    "b.append(c)\n",
    "b.append(d)\n",
    "b"
   ]
  },
  {
   "cell_type": "code",
   "execution_count": null,
   "id": "bd96905f-8458-4425-b1d7-36a0291a1a4c",
   "metadata": {},
   "outputs": [],
   "source": [
    "l1 = ['eggs', 'bread', 'oranges', 'jam', 'apples', 'milk']\n",
    "l2 = [3, 2, 6, 4, 1, 5]"
   ]
  },
  {
   "cell_type": "code",
   "execution_count": 94,
   "id": "515ec29a-71ab-4759-ae26-c69934797875",
   "metadata": {},
   "outputs": [
    {
     "name": "stdout",
     "output_type": "stream",
     "text": [
      "['bread', 'oranges', 'jam', 'apples', 'milk']\n",
      "milk\n",
      "apples\n",
      "jam\n",
      "oranges\n",
      "bread\n"
     ]
    }
   ],
   "source": [
    "d=[]\n",
    "l1 = ['eggs', 'bread', 'oranges', 'jam', 'apples', 'milk']\n",
    "l2 = [3, 2, 6, 4, 1, 5]\n",
    "for i in range(1,len(l1)):\n",
    "    d.append(l1[i])\n",
    "print(d)\n",
    "for i in range(len(l1)-1,0,-1):\n",
    "    print(l1[i])\n"
   ]
  },
  {
   "cell_type": "code",
   "execution_count": null,
   "id": "6b624d3c-0752-423f-82e4-9621667b4bc5",
   "metadata": {},
   "outputs": [],
   "source": [
    "219. Write a Python program to build a list, using an iterator function and an initial seed value."
   ]
  },
  {
   "cell_type": "code",
   "execution_count": null,
   "id": "0cc3e46f-8586-4a15-bfc8-e2ec451376cd",
   "metadata": {},
   "outputs": [],
   "source": [
    "a=-10\n"
   ]
  },
  {
   "cell_type": "code",
   "execution_count": null,
   "id": "ce270e63-babb-4e1c-8b1e-369bd6429b2c",
   "metadata": {},
   "outputs": [],
   "source": []
  },
  {
   "cell_type": "code",
   "execution_count": null,
   "id": "58d52677-5880-4242-9fb8-b7a2d7301c22",
   "metadata": {},
   "outputs": [],
   "source": [
    "220. Write a Python program to map the values of a list to a dictionary using a function, where the key-value pairs consist of the original value as the key and the result of the function as the value.\n",
    "Sample Output:\n",
    "{1: 1, 2: 4, 3: 9}"
   ]
  },
  {
   "cell_type": "code",
   "execution_count": 98,
   "id": "3d9a16d1-fa84-4287-af97-f18f76a3971f",
   "metadata": {},
   "outputs": [
    {
     "name": "stdin",
     "output_type": "stream",
     "text": [
      " 3\n"
     ]
    },
    {
     "data": {
      "text/plain": [
       "{1: 1, 2: 4, 3: 9}"
      ]
     },
     "execution_count": 98,
     "metadata": {},
     "output_type": "execute_result"
    }
   ],
   "source": [
    "a={}\n",
    "b=int(input())\n",
    "for i in range(1,b+1):\n",
    "      a[i]=i*i\n",
    "a\n"
   ]
  },
  {
   "cell_type": "code",
   "execution_count": null,
   "id": "c010481b-949b-440c-9ff1-9c48f3aa2277",
   "metadata": {},
   "outputs": [],
   "source": [
    "221. Write a Python program to randomize the order of the values of a list, returning a new list.\n",
    "Sample Output:\n",
    "Original list: [1, 2, 3, 4, 5, 6]\n",
    "Shuffle the elements of the said list:\n",
    "[3, 2, 4, 1, 6, 5]"
   ]
  },
  {
   "cell_type": "code",
   "execution_count": 104,
   "id": "8472864b-478e-4c07-ae08-8105f7369f06",
   "metadata": {},
   "outputs": [
    {
     "data": {
      "text/plain": [
       "[6, 5, 2, 3, 4, 1]"
      ]
     },
     "execution_count": 104,
     "metadata": {},
     "output_type": "execute_result"
    }
   ],
   "source": [
    "import random\n",
    "a=[1, 2, 3, 4, 5, 6]\n",
    "random.shuffle(a)\n",
    "a"
   ]
  },
  {
   "cell_type": "code",
   "execution_count": null,
   "id": "edde4220-0f39-4c53-9107-d4fdc28fec8e",
   "metadata": {},
   "outputs": [],
   "source": [
    "222.Write a Python program to get the difference between two given lists, after applying the provided function to each list element of both.\n",
    "Sample Output:\n",
    "[1.2]\n",
    "[{'x': 2}]"
   ]
  },
  {
   "cell_type": "code",
   "execution_count": null,
   "id": "236d8d81-c2d9-4dd6-b6b3-798b2a096fac",
   "metadata": {},
   "outputs": [],
   "source": [
    "223.Write a Python program to create a list with non-unique values filtered out.\n",
    "Sample Output:\n",
    "[1, 3, 5]"
   ]
  },
  {
   "cell_type": "code",
   "execution_count": 107,
   "id": "666e12d0-81c6-4663-a40c-ccfce8a8644a",
   "metadata": {},
   "outputs": [
    {
     "data": {
      "text/plain": [
       "[1, 2, 3, 4, 5, 6]"
      ]
     },
     "execution_count": 107,
     "metadata": {},
     "output_type": "execute_result"
    }
   ],
   "source": [
    "a=[1,2,3,3,3,4,5,6]\n",
    "b=[]\n",
    "for i in a:\n",
    "    if i not in b:\n",
    "        b.append(i)\n",
    "b"
   ]
  },
  {
   "cell_type": "code",
   "execution_count": 109,
   "id": "06f47a83-c20a-47dc-b929-98d15a375b8a",
   "metadata": {},
   "outputs": [
    {
     "data": {
      "text/plain": [
       "[2, 3, 4]"
      ]
     },
     "execution_count": 109,
     "metadata": {},
     "output_type": "execute_result"
    }
   ],
   "source": [
    "a=[1,2,2,3,4,5,4,3,25,6,7,8]\n",
    "b=[]\n",
    "for i in set(a):\n",
    "     k=a.count(i)\n",
    "     if k>=2:\n",
    "         b.append(i)\n",
    "b\n",
    "              \n",
    "    "
   ]
  },
  {
   "cell_type": "code",
   "execution_count": 113,
   "id": "455cfaf7-f780-4ec4-b5e7-9db5743ae4ee",
   "metadata": {},
   "outputs": [
    {
     "name": "stdout",
     "output_type": "stream",
     "text": [
      "Harwood\n",
      "2\n"
     ]
    }
   ],
   "source": [
    "users = {\n",
    "  'freddy': {\n",
    "    'name': {\n",
    "      'first': 'Fateh',\n",
    "      'last': 'Harwood' \n",
    "    },\n",
    "    'postIds': [1, 2, 3]\n",
    "  }\n",
    "}\n",
    "a=['freddy', 'name', 'last']\n",
    "\n",
    "print(users[\"freddy\"][\"name\"][\"last\"])\n",
    "print(users[\"freddy\"][\"postIds\"][1])"
   ]
  },
  {
   "cell_type": "code",
   "execution_count": null,
   "id": "8d63055c-2fe3-43d9-8ffa-4f7461c94cfc",
   "metadata": {},
   "outputs": [],
   "source": [
    "227. Write a Python program to get the symmetric difference between two lists, after applying the provided function to each list element of both.\n"
   ]
  },
  {
   "cell_type": "code",
   "execution_count": 13,
   "id": "10800aff-d1a6-42b0-9fbd-c1542dad1459",
   "metadata": {},
   "outputs": [
    {
     "name": "stdout",
     "output_type": "stream",
     "text": [
      "{1, 3, 4}\n",
      "[1.2, 3.4, 4.5]\n"
     ]
    }
   ],
   "source": [
    "#22 3:30\n",
    "import math\n",
    "a=[1.2,2.1,2.3]\n",
    "b=[2.3,3.4,4.5]\n",
    "c=[]\n",
    "d=[]\n",
    "for i in a:\n",
    "    c.append(math.floor(i))\n",
    "for i in b:\n",
    "    d.append(math.floor(i))\n",
    "k=set(c)^set(d)\n",
    "print(k)\n",
    "x=[]\n",
    "for i in k:\n",
    "    if i in c:\n",
    "        x.append(a[c.index(i)])\n",
    "    elif i in d:\n",
    "        x.append(b[d.index(i)])\n",
    "      \n",
    "print(x)"
   ]
  },
  {
   "cell_type": "code",
   "execution_count": 3,
   "id": "964986d9-631d-4c45-abed-416a897fa4bf",
   "metadata": {},
   "outputs": [
    {
     "name": "stdout",
     "output_type": "stream",
     "text": [
      "{1, 2, 4, 5, 6}\n"
     ]
    }
   ],
   "source": [
    "228. Write a Python program to get every element that exists in any of the two given lists once, after applying the provided function to each element of both.\n",
    "Sample Output:\n",
    "[2.2, 4.1]"
   ]
  },
  {
   "cell_type": "code",
   "execution_count": 14,
   "id": "4182225c-b31b-46c0-9226-920ac51bd644",
   "metadata": {},
   "outputs": [
    {
     "name": "stdout",
     "output_type": "stream",
     "text": [
      "{2, 4}\n",
      "[2.1, 4.1]\n"
     ]
    }
   ],
   "source": [
    "a=[4.1]\n",
    "b=[2.1,4.3]\n",
    "c=[]\n",
    "d=[]\n",
    "for i in a:\n",
    "    c.append(math.floor(i))\n",
    "for i in b:\n",
    "    d.append(math.floor(i))\n",
    "k=set(c)|set(d)\n",
    "print(k)\n",
    "x=[]\n",
    "for i in k:\n",
    "    if i in c:\n",
    "        x.append(a[c.index(i)])\n",
    "    elif i in d:\n",
    "        x.append(b[d.index(i)])\n",
    "      \n",
    "print(x)"
   ]
  },
  {
   "cell_type": "code",
   "execution_count": null,
   "id": "7a8784bb-343e-4d17-b8c2-c69b2d304edb",
   "metadata": {},
   "outputs": [],
   "source": [
    "229. Write a Python program to find the index of the first element in the given list that satisfies the provided testing function."
   ]
  },
  {
   "cell_type": "code",
   "execution_count": 16,
   "id": "e5a4df42-e1ff-40c2-8ad7-e3fce76876fc",
   "metadata": {},
   "outputs": [
    {
     "name": "stdout",
     "output_type": "stream",
     "text": [
      "2\n"
     ]
    }
   ],
   "source": [
    "a=[1,2,3,4]\n",
    "b=1\n",
    "for i in range(len(a)):\n",
    "    if a[i]%2==b:\n",
    "        print(i)\n",
    "        break\n",
    "    "
   ]
  },
  {
   "cell_type": "code",
   "execution_count": null,
   "id": "640045f4-f28e-44fa-8aee-d47a42d42991",
   "metadata": {},
   "outputs": [],
   "source": [
    "230. Write a Python program to find the indexes of all elements in the given list that satisfy the provided testing function."
   ]
  },
  {
   "cell_type": "code",
   "execution_count": 17,
   "id": "88ab7bfd-267b-4715-a314-2b291d9efbff",
   "metadata": {},
   "outputs": [
    {
     "data": {
      "text/plain": [
       "[0, 2]"
      ]
     },
     "execution_count": 17,
     "metadata": {},
     "output_type": "execute_result"
    }
   ],
   "source": [
    "a=[1,2,3,4]\n",
    "b=1\n",
    "c=[]\n",
    "for i in range(len(a)):\n",
    "    if a[i]%2==b:\n",
    "        c.append(i)\n",
    "c\n",
    "        "
   ]
  },
  {
   "cell_type": "code",
   "execution_count": null,
   "id": "e38b6eb4-175d-4b6a-8424-50b95844f721",
   "metadata": {},
   "outputs": [],
   "source": []
  },
  {
   "cell_type": "code",
   "execution_count": 20,
   "id": "3463ab9f-4072-4306-8dd7-76e5fc968f5a",
   "metadata": {},
   "outputs": [
    {
     "data": {
      "text/plain": [
       "[['red', 'green', 'pink'], ['blue']]"
      ]
     },
     "execution_count": 20,
     "metadata": {},
     "output_type": "execute_result"
    }
   ],
   "source": [
    "a=['red', 'green', 'blue', 'pink']\n",
    "b=[True, True, False, True]\n",
    "c=[i for i,j in zip(a,b) if j==True]\n",
    "d=[i for i,j in zip(a,b) if j==False]\n",
    "e=[c,d]\n",
    "e"
   ]
  },
  {
   "cell_type": "code",
   "execution_count": null,
   "id": "945ab2c1-2711-4937-ad30-14f57b9fd4fc",
   "metadata": {},
   "outputs": [],
   "source": [
    "232. Write a Python program to chunk a given list into smaller lists of a specified size.\n",
    "Sample Output:"
   ]
  },
  {
   "cell_type": "code",
   "execution_count": 23,
   "id": "bc88a4b6-5f89-4060-aa4d-b6f27f27d655",
   "metadata": {},
   "outputs": [
    {
     "data": {
      "text/plain": [
       "[[1, 2, 3], [4, 5, 6], [7, 8]]"
      ]
     },
     "execution_count": 23,
     "metadata": {},
     "output_type": "execute_result"
    }
   ],
   "source": [
    "a=[1, 2, 3, 4, 5, 6, 7, 8]\n",
    "b=3\n",
    "c=[]\n",
    "for i in range(0,len(a),b):\n",
    "    k=a[i:i+b]\n",
    "    c.append(k)\n",
    "c"
   ]
  },
  {
   "cell_type": "code",
   "execution_count": null,
   "id": "a51e56c6-d4bd-4c52-8a3a-222dfc745d13",
   "metadata": {},
   "outputs": [],
   "source": [
    "233. Write a Python program to chunk a given list into n smaller lists.\n",
    "Sample Output:\n",
    "[[1, 2], [3, 4], [5, 6], [7]]"
   ]
  },
  {
   "cell_type": "code",
   "execution_count": null,
   "id": "cc44fdb9-2704-4253-85f2-327647485d7b",
   "metadata": {},
   "outputs": [],
   "source": [
    "[1, 2, 3, 4, 5, 6, 7], 4)"
   ]
  },
  {
   "cell_type": "code",
   "execution_count": 25,
   "id": "e19b7328-d192-4fb9-898f-8bfab2c0c914",
   "metadata": {},
   "outputs": [
    {
     "data": {
      "text/plain": [
       "[[1, 2], [3, 4], [5, 6], [7]]"
      ]
     },
     "execution_count": 25,
     "metadata": {},
     "output_type": "execute_result"
    }
   ],
   "source": [
    "import math\n",
    "a=[1,2,3,4,5,6,7]\n",
    "b=4\n",
    "c=math.ceil(len(a)/b)\n",
    "d=[]\n",
    "for i in range(0,len(a),c):\n",
    "    k=a[i:i+c]\n",
    "    d.append(k)\n",
    "d"
   ]
  },
  {
   "cell_type": "code",
   "execution_count": null,
   "id": "57f49f61-71fb-447e-b8de-871f5b97ac47",
   "metadata": {},
   "outputs": [],
   "source": [
    "234. Write a Python program to convert a given number (integer) to a list of digits."
   ]
  },
  {
   "cell_type": "code",
   "execution_count": 27,
   "id": "bd0b1ad7-e7aa-4146-85a6-7eef83880b9f",
   "metadata": {},
   "outputs": [
    {
     "data": {
      "text/plain": [
       "[1, 2, 3]"
      ]
     },
     "execution_count": 27,
     "metadata": {},
     "output_type": "execute_result"
    }
   ],
   "source": [
    "a=\"123\"\n",
    "b=list(a)\n",
    "c=[]\n",
    "for i in b:\n",
    "    c+=[int(i)]\n",
    "c"
   ]
  },
  {
   "cell_type": "code",
   "execution_count": null,
   "id": "075bf535-da00-4c1b-9841-fdb8770b26b1",
   "metadata": {},
   "outputs": [],
   "source": [
    "235. Write a Python program to find the index of the last element in the given list that satisfies the provided testing function."
   ]
  },
  {
   "cell_type": "code",
   "execution_count": 28,
   "id": "0cd636b7-1247-4d1e-9490-6257b1b058c4",
   "metadata": {},
   "outputs": [
    {
     "data": {
      "text/plain": [
       "2"
      ]
     },
     "execution_count": 28,
     "metadata": {},
     "output_type": "execute_result"
    }
   ],
   "source": [
    "a=[1,2,3,4]\n",
    "b=1\n",
    "c=[]\n",
    "for i in range(len(a)):\n",
    "    if a[i]%2==b:\n",
    "        c.append(i)\n",
    "c[-1]\n"
   ]
  },
  {
   "cell_type": "code",
   "execution_count": null,
   "id": "50a786d2-8ad3-4df3-8553-736913b8daf4",
   "metadata": {},
   "outputs": [],
   "source": [
    "236. Write a Python program to find items that are parity outliers in a given list."
   ]
  },
  {
   "cell_type": "code",
   "execution_count": 30,
   "id": "5dfbe615-e27d-48b2-bd75-65748931cd74",
   "metadata": {},
   "outputs": [
    {
     "name": "stdout",
     "output_type": "stream",
     "text": [
      "[1, 3, 5]\n"
     ]
    }
   ],
   "source": [
    "a=[1,2,3,4,5,6,]\n",
    "even=[]\n",
    "odd=[]\n",
    "for i in a:\n",
    "    if i%2==0:\n",
    "        even.append(i)\n",
    "    else:\n",
    "        odd.append(i)\n",
    "if len(even)<len(odd):\n",
    "    print(even)\n",
    "else:\n",
    "    print(odd)"
   ]
  },
  {
   "cell_type": "code",
   "execution_count": null,
   "id": "cb7e8734-1fcf-4757-821e-968f4b832e1d",
   "metadata": {},
   "outputs": [],
   "source": [
    "237. Write a Python program to convert a given list of dictionaries into a list of values corresponding to the specified key."
   ]
  },
  {
   "cell_type": "code",
   "execution_count": 32,
   "id": "9be3c591-9e3c-4ebc-963f-40498ab4cc73",
   "metadata": {},
   "outputs": [
    {
     "data": {
      "text/plain": [
       "[8, 36, 34, 10]"
      ]
     },
     "execution_count": 32,
     "metadata": {},
     "output_type": "execute_result"
    }
   ],
   "source": [
    "a = [\n",
    "    { 'name': 'Areeba', 'age': 8 },\n",
    "    { 'name': 'Zachariah', 'age': 36 },\n",
    "    { 'name': 'Caspar', 'age': 34 },\n",
    "    { 'name': 'Presley', 'age': 10 }\n",
    "]\n",
    "x=[]\n",
    "for i in a:\n",
    "    x.append(i[\"age\"])\n",
    "x"
   ]
  },
  {
   "cell_type": "code",
   "execution_count": null,
   "id": "f178cf34-15fe-4410-a558-915c817a474e",
   "metadata": {},
   "outputs": [],
   "source": [
    "238. Write a Python program to calculate the average of a given list, after mapping each element to a value using the provided function."
   ]
  },
  {
   "cell_type": "code",
   "execution_count": 34,
   "id": "6db308c0-ba65-42c7-b5c0-956636e42977",
   "metadata": {},
   "outputs": [
    {
     "name": "stdout",
     "output_type": "stream",
     "text": [
      "5.0\n"
     ]
    }
   ],
   "source": [
    "a=[{ 'n': 4 }, { 'n': 2 }, { 'n': 8 }, { 'n': 6 }]\n",
    "k=[]\n",
    "for i in  a:\n",
    "    k.append(i[\"n\"])\n",
    "count=0\n",
    "for i in k:\n",
    "    count+=i\n",
    "print(count/len(k))"
   ]
  },
  {
   "cell_type": "code",
   "execution_count": null,
   "id": "c8b070ad-f804-41fa-ac87-79c96232909b",
   "metadata": {},
   "outputs": [],
   "source": [
    "239. Write a Python program to find the value of the first element in the given list that satisfies the provided testing function."
   ]
  },
  {
   "cell_type": "code",
   "execution_count": 36,
   "id": "e623d050-7e4e-4ff5-99c5-197a3559a1f7",
   "metadata": {},
   "outputs": [
    {
     "data": {
      "text/plain": [
       "1"
      ]
     },
     "execution_count": 36,
     "metadata": {},
     "output_type": "execute_result"
    }
   ],
   "source": [
    "def test(a,b):\n",
    "    for i in range(len(a)):\n",
    "        if a[i]%2==b:\n",
    "             return i\n",
    "x=test([1,2,3,4],0)\n",
    "x\n",
    "         "
   ]
  },
  {
   "cell_type": "code",
   "execution_count": null,
   "id": "ad39d202-4f53-428f-bd11-1d2401931ce1",
   "metadata": {},
   "outputs": [],
   "source": [
    "240. Write a Python program to find the value of the last element in the given list that satisfies the provided testing function."
   ]
  },
  {
   "cell_type": "code",
   "execution_count": 38,
   "id": "ea632ced-796f-4109-86c8-a8a1f619bc23",
   "metadata": {},
   "outputs": [
    {
     "data": {
      "text/plain": [
       "2"
      ]
     },
     "execution_count": 38,
     "metadata": {},
     "output_type": "execute_result"
    }
   ],
   "source": [
    "def test(a,b):\n",
    "    c=[]\n",
    "\n",
    "    for i in range(len(a)):\n",
    "        if a[i]%2==b:\n",
    "             c.append(i)\n",
    "    return c[-1]\n",
    "x=test([1,2,3,4],1)\n",
    "x"
   ]
  },
  {
   "cell_type": "code",
   "execution_count": null,
   "id": "ec953fc4-d13c-499f-b3c4-a3c1a756bf61",
   "metadata": {},
   "outputs": [],
   "source": [
    "241241. Write a Python program to create a dictionary with the unique values of a given list as keys and their frequencies as values."
   ]
  },
  {
   "cell_type": "code",
   "execution_count": 45,
   "id": "4a7c81e4-e0dd-4615-88b1-575477bf4276",
   "metadata": {},
   "outputs": [
    {
     "data": {
      "text/plain": [
       "{'a': 4, 'b': 2, 'f': 2, 'c': 1, 'e': 2}"
      ]
     },
     "execution_count": 45,
     "metadata": {},
     "output_type": "execute_result"
    }
   ],
   "source": [
    "a=['a', 'b', 'f', 'a', 'c', 'e', 'a', 'a', 'b', 'e', 'f']\n",
    "b=[3, 4, 7, 5, 9, 3, 4, 5, 0, 3, 2, 3]\n",
    "c={}\n",
    "for i in range(len(a)):\n",
    "    if a[i] not in c:\n",
    "        c[a[i]]=a.count(a[i])\n",
    "    \n",
    "   \n",
    "c"
   ]
  },
  {
   "cell_type": "code",
   "execution_count": null,
   "id": "30735a22-3234-49ca-b1e8-86f6208998c5",
   "metadata": {},
   "outputs": [],
   "source": []
  },
  {
   "cell_type": "code",
   "execution_count": 54,
   "id": "a175699a-ea4a-448f-b5cb-892d51bbd142",
   "metadata": {},
   "outputs": [
    {
     "name": "stdout",
     "output_type": "stream",
     "text": [
      "[30, 40]\n"
     ]
    }
   ],
   "source": [
    "a=[10, 20, 30]\n",
    "b=[10, 20, 40]\n",
    "c=[]\n",
    "d=[]\n",
    "for i in a:\n",
    "    if i not in b:\n",
    "        c.append(i)\n",
    "for i in b:\n",
    "    if i not in a:\n",
    "        d.append(i)\n",
    "print(c+d)"
   ]
  },
  {
   "cell_type": "code",
   "execution_count": null,
   "id": "d5429a97-e488-4608-8f06-5821c512f919",
   "metadata": {},
   "outputs": [],
   "source": [
    "243. Write a Python program to check if a given function returns True for every element in a list."
   ]
  },
  {
   "cell_type": "code",
   "execution_count": 59,
   "id": "fba78145-6515-47cf-a908-f93ee44107b8",
   "metadata": {},
   "outputs": [
    {
     "name": "stdout",
     "output_type": "stream",
     "text": [
      "True\n",
      "False\n",
      "False\n"
     ]
    }
   ],
   "source": [
    "def testing(a,b,c):\n",
    "    if b==\"greater\":\n",
    "        count=0\n",
    "        for i in a:\n",
    "            if i>c:\n",
    "                count+=1\n",
    "        if count==len(a):\n",
    "            print(\"True\")\n",
    "        else:\n",
    "            print(\"False\")\n",
    "    elif b==\"lesser\":\n",
    "            count=0\n",
    "            for i in a:\n",
    "                if i<c:\n",
    "                    count+=1\n",
    "            if count==len(a):\n",
    "                print(\"True\")\n",
    "            else:\n",
    "                print(\"False\")\n",
    "    else:\n",
    "        if b==\"equals\":\n",
    "            count=0\n",
    "            for i in a:\n",
    "                if i==c:\n",
    "                    count+=1\n",
    "            if count==len(a):\n",
    "                print(\"True\")\n",
    "            else:\n",
    "                print(\"False\")\n",
    "testing([4,2,3],\"greater\",1)\n",
    "testing([4,2,3],\"lesser\",1)\n",
    "testing([4,2,3],\"equals\",1)"
   ]
  },
  {
   "cell_type": "code",
   "execution_count": null,
   "id": "f1e2674b-42b8-4a15-bd41-a206d2c6a161",
   "metadata": {},
   "outputs": [],
   "source": [
    "244. Write a Python program to initialize a list containing the numbers in the specified range where start and end are inclusive \n",
    "and the ratio between two terms is step.\n",
    "Return an error if step equals 1."
   ]
  },
  {
   "cell_type": "code",
   "execution_count": 74,
   "id": "1d1a9062-860c-4e24-9e49-960042101e91",
   "metadata": {},
   "outputs": [
    {
     "name": "stdout",
     "output_type": "stream",
     "text": [
      "[2, 4, 6, 8, 10, 12, 14, 16, 18, 20, 22, 24, 26, 28, 30, 32, 34, 36, 38, 40, 42, 44, 46, 48, 50, 52, 54, 56, 58, 60, 62, 64, 66, 68, 70, 72, 74, 76, 78, 80, 82, 84, 86, 88, 90, 92, 94, 96, 98, 100, 102, 104, 106, 108, 110, 112, 114, 116, 118, 120, 122, 124, 126, 128, 130, 132, 134, 136, 138, 140, 142, 144, 146, 148, 150, 152, 154, 156, 158, 160, 162, 164, 166, 168, 170, 172, 174, 176, 178, 180, 182, 184, 186, 188, 190, 192, 194, 196, 198, 200, 202, 204, 206, 208, 210, 212, 214, 216, 218, 220, 222, 224, 226, 228, 230, 232, 234, 236, 238, 240, 242, 244, 246, 248, 250, 252, 254, 256]\n"
     ]
    }
   ],
   "source": [
    "def ratio(num,start=1,step=2):\n",
    "    l=[]\n",
    "    i=start\n",
    "    while i<=num:\n",
    "        k=i*step\n",
    "        if k<=num:\n",
    "            l.append(k)\n",
    "        else:\n",
    "            break\n",
    "        i+=1\n",
    "    return l\n",
    "print(ratio(256))\n",
    "    "
   ]
  },
  {
   "cell_type": "code",
   "execution_count": null,
   "id": "b72cdb5c-0a73-4bab-9f79-5d93ff2dbc98",
   "metadata": {},
   "outputs": [],
   "source": [
    "245. Write a Python program that takes any number of iterable objects or objects with a length property \n",
    "and returns the longest one."
   ]
  },
  {
   "cell_type": "code",
   "execution_count": 84,
   "id": "5e3817d4-48c5-40b1-8610-ec4ac9716eca",
   "metadata": {},
   "outputs": [
    {
     "name": "stdout",
     "output_type": "stream",
     "text": [
      "def\n"
     ]
    }
   ],
   "source": [
    "def long(a):\n",
    "    c=[]\n",
    "    for i in a:\n",
    "        c.append(len(i))\n",
    "    #d=a.index(max(c))\n",
    "    k=c.index(max(c))\n",
    "    print(a[k])\n",
    "long([\"a\",\"bc\",\"def\"])\n"
   ]
  },
  {
   "cell_type": "code",
   "execution_count": null,
   "id": "82a96f54-6186-4bea-b41e-7a6c0ee7f9a7",
   "metadata": {},
   "outputs": [],
   "source": [
    "246. Write a Python program to check if a given function returns True for at least one element in the list."
   ]
  },
  {
   "cell_type": "code",
   "execution_count": 86,
   "id": "69cfe3b4-d86e-47cb-85aa-24122d2b40ef",
   "metadata": {},
   "outputs": [
    {
     "name": "stdout",
     "output_type": "stream",
     "text": [
      "True\n",
      "False\n",
      "True\n"
     ]
    }
   ],
   "source": [
    "def testing(a,b,c):\n",
    "    if b==\"greater\":\n",
    "        count=0\n",
    "        for i in a:\n",
    "            if i>c:\n",
    "                count+=1\n",
    "        if count>=1:\n",
    "            print(\"True\")\n",
    "        else:\n",
    "            print(\"False\")\n",
    "    elif b==\"lesser\":\n",
    "            count=0\n",
    "            for i in a:\n",
    "                if i<c:\n",
    "                    count+=1\n",
    "            if count>=1:\n",
    "                print(\"True\")\n",
    "            else:\n",
    "                print(\"False\")\n",
    "    else:\n",
    "        if b==\"equals\":\n",
    "            count=0\n",
    "            for i in a:\n",
    "                if i==c:\n",
    "                    count+=1\n",
    "            if count>=1:\n",
    "                print(\"True\")\n",
    "            else:\n",
    "                print(\"False\")\n",
    "testing([4,2,3],\"greater\",1)\n",
    "testing([4,2,3],\"lesser\",1)\n",
    "testing([4,2,3,1],\"equals\",1)"
   ]
  },
  {
   "cell_type": "code",
   "execution_count": null,
   "id": "7dedddf2-9bcb-4bc5-a782-be1790da58de",
   "metadata": {},
   "outputs": [],
   "source": [
    "247. Write a Python program to calculate the difference between two iterables, without filtering duplicate"
   ]
  },
  {
   "cell_type": "code",
   "execution_count": 90,
   "id": "737140c1-c1cb-4318-a061-07d6afb20f78",
   "metadata": {},
   "outputs": [
    {
     "data": {
      "text/plain": [
       "[5]"
      ]
     },
     "execution_count": 90,
     "metadata": {},
     "output_type": "execute_result"
    }
   ],
   "source": [
    "a=[1,2,3,5]\n",
    "b=[1,2,3,4]\n",
    "c=[]\n",
    "for i in a:\n",
    "    if i not in b:\n",
    "        c.append(i)\n",
    "c"
   ]
  },
  {
   "cell_type": "code",
   "execution_count": null,
   "id": "0dacfcc2-c408-4484-9330-ec8a4e449fd8",
   "metadata": {},
   "outputs": [],
   "source": [
    "248.Write a Python program to get the maximum value of a list, \n",
    "after mapping each element to a value using a given function."
   ]
  },
  {
   "cell_type": "code",
   "execution_count": 91,
   "id": "6cfcf82d-2ab4-4f51-99aa-b6278a345324",
   "metadata": {},
   "outputs": [
    {
     "name": "stdout",
     "output_type": "stream",
     "text": [
      "8\n"
     ]
    }
   ],
   "source": [
    "a=[{ 'n': 4 }, { 'n': 2 }, { 'n': 8 }, { 'n': 6 }]\n",
    "b=[]\n",
    "for i in a:\n",
    "    b.append(i[\"n\"])\n",
    "print(max(b))"
   ]
  },
  {
   "cell_type": "code",
   "execution_count": null,
   "id": "814cf114-0dd7-4dcb-a17f-63512dc6adac",
   "metadata": {},
   "outputs": [],
   "source": [
    "249. Write a Python program to get the minimum value of a list, after mapping each element to a value using a given function."
   ]
  },
  {
   "cell_type": "code",
   "execution_count": 92,
   "id": "c534e184-3122-4559-83b3-63c2f6a2d44d",
   "metadata": {},
   "outputs": [
    {
     "name": "stdout",
     "output_type": "stream",
     "text": [
      "2\n"
     ]
    }
   ],
   "source": [
    "a=[{ 'n': 4 }, { 'n': 2 }, { 'n': 8 }, { 'n': 6 }]\n",
    "b=[]\n",
    "for i in a:\n",
    "    b.append(i[\"n\"])\n",
    "print(min(b))"
   ]
  },
  {
   "cell_type": "code",
   "execution_count": null,
   "id": "2b09af04-58b3-4fba-ad60-e2fbda317b83",
   "metadata": {},
   "outputs": [],
   "source": [
    "250. Write a Python program to calculate the sum of a list, after mapping each element to a value using the provided function.\n",
    "Sample Output:\n"
   ]
  },
  {
   "cell_type": "code",
   "execution_count": null,
   "id": "115142fa-a7c9-4f50-9d61-ff8ab1aecd0d",
   "metadata": {},
   "outputs": [],
   "source": [
    "a=[{ 'n': 4 }, { 'n': 2 }, { 'n': 8 }, { 'n': 6 }]\n",
    "b=[]\n",
    "for i in a:\n",
    "    b.append(i[\"n\"])\n",
    "print(sum(b))"
   ]
  },
  {
   "cell_type": "code",
   "execution_count": 95,
   "id": "7211aa0c-7e3e-4500-9516-94374e271727",
   "metadata": {},
   "outputs": [
    {
     "name": "stdout",
     "output_type": "stream",
     "text": [
      "20\n"
     ]
    }
   ],
   "source": [
    "a=[{ 'n': 4 }, { 'n': 2 }, { 'n': 8 }, { 'n1': 6 }]\n",
    "c=[]\n",
    "for i in a:\n",
    "    for j in i.keys():\n",
    "        c.append(i[j])\n",
    "print(sum(c))\n",
    "        \n",
    "    "
   ]
  },
  {
   "cell_type": "code",
   "execution_count": null,
   "id": "a8630961-8e01-471b-9f20-37b15c05ccd9",
   "metadata": {},
   "outputs": [],
   "source": [
    "251. Write a Python program that fills a list with the specified value."
   ]
  },
  {
   "cell_type": "code",
   "execution_count": 96,
   "id": "d8426baa-ba70-4737-b5e8-bf74006cb68c",
   "metadata": {},
   "outputs": [
    {
     "name": "stdout",
     "output_type": "stream",
     "text": [
      "[2.3, 2.3, 2.3, 2.3, 2.3]\n"
     ]
    }
   ],
   "source": [
    "def testing(n,value):\n",
    "    k=[]\n",
    "    for i in range(n):\n",
    "        k.append(value)\n",
    "    return k\n",
    "print(testing(5,2.3))"
   ]
  },
  {
   "cell_type": "code",
   "execution_count": null,
   "id": "d1b69561-4f54-4459-b504-3b8d94373950",
   "metadata": {},
   "outputs": [],
   "source": [
    "252. Write a Python program to get the n maximum elements from a given list of numbers.\n",
    "Sample Output:\n",
    "Original list elements:\n",
    "[1, 2, 3]\n",
    "Maximum values of the said list: [3]\n",
    "Original list elements:\n",
    "[1, 2, 3]\n",
    "Two maximum values of the said list: [3, 2]\n",
    "Original list elements:\n",
    "[-2, -3, -1, -2, -4, 0, -5]\n",
    "Threee maximum values of the said list: [0, -1, -2]\n",
    "Original list elements:\n",
    "[2.2, 2, 3.2, 4.5, 4.6, 5.2, 2.9]\n",
    "Two maximum values of the said list: [5.2, 4.6]"
   ]
  },
  {
   "cell_type": "code",
   "execution_count": 128,
   "id": "8b00c5ff-3572-473d-97c2-e3034315aff2",
   "metadata": {},
   "outputs": [
    {
     "name": "stdin",
     "output_type": "stream",
     "text": [
      " 2\n"
     ]
    },
    {
     "data": {
      "text/plain": [
       "[5.2, 4.6]"
      ]
     },
     "execution_count": 128,
     "metadata": {},
     "output_type": "execute_result"
    }
   ],
   "source": [
    "a=[2.2, 2, 3.2, 4.5, 4.6, 5.2, 2.9]\n",
    "b=[]\n",
    "c=int(input())\n",
    "i11=0\n",
    "y=0\n",
    "while i11<c:\n",
    "    k=a[0]\n",
    "    for i in range(len(a)):\n",
    "        if a[i]>k:\n",
    "            k=a[i]\n",
    "            y=i\n",
    "    b.append(k)\n",
    "    a[y]=-999999\n",
    "    i11=i11+1\n",
    "b"
   ]
  },
  {
   "cell_type": "code",
   "execution_count": null,
   "id": "dd816273-7bf8-446c-9229-ab4fd4140212",
   "metadata": {},
   "outputs": [],
   "source": [
    "253. Write a Python program to get the n minimum elements from a given list of numbers.\n",
    "Sample Output:\n",
    "Original list elements:\n",
    "[1, 2, 3]\n",
    "Minimum values of the said list: [1]\n",
    "Original list elements:\n",
    "[1, 2, 3]\n",
    "Two minimum values of the said list: [1, 2]\n",
    "Original list elements:\n",
    "[-2, -3, -1, -2, -4, 0, -5]\n",
    "Threee minimum values of the said list: [-5, -4, -3]\n",
    "Original list elements:\n",
    "[2.2, 2, 3.2, 4.5, 4.6, 5.2, 2.9]\n",
    "Two minimum values of the said list: [2, 2.2]"
   ]
  },
  {
   "cell_type": "code",
   "execution_count": 129,
   "id": "904fcc98-a158-4c04-ad9c-e964ed29a231",
   "metadata": {},
   "outputs": [
    {
     "name": "stdin",
     "output_type": "stream",
     "text": [
      " 2\n"
     ]
    },
    {
     "data": {
      "text/plain": [
       "[2, 2.2]"
      ]
     },
     "execution_count": 129,
     "metadata": {},
     "output_type": "execute_result"
    }
   ],
   "source": [
    "a=[2.2, 2, 3.2, 4.5, 4.6, 5.2, 2.9]\n",
    "b=[]\n",
    "c=int(input())\n",
    "i11=0\n",
    "y=0\n",
    "while i11<c:\n",
    "    k=a[0]\n",
    "    for i in range(len(a)):\n",
    "        if a[i]<k:\n",
    "            k=a[i]\n",
    "            y=i\n",
    "    b.append(k)\n",
    "    a[y]=+999999\n",
    "    i11=i11+1\n",
    "b"
   ]
  },
  {
   "cell_type": "code",
   "execution_count": null,
   "id": "5db03f99-c95a-4c3e-9a52-968f578c8eca",
   "metadata": {},
   "outputs": [],
   "source": [
    "254. Write a Python program to get the weighted average of two or more numbers.\n",
    "Sample Output:\n",
    "Original list elements:\n",
    "[10, 50, 40]\n",
    "[2, 5, 3]\n",
    "Weighted average of the said two list of numbers:\n",
    "39.0\n",
    "Original list elements:\n",
    "[82, 90, 76, 83]\n",
    "[0.2, 0.35, 0.45, 32]\n",
    "Weighted average of the said two list of numbers:\n",
    "82.97272727272727"
   ]
  },
  {
   "cell_type": "code",
   "execution_count": 131,
   "id": "11991bcf-b022-4907-96b3-1361492df928",
   "metadata": {},
   "outputs": [
    {
     "name": "stdout",
     "output_type": "stream",
     "text": [
      "82.97272727272727\n"
     ]
    }
   ],
   "source": [
    "a=[82, 90, 76, 83]\n",
    "b=[0.2, 0.35, 0.45, 32]\n",
    "c=sum(b)\n",
    "count=0\n",
    "for i ,j in zip(a,b):\n",
    "    count=count+i*j\n",
    "print(count/c)\n",
    "    "
   ]
  },
  {
   "cell_type": "code",
   "execution_count": null,
   "id": "b4c512e1-a700-443b-89a8-8158b03cf1a4",
   "metadata": {},
   "outputs": [],
   "source": [
    "255. Write a Python program to perform a deep flattening of a list.\n",
    "Sample Output:\n",
    "Original list elements:\n",
    "[1, [2], [[3], [4], 5], 6]\n",
    "Deep flatten the said list:\n",
    "[1, 2, 3, 4, 5, 6]\n",
    "Original list elements:\n",
    "[[[1, 2, 3], [4, 5]], 6]\n",
    "Deep flatten the said list:\n",
    "[1, 2, 3, 4, 5, 6]"
   ]
  },
  {
   "cell_type": "code",
   "execution_count": 139,
   "id": "c1c5e74e-a26b-468b-b3a7-616c1c7b433d",
   "metadata": {},
   "outputs": [
    {
     "ename": "TypeError",
     "evalue": "object of type 'int' has no len()",
     "output_type": "error",
     "traceback": [
      "\u001b[1;31m---------------------------------------------------------------------------\u001b[0m",
      "\u001b[1;31mTypeError\u001b[0m                                 Traceback (most recent call last)",
      "Cell \u001b[1;32mIn[139], line 4\u001b[0m\n\u001b[0;32m      2\u001b[0m b\u001b[38;5;241m=\u001b[39m[]\n\u001b[0;32m      3\u001b[0m \u001b[38;5;28;01mfor\u001b[39;00m i \u001b[38;5;129;01min\u001b[39;00m a:\n\u001b[1;32m----> 4\u001b[0m     \u001b[38;5;28;01mif\u001b[39;00m \u001b[38;5;28;43mlen\u001b[39;49m\u001b[43m(\u001b[49m\u001b[43mi\u001b[49m\u001b[43m)\u001b[49m\u001b[38;5;241m==\u001b[39m\u001b[38;5;241m1\u001b[39m:\n\u001b[0;32m      5\u001b[0m         \u001b[38;5;28mprint\u001b[39m(i)\n",
      "\u001b[1;31mTypeError\u001b[0m: object of type 'int' has no len()"
     ]
    }
   ],
   "source": [
    "\n",
    "   "
   ]
  },
  {
   "cell_type": "code",
   "execution_count": null,
   "id": "b59288ae-15fb-4f30-8650-629e1107087e",
   "metadata": {},
   "outputs": [],
   "source": [
    "257. Write a Python program to check if two given lists contain the same elements regardless of order.\n",
    "Sample Output:\n",
    "Original list elements:\n",
    "[1, 2, 4]\n",
    "[2, 4, 1]\n",
    "Check two said lists contain the same elements regardless of order!\n",
    "True\n",
    "Original list elements:\n",
    "[1, 2, 3]\n",
    "[1, 2, 3]\n",
    "Check two said lists contain the same elements regardless of order!\n",
    "True\n",
    "Original list elements:\n",
    "[1, 2, 3]\n",
    "[1, 2, 4]\n",
    "Check two said lists contain the same elements regardless of order!"
   ]
  },
  {
   "cell_type": "code",
   "execution_count": 151,
   "id": "d6be56b3-f826-4076-8b60-7a5d0af90adc",
   "metadata": {},
   "outputs": [
    {
     "name": "stdout",
     "output_type": "stream",
     "text": [
      "not same\n"
     ]
    }
   ],
   "source": [
    "a=[1, 2, 3]\n",
    "b=[1, 2, 4]\n",
    "c=[]\n",
    "count=0\n",
    "for i in b:\n",
    "    c+=[0]\n",
    "for i in range(len(a)):           \n",
    "    for j in range(len(a)):\n",
    "        if a[i]==b[j] and c[j]==0:\n",
    "            count+=1\n",
    "            c[j]=-1\n",
    "            break\n",
    "\n",
    "if count==len(a):\n",
    "    print(\"same\")\n",
    "else:\n",
    "    print(\"not same\")\n",
    "        "
   ]
  },
  {
   "cell_type": "code",
   "execution_count": null,
   "id": "e05fd411-2a25-41c4-bc9e-d92ea796d5dd",
   "metadata": {},
   "outputs": [],
   "source": [
    "258. Write a Python program to create a flat list of all the keys in a flat dictionary.\n",
    "Sample Output:\n",
    "Original directory elements:\n",
    "{'Laura': 10, 'Spencer': 11, 'Bridget': 9, 'Howard ': 10}\n",
    "Flat list of all the keys of the said dictionary:\n",
    "['Laura', 'Spencer', 'Bridget', 'Howard ']"
   ]
  },
  {
   "cell_type": "code",
   "execution_count": 152,
   "id": "1e253714-c8ec-44ff-bd61-83877f3a5394",
   "metadata": {},
   "outputs": [
    {
     "data": {
      "text/plain": [
       "['Laura', 'Spencer', 'Bridget', 'Howard ']"
      ]
     },
     "execution_count": 152,
     "metadata": {},
     "output_type": "execute_result"
    }
   ],
   "source": [
    "a={'Laura': 10, 'Spencer': 11, 'Bridget': 9, 'Howard ': 10}\n",
    "b=list(a.keys())\n",
    "b"
   ]
  },
  {
   "cell_type": "code",
   "execution_count": null,
   "id": "d2126ffc-b833-4cd4-8610-8c6126f7b8b9",
   "metadata": {},
   "outputs": [],
   "source": [
    "259. Write a Python program to check if a given function returns True for at least one element in the list."
   ]
  },
  {
   "cell_type": "code",
   "execution_count": 154,
   "id": "2bfeaa68-809d-4075-9f6d-138cc254f0b4",
   "metadata": {},
   "outputs": [
    {
     "name": "stdout",
     "output_type": "stream",
     "text": [
      "False\n"
     ]
    }
   ],
   "source": [
    "def testing(a,b,c):\n",
    "    if b==\"greater\":\n",
    "        count=0\n",
    "        for i in a:\n",
    "            if i>c:\n",
    "                count+=1\n",
    "        if count>=1:\n",
    "            print(\"False\")\n",
    "        else:\n",
    "            print(\"True\")\n",
    "    elif b==\"lesser\":\n",
    "            count=0\n",
    "            for i in a:\n",
    "                if i<c:\n",
    "                    count+=1\n",
    "            if count>=1:\n",
    "                print(\"False\")\n",
    "            else:\n",
    "                print(\"True\")\n",
    "    else:\n",
    "        if b==\"equals\":\n",
    "            count=0\n",
    "            for i in a:\n",
    "                if i==c:\n",
    "                    count+=1\n",
    "            if count>=1:\n",
    "                print(\"F\")\n",
    "            else:\n",
    "                print(\"T\")\n",
    "testing([1,0,2,3],\"greater\",2)"
   ]
  },
  {
   "cell_type": "code",
   "execution_count": null,
   "id": "84415dea-b495-427c-b479-3ffa17f95f30",
   "metadata": {},
   "outputs": [],
   "source": [
    "260. Write a Python program to check if all the elements of a list are included in another given list."
   ]
  },
  {
   "cell_type": "code",
   "execution_count": 156,
   "id": "b9a4eca5-1133-4e09-8048-8815eb525b1f",
   "metadata": {},
   "outputs": [
    {
     "name": "stdout",
     "output_type": "stream",
     "text": [
      "not same\n"
     ]
    }
   ],
   "source": [
    "a=[10, 20, 30, 40, 50, 60]\n",
    "b=[20, 140]\n",
    "count=0\n",
    "for i in b:\n",
    "    if i in a:\n",
    "        count+=1\n",
    "if count==len(b):\n",
    "    print(\"same\")\n",
    "else:\n",
    "    print(\"not same\")"
   ]
  },
  {
   "cell_type": "code",
   "execution_count": null,
   "id": "9b7c4412-7840-42fe-bb11-eb13c7d258fb",
   "metadata": {},
   "outputs": [],
   "source": [
    "261. Write a Python program to get the most frequent element in a given list of numbers.\n",
    "Sample Output:\n",
    "2\n",
    "Original list:\n",
    "[2, 3, 8, 4, 7, 9, 8, 2, 6, 5, 1, 6, 1, 2, 3, 2, 4, 6, 9, 1, 2]\n",
    "Item with maximum frequency of the said list:\n",
    "2\n",
    "Original list:\n",
    "[1, 2, 3, 1, 2, 3, 2, 1, 4, 3, 3]\n",
    "Item with maximum frequency of the said list:\n",
    "3"
   ]
  },
  {
   "cell_type": "code",
   "execution_count": 180,
   "id": "c758d667-5949-4281-b8d1-a03308059925",
   "metadata": {},
   "outputs": [
    {
     "data": {
      "text/plain": [
       "2"
      ]
     },
     "execution_count": 180,
     "metadata": {},
     "output_type": "execute_result"
    }
   ],
   "source": [
    "a=[2, 3, 8, 4, 7, 9, 8, 2, 6, 5, 1, 6, 1, 2, 3, 2, 4, 6, 9, 1, 2]\n",
    "b={}\n",
    "for i in a:\n",
    "    if i not in b:\n",
    "        b[i]=1\n",
    "    else:\n",
    "        b[i]+=1\n",
    "c=list(b.keys())\n",
    "d=list(b.values())\n",
    "max=d[0]\n",
    "for i in d:\n",
    "    if i>max:\n",
    "        max=i\n",
    "x=d.index(max)\n",
    "c[x]"
   ]
  },
  {
   "cell_type": "code",
   "execution_count": null,
   "id": "d0a62d53-3ef3-4dcf-bd3c-ac5a74892e74",
   "metadata": {},
   "outputs": [],
   "source": [
    "262. Write a Python program to move the specified number of elements to the end of the given list.\n",
    "Sample Output:\n",
    "[4, 5, 6, 7, 8, 1, 2, 3]\n",
    "[6, 7, 8, 1, 2, 3, 4, 5]\n",
    "[1, 2, 3, 4, 5, 6, 7, 8]\n",
    "[1, 2, 3, 4, 5, 6, 7, 8]\n",
    "[8, 1, 2, 3, 4, 5, 6, 7]\n",
    "[2, 3, 4, 5, 6, 7, 8, 1]"
   ]
  },
  {
   "cell_type": "code",
   "execution_count": 189,
   "id": "5446ff1a-6bdf-4ee0-a82d-e928e7931d9b",
   "metadata": {},
   "outputs": [
    {
     "name": "stdout",
     "output_type": "stream",
     "text": [
      "[8, 1, 2, 3, 4, 5, 6, 7]\n"
     ]
    }
   ],
   "source": [
    "a=[1, 2, 3, 4, 5, 6, 7, 8]\n",
    "b=7\n",
    "c=a[:b]\n",
    "d=a[b:]\n",
    "print(d+c)"
   ]
  },
  {
   "cell_type": "code",
   "execution_count": null,
   "id": "c4f86917-e905-4252-ad24-a6a5570a7fd7",
   "metadata": {},
   "outputs": [],
   "source": [
    "263. Write a Python program to move the specified number of elements to the start of the given list.\n",
    "Sample Output:\n",
    "[4, 5, 6, 7, 8, 1, 2, 3]\n",
    "[6, 7, 8, 1, 2, 3, 4, 5]\n",
    "[1, 2, 3, 4, 5, 6, 7, 8]\n",
    "[1, 2, 3, 4, 5, 6, 7, 8]\n",
    "[8, 1, 2, 3, 4, 5, 6, 7]\n",
    "[2, 3, 4, 5, 6, 7, 8, 1]"
   ]
  },
  {
   "cell_type": "code",
   "execution_count": null,
   "id": "a37f4d91-6b04-445e-86ed-7adb15e49880",
   "metadata": {},
   "outputs": [],
   "source": [
    "a=[1, 2, 3, 4, 5, 6, 7, 8]\n",
    "b=7\n",
    "c=a[:b]\n",
    "d=a[b:]\n",
    "print(d+c)"
   ]
  },
  {
   "cell_type": "code",
   "execution_count": null,
   "id": "109e7a6e-2fba-45f5-a434-a37108bea8e3",
   "metadata": {},
   "outputs": [],
   "source": [
    "264. Write a Python program to create a two-dimensional list from a given list of lists.\n",
    "Sample Output:\n",
    "[(1, 4, 7, 10), (2, 5, 8, 11), (3, 6, 9, 12)]\n",
    "[(1, 4), (2, 5)]"
   ]
  },
  {
   "cell_type": "code",
   "execution_count": 190,
   "id": "94efad86-e222-40d0-b0a6-f2a38aa73057",
   "metadata": {},
   "outputs": [
    {
     "name": "stdout",
     "output_type": "stream",
     "text": [
      "[1, 2, 3]\n",
      "[4, 5, 6]\n",
      "[7, 8, 9]\n",
      "[10, 11, 12]\n"
     ]
    }
   ],
   "source": [
    "a=[[1, 2, 3], [4, 5, 6], [7, 8, 9], [10, 11, 12]]\n",
    "c=[]\n",
    "for i in range(len(a)):\n",
    "    b=[]\n",
    "    for j in range(len(a)):\n",
    "        "
   ]
  },
  {
   "cell_type": "code",
   "execution_count": null,
   "id": "ee9c2168-abb4-4614-a4fd-288c982698aa",
   "metadata": {},
   "outputs": [],
   "source": [
    "265. Write a Python program to generate a list containing the Fibonacci sequence, up until the nth term.\n",
    "Sample Output:\n",
    "First 7 Fibonacci numbers:\n",
    "[0, 1, 1, 2, 3, 5, 8, 13]\n",
    "First 15 Fibonacci numbers:\n",
    "[0, 1, 1, 2, 3, 5, 8, 13, 21, 34, 55, 89, 144, 233, 377, 610]\n",
    "First 50 Fibonacci numbers:\n",
    "[0, 1, 1, 2, 3, 5, 8, 13, 21, 34, 55, 89, 144, 233, 377, 610, 987, 1597, 2584, 4181, 6765, 10946, 17711, 28657, 46368,\n",
    " 75025, 121393, 196418, 317811, 514229, 832040, 1346269, 2178309, \n",
    " 3524578, 5702887, 9227465, 14930352, 24157817, 39088169, 63245986, 102334155, 165580141, 267914296, 433494"
   ]
  },
  {
   "cell_type": "code",
   "execution_count": 196,
   "id": "38f49758-5863-4b22-b22f-7a0ce3d2a27e",
   "metadata": {},
   "outputs": [
    {
     "name": "stdin",
     "output_type": "stream",
     "text": [
      " 15\n"
     ]
    },
    {
     "data": {
      "text/plain": [
       "[0, 1, 1, 2, 3, 5, 8, 13, 21, 34, 55, 89, 144, 233, 377, 610]"
      ]
     },
     "execution_count": 196,
     "metadata": {},
     "output_type": "execute_result"
    }
   ],
   "source": [
    "a=int(input())\n",
    "n1=0\n",
    "n2=1\n",
    "b=[]\n",
    "b.append(n1)\n",
    "b.append(n2)\n",
    "for i in range(a-1):\n",
    "    n3=n1+n2\n",
    "    b.append(n3)\n",
    "    n1=n2\n",
    "    n2=n3\n",
    "b\n"
   ]
  },
  {
   "cell_type": "code",
   "execution_count": null,
   "id": "a8db3c0b-70c4-46bd-b718-44ea2afe6bd8",
   "metadata": {},
   "outputs": [],
   "source": [
    "266. Write a Python program to cast the provided value as a list if it's not one.\n",
    "Sample Output:\n",
    "<class 'list'>\n",
    "[1]\n",
    "<class 'tuple'>\n",
    "['Red', 'Green']\n",
    "<class 'set'>\n",
    "['Green', 'Red']\n",
    "<class 'dict'>\n",
    "[1, 2, 3]"
   ]
  },
  {
   "cell_type": "code",
   "execution_count": 202,
   "id": "1aef1116-5f46-437a-ae48-ebb816189c4b",
   "metadata": {},
   "outputs": [
    {
     "name": "stdout",
     "output_type": "stream",
     "text": [
      "<class 'list'>\n",
      "[1, 2, 3]\n"
     ]
    }
   ],
   "source": [
    "a=[1,2,3]\n",
    "print(type(a))\n",
    "print(a)"
   ]
  },
  {
   "cell_type": "code",
   "execution_count": null,
   "id": "1d7b292b-0743-4924-a893-3a54c9be4e6b",
   "metadata": {},
   "outputs": [],
   "source": [
    "267. Write a Python program to get the cumulative sum of the elements of a given list.\n",
    "Sample Output:\n",
    "Original list elements:\n",
    "[1, 2, 3, 4]\n",
    "Cumulative sum of the elements of the said list:\n",
    "[1, 3, 6, 10]\n",
    "Original list elements:\n",
    "[-1, -2, -3, 4]\n",
    "Cumulative sum of the elements of the said list:\n",
    "[-1, -3, -6, -2]"
   ]
  },
  {
   "cell_type": "code",
   "execution_count": 204,
   "id": "f9f952f0-13d8-4464-9758-3e0749da2b19",
   "metadata": {},
   "outputs": [
    {
     "data": {
      "text/plain": [
       "[-1, -3, -6, -2]"
      ]
     },
     "execution_count": 204,
     "metadata": {},
     "output_type": "execute_result"
    }
   ],
   "source": [
    "a=[-1, -2, -3, 4]\n",
    "b=[]\n",
    "count=0\n",
    "for i in a:\n",
    "    count+=i\n",
    "    b.append(count)\n",
    "b"
   ]
  },
  {
   "cell_type": "code",
   "execution_count": null,
   "id": "71e5ea9a-f3e9-4ea1-9d55-754ea9a2d13e",
   "metadata": {},
   "outputs": [],
   "source": [
    "268. Write a Python program to get a list with n elements removed from the left and right.\n",
    "Sample Output:\n",
    "Original list elements:\n",
    "[1, 2, 3]\n",
    "Remove 1 element from left of the said list:\n",
    "[2, 3]\n",
    "Remove 1 element from right of the said list:\n",
    "[1, 2]\n",
    "Original list elements:\n",
    "[1, 2, 3, 4]\n",
    "Remove 2 elements from left of the said list:\n",
    "[3, 4]\n",
    "Remove 2 elements from right of the said list:\n",
    "[1, 2]\n",
    "Original list elements:\n",
    "[1, 2, 3, 4, 5, 6]\n",
    "Remove 7 elements from left of the said list:\n",
    "[2, 3, 4, 5, 6]"
   ]
  },
  {
   "cell_type": "code",
   "execution_count": 210,
   "id": "c16501dd-e315-49de-97cc-0d3f6c6d5c7a",
   "metadata": {},
   "outputs": [
    {
     "name": "stdin",
     "output_type": "stream",
     "text": [
      " 7\n"
     ]
    },
    {
     "name": "stdout",
     "output_type": "stream",
     "text": [
      "1\n",
      "[2, 3, 4, 5, 6]\n",
      "[1, 2, 3, 4, 5]\n"
     ]
    }
   ],
   "source": [
    "a=[1, 2, 3,4,5,6]\n",
    "b=int(input())\n",
    "c=b%len(a)\n",
    "print(c)\n",
    "print(a[c:])\n",
    "print(a[:len(a)-c])"
   ]
  },
  {
   "cell_type": "code",
   "execution_count": null,
   "id": "14ccb53f-39d7-48cd-9de2-0b89fd01e5d1",
   "metadata": {},
   "outputs": [],
   "source": [
    "269. Write a Python program to get every nth element in a given list.\n",
    "Sample Output:\n",
    "[1, 2, 3, 4, 5, 6, 7, 8, 9, 10]\n",
    "[2, 4, 6, 8, 10]\n",
    "[5, 10]\n",
    "[6]"
   ]
  },
  {
   "cell_type": "code",
   "execution_count": 218,
   "id": "f6135691-eee4-4619-85fe-d8db578101a5",
   "metadata": {},
   "outputs": [
    {
     "name": "stdin",
     "output_type": "stream",
     "text": [
      " 6\n"
     ]
    },
    {
     "name": "stdout",
     "output_type": "stream",
     "text": [
      "[6]\n"
     ]
    }
   ],
   "source": [
    "\n",
    "nums = [1, 2, 3, 4, 5, 6, 7, 8, 9, 10]\n",
    "i=int(input())\n",
    "print(nums[i-1:len(nums):i])"
   ]
  },
  {
   "cell_type": "code",
   "execution_count": null,
   "id": "b13e934b-d846-48b5-bd2a-22be89b961ec",
   "metadata": {},
   "outputs": [],
   "source": [
    "270. Write a Python program to check if the elements of the first list are contained in the second one regardless of order."
   ]
  },
  {
   "cell_type": "code",
   "execution_count": 220,
   "id": "88c02976-ae19-4167-8082-1dbbb9a613b8",
   "metadata": {},
   "outputs": [
    {
     "name": "stdout",
     "output_type": "stream",
     "text": [
      "False\n"
     ]
    }
   ],
   "source": [
    "a=[1,1]\n",
    "b=[1,2,3,4]\n",
    "c=[]\n",
    "for i in b:\n",
    "    c+=[0]\n",
    "count=0\n",
    "for i in range(len(a)):\n",
    "    for j in range(len(b)):\n",
    "        if a[i]==b[j] and c[j]!=-1:\n",
    "            count+=1\n",
    "            c[j]=-1\n",
    "            break\n",
    "if count==len(a):\n",
    "    print(\"True\")\n",
    "else:\n",
    "    print(\"False\")"
   ]
  },
  {
   "cell_type": "code",
   "execution_count": null,
   "id": "33a1dc38-c4d9-4fcc-b542-7f21bcbff83a",
   "metadata": {},
   "outputs": [],
   "source": [
    "271. Write a Python program to check if there are duplicate values in a given flat list.\n",
    "Sample Output:\n",
    "Original list:\n",
    "[1, 2, 3, 4, 5, 6, 7]\n",
    "Check if there are duplicate values in the said given flat list:\n",
    "False\n",
    "Original list:\n",
    "[1, 2, 3, 3, 4, 5, 5, 6, 7]\n",
    "Check if there are duplicate values in the said given flat list:\n",
    "True"
   ]
  },
  {
   "cell_type": "code",
   "execution_count": 222,
   "id": "7717bae4-181b-4043-8443-2379a6733df2",
   "metadata": {},
   "outputs": [
    {
     "name": "stdout",
     "output_type": "stream",
     "text": [
      "False\n"
     ]
    }
   ],
   "source": [
    "a=[1, 2, 3, 4, 5, 6, 7]\n",
    "b=len(a)\n",
    "c=set(a)\n",
    "d=len(c)\n",
    "if b==d:\n",
    "    print(\"False\")\n",
    "else:\n",
    "    print(\"True\")"
   ]
  },
  {
   "cell_type": "code",
   "execution_count": null,
   "id": "cd5a6871-e4b4-4aa2-a4aa-cd263655c325",
   "metadata": {},
   "outputs": [],
   "source": [
    "272. Write a Python program to generate a list of numbers in the arithmetic progression starting with the given positive integer and up to the specified limit.\n",
    "Sample Output:\n",
    "[1, 2, 3, 4, 5, 6, 7, 8, 9, 10, 11, 12, 13, 14, 15]\n",
    "[3, 6, 9, 12, 15, 18, 21, 24, 27, 30, 33, 36]\n",
    "[5, 10, 15, 20, 25]"
   ]
  },
  {
   "cell_type": "code",
   "execution_count": 226,
   "id": "76410b65-caa2-47c7-86f6-2bd770039d2f",
   "metadata": {},
   "outputs": [
    {
     "data": {
      "text/plain": [
       "[5, 10, 15, 20, 25]"
      ]
     },
     "execution_count": 226,
     "metadata": {},
     "output_type": "execute_result"
    }
   ],
   "source": [
    "x=[]\n",
    "for i in range(5,26,5):\n",
    "    x.append(i)\n",
    "x"
   ]
  },
  {
   "cell_type": "code",
   "execution_count": null,
   "id": "c64e7f69-225c-4618-840c-ca0585889c0e",
   "metadata": {},
   "outputs": [],
   "source": []
  },
  {
   "cell_type": "code",
   "execution_count": null,
   "id": "63f0ff5d-bcbf-4281-81e9-cfebd469aa99",
   "metadata": {},
   "outputs": [],
   "source": [
    "274. Write a Python program to count the lowercase letters in a given list of words.\n",
    "Sample Data:\n",
    "([\"Red\", \"Green\", \"Blue\", \"White\"]) -> 13\n",
    "([\"SQL\", \"C++\", \"C\"]) -> 0"
   ]
  },
  {
   "cell_type": "code",
   "execution_count": 230,
   "id": "6f66f6cd-8b01-4adb-bec7-b4d321a737b5",
   "metadata": {},
   "outputs": [
    {
     "data": {
      "text/plain": [
       "13"
      ]
     },
     "execution_count": 230,
     "metadata": {},
     "output_type": "execute_result"
    }
   ],
   "source": [
    "count=0\n",
    "a=[\"Red\", \"Green\", \"Blue\", \"White\"]\n",
    "for i in a:\n",
    "    for j in i:\n",
    "        if j>=\"a\" and j<=\"z\":\n",
    "            count+=1\n",
    "count"
   ]
  },
  {
   "cell_type": "code",
   "execution_count": null,
   "id": "730cb185-6324-49a2-8b7b-5a92ac655162",
   "metadata": {},
   "outputs": [],
   "source": [
    "275. Write a Python program to add all elements of a list of integers except the number at index. Return the updated string.\n",
    "Sample Data:\n",
    "([0, 9, 2, 4, 5, 6] -> [26, 17, 24, 22, 21, 20]\n",
    "([-4, 0, 6, 1, 0, 2]) -> [9, 5, -1, 4, 5, 3]\n",
    "([1, 2, 3]) -> [5, 4, 3]\n",
    "([-4, 0, 5, 1, 0, 1]) -> [7, 3, -2, 2, 3, 2]"
   ]
  },
  {
   "cell_type": "code",
   "execution_count": 231,
   "id": "dc005f18-8ef2-4a89-8839-88a27b454eba",
   "metadata": {},
   "outputs": [
    {
     "data": {
      "text/plain": [
       "[26, 17, 24, 22, 21, 20]"
      ]
     },
     "execution_count": 231,
     "metadata": {},
     "output_type": "execute_result"
    }
   ],
   "source": [
    "a=[0, 9, 2, 4, 5, 6]\n",
    "b=[]\n",
    "c=sum(a)\n",
    "for i in a:\n",
    "    b.append(c-i)\n",
    "b"
   ]
  },
  {
   "cell_type": "code",
   "execution_count": null,
   "id": "02dedba9-9524-44cb-857a-3ef07402fc67",
   "metadata": {},
   "outputs": [],
   "source": [
    "276. Write a Python program to find the largest odd number in a given list of integers.\n",
    "Sample Data:\n",
    "([0, 9, 2, 4, 5, 6]) -> 9\n",
    "([-4, 0, 6, 1, 0, 2]) -> 1\n",
    "([1, 2, 3]) -> 3\n",
    "([-4, 0, 5, 1, 0, 1]) -> 5"
   ]
  },
  {
   "cell_type": "code",
   "execution_count": 235,
   "id": "31f59c33-6906-410d-b94e-ac98c5397369",
   "metadata": {},
   "outputs": [
    {
     "name": "stdout",
     "output_type": "stream",
     "text": [
      "5\n"
     ]
    }
   ],
   "source": [
    "a=[-4, 0, 5, 1, 0, 1]\n",
    "b=[i for i in a if i%2==1]\n",
    "b.sort()\n",
    "print(b[-1])"
   ]
  },
  {
   "cell_type": "code",
   "execution_count": null,
   "id": "6c8d7113-a9a9-4b04-9e0f-42eba7e79afa",
   "metadata": {},
   "outputs": [],
   "source": [
    "277. Write a Python program to calculate the largest and smallest gap between sorted elements of a list of integers.\n",
    "Sample Data:\n",
    "{1, 2 ,9, 0, 4, 6} -> 3\n",
    "{23, -2, 45, 38, 12, 4, 6} -> 15"
   ]
  },
  {
   "cell_type": "code",
   "execution_count": 242,
   "id": "acaf419d-38c5-4a30-99d8-23d77c11e333",
   "metadata": {},
   "outputs": [
    {
     "name": "stdout",
     "output_type": "stream",
     "text": [
      "[0, 1, 2, 4, 6, 9]\n",
      "1\n",
      "3\n"
     ]
    }
   ],
   "source": [
    "a=[1, 2 ,9, 0, 4, 6]\n",
    "b=[]\n",
    "c=sorted(a)\n",
    "print(c)\n",
    "for i in range(len(c)-1):\n",
    "    k=abs(c[i]-c[i+1])\n",
    "    b.append(k)\n",
    "print(min(b))\n",
    "max=b[0]\n",
    "for i in b:\n",
    "    if i>max:\n",
    "        max=i\n",
    "print(max)"
   ]
  },
  {
   "cell_type": "code",
   "execution_count": null,
   "id": "d918b5d7-f2d3-496c-9008-25d57a7e0d79",
   "metadata": {},
   "outputs": [],
   "source": []
  },
  {
   "cell_type": "code",
   "execution_count": null,
   "id": "7e4e78f5-11d6-41a4-b2d7-a8dd011e686a",
   "metadata": {},
   "outputs": [],
   "source": []
  },
  {
   "cell_type": "code",
   "execution_count": null,
   "id": "a43a2f6b-8ad7-4b90-8b6b-3e9b6c150e49",
   "metadata": {},
   "outputs": [],
   "source": []
  },
  {
   "cell_type": "code",
   "execution_count": null,
   "id": "8fca2d83-cf5f-4448-bac1-25c2b3882745",
   "metadata": {},
   "outputs": [],
   "source": []
  },
  {
   "cell_type": "code",
   "execution_count": null,
   "id": "5f2a115c-8a53-43ff-9127-6c49cddaeeb4",
   "metadata": {},
   "outputs": [],
   "source": [
    "278. Write a Python program to sum the missing numbers in a given list of integers.\n",
    "Sample Data:\n",
    "([0, 3, 4, 7, 9]) -> 22\n",
    "([44, 45, 48]) -> 93\n",
    "([-7, -5, -4, 0]) -> -12"
   ]
  },
  {
   "cell_type": "code",
   "execution_count": 211,
   "id": "b7fc5e48-139c-4beb-93c5-d806db18e148",
   "metadata": {},
   "outputs": [
    {
     "data": {
      "text/plain": [
       "93"
      ]
     },
     "execution_count": 211,
     "metadata": {},
     "output_type": "execute_result"
    }
   ],
   "source": [
    "a=[44,45,48]\n",
    "min=a[0]\n",
    "for i in range(len(a)):\n",
    "    if a[i]<min:\n",
    "        min=a[i]\n",
    "max=a[0]\n",
    "for i in range(len(a)):\n",
    "    if a[i]>max:\n",
    "        max=a[i]   \n",
    "        \n",
    "d=0\n",
    "for i in range(min,max):\n",
    "    if i not in a:\n",
    "        d+=i\n",
    "d"
   ]
  },
  {
   "cell_type": "code",
   "execution_count": null,
   "id": "b69b7e86-5caa-48b0-bdac-f9a69bf75601",
   "metadata": {},
   "outputs": [],
   "source": [
    "279. Write a Python program to extract the first specified number of vowels from a given string. If the specified number is less than the number of vowels present in the string then display \"n is less than the number of vowels present in the string\".\n",
    "Sample Data:\n",
    "(\"Python\", 2) -> \"n is less than number of vowels present in the string.\"\n",
    "(\"Python Exercises\", 3) -> \"oEe\"\n",
    "(\"aeiou\") -> \"AEI\""
   ]
  },
  {
   "cell_type": "code",
   "execution_count": 204,
   "id": "9140375a-65a3-4d5a-8406-975b08d859b6",
   "metadata": {},
   "outputs": [
    {
     "name": "stdin",
     "output_type": "stream",
     "text": [
      " python Excercise\n",
      " 3\n"
     ]
    },
    {
     "name": "stdout",
     "output_type": "stream",
     "text": [
      "oEe\n"
     ]
    }
   ],
   "source": [
    "a=input()\n",
    "b=int(input())\n",
    "s=\"\"\n",
    "for i in a:\n",
    "    if i in \"aeiouAEIOU\":\n",
    "        s+=i\n",
    "x=len(s)\n",
    "if x<b:\n",
    "    print(\"vowels are less\")\n",
    "else:\n",
    "    print(s[:b])\n",
    "    "
   ]
  },
  {
   "cell_type": "code",
   "execution_count": 208,
   "id": "0d5fd163-b7f0-40b0-a753-e0c884d0ab8e",
   "metadata": {},
   "outputs": [
    {
     "data": {
      "text/plain": [
       "4"
      ]
     },
     "execution_count": 208,
     "metadata": {},
     "output_type": "execute_result"
    }
   ],
   "source": [
    "a=[1,2,3,4]\n",
    "max(a)"
   ]
  },
  {
   "cell_type": "code",
   "execution_count": null,
   "id": "56b95112-4459-47ec-a240-56f21bd2d228",
   "metadata": {},
   "outputs": [],
   "source": [
    "280. Write a Python program that takes a list of integers and finds all pairs of integers that differ by three. Return all pairs of integers in a list.\n",
    "Sample Data:\n",
    "([0, 3, 4, 7, 9]) -> [[0, 3], [4, 7]]\n",
    "[0, -3, -5, -7, -8] -> [[-3, 0], [-8, -5]]\n",
    "([1, 2, 3, 4, 5]) -> [[1, 4], [2, 5]]\n",
    "([100, 102, 103, 114, 115]) -> [[100, 103]]"
   ]
  },
  {
   "cell_type": "code",
   "execution_count": 195,
   "id": "eda967e2-682b-4a3e-ba9b-648ce161ff69",
   "metadata": {},
   "outputs": [
    {
     "data": {
      "text/plain": [
       "[]"
      ]
     },
     "execution_count": 195,
     "metadata": {},
     "output_type": "execute_result"
    }
   ],
   "source": [
    "a=[0, -3, -5, -7, -8]\n",
    "b=[]\n",
    "for i in range(len(a)):\n",
    "    for j in range(i+1,len(a)):\n",
    "        if a[i]-a[j]==-3:\n",
    "            b.append([a[i],a[j]])\n",
    "b   \n",
    "            "
   ]
  },
  {
   "cell_type": "code",
   "execution_count": null,
   "id": "6b35daeb-8496-4b16-bd65-f0340ab87a3b",
   "metadata": {},
   "outputs": [],
   "source": [
    "6. Write a Python program to get a list, sorted in increasing order by the last element in each tuple from a given list of non-empty tuples.\n",
    "Sample List : [(2, 5), (1, 2), (4, 4), (2, 3), (2, 1)]\n",
    "Expected Result : [(2, 1), (1, 2), (2, 3), (4, 4), (2, 5)]"
   ]
  },
  {
   "cell_type": "code",
   "execution_count": 6,
   "id": "3173ba3a-1e7a-48ce-ac48-ddb895474cc1",
   "metadata": {},
   "outputs": [
    {
     "ename": "TypeError",
     "evalue": "cannot unpack non-iterable int object",
     "output_type": "error",
     "traceback": [
      "\u001b[1;31m---------------------------------------------------------------------------\u001b[0m",
      "\u001b[1;31mTypeError\u001b[0m                                 Traceback (most recent call last)",
      "Cell \u001b[1;32mIn[6], line 4\u001b[0m\n\u001b[0;32m      2\u001b[0m k\u001b[38;5;241m=\u001b[39m{}\n\u001b[0;32m      3\u001b[0m \u001b[38;5;28;01mfor\u001b[39;00m i \u001b[38;5;129;01min\u001b[39;00m a:\n\u001b[1;32m----> 4\u001b[0m     \u001b[38;5;28;01mfor\u001b[39;00m j,k \u001b[38;5;129;01min\u001b[39;00m i:\n\u001b[0;32m      5\u001b[0m         \u001b[38;5;28mprint\u001b[39m(j,k)\n",
      "\u001b[1;31mTypeError\u001b[0m: cannot unpack non-iterable int object"
     ]
    }
   ],
   "source": [
    "a=[(2, 5), (1, 2), (4, 4), (2, 3), (2, 1)]\n",
    "k={}\n",
    "for i in a:\n",
    "    for j,k in i:\n",
    "        print(j,k)"
   ]
  },
  {
   "cell_type": "code",
   "execution_count": null,
   "id": "a1666f63-e943-4abc-b3f5-04480955a658",
   "metadata": {},
   "outputs": [],
   "source": []
  }
 ],
 "metadata": {
  "kernelspec": {
   "display_name": "Python 3 (ipykernel)",
   "language": "python",
   "name": "python3"
  },
  "language_info": {
   "codemirror_mode": {
    "name": "ipython",
    "version": 3
   },
   "file_extension": ".py",
   "mimetype": "text/x-python",
   "name": "python",
   "nbconvert_exporter": "python",
   "pygments_lexer": "ipython3",
   "version": "3.11.5"
  }
 },
 "nbformat": 4,
 "nbformat_minor": 5
}
