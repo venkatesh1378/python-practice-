{
 "cells": [
  {
   "cell_type": "markdown",
   "id": "3aa4171c-4fdf-4edd-8f33-4391e4ad6e1f",
   "metadata": {},
   "source": [
    "#oops \n",
    "- object orientated programming lnguage\n",
    "- oops which is a way to approach design and develop the software\n",
    "- oops which is used to build the organises systems\n",
    "- oops which it resembles with the real world objects and interactions  same like in the software\n",
    "- oops which is used to built the good software \n",
    "- here the good software says satisfaction of \n",
    "- client \n",
    "- developer\n",
    "- in the  view of client all the requirements given by the cilent sjould be satisfied\n",
    "- developer\n",
    "- code is easily understandable\n",
    "- easy to find bugs\n",
    "- code readability\n",
    "- maintainability\n",
    "- easy scope to add new features\n",
    "- oops provide more security\n",
    "- parllelization\n",
    "- class-----object1--------person-1\n",
    "       -----object2----------person-2\n",
    "       ------object3--------person-3\n",
    "example\n",
    " a dog (can have)------------has 4 legs\n",
    "               -----2 eyes\n",
    "               ------1 tail            --------------------properties\n",
    "                ------noise\n",
    "\n",
    " a can do()-------------walk\n",
    "             ------------run\n",
    "              ----------sleep      --------------------------------actions\n",
    "            ------------eat"
   ]
  },
  {
   "cell_type": "code",
   "execution_count": null,
   "id": "cf245124-70b6-4153-a9e7-5131b8184438",
   "metadata": {},
   "outputs": [],
   "source": [
    "#form or template"
   ]
  },
  {
   "cell_type": "code",
   "execution_count": null,
   "id": "78efc1df-e3fc-449a-b4e8-606510a3d1b1",
   "metadata": {},
   "outputs": [],
   "source": [
    " - objects which have same properties we can make a template or form\n",
    "- exmaple \n",
    "phones \n",
    "- we can create a template \n",
    "   ----------phone cost\n",
    "   -----------ram           ------------------------properties\n",
    "   ------------camera\n",
    "\n",
    "-------------call\n",
    "-------------chat    -------------------------------------actions \n",
    "-------------videocalls\n",
    "\n",
    "----------- templates for phones like vivo ooppo redme realme etc----------"
   ]
  },
  {
   "cell_type": "code",
   "execution_count": null,
   "id": "6ba46fb2-a74c-4236-84f2-b8652135bb63",
   "metadata": {},
   "outputs": [],
   "source": [
    "#class and object concepts"
   ]
  },
  {
   "cell_type": "code",
   "execution_count": null,
   "id": "35ded38d-5355-4d9d-8a8f-9aba88a43273",
   "metadata": {},
   "outputs": [],
   "source": [
    "-  class is a  blue print to create an object\n",
    "-   class is a form or template to create an object\n",
    "-    class is alogical copy to create an object\n",
    "-    class which is used to combine properties and actions"
   ]
  },
  {
   "cell_type": "code",
   "execution_count": null,
   "id": "1d7a4889-43d1-44e5-acf0-e9621e002004",
   "metadata": {},
   "outputs": [],
   "source": [
    "- object is nothing but real world entity \n",
    "-  instance of a  class is called object"
   ]
  },
  {
   "cell_type": "code",
   "execution_count": null,
   "id": "0827ed31-24e5-4219-b837-90ece69630e5",
   "metadata": {},
   "outputs": [],
   "source": [
    "# syntax and creation of class and object"
   ]
  },
  {
   "cell_type": "code",
   "execution_count": null,
   "id": "7be59aab-66a0-4c5f-8b3a-af02f31074bc",
   "metadata": {},
   "outputs": [],
   "source": [
    "class <class name>:\n",
    "     #code\n",
    "obj1=class_name()   #object creation"
   ]
  },
  {
   "cell_type": "code",
   "execution_count": 2,
   "id": "7bb53c4c-5660-40f7-9941-01c6fbbf5a30",
   "metadata": {},
   "outputs": [
    {
     "name": "stdout",
     "output_type": "stream",
     "text": [
      "welcome\n"
     ]
    }
   ],
   "source": [
    "class hello:\n",
    "    print(\"welcome\")       # basic code\n",
    "a=hello()"
   ]
  },
  {
   "cell_type": "code",
   "execution_count": 4,
   "id": "d97f1319-722e-4c59-82dc-9b7f2eb9da3f",
   "metadata": {},
   "outputs": [
    {
     "name": "stdout",
     "output_type": "stream",
     "text": [
      "hlo  buddy\n"
     ]
    }
   ],
   "source": [
    "class hello:\n",
    "    def __init__(self):\n",
    "        print (\"hlo  buddy\")         # init method\n",
    "x=hello()"
   ]
  },
  {
   "cell_type": "code",
   "execution_count": null,
   "id": "8ddf3815-843f-404e-a21d-e29da67e912b",
   "metadata": {},
   "outputs": [],
   "source": [
    "#init method"
   ]
  },
  {
   "cell_type": "code",
   "execution_count": null,
   "id": "4972c182-3009-4e9b-9fb7-2f5ac9e0d063",
   "metadata": {},
   "outputs": [],
   "source": [
    "# init method is special type of constructor in the python\n",
    "# when we create an object then the first init methd is invoked if it is there \n",
    "# init is also used to assign the values to properties"
   ]
  },
  {
   "cell_type": "code",
   "execution_count": 17,
   "id": "a8f63054-c527-4608-9f20-ca38394a80ec",
   "metadata": {},
   "outputs": [
    {
     "name": "stdout",
     "output_type": "stream",
     "text": [
      "venakt3\n"
     ]
    }
   ],
   "source": [
    "class student:\n",
    "    def __init__(self,name,roll):\n",
    "        self.name=name\n",
    "        self.roll=roll                    # basic code\n",
    "    \n",
    "    def call(self):\n",
    "         print(self.name+self.roll)\n",
    "x1=student(\"venakt\",\"3\")\n",
    "x1.call()"
   ]
  },
  {
   "cell_type": "code",
   "execution_count": null,
   "id": "b9200dbe-4bae-4c3f-ae77-091d560fb114",
   "metadata": {},
   "outputs": [],
   "source": [
    "- dot operator which is used to access the methods in the class\n",
    "- best practicte to update values through the methods is recommended"
   ]
  },
  {
   "cell_type": "code",
   "execution_count": 18,
   "id": "6ff75282-f565-43d9-a2f1-ddb1bc18d2e3",
   "metadata": {},
   "outputs": [
    {
     "name": "stdout",
     "output_type": "stream",
     "text": [
      "30\n"
     ]
    }
   ],
   "source": [
    "class student:\n",
    "    def __init__(self,roll):\n",
    "        self.roll=roll\n",
    "    def  get(self,roll):\n",
    "        self.roll=roll\n",
    "    def pri(self):\n",
    "        print(self.roll)\n",
    "a=student(20)\n",
    "a.get(30)      #updated value is printed\n",
    "a.pri()"
   ]
  },
  {
   "cell_type": "code",
   "execution_count": null,
   "id": "592bedd9-7bcd-46a6-b176-bce3f410cfdc",
   "metadata": {},
   "outputs": [],
   "source": [
    "# attributes and methods in the python"
   ]
  },
  {
   "cell_type": "code",
   "execution_count": null,
   "id": "e4a05be5-733b-472d-995a-eb7f3bb838fe",
   "metadata": {},
   "outputs": [],
   "source": [
    "# instance attributes \n",
    "# class attributes"
   ]
  },
  {
   "cell_type": "code",
   "execution_count": null,
   "id": "b5095d1e-1355-46e0-941f-2e5f87ec3837",
   "metadata": {},
   "outputs": [],
   "source": [
    "# instance attributes are attributes which are difference from one instance to another instance\n",
    "#ex : going to dmart   a person may buy a different things compared to others\n",
    "# class attributes are attributes which are same across the different instance\n",
    "# ex discount which is same for the all the customers 25%\n"
   ]
  },
  {
   "cell_type": "code",
   "execution_count": null,
   "id": "f16ad775-0345-4cc7-b7fd-18cbcb840667",
   "metadata": {},
   "outputs": [],
   "source": [
    "# methods\n",
    "#instance methods\n",
    "# class methods\n",
    "# static methods"
   ]
  },
  {
   "cell_type": "code",
   "execution_count": null,
   "id": "fdb140d2-6747-4171-b5aa-22bc6818e9e6",
   "metadata": {},
   "outputs": [],
   "source": [
    "#instance methods are methods which  is usedto acess the instance attributes\n",
    "# self is the keyword used in the instace methods"
   ]
  },
  {
   "cell_type": "code",
   "execution_count": null,
   "id": "ca050d8c-c5f6-4ff3-a5ea-42cc547a68b3",
   "metadata": {},
   "outputs": [],
   "source": [
    "#self\n",
    "#self whcih is nothing but refers to instance of class self refers to the class instance created"
   ]
  },
  {
   "cell_type": "code",
   "execution_count": 24,
   "id": "28fa61bc-a724-4f17-839f-d22b55b36dac",
   "metadata": {},
   "outputs": [
    {
     "name": "stdout",
     "output_type": "stream",
     "text": [
      "<__main__.hello object at 0x00000197A27E5C90>\n",
      "<__main__.hello object at 0x00000197A27E5C90>\n"
     ]
    }
   ],
   "source": [
    "class hello:\n",
    "    def get(self):\n",
    "        print(self)\n",
    "a=hello()                         #both are same \n",
    "a.get()\n",
    "print(a)"
   ]
  },
  {
   "cell_type": "code",
   "execution_count": 25,
   "id": "ede87506-5123-4e46-9fc3-ddca7a3d145f",
   "metadata": {},
   "outputs": [
    {
     "name": "stdout",
     "output_type": "stream",
     "text": [
      "300\n"
     ]
    }
   ],
   "source": [
    "class product:\n",
    "    def __init__(self,name,price):\n",
    "        self.name=name\n",
    "        self.price=price\n",
    "    def buy(self):\n",
    "        print(self.price)\n",
    "x=product(\"chocolate\",300)                              # access throught object creation \n",
    "x.buy()"
   ]
  },
  {
   "cell_type": "code",
   "execution_count": null,
   "id": "4cb6e56a-9558-4057-af2a-5da98adcba96",
   "metadata": {},
   "outputs": [],
   "source": [
    "#calss methods\n",
    "- class methods which are used to access the class attributes- \n",
    "- cls is parameter\n",
    "- @classmethod is a decorater is used \n",
    "\n"
   ]
  },
  {
   "cell_type": "code",
   "execution_count": 30,
   "id": "7340e6a2-1b6c-4689-b0c0-761f81e5bcaf",
   "metadata": {},
   "outputs": [
    {
     "name": "stdout",
     "output_type": "stream",
     "text": [
      "100\n"
     ]
    },
    {
     "data": {
      "text/plain": [
       "100"
      ]
     },
     "execution_count": 30,
     "metadata": {},
     "output_type": "execute_result"
    }
   ],
   "source": [
    "class product:\n",
    "    min_bill=0\n",
    "    flat_discount=100\n",
    "    @classmethod\n",
    "    def buy(cls,flat_discount):                    # access through the class name \n",
    "        print(cls.flat_discount)\n",
    "product.buy(100)\n",
    "product.flat_discount"
   ]
  },
  {
   "cell_type": "code",
   "execution_count": 35,
   "id": "bba25093-4838-4df4-922d-e943e9c3e8cd",
   "metadata": {},
   "outputs": [
    {
     "name": "stdout",
     "output_type": "stream",
     "text": [
      "20\n",
      "30\n"
     ]
    }
   ],
   "source": [
    "#updated through class methods\n",
    "class product:\n",
    "    minbill=20\n",
    "    @classmethod\n",
    "    def buy(cls):\n",
    "        updated_bill=cls.minbill+10\n",
    "        print(updated_bill)                       #  update the values also \n",
    "print(product.minbill)\n",
    "X=product()\n",
    "X.buy()"
   ]
  },
  {
   "cell_type": "code",
   "execution_count": null,
   "id": "94e9865c-fc3d-4db8-b6d5-2280576fe810",
   "metadata": {},
   "outputs": [],
   "source": [
    "#static method\n",
    "# static methods are general methods \n",
    "# utlity methods  more sense about the calsses \n",
    "#@staticmethod\n",
    "#class name is used to  acess the methods"
   ]
  },
  {
   "cell_type": "code",
   "execution_count": 40,
   "id": "6554a34c-2aaa-4cc1-8bd7-83a80952f90e",
   "metadata": {},
   "outputs": [
    {
     "name": "stdout",
     "output_type": "stream",
     "text": [
      "welcome\n"
     ]
    }
   ],
   "source": [
    "class greet:\n",
    "    @staticmethod\n",
    "    def a():\n",
    "        print(\"welcome\")\n",
    "s=greet()\n",
    "s.a()"
   ]
  },
  {
   "cell_type": "code",
   "execution_count": null,
   "id": "2264a8be-51b5-4fcf-b7bf-794907330e4e",
   "metadata": {},
   "outputs": [],
   "source": [
    "#inheritance"
   ]
  },
  {
   "cell_type": "code",
   "execution_count": null,
   "id": "bb6634d6-44de-47eb-8f07-be63be0cbbfd",
   "metadata": {},
   "outputs": [],
   "source": [
    "# inheritance means acquired the parent properties to the child properties\n",
    "# parent/super/base------------------------------classes\n",
    "#  child/sub/derived-----------------------------classes"
   ]
  },
  {
   "cell_type": "code",
   "execution_count": null,
   "id": "63952775-6b78-46d0-ad6c-0df097125f2c",
   "metadata": {},
   "outputs": [],
   "source": [
    "#advantages\n",
    "#code organized\n",
    "#easy understand\n",
    "#reusability concept"
   ]
  },
  {
   "cell_type": "code",
   "execution_count": null,
   "id": "a3e8211f-3c1c-493a-a98a-a9546eb578f2",
   "metadata": {},
   "outputs": [],
   "source": [
    "# creating the inheritances "
   ]
  },
  {
   "cell_type": "code",
   "execution_count": 44,
   "id": "e46685ea-9971-4d0b-b8fc-37efe99e97c5",
   "metadata": {},
   "outputs": [
    {
     "name": "stdout",
     "output_type": "stream",
     "text": [
      "The name of item is Fridge\n",
      "The price of item is 1\n",
      "The quality of item is 2\n",
      "The discount of item is 3\n"
     ]
    }
   ],
   "source": [
    "class product:\n",
    "    def __init__(self,name,price,quality,discount):\n",
    "        self.name=name\n",
    "        self.price=price\n",
    "        self.quality=quality\n",
    "        self.discount=discount\n",
    "    def get_items(self):\n",
    "        print(\"The name of item is {}\".format(self.name))                 #concept of the inheritance \n",
    "        print(\"The price of item is {}\".format(self.price))                       \n",
    "        print(\"The quality of item is {}\".format(self.quality))\n",
    "        print(\"The discount of item is {}\".format(self.discount))\n",
    "class Electronic_item(product):\n",
    "    pass\n",
    "item=Electronic_item(\"Fridge\",1,2,3)\n",
    "item.get_items()"
   ]
  },
  {
   "cell_type": "code",
   "execution_count": null,
   "id": "1a690161-a191-4883-934a-517e656e6d1f",
   "metadata": {},
   "outputs": [],
   "source": [
    "#compostion and super() keyword"
   ]
  },
  {
   "cell_type": "code",
   "execution_count": null,
   "id": "c68e546c-a046-466f-8d6b-0deaefc7cc23",
   "metadata": {},
   "outputs": [],
   "source": [
    "# passing one class instance as attribute to in a another method is called compostion"
   ]
  },
  {
   "cell_type": "code",
   "execution_count": 49,
   "id": "b118ce41-508f-4099-9da1-89af33ff9b96",
   "metadata": {},
   "outputs": [],
   "source": [
    "class product:\n",
    "    def __init__(self,name,price,quality,discount):\n",
    "        self.name=name\n",
    "        self.price=price\n",
    "        self.quality=quality\n",
    "        self.discount=discount\n",
    "    def get_items(self):\n",
    "        print(\"The name of item is {}\".format(self.name))                 #concept of the inheritance \n",
    "        print(\"The price of item is {}\".format(self.price))                       \n",
    "        print(\"The quality of item is {}\".format(self.quality))\n",
    "        print(\"The discount of item is {}\".format(self.discount))\n",
    "class Electronic_item(product):\n",
    "    pass\n"
   ]
  },
  {
   "cell_type": "code",
   "execution_count": null,
   "id": "ceb3f20a-1966-4a81-8d24-7995f745d27e",
   "metadata": {},
   "outputs": [],
   "source": [
    "#super() keyword\n",
    "#in some cases we have to use the same method in the base class in the dervied class \n",
    "# we will see them"
   ]
  },
  {
   "cell_type": "code",
   "execution_count": 57,
   "id": "68037627-3c88-4b1f-b735-180e0dc9b7ce",
   "metadata": {},
   "outputs": [
    {
     "name": "stdout",
     "output_type": "stream",
     "text": [
      "The name of item is Tv\n",
      "The price of item is 1\n",
      "The quality of item is 2\n",
      "The discount of item is 3\n"
     ]
    }
   ],
   "source": [
    "class product:\n",
    "    def __init__(self,name,price,quality,discount):\n",
    "        self.name=name\n",
    "        self.price=price\n",
    "        self.quality=quality\n",
    "        self.discount=discount\n",
    "    def get_items(self):\n",
    "        print(\"The name of item is {}\".format(self.name))                 #concept of the inheritance \n",
    "        print(\"The price of item is {}\".format(self.price))                       \n",
    "        print(\"The quality of item is {}\".format(self.quality))\n",
    "        print(\"The discount of item is {}\".format(self.discount))\n",
    "class Electronic_items(product):\n",
    "     def get_items():\n",
    "         self.get_items()\n",
    "a=Electronic_item(\"Tv\",1,2,3)\n",
    "a.get_items()"
   ]
  },
  {
   "cell_type": "code",
   "execution_count": null,
   "id": "7d2bd275-e164-49d4-87a5-011366079473",
   "metadata": {},
   "outputs": [],
   "source": [
    "#types of the inheritance \n",
    "#single\n",
    "#multiple\n",
    "#mutlilevel\n",
    "#hierarical\n",
    "#hybrid  \n"
   ]
  },
  {
   "cell_type": "code",
   "execution_count": null,
   "id": "ffe2b51e-0fdd-418c-bcd5-be5e880d4290",
   "metadata": {},
   "outputs": [],
   "source": []
  },
  {
   "cell_type": "code",
   "execution_count": null,
   "id": "0bd0ebea-2733-47d5-b367-9fea8776ebbd",
   "metadata": {},
   "outputs": [],
   "source": []
  },
  {
   "cell_type": "code",
   "execution_count": null,
   "id": "633b902d-ab51-4cbc-9fc7-1721e4eadffb",
   "metadata": {},
   "outputs": [],
   "source": [
    "#mro"
   ]
  },
  {
   "cell_type": "code",
   "execution_count": null,
   "id": "1a0b250b-36aa-4b07-86b5-a649c658104f",
   "metadata": {},
   "outputs": [],
   "source": []
  },
  {
   "cell_type": "code",
   "execution_count": null,
   "id": "d4e693b0-70f8-4efe-a55b-57bf16d948a6",
   "metadata": {},
   "outputs": [],
   "source": []
  },
  {
   "cell_type": "code",
   "execution_count": null,
   "id": "46d8fff5-d4bd-4aba-8397-0d0e9dfcb950",
   "metadata": {},
   "outputs": [],
   "source": [
    "#nested classes "
   ]
  },
  {
   "cell_type": "code",
   "execution_count": 15,
   "id": "595de009-d060-4f24-b94a-91ebd2c7d519",
   "metadata": {},
   "outputs": [
    {
     "name": "stdout",
     "output_type": "stream",
     "text": [
      "helllo\n"
     ]
    },
    {
     "ename": "AttributeError",
     "evalue": "'a' object has no attribute 'b'",
     "output_type": "error",
     "traceback": [
      "\u001b[1;31m---------------------------------------------------------------------------\u001b[0m",
      "\u001b[1;31mAttributeError\u001b[0m                            Traceback (most recent call last)",
      "Cell \u001b[1;32mIn[15], line 10\u001b[0m\n\u001b[0;32m      8\u001b[0m a1\u001b[38;5;241m=\u001b[39ma()\n\u001b[0;32m      9\u001b[0m a1\u001b[38;5;241m.\u001b[39mget()\n\u001b[1;32m---> 10\u001b[0m b1\u001b[38;5;241m=\u001b[39m\u001b[43ma1\u001b[49m\u001b[38;5;241;43m.\u001b[39;49m\u001b[43mb\u001b[49m()\n",
      "\u001b[1;31mAttributeError\u001b[0m: 'a' object has no attribute 'b'"
     ]
    }
   ],
   "source": [
    "#- a class inside a another class is called nested classes\n",
    "class a:\n",
    "    def get(self):\n",
    "        print(\"helllo\")\n",
    "        class b:\n",
    "            def x(self):\n",
    "                print(\"welcome\")\n",
    "a1=a()\n",
    "a1.get()"
   ]
  },
  {
   "cell_type": "code",
   "execution_count": null,
   "id": "ac38498e-107c-433d-869d-1067277866ea",
   "metadata": {},
   "outputs": [],
   "source": []
  },
  {
   "cell_type": "code",
   "execution_count": null,
   "id": "e7df8ee6-324c-420b-a2d5-6fd82ddcf968",
   "metadata": {},
   "outputs": [],
   "source": [
    "#encapsulation "
   ]
  },
  {
   "cell_type": "code",
   "execution_count": null,
   "id": "6735476a-1cb8-4e1a-8233-df13a9f1bf77",
   "metadata": {},
   "outputs": [],
   "source": [
    "- wrapping up the properties and actions  is known as encapsulation\n",
    "- bundling the attributes and methods are called encapsulation\n",
    "- encapsulation which is used to protect the data \n",
    "- to stop the prevent the accidental leakage of the data\n",
    "- encapsulation nothing but wrapping the data\n",
    "- ex  sales department when the managaer ask the what the profit and sales of the clothes \n",
    "- the head of thatoffice doesnot have direct access he has to go to saled department and get the details \n",
    "- like data is secured\n"
   ]
  },
  {
   "cell_type": "code",
   "execution_count": null,
   "id": "acacb52c-2fba-4c8e-97f7-66c945770063",
   "metadata": {},
   "outputs": [],
   "source": [
    "#access specifiers\n",
    "- whichh are used to restrict the access of the variable and methods to crrtain extent\n",
    "- public\n",
    "- protected\n",
    "- private"
   ]
  },
  {
   "cell_type": "code",
   "execution_count": null,
   "id": "8bdc407c-0b65-4bcd-bda3-e0ef9b175feb",
   "metadata": {},
   "outputs": [],
   "source": [
    "# if our data is important we use protected\n",
    "# very very im;portant data leads to use the private members\n",
    "# public can acess any one "
   ]
  },
  {
   "cell_type": "code",
   "execution_count": 20,
   "id": "f851a917-e489-449c-a26d-fab4782bc454",
   "metadata": {},
   "outputs": [
    {
     "name": "stdout",
     "output_type": "stream",
     "text": [
      "10\n",
      "20\n",
      "30\n"
     ]
    }
   ],
   "source": [
    "class checker:\n",
    "    a=10\n",
    "    _b=20\n",
    "    __c=30\n",
    "    def solve(self):\n",
    "        print(self.a)\n",
    "        print(self._b)                       # public protected and private can be acess with in the classes\n",
    "        print(self.__c)\n",
    "x=checker()\n",
    "x.solve()\n"
   ]
  },
  {
   "cell_type": "code",
   "execution_count": 25,
   "id": "d5c701cf-91ac-42c5-a583-6fbeaddb0b82",
   "metadata": {},
   "outputs": [
    {
     "name": "stdout",
     "output_type": "stream",
     "text": [
      "10\n",
      "20\n"
     ]
    },
    {
     "ename": "AttributeError",
     "evalue": "'second' object has no attribute '_second__c'",
     "output_type": "error",
     "traceback": [
      "\u001b[1;31m---------------------------------------------------------------------------\u001b[0m",
      "\u001b[1;31mAttributeError\u001b[0m                            Traceback (most recent call last)",
      "Cell \u001b[1;32mIn[25], line 15\u001b[0m\n\u001b[0;32m     13\u001b[0m         \u001b[38;5;28mprint\u001b[39m(\u001b[38;5;28mself\u001b[39m\u001b[38;5;241m.\u001b[39m__c)\n\u001b[0;32m     14\u001b[0m s\u001b[38;5;241m=\u001b[39msecond()\n\u001b[1;32m---> 15\u001b[0m \u001b[43ms\u001b[49m\u001b[38;5;241;43m.\u001b[39;49m\u001b[43md\u001b[49m\u001b[43m(\u001b[49m\u001b[43m)\u001b[49m\n",
      "Cell \u001b[1;32mIn[25], line 13\u001b[0m, in \u001b[0;36msecond.d\u001b[1;34m(self)\u001b[0m\n\u001b[0;32m     11\u001b[0m \u001b[38;5;28mprint\u001b[39m(\u001b[38;5;28mself\u001b[39m\u001b[38;5;241m.\u001b[39ma)\n\u001b[0;32m     12\u001b[0m \u001b[38;5;28mprint\u001b[39m(\u001b[38;5;28mself\u001b[39m\u001b[38;5;241m.\u001b[39m_b)\n\u001b[1;32m---> 13\u001b[0m \u001b[38;5;28mprint\u001b[39m(\u001b[38;5;28;43mself\u001b[39;49m\u001b[38;5;241;43m.\u001b[39;49m\u001b[43m__c\u001b[49m)\n",
      "\u001b[1;31mAttributeError\u001b[0m: 'second' object has no attribute '_second__c'"
     ]
    }
   ],
   "source": [
    "class checker:\n",
    "    a=10\n",
    "    _b=20\n",
    "    __c=30\n",
    "    def solve(self):\n",
    "        print(self.a)\n",
    "        print(self._b)              # public protected can be accessed in the derivedclasses but private cant be accessed in the derived classes \n",
    "        print(self.__c)\n",
    "class second(checker):\n",
    "    def d(self):\n",
    "        print(self.a)\n",
    "        print(self._b)\n",
    "        print(self.__c)\n",
    "s=second()\n",
    "s.d()"
   ]
  },
  {
   "cell_type": "code",
   "execution_count": null,
   "id": "63ad393a-93a6-46ad-907b-6ed2e1ba7f47",
   "metadata": {},
   "outputs": [],
   "source": [
    "#data hiding \n",
    "- data hiding concept comes from the encapuslation \n",
    "- if the data is very important then hide it with the private variables \n",
    "- as we can see that private members are restricted with in the class\n",
    "- it is mostly used in the bank application \n",
    "- sensitive data such as passwords"
   ]
  },
  {
   "cell_type": "code",
   "execution_count": null,
   "id": "81b12d2b-bd0a-4935-b0c8-3c9d29fff4fa",
   "metadata": {},
   "outputs": [],
   "source": [
    "#abstraction concept"
   ]
  },
  {
   "cell_type": "code",
   "execution_count": null,
   "id": "b3585f66-4bfa-4f03-9aa2-825c3b0ab92c",
   "metadata": {},
   "outputs": [],
   "source": [
    "- hiding the unneccesary and complex data and showing only the neccesary data is called abstarction\n",
    "- hides the background data and show the necessary data is called abstarction\n",
    "- ex atm withdraw \n",
    "- google search"
   ]
  },
  {
   "cell_type": "code",
   "execution_count": null,
   "id": "f0259d78-c747-4c91-82f2-5c114790bfde",
   "metadata": {},
   "outputs": [],
   "source": [
    "#abstarct class\n",
    "- a class consists of atleast one abstarct method is called abstract class\n",
    "- we cannot create the object for the abstract classes"
   ]
  },
  {
   "cell_type": "code",
   "execution_count": null,
   "id": "a1829b85-0156-4761-aee6-f71590e34272",
   "metadata": {},
   "outputs": [],
   "source": [
    "#abstarct method\n",
    "- a abstarct method which is nothing but their declaring the method and do defination \n"
   ]
  },
  {
   "cell_type": "code",
   "execution_count": 32,
   "id": "b2ee76f0-9607-49a7-9e61-9a02cb5f5764",
   "metadata": {},
   "outputs": [
    {
     "ename": "TypeError",
     "evalue": "Can't instantiate abstract class data with abstract method one",
     "output_type": "error",
     "traceback": [
      "\u001b[1;31m---------------------------------------------------------------------------\u001b[0m",
      "\u001b[1;31mTypeError\u001b[0m                                 Traceback (most recent call last)",
      "Cell \u001b[1;32mIn[32], line 6\u001b[0m\n\u001b[0;32m      3\u001b[0m     \u001b[38;5;129m@abstractmethod\u001b[39m\n\u001b[0;32m      4\u001b[0m     \u001b[38;5;28;01mdef\u001b[39;00m \u001b[38;5;21mone\u001b[39m(\u001b[38;5;28mself\u001b[39m):\n\u001b[0;32m      5\u001b[0m         \u001b[38;5;28mprint\u001b[39m(\u001b[38;5;124m\"\u001b[39m\u001b[38;5;124miam an abstarct student\u001b[39m\u001b[38;5;124m\"\u001b[39m)               \u001b[38;5;66;03m#declared but no defination\u001b[39;00m\n\u001b[1;32m----> 6\u001b[0m s1\u001b[38;5;241m=\u001b[39m\u001b[43mdata\u001b[49m\u001b[43m(\u001b[49m\u001b[43m)\u001b[49m\n\u001b[0;32m      7\u001b[0m s1\u001b[38;5;241m.\u001b[39mone()\n",
      "\u001b[1;31mTypeError\u001b[0m: Can't instantiate abstract class data with abstract method one"
     ]
    }
   ],
   "source": [
    "from abc import ABC ,abstractmethod     #ABC is abstarct base classs which is  class we deribe abc \n",
    "class data(ABC):\n",
    "    @abstractmethod\n",
    "    def one(self):\n",
    "        print(\"iam an abstarct student\")    #declared but no defination\n",
    "s1=data()\n",
    "s1.one()"
   ]
  },
  {
   "cell_type": "code",
   "execution_count": 36,
   "id": "81845939-30f3-48bb-a5d0-02c95de9b42f",
   "metadata": {},
   "outputs": [
    {
     "ename": "TypeError",
     "evalue": "Can't instantiate abstract class css with abstract method one",
     "output_type": "error",
     "traceback": [
      "\u001b[1;31m---------------------------------------------------------------------------\u001b[0m",
      "\u001b[1;31mTypeError\u001b[0m                                 Traceback (most recent call last)",
      "Cell \u001b[1;32mIn[36], line 7\u001b[0m\n\u001b[0;32m      5\u001b[0m     \u001b[38;5;28;01mdef\u001b[39;00m \u001b[38;5;21mhello\u001b[39m(\u001b[38;5;28mself\u001b[39m):\n\u001b[0;32m      6\u001b[0m         \u001b[38;5;28mprint\u001b[39m(\u001b[38;5;124m\"\u001b[39m\u001b[38;5;124mwelcome\u001b[39m\u001b[38;5;124m\"\u001b[39m)\n\u001b[1;32m----> 7\u001b[0m q\u001b[38;5;241m=\u001b[39m\u001b[43mcss\u001b[49m\u001b[43m(\u001b[49m\u001b[43m)\u001b[49m\n\u001b[0;32m      8\u001b[0m q\u001b[38;5;241m.\u001b[39mhello()\n",
      "\u001b[1;31mTypeError\u001b[0m: Can't instantiate abstract class css with abstract method one"
     ]
    }
   ],
   "source": [
    "#we cannot create an object for the abstarct class \n",
    "# so the concrete classes are introducted\n",
    "# a class which consists of no abstarct methods is called conrete class\n",
    "class css(data):\n",
    "    def hello(self):\n",
    "        print(\"welcome\")\n",
    "q=css()\n",
    "q.hello()"
   ]
  },
  {
   "cell_type": "code",
   "execution_count": null,
   "id": "24ed666c-8503-42d9-91a5-f0ef66189f4a",
   "metadata": {},
   "outputs": [],
   "source": []
  },
  {
   "cell_type": "code",
   "execution_count": null,
   "id": "5a314d25-0023-4f48-b649-bd73d35310e9",
   "metadata": {},
   "outputs": [],
   "source": [
    "#polymorphism"
   ]
  },
  {
   "cell_type": "code",
   "execution_count": null,
   "id": "791edbab-80ba-42cd-86eb-5c5ad26894cc",
   "metadata": {},
   "outputs": [],
   "source": [
    "- poly means many\n",
    "- morphism means forms\n",
    "- a person can be father to his son boss to his employee son to his father and husand to this wife\n",
    "- a same person is represented in the different scenario"
   ]
  },
  {
   "cell_type": "code",
   "execution_count": null,
   "id": "14b46728-2afd-410b-8d7c-5c117fd791ac",
   "metadata": {},
   "outputs": [],
   "source": [
    "# polymorphism are two types \n",
    "# compile run or static\n",
    "#runtime time or dymanic"
   ]
  },
  {
   "cell_type": "code",
   "execution_count": null,
   "id": "d0bc08e6-6f6e-43fb-b2ee-9474dc3d2f5a",
   "metadata": {},
   "outputs": [],
   "source": [
    "#compile \n",
    "# polymorphism done at the compile time "
   ]
  },
  {
   "cell_type": "code",
   "execution_count": null,
   "id": "e0a9449c-eec2-4f77-a87f-681b9c6114a2",
   "metadata": {},
   "outputs": [],
   "source": [
    "#method overloading\n",
    "#method overridding"
   ]
  },
  {
   "cell_type": "code",
   "execution_count": null,
   "id": "ad35ebf0-1175-429e-aa91-7dfd7fd9057a",
   "metadata": {},
   "outputs": [],
   "source": [
    "#method overloading\n",
    "# comes at the compiletime\n",
    "#operator overloading\n",
    "#method overloading"
   ]
  },
  {
   "cell_type": "code",
   "execution_count": null,
   "id": "f3b80150-36a1-435a-9848-686ed7be5fe2",
   "metadata": {},
   "outputs": [],
   "source": [
    "# operator overloading \n",
    "# same operator used in different scenariot\n",
    "#addition of two number +\n",
    "# concatenation of two strings +"
   ]
  },
  {
   "cell_type": "code",
   "execution_count": 38,
   "id": "33eb6f49-628e-4681-940c-5c7d30a3b11d",
   "metadata": {},
   "outputs": [
    {
     "name": "stdout",
     "output_type": "stream",
     "text": [
      "9\n"
     ]
    },
    {
     "data": {
      "text/plain": [
       "'abcdef'"
      ]
     },
     "execution_count": 38,
     "metadata": {},
     "output_type": "execute_result"
    }
   ],
   "source": [
    "print(4+5)\n",
    "\"abc\"+\"def\""
   ]
  },
  {
   "cell_type": "code",
   "execution_count": null,
   "id": "125053fc-6a95-4a3e-b247-8997963b5e72",
   "metadata": {},
   "outputs": [],
   "source": [
    "- here the + operator we can addition operator and concatatention \n",
    "- same thing used in the different scenarios"
   ]
  },
  {
   "cell_type": "code",
   "execution_count": null,
   "id": "f786d2c0-f57d-4bc9-af8b-88725d4b1a14",
   "metadata": {},
   "outputs": [],
   "source": [
    "#method overloading \n",
    "#same method name but different parameters is called method overloading\n",
    "#actually python doesnot slupport the method overloading as it is dymanic language \n",
    "# latest one will be executed \n",
    "#let us check the things"
   ]
  },
  {
   "cell_type": "code",
   "execution_count": 47,
   "id": "fef07681-f99c-4df6-886f-0c8564a521b3",
   "metadata": {},
   "outputs": [
    {
     "ename": "TypeError",
     "evalue": "add() missing 1 required positional argument: 'c'",
     "output_type": "error",
     "traceback": [
      "\u001b[1;31m---------------------------------------------------------------------------\u001b[0m",
      "\u001b[1;31mTypeError\u001b[0m                                 Traceback (most recent call last)",
      "Cell \u001b[1;32mIn[47], line 6\u001b[0m\n\u001b[0;32m      4\u001b[0m     \u001b[38;5;28;01mdef\u001b[39;00m \u001b[38;5;21madd\u001b[39m(a,b,c):\n\u001b[0;32m      5\u001b[0m         \u001b[38;5;28mprint\u001b[39m(a\u001b[38;5;241m+\u001b[39mb\u001b[38;5;241m+\u001b[39mc)\n\u001b[1;32m----> 6\u001b[0m \u001b[43madd\u001b[49m\u001b[43m(\u001b[49m\u001b[38;5;241;43m1\u001b[39;49m\u001b[43m,\u001b[49m\u001b[38;5;241;43m2\u001b[39;49m\u001b[43m)\u001b[49m\n",
      "\u001b[1;31mTypeError\u001b[0m: add() missing 1 required positional argument: 'c'"
     ]
    }
   ],
   "source": [
    "class q:\n",
    "    def add(a,b):\n",
    "        print(a+b)\n",
    "    def add(a,b,c):\n",
    "        print(a+b+c)\n",
    "add(1,2)"
   ]
  },
  {
   "cell_type": "code",
   "execution_count": 4,
   "id": "4939da0a-fb07-45ba-bd09-16893a42bea0",
   "metadata": {},
   "outputs": [],
   "source": [
    "#pip install  multipledispacth"
   ]
  },
  {
   "cell_type": "code",
   "execution_count": 3,
   "id": "33b0dc5c-8c06-46d5-bbbc-d04bad3ef0ca",
   "metadata": {},
   "outputs": [],
   "source": [
    "#python introduced the multipledispacther to avoid this scenario"
   ]
  },
  {
   "cell_type": "code",
   "execution_count": 2,
   "id": "4f5f80da-6769-4413-9039-67a24ce1bfbe",
   "metadata": {},
   "outputs": [
    {
     "ename": "NameError",
     "evalue": "name 'multipledispacth' is not defined",
     "output_type": "error",
     "traceback": [
      "\u001b[1;31m---------------------------------------------------------------------------\u001b[0m",
      "\u001b[1;31mNameError\u001b[0m                                 Traceback (most recent call last)",
      "Cell \u001b[1;32mIn[2], line 1\u001b[0m\n\u001b[1;32m----> 1\u001b[0m \u001b[38;5;129m@multipledispacth\u001b[39m\n\u001b[0;32m      2\u001b[0m \u001b[38;5;28;01mdef\u001b[39;00m \u001b[38;5;21madd\u001b[39m(a,b):\n\u001b[0;32m      3\u001b[0m         \u001b[38;5;28mprint\u001b[39m(a\u001b[38;5;241m+\u001b[39mb)\n\u001b[0;32m      4\u001b[0m \u001b[38;5;28;01mdef\u001b[39;00m \u001b[38;5;21madd\u001b[39m(a,b,c):\n",
      "\u001b[1;31mNameError\u001b[0m: name 'multipledispacth' is not defined"
     ]
    }
   ],
   "source": [
    "@multipledispacth\n",
    "def add(a,b):\n",
    "        print(a+b)\n",
    "def add(a,b,c):\n",
    "        print(a+b+c)"
   ]
  },
  {
   "cell_type": "code",
   "execution_count": 5,
   "id": "8dcc9404-bb87-4f0c-a455-246269b124f2",
   "metadata": {},
   "outputs": [
    {
     "name": "stdout",
     "output_type": "stream",
     "text": [
      "Requirement already satisfied: multipledispatch in c:\\users\\venkatesh\\appdata\\local\\programs\\python\\python311\\lib\\site-packages (1.0.0)\n",
      "Note: you may need to restart the kernel to use updated packages.\n"
     ]
    },
    {
     "name": "stderr",
     "output_type": "stream",
     "text": [
      "\n",
      "[notice] A new release of pip is available: 23.2.1 -> 23.3.2\n",
      "[notice] To update, run: python.exe -m pip install --upgrade pip\n"
     ]
    }
   ],
   "source": [
    "pip install multipledispatch"
   ]
  },
  {
   "cell_type": "code",
   "execution_count": 8,
   "id": "61b59f33-bcb9-4795-a2ac-e1759c8161e0",
   "metadata": {},
   "outputs": [
    {
     "ename": "NameError",
     "evalue": "name 'multipledispatch' is not defined",
     "output_type": "error",
     "traceback": [
      "\u001b[1;31m---------------------------------------------------------------------------\u001b[0m",
      "\u001b[1;31mNameError\u001b[0m                                 Traceback (most recent call last)",
      "Cell \u001b[1;32mIn[8], line 1\u001b[0m\n\u001b[1;32m----> 1\u001b[0m \u001b[38;5;129m@multipledispatch\u001b[39m\n\u001b[0;32m      2\u001b[0m \u001b[38;5;28;01mdef\u001b[39;00m \u001b[38;5;21madd\u001b[39m(a,b):\n\u001b[0;32m      3\u001b[0m         \u001b[38;5;28mprint\u001b[39m(a\u001b[38;5;241m+\u001b[39mb)\n\u001b[0;32m      4\u001b[0m \u001b[38;5;129m@multipledispatch\u001b[39m\n\u001b[0;32m      5\u001b[0m \u001b[38;5;28;01mdef\u001b[39;00m \u001b[38;5;21madd\u001b[39m(a,b,c):\n",
      "\u001b[1;31mNameError\u001b[0m: name 'multipledispatch' is not defined"
     ]
    }
   ],
   "source": [
    "@multipledispatch\n",
    "def add(a,b):\n",
    "        print(a+b)\n",
    "@multipledispatch\n",
    "def add(a,b,c):\n",
    "        print(a+b+c)\n",
    "add(1,2)"
   ]
  },
  {
   "cell_type": "code",
   "execution_count": 10,
   "id": "e2ee8b3e-b5f5-4fd6-8564-5c9a7bf748aa",
   "metadata": {},
   "outputs": [
    {
     "name": "stdout",
     "output_type": "stream",
     "text": [
      "thanks\n",
      "welcome\n"
     ]
    }
   ],
   "source": [
    "#method overriding concept\n",
    "#same method with same parameters\n",
    "class dad:\n",
    "    def x(self):\n",
    "        print(\"welcome\")\n",
    "class son:\n",
    "    def x(self):\n",
    "        print(\"thanks\")\n",
    "s=son()\n",
    "s.x()\n",
    "y=dad()\n",
    "y.x()\n"
   ]
  },
  {
   "cell_type": "code",
   "execution_count": null,
   "id": "3b4cf352-edb5-441e-a765-80f505d62ffc",
   "metadata": {},
   "outputs": [],
   "source": [
    " What is Object-Oriented Programming (OOP)?\n",
    " What are the four principles of OOP\n",
    "Explain the concepts of encapsulation, inheritance, and polymorphism.\n",
    "What is a class and an object in Python?\n",
    "How do you create a class in Python?\n",
    "What is an instance variable and a class variable?\n",
    "Explain the 'self' parameter in Python.\n",
    "What is the purpose of the 'init' method in a class?\n",
    "How do you create an instance of a class in Python?\n",
    "What is the difference between a function and a method in Python?\n",
    "Explain the concept of inheritance in Python.\n",
    "How can you achieve multiple inheritances in Python?\n",
    "What is method overloading and method overriding?\n",
    "What is a constructor in Python?\n",
    "Explain the purpose of the 'super()' function.\n",
    "What is encapsulation, and how is it implemented in Python?\n",
    "What is polymorphism in Python?\n",
    "How do you achieve polymorphism in Python?\n",
    "What is an abstract class, and how is it different from an interface?\n",
    "How can you implement abstraction in Python?\n",
    "What is the purpose of the 'staticmethod' and 'classmethod' decorators?\n",
    "Explain the concept of composition in Python.\n",
    "How is composition different from inheritance?\n",
    "What is a destructor in Python, and how is it defined?\n",
    "How do you handle exceptions in Python classes?\n",
    "Explain the importance of the 'self' parameter in class methods.\n",
    "What is the difference between 'deep copy' and 'shallow copy'?\n",
    "How can you prevent a class from being inherited in Python?\n",
    "What is the Global Interpreter Lock (GIL) in Python?\n",
    "Explain the use of the 'is' and '==' operators in Python.\n",
    "What is the purpose of the 'str' method in Python?\n",
    "How do you implement operator overloading in Python classes?\n",
    "Explain the role of the 'del' method in Python classes.\n",
    "What is a metaclass in Python?\n",
    "How do you implement a singleton pattern in Python?\n",
    "What are abstract methods in Python?\n",
    "What is the purpose of the 'property' function in Python?\n",
    "Explain the use of the 'isinstance()' and 'issubclass()' functions.\n",
    "What is the difference between 'private', 'protected', and 'public' access specifiers in Python?\n",
    "How can you achieve encapsulation in Python without using private variables?\n",
    "What is a mixin in Python, and how is it used?\n",
    "Explain the concept of method chaining in Python.\n",
    "How do you handle circular dependencies in Python?\n",
    "What is a data descriptor in Python?\n",
    "Explain the purpose of the 'slots' attribute in Python classes.\n",
    "How can you create a custom exception in Python?\n",
    "What is the purpose of the 'staticmethod' method in a class?\n",
    "How do you implement a factory method in Python?\n",
    "Explain the use of the 'getattr()', 'setattr()', and 'delattr()' functions.\n",
    "What is the purpose of the 'property' decorator in Python?"
   ]
  },
  {
   "cell_type": "code",
   "execution_count": null,
   "id": "6cc16ed2-2131-492c-987f-7a933fd47307",
   "metadata": {},
   "outputs": [],
   "source": []
  },
  {
   "cell_type": "code",
   "execution_count": null,
   "id": "90e2da8d-7486-4cda-aa1d-73967644f3ff",
   "metadata": {},
   "outputs": [],
   "source": []
  },
  {
   "cell_type": "code",
   "execution_count": null,
   "id": "a9fbecc3-5d0e-493c-a588-f384cde54003",
   "metadata": {},
   "outputs": [],
   "source": []
  },
  {
   "cell_type": "code",
   "execution_count": null,
   "id": "8a7ca834-73db-49e2-b27a-380a9e6e1ae8",
   "metadata": {},
   "outputs": [],
   "source": []
  },
  {
   "cell_type": "code",
   "execution_count": null,
   "id": "f8a973f3-0023-4526-bbc8-689aa0fdeaa2",
   "metadata": {},
   "outputs": [],
   "source": []
  },
  {
   "cell_type": "code",
   "execution_count": null,
   "id": "6b02f86b-46fb-48d8-8360-e97045b2f5ae",
   "metadata": {},
   "outputs": [],
   "source": []
  },
  {
   "cell_type": "code",
   "execution_count": null,
   "id": "54e6bb1c-07b2-4d9c-93bb-944b824e8211",
   "metadata": {},
   "outputs": [],
   "source": []
  },
  {
   "cell_type": "code",
   "execution_count": null,
   "id": "bc3cbbd0-4e4c-48bf-8000-2133ce85ad86",
   "metadata": {},
   "outputs": [],
   "source": []
  }
 ],
 "metadata": {
  "kernelspec": {
   "display_name": "Python 3 (ipykernel)",
   "language": "python",
   "name": "python3"
  },
  "language_info": {
   "codemirror_mode": {
    "name": "ipython",
    "version": 3
   },
   "file_extension": ".py",
   "mimetype": "text/x-python",
   "name": "python",
   "nbconvert_exporter": "python",
   "pygments_lexer": "ipython3",
   "version": "3.11.5"
  }
 },
 "nbformat": 4,
 "nbformat_minor": 5
}
