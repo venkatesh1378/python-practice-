{
 "cells": [
  {
   "cell_type": "code",
   "execution_count": null,
   "id": "022d5407-71a0-44fb-85d6-68521f4ceff1",
   "metadata": {},
   "outputs": [],
   "source": [
    "1. Write a Python program to create a set."
   ]
  },
  {
   "cell_type": "code",
   "execution_count": 3,
   "id": "ec48b8ed-0c66-40b9-a840-06e58c983147",
   "metadata": {},
   "outputs": [
    {
     "name": "stdout",
     "output_type": "stream",
     "text": [
      "<class 'set'>\n"
     ]
    },
    {
     "data": {
      "text/plain": [
       "{1, 2, 3}"
      ]
     },
     "execution_count": 3,
     "metadata": {},
     "output_type": "execute_result"
    }
   ],
   "source": [
    "a=set()\n",
    "print(type(a))\n",
    "b={1,2,3}\n",
    "b"
   ]
  },
  {
   "cell_type": "code",
   "execution_count": null,
   "id": "d31733fa-d041-4fea-865d-d4197d5fd8b8",
   "metadata": {},
   "outputs": [],
   "source": [
    "2. Write a Python program to iterate over sets."
   ]
  },
  {
   "cell_type": "code",
   "execution_count": 8,
   "id": "286747db-5f43-408a-a83a-d0e86ad2bd76",
   "metadata": {},
   "outputs": [
    {
     "name": "stdout",
     "output_type": "stream",
     "text": [
      "k t n h e v s a  \n",
      "1 2 3 4 5 6 "
     ]
    }
   ],
   "source": [
    "a=\"venkatesh\"\n",
    "b=set(a)\n",
    "for i in b:\n",
    "    print(i,end=\" \")\n",
    "print(\" \")\n",
    "x={1,2,3,4,5,6,4}\n",
    "for i in x:\n",
    "    print(i,end=\" \")"
   ]
  },
  {
   "cell_type": "code",
   "execution_count": null,
   "id": "914b2318-ccc1-45d6-b54e-d07f55c8ff00",
   "metadata": {},
   "outputs": [],
   "source": [
    "3. Write a Python program to add member(s) to a set."
   ]
  },
  {
   "cell_type": "code",
   "execution_count": 13,
   "id": "65c5490a-be71-43de-b663-e6016e4c7a41",
   "metadata": {},
   "outputs": [
    {
     "data": {
      "text/plain": [
       "{'green', 'pink', 'red'}"
      ]
     },
     "execution_count": 13,
     "metadata": {},
     "output_type": "execute_result"
    }
   ],
   "source": [
    "a=set()\n",
    "a.add(\"pink\")\n",
    "a.update([\"red\",\"green\"])\n",
    "a"
   ]
  },
  {
   "cell_type": "code",
   "execution_count": 17,
   "id": "fab50ebe-206b-4956-a015-6d09737877f6",
   "metadata": {},
   "outputs": [
    {
     "data": {
      "text/plain": [
       "{'pink', 'red', 'yellow'}"
      ]
     },
     "execution_count": 17,
     "metadata": {},
     "output_type": "execute_result"
    }
   ],
   "source": [
    "#4. Write a Python program to remove item(s) from a given set.\n",
    "a={\"red\",\"pink\",\"yellow\"}\n",
    "a.discard(\"grey\")\n",
    "a"
   ]
  },
  {
   "cell_type": "code",
   "execution_count": null,
   "id": "34fe236c-7fb3-4dec-aca3-1c01e1a3b55b",
   "metadata": {},
   "outputs": [],
   "source": [
    "5. Write a Python program to remove an item from a set if it is present in the set."
   ]
  },
  {
   "cell_type": "code",
   "execution_count": 18,
   "id": "b80edd6f-4ef8-4071-b358-26da67ce3969",
   "metadata": {},
   "outputs": [
    {
     "data": {
      "text/plain": [
       "{'pink', 'red', 'yellow'}"
      ]
     },
     "execution_count": 18,
     "metadata": {},
     "output_type": "execute_result"
    }
   ],
   "source": [
    "a={\"red\",\"pink\",\"yellow\"}\n",
    "a.discard(\"grey\")\n",
    "a"
   ]
  },
  {
   "cell_type": "code",
   "execution_count": null,
   "id": "a78616f0-0978-4392-9b3d-696364b9723c",
   "metadata": {},
   "outputs": [],
   "source": [
    "6.Write a Python program to create an intersection of sets."
   ]
  },
  {
   "cell_type": "code",
   "execution_count": 26,
   "id": "f30e4f84-50a9-42d1-b649-f22bcb8918fe",
   "metadata": {},
   "outputs": [
    {
     "name": "stdout",
     "output_type": "stream",
     "text": [
      "{'pink'}\n",
      "{'pink'}\n"
     ]
    }
   ],
   "source": [
    "a={\"red\",\"pink\",\"yellow\"}\n",
    "b={\"pink\",\"grey\",\"purple\"}\n",
    "c=set()\n",
    "for i in a:\n",
    "    for j in b:\n",
    "        if i==j:\n",
    "            c.add(i)\n",
    "print(c)\n",
    "#======================\n",
    "print(a&b)"
   ]
  },
  {
   "cell_type": "code",
   "execution_count": null,
   "id": "f98ef01c-f35f-4c04-9bc8-710d097f3b00",
   "metadata": {},
   "outputs": [],
   "source": [
    "7. Write a Python program to create a union of sets.\n"
   ]
  },
  {
   "cell_type": "code",
   "execution_count": 54,
   "id": "220b3991-0692-4d99-975d-d19efd2c7c45",
   "metadata": {},
   "outputs": [
    {
     "name": "stdout",
     "output_type": "stream",
     "text": [
      "{'pink', 'grey', 'yellow', 'purple', 'red'}\n",
      "{'pink', 'purple', 'yellow', 'grey', 'red'}\n"
     ]
    }
   ],
   "source": [
    "a={\"red\",\"pink\",\"yellow\"}\n",
    "b={\"pink\",\"grey\",\"purple\"}\n",
    "c=set()\n",
    "for i in a:\n",
    "    for j in b:\n",
    "        if i==j:\n",
    "            c.add(i)\n",
    "        else:\n",
    "            c.add(i)\n",
    "            c.add(j)\n",
    "print(c)\n",
    "k=a|b\n",
    "print(k)"
   ]
  },
  {
   "cell_type": "code",
   "execution_count": null,
   "id": "3b8963d4-0158-4f58-bf3d-85227973da87",
   "metadata": {},
   "outputs": [],
   "source": [
    "8. Write a Python program to create set difference."
   ]
  },
  {
   "cell_type": "code",
   "execution_count": 56,
   "id": "e3fbe43c-5fd8-4b29-b9a6-35f0ee906180",
   "metadata": {},
   "outputs": [
    {
     "data": {
      "text/plain": [
       "{'red', 'yellow'}"
      ]
     },
     "execution_count": 56,
     "metadata": {},
     "output_type": "execute_result"
    }
   ],
   "source": [
    "a={\"red\",\"pink\",\"yellow\"}\n",
    "b={\"pink\",\"grey\",\"purple\"}\n",
    "c=set()\n",
    "for i in a:\n",
    "    if i  not in b:\n",
    "        c.add(i)\n",
    "c\n",
    "        "
   ]
  },
  {
   "cell_type": "code",
   "execution_count": null,
   "id": "9e1dfd27-a9fb-40e6-83e8-06517970c87a",
   "metadata": {},
   "outputs": [],
   "source": [
    "9. Write a Python program to create a symmetric difference.\n"
   ]
  },
  {
   "cell_type": "code",
   "execution_count": 59,
   "id": "ce486776-eccb-4d7e-9490-d662f8808187",
   "metadata": {},
   "outputs": [
    {
     "name": "stdout",
     "output_type": "stream",
     "text": [
      "{'red', 'grey', 'purple', 'yellow'}\n",
      "{'yellow', 'grey', 'purple', 'red'}\n"
     ]
    }
   ],
   "source": [
    "a={\"red\",\"pink\",\"yellow\"}\n",
    "b={\"pink\",\"grey\",\"purple\"}\n",
    "c=set()\n",
    "for i in a:\n",
    "    if i not in b:\n",
    "        c.add(i)\n",
    "for i in b:\n",
    "    if i not in a:\n",
    "        c.add(i)\n",
    "\n",
    "print(c)\n",
    "k=a^b\n",
    "print(k)"
   ]
  },
  {
   "cell_type": "code",
   "execution_count": null,
   "id": "009d1b4a-5a85-4fce-9e3f-4f108c87a0f9",
   "metadata": {},
   "outputs": [],
   "source": []
  },
  {
   "cell_type": "code",
   "execution_count": null,
   "id": "82e179f6-da78-4360-9e81-1b669cd79f6b",
   "metadata": {},
   "outputs": [],
   "source": [
    "10. Write a Python program to check if a set is a subset of another set."
   ]
  },
  {
   "cell_type": "code",
   "execution_count": 65,
   "id": "0767a441-09b5-4944-8618-d48f9818af19",
   "metadata": {},
   "outputs": [
    {
     "name": "stdout",
     "output_type": "stream",
     "text": [
      "tesd\n"
     ]
    }
   ],
   "source": [
    "setx = set([\"apple\", \"mango\"])\n",
    "sety = set([\"mango\", \"orange\"])\n",
    "setz = set([\"mango\"])\n",
    "if setz.issubset(setx):\n",
    "    print(\"true\")\n",
    "else:\n",
    "    print(\"False\")"
   ]
  },
  {
   "cell_type": "code",
   "execution_count": null,
   "id": "582f521a-463e-4c4f-b4b3-05dd911242da",
   "metadata": {},
   "outputs": [],
   "source": [
    "11. Write a Python program to create a shallow copy of sets.\n",
    "\n",
    "Note : Shallow copy is a bit-wise copy of an object. A new object is created that has an exact copy of the values in the original object."
   ]
  },
  {
   "cell_type": "code",
   "execution_count": 66,
   "id": "aea9733b-c344-42b9-b3ab-12edfa571d45",
   "metadata": {},
   "outputs": [
    {
     "data": {
      "text/plain": [
       "{'apple', 'mango'}"
      ]
     },
     "execution_count": 66,
     "metadata": {},
     "output_type": "execute_result"
    }
   ],
   "source": [
    "setx = set([\"apple\", \"mango\"])\n",
    "sety = set([\"mango\", \"orange\"])\n",
    "a=setx.copy()\n",
    "a"
   ]
  },
  {
   "cell_type": "code",
   "execution_count": null,
   "id": "1c33069b-155e-4699-bc2a-4758f2b1924c",
   "metadata": {},
   "outputs": [],
   "source": [
    "12. Write a Python program to remove all elements from a given set."
   ]
  },
  {
   "cell_type": "code",
   "execution_count": 71,
   "id": "ba85927b-ebe6-4ce0-b577-290172484681",
   "metadata": {},
   "outputs": [
    {
     "data": {
      "text/plain": [
       "set()"
      ]
     },
     "execution_count": 71,
     "metadata": {},
     "output_type": "execute_result"
    }
   ],
   "source": [
    "setc = {\"Red\", \"Green\", \"Black\", \"White\"}\n",
    "setc.clear()\n",
    "setc"
   ]
  },
  {
   "cell_type": "code",
   "execution_count": null,
   "id": "180d1041-3a9c-46c3-b0e1-699a72b84925",
   "metadata": {},
   "outputs": [],
   "source": [
    "14. Write a Python program to find the maximum and minimum values in a set."
   ]
  },
  {
   "cell_type": "code",
   "execution_count": 72,
   "id": "07e0980f-e3fd-4281-a441-0e72b5ee28bc",
   "metadata": {},
   "outputs": [
    {
     "name": "stdout",
     "output_type": "stream",
     "text": [
      "20\n",
      "2\n"
     ]
    }
   ],
   "source": [
    "setn = {5, 10, 3, 15, 2, 20}\n",
    "print(max(setn))\n",
    "print(min(setn))"
   ]
  },
  {
   "cell_type": "code",
   "execution_count": null,
   "id": "78322128-11a3-44a2-883e-e311798d8116",
   "metadata": {},
   "outputs": [],
   "source": [
    "15. Write a Python program to find the length of a set."
   ]
  },
  {
   "cell_type": "code",
   "execution_count": 73,
   "id": "9de591d1-5102-4a60-89ce-01787c5396b0",
   "metadata": {},
   "outputs": [
    {
     "data": {
      "text/plain": [
       "6"
      ]
     },
     "execution_count": 73,
     "metadata": {},
     "output_type": "execute_result"
    }
   ],
   "source": [
    "setn = {5, 10, 3, 15, 2, 20}\n",
    "len(setn)"
   ]
  },
  {
   "cell_type": "code",
   "execution_count": null,
   "id": "303cd187-59f8-4fab-b95b-57daacf89109",
   "metadata": {},
   "outputs": [],
   "source": [
    "16. Write a Python program to check if a given value is present in a set or not."
   ]
  },
  {
   "cell_type": "code",
   "execution_count": 75,
   "id": "d87880cf-7452-40cd-96e2-103f147d170d",
   "metadata": {},
   "outputs": [
    {
     "name": "stdin",
     "output_type": "stream",
     "text": [
      " 14\n"
     ]
    },
    {
     "name": "stdout",
     "output_type": "stream",
     "text": [
      "False\n"
     ]
    }
   ],
   "source": [
    "nums = {1, 3, 5, 7, 9, 11}\n",
    "k=int(input())\n",
    "if k in nums:\n",
    "    print(True)\n",
    "else:\n",
    "    print(False)"
   ]
  },
  {
   "cell_type": "code",
   "execution_count": null,
   "id": "21321cde-5ea5-4f24-92ed-93f70c9f362d",
   "metadata": {},
   "outputs": [],
   "source": [
    "17. Write a Python program to check if two given sets have no elements in common."
   ]
  },
  {
   "cell_type": "code",
   "execution_count": 76,
   "id": "759178b2-e377-46f8-a9fc-86b11d829cd4",
   "metadata": {},
   "outputs": [
    {
     "data": {
      "text/plain": [
       "False"
      ]
     },
     "execution_count": 76,
     "metadata": {},
     "output_type": "execute_result"
    }
   ],
   "source": [
    "x = {1, 2, 3, 4}\n",
    "y = {4, 5, 6, 7}\n",
    "k=x.isdisjoint(y)\n",
    "k"
   ]
  },
  {
   "cell_type": "code",
   "execution_count": null,
   "id": "818fa52e-6c8e-4b79-aa05-5481ec9b5d28",
   "metadata": {},
   "outputs": [],
   "source": [
    "18. Write a Python program to check if a given set is a superset of itself and a superset of another given set."
   ]
  },
  {
   "cell_type": "code",
   "execution_count": 80,
   "id": "483e1cab-86f2-4de7-83da-98078ddeecdc",
   "metadata": {},
   "outputs": [
    {
     "data": {
      "text/plain": [
       "True"
      ]
     },
     "execution_count": 80,
     "metadata": {},
     "output_type": "execute_result"
    }
   ],
   "source": [
    "num1 = {1, 2, 3, 4, 5, 7}\n",
    "num2 = {2, 4}\n",
    "num3 = {2, 4}\n",
    "k=num1.issuperset(num3)\n",
    "k"
   ]
  },
  {
   "cell_type": "code",
   "execution_count": null,
   "id": "ae76d237-76a3-4579-b4b3-31762f5e6542",
   "metadata": {},
   "outputs": [],
   "source": [
    "19. Write a Python program to find elements in a given set that are not in another set."
   ]
  },
  {
   "cell_type": "code",
   "execution_count": 81,
   "id": "359e9908-a46a-4ffd-bfd5-40b43a286437",
   "metadata": {},
   "outputs": [
    {
     "name": "stdout",
     "output_type": "stream",
     "text": [
      "{1, 2, 3}\n"
     ]
    }
   ],
   "source": [
    "n1 = {1, 2, 3, 4, 5}\n",
    "sn2 = {4, 5, 6, 7, 8}\n",
    "print(n1-sn2)"
   ]
  },
  {
   "cell_type": "code",
   "execution_count": null,
   "id": "24e7ecf6-4afd-4e9d-a8cc-5642e23d0d36",
   "metadata": {},
   "outputs": [],
   "source": [
    "20. Write a Python program to remove the intersection of a second set with a first set."
   ]
  },
  {
   "cell_type": "code",
   "execution_count": 82,
   "id": "5030502c-9c29-4da0-83c3-8f1b80abc2ce",
   "metadata": {},
   "outputs": [
    {
     "name": "stdout",
     "output_type": "stream",
     "text": [
      "{1, 2, 3}\n"
     ]
    }
   ],
   "source": [
    "n1 = {1, 2, 3, 4, 5}\n",
    "sn2 = {4, 5, 6, 7, 8}\n",
    "print(n1-sn2)"
   ]
  },
  {
   "cell_type": "code",
   "execution_count": null,
   "id": "425370c5-a7ce-46b8-92e0-f0c3b7523763",
   "metadata": {},
   "outputs": [],
   "source": [
    "21. Write a Python program to find all the unique words and count the frequency of occurrence from a given list of strings. Use Python set data type."
   ]
  },
  {
   "cell_type": "code",
   "execution_count": 83,
   "id": "8d463c72-5ed5-479e-923e-23f490467eef",
   "metadata": {},
   "outputs": [
    {
     "data": {
      "text/plain": [
       "{'Blue': 1, 'Red': 4, 'Green': 2}"
      ]
     },
     "execution_count": 83,
     "metadata": {},
     "output_type": "execute_result"
    }
   ],
   "source": [
    "words = ['Red', 'Green', 'Red', 'Blue', 'Red', 'Red', 'Green']\n",
    "b={}\n",
    "for i in set(words):\n",
    "    b[i]=words.count(i)\n",
    "b"
   ]
  },
  {
   "cell_type": "code",
   "execution_count": null,
   "id": "ed9e9be6-03a5-448e-9665-aad806beb103",
   "metadata": {},
   "outputs": [],
   "source": [
    "22. Write a Python program that finds all pairs of elements in a list whose sum is equal to a given value."
   ]
  },
  {
   "cell_type": "code",
   "execution_count": 84,
   "id": "26cfbb01-1bda-4418-88c5-42a0ca78358c",
   "metadata": {},
   "outputs": [
    {
     "data": {
      "text/plain": [
       "[(15, 20), (16, 19), (17, 18)]"
      ]
     },
     "execution_count": 84,
     "metadata": {},
     "output_type": "execute_result"
    }
   ],
   "source": [
    "nums = [10, 11, 12, 13, 14, 15, 16, 17, 18, 19, 20]\n",
    "target=35\n",
    "k=[]\n",
    "for i in range(len(nums)):\n",
    "    for j in range(i+1,len(nums)):\n",
    "        if nums[i]+nums[j]==target:\n",
    "            k.append((nums[i],nums[j]))\n",
    "k\n",
    "        "
   ]
  },
  {
   "cell_type": "code",
   "execution_count": 88,
   "id": "da8de98d-e7b4-4d68-aabe-febd8b74640f",
   "metadata": {},
   "outputs": [
    {
     "data": {
      "text/plain": [
       "[{15, 20}, {16, 19}, {17, 18}, {17, 18}, {16, 19}, {15, 20}]"
      ]
     },
     "execution_count": 88,
     "metadata": {},
     "output_type": "execute_result"
    }
   ],
   "source": [
    "nums = [10, 11, 12, 13, 14, 15, 16, 17, 18, 19, 20]\n",
    "target=35\n",
    "k1=[]\n",
    "for i in nums:\n",
    "    y=set()\n",
    "    k=target-i\n",
    "    if k in nums:\n",
    "        y.update([i,k])\n",
    "        k1.append(y)\n",
    "k1\n",
    "        "
   ]
  },
  {
   "cell_type": "code",
   "execution_count": null,
   "id": "89412d8c-aa12-4c13-985c-14aaace88b02",
   "metadata": {},
   "outputs": [],
   "source": [
    "23. Write a Python program to find the longest common prefix of all strings. Use the Python set."
   ]
  },
  {
   "cell_type": "code",
   "execution_count": 91,
   "id": "5f9bcee2-e287-482a-8104-1e80d9ee3ce7",
   "metadata": {},
   "outputs": [
    {
     "data": {
      "text/plain": [
       "{'f', 'g', 'h', 'p', 'q', 'r'}"
      ]
     },
     "execution_count": 91,
     "metadata": {},
     "output_type": "execute_result"
    }
   ],
   "source": [
    "a=['pqrefgh', 'pqrsfgh']\n"
   ]
  },
  {
   "cell_type": "code",
   "execution_count": null,
   "id": "0d91bde2-104f-4d13-91fe-67313c7b156b",
   "metadata": {},
   "outputs": [],
   "source": []
  },
  {
   "cell_type": "code",
   "execution_count": null,
   "id": "8fcba7b7-6fcd-4371-9608-5fe2c272f425",
   "metadata": {},
   "outputs": [],
   "source": [
    "24. Write a Python program to find the two numbers whose product is maximum among all the pairs in a given list of numbers. Use the Python set."
   ]
  },
  {
   "cell_type": "code",
   "execution_count": 94,
   "id": "c721ab10-a5c8-4e27-8250-cb9a3f50748e",
   "metadata": {},
   "outputs": [
    {
     "name": "stdout",
     "output_type": "stream",
     "text": [
      "(9, 8)\n"
     ]
    }
   ],
   "source": [
    "nums = [1, 2, 3, 4, 5, 6, 7, 8, 9]\n",
    "b=sorted(set(nums))\n",
    "print((b[-1],b[-2]))"
   ]
  },
  {
   "cell_type": "code",
   "execution_count": null,
   "id": "bdd83bba-c2f9-4792-94cb-3278bdca482e",
   "metadata": {},
   "outputs": [],
   "source": [
    "25. Given two sets of numbers, write a Python program to find the missing numbers in \n",
    "the second set as compared to the first and vice versa. Use the Python set."
   ]
  },
  {
   "cell_type": "code",
   "execution_count": 95,
   "id": "6948d21c-4f00-4480-b138-e97e0cfca5b2",
   "metadata": {},
   "outputs": [
    {
     "name": "stdout",
     "output_type": "stream",
     "text": [
      "{1, 2, 3, 4, 5}\n",
      "{8, 6, 7}\n"
     ]
    }
   ],
   "source": [
    "s = {1, 2, 3, 4, 5}\n",
    "s1= {6, 7, 8}\n",
    "print(s-s1)\n",
    "print(s1-s)\n"
   ]
  },
  {
   "cell_type": "code",
   "execution_count": null,
   "id": "faeab8d4-4d3a-40f1-bbef-c06715d060ad",
   "metadata": {},
   "outputs": [],
   "source": [
    "26. Write a Python program to find all the anagrams and group them together from a given list of strings. Use the Python data type."
   ]
  },
  {
   "cell_type": "code",
   "execution_count": 139,
   "id": "9c736b4a-56ae-4c9b-8fd4-8c77701cc7f0",
   "metadata": {},
   "outputs": [
    {
     "data": {
      "text/plain": [
       "[-1, -1, 0, 0, 0, ['eat', 'tae'], ['cba', 'abc'], [], [], []]"
      ]
     },
     "execution_count": 139,
     "metadata": {},
     "output_type": "execute_result"
    }
   ],
   "source": [
    "a=['eat', 'cba', 'tae', 'abc', 'xyz']\n",
    "k1=[]\n",
    "for i in a:\n",
    "    k1+=[0]\n",
    "for i in range(len(a)):\n",
    "    b=[]\n",
    "    x=a[i]\n",
    "    for j in range(i+1,len(a)):\n",
    "        if k1[i]!=-1:\n",
    "            count=0\n",
    "            for k in a[j]:\n",
    "                if k in a[i]:\n",
    "                    count+=1\n",
    "            if count==len(a[i]):\n",
    "                b.append(a[i])\n",
    "                b.append(a[j])\n",
    "                k1[i]=-1\n",
    "    k1.append(b)\n",
    "k1\n",
    "            \n",
    "        "
   ]
  },
  {
   "cell_type": "code",
   "execution_count": 97,
   "id": "ee65f093-74ee-4df2-923e-d068743a6724",
   "metadata": {},
   "outputs": [
    {
     "name": "stdout",
     "output_type": "stream",
     "text": [
      "True\n"
     ]
    }
   ],
   "source": []
  },
  {
   "cell_type": "code",
   "execution_count": 138,
   "id": "5a9609e3-0994-4b72-a130-33504af0027e",
   "metadata": {},
   "outputs": [
    {
     "data": {
      "text/plain": [
       "[['eat', 'tae'], ['cba', 'abc'], ['xyz']]"
      ]
     },
     "execution_count": 138,
     "metadata": {},
     "output_type": "execute_result"
    }
   ],
   "source": [
    "strs = ['eat', 'cba', 'tae', 'abc', 'xyz']\n",
    "a=[]\n",
    "k=[0,0,0,0,0]\n",
    "for i in strs:\n",
    "    a.append(''.join(sorted(i)))\n",
    "a\n",
    "\n",
    "b=[]\n",
    "for i in range(len(a)):\n",
    "         if k[i]!=-1:\n",
    "             k1=[]\n",
    "             k1.append(strs[i])\n",
    "             for j in range(i+1,len(a)):\n",
    "                if a[i]==a[j]:\n",
    "                    k1.append(strs[j])\n",
    "                    k[j]=-1\n",
    "             b.append(k1)\n",
    "b\n",
    "\n",
    "            \n",
    "            "
   ]
  },
  {
   "cell_type": "code",
   "execution_count": null,
   "id": "6288b936-86bb-4501-a5db-e54f4389281a",
   "metadata": {},
   "outputs": [],
   "source": []
  },
  {
   "cell_type": "code",
   "execution_count": null,
   "id": "ead42a55-5834-4d6c-8ce7-113aeb0abe94",
   "metadata": {},
   "outputs": [],
   "source": [
    "a"
   ]
  },
  {
   "cell_type": "code",
   "execution_count": null,
   "id": "6d03252b-f9cc-46ca-988a-a9aefcffd660",
   "metadata": {},
   "outputs": [],
   "source": []
  },
  {
   "cell_type": "code",
   "execution_count": null,
   "id": "76a725b9-e7cc-47dc-9ad9-f0ed64a8fe58",
   "metadata": {},
   "outputs": [],
   "source": []
  },
  {
   "cell_type": "code",
   "execution_count": null,
   "id": "4ce49c09-493a-469e-9a44-4c4558f85a47",
   "metadata": {},
   "outputs": [],
   "source": [
    "28. Write a Python program to find all the unique combinations of 3 numbers from a given list of numbers, adding up to a target number."
   ]
  },
  {
   "cell_type": "code",
   "execution_count": 106,
   "id": "4699b701-aa11-4654-ac67-06a1db5df0ff",
   "metadata": {
    "scrolled": true
   },
   "outputs": [
    {
     "name": "stdout",
     "output_type": "stream",
     "text": [
      "1 2 9\n",
      "1 3 8\n",
      "1 4 7\n",
      "1 5 6\n",
      "2 3 7\n",
      "2 4 6\n",
      "3 4 5\n"
     ]
    }
   ],
   "source": [
    "nums = [1, 2, 3, 4, 5, 6, 7, 8, 9]\n",
    "target = 12\n",
    "for i in range(len(nums)):\n",
    "    for j in range(i+1,len(nums)):\n",
    "        k=target-(nums[i]+nums[j])\n",
    "        y=nums[j+1:]\n",
    "        if k in y:\n",
    "            print(nums[i],nums[j],k)"
   ]
  },
  {
   "cell_type": "code",
   "execution_count": null,
   "id": "cefc5df5-b772-41ae-ba25-1d89d34d1519",
   "metadata": {},
   "outputs": [],
   "source": [
    "29. Write a Python program to find the third largest number from a given list of numbers.Use the Python set data type."
   ]
  },
  {
   "cell_type": "code",
   "execution_count": 108,
   "id": "e97d7240-01c0-4c40-90d6-79e7b9e5f0af",
   "metadata": {},
   "outputs": [
    {
     "data": {
      "text/plain": [
       "8"
      ]
     },
     "execution_count": 108,
     "metadata": {},
     "output_type": "execute_result"
    }
   ],
   "source": [
    "nums = [1, 2, 3, 4, 5, 5, 6, 7, 7, 8, 8, 9, 10]\n",
    "b=sorted(set(nums))\n",
    "b[-3]"
   ]
  },
  {
   "cell_type": "code",
   "execution_count": 110,
   "id": "7af63e2e-86fa-4975-9cd1-542b1f72c915",
   "metadata": {},
   "outputs": [
    {
     "name": "stdout",
     "output_type": "stream",
     "text": [
      "None\n"
     ]
    }
   ],
   "source": [
    "nums = [1, 2,2]\n",
    "try:\n",
    "    b=sorted(set(nums))\n",
    "    b[-3]\n",
    "except:\n",
    "    print(\"None\")"
   ]
  },
  {
   "cell_type": "code",
   "execution_count": null,
   "id": "bb0bc7b7-b4d2-491e-adef-f99db3831f90",
   "metadata": {},
   "outputs": [],
   "source": [
    "30. Write a Python program to remove all duplicates from a given list of strings and return a list of unique strings. Use the Python set data type."
   ]
  },
  {
   "cell_type": "code",
   "execution_count": 111,
   "id": "1949cfd2-17d3-4407-8f29-9eb9d33b5c41",
   "metadata": {},
   "outputs": [
    {
     "data": {
      "text/plain": [
       "['foo', 'qux', 'abc', 'bar', 'baz']"
      ]
     },
     "execution_count": 111,
     "metadata": {},
     "output_type": "execute_result"
    }
   ],
   "source": [
    "strs = ['foo', 'bar', 'abc', 'foo', 'qux', 'bar', 'baz']\n",
    "b=set(strs)\n",
    "c=list(b)\n",
    "c"
   ]
  },
  {
   "cell_type": "code",
   "execution_count": null,
   "id": "5a4c190f-77b1-49dc-aea0-409821e722d9",
   "metadata": {},
   "outputs": [],
   "source": []
  },
  {
   "cell_type": "code",
   "execution_count": null,
   "id": "3662c93c-8b19-4444-98df-57fc101ba6f3",
   "metadata": {},
   "outputs": [],
   "source": []
  },
  {
   "cell_type": "code",
   "execution_count": null,
   "id": "6eb2e81b-1ea3-49ae-b68a-875d70b73afb",
   "metadata": {},
   "outputs": [],
   "source": []
  },
  {
   "cell_type": "code",
   "execution_count": null,
   "id": "0918620d-8187-4e54-96d2-719a23fae29f",
   "metadata": {},
   "outputs": [],
   "source": []
  },
  {
   "cell_type": "code",
   "execution_count": null,
   "id": "90fd6ac7-1f99-46a1-9b70-97227c4b5dbc",
   "metadata": {},
   "outputs": [],
   "source": []
  },
  {
   "cell_type": "code",
   "execution_count": 6,
   "id": "b6ca6f1e-f1b5-4bda-b333-ae10f789e045",
   "metadata": {},
   "outputs": [
    {
     "name": "stdin",
     "output_type": "stream",
     "text": [
      " 4\n",
      " 2\n"
     ]
    },
    {
     "name": "stdout",
     "output_type": "stream",
     "text": [
      "-1\n"
     ]
    },
    {
     "name": "stdin",
     "output_type": "stream",
     "text": [
      " 3\n"
     ]
    },
    {
     "name": "stdout",
     "output_type": "stream",
     "text": [
      "[] 0\n",
      "1\n",
      "2\n",
      "[] 0\n",
      "2\n",
      "1\n",
      "[] 0\n"
     ]
    },
    {
     "name": "stdin",
     "output_type": "stream",
     "text": [
      " 7\n"
     ]
    },
    {
     "name": "stdout",
     "output_type": "stream",
     "text": [
      "['1', '1'] 2\n",
      "['1', '1', '1', '1'] 4\n",
      "['1', '1', '1', '1', '1', '1'] 6\n",
      "3\n",
      "2\n",
      "['1', '1', '1', '1', '1', '1'] 6\n",
      "4\n",
      "1\n",
      "['1', '1', '1', '1', '1', '1'] 6\n",
      "['1', '1', '1', '1', '1', '1', '1', '1'] 8\n",
      "['1', '1', '1', '1', '1', '1', '1', '1', '1', '1'] 10\n"
     ]
    },
    {
     "name": "stdin",
     "output_type": "stream",
     "text": [
      " e\n"
     ]
    },
    {
     "ename": "ValueError",
     "evalue": "invalid literal for int() with base 10: 'e'",
     "output_type": "error",
     "traceback": [
      "\u001b[1;31m---------------------------------------------------------------------------\u001b[0m",
      "\u001b[1;31mValueError\u001b[0m                                Traceback (most recent call last)",
      "Cell \u001b[1;32mIn[6], line 3\u001b[0m\n\u001b[0;32m      1\u001b[0m a\u001b[38;5;241m=\u001b[39m\u001b[38;5;28mint\u001b[39m(\u001b[38;5;28minput\u001b[39m())\n\u001b[0;32m      2\u001b[0m \u001b[38;5;28;01mfor\u001b[39;00m i \u001b[38;5;129;01min\u001b[39;00m \u001b[38;5;28mrange\u001b[39m(a):\n\u001b[1;32m----> 3\u001b[0m     k\u001b[38;5;241m=\u001b[39m\u001b[38;5;28;43mint\u001b[39;49m\u001b[43m(\u001b[49m\u001b[38;5;28;43minput\u001b[39;49m\u001b[43m(\u001b[49m\u001b[43m)\u001b[49m\u001b[43m)\u001b[49m\n\u001b[0;32m      4\u001b[0m     \u001b[38;5;28;01mif\u001b[39;00m k\u001b[38;5;241m%\u001b[39m\u001b[38;5;241m2\u001b[39m\u001b[38;5;241m==\u001b[39m\u001b[38;5;241m0\u001b[39m:\n\u001b[0;32m      5\u001b[0m         \u001b[38;5;28mprint\u001b[39m(\u001b[38;5;241m-\u001b[39m\u001b[38;5;241m1\u001b[39m)\n",
      "\u001b[1;31mValueError\u001b[0m: invalid literal for int() with base 10: 'e'"
     ]
    }
   ],
   "source": [
    "a=int(input())\n",
    "for i in range(a):\n",
    "    k=int(input())\n",
    "    if k%2==0:\n",
    "        print(-1)\n",
    "    else:\n",
    "        f=[]\n",
    "        count=0\n",
    "        for i in range(k):\n",
    "            if (2*i)+1==k:\n",
    "                print(i)\n",
    "                print(\"2\")\n",
    "            elif (2*i)-1==k:\n",
    "                print(i)\n",
    "                print(\"1\")\n",
    "            else:\n",
    "                x=k//2\n",
    "                i=1\n",
    "                k1=1\n",
    "                while True:\n",
    "                    if k1<x:\n",
    "                        k1=2*(i)-1\n",
    "                        count+=1\n",
    "                        i=i+1\n",
    "                        f.append(\"1\")\n",
    "                    else:\n",
    "                        break\n",
    "            print(f,count)\n",
    "\n",
    "                    \n",
    "                        \n",
    "                        \n",
    "                        \n",
    "                        \n",
    "                    \n",
    "                \n",
    "                "
   ]
  },
  {
   "cell_type": "code",
   "execution_count": null,
   "id": "d05df3ca-a177-4422-8158-3b781fe5016b",
   "metadata": {},
   "outputs": [],
   "source": []
  },
  {
   "cell_type": "code",
   "execution_count": null,
   "id": "be13affa-c377-400c-b3b9-ace4f28ae7d4",
   "metadata": {},
   "outputs": [],
   "source": []
  },
  {
   "cell_type": "code",
   "execution_count": 13,
   "id": "7a71e890-637e-499c-8e65-1e64e9044529",
   "metadata": {},
   "outputs": [
    {
     "name": "stdin",
     "output_type": "stream",
     "text": [
      " 4 5\n",
      " -21 1 8 35 40\n",
      " 14 -21 -26 -35 -29\n",
      " -40 36 48 37 24\n",
      " 46 8 33 -21 -3\n",
      " 2\n",
      " 1 1 1 \n",
      " 1 2 2 \n"
     ]
    }
   ],
   "source": [
    " a,b=map(int,input().split())\n",
    "c=[]\n",
    "for i in range(a):\n",
    "    d=list(map(int,input().split()))\n",
    "    c.append(d)\n",
    "print(c)\n",
    "q=int(input())\n",
    "for i in range(q):\n",
    "    k=list(map(int,input().split()))\n",
    "    a1=k[0]\n",
    "    a2=k[1]-1\n",
    "    a3=k[2]-1\n",
    "    if a1==\"1\":\n",
    "        try:\n",
    "            while a2<a or a3<b:\n",
    "                if c[a2+1][a3]>c[a2][a3+1]:\n",
    "                    count=count+c[a2+1][a3]\n",
    "                    print(count)\n",
    "                    a2=a2+1\n",
    "                else:\n",
    "                    count+=c[a2][a3+1]\n",
    "                    print(count)\n",
    "                    a3=a3+1\n",
    "        except:\n",
    "           count+=c[a-1][b-1]\n",
    "count\n",
    "        \n",
    "          "
   ]
  },
  {
   "cell_type": "code",
   "execution_count": null,
   "id": "46fc0eb9-71e0-4f73-88e0-aa4db921536b",
   "metadata": {},
   "outputs": [],
   "source": []
  },
  {
   "cell_type": "code",
   "execution_count": 5,
   "id": "1c191333-d481-4c48-afc2-594026254485",
   "metadata": {},
   "outputs": [
    {
     "name": "stdin",
     "output_type": "stream",
     "text": [
      " 4\n",
      " 4\n"
     ]
    },
    {
     "data": {
      "text/plain": [
       "-45"
      ]
     },
     "execution_count": 5,
     "metadata": {},
     "output_type": "execute_result"
    }
   ],
   "source": [
    "c=[[-21,1,8,35,40],[14,-21,-26,-35,-29],[-40,36,48,37,24],[46,8,33,-21,-3]]\n",
    "a=4\n",
    "b=5\n",
    "a2=int(input())\n",
    "a3=int(input())\n",
    "a2=a2-1\n",
    "a3=a3-1\n",
    "x=c[a2][a3]\n",
    "count=x\n",
    "\n",
    "try:\n",
    "    while a2<a or a3<b:\n",
    "\n",
    "            if c[a2+1][a3]>c[a2][a3+1]:\n",
    "                count=count+c[a2+1][a3]\n",
    "                a2=a2+1\n",
    "            else:\n",
    "                count+=c[a2][a3+1]\n",
    "                a3=a3+1\n",
    "except: \n",
    "    if a3>a-1:\n",
    "        for i in range(a3,4+1):\n",
    "            count+=c[i][b-1]\n",
    "    else:\n",
    "        for i in range(a2,4+1):\n",
    "            count+=c[a-1][i]\n",
    "    \n",
    "count\n",
    " "
   ]
  },
  {
   "cell_type": "code",
   "execution_count": 2,
   "id": "a9b79e38-85d0-428b-a8b5-4b96d3bca45f",
   "metadata": {},
   "outputs": [
    {
     "name": "stdin",
     "output_type": "stream",
     "text": [
      " 4\n",
      " 3\n"
     ]
    },
    {
     "name": "stdout",
     "output_type": "stream",
     "text": [
      "33\n"
     ]
    },
    {
     "data": {
      "text/plain": [
       "33"
      ]
     },
     "execution_count": 2,
     "metadata": {},
     "output_type": "execute_result"
    }
   ],
   "source": [
    "c=[[-21,1,8,35,40],[14,-21,-26,-35,-29],[-40,36,48,37,24],[46,8,33,-21,-3]]\n",
    "a=4\n",
    "b=5\n",
    "a2=int(input())\n",
    "a3=int(input())\n",
    "a2=a2-1\n",
    "a3=a3-1\n",
    "x=c[a2][a3]\n",
    "if x>0:\n",
    "    count=x\n",
    "else:\n",
    "    count=0\n",
    "print(count)\n",
    "\n",
    "\n",
    "try:\n",
    "    while a2<a or a3<b:\n",
    "    \n",
    "            if c[a2+1][a3]>c[a2][a3+1] and c[a2+1][a3]>=0:\n",
    "                count=count+c[a2+1][a3]\n",
    "                \n",
    "                a2=a2+1\n",
    "            elif c[a2+1][a3]>c[a2][a3+1] and c[a2+1][a3]<0:\n",
    "                 a2=a2+1 \n",
    "            elif c[a2+1][a3]<c[a2][a3+1] and c[a2][a3+1]<0:\n",
    "                 a3=a3+1 \n",
    "            elif c[a2+1][a3]<c[a2][a3+1] and c[a2][a3+1]>=0:\n",
    "                count+=c[a2][a3+1]\n",
    "                print(count)\n",
    "                a3=a3+1\n",
    "                    \n",
    "except:            \n",
    "    if c[a-1][b-1]>=0:\n",
    "        count+=c[a-1][b-1]\n",
    "count\n",
    " "
   ]
  },
  {
   "cell_type": "code",
   "execution_count": null,
   "id": "1ccdb65f-6457-4c03-a712-be9df83289a1",
   "metadata": {},
   "outputs": [],
   "source": []
  }
 ],
 "metadata": {
  "kernelspec": {
   "display_name": "Python 3 (ipykernel)",
   "language": "python",
   "name": "python3"
  },
  "language_info": {
   "codemirror_mode": {
    "name": "ipython",
    "version": 3
   },
   "file_extension": ".py",
   "mimetype": "text/x-python",
   "name": "python",
   "nbconvert_exporter": "python",
   "pygments_lexer": "ipython3",
   "version": "3.11.5"
  }
 },
 "nbformat": 4,
 "nbformat_minor": 5
}
