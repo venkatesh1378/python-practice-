{
 "cells": [
  {
   "cell_type": "code",
   "execution_count": null,
   "id": "bdfbc6e6-2b04-47e6-9d99-7e003785fa19",
   "metadata": {},
   "outputs": [],
   "source": [
    "#file handling"
   ]
  },
  {
   "cell_type": "code",
   "execution_count": null,
   "id": "27871e14-8cca-4c30-add8-6ec91ad274da",
   "metadata": {},
   "outputs": [],
   "source": [
    "#file \n",
    "- file is a named location which is used to store some data\n",
    "#why file handling\n",
    "- in order to take the data from the user and perform some operations we need the files\n",
    "- file handling is very important\n",
    "- opening the file\n",
    "- performing some operations\n",
    "- closing the file\n",
    "- it is called file handling"
   ]
  },
  {
   "cell_type": "code",
   "execution_count": null,
   "id": "f3992c7a-fb5f-419b-99ce-b978097968c0",
   "metadata": {},
   "outputs": [],
   "source": [
    "# we have to open the file and perform the operations\n",
    "# inorder to store the data and work on it\n",
    "# however for large data we prefer the database\n",
    "# due to secutity\n",
    "# inconsistancy problems\n"
   ]
  },
  {
   "cell_type": "code",
   "execution_count": null,
   "id": "6d9dc302-e72f-45cf-95fb-62c0ed739836",
   "metadata": {},
   "outputs": [],
   "source": [
    "#text files-------------------text information\n",
    "#binary files-------------------images audio,videos....."
   ]
  },
  {
   "cell_type": "code",
   "execution_count": null,
   "id": "1a16eb6b-fed4-4848-9d54-dcd196451b39",
   "metadata": {},
   "outputs": [],
   "source": [
    "#opening a file"
   ]
  },
  {
   "cell_type": "code",
   "execution_count": 5,
   "id": "ca0ac116-7c27-410b-ba7e-0804debb8bc3",
   "metadata": {},
   "outputs": [],
   "source": [
    "file_path=open('D:\\PYTHON\\my practice\\hello.txt',mode='r',encoding='UTF-8')\n"
   ]
  },
  {
   "cell_type": "code",
   "execution_count": null,
   "id": "ed8a1a64-392b-4ecf-9d01-a095c6be3c55",
   "metadata": {},
   "outputs": [],
   "source": [
    "# file_path is a file pointer which has pointing to the begining of the file starting position of the file"
   ]
  },
  {
   "cell_type": "code",
   "execution_count": null,
   "id": "71478133-5db6-4620-ba2b-941b4d7d1958",
   "metadata": {},
   "outputs": [],
   "source": [
    "#closing a file\n",
    "file_path.close()"
   ]
  },
  {
   "cell_type": "code",
   "execution_count": null,
   "id": "6c197d4c-4124-43eb-bba1-c14453944f54",
   "metadata": {},
   "outputs": [],
   "source": [
    "#closing a file is important \n",
    "#however closing the file can done by the garbage collector \n",
    "#but we should not depend on it\n",
    "#after completeing operation the object or filepointer is deleted from the memory space\n",
    "# unless we agian create it \n",
    "#if we not close the file\n",
    "#unless all the operations till completed the file will n ot close\n",
    "#security issues\n",
    "#data may beleaked\n",
    "# so file closing is very important aspect"
   ]
  },
  {
   "cell_type": "code",
   "execution_count": null,
   "id": "24da0525-14c3-45a0-943f-caffb8b9ca3b",
   "metadata": {},
   "outputs": [],
   "source": [
    "#closing the files\n",
    "#we have 3 methods\n",
    "#normal method\n",
    "#try and exception\n",
    "#with staement"
   ]
  },
  {
   "cell_type": "code",
   "execution_count": null,
   "id": "3171822a-f31d-4ba5-a318-c24eb2e8dfff",
   "metadata": {},
   "outputs": [],
   "source": [
    "#nrml method\n"
   ]
  },
  {
   "cell_type": "code",
   "execution_count": null,
   "id": "af6d1ce7-b705-4d32-9e74-07917e5535cb",
   "metadata": {},
   "outputs": [],
   "source": [
    "file_path=open('D:\\PYTHON\\my practice\\hello.txt',mode='r',encoding='UTF-8')\n",
    "    # operations like read() or write() or append()\n",
    "file_path.close()"
   ]
  },
  {
   "cell_type": "code",
   "execution_count": 6,
   "id": "818789aa-2cb1-432c-a9b0-240747006e4c",
   "metadata": {},
   "outputs": [],
   "source": [
    "#try and except:\n",
    "try:\n",
    "    file_path=open('D:\\PYTHON\\my practice\\hello.txt',mode='r',encoding='UTF-8')\n",
    "    #operations you cna perform \n",
    "except:\n",
    "    print(\"file not found\")\n",
    "finally:\n",
    "    file_path.close()\n",
    "    #even except block is exceuted or not finally block will compulsary excecuted..... so the file will be closed"
   ]
  },
  {
   "cell_type": "code",
   "execution_count": 11,
   "id": "ec8b5fd7-861e-4f9b-af24-7725e36d4afb",
   "metadata": {},
   "outputs": [
    {
     "name": "stdout",
     "output_type": "stream",
     "text": [
      "hello my name is venkatesh\n",
      "i am from miryalagudam\n",
      "nlagonda district.\n"
     ]
    }
   ],
   "source": [
    "#with statemnt\n",
    "#using with statement we can open the file and perform operations after operations completed the file will be closed automatically\n",
    "file_path=open('D:\\PYTHON\\my practice\\hello.txt',mode='r',encoding='UTF-8')\n",
    "with open('D:\\PYTHON\\my practice\\hello.txt',mode='r') as fp:\n",
    "    data=fp.read()\n",
    "    print(data)\n",
    "    "
   ]
  },
  {
   "cell_type": "code",
   "execution_count": null,
   "id": "31747a14-d6ce-4694-bc64-93c8d4aa8cd0",
   "metadata": {},
   "outputs": [],
   "source": [
    "#checkimg whether file is presnt or no"
   ]
  },
  {
   "cell_type": "code",
   "execution_count": null,
   "id": "d3a553e5-830f-446b-9681-fcf1745d3a33",
   "metadata": {},
   "outputs": [],
   "source": [
    "isfile(#<file name>) # which is used to check whether the file is exists or not... "
   ]
  },
  {
   "cell_type": "code",
   "execution_count": 18,
   "id": "70e3af96-c201-4d79-bfd5-aeccc922bf4c",
   "metadata": {},
   "outputs": [
    {
     "name": "stdin",
     "output_type": "stream",
     "text": [
      " hello\n"
     ]
    },
    {
     "name": "stdout",
     "output_type": "stream",
     "text": [
      "filenot found\n"
     ]
    }
   ],
   "source": [
    "import os\n",
    "name=input()\n",
    "if os.path.isfile(name):\n",
    "    f=open(name)\n",
    "    k=f.read()\n",
    "    print(k)\n",
    "else:\n",
    "    print(\"filenot found\")"
   ]
  },
  {
   "cell_type": "code",
   "execution_count": null,
   "id": "471ecf3b-2487-4184-a3d5-b8480bad7944",
   "metadata": {},
   "outputs": [],
   "source": [
    "#modes\n",
    "#text-files---------------format is string which is encoded in string\n",
    "#binary-------------------------not in string fromat not encoded\n",
    "#modes\n",
    "#r\n",
    "#w\n",
    "#a\n",
    "#r+\n",
    "#w+\n",
    "#a+\n",
    "#rb\n",
    "#wb\n",
    "#rb+\n",
    "#wb+"
   ]
  },
  {
   "cell_type": "code",
   "execution_count": null,
   "id": "4c78d912-8616-4d81-8f37-ffaadd6de414",
   "metadata": {},
   "outputs": [],
   "source": [
    "#readthe file"
   ]
  },
  {
   "cell_type": "code",
   "execution_count": 23,
   "id": "03313a8e-d474-4852-b860-4529ff47a53d",
   "metadata": {},
   "outputs": [
    {
     "name": "stdout",
     "output_type": "stream",
     "text": [
      "hell\n"
     ]
    }
   ],
   "source": [
    "with open('D:\\PYTHON\\my practice\\hello.txt',mode='r') as fp:\n",
    "    data=fp.read(4)               # reading specific characters if we specify else read entire data\n",
    "    print(data)"
   ]
  },
  {
   "cell_type": "code",
   "execution_count": 33,
   "id": "beaf4ad9-57e4-49b4-8783-05f19da288b8",
   "metadata": {},
   "outputs": [
    {
     "name": "stdout",
     "output_type": "stream",
     "text": [
      "['hello my name is venkatesh\\n']\n"
     ]
    }
   ],
   "source": [
    "with open('D:\\PYTHON\\my practice\\hello.txt',mode='r') as fp:\n",
    "    data=fp.readlines(1)     # read the number of  lines specificed\n",
    "    print(data)"
   ]
  },
  {
   "cell_type": "code",
   "execution_count": 44,
   "id": "66b35bae-d683-4e4d-8368-b66d06e48c35",
   "metadata": {},
   "outputs": [
    {
     "name": "stdout",
     "output_type": "stream",
     "text": [
      "['hello my name is venkatesh\\n', 'i am from miryalagudam\\n', 'nlagonda district.']\n"
     ]
    }
   ],
   "source": [
    "with open('D:\\PYTHON\\my practice\\hello.txt',mode='r') as fp:\n",
    "    data=fp.readlines() \n",
    "    print(data)"
   ]
  },
  {
   "cell_type": "code",
   "execution_count": null,
   "id": "b96800dc-7917-41d9-83cc-95142ae4e9cb",
   "metadata": {},
   "outputs": [],
   "source": [
    "#tell and seek \n",
    "#tell gives the current position of the file pointer\n",
    "#seek is used tomchange the file pointer positions"
   ]
  },
  {
   "cell_type": "code",
   "execution_count": 50,
   "id": "ac909034-9fd1-457e-89a6-39f1dd1e6702",
   "metadata": {},
   "outputs": [
    {
     "name": "stdout",
     "output_type": "stream",
     "text": [
      "3\n"
     ]
    }
   ],
   "source": [
    "fp=open('D:\\PYTHON\\my practice\\hello.txt',mode='r')\n",
    "fp.seek(3)\n",
    "print(fp.tell())"
   ]
  },
  {
   "cell_type": "code",
   "execution_count": null,
   "id": "7ec98eab-fb5f-4bde-94f4-6a46210d39c2",
   "metadata": {},
   "outputs": [],
   "source": [
    "#task \n",
    "#find the number of charac ters\n",
    "#find the number of words\n",
    "#find the number of sentences in the file"
   ]
  },
  {
   "cell_type": "code",
   "execution_count": 56,
   "id": "a2ca1ec9-7ebe-4b54-b358-45bea5b88a4a",
   "metadata": {},
   "outputs": [
    {
     "name": "stdout",
     "output_type": "stream",
     "text": [
      "3\n",
      "58\n",
      "11\n"
     ]
    }
   ],
   "source": [
    "fp=open('D:\\PYTHON\\my practice\\hello.txt',mode='r')\n",
    "no_of_words=0\n",
    "no_of_letters=0\n",
    "no_of_sentences=0\n",
    "for i in fp:\n",
    "    no_of_sentences+=1\n",
    "    k=i.split()\n",
    "    for i in k:\n",
    "        no_of_words+=1\n",
    "        no_of_letters+=len(i)\n",
    "print(no_of_sentences)\n",
    "print(no_of_letters)\n",
    "print(no_of_words)"
   ]
  },
  {
   "cell_type": "code",
   "execution_count": null,
   "id": "71e34f2f-b2d6-4d1a-b9ee-882daafe951d",
   "metadata": {},
   "outputs": [],
   "source": [
    "#write the file\n",
    "#if the file presents the data will be ov erwritten\n",
    "#else create a new file and write the data"
   ]
  },
  {
   "cell_type": "code",
   "execution_count": 63,
   "id": "ef99272e-6d71-42bf-8d46-d91dca29d731",
   "metadata": {},
   "outputs": [],
   "source": [
    "fp=open('D:\\PYTHON\\my practice\\hello.txt',mode='w')\n",
    "fp.write(\"welcome to new file\")\n",
    "fp.close()\n"
   ]
  },
  {
   "cell_type": "code",
   "execution_count": 67,
   "id": "337b615c-c7f7-491b-a672-4a0a8f10dd6b",
   "metadata": {},
   "outputs": [],
   "source": [
    "fp=open('D:\\PYTHON\\my practice\\hello.txt',mode='w')\n",
    "fp.writelines([\"welcome to new file\",\"hello\",\"goodbyee\"])\n",
    "fp.close()\n",
    "\n"
   ]
  },
  {
   "cell_type": "code",
   "execution_count": 68,
   "id": "8e70d001-91d7-4546-ac24-6e4d15c99639",
   "metadata": {},
   "outputs": [
    {
     "data": {
      "text/plain": [
       "'welcome to new filehellogoodbyee'"
      ]
     },
     "execution_count": 68,
     "metadata": {},
     "output_type": "execute_result"
    }
   ],
   "source": [
    "fp=open('D:\\PYTHON\\my practice\\hello.txt',mode='r')\n",
    "fp.read()"
   ]
  },
  {
   "cell_type": "code",
   "execution_count": null,
   "id": "055f8e8c-7c29-45da-b0eb-2c2fee265d85",
   "metadata": {},
   "outputs": [],
   "source": [
    "#appaend file\n",
    "# append will write the data from the end of the file\n",
    "#if not their it will create a file"
   ]
  },
  {
   "cell_type": "code",
   "execution_count": 69,
   "id": "b9218efe-df46-430c-a069-3e3b86ed4fef",
   "metadata": {},
   "outputs": [],
   "source": [
    "fp=open('D:\\PYTHON\\my practice\\hello.txt',mode='a')\n",
    "fp.write(\"*********\")\n",
    "fp.close()"
   ]
  },
  {
   "cell_type": "code",
   "execution_count": 70,
   "id": "57f07a9e-a892-47a3-a8d9-34a9128ad602",
   "metadata": {},
   "outputs": [
    {
     "data": {
      "text/plain": [
       "'welcome to new filehellogoodbyee*********'"
      ]
     },
     "execution_count": 70,
     "metadata": {},
     "output_type": "execute_result"
    }
   ],
   "source": [
    "fp=open('D:\\PYTHON\\my practice\\hello.txt',mode='r')\n",
    "fp.read()"
   ]
  },
  {
   "cell_type": "code",
   "execution_count": null,
   "id": "85f98576-777d-455e-99e2-0afb49f87705",
   "metadata": {},
   "outputs": [],
   "source": [
    "#r+ vs w+\n",
    "#r+ throws an error if file is not present \n",
    "# read first and then perform write next\n",
    "#w+ doesnot throws an error \n",
    "#it means write first which says that no file created a new file and then read it........."
   ]
  },
  {
   "cell_type": "code",
   "execution_count": null,
   "id": "3b6dccd9-e7c2-43fe-8e1e-ae5d739e5530",
   "metadata": {},
   "outputs": [],
   "source": [
    "# xmode \n",
    "#write the data only on a new file\n",
    "# if file already existsed means it will throws an error........\n",
    "f=open(\"\",mode='x')\n",
    "f.write(#<data>)\n",
    "f.close()"
   ]
  },
  {
   "cell_type": "code",
   "execution_count": null,
   "id": "9da94cc4-e475-4ea4-8ed6-cb5b01fedf3a",
   "metadata": {},
   "outputs": [],
   "source": [
    "#copy the contents of one file to another file"
   ]
  },
  {
   "cell_type": "code",
   "execution_count": 95,
   "id": "50c147fd-2142-4124-8c86-d0c970a883d3",
   "metadata": {},
   "outputs": [],
   "source": [
    "file_1=open('D:\\PYTHON\\my practice\\hello.txt',mode=\"r\")\n",
    "data=file_1.readlines()\n",
    "file_2=open('D:\\PYTHON\\my practice\\hello-3.txt',mode='w')\n",
    "for i in data:\n",
    "    file_2.write(i)\n",
    "file_1.close()\n",
    "file_2.close()"
   ]
  },
  {
   "cell_type": "code",
   "execution_count": 96,
   "id": "4c7fd76c-c988-4fe3-b8fc-318f146c7c21",
   "metadata": {},
   "outputs": [
    {
     "data": {
      "text/plain": [
       "'welcome to new filehellogoodbyee*********'"
      ]
     },
     "execution_count": 96,
     "metadata": {},
     "output_type": "execute_result"
    }
   ],
   "source": [
    "file_2=open('D:\\PYTHON\\my practice\\hello-3.txt',mode='r')\n",
    "file_2.read()"
   ]
  },
  {
   "cell_type": "code",
   "execution_count": 89,
   "id": "81c4b5ac-7627-4738-ad15-defb0e93dc21",
   "metadata": {},
   "outputs": [
    {
     "name": "stdin",
     "output_type": "stream",
     "text": [
      "enter the file name hello\n",
      "plz enter y or n y\n",
      "enter the file name hello-3\n",
      "plz enter y or n n\n"
     ]
    },
    {
     "name": "stdout",
     "output_type": "stream",
     "text": [
      "welcome to new filehellogoodbyee*********\n",
      "nimmakaya-soda\n",
      "roll-3\n",
      "\n",
      "\n"
     ]
    }
   ],
   "source": [
    "#merging the multiple files\n",
    "data=[]\n",
    "merged=\"\"\n",
    "while True:\n",
    "    k=input(\"enter the file name\")\n",
    "    data.append(k)\n",
    "    enter=input(\"plz enter y or n\").lower()\n",
    "    if enter!=\"y\":\n",
    "        break\n",
    "for i in data:\n",
    "    s=i+\".txt\"\n",
    "    fp=open(s,mode='r')\n",
    "    merged=merged+fp.read()+'\\n'\n",
    "    fp.close()\n",
    "print(merged)"
   ]
  },
  {
   "cell_type": "code",
   "execution_count": null,
   "id": "d81080c7-b4c5-4b44-a1c2-770ffc92e9b0",
   "metadata": {},
   "outputs": [],
   "source": []
  },
  {
   "cell_type": "code",
   "execution_count": null,
   "id": "e809ffc3-289b-4286-b039-3b94ce79cd20",
   "metadata": {},
   "outputs": [],
   "source": []
  },
  {
   "cell_type": "code",
   "execution_count": null,
   "id": "e4eae3b4-8beb-431e-842d-da6e043c5286",
   "metadata": {},
   "outputs": [],
   "source": []
  },
  {
   "cell_type": "code",
   "execution_count": null,
   "id": "0357b5c8-47c3-4e94-ba0d-f35c58ce147a",
   "metadata": {},
   "outputs": [],
   "source": []
  },
  {
   "cell_type": "code",
   "execution_count": null,
   "id": "4ee669b7-5071-4aa2-82c0-a29423ed90e9",
   "metadata": {},
   "outputs": [],
   "source": []
  },
  {
   "cell_type": "code",
   "execution_count": null,
   "id": "2333354c-11ab-4c7a-98c4-9f71795b888b",
   "metadata": {},
   "outputs": [],
   "source": []
  },
  {
   "cell_type": "code",
   "execution_count": null,
   "id": "2752edd0-3eff-4676-ae48-11b678b9953d",
   "metadata": {},
   "outputs": [],
   "source": []
  },
  {
   "cell_type": "code",
   "execution_count": null,
   "id": "dd279ef4-2c62-4a5d-aeec-7a0242e68d42",
   "metadata": {},
   "outputs": [],
   "source": []
  },
  {
   "cell_type": "markdown",
   "id": "cb4a1c8c-8645-4873-aea0-3b3ececb599c",
   "metadata": {},
   "source": [
    "**re**"
   ]
  },
  {
   "cell_type": "code",
   "execution_count": null,
   "id": "f3b47f2b-3cd4-4bdc-958f-3ba1a90436cc",
   "metadata": {},
   "outputs": [],
   "source": [
    "re is a powerful tool used to find the searching patterns and formating the strings"
   ]
  },
  {
   "cell_type": "code",
   "execution_count": 1,
   "id": "c7a8e3c9-bf4a-49be-94fe-f8f2f6ecc0d7",
   "metadata": {},
   "outputs": [
    {
     "name": "stdout",
     "output_type": "stream",
     "text": [
      "['2023-09-07', '2023-09-19']\n"
     ]
    }
   ],
   "source": [
    "import re\n",
    "text=\" on 2023-09-07 the conference is begin and ended with in 2023-09-19\"\n",
    "date_pattern=r\"\\d{4}-\\d{2}-\\d{2}\"                     #concept of regular expression\n",
    "k=re.findall(date_pattern,text)\n",
    "print(k)"
   ]
  },
  {
   "cell_type": "code",
   "execution_count": null,
   "id": "fbae306d-ba14-4052-9b89-6807c36a73c5",
   "metadata": {},
   "outputs": [],
   "source": [
    "#application\n",
    "#data validation\n",
    "#mobile validialtions\n",
    "#email validation'\n",
    "#form mistakens\n",
    "\n",
    "#pattern matching application\n",
    "#ctrl-f\n",
    "# like operator in sql"
   ]
  },
  {
   "cell_type": "code",
   "execution_count": null,
   "id": "fc3ea44b-c1f2-4be0-9d0b-8dc8384db9f3",
   "metadata": {},
   "outputs": [],
   "source": [
    "# example \n",
    "#i have clients email id and i want to check the emails and filter the non-following email\n",
    "# compilers interpreters assemblers\n",
    "# syntax analysis lexical analysis \n"
   ]
  },
  {
   "cell_type": "code",
   "execution_count": null,
   "id": "30274b7a-9a02-4bf4-9494-3111cdd9bea5",
   "metadata": {},
   "outputs": [],
   "source": [
    "#extract specifillacy wanted data"
   ]
  },
  {
   "cell_type": "code",
   "execution_count": null,
   "id": "5e23b9d3-9813-4712-9db5-d4e2f504c92d",
   "metadata": {},
   "outputs": [],
   "source": [
    "# data cleaning\n",
    "# remove unwanted characters"
   ]
  },
  {
   "cell_type": "code",
   "execution_count": null,
   "id": "a734e6db-0d30-449a-b97c-e5ad688147e0",
   "metadata": {},
   "outputs": [],
   "source": [
    "# web scrapping\n",
    "# extract specific info HTML or XML documnets"
   ]
  },
  {
   "cell_type": "code",
   "execution_count": null,
   "id": "9881f455-139b-474d-b41e-701160052078",
   "metadata": {},
   "outputs": [],
   "source": [
    "#password policies\n",
    "#max lengt 8\n",
    "#use in NLP ---to identify specific patterns "
   ]
  },
  {
   "cell_type": "code",
   "execution_count": null,
   "id": "e9917d76-9c62-4970-9c02-ea0487c9ac1c",
   "metadata": {},
   "outputs": [],
   "source": []
  },
  {
   "cell_type": "code",
   "execution_count": null,
   "id": "5e75d510-55d2-4ba3-93d3-94ae30da58ed",
   "metadata": {},
   "outputs": [],
   "source": [
    "#video-1"
   ]
  },
  {
   "cell_type": "code",
   "execution_count": null,
   "id": "02733607-344d-42ba-8bc8-a759437a0a17",
   "metadata": {},
   "outputs": [],
   "source": [
    "search()\n",
    "match()\n",
    "finditer()\n",
    "findall()\n",
    "split()\n"
   ]
  },
  {
   "cell_type": "code",
   "execution_count": null,
   "id": "90084549-1012-439b-9d6f-fc68441f8665",
   "metadata": {},
   "outputs": [],
   "source": [
    "#re.search()\n",
    "#re.search(pattern,data)\n",
    "#pattern-------------regular expression returns pattern you want to search for\n",
    "#data---------------input string in which you want to search pattern\n",
    "#returns : match object if match is found or NOne if no match is found"
   ]
  },
  {
   "cell_type": "code",
   "execution_count": 9,
   "id": "701ab694-e83a-4dc0-9062-1f88f02072a0",
   "metadata": {},
   "outputs": [
    {
     "name": "stdout",
     "output_type": "stream",
     "text": [
      "<re.Match object; span=(38, 44), match='python'>\n",
      "python\n",
      "<class 're.Match'>\n"
     ]
    }
   ],
   "source": [
    "import re\n",
    "a=\"PYthon\"\n",
    "b=\"the important programming language is pythonand python is easy to learn\"\n",
    "match=re.search(a,b,re.IGNORECASE)\n",
    "print(match)\n",
    "print(match.group())\n",
    "print(type(match))"
   ]
  },
  {
   "cell_type": "code",
   "execution_count": null,
   "id": "c4dd384d-17a0-4999-84df-ea347b51060d",
   "metadata": {},
   "outputs": [],
   "source": [
    "#re.match\n",
    "#search for the patterns at the begining of the straing\n",
    "#re.match(pattern,string)\n",
    "#return if match object found at begging string else NOne"
   ]
  },
  {
   "cell_type": "code",
   "execution_count": 12,
   "id": "1b353add-2f28-4b27-9450-accb60db3688",
   "metadata": {},
   "outputs": [
    {
     "name": "stdout",
     "output_type": "stream",
     "text": [
      "None\n",
      "<class 'NoneType'>\n"
     ]
    }
   ],
   "source": [
    "import re\n",
    "a=r\"PYthon\"    #use raw strings escape sequence are ignored\n",
    "b=\"the important programming language is pythonand python is easy to learn\"\n",
    "match=re.match(a,b,re.IGNORECASE)\n",
    "print(match)\n",
    "#print(match.group())\n",
    "print(type(match))"
   ]
  },
  {
   "cell_type": "code",
   "execution_count": null,
   "id": "5655724b-3a34-4f5d-926f-2c280d5cd09b",
   "metadata": {},
   "outputs": [],
   "source": [
    "#use regular expressions in two ways\n",
    "#directly patterns\n",
    "#regular expression objects"
   ]
  },
  {
   "cell_type": "code",
   "execution_count": null,
   "id": "4e71e1f7-4395-40c3-87b3-dffc0adc09c6",
   "metadata": {},
   "outputs": [],
   "source": [
    "#to increase the performance in the program use objects"
   ]
  },
  {
   "cell_type": "code",
   "execution_count": null,
   "id": "4d3e7558-52c0-40e0-9f0a-d1a7974373f3",
   "metadata": {},
   "outputs": [],
   "source": [
    "# we use re.compile"
   ]
  },
  {
   "cell_type": "code",
   "execution_count": 13,
   "id": "75aae8cb-3640-43ae-9e30-027d213e5325",
   "metadata": {},
   "outputs": [
    {
     "data": {
      "text/plain": [
       "<re.Match object; span=(0, 6), match='python'>"
      ]
     },
     "execution_count": 13,
     "metadata": {},
     "output_type": "execute_result"
    }
   ],
   "source": [
    "import re\n",
    "pattern=re.compile(r'python',re.IGNORECASE)\n",
    "data=\"python is a powerful programing language\"\n",
    "k=re.match(pattern,data)\n",
    "k\n"
   ]
  },
  {
   "cell_type": "code",
   "execution_count": null,
   "id": "3f17ea0e-a240-454b-8bba-f4bcf927e3f3",
   "metadata": {},
   "outputs": [],
   "source": [
    "#findall()\n",
    "#finditer()"
   ]
  },
  {
   "cell_type": "code",
   "execution_count": null,
   "id": "cd50738f-cac5-4876-8ae8-482632cd9450",
   "metadata": {},
   "outputs": [],
   "source": [
    "re.finditer()\n",
    "#find all the patterns in the data \n",
    "re.finditer(pattern,data)\n",
    "returns iterators\n"
   ]
  },
  {
   "cell_type": "code",
   "execution_count": 19,
   "id": "8e379b5c-88a0-4bd2-b7bf-37e33d928664",
   "metadata": {},
   "outputs": [
    {
     "name": "stdout",
     "output_type": "stream",
     "text": [
      "0\n",
      "ab\n",
      "2\n",
      "3\n",
      "ab\n",
      "5\n",
      "5\n",
      "ab\n",
      "7\n",
      "8\n",
      "ab\n",
      "10\n"
     ]
    }
   ],
   "source": [
    "import re\n",
    "x=\"ab\"\n",
    "data=\"abcababcab\"\n",
    "k=re.finditer(x,data,re.IGNORECASE)\n",
    "for i in k:\n",
    "    print(i.start())\n",
    "    print(i.group())\n",
    "    print(i.end())"
   ]
  },
  {
   "cell_type": "code",
   "execution_count": 21,
   "id": "a250808c-6687-4f5c-8ad5-b171cb3306f6",
   "metadata": {},
   "outputs": [
    {
     "name": "stdout",
     "output_type": "stream",
     "text": [
      "ab\n",
      "ab\n",
      "ab\n",
      "ab\n"
     ]
    }
   ],
   "source": [
    "import re\n",
    "x=\"ab\"\n",
    "data=\"abcababcab\"\n",
    "k=re.findall(x,data,re.IGNORECASE)  # return list\n",
    "for i in k:\n",
    "    print(i)"
   ]
  },
  {
   "cell_type": "code",
   "execution_count": null,
   "id": "c00c401f-2bcd-4bdd-9904-683de732fb98",
   "metadata": {},
   "outputs": [],
   "source": [
    "#list vs iterator\n",
    "#iterator---------------at atime only one element   \n",
    "#lists--------store every thing in memory allocation"
   ]
  },
  {
   "cell_type": "code",
   "execution_count": null,
   "id": "e3aa438c-3e4a-449d-999e-7cb4e395a1fb",
   "metadata": {},
   "outputs": [],
   "source": [
    "#findall  doesnot give every information like start end "
   ]
  },
  {
   "cell_type": "code",
   "execution_count": null,
   "id": "f203ad6a-c1f5-48ff-8765-6991af46f7e1",
   "metadata": {},
   "outputs": [],
   "source": [
    "# find all non-overlapping matches \n"
   ]
  },
  {
   "cell_type": "code",
   "execution_count": 23,
   "id": "ba3a4007-33b6-41a2-918a-e3942410b0dd",
   "metadata": {},
   "outputs": [
    {
     "name": "stdout",
     "output_type": "stream",
     "text": [
      "['bb']\n"
     ]
    }
   ],
   "source": [
    "import re\n",
    "pattern=\"bb\"\n",
    "data=\"bbbaba\"\n",
    "k=re.findall(pattern,data)\n",
    "print(k)"
   ]
  },
  {
   "cell_type": "code",
   "execution_count": null,
   "id": "713cd562-1520-4479-a399-08d04fdccb03",
   "metadata": {},
   "outputs": [],
   "source": [
    "#character classes\n",
    "# refers to set of characters that you can define using re\n",
    "#character classes are used to specify range or group of characters you want to search in data"
   ]
  },
  {
   "cell_type": "code",
   "execution_count": 26,
   "id": "f844a736-3cc8-4bde-a027-3fe140d6d305",
   "metadata": {},
   "outputs": [
    {
     "name": "stdout",
     "output_type": "stream",
     "text": [
      "<re.Match object; span=(20, 21), match='1'>\n",
      "<re.Match object; span=(21, 22), match='0'>\n",
      "<re.Match object; span=(22, 23), match='0'>\n"
     ]
    }
   ],
   "source": [
    "#find the given data\n",
    "import re\n",
    "pattern =r'[0-9]'  #metacharacters \\d\n",
    "data=\"price of carrot is $100\"\n",
    "match=re.finditer(pattern,data)\n",
    "for i in match:\n",
    "    print(i)"
   ]
  },
  {
   "cell_type": "code",
   "execution_count": null,
   "id": "f7044aa3-047b-48fe-adc2-ecc4c8fd243b",
   "metadata": {},
   "outputs": [],
   "source": [
    "pattern =r'[A-Za-z0-9]'  #to find all things \n"
   ]
  },
  {
   "cell_type": "code",
   "execution_count": 34,
   "id": "1639ffe8-e59f-47cc-8d7d-963738b7dd46",
   "metadata": {},
   "outputs": [
    {
     "data": {
      "text/plain": [
       "[' ', ' ', ' ', ' ', '$']"
      ]
     },
     "execution_count": 34,
     "metadata": {},
     "output_type": "execute_result"
    }
   ],
   "source": [
    "import re\n",
    "pattern =r'[^a-z0-9]'  #metacharacters \\d  \"^ ignore that characters\"\n",
    "data=\"price of carrot is $100\"\n",
    "match=re.findall(pattern,data)\n",
    "match"
   ]
  },
  {
   "cell_type": "code",
   "execution_count": null,
   "id": "4690b202-6dae-4de7-9252-5c701e1e60f7",
   "metadata": {},
   "outputs": [],
   "source": [
    "#escape charatets\n",
    "#r[0-9]  alterante r'/d'\n",
    "\\d--- matches digits\n",
    "\\D---non-digit character\n",
    "\\w---matches any word character\n",
    "\\W----matches any  non-word  character\n",
    "\\s---matches any whitespaces\n",
    "\\S---matches any non-whitespaces\n",
    "\\A---startswith\n",
    "\\Z---endswith\n",
    ".:---matches every character"
   ]
  },
  {
   "cell_type": "code",
   "execution_count": 35,
   "id": "fec42afe-b16c-4e28-aa62-e7704f81a103",
   "metadata": {},
   "outputs": [
    {
     "data": {
      "text/plain": [
       "['2', '3']"
      ]
     },
     "execution_count": 35,
     "metadata": {},
     "output_type": "execute_result"
    }
   ],
   "source": [
    "import re\n",
    "pattern=r'\\d'                       # digits\n",
    "data=\"my name is venkatesh age is 23\"\n",
    "re.findall(pattern,data)"
   ]
  },
  {
   "cell_type": "code",
   "execution_count": 36,
   "id": "fd02656d-79af-4879-b444-929d5f6aff47",
   "metadata": {},
   "outputs": [
    {
     "data": {
      "text/plain": [
       "['m',\n",
       " 'y',\n",
       " ' ',\n",
       " 'n',\n",
       " 'a',\n",
       " 'm',\n",
       " 'e',\n",
       " ' ',\n",
       " 'i',\n",
       " 's',\n",
       " ' ',\n",
       " 'v',\n",
       " 'e',\n",
       " 'n',\n",
       " 'k',\n",
       " 'a',\n",
       " 't',\n",
       " 'e',\n",
       " 's',\n",
       " 'h',\n",
       " ' ',\n",
       " 'a',\n",
       " 'g',\n",
       " 'e',\n",
       " ' ',\n",
       " 'i',\n",
       " 's',\n",
       " ' ']"
      ]
     },
     "execution_count": 36,
     "metadata": {},
     "output_type": "execute_result"
    }
   ],
   "source": [
    "import re\n",
    "pattern=r'\\D'                       # digits\n",
    "data=\"my name is venkatesh age is 23\"\n",
    "re.findall(pattern,data)"
   ]
  },
  {
   "cell_type": "code",
   "execution_count": 37,
   "id": "63836b8a-9661-4d26-9c90-bb8634605599",
   "metadata": {},
   "outputs": [
    {
     "data": {
      "text/plain": [
       "['m',\n",
       " 'y',\n",
       " 'n',\n",
       " 'a',\n",
       " 'm',\n",
       " 'e',\n",
       " 'i',\n",
       " 's',\n",
       " 'v',\n",
       " 'e',\n",
       " 'n',\n",
       " 'k',\n",
       " 'a',\n",
       " 't',\n",
       " 'e',\n",
       " 's',\n",
       " 'h',\n",
       " 'a',\n",
       " 'g',\n",
       " 'e',\n",
       " 'i',\n",
       " 's',\n",
       " '2',\n",
       " '3',\n",
       " '_']"
      ]
     },
     "execution_count": 37,
     "metadata": {},
     "output_type": "execute_result"
    }
   ],
   "source": [
    "import re\n",
    "pattern=r'\\w'                       # digits\n",
    "data=\"my name is venkatesh age is 23  $ _ \"\n",
    "re.findall(pattern,data)"
   ]
  },
  {
   "cell_type": "code",
   "execution_count": 38,
   "id": "e9326c89-9807-4de5-857b-9a0a66c1f3d2",
   "metadata": {},
   "outputs": [
    {
     "data": {
      "text/plain": [
       "[' ', ' ', ' ', ' ', ' ', ' ', ' ', ' ', '$', ' ', ' ']"
      ]
     },
     "execution_count": 38,
     "metadata": {},
     "output_type": "execute_result"
    }
   ],
   "source": [
    "import re\n",
    "pattern=r'\\W'                       # digits\n",
    "data=\"my name is venkatesh age is 23  $ _ \"\n",
    "re.findall(pattern,data)"
   ]
  },
  {
   "cell_type": "code",
   "execution_count": 39,
   "id": "2e576bbe-b5ce-4a01-981d-3b2af7c00d9a",
   "metadata": {},
   "outputs": [
    {
     "data": {
      "text/plain": [
       "[' ', ' ', ' ', ' ', ' ', ' ', ' ', ' ', ' ', ' ']"
      ]
     },
     "execution_count": 39,
     "metadata": {},
     "output_type": "execute_result"
    }
   ],
   "source": [
    "import re\n",
    "pattern=r'\\s'                       # digits\n",
    "data=\"my name is venkatesh age is 23  $ _ \"\n",
    "re.findall(pattern,data)"
   ]
  },
  {
   "cell_type": "code",
   "execution_count": 40,
   "id": "646ea338-1ecb-4af6-8c09-7c53e477cc19",
   "metadata": {},
   "outputs": [
    {
     "data": {
      "text/plain": [
       "['m',\n",
       " 'y',\n",
       " 'n',\n",
       " 'a',\n",
       " 'm',\n",
       " 'e',\n",
       " 'i',\n",
       " 's',\n",
       " 'v',\n",
       " 'e',\n",
       " 'n',\n",
       " 'k',\n",
       " 'a',\n",
       " 't',\n",
       " 'e',\n",
       " 's',\n",
       " 'h',\n",
       " 'a',\n",
       " 'g',\n",
       " 'e',\n",
       " 'i',\n",
       " 's',\n",
       " '2',\n",
       " '3',\n",
       " '$',\n",
       " '_']"
      ]
     },
     "execution_count": 40,
     "metadata": {},
     "output_type": "execute_result"
    }
   ],
   "source": [
    "import re\n",
    "pattern=r'\\S'                       # digits\n",
    "data=\"my name is venkatesh age is 23  $ _ \"\n",
    "re.findall(pattern,data)"
   ]
  },
  {
   "cell_type": "code",
   "execution_count": 45,
   "id": "abb5b2c9-6e00-48cc-b57e-d6d8c8f93779",
   "metadata": {},
   "outputs": [
    {
     "data": {
      "text/plain": [
       "['my']"
      ]
     },
     "execution_count": 45,
     "metadata": {},
     "output_type": "execute_result"
    }
   ],
   "source": [
    "import re\n",
    "pattern=r'\\Amy'                       # digits\n",
    "data=\"my name is venkatesh age is 23  $ _ \"\n",
    "re.findall(pattern,data)"
   ]
  },
  {
   "cell_type": "code",
   "execution_count": 52,
   "id": "1c3ad805-b00a-4ccb-891c-9c729cf0b02e",
   "metadata": {},
   "outputs": [
    {
     "data": {
      "text/plain": [
       "['23']"
      ]
     },
     "execution_count": 52,
     "metadata": {},
     "output_type": "execute_result"
    }
   ],
   "source": [
    "import re\n",
    "pattern=r'23\\Z'                       # digits\n",
    "data=\"my name is venkatesh age is 23\"\n",
    "re.findall(pattern,data)"
   ]
  },
  {
   "cell_type": "code",
   "execution_count": 55,
   "id": "e6163201-9d5d-486d-96b4-af317e8a8ac9",
   "metadata": {},
   "outputs": [
    {
     "data": {
      "text/plain": [
       "['m',\n",
       " 'y',\n",
       " ' ',\n",
       " 'n',\n",
       " 'a',\n",
       " 'm',\n",
       " 'e',\n",
       " ' ',\n",
       " 'i',\n",
       " 's',\n",
       " ' ',\n",
       " 'v',\n",
       " 'e',\n",
       " 'n',\n",
       " 'k',\n",
       " 'a',\n",
       " 't',\n",
       " 'e',\n",
       " 's',\n",
       " 'h',\n",
       " ' ',\n",
       " 'a',\n",
       " 'g',\n",
       " 'e',\n",
       " ' ',\n",
       " '.',\n",
       " 'i',\n",
       " 's',\n",
       " ' ',\n",
       " '2',\n",
       " '3']"
      ]
     },
     "execution_count": 55,
     "metadata": {},
     "output_type": "execute_result"
    }
   ],
   "source": [
    "import re\n",
    "pattern=r'.'                       # digits\n",
    "data=\"my name is venkatesh age .is 23\"\n",
    "re.findall(pattern,data)"
   ]
  },
  {
   "cell_type": "code",
   "execution_count": null,
   "id": "a3dab355-77cc-4365-a565-c0af9cbdd60e",
   "metadata": {},
   "outputs": [],
   "source": [
    "#how to find the dot in the patterns"
   ]
  },
  {
   "cell_type": "code",
   "execution_count": 56,
   "id": "01679983-ef9f-4e22-8dad-66f9f7ee7d27",
   "metadata": {},
   "outputs": [
    {
     "data": {
      "text/plain": [
       "['.']"
      ]
     },
     "execution_count": 56,
     "metadata": {},
     "output_type": "execute_result"
    }
   ],
   "source": [
    "import re\n",
    "pattern=r'\\.'                       # digits\n",
    "data=\"my name is venkatesh age .is 23\"\n",
    "re.findall(pattern,data)"
   ]
  },
  {
   "cell_type": "code",
   "execution_count": 58,
   "id": "452af056-fa11-488e-b594-b7db660ac6d5",
   "metadata": {},
   "outputs": [
    {
     "name": "stdout",
     "output_type": "stream",
     "text": [
      "<re.Match object; span=(20, 22), match='[]'>\n"
     ]
    }
   ],
   "source": [
    "import re\n",
    "pattern=r'\\[\\]'                       # digits\n",
    "data=\"my name is venkatesh[] age .is 23\"\n",
    "s=re.finditer(pattern,data)\n",
    "for i in s:\n",
    "    print(i)"
   ]
  },
  {
   "cell_type": "code",
   "execution_count": 59,
   "id": "b7cb29d5-1f8d-4087-9c8c-0035884fab71",
   "metadata": {},
   "outputs": [
    {
     "name": "stdout",
     "output_type": "stream",
     "text": [
      "<re.Match object; span=(19, 21), match='\\\\h'>\n"
     ]
    }
   ],
   "source": [
    "import re\n",
    "pattern=r'\\\\h'                       # digits\n",
    "data=\"my name is venkates\\hage .is 23\"\n",
    "s=re.finditer(pattern,data)\n",
    "for i in s:\n",
    "    print(i)"
   ]
  },
  {
   "cell_type": "code",
   "execution_count": 60,
   "id": "b03a58e5-2dd5-46f3-9c0f-16cca8b73148",
   "metadata": {},
   "outputs": [
    {
     "name": "stdout",
     "output_type": "stream",
     "text": [
      "<re.Match object; span=(19, 20), match='\\\\'>\n"
     ]
    }
   ],
   "source": [
    "import re\n",
    "pattern=r'\\\\'                       # digits\n",
    "data=\"my name is venkates\\hage .is 23\"\n",
    "s=re.finditer(pattern,data)\n",
    "for i in s:\n",
    "    print(i)"
   ]
  },
  {
   "cell_type": "code",
   "execution_count": 62,
   "id": "4872634a-481e-43ff-a533-b7722c5a10fe",
   "metadata": {},
   "outputs": [
    {
     "name": "stdout",
     "output_type": "stream",
     "text": [
      "<re.Match object; span=(19, 20), match='\\\\'>\n"
     ]
    }
   ],
   "source": [
    "import re\n",
    "pattern=r'\\\\'                       # digits\n",
    "data=\"my name is venkates\\\\hage .is 23\"\n",
    "s=re.finditer(pattern,data)\n",
    "for i in s:\n",
    "    print(i)"
   ]
  },
  {
   "cell_type": "code",
   "execution_count": 64,
   "id": "0f4b36e7-140d-4b1e-9149-001d7277962a",
   "metadata": {},
   "outputs": [
    {
     "name": "stdout",
     "output_type": "stream",
     "text": [
      "<re.Match object; span=(4, 14), match='2023-09-07'>\n",
      "<re.Match object; span=(57, 67), match='2023-09-19'>\n"
     ]
    }
   ],
   "source": [
    "import re\n",
    "text=\" on 2023-09-07 the conference is begin and ended with in 2023-09-19\"\n",
    "date_pattern=r\"\\d{4}-\\d{2}-\\d{2}\"                     #concept of regular expression\n",
    "k=re.finditer(date_pattern,text)\n",
    "for i in k:\n",
    "    print(i)"
   ]
  },
  {
   "cell_type": "code",
   "execution_count": null,
   "id": "c07c4b74-d371-4b0a-b73a-97a312c5cbeb",
   "metadata": {},
   "outputs": [],
   "source": [
    "#metacharacters in python important"
   ]
  },
  {
   "cell_type": "code",
   "execution_count": null,
   "id": "51c9958f-dc27-41b3-ac3f-8cd5cbd96a0e",
   "metadata": {},
   "outputs": [],
   "source": [
    "#are special characters  that affect how the regular expressions around them are interpreted\n",
    "#metacharacters donot match themseleves that they indicates some rules\n"
   ]
  },
  {
   "cell_type": "code",
   "execution_count": null,
   "id": "03309083-d678-41a3-88cc-e736e6eb0c61",
   "metadata": {},
   "outputs": [],
   "source": [
    "#.(dot)"
   ]
  },
  {
   "cell_type": "code",
   "execution_count": 66,
   "id": "77ee61fe-a9d1-4de8-b7a8-b1ed8adf668b",
   "metadata": {},
   "outputs": [
    {
     "name": "stdout",
     "output_type": "stream",
     "text": [
      "[' ', 'i', ' ', 'a', 'm', ' ', 'v', 'e', 'n', 'k', 'a', 't', 'e', 's', 'h']\n"
     ]
    }
   ],
   "source": [
    "import re\n",
    "data=\" i am venkatesh\"   \n",
    "pattern=r'.'\n",
    "matches=re.findall(pattern,data)\n",
    "print(matches)"
   ]
  },
  {
   "cell_type": "code",
   "execution_count": null,
   "id": "0bf7fb3e-d8b7-4ad4-8679-9da8a7093691",
   "metadata": {},
   "outputs": [],
   "source": [
    "#inside a re expression a dot represents any charcater except\n",
    "#the newline character whcih is \\n"
   ]
  },
  {
   "cell_type": "code",
   "execution_count": 67,
   "id": "325344f1-2c50-4eec-a17d-c68b54fbc705",
   "metadata": {},
   "outputs": [
    {
     "name": "stdout",
     "output_type": "stream",
     "text": [
      "<re.Match object; span=(0, 1), match=' '>\n",
      "<re.Match object; span=(1, 2), match='i'>\n",
      "<re.Match object; span=(2, 3), match=' '>\n",
      "<re.Match object; span=(3, 4), match='a'>\n",
      "<re.Match object; span=(4, 5), match='m'>\n",
      "<re.Match object; span=(6, 7), match='v'>\n",
      "<re.Match object; span=(7, 8), match='e'>\n",
      "<re.Match object; span=(8, 9), match='n'>\n",
      "<re.Match object; span=(9, 10), match='k'>\n",
      "<re.Match object; span=(10, 11), match='a'>\n",
      "<re.Match object; span=(11, 12), match='t'>\n",
      "<re.Match object; span=(12, 13), match='e'>\n",
      "<re.Match object; span=(13, 14), match='s'>\n",
      "<re.Match object; span=(14, 15), match='h'>\n"
     ]
    }
   ],
   "source": [
    "data=\" i am\\nvenkatesh\"   \n",
    "pattern=r'.'\n",
    "matches=re.finditer(pattern,data)\n",
    "for i in matches:\n",
    "    print(i)"
   ]
  },
  {
   "cell_type": "code",
   "execution_count": null,
   "id": "c2629cb7-7683-4ad2-b160-55e539db3c64",
   "metadata": {},
   "outputs": [],
   "source": [
    "#+(plus)\n",
    "character should repeat one or more times \n",
    "with many repetations possible 1 or more tahn 1 is possible"
   ]
  },
  {
   "cell_type": "code",
   "execution_count": 69,
   "id": "5b32b756-1836-402c-8054-d953b342c38b",
   "metadata": {},
   "outputs": [
    {
     "name": "stdout",
     "output_type": "stream",
     "text": [
      "<re.Match object; span=(2, 6), match='llll'>\n",
      "<re.Match object; span=(11, 12), match='l'>\n"
     ]
    }
   ],
   "source": [
    "import re\n",
    "data=\"hellllo world\"\n",
    "pattern=r'l+'\n",
    "matches=re.finditer(pattern,data)\n",
    "for i in matches:\n",
    "    print(i)"
   ]
  },
  {
   "cell_type": "code",
   "execution_count": 72,
   "id": "269bdd10-fa00-4e34-a8ec-0168dee55dfb",
   "metadata": {},
   "outputs": [
    {
     "data": {
      "text/plain": [
       "['12', '44', '55', '55', '66']"
      ]
     },
     "execution_count": 72,
     "metadata": {},
     "output_type": "execute_result"
    }
   ],
   "source": [
    "import re\n",
    "data=\"12,2,3,444,5555,66\"\n",
    "pattern=r'\\d\\d'\n",
    "matches=re.findall(pattern,data)\n",
    "matches"
   ]
  },
  {
   "cell_type": "code",
   "execution_count": 74,
   "id": "2cf26bd7-6c8d-46fb-a9cc-072fd96a8d0d",
   "metadata": {},
   "outputs": [
    {
     "data": {
      "text/plain": [
       "['12', '2', '3', '444', '5555', '66']"
      ]
     },
     "execution_count": 74,
     "metadata": {},
     "output_type": "execute_result"
    }
   ],
   "source": [
    "import re\n",
    "data=\"12,2,3,444,5555,66\"\n",
    "pattern=r'\\d+'\n",
    "matches=re.findall(pattern,data)\n",
    "matches"
   ]
  },
  {
   "cell_type": "code",
   "execution_count": 75,
   "id": "a1429dfb-7437-41b4-b55a-44671facbd72",
   "metadata": {},
   "outputs": [
    {
     "data": {
      "text/plain": [
       "['venkat@gmail.com', 'sura12@12.com']"
      ]
     },
     "execution_count": 75,
     "metadata": {},
     "output_type": "execute_result"
    }
   ],
   "source": [
    "#checking the emails\n",
    "import re\n",
    "data=\"My eamil are venkat@gmail.com and sura12@12.com\"\n",
    "pattern=r'\\w+@\\w+\\.\\w+'\n",
    "email=re.findall(pattern,data)\n",
    "email"
   ]
  },
  {
   "cell_type": "code",
   "execution_count": null,
   "id": "cc2da090-74ff-4ad7-a98a-10d107cc5e50",
   "metadata": {},
   "outputs": [],
   "source": [
    "#*astreik\n",
    "#zero or more characters  including zero occurances\n"
   ]
  },
  {
   "cell_type": "code",
   "execution_count": 78,
   "id": "78a69d4d-aab4-49c5-8bb3-7efb8a0ccead",
   "metadata": {},
   "outputs": [
    {
     "name": "stdout",
     "output_type": "stream",
     "text": [
      "<re.Match object; span=(0, 0), match=''>\n",
      "<re.Match object; span=(1, 1), match=''>\n",
      "<re.Match object; span=(2, 6), match='llll'>\n",
      "<re.Match object; span=(6, 6), match=''>\n",
      "<re.Match object; span=(7, 7), match=''>\n",
      "<re.Match object; span=(8, 8), match=''>\n",
      "<re.Match object; span=(9, 9), match=''>\n",
      "<re.Match object; span=(10, 10), match=''>\n",
      "<re.Match object; span=(11, 12), match='l'>\n",
      "<re.Match object; span=(12, 12), match=''>\n",
      "<re.Match object; span=(13, 13), match=''>\n"
     ]
    }
   ],
   "source": [
    "import re\n",
    "data=\"hellllo world\"\n",
    "pattern=r'l*'\n",
    "matches=re.finditer(pattern,data)   #o or more occurances \n",
    "for i in matches:\n",
    "    print(i)"
   ]
  },
  {
   "cell_type": "code",
   "execution_count": null,
   "id": "cf2411a2-82ba-48b0-8675-e1805fa5bd58",
   "metadata": {},
   "outputs": [],
   "source": [
    "#questions"
   ]
  },
  {
   "cell_type": "code",
   "execution_count": 80,
   "id": "64f65e3a-1eb3-411f-8b2e-ec5053d852c7",
   "metadata": {},
   "outputs": [
    {
     "data": {
      "text/plain": [
       "['abb', 'aaabbbb', 'aaabbbccc', 'bb']"
      ]
     },
     "execution_count": 80,
     "metadata": {},
     "output_type": "execute_result"
    }
   ],
   "source": [
    "import re\n",
    "data=\"abb ac aaabbbb aaa aaabbbccc cc bb\"\n",
    "pattern=r'a*b+\\w+'\n",
    "k=re.findall(pattern,data)\n",
    "k"
   ]
  },
  {
   "cell_type": "code",
   "execution_count": null,
   "id": "4384ca2e-c25f-422e-a835-0cf9ed5d2276",
   "metadata": {},
   "outputs": [],
   "source": [
    "#^ ensures pattern matches or started  carat"
   ]
  },
  {
   "cell_type": "code",
   "execution_count": 81,
   "id": "00536b15-77c3-4118-a0bf-dc5e9e09614c",
   "metadata": {},
   "outputs": [
    {
     "name": "stdout",
     "output_type": "stream",
     "text": [
      "['hello']\n"
     ]
    }
   ],
   "source": [
    "import re\n",
    "pattern= r'^hello'\n",
    "text=\"hello world\"\n",
    "matches=re.findall(pattern,text)\n",
    "print(matches)"
   ]
  },
  {
   "cell_type": "code",
   "execution_count": 82,
   "id": "ea4dc589-6a96-445a-8daf-2da7dbb2fc5e",
   "metadata": {},
   "outputs": [
    {
     "data": {
      "text/plain": [
       "['h', 'e', 'l', 'l', 'o', ' ', ' ', 'w', 'o', 'r', 'l', 'd']"
      ]
     },
     "execution_count": 82,
     "metadata": {},
     "output_type": "execute_result"
    }
   ],
   "source": [
    "#- negoatation of digits\n",
    "import re\n",
    "pattern=r\"[^0-9]\"\n",
    "text=\"hello 10 56world\"\n",
    "matches=re.findall(pattern,text)\n",
    "matches"
   ]
  },
  {
   "cell_type": "code",
   "execution_count": 85,
   "id": "318023bc-d035-4e50-9685-8dfffbf409c2",
   "metadata": {},
   "outputs": [
    {
     "data": {
      "text/plain": [
       "['23']"
      ]
     },
     "execution_count": 85,
     "metadata": {},
     "output_type": "execute_result"
    }
   ],
   "source": [
    "#$ used to match the end of the string\n",
    "import re\n",
    "pattern=r\"\\d{2}$\"\n",
    "text=\"hello 10 56world123\"\n",
    "matches=re.findall(pattern,text)\n",
    "matches"
   ]
  },
  {
   "cell_type": "code",
   "execution_count": null,
   "id": "b077a74f-bbcf-4e34-8a15-7b87f669646b",
   "metadata": {},
   "outputs": [],
   "source": [
    "#? |"
   ]
  },
  {
   "cell_type": "code",
   "execution_count": 88,
   "id": "e80209fe-15d7-4a09-9a98-9805f89e05cf",
   "metadata": {},
   "outputs": [
    {
     "name": "stdout",
     "output_type": "stream",
     "text": [
      "<re.Match object; span=(0, 6), match='colour'>\n",
      "<re.Match object; span=(11, 16), match='color'>\n"
     ]
    }
   ],
   "source": [
    "import re                      #? preceding character is optional or not\n",
    "data=\"colour and color are same \"\n",
    "pattern ='colou?r'\n",
    "matches=re.finditer(pattern,data)\n",
    "for i in matches:\n",
    "    print(i)\n"
   ]
  },
  {
   "cell_type": "code",
   "execution_count": 94,
   "id": "aad49646-f149-491b-bf68-0a72a63d9378",
   "metadata": {},
   "outputs": [
    {
     "data": {
      "text/plain": [
       "['123456789', '123-245-355']"
      ]
     },
     "execution_count": 94,
     "metadata": {},
     "output_type": "execute_result"
    }
   ],
   "source": [
    "import re\n",
    "data= \"123456789 or 123-245-355\"\n",
    "pattern=\"\\d{3}-?\\d{3}-?\\d{3}\"\n",
    "matches=re.findall(pattern,data)\n",
    "matches"
   ]
  },
  {
   "cell_type": "code",
   "execution_count": 102,
   "id": "599dfd3b-0fd6-4f56-bc37-bb2be89c531f",
   "metadata": {},
   "outputs": [
    {
     "name": "stdout",
     "output_type": "stream",
     "text": [
      "<re.Match object; span=(0, 18), match='http://example.com'>\n",
      "<re.Match object; span=(0, 19), match='http://examples.org'>\n",
      "None\n"
     ]
    }
   ],
   "source": [
    "import re\n",
    "pattern=r'https?://\\w+\\.\\w+'\n",
    "urls=[\"http://example.com\",\"http://examples.org\",\"htttps://fileserver.net\"]\n",
    "for  url in urls:\n",
    "    print(re.match(pattern,url))"
   ]
  },
  {
   "cell_type": "code",
   "execution_count": null,
   "id": "07d3b693-8bcc-4f1b-b93a-f021e5b19371",
   "metadata": {},
   "outputs": [],
   "source": [
    "| (pipe symbol)\n",
    "- used for alternation\n",
    "- specify the multiple patterns and matching any one of them\n"
   ]
  },
  {
   "cell_type": "code",
   "execution_count": 104,
   "id": "80f10215-0858-4703-a0c8-307d2a5b6087",
   "metadata": {},
   "outputs": [
    {
     "data": {
      "text/plain": [
       "['cat', 'dog']"
      ]
     },
     "execution_count": 104,
     "metadata": {},
     "output_type": "execute_result"
    }
   ],
   "source": [
    "import re\n",
    "pattern=r'cat|dog'\n",
    "data=\"there is a cat and dog\"\n",
    "re.findall(pattern,data)"
   ]
  },
  {
   "cell_type": "code",
   "execution_count": null,
   "id": "135f25fb-ca11-4e60-88e5-44f074954e33",
   "metadata": {},
   "outputs": [],
   "source": [
    "#python regex  allowsb optional flags to specify when using regular expressions patterns with functions\n",
    "#match\n",
    "#finditer\n",
    "#findall\n"
   ]
  },
  {
   "cell_type": "code",
   "execution_count": null,
   "id": "26f6ca82-fca0-4ed4-847e-f61a7475ffa2",
   "metadata": {},
   "outputs": [],
   "source": [
    "#re.IGNORECASE\n"
   ]
  },
  {
   "cell_type": "code",
   "execution_count": 111,
   "id": "364a2b0d-5d23-49c1-a1e6-8290218cc16f",
   "metadata": {},
   "outputs": [
    {
     "data": {
      "text/plain": [
       "['123', '456', '789']"
      ]
     },
     "execution_count": 111,
     "metadata": {},
     "output_type": "execute_result"
    }
   ],
   "source": [
    "data='''sachin 123\n",
    "shantahan456\n",
    "akshay789'''\n",
    "pattern=r'\\d{3}$'\n",
    "matches=re.findall(pattern,data,re.MULTILINE)\n",
    "matches"
   ]
  },
  {
   "cell_type": "code",
   "execution_count": 114,
   "id": "6b1ec775-579d-48e5-b3c0-35362592ad20",
   "metadata": {},
   "outputs": [
    {
     "data": {
      "text/plain": [
       "['h', 'e', 'l', 'l', 'o', '\\n', 'w', 'o', 'r', 'l', 'd']"
      ]
     },
     "execution_count": 114,
     "metadata": {},
     "output_type": "execute_result"
    }
   ],
   "source": [
    "import re\n",
    "data='''hello\\nworld'''\n",
    "pattern=r'.'\n",
    "matches=re.findall(pattern,data,re.DOTALL)\n",
    "matches"
   ]
  },
  {
   "cell_type": "code",
   "execution_count": null,
   "id": "95a35314-a5bd-4fb0-85b1-9b6c3b27ffac",
   "metadata": {},
   "outputs": [],
   "source": [
    "#re.verbose"
   ]
  },
  {
   "cell_type": "code",
   "execution_count": 115,
   "id": "b08fb24f-3887-47f5-a405-682b3bf92d33",
   "metadata": {},
   "outputs": [
    {
     "data": {
      "text/plain": [
       "['hello.world']"
      ]
     },
     "execution_count": 115,
     "metadata": {},
     "output_type": "execute_result"
    }
   ],
   "source": [
    "import re\n",
    "data='''hello.world'''                        #matchesdata----------------comment\n",
    "pattern=r'\\w+\\.\\w+#matchesdata'               (?#matchesdata----------------comment middle data)\n",
    "matches=re.findall(pattern,data,re.VERBOSE)\n",
    "matches\n",
    "\n"
   ]
  },
  {
   "cell_type": "code",
   "execution_count": null,
   "id": "ae278cd2-4d72-4518-81b7-e0b5dbb8b320",
   "metadata": {},
   "outputs": [],
   "source": []
  },
  {
   "cell_type": "code",
   "execution_count": null,
   "id": "a522ea85-e8a1-4192-84f4-56be2ee61e09",
   "metadata": {},
   "outputs": [],
   "source": [
    "#quantifiers important topic\n",
    "#number of times occurances \n",
    "#used for repetation\n",
    "+  (1  or more occurance)\n",
    "*  (0 or more occurance)\n",
    "{}------------specific number of occurances  range \n",
    "{a,b}\n",
    "{a,}\n",
    "{,b}"
   ]
  },
  {
   "cell_type": "code",
   "execution_count": 131,
   "id": "092d7ac8-6867-46cb-8404-05041d2a838f",
   "metadata": {},
   "outputs": [
    {
     "name": "stdout",
     "output_type": "stream",
     "text": [
      "['65780', '38365', '454', '']\n"
     ]
    }
   ],
   "source": [
    "import re\n",
    "data=\"6578038365454\"\n",
    "pattern=r'\\d{,5}'\n",
    "print(re.findall(pattern,data))"
   ]
  },
  {
   "cell_type": "code",
   "execution_count": null,
   "id": "ca9f8714-1bf6-4c94-a37b-43d269445538",
   "metadata": {},
   "outputs": [],
   "source": [
    "#grouping metacharacters(...)\n",
    "#non-grouping metacharacters(?:...)"
   ]
  },
  {
   "cell_type": "code",
   "execution_count": null,
   "id": "c7b715fc-1e32-459c-bc71-638e4dc44ef8",
   "metadata": {},
   "outputs": [],
   "source": [
    "(\\d+)(\\w+\\s)"
   ]
  },
  {
   "cell_type": "code",
   "execution_count": 135,
   "id": "f688e850-6f4d-4561-a9e7-e01f0fb91c70",
   "metadata": {},
   "outputs": [
    {
     "name": "stdout",
     "output_type": "stream",
     "text": [
      "[('venkey', 'example.', 'com'), ('surya', 'gmail.', 'com'), ('puspha', 'yahho.', 'com')]\n"
     ]
    }
   ],
   "source": [
    "import re\n",
    "data=\"Email address venkey@example.com,surya@gmail.com,puspha@yahho.com\"\n",
    "pattern=r'(\\w+)@(\\w+\\.)(\\w+)'\n",
    "print(re.findall(pattern,data))\n",
    "#tuple  we can acess individuals \n"
   ]
  },
  {
   "cell_type": "code",
   "execution_count": 145,
   "id": "01d3d81d-dfdd-43d7-ac1f-4bc38a7709c4",
   "metadata": {},
   "outputs": [
    {
     "data": {
      "text/plain": [
       "['http://www.example.com', 'http://example.com']"
      ]
     },
     "execution_count": 145,
     "metadata": {},
     "output_type": "execute_result"
    }
   ],
   "source": [
    "import re\n",
    "text=\"visit http://www.example.com or http://example.com\"\n",
    "pattern=r'http://(?:www\\.)?\\w+\\.\\w+'\n",
    "matches=re.findall(pattern,text)\n",
    "matches"
   ]
  },
  {
   "cell_type": "code",
   "execution_count": null,
   "id": "0e767b1a-5874-4264-a830-66ea9338cddb",
   "metadata": {},
   "outputs": [],
   "source": [
    "#some real time examples in the regex\n",
    "#datavalidation\n",
    "#mobile number pancard gmailvalidations\n",
    "#data extraction\n",
    "#mobile number extractions from hugedata\n",
    "#datacleanings\n",
    "#whitespaces are removed\n",
    "#webscrapping\n",
    "#fnd linksb in web pages"
   ]
  },
  {
   "cell_type": "code",
   "execution_count": 147,
   "id": "8ce8fd3e-54ad-41ff-a9bc-760f07973aed",
   "metadata": {},
   "outputs": [
    {
     "name": "stdin",
     "output_type": "stream",
     "text": [
      "enter email adress 10sfhnba@gmail.com\n"
     ]
    },
    {
     "name": "stdout",
     "output_type": "stream",
     "text": [
      "not valid\n"
     ]
    }
   ],
   "source": [
    "#email-validation\n",
    "import re\n",
    "email=input(\"enter email adress\")\n",
    "pattern=r'^[a-zA-Z_][\\w+_\\.]+@[a-zA-Z]+\\.\\w+'\n",
    "match=re.match(pattern,email)\n",
    "if match:\n",
    "    print(\"valid email\")\n",
    "else:\n",
    "    print(\"not valid\")"
   ]
  },
  {
   "cell_type": "code",
   "execution_count": null,
   "id": "0e1339ef-a7cc-4767-8ea7-6ad2509a1bbf",
   "metadata": {},
   "outputs": [],
   "source": []
  },
  {
   "cell_type": "code",
   "execution_count": null,
   "id": "01cbad1c-b83e-436e-bb56-39c2f1140cc2",
   "metadata": {},
   "outputs": [],
   "source": []
  }
 ],
 "metadata": {
  "kernelspec": {
   "display_name": "Python 3 (ipykernel)",
   "language": "python",
   "name": "python3"
  },
  "language_info": {
   "codemirror_mode": {
    "name": "ipython",
    "version": 3
   },
   "file_extension": ".py",
   "mimetype": "text/x-python",
   "name": "python",
   "nbconvert_exporter": "python",
   "pygments_lexer": "ipython3",
   "version": "3.11.5"
  }
 },
 "nbformat": 4,
 "nbformat_minor": 5
}
