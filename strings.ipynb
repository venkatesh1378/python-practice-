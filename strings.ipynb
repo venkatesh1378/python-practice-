{
 "cells": [
  {
   "cell_type": "raw",
   "id": "37aad325-499a-4b28-ba6d-491f3d66c87d",
   "metadata": {},
   "source": [
    "1)check wheter character is vowel or not\n"
   ]
  },
  {
   "cell_type": "code",
   "execution_count": null,
   "id": "7408a929-99d6-482a-b8f5-a0d4eb417d34",
   "metadata": {},
   "outputs": [],
   "source": []
  },
  {
   "cell_type": "code",
   "execution_count": null,
   "id": "c1a7760e-e3d1-4568-88af-120865d9cc46",
   "metadata": {},
   "outputs": [],
   "source": []
  },
  {
   "cell_type": "code",
   "execution_count": null,
   "id": "825ea34d-cb83-4b16-85dc-75fe1e0bc8c3",
   "metadata": {},
   "outputs": [],
   "source": []
  },
  {
   "cell_type": "code",
   "execution_count": null,
   "id": "40abc39f-074b-4227-8537-0a7e8e08f149",
   "metadata": {},
   "outputs": [],
   "source": []
  },
  {
   "cell_type": "code",
   "execution_count": 18,
   "id": "ffad6683-d318-4c02-8e63-b28a129eed6c",
   "metadata": {},
   "outputs": [
    {
     "name": "stdout",
     "output_type": "stream",
     "text": [
      "<class 'textwrap.TextWrapper'>\n"
     ]
    }
   ],
   "source": [
    "import textwrap \n",
    "\n",
    "value = \"\"\"This function wraps the input paragraph such that each line \n",
    "in the paragraph is at most width characters long. The wrap method \n",
    "returns a list of output lines. The returned list \n",
    "is empty if the wrapped \n",
    "output has no content.\"\"\"\n",
    "\n",
    "# Wrap this text. \n",
    "wrapper = textwrap.TextWrapper(width=50) \n",
    "print(type(wrapper))\n",
    "#X=wrapper.wrap(text=a)\n",
    "#word_list = wrapper.wrap(text=value) \n",
    "\n",
    "# Print each line. \n",
    "#for element in X: \n",
    "\t#print(element) \n"
   ]
  },
  {
   "cell_type": "code",
   "execution_count": 10,
   "id": "6ba70733-00f1-4ae7-be0f-4fcefa905476",
   "metadata": {},
   "outputs": [
    {
     "data": {
      "text/plain": [
       "['TextWrapper',\n",
       " '__all__',\n",
       " '__builtins__',\n",
       " '__cached__',\n",
       " '__doc__',\n",
       " '__file__',\n",
       " '__loader__',\n",
       " '__name__',\n",
       " '__package__',\n",
       " '__spec__',\n",
       " '_leading_whitespace_re',\n",
       " '_whitespace',\n",
       " '_whitespace_only_re',\n",
       " 'dedent',\n",
       " 'fill',\n",
       " 'indent',\n",
       " 're',\n",
       " 'shorten',\n",
       " 'wrap']"
      ]
     },
     "execution_count": 10,
     "metadata": {},
     "output_type": "execute_result"
    }
   ],
   "source": [
    "dir(textwrap)"
   ]
  },
  {
   "cell_type": "code",
   "execution_count": null,
   "id": "65a2c2c6-2391-4674-a215-bf705923d6f1",
   "metadata": {},
   "outputs": [],
   "source": []
  },
  {
   "cell_type": "code",
   "execution_count": null,
   "id": "90d0e505-ed14-4851-877f-d77de6554e5f",
   "metadata": {},
   "outputs": [],
   "source": []
  },
  {
   "cell_type": "code",
   "execution_count": null,
   "id": "8349c629-d6cd-48ba-9cb8-5e29bd571719",
   "metadata": {},
   "outputs": [],
   "source": []
  },
  {
   "cell_type": "code",
   "execution_count": null,
   "id": "b4c8b505-4077-4fa0-8ba6-d9e0df87e4d3",
   "metadata": {},
   "outputs": [],
   "source": []
  },
  {
   "cell_type": "code",
   "execution_count": null,
   "id": "8ff6496c-75ea-470d-98ee-332409eb740b",
   "metadata": {},
   "outputs": [],
   "source": []
  },
  {
   "cell_type": "code",
   "execution_count": null,
   "id": "5ca109ab-3441-41a9-8568-2062072fecd5",
   "metadata": {},
   "outputs": [],
   "source": []
  },
  {
   "cell_type": "code",
   "execution_count": null,
   "id": "240c3df5-a14b-4508-b65a-78619bf102c2",
   "metadata": {},
   "outputs": [],
   "source": []
  },
  {
   "cell_type": "code",
   "execution_count": 7,
   "id": "a8046277-5991-439f-bd33-502d4d2d6951",
   "metadata": {},
   "outputs": [
    {
     "name": "stdin",
     "output_type": "stream",
     "text": [
      "enter the character to be checked E\n"
     ]
    },
    {
     "name": "stdout",
     "output_type": "stream",
     "text": [
      "E is a vowel\n"
     ]
    }
   ],
   "source": [
    "#method-1\n",
    "character=input(\"enter the character to be checked\")\n",
    "if character in (\"aeiou\") or (\"AEIOU\"):\n",
    "    print(\"{} is a vowel\".format(character))\n",
    "else:\n",
    "     print(\"{} is a not a vowel\".format(character))\n",
    "    "
   ]
  },
  {
   "cell_type": "code",
   "execution_count": 9,
   "id": "7ce5b8c8-35cf-4a37-b9c6-f3920ee667d7",
   "metadata": {},
   "outputs": [
    {
     "name": "stdin",
     "output_type": "stream",
     "text": [
      "enter the character to be checked r\n"
     ]
    },
    {
     "name": "stdout",
     "output_type": "stream",
     "text": [
      "r is a not a vowel\n"
     ]
    }
   ],
   "source": [
    "#method-2:\n",
    "def check(character):\n",
    "    if character==\"A\" or character==\"E\" or character==\"I\" or character==\"O\" or character==\"U\" or character==\"a\" or character==\"e\" or character==\"i\" or character==\"u\":\n",
    "        print(\"{} is a vowel\".format(character))\n",
    "    else:\n",
    "         print(\"{} is a not a vowel\".format(character))\n",
    "character=input(\"enter the character to be checked\")\n",
    "check(character)"
   ]
  },
  {
   "cell_type": "markdown",
   "id": "022b5f05-00ac-4ae6-adce-6e1499880b58",
   "metadata": {},
   "source": [
    "2)check wheter character is alphabet or not"
   ]
  },
  {
   "cell_type": "code",
   "execution_count": 13,
   "id": "f6fc86dc-fc0a-49ad-9cb3-fb3901c094fa",
   "metadata": {},
   "outputs": [
    {
     "name": "stdin",
     "output_type": "stream",
     "text": [
      "enter the character to be checked Q\n"
     ]
    },
    {
     "name": "stdout",
     "output_type": "stream",
     "text": [
      "Q is a aplphabet\n"
     ]
    }
   ],
   "source": [
    "#method-1\n",
    "character=input(\"enter the character to be checked\")\n",
    "if character.isalpha():\n",
    "    print(\"{} is a aplphabet\".format(character))\n",
    "else:\n",
    "     print(\"{} is a not a alphabet\".format(character))\n",
    "    "
   ]
  },
  {
   "cell_type": "code",
   "execution_count": 15,
   "id": "94962a2c-f369-4f6e-a026-0f16764d5dcf",
   "metadata": {},
   "outputs": [
    {
     "name": "stdin",
     "output_type": "stream",
     "text": [
      "enter the character to be checked z\n"
     ]
    },
    {
     "name": "stdout",
     "output_type": "stream",
     "text": [
      "z is a alphabet\n"
     ]
    }
   ],
   "source": [
    "#method-2:\n",
    "def alphabet(character):\n",
    "    if (ord(character)>=65 and ord(character)<=90) or (ord(character)>=97 and ord(character)<=122):\n",
    "        print(\"{} is a alphabet\".format(character))\n",
    "    else:\n",
    "        print(\"{} is not a alphabet\".format(character))\n",
    "    \n",
    "character=input(\"enter the character to be checked\")\n",
    "alphabet(character)"
   ]
  },
  {
   "cell_type": "code",
   "execution_count": 18,
   "id": "e8d0a0b7-05f2-4194-b2cf-c106fb620f2b",
   "metadata": {},
   "outputs": [
    {
     "name": "stdin",
     "output_type": "stream",
     "text": [
      "enter the character to be checked 3\n"
     ]
    },
    {
     "name": "stdout",
     "output_type": "stream",
     "text": [
      "3 is not a alphabet\n"
     ]
    }
   ],
   "source": [
    "#method-3\n",
    "def alphabet(character):\n",
    "    if character>=\"a\" and character<=\"z\" or character>=\"A\" and character<=\"Z\":\n",
    "        print(\"{} is a alphabet\".format(character))\n",
    "    else:\n",
    "        print(\"{} is not a alphabet\".format(character))\n",
    "    \n",
    "character=input(\"enter the character to be checked\")\n",
    "alphabet(character)"
   ]
  },
  {
   "cell_type": "markdown",
   "id": "a92a72bd-c509-4717-8381-f4d7f3447259",
   "metadata": {},
   "source": [
    "3)find  the unicode value of character"
   ]
  },
  {
   "cell_type": "code",
   "execution_count": 19,
   "id": "71582e7d-080d-4cbe-b23d-5e7439972c59",
   "metadata": {},
   "outputs": [
    {
     "name": "stdin",
     "output_type": "stream",
     "text": [
      "enter the character to be checked e\n"
     ]
    },
    {
     "name": "stdout",
     "output_type": "stream",
     "text": [
      "101\n"
     ]
    }
   ],
   "source": [
    "character=input(\"enter the character to be checked\")\n",
    "print(ord(character))"
   ]
  },
  {
   "cell_type": "raw",
   "id": "ffc07ef5-a3b6-47a7-b77e-2fd434f3f7f8",
   "metadata": {},
   "source": [
    "4) len of string without len "
   ]
  },
  {
   "cell_type": "code",
   "execution_count": 20,
   "id": "c23fb5e5-1ee9-4960-a490-4552bf71dbad",
   "metadata": {},
   "outputs": [
    {
     "name": "stdin",
     "output_type": "stream",
     "text": [
      "enter the string hi welocmee \n"
     ]
    },
    {
     "name": "stdout",
     "output_type": "stream",
     "text": [
      "12\n"
     ]
    }
   ],
   "source": [
    "s=input(\"enter the string\")\n",
    "count=0\n",
    "for i in range(len(s)):\n",
    "    count+=1\n",
    "print(count)"
   ]
  },
  {
   "cell_type": "markdown",
   "id": "88d5f31d-ea79-4045-8c60-f9dad1f1bb0a",
   "metadata": {},
   "source": [
    "5)toggle a string"
   ]
  },
  {
   "cell_type": "code",
   "execution_count": 21,
   "id": "6ec05303-c271-4e48-8e8f-56fe2f5c3ab4",
   "metadata": {},
   "outputs": [
    {
     "name": "stdin",
     "output_type": "stream",
     "text": [
      "enter the string to be toggled gUddIyBr\n"
     ]
    },
    {
     "name": "stdout",
     "output_type": "stream",
     "text": [
      "GuDDiYbR\n"
     ]
    }
   ],
   "source": [
    "a=input(\"enter the string to be toggled\")\n",
    "k=\"\"\n",
    "for i in a:\n",
    "    if i.isupper():\n",
    "        k+=i.lower()\n",
    "    else:\n",
    "        k+=i.upper()\n",
    "print(k)"
   ]
  },
  {
   "cell_type": "markdown",
   "id": "615d86ff-8ffc-403e-b536-255b2bb3f447",
   "metadata": {},
   "source": [
    "6)count the  number of vowels    "
   ]
  },
  {
   "cell_type": "code",
   "execution_count": 25,
   "id": "7232f5b6-7e1d-4904-aed3-ee6aeb4ff9d6",
   "metadata": {},
   "outputs": [
    {
     "name": "stdin",
     "output_type": "stream",
     "text": [
      "enter the character to be checked prep insta\n"
     ]
    },
    {
     "name": "stdout",
     "output_type": "stream",
     "text": [
      "3\n"
     ]
    }
   ],
   "source": [
    "c=input(\"enter the character to be checked\")\n",
    "count=0\n",
    "for i in range(len(c)):\n",
    "    if c[i] in \"aeiou\":\n",
    "        count+=1\n",
    "print(count)\n",
    "    \n",
    "    "
   ]
  },
  {
   "cell_type": "code",
   "execution_count": 26,
   "id": "127d12c0-24cd-4d71-bdea-e6779aa689ad",
   "metadata": {},
   "outputs": [
    {
     "name": "stdin",
     "output_type": "stream",
     "text": [
      " prepinsta\n"
     ]
    },
    {
     "name": "stdout",
     "output_type": "stream",
     "text": [
      "3\n"
     ]
    }
   ],
   "source": [
    "def check(s):\n",
    "    count=0\n",
    "    a=[\"a\",\"e\",\"i\",\"o\",\"u\",\"A\",\"E\",\"I\",\"O\",\"U\"]\n",
    "    for i in range(len(s)):\n",
    "        if s[i] in a:\n",
    "            count+=1\n",
    "    return count\n",
    "s=input()\n",
    "print(check(s))"
   ]
  },
  {
   "cell_type": "markdown",
   "id": "31964fcf-28f2-480e-81a5-d6c22555b9ce",
   "metadata": {},
   "source": [
    "7)remove vowels from string"
   ]
  },
  {
   "cell_type": "code",
   "execution_count": 28,
   "id": "906b108f-492b-4eee-bc02-72e77973582e",
   "metadata": {},
   "outputs": [
    {
     "name": "stdin",
     "output_type": "stream",
     "text": [
      " prepinsta\n"
     ]
    },
    {
     "name": "stdout",
     "output_type": "stream",
     "text": [
      "prpnst\n"
     ]
    }
   ],
   "source": [
    "s=input()\n",
    "k=\"\"\n",
    "for i in range(len(s)):\n",
    "    if s[i] not in \"aeiou\":\n",
    "        k+=s[i]\n",
    "print(k)"
   ]
  },
  {
   "cell_type": "code",
   "execution_count": 30,
   "id": "7189ffe9-3c74-4198-a6c8-44b95d194882",
   "metadata": {},
   "outputs": [
    {
     "name": "stdin",
     "output_type": "stream",
     "text": [
      " welcome\n"
     ]
    },
    {
     "name": "stdout",
     "output_type": "stream",
     "text": [
      "wlcom\n"
     ]
    }
   ],
   "source": [
    "s=input()\n",
    "k=\"\"\n",
    "for i in range(len(s)):\n",
    "    if s[i] in \"aeiou\":\n",
    "       k= s.replace(s[i],\"\")\n",
    "    else:\n",
    "        k+=s[i]\n",
    "print(k)"
   ]
  },
  {
   "cell_type": "raw",
   "id": "0646af37-eadc-4bd3-8aab-14972df06dd0",
   "metadata": {},
   "source": [
    "8)check   string is palindrome or not"
   ]
  },
  {
   "cell_type": "code",
   "execution_count": 32,
   "id": "84d98170-7499-4d0c-af15-8ec4b4154962",
   "metadata": {},
   "outputs": [
    {
     "name": "stdin",
     "output_type": "stream",
     "text": [
      "enter a string madam\n"
     ]
    },
    {
     "name": "stdout",
     "output_type": "stream",
     "text": [
      "palindrome\n"
     ]
    }
   ],
   "source": [
    "s=input(\"enter a string\")\n",
    "m=s[::-1]\n",
    "if s==m:\n",
    "    print(\"palindrome\")\n",
    "else:\n",
    "    print(\"not a palindrome\")"
   ]
  },
  {
   "cell_type": "code",
   "execution_count": 39,
   "id": "cafc465b-074c-449c-99b0-f1a9daf0c0c7",
   "metadata": {},
   "outputs": [
    {
     "name": "stdin",
     "output_type": "stream",
     "text": [
      "enter a string venkat\n"
     ]
    },
    {
     "name": "stdout",
     "output_type": "stream",
     "text": [
      "taknev\n",
      "Not palindrome\n"
     ]
    }
   ],
   "source": [
    "s=input(\"enter a string\")\n",
    "k=\"\"\n",
    "for i in s:\n",
    "    k=i+k\n",
    "print(k)\n",
    "if s==k:\n",
    "    print(\"palindrome\")\n",
    "else:\n",
    "    print(\"Not palindrome\")"
   ]
  },
  {
   "cell_type": "code",
   "execution_count": null,
   "id": "111abb44-b358-49e8-a1d7-454e26a0acb8",
   "metadata": {},
   "outputs": [],
   "source": [
    "9)reverse a string"
   ]
  },
  {
   "cell_type": "code",
   "execution_count": 40,
   "id": "696f00c2-b569-4491-b17a-df90e552f39d",
   "metadata": {},
   "outputs": [
    {
     "name": "stdin",
     "output_type": "stream",
     "text": [
      "enter a string hello world\n"
     ]
    },
    {
     "name": "stdout",
     "output_type": "stream",
     "text": [
      "dlrow olleh\n"
     ]
    }
   ],
   "source": [
    "s=input(\"enter a string\")\n",
    "k=\"\"\n",
    "for i in range(len(s)):\n",
    "    k=s[i]+k\n",
    "print(k)"
   ]
  },
  {
   "cell_type": "code",
   "execution_count": null,
   "id": "0f804e1e-7779-42ad-94b2-d5412d2b2b38",
   "metadata": {},
   "outputs": [],
   "source": [
    "10)remove  all charactersexcept alphabets:"
   ]
  },
  {
   "cell_type": "code",
   "execution_count": 42,
   "id": "ad40d39d-54d5-4ab0-966a-a10fa4b7c070",
   "metadata": {},
   "outputs": [
    {
     "name": "stdin",
     "output_type": "stream",
     "text": [
      " #Justice!For@Chutki123\n"
     ]
    },
    {
     "name": "stdout",
     "output_type": "stream",
     "text": [
      "JusticeForChutki\n"
     ]
    }
   ],
   "source": [
    "\n",
    "s=input()\n",
    "k=\"\"\n",
    "for i in s:\n",
    "    if (i>=\"a\" and i<=\"z\") or (i>=\"A\" and i<=\"Z\"):\n",
    "        k=k+i\n",
    "print(k)"
   ]
  },
  {
   "cell_type": "code",
   "execution_count": null,
   "id": "d8b15a7e-6d8f-4399-9f9c-8ff7095b5685",
   "metadata": {},
   "outputs": [],
   "source": [
    "11)remove all spaces from string"
   ]
  },
  {
   "cell_type": "code",
   "execution_count": 46,
   "id": "2999da10-00a3-48a6-98f6-44c997c9c707",
   "metadata": {},
   "outputs": [
    {
     "name": "stdin",
     "output_type": "stream",
     "text": [
      " PrepInsta is      fabulous\n"
     ]
    },
    {
     "name": "stdout",
     "output_type": "stream",
     "text": [
      "PrepInstaisfabulous\n"
     ]
    }
   ],
   "source": [
    "s=input()\n",
    "k=\"\"\n",
    "for i in range(len(s)):\n",
    "    if s[i]!=' ':\n",
    "        k+=s[i]\n",
    "print(k)\n",
    "\n",
    "        "
   ]
  },
  {
   "cell_type": "code",
   "execution_count": null,
   "id": "4b8a3df2-4031-4a0d-acc1-e3d0e0e9be2e",
   "metadata": {},
   "outputs": [],
   "source": [
    "12)remove brackets"
   ]
  },
  {
   "cell_type": "code",
   "execution_count": 49,
   "id": "e5e73256-5f80-475c-8853-3267a777463c",
   "metadata": {},
   "outputs": [
    {
     "name": "stdin",
     "output_type": "stream",
     "text": [
      " (a-b)+[c*d]+{e/f}\n"
     ]
    },
    {
     "name": "stdout",
     "output_type": "stream",
     "text": [
      "a-b+c*d+e/f\n"
     ]
    }
   ],
   "source": [
    "s=input()\n",
    "k=\"\"\n",
    "for i in s:\n",
    "    if i!=\"(\" and  i!=\")\" and  i!=\"[\" and  i!=\"]\" and  i!=\"{\" and i!=\"}\":\n",
    "        k+=i\n",
    "print(k)\n",
    "\n",
    "        \n",
    "    "
   ]
  },
  {
   "cell_type": "code",
   "execution_count": null,
   "id": "e8dfd7b0-5ebc-458d-847f-b73b2c34ce14",
   "metadata": {},
   "outputs": [],
   "source": [
    "13)count the sum of digits in string"
   ]
  },
  {
   "cell_type": "code",
   "execution_count": 50,
   "id": "4e67d9dd-7a7c-4971-9d91-e834ae36d039",
   "metadata": {},
   "outputs": [
    {
     "name": "stdin",
     "output_type": "stream",
     "text": [
      " 4PREP2INSTAA6\n"
     ]
    },
    {
     "name": "stdout",
     "output_type": "stream",
     "text": [
      "12\n"
     ]
    }
   ],
   "source": [
    "s=input()\n",
    "count=0\n",
    "for i in s:\n",
    "    if i.isdigit():\n",
    "        count=count+int(i)\n",
    "print(count)\n",
    "    \n",
    "    "
   ]
  },
  {
   "cell_type": "code",
   "execution_count": null,
   "id": "a5262e83-3d34-40ae-b600-d47524e3ed22",
   "metadata": {},
   "outputs": [],
   "source": [
    "14)capitalize first and last letter of string"
   ]
  },
  {
   "cell_type": "code",
   "execution_count": 52,
   "id": "acd97af6-9ef8-4b1b-9fbd-61b2f9b95ffd",
   "metadata": {},
   "outputs": [
    {
     "name": "stdin",
     "output_type": "stream",
     "text": [
      " prepinsta\n"
     ]
    },
    {
     "name": "stdout",
     "output_type": "stream",
     "text": [
      "PrepinstA\n"
     ]
    }
   ],
   "source": [
    "x=input()\n",
    "y=x[0].upper()\n",
    "z=x[len(x)-1].upper()\n",
    "print(y+x[1:len(x)-1]+z)\n",
    "    "
   ]
  },
  {
   "cell_type": "code",
   "execution_count": null,
   "id": "19bb6ac4-48aa-4324-99f8-cf639fbfe99e",
   "metadata": {},
   "outputs": [],
   "source": [
    "************************** 15)claculate the frequency of string"
   ]
  },
  {
   "cell_type": "code",
   "execution_count": 55,
   "id": "0c3d066c-6c44-429e-96ca-96528aa4d141",
   "metadata": {},
   "outputs": [
    {
     "name": "stdin",
     "output_type": "stream",
     "text": [
      " venkatesh\n"
     ]
    },
    {
     "name": "stdout",
     "output_type": "stream",
     "text": [
      " the count of letter v is 1\n",
      " the count of letter e is 2\n",
      " the count of letter n is 1\n",
      " the count of letter k is 1\n",
      " the count of letter a is 1\n",
      " the count of letter t is 1\n",
      " the count of letter e is 1\n",
      " the count of letter s is 1\n",
      " the count of letter h is 1\n"
     ]
    }
   ],
   "source": [
    "s=input()\n",
    "for i in range(len(s)):\n",
    "    count=1\n",
    "    for j in range(i+1,len(s)):\n",
    "        if s[i]==s[j]:\n",
    "            count+=1\n",
    "    print(\" the count of letter {} is {}\".format(s[i],count))\n",
    "        "
   ]
  },
  {
   "cell_type": "code",
   "execution_count": 58,
   "id": "f49062b3-22a6-47d1-9310-ad3d27c16407",
   "metadata": {},
   "outputs": [
    {
     "name": "stdin",
     "output_type": "stream",
     "text": [
      " venkateshsura\n"
     ]
    },
    {
     "name": "stdout",
     "output_type": "stream",
     "text": [
      "the count of letter a  is 2\n",
      "the count of letter e  is 2\n",
      "the count of letter h  is 1\n",
      "the count of letter k  is 1\n",
      "the count of letter n  is 1\n",
      "the count of letter r  is 1\n",
      "the count of letter s  is 2\n",
      "the count of letter t  is 1\n",
      "the count of letter u  is 1\n",
      "the count of letter v  is 1\n"
     ]
    }
   ],
   "source": [
    "s=input()\n",
    "m=set(s)\n",
    "for i in sorted(m):\n",
    "    print(\"the count of letter {}  is {}\".format(i,s.count(i)))"
   ]
  },
  {
   "cell_type": "code",
   "execution_count": 59,
   "id": "64107a7d-1310-42b1-9749-d336649a37af",
   "metadata": {},
   "outputs": [
    {
     "name": "stdin",
     "output_type": "stream",
     "text": [
      " venkatesh\n"
     ]
    },
    {
     "name": "stdout",
     "output_type": "stream",
     "text": [
      "{'v': 1, 'e': 2, 'n': 1, 'k': 1, 'a': 1, 't': 1, 's': 1, 'h': 1}\n"
     ]
    }
   ],
   "source": [
    "#method3\n",
    "s=input()\n",
    "k={}\n",
    "for i in s:\n",
    "    if i in k:\n",
    "        k[i]+=1\n",
    "    else:\n",
    "        k[i]=1\n",
    "print(k)"
   ]
  },
  {
   "cell_type": "code",
   "execution_count": 62,
   "id": "31aef2e0-c492-4f37-add3-8e510b82da49",
   "metadata": {},
   "outputs": [
    {
     "name": "stdin",
     "output_type": "stream",
     "text": [
      " prepinsta\n"
     ]
    },
    {
     "name": "stdout",
     "output_type": "stream",
     "text": [
      "r e i n s t a "
     ]
    }
   ],
   "source": [
    "#*****************************16)non repetining characters in a string\n",
    "s=input()\n",
    "k=[]\n",
    "for i in range(len(s)):\n",
    "    k+=[0]\n",
    "for i in range(len(s)):\n",
    "    count=1\n",
    "    for j in range(i+1,len(s)):\n",
    "        if s[i]==s[j]:\n",
    "            count+=1\n",
    "            k[j]=-1\n",
    "            k[i]=-1\n",
    "            \n",
    "    if k[i]!=-1:\n",
    "        print(s[i],end=\" \")\n"
   ]
  },
  {
   "cell_type": "code",
   "execution_count": null,
   "id": "ea70e992-0428-4851-a6f2-b70771f1ba40",
   "metadata": {},
   "outputs": [],
   "source": [
    "17)anagram program by rearranged the characters of string 1 we can able to form string2"
   ]
  },
  {
   "cell_type": "code",
   "execution_count": 68,
   "id": "6243442f-ace9-4f7f-9e87-d85de1e99d08",
   "metadata": {},
   "outputs": [
    {
     "name": "stdin",
     "output_type": "stream",
     "text": [
      " listen\n",
      " silent\n"
     ]
    },
    {
     "name": "stdout",
     "output_type": "stream",
     "text": [
      "6\n",
      "strings are anagram\n"
     ]
    }
   ],
   "source": [
    "s=input()\n",
    "m=input()\n",
    "k=len(s)\n",
    "count=0\n",
    "for i in s:\n",
    "    for j in m:\n",
    "        if i==j:\n",
    "            count+=1\n",
    "            break\n",
    "print(count)\n",
    "if k==count and len(s)==len(m):\n",
    "    print(\"strings are anagram\")\n",
    "else:\n",
    "    print(\"strings are not anagram\")\n"
   ]
  },
  {
   "cell_type": "code",
   "execution_count": null,
   "id": "8ccac112-b5a7-4643-91d0-d1454eaac7b6",
   "metadata": {},
   "outputs": [],
   "source": [
    "18)replace the substring       pending"
   ]
  },
  {
   "cell_type": "code",
   "execution_count": 73,
   "id": "49f336ad-3432-4958-871c-3940c176446a",
   "metadata": {},
   "outputs": [
    {
     "name": "stdin",
     "output_type": "stream",
     "text": [
      " learn a c++\n",
      " c++\n",
      " python\n"
     ]
    },
    {
     "name": "stdout",
     "output_type": "stream",
     "text": [
      "learn a python\n"
     ]
    }
   ],
   "source": [
    "a=input()\n",
    "b=input()\n",
    "c=input()\n",
    "x=a.replace(b,c)\n",
    "print(x)\n",
    "\n",
    "    "
   ]
  },
  {
   "cell_type": "code",
   "execution_count": null,
   "id": "de570baf-36e9-4109-a134-438fd4d6ed75",
   "metadata": {},
   "outputs": [],
   "source": [
    "19)count common subsequence    pending"
   ]
  },
  {
   "cell_type": "code",
   "execution_count": 77,
   "id": "d36b2fb8-4f92-420c-8af1-6734d459658b",
   "metadata": {},
   "outputs": [
    {
     "name": "stdin",
     "output_type": "stream",
     "text": [
      " abc\n"
     ]
    },
    {
     "name": "stdout",
     "output_type": "stream",
     "text": [
      "['a', 'ab', 'abc', 'b', 'bc', 'c']\n"
     ]
    }
   ],
   "source": [
    "a=input() #abc\n",
    "#b=input() #ab\n",
    "a_1=[]\n",
    "b_1=[]\n",
    "for i in range(len(a)):\n",
    "    for j in range(i+1,len(a)+1):\n",
    "        a_1.append(a[i:j])\n",
    "print(a_1)"
   ]
  },
  {
   "cell_type": "code",
   "execution_count": null,
   "id": "6be96cf5-845c-4fac-8643-5c95b12d6525",
   "metadata": {},
   "outputs": [],
   "source": [
    "20)string conatins wild card caracter"
   ]
  },
  {
   "cell_type": "code",
   "execution_count": 84,
   "id": "16492c21-615f-42ce-8325-fd4ae58f8ff4",
   "metadata": {},
   "outputs": [
    {
     "name": "stdin",
     "output_type": "stream",
     "text": [
      " prep***ta\n",
      " prepinsta\n"
     ]
    },
    {
     "name": "stdout",
     "output_type": "stream",
     "text": [
      "3\n",
      "true\n"
     ]
    }
   ],
   "source": [
    "s1=input()\n",
    "s2=input()\n",
    "l1=list(s1)\n",
    "k=l1.count(\"*\")\n",
    "k_1=0\n",
    "print(k)\n",
    "\n",
    "for i in range(len(l1)):\n",
    "    count=0\n",
    "    if l1[i]==\"*\" or l1[i]==\"?\":\n",
    "        count=i\n",
    "        k_1+=1\n",
    "        x=s2[count]\n",
    "        l1[count]=x\n",
    "        y=''.join(l1)\n",
    "        if k==k_1:\n",
    "            if s2==y:\n",
    "                print(\"true\")\n",
    "            else:\n",
    "                print(\"False\")\n"
   ]
  },
  {
   "cell_type": "code",
   "execution_count": null,
   "id": "9677f577-b054-4b9d-b756-43e1c3157d7b",
   "metadata": {},
   "outputs": [],
   "source": [
    "#permutations and combinations 3#pending"
   ]
  },
  {
   "cell_type": "code",
   "execution_count": 88,
   "id": "7a990418-4241-4014-9961-68c8b5e397a4",
   "metadata": {},
   "outputs": [
    {
     "name": "stdout",
     "output_type": "stream",
     "text": [
      "ABC\n",
      "ACB\n",
      "BAC\n",
      "BCA\n",
      "CAB\n",
      "CBA\n"
     ]
    }
   ],
   "source": [
    "from itertools import permutations\n",
    "s=\"ABC\"\n",
    "k=permutations(\"ABC\",3)\n",
    "l=list(k)\n",
    "for i in l:\n",
    "    print(''.join(i))"
   ]
  },
  {
   "cell_type": "code",
   "execution_count": null,
   "id": "35077267-a304-48de-adb4-0cdf6af83b73",
   "metadata": {},
   "outputs": [],
   "source": [
    "\n"
   ]
  },
  {
   "cell_type": "code",
   "execution_count": null,
   "id": "15395e21-fda5-41e8-9e27-4f0ead8b81dc",
   "metadata": {},
   "outputs": [],
   "source": []
  },
  {
   "cell_type": "code",
   "execution_count": null,
   "id": "2a163878-d6bc-4af1-8e73-612ce2616ff0",
   "metadata": {},
   "outputs": [],
   "source": [
    "#GEEKS FOR GEEKS"
   ]
  },
  {
   "cell_type": "code",
   "execution_count": null,
   "id": "c8abd722-ab48-4730-9f56-8b10805783fd",
   "metadata": {},
   "outputs": [],
   "source": [
    "1)reverse a word"
   ]
  },
  {
   "cell_type": "code",
   "execution_count": 94,
   "id": "cce97b2a-57f7-43e8-a938-7b9c298c2709",
   "metadata": {},
   "outputs": [
    {
     "name": "stdin",
     "output_type": "stream",
     "text": [
      " geeks quiz practice code\n"
     ]
    },
    {
     "name": "stdout",
     "output_type": "stream",
     "text": [
      " code practice quiz geeks\n"
     ]
    }
   ],
   "source": [
    "a=input()\n",
    "b=a.split()\n",
    "k=\"\"\n",
    "for i in b:\n",
    "    k=\" \"+i+k\n",
    "print(k)"
   ]
  },
  {
   "cell_type": "code",
   "execution_count": null,
   "id": "798f3865-4396-4ab0-aabb-da01c9ffe9da",
   "metadata": {},
   "outputs": [],
   "source": [
    "2) longest common prefix "
   ]
  },
  {
   "cell_type": "code",
   "execution_count": 108,
   "id": "2b1e1462-260a-497c-b15b-01e85f8283b9",
   "metadata": {},
   "outputs": [
    {
     "name": "stdout",
     "output_type": "stream",
     "text": [
      "1\n"
     ]
    }
   ],
   "source": [
    "a={'geeksforgeeks', 'geeks', 'geek', 'geezer'}\n",
    "b=list(a)\n",
    "c=min(b)\n",
    "\n",
    "for i in range(1,len(c)+1):\n",
    "    count=0\n",
    "    k=c[:i]\n",
    "    for j in b:\n",
    "        if k in j:\n",
    "            count+=1\n",
    "            break\n",
    "\n",
    "\n",
    "            \n",
    "\n",
    "\n",
    "        \n",
    "\n",
    "        \n"
   ]
  },
  {
   "cell_type": "code",
   "execution_count": null,
   "id": "38d55c1a-59b4-43c5-8b1a-dac23ecaaef8",
   "metadata": {},
   "outputs": [],
   "source": [
    "3)minimum distance between two words"
   ]
  },
  {
   "cell_type": "code",
   "execution_count": 112,
   "id": "fb85a428-a867-48e5-ac8e-ebb720075a2e",
   "metadata": {},
   "outputs": [
    {
     "name": "stdin",
     "output_type": "stream",
     "text": [
      " the\n",
      " fox\n"
     ]
    },
    {
     "name": "stdout",
     "output_type": "stream",
     "text": [
      "3\n"
     ]
    }
   ],
   "source": [
    "S = [ \"the\", \"quick\", \"brown\", \"fox\", \"quick\" ]\n",
    "a=input()\n",
    "b=input()\n",
    "c=S.index(a)\n",
    "d=S.index(b)\n",
    "count=0\n",
    "for i in range(c,d):\n",
    "    count+=1\n",
    "print(count)\n",
    "    \n",
    "\n"
   ]
  },
  {
   "cell_type": "code",
   "execution_count": null,
   "id": "6d5017af-099c-41d8-8861-a35037f6f341",
   "metadata": {},
   "outputs": [],
   "source": [
    "*********************************************************#check number is divisible by 7"
   ]
  },
  {
   "cell_type": "code",
   "execution_count": 121,
   "id": "95d95774-bb7a-4475-b551-b25b152736ce",
   "metadata": {},
   "outputs": [
    {
     "name": "stdout",
     "output_type": "stream",
     "text": [
      "false\n"
     ]
    }
   ],
   "source": [
    "def div(num):\n",
    "    if num==0 or num==7:\n",
    "        return True\n",
    "    if num<10:\n",
    "        return False\n",
    "\n",
    "    return div(num//10-(num%10)*2)\n",
    "k=div(453)\n",
    "if k:\n",
    "    print(\"true\")\n",
    "else:\n",
    "    print(\"false\")\n",
    "\n",
    "\n",
    "\n",
    "\n"
   ]
  },
  {
   "cell_type": "code",
   "execution_count": null,
   "id": "5cbbf62d-33e4-4545-aa6a-d69a956e8c54",
   "metadata": {},
   "outputs": [],
   "source": [
    "#isomorphic strings"
   ]
  },
  {
   "cell_type": "code",
   "execution_count": 123,
   "id": "5f93043b-cde7-4c27-8fae-aefdf5a5d95f",
   "metadata": {},
   "outputs": [
    {
     "name": "stdout",
     "output_type": "stream",
     "text": [
      "not \n"
     ]
    }
   ],
   "source": [
    "a=\"xxy\"\n",
    "b=\"abc\"\n",
    "c=len(a)==len(b)\n",
    "d=set(a)\n",
    "e=set(b)\n",
    "f=len(d)==len(e)\n",
    "if c and f:\n",
    "    print(\"isomorpohic\")\n",
    "else:\n",
    "    print(\"not \")\n"
   ]
  },
  {
   "cell_type": "code",
   "execution_count": null,
   "id": "9dc7db68-3929-4b22-94b7-22ca1fc21759",
   "metadata": {},
   "outputs": [],
   "source": [
    "#panagram"
   ]
  },
  {
   "cell_type": "code",
   "execution_count": 127,
   "id": "6b74bdef-1391-4977-86c0-ed4b8fbce9c5",
   "metadata": {},
   "outputs": [
    {
     "name": "stdout",
     "output_type": "stream",
     "text": [
      "26\n",
      "panagram\n"
     ]
    }
   ],
   "source": [
    "a=\"The quick brown fox jumps over the lazy dog\"\n",
    "count=0\n",
    "for i in range(97,123):\n",
    "    k=chr(i)\n",
    "    if k in a:\n",
    "        count+=1\n",
    "print(count)\n",
    "if count==26:\n",
    "    print(\"panagram\")\n",
    "else:\n",
    "    print(\"not a panagram\")"
   ]
  },
  {
   "cell_type": "code",
   "execution_count": 134,
   "id": "0d87fdc3-d8eb-46fe-a958-ac851f22df25",
   "metadata": {},
   "outputs": [
    {
     "name": "stdin",
     "output_type": "stream",
     "text": [
      " gfg\n"
     ]
    },
    {
     "name": "stdout",
     "output_type": "stream",
     "text": [
      "{('f',), ('f', 'g'), ('g', 'g'), ('g', 'f'), ('g', 'f', 'g'), ('g',)}\n"
     ]
    }
   ],
   "source": [
    "from itertools import combinations\n",
    "a=input()\n",
    "k=[]\n",
    "for i in range(1,len(a)+1):\n",
    "    x=combinations(a,i)\n",
    "    for j in x:\n",
    "        k.append(j)\n",
    "print(set(k))\n"
   ]
  },
  {
   "cell_type": "code",
   "execution_count": null,
   "id": "b180a859-f12a-4de0-961c-8a1361ecf97a",
   "metadata": {},
   "outputs": [],
   "source": []
  },
  {
   "cell_type": "code",
   "execution_count": null,
   "id": "a40719bd-39e1-4a40-b1ed-d3061b76bfc2",
   "metadata": {},
   "outputs": [],
   "source": []
  },
  {
   "cell_type": "code",
   "execution_count": null,
   "id": "9ee18beb-2cbb-4aba-a848-6fdfdab0e837",
   "metadata": {},
   "outputs": [],
   "source": [
    "#****************************************************************88\n",
    "1)Write a Python program to get a string from a given string where all occurrences of its first char have been changed to '$', \n",
    "except the first char itself.\n"
   ]
  },
  {
   "cell_type": "code",
   "execution_count": 141,
   "id": "22125b66-41cd-4673-a7dc-29fc4b6c8499",
   "metadata": {},
   "outputs": [
    {
     "name": "stdout",
     "output_type": "stream",
     "text": [
      "resta$t$\n"
     ]
    }
   ],
   "source": [
    "a=\"restartr\"\n",
    "x=a[0]\n",
    "b=list(a)\n",
    "for i in range(1,len(a)):\n",
    "    if a[i]==x:\n",
    "        b[i]=\"$\"\n",
    "print(''.join(b))"
   ]
  },
  {
   "cell_type": "code",
   "execution_count": null,
   "id": "b45c20fe-b52f-43e2-9d67-dea600b5f396",
   "metadata": {},
   "outputs": [],
   "source": [
    "Write a Python program to get a single string from two given strings, separated by a space and swap the first two characters of each string.\n",
    "Sample String : 'abc', 'xyz'\n",
    "Expected Result : 'xyc abz'"
   ]
  },
  {
   "cell_type": "code",
   "execution_count": 149,
   "id": "abb3929d-03df-4eb1-84d7-03bf1ad8f8e7",
   "metadata": {},
   "outputs": [
    {
     "name": "stdin",
     "output_type": "stream",
     "text": [
      " abc\n",
      " xyz\n"
     ]
    },
    {
     "name": "stdout",
     "output_type": "stream",
     "text": [
      "ab\n",
      "c\n",
      "xy\n",
      "z\n",
      "xyc abz\n"
     ]
    }
   ],
   "source": [
    "a=input()\n",
    "b=input()\n",
    "c=a[:2]\n",
    "d=a[2:]\n",
    "e=b[:2]\n",
    "f=b[2:]\n",
    "g=c+f\n",
    "h=e+d\n",
    "print(h+\" \"+g)"
   ]
  },
  {
   "cell_type": "code",
   "execution_count": null,
   "id": "546c905a-3b16-49d4-b435-8bb9de0068dc",
   "metadata": {},
   "outputs": [],
   "source": [
    "Write a Python program to add 'ing' at the end of a given string (length should be at least 3). If the given string already ends with 'ing', add 'ly' instead. If the string length of the given string is less than 3, leave it unchanged.\n",
    "Sample String : 'abc'\n",
    "Expected Result : 'abcing'\n",
    "Sample String : 'string'\n",
    "Expected Result : 'stringly'"
   ]
  },
  {
   "cell_type": "code",
   "execution_count": 153,
   "id": "124f3baa-9e16-4d73-ae06-61898f7666b4",
   "metadata": {},
   "outputs": [
    {
     "name": "stdin",
     "output_type": "stream",
     "text": [
      " ab\n"
     ]
    },
    {
     "name": "stdout",
     "output_type": "stream",
     "text": [
      "ab\n"
     ]
    }
   ],
   "source": [
    "a=input()\n",
    "k=len(a)-3\n",
    "if len(a)<3:\n",
    "    print(a)\n",
    "elif a[k:]==\"ing\":\n",
    "    print(a+\"ly\")\n",
    "else:\n",
    "    print(a+\"ing\")\n",
    "\n"
   ]
  },
  {
   "cell_type": "code",
   "execution_count": 24,
   "id": "2d0e9c2e-cedf-4220-b013-8aaac26729b0",
   "metadata": {},
   "outputs": [
    {
     "ename": "SyntaxError",
     "evalue": "invalid syntax (1258535000.py, line 1)",
     "output_type": "error",
     "traceback": [
      "\u001b[1;36m  Cell \u001b[1;32mIn[24], line 1\u001b[1;36m\u001b[0m\n\u001b[1;33m    7. Write a Python program to find the first appearance of the substrings 'not' and 'poor' in a given string. If 'not' follows 'poor', replace the whole 'not'...'poor' substring with 'good'. Return the resulting string.\u001b[0m\n\u001b[1;37m       ^\u001b[0m\n\u001b[1;31mSyntaxError\u001b[0m\u001b[1;31m:\u001b[0m invalid syntax\n"
     ]
    }
   ],
   "source": [
    "7. Write a Python program to find the first appearance of the substrings 'not' and 'poor' in a given string. If 'not' follows 'poor', replace the whole 'not'...'poor' substring with 'good'. Return the resulting string.\n",
    "Sample String : 'The lyrics is not that poor!'\n",
    "'The lyrics is poor!'\n",
    "Expected Result : 'The lyrics is good!'\n",
    "'The lyrics is poor!'"
   ]
  },
  {
   "cell_type": "code",
   "execution_count": 29,
   "id": "fd220f05-db7b-45a6-8c02-3c8d0c74b015",
   "metadata": {},
   "outputs": [
    {
     "name": "stdout",
     "output_type": "stream",
     "text": [
      "2\n",
      "The lyrics is  good !\n"
     ]
    }
   ],
   "source": [
    "a='The lyrics is  not that poor !'\n",
    "count=0\n",
    "i=[\"not\",\"poor\" ]\n",
    "for k in i:\n",
    "    if k in a:\n",
    "        count+=1\n",
    "print(count)\n",
    "if count==2:\n",
    "    b=a.index(\"not\")\n",
    "    c=a.index(\"poor\")\n",
    "    d=a[:b]+\"good\"+a[c+len(\"poor\"):]\n",
    "    print(d)\n",
    "else:\n",
    "    print(a)\n"
   ]
  },
  {
   "cell_type": "code",
   "execution_count": null,
   "id": "6a3d3c11-412e-4d6a-8686-6e7bc4209c13",
   "metadata": {},
   "outputs": [],
   "source": [
    "8. Write a Python function that takes a list of words and return the longest word and the length of the longest one.\n",
    "Sample Output:\n",
    "Longest word: Exercises\n",
    "Length of the longest word: 9"
   ]
  },
  {
   "cell_type": "code",
   "execution_count": 172,
   "id": "711e085f-144e-4182-be7e-213f8d95981f",
   "metadata": {},
   "outputs": [
    {
     "name": "stdout",
     "output_type": "stream",
     "text": [
      "backend\n"
     ]
    }
   ],
   "source": [
    "a=[\"php\",\"excercise\",\"backend\"]\n",
    "b=[]\n",
    "for i in a:\n",
    "    b.append(len(i))\n",
    "\n",
    "max=b[0]\n",
    "for i in range(len(b)):\n",
    "    count=0\n",
    "    if  b[i]>max:\n",
    "        count=i\n",
    "print(a[count])\n",
    "\n"
   ]
  },
  {
   "cell_type": "code",
   "execution_count": null,
   "id": "ad495ebe-a49f-4585-bb26-15c59392af27",
   "metadata": {},
   "outputs": [],
   "source": []
  },
  {
   "cell_type": "markdown",
   "id": "ac4f5451-abaa-4204-af5a-158878eb902a",
   "metadata": {},
   "source": [
    "Write a Python program to remove the nth index character from a nonempty string."
   ]
  },
  {
   "cell_type": "code",
   "execution_count": 175,
   "id": "db3eb2ab-07f4-434b-a7af-e432b5cd1549",
   "metadata": {},
   "outputs": [
    {
     "name": "stdin",
     "output_type": "stream",
     "text": [
      " python\n",
      " 0\n"
     ]
    },
    {
     "name": "stdout",
     "output_type": "stream",
     "text": [
      "ython\n"
     ]
    }
   ],
   "source": [
    "a=input()\n",
    "b=int(input())\n",
    "print(a[:b]+a[b+1:])"
   ]
  },
  {
   "cell_type": "code",
   "execution_count": 177,
   "id": "0c077115-5207-4ca5-8982-8189657f8f29",
   "metadata": {},
   "outputs": [
    {
     "name": "stdin",
     "output_type": "stream",
     "text": [
      " python\n"
     ]
    },
    {
     "name": "stdout",
     "output_type": "stream",
     "text": [
      "nythop\n"
     ]
    }
   ],
   "source": [
    "#Write a Python program to change a given string to a newly string where the first and last chars have been exchanged.\n",
    "a=input()\n",
    "b=list(a)\n",
    "temp=b[0]\n",
    "b[0]=b[len(b)-1]\n",
    "b[len(b)-1]=temp\n",
    "print(''.join(b))"
   ]
  },
  {
   "cell_type": "code",
   "execution_count": 181,
   "id": "b672f28b-578a-40c9-9f23-5ac90fe2f534",
   "metadata": {},
   "outputs": [
    {
     "name": "stdin",
     "output_type": "stream",
     "text": [
      " python\n"
     ]
    },
    {
     "name": "stdout",
     "output_type": "stream",
     "text": [
      "pto\n"
     ]
    }
   ],
   "source": [
    "#Write a Python program to remove characters that have odd index values in a given string.\n",
    "a=input()\n",
    "s=\"\"\n",
    "for i in range(len(a)):\n",
    "    if i%2==0:\n",
    "        s+=a[i]\n",
    "print(s)"
   ]
  },
  {
   "cell_type": "code",
   "execution_count": 186,
   "id": "2a402b45-6572-4fa8-b387-060289407f4e",
   "metadata": {},
   "outputs": [
    {
     "name": "stdin",
     "output_type": "stream",
     "text": [
      " the quick brown fox jumps over the lazy dog.\n"
     ]
    },
    {
     "name": "stdout",
     "output_type": "stream",
     "text": [
      "the count of the is 2\n",
      "the count of quick is 1\n",
      "the count of brown is 1\n",
      "the count of fox is 1\n",
      "the count of jumps is 1\n",
      "the count of over is 1\n",
      "the count of the is 2\n",
      "the count of lazy is 1\n",
      "the count of dog. is 1\n"
     ]
    }
   ],
   "source": [
    "a=input()\n",
    "b=a.split()\n",
    "for i in b:\n",
    "    print(\"the count of {} is {}\".format(i,a.count(i)))\n"
   ]
  },
  {
   "cell_type": "code",
   "execution_count": 187,
   "id": "4ac1005f-a9c1-4396-832b-95ca63533f85",
   "metadata": {},
   "outputs": [
    {
     "name": "stdin",
     "output_type": "stream",
     "text": [
      " the quick brown fox jumps over the lazy dog.\n"
     ]
    },
    {
     "name": "stdout",
     "output_type": "stream",
     "text": [
      "{'the': 2, 'quick': 1, 'brown': 1, 'fox': 1, 'jumps': 1, 'over': 1, 'lazy': 1, 'dog.': 1}\n"
     ]
    }
   ],
   "source": [
    "a=input()\n",
    "b=a.split()\n",
    "c={}\n",
    "for i in b:\n",
    "    if i in c:\n",
    "        c[i]+=1\n",
    "    else:\n",
    "        c[i]=1\n",
    "print(c)"
   ]
  },
  {
   "cell_type": "code",
   "execution_count": 188,
   "id": "0cbfb85d-91c2-4206-8a2a-7ae509b9c639",
   "metadata": {},
   "outputs": [
    {
     "name": "stdin",
     "output_type": "stream",
     "text": [
      " ENGLISH\n"
     ]
    },
    {
     "name": "stdout",
     "output_type": "stream",
     "text": [
      "english\n",
      "ENGLISH\n"
     ]
    }
   ],
   "source": [
    "#Write a Python script that takes input from the user and displays that input back in upper and lower cases\n",
    "a=input()\n",
    "print(a.lower())\n",
    "print(a.upper())"
   ]
  },
  {
   "cell_type": "code",
   "execution_count": null,
   "id": "7203685e-48ea-4dc3-8dcc-ad5b9becbb14",
   "metadata": {},
   "outputs": [],
   "source": [
    "14. Write a Python program that accepts a comma-separated sequence of words as input and prints the distinct words in sorted form (alphanumerically).\n",
    "Sample Words : red, white, black, red, green, black\n",
    "Expected Result : black, green, red, white,red                      "
   ]
  },
  {
   "cell_type": "code",
   "execution_count": 22,
   "id": "da9e3f28-e30c-4565-ac1f-9ad362dcea5b",
   "metadata": {},
   "outputs": [
    {
     "data": {
      "text/plain": [
       "['black', 'green', 'red', 'white']"
      ]
     },
     "execution_count": 22,
     "metadata": {},
     "output_type": "execute_result"
    }
   ],
   "source": [
    "a=[\"red\", \"white\", \"black\", \"red\", \"green\", \"black\"]\n",
    "b=set(a)\n",
    "c=sorted(list(b))\n",
    "c"
   ]
  },
  {
   "cell_type": "code",
   "execution_count": 200,
   "id": "661f8821-b7f1-44b1-ba87-cc219428133c",
   "metadata": {},
   "outputs": [
    {
     "name": "stdin",
     "output_type": "stream",
     "text": [
      " black, green, red, white,red\n"
     ]
    },
    {
     "name": "stdout",
     "output_type": "stream",
     "text": [
      "{' red', 'red', ' white', ' green', 'black'}\n"
     ]
    }
   ],
   "source": [
    "items=input()\n",
    "x=items.split(\",\")\n",
    "print(set(x))\n"
   ]
  },
  {
   "cell_type": "code",
   "execution_count": null,
   "id": "f8d5baac-ed37-42bf-ac1d-9ae820b2b182",
   "metadata": {},
   "outputs": [],
   "source": [
    "15. Write a Python function to create an HTML string with tags around the word(s).\n",
    "Sample function and result :\n",
    "add_tags('i', 'Python') -> '<i>Python</i>'\n",
    "add_tags('b', 'Python Tutorial') -> '<b>Python Tutorial </b>'"
   ]
  },
  {
   "cell_type": "code",
   "execution_count": 201,
   "id": "a76f42d0-aea7-4d63-8aed-cc06d764a983",
   "metadata": {},
   "outputs": [
    {
     "name": "stdin",
     "output_type": "stream",
     "text": [
      " i\n",
      " python\n"
     ]
    },
    {
     "name": "stdout",
     "output_type": "stream",
     "text": [
      "<i>python</i>\n"
     ]
    }
   ],
   "source": [
    "a=input()\n",
    "b=input()\n",
    "c=\"<\"+a+\">\"+b+\"</\"+a+\">\"\n",
    "print(c)"
   ]
  },
  {
   "cell_type": "code",
   "execution_count": null,
   "id": "ea40771f-ff67-4205-9154-6f55c5c0753a",
   "metadata": {},
   "outputs": [],
   "source": [
    "16. Write a Python function to insert a string in the middle of a string.\n",
    "Sample function and result :\n",
    "insert_sting_middle('[[]]<<>>', 'Python') -> [[Python]]\n",
    "insert_sting_middle('{{}}', 'PHP') -> {{PHP}}"
   ]
  },
  {
   "cell_type": "code",
   "execution_count": 202,
   "id": "ed124d94-0486-4b13-bf6f-7a6c79f67f5f",
   "metadata": {},
   "outputs": [
    {
     "name": "stdin",
     "output_type": "stream",
     "text": [
      " [[]]\n",
      " python\n"
     ]
    },
    {
     "name": "stdout",
     "output_type": "stream",
     "text": [
      "[[python]]\n"
     ]
    }
   ],
   "source": [
    "a=input()\n",
    "b=input()\n",
    "c=len(a)//2\n",
    "print(a[:c]+b+a[c:])"
   ]
  },
  {
   "cell_type": "code",
   "execution_count": null,
   "id": "0c30f02d-7749-4317-bd56-9e950350c1f4",
   "metadata": {},
   "outputs": [],
   "source": [
    "17. Write a Python function to get a string made of 4 copies of the last two characters of a specified string (length must be at least 2).\n",
    "Sample function and result :\n",
    "insert_end('Python') -> onononon\n",
    "insert_end('Exercises') -> eseseses"
   ]
  },
  {
   "cell_type": "code",
   "execution_count": 203,
   "id": "01003a12-e469-435a-9441-777181f8854c",
   "metadata": {},
   "outputs": [
    {
     "name": "stdin",
     "output_type": "stream",
     "text": [
      " python\n"
     ]
    },
    {
     "name": "stdout",
     "output_type": "stream",
     "text": [
      "onononon\n"
     ]
    }
   ],
   "source": [
    "a=input()\n",
    "b=len(a)-2\n",
    "c=a[b:]\n",
    "print(c*4)"
   ]
  },
  {
   "cell_type": "code",
   "execution_count": null,
   "id": "540d1fa3-9928-4b27-8b9d-0b9ac964f70f",
   "metadata": {},
   "outputs": [],
   "source": [
    "18. Write a Python function to get a string made of the first three characters of a specified string. If the length of the string is less than 3, \n",
    "return the original string.\n",
    "Sample function and result :\n",
    "first_three('ipy') -> ipy\n",
    "first_three('python') -> pyt"
   ]
  },
  {
   "cell_type": "code",
   "execution_count": 204,
   "id": "3baf62da-4386-4a05-9d06-149dc9bd0564",
   "metadata": {},
   "outputs": [
    {
     "name": "stdin",
     "output_type": "stream",
     "text": [
      " python\n"
     ]
    },
    {
     "name": "stdout",
     "output_type": "stream",
     "text": [
      "pyt\n"
     ]
    }
   ],
   "source": [
    "def str(a):\n",
    "    if len(a)<3:\n",
    "        print(a)\n",
    "    else:\n",
    "        c=len(a)-3\n",
    "        print(a[:c])\n",
    "a=input()\n",
    "str(a)"
   ]
  },
  {
   "cell_type": "code",
   "execution_count": null,
   "id": "31df875f-02bc-4e12-a445-77021e017f4b",
   "metadata": {},
   "outputs": [],
   "source": [
    "19. Write a Python program to get the last part of a string before a specified character.\n",
    "https://www.w3resource.com/python-exercises\n",
    "https://www.w3resource.com/python"
   ]
  },
  {
   "cell_type": "code",
   "execution_count": 23,
   "id": "efdb4308-9460-4a5a-9df1-cf0e903f41c7",
   "metadata": {},
   "outputs": [
    {
     "name": "stdin",
     "output_type": "stream",
     "text": [
      " https://www.w3resource.com/python\n"
     ]
    },
    {
     "name": "stdout",
     "output_type": "stream",
     "text": [
      "python\n"
     ]
    }
   ],
   "source": [
    "a=input()\n",
    "specific_character=\"/\"\n",
    "count=0\n",
    "for i in range(len(a)-1,-1,-1):\n",
    "    if  a[i]==specific_character:\n",
    "        count=i\n",
    "        break\n",
    "print(a[count+1:])\n",
    "        "
   ]
  },
  {
   "cell_type": "code",
   "execution_count": null,
   "id": "d2147a9d-4c40-4909-93ae-f8ec1866876b",
   "metadata": {},
   "outputs": [],
   "source": [
    "20.Write a Python function to reverse a string if its length is a multiple of 4."
   ]
  },
  {
   "cell_type": "code",
   "execution_count": 21,
   "id": "0abc81ba-66bc-425e-980f-8bfbc496a0d1",
   "metadata": {},
   "outputs": [
    {
     "name": "stdin",
     "output_type": "stream",
     "text": [
      " python\n"
     ]
    },
    {
     "name": "stdout",
     "output_type": "stream",
     "text": [
      "python\n"
     ]
    }
   ],
   "source": [
    "def mul(a):\n",
    "    if len(a)%4==0:\n",
    "        print(a[::-1])\n",
    "    else:\n",
    "        print(a)\n",
    "a=input()\n",
    "mul(a)"
   ]
  },
  {
   "cell_type": "code",
   "execution_count": null,
   "id": "7a40639c-4e74-41fc-945e-21410384d337",
   "metadata": {},
   "outputs": [],
   "source": [
    "21. Write a Python function to convert a given string to all uppercase if it contains at least 2 uppercase characters in the first 4 characters."
   ]
  },
  {
   "cell_type": "code",
   "execution_count": 210,
   "id": "aad320d0-6f67-4eff-b403-08ea205dc8b1",
   "metadata": {},
   "outputs": [
    {
     "name": "stdin",
     "output_type": "stream",
     "text": [
      " pYThon\n"
     ]
    },
    {
     "name": "stdout",
     "output_type": "stream",
     "text": [
      "PYTHON\n"
     ]
    }
   ],
   "source": [
    "str1=input()\n",
    "a=str1[:4]\n",
    "count=0\n",
    "for i in a:\n",
    "    if i.isupper():\n",
    "        count+=1\n",
    "if count>=2:\n",
    "    print(str1.upper())\n",
    "else:\n",
    "    print(str1)"
   ]
  },
  {
   "cell_type": "code",
   "execution_count": null,
   "id": "65c0109d-64cd-4918-958f-81ee025acd39",
   "metadata": {},
   "outputs": [],
   "source": [
    "22.Write a Python program to sort a string lexicographically."
   ]
  },
  {
   "cell_type": "code",
   "execution_count": 213,
   "id": "ae27e764-f40f-4346-8c63-e10a9083921b",
   "metadata": {},
   "outputs": [
    {
     "name": "stdin",
     "output_type": "stream",
     "text": [
      " w3resource\n"
     ]
    },
    {
     "name": "stdout",
     "output_type": "stream",
     "text": [
      "3ceeorrsuw\n"
     ]
    }
   ],
   "source": [
    "a=input()\n",
    "b=list(a)\n",
    "c=sorted(b)\n",
    "print(''.join(c))"
   ]
  },
  {
   "cell_type": "code",
   "execution_count": null,
   "id": "2152c646-9d76-4f68-b8f4-2d9084a08d13",
   "metadata": {},
   "outputs": [],
   "source": [
    "23.Write a Python program to remove a newline in Python."
   ]
  },
  {
   "cell_type": "code",
   "execution_count": 224,
   "id": "a2611588-d7b1-4fc7-a287-d976290dff93",
   "metadata": {},
   "outputs": [
    {
     "name": "stdout",
     "output_type": "stream",
     "text": [
      "Python Exercises\n",
      "\n"
     ]
    }
   ],
   "source": [
    "a='Python Exercises\\n'\n",
    "a.rstrip()\n",
    "print(a)"
   ]
  },
  {
   "cell_type": "code",
   "execution_count": null,
   "id": "7ac70f2f-f750-4356-a578-7efd8422962c",
   "metadata": {},
   "outputs": [],
   "source": [
    " 24.Write a Python program to check whether a string starts with specified characters."
   ]
  },
  {
   "cell_type": "code",
   "execution_count": 225,
   "id": "00c8d6d7-ec52-4fde-bb82-02e9ca385eac",
   "metadata": {},
   "outputs": [
    {
     "name": "stdin",
     "output_type": "stream",
     "text": [
      " w3cresources\n",
      " w3c\n"
     ]
    },
    {
     "name": "stdout",
     "output_type": "stream",
     "text": [
      "true\n"
     ]
    }
   ],
   "source": [
    "a=input()\n",
    "b=input()\n",
    "c=a.startswith(b)\n",
    "if c:\n",
    "    print(\"true\")\n",
    "else:\n",
    "    print(\"false\")"
   ]
  },
  {
   "cell_type": "code",
   "execution_count": 226,
   "id": "cf93cb60-fbd4-4ffb-8423-f86e5910ffa0",
   "metadata": {},
   "outputs": [
    {
     "name": "stdin",
     "output_type": "stream",
     "text": [
      " abc\n",
      " 2\n"
     ]
    },
    {
     "name": "stdout",
     "output_type": "stream",
     "text": [
      "['c', 'd', 'e']\n"
     ]
    }
   ],
   "source": [
    "25.Write a Python program to create a Caesar encryption.\n",
    "\n",
    "Note: In cryptography, a Caesar cipher, also known as Caesar's cipher, the shift cipher, Caesar's code or Caesar shift, \n",
    "is one of the simplest and most widely known encryption techniques. It is a type of substitution cipher in which \n",
    "each letter in the plaintext is replaced by a letter some fixed number of positions down the alphabet. For example, \n",
    "with a left shift of 3, D would be replaced by A, E would become B, and so on. The method is named after Julius Caesar, \n",
    "who used it in his private correspondence.\n",
    "a=input()\n",
    "b=int(input())\n",
    "c=list(a)\n",
    "d=[]\n",
    "for i in c:\n",
    "    k=ord(i)+b\n",
    "    d.append(chr(k))\n",
    "print(d)"
   ]
  },
  {
   "cell_type": "code",
   "execution_count": null,
   "id": "9ad1e932-4f85-47e4-b188-a69cb8bfd7b1",
   "metadata": {},
   "outputs": [],
   "source": [
    "26Write a Python program to display formatted text (width=50) as output.\n"
   ]
  },
  {
   "cell_type": "code",
   "execution_count": 19,
   "id": "44f822e2-bca2-476a-ad07-fec4d9006498",
   "metadata": {},
   "outputs": [
    {
     "name": "stdin",
     "output_type": "stream",
     "text": [
      " Python is a widely used high-level, general-purpose, interpreted,   dynamic programming language. Its design philosophy emphasizes   code readability, and its syntax allows programmers to express   concepts in fewer lines of code than possible in languages such   as C++ or Java.\n"
     ]
    },
    {
     "name": "stdout",
     "output_type": "stream",
     "text": [
      "Python is a widely used high-level, general-\n",
      "purpose, interpreted,   dynamic programming\n",
      "language. Its design philosophy emphasizes   code\n",
      "readability, and its syntax allows programmers to\n",
      "express   concepts in fewer lines of code than\n",
      "possible in languages such   as C++ or Java.\n"
     ]
    }
   ],
   "source": [
    "import textwrap\n",
    "a=input()\n",
    "b=textwrap.TextWrapper(width=50)\n",
    "c=b.wrap(text=a)\n",
    "for i in c:\n",
    "    print(i)"
   ]
  },
  {
   "cell_type": "code",
   "execution_count": null,
   "id": "6b7ef3a7-1c73-4ae9-a477-fc50839dd30b",
   "metadata": {},
   "outputs": [],
   "source": [
    "27.Write a Python program to remove existing indentation from all of the lines in a given text."
   ]
  },
  {
   "cell_type": "code",
   "execution_count": 20,
   "id": "63bb4198-5184-4ac4-bb04-eef41f5e4fa2",
   "metadata": {},
   "outputs": [
    {
     "name": "stdin",
     "output_type": "stream",
     "text": [
      " Write a Python program to remove existing indentation from all of the lines in a given text.\n"
     ]
    },
    {
     "name": "stdout",
     "output_type": "stream",
     "text": [
      "Write a Python program to remove existing indentation from all of the lines in a given text.\n"
     ]
    }
   ],
   "source": [
    "import textwrap\n",
    "a=input()\n",
    "b=textwrap.dedent(text=a)\n",
    "print(b)"
   ]
  },
  {
   "cell_type": "code",
   "execution_count": null,
   "id": "d3f89668-c3d1-4607-b73d-2ec67d1f7af5",
   "metadata": {},
   "outputs": [],
   "source": [
    "28.Write a Python program to add prefix text to all of the lines in a string."
   ]
  },
  {
   "cell_type": "code",
   "execution_count": 27,
   "id": "53dae37c-3d22-4441-8395-af8fec01af05",
   "metadata": {},
   "outputs": [
    {
     "name": "stdout",
     "output_type": "stream",
     "text": [
      " Python is a widely used high-level, general-purpose, interpreted,\n",
      "     dynamic programming language. Its design philosophy emphasizes\n",
      "     code readability, and its syntax allows programmers to express\n",
      "     concepts in fewer lines of code than possible in languages such\n",
      "     as C++ or Java.\n"
     ]
    }
   ],
   "source": [
    "import textwrap\n",
    "x=\"\"\"Python is a widely used high-level, general-purpose, interpreted,\n",
    "    dynamic programming language. Its design philosophy emphasizes\n",
    "    code readability, and its syntax allows programmers to express\n",
    "    concepts in fewer lines of code than possible in languages such\n",
    "    as C++ or Java.\"\"\"\n",
    "a=textwrap.indent(text=x,prefix=\" \",)\n",
    "print(a)"
   ]
  },
  {
   "cell_type": "code",
   "execution_count": 26,
   "id": "f8be8ff8-3e55-489d-a25f-b7abd9303a7f",
   "metadata": {},
   "outputs": [
    {
     "name": "stdout",
     "output_type": "stream",
     "text": [
      "Python is a widely used high-\n",
      "level, general-purpose,\n",
      "interpreted,     dynamic\n",
      "programming language. Its\n",
      "design philosophy emphasizes\n",
      "code readability, and its\n",
      "syntax allows programmers to\n",
      "express     concepts in fewer\n",
      "lines of code than possible in\n",
      "languages such     as C++ or\n",
      "Java.\n"
     ]
    }
   ],
   "source": [
    "import textwrap\n",
    "a=\"\"\"Python is a widely used high-level, general-purpose, interpreted,\n",
    "    dynamic programming language. Its design philosophy emphasizes\n",
    "    code readability, and its syntax allows programmers to express\n",
    "    concepts in fewer lines of code than possible in languages such\n",
    "    as C++ or Java.\"\"\"\n",
    "b=textwrap.fill(text=a,width=30)\n",
    "print(b)"
   ]
  },
  {
   "cell_type": "code",
   "execution_count": 21,
   "id": "9a873206-03b6-42a2-a26f-21ff85d6cecd",
   "metadata": {},
   "outputs": [
    {
     "data": {
      "text/plain": [
       "['TextWrapper',\n",
       " '__all__',\n",
       " '__builtins__',\n",
       " '__cached__',\n",
       " '__doc__',\n",
       " '__file__',\n",
       " '__loader__',\n",
       " '__name__',\n",
       " '__package__',\n",
       " '__spec__',\n",
       " '_leading_whitespace_re',\n",
       " '_whitespace',\n",
       " '_whitespace_only_re',\n",
       " 'dedent',\n",
       " 'fill',\n",
       " 'indent',\n",
       " 're',\n",
       " 'shorten',\n",
       " 'wrap']"
      ]
     },
     "execution_count": 21,
     "metadata": {},
     "output_type": "execute_result"
    }
   ],
   "source": [
    "dir(textwrap)"
   ]
  },
  {
   "cell_type": "code",
   "execution_count": 238,
   "id": "04a54509-7bf4-48fa-beef-dbd44ee85b84",
   "metadata": {},
   "outputs": [
    {
     "name": "stdout",
     "output_type": "stream",
     "text": [
      "2.12\n",
      "2.123\n"
     ]
    },
    {
     "ename": "KeyError",
     "evalue": "'+'",
     "output_type": "error",
     "traceback": [
      "\u001b[1;31m---------------------------------------------------------------------------\u001b[0m",
      "\u001b[1;31mKeyError\u001b[0m                                  Traceback (most recent call last)",
      "Cell \u001b[1;32mIn[238], line 6\u001b[0m\n\u001b[0;32m      4\u001b[0m \u001b[38;5;66;03m#format\u001b[39;00m\n\u001b[0;32m      5\u001b[0m \u001b[38;5;28mprint\u001b[39m(\u001b[38;5;124m\"\u001b[39m\u001b[38;5;132;01m{:.3f}\u001b[39;00m\u001b[38;5;124m\"\u001b[39m\u001b[38;5;241m.\u001b[39mformat(a))\n\u001b[1;32m----> 6\u001b[0m \u001b[38;5;28mprint\u001b[39m(\u001b[38;5;124;43m\"\u001b[39;49m\u001b[38;5;124;43m{\u001b[39;49m\u001b[38;5;124;43m+:.2f}\u001b[39;49m\u001b[38;5;124;43m\"\u001b[39;49m\u001b[38;5;241;43m.\u001b[39;49m\u001b[43mformat\u001b[49m\u001b[43m(\u001b[49m\u001b[38;5;241;43m-\u001b[39;49m\u001b[38;5;241;43m12.99999\u001b[39;49m\u001b[43m)\u001b[49m)\n",
      "\u001b[1;31mKeyError\u001b[0m: '+'"
     ]
    }
   ],
   "source": [
    "#30. Write a Python program to print the following numbers up to 2 decimal places.\n",
    "a=2.1234\n",
    "print(round(a,2))\n",
    "#format\n",
    "print(\"{:.3f}\".format(a))\n",
    "print(\"{:.2f}\".format(-12.99999))"
   ]
  },
  {
   "cell_type": "code",
   "execution_count": 4,
   "id": "3facec3a-d640-4ea0-bf94-10906e789ea9",
   "metadata": {},
   "outputs": [
    {
     "name": "stdout",
     "output_type": "stream",
     "text": [
      "13.0\n"
     ]
    }
   ],
   "source": [
    "a=12.9999\n",
    "print(round(a,3))"
   ]
  },
  {
   "cell_type": "code",
   "execution_count": 39,
   "id": "8fb2d42d-abe9-408d-bbb2-e174e7b3129f",
   "metadata": {},
   "outputs": [
    {
     "ename": "SyntaxError",
     "evalue": "invalid decimal literal (2122063960.py, line 2)",
     "output_type": "error",
     "traceback": [
      "\u001b[1;36m  Cell \u001b[1;32mIn[39], line 2\u001b[1;36m\u001b[0m\n\u001b[1;33m    print(\"+\"{0:+.2f}\".format(a))\u001b[0m\n\u001b[1;37m                  ^\u001b[0m\n\u001b[1;31mSyntaxError\u001b[0m\u001b[1;31m:\u001b[0m invalid decimal literal\n"
     ]
    }
   ],
   "source": [
    "a=12.999\n",
    "print(\"+\"{0:+.2f}\".format(a))"
   ]
  },
  {
   "cell_type": "code",
   "execution_count": 40,
   "id": "7c28ba66-9c1e-4183-8b9e-16399507688c",
   "metadata": {},
   "outputs": [
    {
     "name": "stdout",
     "output_type": "stream",
     "text": [
      "-14\n"
     ]
    }
   ],
   "source": [
    "a=-13.79\n",
    "print(\"{0:.0f}\".format(a))\n"
   ]
  },
  {
   "cell_type": "code",
   "execution_count": 47,
   "id": "401fd880-54ca-4a6c-a9ae-75d18965198b",
   "metadata": {},
   "outputs": [
    {
     "name": "stdout",
     "output_type": "stream",
     "text": [
      "25.00%\n"
     ]
    }
   ],
   "source": [
    "a=0.25\n",
    "print(\"{:.2%}\".format(a))"
   ]
  },
  {
   "cell_type": "code",
   "execution_count": null,
   "id": "0442f805-e655-41e4-8dcf-65dbfeee8b7d",
   "metadata": {},
   "outputs": [],
   "source": [
    "Write a Python program to print the following numbers up to 2 decimal places with a sign."
   ]
  },
  {
   "cell_type": "code",
   "execution_count": 52,
   "id": "74f0e5cf-78bf-445c-911f-e9112c662195",
   "metadata": {},
   "outputs": [
    {
     "name": "stdout",
     "output_type": "stream",
     "text": [
      "-14.00\n"
     ]
    }
   ],
   "source": [
    "a=-13.999\n",
    "print(\"{:+.2f}\".format(a))"
   ]
  },
  {
   "cell_type": "code",
   "execution_count": null,
   "id": "7e143a86-4b91-48fd-a003-9512a28dede9",
   "metadata": {},
   "outputs": [],
   "source": []
  },
  {
   "cell_type": "code",
   "execution_count": null,
   "id": "1d761192-c7fe-448c-a577-f4f1a4503768",
   "metadata": {},
   "outputs": [],
   "source": [
    "Write a Python program to print the following positive and negative numbers with no decimal places."
   ]
  },
  {
   "cell_type": "code",
   "execution_count": null,
   "id": "b4b0d225-af69-4bcb-86db-25f0c204421e",
   "metadata": {},
   "outputs": [],
   "source": []
  },
  {
   "cell_type": "code",
   "execution_count": null,
   "id": "4621128a-a2c0-42cc-b026-f4616eff059b",
   "metadata": {},
   "outputs": [],
   "source": []
  },
  {
   "cell_type": "code",
   "execution_count": null,
   "id": "a67e9ec6-1feb-482d-9aca-e1ded839f8b7",
   "metadata": {},
   "outputs": [],
   "source": [
    "33.Write a Python program to print the following integers with zeros to the left of the specified width"
   ]
  },
  {
   "cell_type": "code",
   "execution_count": 6,
   "id": "e5d74fb4-c33f-4d77-b141-cb0737ac02d9",
   "metadata": {},
   "outputs": [
    {
     "name": "stdin",
     "output_type": "stream",
     "text": [
      " 123\n"
     ]
    },
    {
     "name": "stdout",
     "output_type": "stream",
     "text": [
      "000123\n"
     ]
    }
   ],
   "source": [
    "a=int(input())\n",
    "b=str(a)\n",
    "c=len(b)\n",
    "d=\"0\"*c\n",
    "e=d+b\n",
    "print(e)"
   ]
  },
  {
   "cell_type": "code",
   "execution_count": null,
   "id": "ec206080-ee28-4e86-a0fe-b40f5ee53b4b",
   "metadata": {},
   "outputs": [],
   "source": []
  },
  {
   "cell_type": "code",
   "execution_count": null,
   "id": "ae0a4219-c5fb-4b43-82fd-b77285b9132a",
   "metadata": {},
   "outputs": [],
   "source": []
  },
  {
   "cell_type": "code",
   "execution_count": null,
   "id": "dd9db771-7b93-4be8-8714-fe7960a990f7",
   "metadata": {},
   "outputs": [],
   "source": [
    "Write a Python program to print the following integers with '*' to the right of the specified width"
   ]
  },
  {
   "cell_type": "code",
   "execution_count": 7,
   "id": "9bf016e5-6a10-4279-b44c-5dbb3e7fc0bc",
   "metadata": {},
   "outputs": [
    {
     "name": "stdin",
     "output_type": "stream",
     "text": [
      " 123\n"
     ]
    },
    {
     "name": "stdout",
     "output_type": "stream",
     "text": [
      "123***\n"
     ]
    }
   ],
   "source": [
    "a=input()\n",
    "b=len(a)\n",
    "c=\"*\"*b\n",
    "print(a+c)"
   ]
  },
  {
   "cell_type": "code",
   "execution_count": null,
   "id": "319ba71d-9681-47df-a18e-f753f03fb448",
   "metadata": {},
   "outputs": [],
   "source": []
  },
  {
   "cell_type": "code",
   "execution_count": null,
   "id": "13c2a565-485a-47d0-bca5-53339a72eb75",
   "metadata": {},
   "outputs": [],
   "source": [
    "Write a Python program to display a number with a comma separator. #300000"
   ]
  },
  {
   "cell_type": "code",
   "execution_count": null,
   "id": "625eb671-2e51-4313-8f8a-66d85d63c807",
   "metadata": {},
   "outputs": [],
   "source": [
    "a=input()\n",
    "k=\"\"\n",
    "for i in range(len(a)-1,-1,-1):\n",
    "    if abs(i%3)==0:\n",
    "        k=k+\",\"+i\n",
    "    \n"
   ]
  },
  {
   "cell_type": "code",
   "execution_count": null,
   "id": "4ad26578-dd8b-4dc1-934f-43db7636d073",
   "metadata": {},
   "outputs": [],
   "source": []
  },
  {
   "cell_type": "code",
   "execution_count": null,
   "id": "2c6ac289-435d-4f74-99ed-a56ace7b7e33",
   "metadata": {},
   "outputs": [],
   "source": [
    " Write a Python program to format a number with a percentage."
   ]
  },
  {
   "cell_type": "code",
   "execution_count": 9,
   "id": "e0103019-2689-4520-8e0e-45895ecbdabf",
   "metadata": {},
   "outputs": [
    {
     "name": "stdin",
     "output_type": "stream",
     "text": [
      " 0.98\n"
     ]
    },
    {
     "name": "stdout",
     "output_type": "stream",
     "text": [
      "98.00%\n"
     ]
    }
   ],
   "source": [
    "a=float(input())\n",
    "print(\"{0:.2%}\".format(a))\n"
   ]
  },
  {
   "cell_type": "code",
   "execution_count": null,
   "id": "e4cf710c-d42c-47a9-a725-b190aaf2395e",
   "metadata": {},
   "outputs": [],
   "source": []
  },
  {
   "cell_type": "code",
   "execution_count": null,
   "id": "ca85345e-1acb-44cf-8d18-24b9d1f66378",
   "metadata": {},
   "outputs": [],
   "source": []
  },
  {
   "cell_type": "code",
   "execution_count": null,
   "id": "ad0ac0f3-7b19-4827-a133-78c11da3989e",
   "metadata": {},
   "outputs": [],
   "source": [
    "37.Write a Python program to display a number in left, right, and center aligned with a width of 10.\n",
    "\n",
    "\n",
    "\n"
   ]
  },
  {
   "cell_type": "code",
   "execution_count": 15,
   "id": "a47a602a-f23d-41e3-9943-a6a9d5b3c197",
   "metadata": {},
   "outputs": [
    {
     "name": "stdin",
     "output_type": "stream",
     "text": [
      " 12\n"
     ]
    }
   ],
   "source": [
    "a_11111=input()\n",
    "b=len(a_11111)\n",
    "c=10-b\n",
    "d=c//2\n",
    "print((\" \"*c)+a_11111)\n"
   ]
  },
  {
   "cell_type": "code",
   "execution_count": null,
   "id": "9a29b37c-f084-405f-a0a8-0ecbcf8ecb7c",
   "metadata": {},
   "outputs": [],
   "source": [
    "#13/11/23\n",
    "38)Write a Python program to count occurrences of a substring in a string."
   ]
  },
  {
   "cell_type": "code",
   "execution_count": 19,
   "id": "ce5283b5-722c-4d96-8dd7-1a624172bfd4",
   "metadata": {},
   "outputs": [
    {
     "name": "stdin",
     "output_type": "stream",
     "text": [
      " The quick brown fox jumps over the lazy dog.the dog\n",
      " the\n"
     ]
    },
    {
     "name": "stdout",
     "output_type": "stream",
     "text": [
      "2\n"
     ]
    }
   ],
   "source": [
    "a=input()\n",
    "b=len(a)\n",
    "count=0\n",
    "c=input()\n",
    "for i in range(b):\n",
    "    for j in range(b+1):\n",
    "        k=a[i:j]\n",
    "        if c==k:\n",
    "             count+=1\n",
    "print(count)"
   ]
  },
  {
   "cell_type": "code",
   "execution_count": 2,
   "id": "c1eac200-6cbc-4293-906e-1f50133b8b77",
   "metadata": {},
   "outputs": [
    {
     "name": "stdin",
     "output_type": "stream",
     "text": [
      " abcabccabccabc\n",
      " abc\n"
     ]
    },
    {
     "name": "stdout",
     "output_type": "stream",
     "text": [
      "4\n"
     ]
    }
   ],
   "source": [
    "a=input()\n",
    "b=input()\n",
    "c=len(b)\n",
    "count=0\n",
    "for i in range(len(a)):\n",
    "    k=a[i:i+c]\n",
    "    if k==b:\n",
    "        count+=1\n",
    "print(count)"
   ]
  },
  {
   "cell_type": "code",
   "execution_count": null,
   "id": "f2ce1331-1f40-4c34-a3dc-4f500ec0a871",
   "metadata": {},
   "outputs": [],
   "source": [
    "39. Write a Python program to reverse a string."
   ]
  },
  {
   "cell_type": "code",
   "execution_count": 3,
   "id": "4bcc2f46-a314-4a93-8e21-7b0e7a185af0",
   "metadata": {},
   "outputs": [
    {
     "name": "stdin",
     "output_type": "stream",
     "text": [
      " hello\n"
     ]
    },
    {
     "name": "stdout",
     "output_type": "stream",
     "text": [
      "olleh\n"
     ]
    }
   ],
   "source": [
    "a=input()\n",
    "b=a[::-1]\n",
    "print(b)"
   ]
  },
  {
   "cell_type": "code",
   "execution_count": null,
   "id": "b98a6ac3-4222-4131-bf39-62313aa96455",
   "metadata": {},
   "outputs": [],
   "source": [
    "40.Write a Python program to reverse words in a string."
   ]
  },
  {
   "cell_type": "code",
   "execution_count": 5,
   "id": "90e5705c-d28d-4f73-8a98-a5410fd3b4e0",
   "metadata": {},
   "outputs": [
    {
     "name": "stdin",
     "output_type": "stream",
     "text": [
      "  the quick brown fox\n"
     ]
    },
    {
     "name": "stdout",
     "output_type": "stream",
     "text": [
      " fox brown quick the\n"
     ]
    }
   ],
   "source": [
    "a=input()\n",
    "b=a.split()\n",
    "k=\"\"\n",
    "for i in b:\n",
    "    k=\" \"+i+k\n",
    "print(k)\n",
    "    "
   ]
  },
  {
   "cell_type": "code",
   "execution_count": null,
   "id": "b6342c75-fbe7-4281-9de6-40c765a75163",
   "metadata": {},
   "outputs": [],
   "source": [
    "41Write a Python program to strip a set of characters from a string."
   ]
  },
  {
   "cell_type": "code",
   "execution_count": 6,
   "id": "4f40aba1-bfea-4f3d-9418-daabc4b153d3",
   "metadata": {},
   "outputs": [
    {
     "name": "stdin",
     "output_type": "stream",
     "text": [
      " The quick brown fox jumps over the lazy dog.\n",
      " aeiou\n"
     ]
    },
    {
     "name": "stdout",
     "output_type": "stream",
     "text": [
      "Th qck brwn fx jmps vr th lzy dg.\n"
     ]
    }
   ],
   "source": [
    "a=input()\n",
    "b=input()\n",
    "k=\"\"\n",
    "for i in a:\n",
    "    if i not in b:\n",
    "        k+=i\n",
    "print(k)"
   ]
  },
  {
   "cell_type": "code",
   "execution_count": 8,
   "id": "7018c1c1-5d21-4e03-b8d5-5bc97a6fe539",
   "metadata": {},
   "outputs": [
    {
     "name": "stdin",
     "output_type": "stream",
     "text": [
      " thequickbrownfoxjumpsoverthelazydog'\n"
     ]
    },
    {
     "name": "stdout",
     "output_type": "stream",
     "text": [
      "o 4\n",
      "h 2\n",
      "e 3\n",
      "u 2\n",
      "r 2\n",
      "t 2\n"
     ]
    }
   ],
   "source": [
    "a=input()\n",
    "b=set(a)\n",
    "count=0\n",
    "for i in b:\n",
    "    k,m=i,a.count(i)\n",
    "    if m>=2:\n",
    "        print(\"{} {}\".format(k,m))\n",
    "    "
   ]
  },
  {
   "cell_type": "code",
   "execution_count": null,
   "id": "205462ed-25ca-4871-8866-f7bf16a51ea5",
   "metadata": {},
   "outputs": [],
   "source": [
    "43. Write a Python program to print the square and cube symbols in the area of a rectangle and the volume of a cylinder.\n",
    "Sample output:\n",
    "The area of the rectangle is 1256.66cm2\n",
    "The volume of the cylinder is 1254.725cm3"
   ]
  },
  {
   "cell_type": "code",
   "execution_count": null,
   "id": "8aec8251-2683-4c85-9bcf-5eb1b5515fb5",
   "metadata": {},
   "outputs": [],
   "source": []
  },
  {
   "cell_type": "code",
   "execution_count": null,
   "id": "624c7d24-1f08-4d47-a758-c8271007a7c2",
   "metadata": {},
   "outputs": [],
   "source": []
  },
  {
   "cell_type": "code",
   "execution_count": null,
   "id": "feaa2994-2c2f-45ee-b6bb-d4886f8e5578",
   "metadata": {},
   "outputs": [],
   "source": []
  },
  {
   "cell_type": "code",
   "execution_count": null,
   "id": "b8465e4b-afc9-403b-bd8b-1692a1fb2ff7",
   "metadata": {},
   "outputs": [],
   "source": [
    "44 Write a Python program to print the index of a character in a string.\n",
    "Sample string: w3resource\n",
    "Expected output:\n",
    "Current character w position at 0\n",
    "Current character 3 position at 1\n",
    "Current character r position at 2\n",
    "- - - - - - - - - - - - - - - - - - - - - - - - -\n",
    "Current character c position at 8\n",
    "Current character e position at 9"
   ]
  },
  {
   "cell_type": "code",
   "execution_count": 10,
   "id": "55810e14-0aaa-4d99-924d-f8dca0f43b23",
   "metadata": {},
   "outputs": [
    {
     "name": "stdin",
     "output_type": "stream",
     "text": [
      " venkatesh\n"
     ]
    },
    {
     "name": "stdout",
     "output_type": "stream",
     "text": [
      "v0\n",
      "e1\n",
      "n2\n",
      "k3\n",
      "a4\n",
      "t5\n",
      "e6\n",
      "s7\n",
      "h8\n"
     ]
    }
   ],
   "source": [
    "a=input()\n",
    "for i in range(len(a)):\n",
    "    print(\"{}{}\".format(a[i],i))\n",
    "    "
   ]
  },
  {
   "cell_type": "code",
   "execution_count": null,
   "id": "b42ce1bd-8c4b-4543-8d02-48ef557f1b0f",
   "metadata": {},
   "outputs": [],
   "source": [
    "Write a Python program to check whether a string contains all letters of the alphabet."
   ]
  },
  {
   "cell_type": "code",
   "execution_count": 12,
   "id": "7852345b-4bec-4b69-927c-c290aaa49583",
   "metadata": {},
   "outputs": [
    {
     "name": "stdin",
     "output_type": "stream",
     "text": [
      " he quick brown fox jumps over the lazy cat\n"
     ]
    },
    {
     "name": "stdout",
     "output_type": "stream",
     "text": [
      "no\n"
     ]
    }
   ],
   "source": [
    "#method-1\n",
    "s=input()\n",
    "l=set(s)\n",
    "if l==26:\n",
    "    print(\"yes\")\n",
    "else:\n",
    "    print(\"no\")\n"
   ]
  },
  {
   "cell_type": "code",
   "execution_count": 15,
   "id": "3e011b2a-32c6-49eb-b7ca-c15ddd42b408",
   "metadata": {},
   "outputs": [
    {
     "name": "stdin",
     "output_type": "stream",
     "text": [
      " he quick brown fox jumps over the lazy dog\n"
     ]
    },
    {
     "name": "stdout",
     "output_type": "stream",
     "text": [
      "no\n"
     ]
    }
   ],
   "source": [
    "a=input()\n",
    "b=[]\n",
    "count=0\n",
    "for i in range(97,122):\n",
    "    b.append(chr(i))\n",
    "for i in b:\n",
    "    if i in a:\n",
    "        count+=1\n",
    "if count==26:\n",
    "    print(\"yes\")\n",
    "else:\n",
    "    print(\"no\")"
   ]
  },
  {
   "cell_type": "code",
   "execution_count": null,
   "id": "9f9cd862-4b6e-4d89-b0bd-f3930f56a4b8",
   "metadata": {},
   "outputs": [],
   "source": [
    "Write a Python program to convert a given string into a list of words.\n",
    "Sample Output:\n",
    "['The', 'quick', 'brown', 'fox', 'jumps', 'over', 'the', 'lazy', 'dog.']\n",
    "['The', 'quick', 'brown', 'fox', 'jumps', 'over', 'the', 'lazy', 'dog.']"
   ]
  },
  {
   "cell_type": "code",
   "execution_count": 17,
   "id": "cfdfe7f0-7285-441e-9201-e250dd761126",
   "metadata": {},
   "outputs": [
    {
     "name": "stdin",
     "output_type": "stream",
     "text": [
      " he-quick-brown-fox-jumps-over-the-lazy-dog\n"
     ]
    },
    {
     "name": "stdout",
     "output_type": "stream",
     "text": [
      "['he', 'quick', 'brown', 'fox', 'jumps', 'over', 'the', 'lazy', 'dog']\n"
     ]
    }
   ],
   "source": [
    "a=input()\n",
    "b=a.split(\"-\")\n",
    "print(b)"
   ]
  },
  {
   "cell_type": "code",
   "execution_count": null,
   "id": "1a379529-0919-461f-a445-6ba4c376cb0d",
   "metadata": {},
   "outputs": [],
   "source": [
    "47. Write a Python program to lowercase the first n characters in a string."
   ]
  },
  {
   "cell_type": "code",
   "execution_count": 19,
   "id": "353744b9-2456-4ffa-8148-42083e89d4a5",
   "metadata": {},
   "outputs": [
    {
     "name": "stdin",
     "output_type": "stream",
     "text": [
      " PYTHONPY\n",
      " 3\n"
     ]
    },
    {
     "name": "stdout",
     "output_type": "stream",
     "text": [
      "pytHONPY\n"
     ]
    }
   ],
   "source": [
    "a=input()\n",
    "b=int(input())\n",
    "c=a[:b]\n",
    "d=a[b:]\n",
    "k=c.lower()\n",
    "print(k+d)"
   ]
  },
  {
   "cell_type": "code",
   "execution_count": null,
   "id": "de07f864-fda8-4bad-a3d1-1a0cb0da31f9",
   "metadata": {},
   "outputs": [],
   "source": [
    "48. Write a Python program to swap commas and dots in a string.\n",
    "Sample string: \"32.054,23\"\n",
    "Expected Output: \"32,054.23\""
   ]
  },
  {
   "cell_type": "code",
   "execution_count": 22,
   "id": "071509db-50d7-4c68-9784-3a51419a927c",
   "metadata": {},
   "outputs": [
    {
     "name": "stdin",
     "output_type": "stream",
     "text": [
      " 32.054,23\n"
     ]
    },
    {
     "name": "stdout",
     "output_type": "stream",
     "text": [
      "32,054.23\n"
     ]
    }
   ],
   "source": [
    "a=input()\n",
    "b=list(a)\n",
    "for i in range(len(b)):\n",
    "    if b[i]==\".\":\n",
    "        b[i]=\",\"\n",
    "    elif b[i]==\",\":\n",
    "        b[i]=\".\"\n",
    "print(''.join(b))"
   ]
  },
  {
   "cell_type": "code",
   "execution_count": null,
   "id": "b794019c-e0af-40bd-b69c-93ca3172538d",
   "metadata": {},
   "outputs": [],
   "source": [
    "Write a Python program to count and display vowels in text."
   ]
  },
  {
   "cell_type": "code",
   "execution_count": 23,
   "id": "82c2665d-c9cd-4457-9d80-775d28e3f821",
   "metadata": {},
   "outputs": [
    {
     "name": "stdout",
     "output_type": "stream",
     "text": [
      "['e', 'o', 'u', 'e']\n",
      "4\n"
     ]
    }
   ],
   "source": [
    "a=\"w3resource\"\n",
    "b=[]\n",
    "count=0\n",
    "for i in a:\n",
    "    if i in \"aeiou\":\n",
    "        count+=1\n",
    "        b.append(i)\n",
    "print(b)\n",
    "print(count)"
   ]
  },
  {
   "cell_type": "code",
   "execution_count": null,
   "id": "296cf96c-a892-4bdf-8240-042571bcf6ce",
   "metadata": {},
   "outputs": [],
   "source": [
    "50.Write a Python program to split a string on the last occurrence of the delimiter.  "
   ]
  },
  {
   "cell_type": "code",
   "execution_count": 327,
   "id": "65c842e5-742b-40ba-a6c3-e1308a80728a",
   "metadata": {},
   "outputs": [
    {
     "name": "stdin",
     "output_type": "stream",
     "text": [
      " w,3,r,e,s,o,u,r,c,e\n"
     ]
    },
    {
     "name": "stdout",
     "output_type": "stream",
     "text": [
      "['w,3,r,e,s,o,u,', 'r', 'c', 'e']\n"
     ]
    }
   ],
   "source": [
    "a=input()\n",
    "b=a.split(\",\")\n",
    "d=[]\n",
    "k=\"\"\n",
    "c=b[:len(b)-3]\n",
    "for i in c:\n",
    "    k+=i+\",\"\n",
    "d.append(k)\n",
    "c=b[len(b)-3:]\n",
    "for i in c:\n",
    "    d.append(i)\n",
    "print(d)"
   ]
  },
  {
   "cell_type": "code",
   "execution_count": null,
   "id": "2f13a081-f4c5-4bfd-8bab-74084f7a6175",
   "metadata": {},
   "outputs": [],
   "source": [
    "51.Write a Python program to find the first non-repeating character in a given string."
   ]
  },
  {
   "cell_type": "code",
   "execution_count": 328,
   "id": "e6a07e04-c040-4937-a2df-a3f15da2f041",
   "metadata": {},
   "outputs": [
    {
     "name": "stdin",
     "output_type": "stream",
     "text": [
      " abcda\n"
     ]
    },
    {
     "name": "stdout",
     "output_type": "stream",
     "text": [
      "b\n"
     ]
    }
   ],
   "source": [
    "a=input()                     #abcdef\n",
    "b=len(a)\n",
    "c=[]\n",
    "for i in a:\n",
    "    c+=[0]\n",
    "for i in range(b):\n",
    "    for j in range(i+1,b):\n",
    "        if a[i]==a[j]:\n",
    "            c[i]=-1\n",
    "            c[j]=-1\n",
    "for i in range(b):\n",
    "    if c[i]!=-1:\n",
    "        print(a[i])\n",
    "        break\n",
    "    \n",
    "        "
   ]
  },
  {
   "cell_type": "code",
   "execution_count": null,
   "id": "e6c6a9a9-c2e0-4f14-be60-fb293445f668",
   "metadata": {},
   "outputs": [],
   "source": []
  },
  {
   "cell_type": "code",
   "execution_count": null,
   "id": "430f9368-ac8b-4a8f-b0af-8324f38c3f03",
   "metadata": {},
   "outputs": [],
   "source": []
  },
  {
   "cell_type": "code",
   "execution_count": null,
   "id": "fa212aa8-cf59-4af1-a215-2df7a2790330",
   "metadata": {},
   "outputs": [],
   "source": [
    "52.Write a Python program to print all permutations with a given repetition number of characters of a given string."
   ]
  },
  {
   "cell_type": "code",
   "execution_count": 38,
   "id": "78799a9c-381f-41e3-9af5-fa5476f7e867",
   "metadata": {},
   "outputs": [
    {
     "name": "stdin",
     "output_type": "stream",
     "text": [
      " xyz\n"
     ]
    },
    {
     "name": "stdout",
     "output_type": "stream",
     "text": [
      "('x', 'y') ('x', 'z') ('y', 'x') ('y', 'z') ('z', 'x') ('z', 'y') "
     ]
    }
   ],
   "source": [
    "\n",
    "from itertools import permutations\n",
    "a=input()\n",
    "b=permutations(a,2)\n",
    "for i in b:\n",
    "    print(i,end=\" \")\n"
   ]
  },
  {
   "cell_type": "code",
   "execution_count": null,
   "id": "c32c676d-d4b8-4219-8351-0de80de529d9",
   "metadata": {},
   "outputs": [],
   "source": [
    "#pending\n",
    "\n",
    "53 Write a Python program to find the first repeated character in a given string.\n",
    " "
   ]
  },
  {
   "cell_type": "code",
   "execution_count": 4,
   "id": "4ee702fd-af18-46a2-8e16-e30c6a7ca000",
   "metadata": {},
   "outputs": [
    {
     "name": "stdin",
     "output_type": "stream",
     "text": [
      " abcda\n"
     ]
    },
    {
     "name": "stdout",
     "output_type": "stream",
     "text": [
      "a\n"
     ]
    }
   ],
   "source": [
    "a=input()  #abcadc\n",
    "b=[]\n",
    "d=[]\n",
    "for i in a:\n",
    "    b.append(0)\n",
    "for i in range(len(a)):\n",
    "    for j in range(i+1,len(a)):\n",
    "        if a[i]==a[j]:\n",
    "            d.append(a[i])\n",
    "            break\n",
    "s=len(set(a))\n",
    "if len(a)==s:\n",
    "    print(\"None\")\n",
    "else:\n",
    "    print(d[0])\n",
    "\n",
    "\n",
    "            "
   ]
  },
  {
   "cell_type": "code",
   "execution_count": null,
   "id": "8220e7ad-74ab-412f-8c9a-f9e0db4a0421",
   "metadata": {},
   "outputs": [],
   "source": [
    "53) first most repeated character"
   ]
  },
  {
   "cell_type": "code",
   "execution_count": 6,
   "id": "bc127de3-0afc-4901-9c6f-168f075e1aaa",
   "metadata": {},
   "outputs": [
    {
     "name": "stdin",
     "output_type": "stream",
     "text": [
      " eeeeeeeeeeeeeeeeeeeffffffffffffffffffffffffffffffffffffsssssssssss\n"
     ]
    },
    {
     "name": "stdout",
     "output_type": "stream",
     "text": [
      "['e', 'f', 's']\n",
      "[19, 36, 11]\n",
      "f\n"
     ]
    }
   ],
   "source": [
    "a=input()\n",
    "b=[]\n",
    "c=[]\n",
    "d=[]\n",
    "for i in a:\n",
    "    b+=[0]\n",
    "for i in range(len(a)):\n",
    "    count=1\n",
    "    for j in range(i+1,len(a)):\n",
    "        if a[i]==a[j]:\n",
    "            count+=1\n",
    "            b[j]=-1\n",
    "    if b[i]!=-1:\n",
    "        c.append(a[i])\n",
    "        d.append(count)\n",
    "total=0\n",
    "kk=0\n",
    "for i in range(len(d)):\n",
    "    if d[i]>total:\n",
    "        total=d[i]\n",
    "        kk=i\n",
    "print(c[kk])\n",
    "        \n",
    "    \n",
    "            "
   ]
  },
  {
   "cell_type": "code",
   "execution_count": 21,
   "id": "04885ad4-e9f5-4cf0-86f9-20676b9f08ea",
   "metadata": {},
   "outputs": [
    {
     "name": "stdin",
     "output_type": "stream",
     "text": [
      " aabbbcc\n"
     ]
    },
    {
     "name": "stdout",
     "output_type": "stream",
     "text": [
      "{'a': 2, 'b': 3, 'c': 2}\n"
     ]
    }
   ],
   "source": [
    "53.1 second  most repeated character\n",
    "\n",
    "        \n",
    "    "
   ]
  },
  {
   "cell_type": "code",
   "execution_count": 10,
   "id": "3919521c-46a0-4ed3-ad32-8cd7dcc73b11",
   "metadata": {},
   "outputs": [
    {
     "name": "stdin",
     "output_type": "stream",
     "text": [
      " abbcdbavcsbsmsbcabcbdbscvsvanabvdnsbdvavc\n"
     ]
    },
    {
     "name": "stdout",
     "output_type": "stream",
     "text": [
      "[6, -1, 6, 4, 6, 6, 1, 2]\n",
      "a\n"
     ]
    }
   ],
   "source": [
    "a=input()\n",
    "b=[]\n",
    "c=[]\n",
    "d=[]\n",
    "for i in a:\n",
    "    b+=[0]\n",
    "for i in range(len(a)):\n",
    "    count=1\n",
    "    for j in range(i+1,len(a)):\n",
    "        if a[i]==a[j]:\n",
    "            count+=1\n",
    "            b[j]=-1\n",
    "    if b[i]!=-1:\n",
    "        c.append(a[i])\n",
    "        d.append(count)\n",
    "total=0\n",
    "kk=0\n",
    "i=0\n",
    "while i<1:\n",
    "    for i in range(len(d)):\n",
    "        if d[i]>total:\n",
    "            total=d[i]\n",
    "            kk=i\n",
    "    d[kk]=-1\n",
    "    i+=1\n",
    "print(d)\n",
    "t_1=0\n",
    "k_1=0\n",
    "for i in range(len(d)):\n",
    "    if d[i]>t_1:\n",
    "        t_1=d[i]\n",
    "        k_1=i\n",
    "print(c[k_1])\n",
    "        "
   ]
  },
  {
   "cell_type": "code",
   "execution_count": null,
   "id": "1ca03c31-cffe-4b4e-87d1-0f14e290bafc",
   "metadata": {},
   "outputs": [],
   "source": [
    "53.2 least repeat character"
   ]
  },
  {
   "cell_type": "code",
   "execution_count": 13,
   "id": "41217ec5-c746-49e1-849e-c061d9f4ca80",
   "metadata": {},
   "outputs": [
    {
     "name": "stdin",
     "output_type": "stream",
     "text": [
      " aabbbbbbc\n"
     ]
    },
    {
     "name": "stdout",
     "output_type": "stream",
     "text": [
      "c\n"
     ]
    }
   ],
   "source": [
    "a=input()\n",
    "b=[]\n",
    "c=[]\n",
    "d=[]\n",
    "for i in a:\n",
    "    b+=[0]\n",
    "for i in range(len(a)):\n",
    "    count=1\n",
    "    for j in range(i+1,len(a)):\n",
    "        if a[i]==a[j]:\n",
    "            count+=1\n",
    "            b[j]=-1\n",
    "    if b[i]!=-1:\n",
    "        c.append(a[i])\n",
    "        d.append(count)\n",
    "total=99999999999\n",
    "kk=0\n",
    "for i in range(len(d)):\n",
    "    if d[i]<total:\n",
    "        total=d[i]\n",
    "        kk=i\n",
    "print(c[kk])\n",
    "        "
   ]
  },
  {
   "cell_type": "code",
   "execution_count": 14,
   "id": "fd724b4d-b715-4ea4-bcf2-90ec869e70e0",
   "metadata": {},
   "outputs": [
    {
     "name": "stdin",
     "output_type": "stream",
     "text": [
      " aabbbbc\n"
     ]
    },
    {
     "name": "stdout",
     "output_type": "stream",
     "text": [
      "[2, 4, 999999999999999999]\n",
      "a\n"
     ]
    }
   ],
   "source": [
    "a=input()\n",
    "b=[]\n",
    "c=[]\n",
    "d=[]\n",
    "for i in a:\n",
    "    b+=[0]\n",
    "for i in range(len(a)):\n",
    "    count=1\n",
    "    for j in range(i+1,len(a)):\n",
    "        if a[i]==a[j]:\n",
    "            count+=1\n",
    "            b[j]=-1\n",
    "    if b[i]!=-1:\n",
    "        c.append(a[i])\n",
    "        d.append(count)\n",
    "total=99999999999\n",
    "kk=0\n",
    "i=0\n",
    "while i<1:\n",
    "    for i in range(len(d)):\n",
    "        if d[i]<total:\n",
    "            total=d[i]\n",
    "            kk=i\n",
    "    d[kk]=999999999999999999\n",
    "    i+=1\n",
    "print(d)\n",
    "t_1=9999999999999999\n",
    "k_1=0\n",
    "for i in range(len(d)):\n",
    "    if d[i]<t_1:\n",
    "        t_1=d[i]\n",
    "        k_1=i\n",
    "print(c[k_1])"
   ]
  },
  {
   "cell_type": "code",
   "execution_count": 22,
   "id": "f9343ee0-74f7-4746-8ad2-2a5acb845fe5",
   "metadata": {},
   "outputs": [
    {
     "name": "stdout",
     "output_type": "stream",
     "text": [
      "yadot si yadseut \n"
     ]
    }
   ],
   "source": [
    "a=\"today is tuesday\"\n",
    "b=a.split()\n",
    "k=\"\"\n",
    "for i in b:\n",
    "    k+=i[::-1]+\" \"\n",
    "print(k)"
   ]
  },
  {
   "cell_type": "code",
   "execution_count": 27,
   "id": "434cf53f-81e4-43e3-92cf-ef7e09abd686",
   "metadata": {},
   "outputs": [],
   "source": [
    "a=\"today is tuesday\""
   ]
  },
  {
   "cell_type": "code",
   "execution_count": null,
   "id": "fc1bb235-2938-458b-91ca-6f2a7832cd5f",
   "metadata": {},
   "outputs": [],
   "source": [
    "54. Write a Python program to find the first repeated character in a given string where the index of the first occurrence is smallest."
   ]
  },
  {
   "cell_type": "code",
   "execution_count": 50,
   "id": "cf84dc49-f27b-4361-96a9-c517f7c04019",
   "metadata": {},
   "outputs": [
    {
     "name": "stdin",
     "output_type": "stream",
     "text": [
      " abcxxy\n"
     ]
    },
    {
     "name": "stdout",
     "output_type": "stream",
     "text": [
      "x\n",
      "3\n"
     ]
    }
   ],
   "source": [
    "a=input() \n",
    "b=[]\n",
    "d=[]\n",
    "e=[]\n",
    "for i in a:\n",
    "    b.append(0)\n",
    "for i in range(len(a)):\n",
    "    for j in range(i+1,len(a)):\n",
    "        if a[i]==a[j]:\n",
    "            d.append(a[i])\n",
    "            e.append(i)\n",
    "            break\n",
    "print(d[0])\n",
    "print(e[0])\n"
   ]
  },
  {
   "cell_type": "code",
   "execution_count": null,
   "id": "091067f4-de8c-4b01-9ee0-6e9ed5bae75b",
   "metadata": {},
   "outputs": [],
   "source": [
    "55.Write a Python program to find the first repeated word in a given string."
   ]
  },
  {
   "cell_type": "code",
   "execution_count": 6,
   "id": "aad39376-b7eb-4322-a6c8-951c8685193d",
   "metadata": {},
   "outputs": [
    {
     "name": "stdin",
     "output_type": "stream",
     "text": [
      " the quick fox the\n"
     ]
    },
    {
     "name": "stdout",
     "output_type": "stream",
     "text": [
      "the\n"
     ]
    }
   ],
   "source": [
    "a=input() #the quick brown fox is brown color\n",
    "b=a.split()\n",
    "c=[]\n",
    "for i in range(len(b)):\n",
    "    for j in range(i+1,len(b)):\n",
    "        if b[i]==b[j]:\n",
    "            c.append(b[i])\n",
    "            break\n",
    "d=len(set(b))\n",
    "if len(b)==d:\n",
    "    print(\"None\")\n",
    "else:\n",
    "    print(c[0])\n",
    "            \n",
    "    \n"
   ]
  },
  {
   "cell_type": "code",
   "execution_count": null,
   "id": "4aecad38-1195-47fb-b506-691235563a5f",
   "metadata": {},
   "outputs": [],
   "source": [
    "55.1 first most repeated character in a sentence"
   ]
  },
  {
   "cell_type": "code",
   "execution_count": 4,
   "id": "dd22b405-daad-4ad7-91d4-a82126136c0d",
   "metadata": {},
   "outputs": [
    {
     "name": "stdin",
     "output_type": "stream",
     "text": [
      " the the game game the game\n"
     ]
    },
    {
     "name": "stdout",
     "output_type": "stream",
     "text": [
      "['the', 'game']\n",
      "[2, 2]\n",
      "the\n"
     ]
    }
   ],
   "source": [
    "a=input()\n",
    "b=a.split()\n",
    "c=[]\n",
    "d=[]\n",
    "e=[]\n",
    "for i in b:\n",
    "    c+=[0]\n",
    "for i in range(len(b)):\n",
    "    count=1\n",
    "    for j in range(i+1,len(b)):\n",
    "        if b[i]==b[j]:\n",
    "            count+=1\n",
    "            b[j]=-1\n",
    "    if b[i]!=-1:\n",
    "        d.append(b[i])\n",
    "        e.append(count)\n",
    "print(d)\n",
    "print(e)\n",
    "t=0\n",
    "val=0\n",
    "for i in range(len(e)):\n",
    "    if e[i]>t:\n",
    "        t=e[i]\n",
    "        val=i\n",
    "\n",
    "print(d[val])\n",
    "        \n",
    "            "
   ]
  },
  {
   "cell_type": "code",
   "execution_count": null,
   "id": "51234e27-2b97-409f-845a-0cf562ec988e",
   "metadata": {},
   "outputs": [],
   "source": [
    "55.2 second most repeated character in a sentence"
   ]
  },
  {
   "cell_type": "code",
   "execution_count": 14,
   "id": "5acdcebf-69b0-417a-9757-b60f08f26f9a",
   "metadata": {},
   "outputs": [
    {
     "name": "stdin",
     "output_type": "stream",
     "text": [
      " the game\n"
     ]
    },
    {
     "name": "stdout",
     "output_type": "stream",
     "text": [
      "['the', 'game']\n",
      "[1, 1]\n",
      "[-1, 1]\n",
      "game\n"
     ]
    }
   ],
   "source": [
    "a=input()\n",
    "b=a.split()\n",
    "c=[]\n",
    "d=[]\n",
    "e=[]\n",
    "for i in b:\n",
    "    c+=[0]\n",
    "for i in range(len(b)):\n",
    "    count=1\n",
    "    for j in range(i+1,len(b)):\n",
    "        if b[i]==b[j]:\n",
    "            count+=1\n",
    "            b[j]=-1\n",
    "    if b[i]!=-1:\n",
    "        d.append(b[i])\n",
    "        e.append(count)\n",
    "print(d)\n",
    "print(e)\n",
    "t=0\n",
    "val=0\n",
    "x=0\n",
    "while x<1:\n",
    "    for i in range(len(e)):\n",
    "        if e[i]>t:\n",
    "            t=e[i]\n",
    "            val=i\n",
    "    e[val]=-1\n",
    "    x+=1\n",
    "print(e)\n",
    "t_1=0\n",
    "v_1=0\n",
    "for i in range(len(e)):\n",
    "    if e[i]>t_1:\n",
    "        t_1=e[i]\n",
    "        v_1=i\n",
    "print(d[v_1])\n",
    "    "
   ]
  },
  {
   "cell_type": "code",
   "execution_count": null,
   "id": "f09c1a43-8ce6-4ffe-8398-be2484270317",
   "metadata": {},
   "outputs": [],
   "source": [
    "56. Write a Python program to find the second most repeated word in a given string"
   ]
  },
  {
   "cell_type": "code",
   "execution_count": 320,
   "id": "4261e27b-417e-461f-a2fa-4c2b535864b4",
   "metadata": {},
   "outputs": [
    {
     "name": "stdin",
     "output_type": "stream",
     "text": [
      " the game of the game the\n"
     ]
    },
    {
     "name": "stdout",
     "output_type": "stream",
     "text": [
      "[['game', 2], ['of', 1], ['the', 3]]\n",
      "['of', 1]\n"
     ]
    }
   ],
   "source": [
    "\n",
    "a=input()\n",
    "b=a.split()\n",
    "c=[]\n",
    "d=[]\n",
    "e=[]\n",
    "for i in b:\n",
    "    c+=[0]\n",
    "for i in range(len(b)):\n",
    "    count=1\n",
    "    for j in range(i+1,len(b)):\n",
    "        if b[i]==b[j]:\n",
    "            count+=1\n",
    "            b[j]=-1\n",
    "    if b[i]!=-1:\n",
    "        d.append(b[i])\n",
    "        e.append(count)\n",
    "print(d)\n",
    "print(e)\n",
    "t=0\n",
    "val=0\n",
    "x=0\n",
    "while x<1:\n",
    "    for i in range(len(e)):\n",
    "        if e[i]>t:\n",
    "            t=e[i]\n",
    "            val=i\n",
    "    e[val]=-1\n",
    "    x+=1\n",
    "print(e)\n",
    "t_1=0\n",
    "v_1=0\n",
    "for i in range(len(e)):\n",
    "    if e[i]>t_1:\n",
    "        t_1=e[i]\n",
    "        v_1=i\n",
    "print(d[v_1])\n",
    "    "
   ]
  },
  {
   "cell_type": "code",
   "execution_count": null,
   "id": "af2fbc97-7fa7-4ec3-bf22-dcc7f2611ed2",
   "metadata": {},
   "outputs": [],
   "source": [
    "57.Write a Python program to remove spaces from a given string.\n"
   ]
  },
  {
   "cell_type": "code",
   "execution_count": 295,
   "id": "d6073477-092e-4c62-b1a5-f286f71daeaf",
   "metadata": {},
   "outputs": [
    {
     "name": "stdin",
     "output_type": "stream",
     "text": [
      " w e r t y u \n"
     ]
    },
    {
     "name": "stdout",
     "output_type": "stream",
     "text": [
      "wertyu\n"
     ]
    }
   ],
   "source": [
    "a=input()\n",
    "count=0\n",
    "k=\"\"\n",
    "for i in a:\n",
    "    if i==\" \":\n",
    "        pass\n",
    "    else:\n",
    "        k+=i\n",
    "print(k)"
   ]
  },
  {
   "cell_type": "code",
   "execution_count": null,
   "id": "97a2b99f-31d7-4d08-b673-4d7787a10443",
   "metadata": {},
   "outputs": [],
   "source": [
    "58.Write a Python program to move spaces to the front of a given string."
   ]
  },
  {
   "cell_type": "code",
   "execution_count": 293,
   "id": "797931b3-323d-4054-86dc-77f210e0fbc9",
   "metadata": {},
   "outputs": [
    {
     "name": "stdin",
     "output_type": "stream",
     "text": [
      " w3 re sou rces\n"
     ]
    },
    {
     "name": "stdout",
     "output_type": "stream",
     "text": [
      "3\n",
      "   w3resources\n"
     ]
    }
   ],
   "source": [
    "a=input()\n",
    "count=0\n",
    "k=\"\"\n",
    "for i in a:\n",
    "    if i==\" \":\n",
    "        count+=1\n",
    "    else:\n",
    "        k+=i\n",
    "print(count)\n",
    "d=\" \"*count\n",
    "print(d+k)"
   ]
  },
  {
   "cell_type": "code",
   "execution_count": null,
   "id": "ddcf6b74-073f-4ee9-9112-82c28e148027",
   "metadata": {},
   "outputs": [],
   "source": []
  },
  {
   "cell_type": "code",
   "execution_count": null,
   "id": "b97e61bf-8c03-4d89-ad9a-f35e26a11319",
   "metadata": {},
   "outputs": [],
   "source": [
    "59.Write a Python program to find the maximum number of characters in a given string."
   ]
  },
  {
   "cell_type": "code",
   "execution_count": 291,
   "id": "9a04ce98-be53-4223-9ab5-241ef9ea6027",
   "metadata": {},
   "outputs": [
    {
     "name": "stdin",
     "output_type": "stream",
     "text": [
      "  welcome to w3c resources\n"
     ]
    },
    {
     "name": "stdout",
     "output_type": "stream",
     "text": [
      "[3, 1, 3, 0, 2, 2, 0, 0, 0, 1, 1, 0]\n"
     ]
    }
   ],
   "source": [
    "a=input()\n",
    "b=[]\n",
    "c=[]\n",
    "d=[]\n",
    "for i in a:\n",
    "    b.append(0)\n",
    "for i in range(len(a)):\n",
    "    count=0\n",
    "    for j in range(i+1,len(a)):\n",
    "        if a[i]==a[j]:\n",
    "            count+=1\n",
    "            b[j]=-1\n",
    "    if b[i]==0:\n",
    "        c.append(a[i])\n",
    "        d.append(count)\n",
    "print(d)\n",
    "\n"
   ]
  },
  {
   "cell_type": "code",
   "execution_count": null,
   "id": "56490366-aa93-44a6-a51a-9d8a44af0a56",
   "metadata": {},
   "outputs": [],
   "source": []
  },
  {
   "cell_type": "code",
   "execution_count": null,
   "id": "bc79941d-f032-48c3-8c74-563ed1391329",
   "metadata": {},
   "outputs": [],
   "source": [
    "60.Write a Python program to capitalize the first and last letters of each word in a given string."
   ]
  },
  {
   "cell_type": "code",
   "execution_count": 284,
   "id": "0397753e-077f-4828-ad83-90273b2380b0",
   "metadata": {},
   "outputs": [
    {
     "name": "stdin",
     "output_type": "stream",
     "text": [
      " werdgh\n"
     ]
    },
    {
     "name": "stdout",
     "output_type": "stream",
     "text": [
      "WerdgH\n"
     ]
    }
   ],
   "source": [
    "a=input()\n",
    "b=a[0].upper()\n",
    "c=a[-1].upper()\n",
    "print(b+a[1:len(a)-1]+c)"
   ]
  },
  {
   "cell_type": "code",
   "execution_count": null,
   "id": "9fff6e13-d4f9-455a-beaa-296545bfb5b0",
   "metadata": {},
   "outputs": [],
   "source": [
    "61.Write a Python program to remove duplicate characters from a given string."
   ]
  },
  {
   "cell_type": "code",
   "execution_count": 17,
   "id": "b98ad20d-49aa-48aa-9952-e5d2a04d2ade",
   "metadata": {},
   "outputs": [
    {
     "name": "stdin",
     "output_type": "stream",
     "text": [
      " venaktesh\n"
     ]
    },
    {
     "name": "stdout",
     "output_type": "stream",
     "text": [
      "venaktsh"
     ]
    }
   ],
   "source": [
    "a=input()\n",
    "b=[]\n",
    "for i in a:\n",
    "    b.append(0)\n",
    "for i in range(len(a)):\n",
    "    for j in range(i+1,len(a)):\n",
    "        if a[i]==a[j]:\n",
    "            b[j]=-1\n",
    "    if b[i]!=-1:\n",
    "        print(a[i],end=\"\")"
   ]
  },
  {
   "cell_type": "code",
   "execution_count": null,
   "id": "3880f3b8-d7c4-4e6e-8ba3-2f1a720e619e",
   "metadata": {},
   "outputs": [],
   "source": [
    "62.Write a Python program to compute the sum of the digits in a given string."
   ]
  },
  {
   "cell_type": "code",
   "execution_count": 283,
   "id": "6c13ec58-335d-47e2-990b-ea53e12e1df4",
   "metadata": {},
   "outputs": [
    {
     "name": "stdin",
     "output_type": "stream",
     "text": [
      " abcd1234\n"
     ]
    },
    {
     "name": "stdout",
     "output_type": "stream",
     "text": [
      "10\n"
     ]
    }
   ],
   "source": [
    "a=input()\n",
    "count=0\n",
    "for i in a:\n",
    "    if i.isdigit():\n",
    "        count+=int(i)\n",
    "print(count)"
   ]
  },
  {
   "cell_type": "code",
   "execution_count": null,
   "id": "90c4ed2e-d020-4188-8df2-14444dfdd974",
   "metadata": {},
   "outputs": [],
   "source": []
  },
  {
   "cell_type": "code",
   "execution_count": null,
   "id": "a7a61432-6508-417c-b859-548865960c6f",
   "metadata": {},
   "outputs": [],
   "source": [
    "63.Write a Python program to remove leading zeros from an IP address."
   ]
  },
  {
   "cell_type": "code",
   "execution_count": 282,
   "id": "794e48b0-92ac-471e-bf62-f68545549ca2",
   "metadata": {},
   "outputs": [
    {
     "name": "stdin",
     "output_type": "stream",
     "text": [
      " 127.0.0.01\n"
     ]
    },
    {
     "name": "stdout",
     "output_type": "stream",
     "text": [
      "127.0.0.1\n"
     ]
    }
   ],
   "source": [
    "a=input() #255.024.01.01\n",
    "k=\"\"       #127.0.0.01\n",
    "for i in range(len(a)):\n",
    "    if (a[i]==\"0\") and a[i+1].isdigit():\n",
    "         pass\n",
    "    else:\n",
    "       k+=a[i]\n",
    "print(k)"
   ]
  },
  {
   "cell_type": "code",
   "execution_count": null,
   "id": "65958f46-1765-466e-8041-7a56ab21f861",
   "metadata": {},
   "outputs": [],
   "source": []
  },
  {
   "cell_type": "code",
   "execution_count": null,
   "id": "9011aedb-bd7f-4587-8124-38e5c8a2e20e",
   "metadata": {},
   "outputs": [],
   "source": []
  },
  {
   "cell_type": "code",
   "execution_count": null,
   "id": "f9e05ad0-c51f-446d-af28-e4579b271c1a",
   "metadata": {},
   "outputs": [],
   "source": [
    "64.Write a Python program to find the maximum length of consecutive 0's in a given binary string."
   ]
  },
  {
   "cell_type": "code",
   "execution_count": null,
   "id": "23ef1877-d0ee-4594-9e54-3f05be8bb709",
   "metadata": {},
   "outputs": [],
   "source": [
    "a=\"111000010000110\"\n",
    "i=0\n",
    "d=[]\n",
    "while i<len(a):\n",
    "    count=0\n",
    "    for j in range(i,len(a)):\n",
    "        if a[j]=='0':\n",
    "            count+=1\n",
    "            d.append(count)\n",
    "        else:\n",
    "            break\n",
    "    i=i+count\n",
    "print(d)\n",
    "    \n",
    "    \n",
    "        "
   ]
  },
  {
   "cell_type": "code",
   "execution_count": 20,
   "id": "27965f27-84c3-4b96-887c-610e8305c472",
   "metadata": {},
   "outputs": [
    {
     "name": "stdout",
     "output_type": "stream",
     "text": [
      "he\n"
     ]
    }
   ],
   "source": [
    "print(\"he\")"
   ]
  },
  {
   "cell_type": "code",
   "execution_count": null,
   "id": "be970be3-5f46-4d8b-b597-86290824339a",
   "metadata": {},
   "outputs": [],
   "source": []
  },
  {
   "cell_type": "code",
   "execution_count": null,
   "id": "75e699c8-6583-42ee-91dd-d5df426accf5",
   "metadata": {},
   "outputs": [],
   "source": [
    "65. Write a Python program to find all the common characters in lexicographical order from two given lower case strings.\n",
    "If there are no similar letters print \"No common characters\"."
   ]
  },
  {
   "cell_type": "code",
   "execution_count": 269,
   "id": "b42929dd-98d3-4158-8648-861b042e5b2b",
   "metadata": {},
   "outputs": [
    {
     "name": "stdout",
     "output_type": "stream",
     "text": [
      "osw\n"
     ]
    }
   ],
   "source": [
    "a=\"w3resources\"\n",
    "b=\"python and swift\"\n",
    "k=[]\n",
    "for i in a:\n",
    "    if i in b:\n",
    "        k.append(i)\n",
    "l=set(k)\n",
    "s=sorted(list(l))\n",
    "print(''.join(s))"
   ]
  },
  {
   "cell_type": "code",
   "execution_count": 9,
   "id": "de6fb26e-c009-4387-bd99-ef3739470096",
   "metadata": {},
   "outputs": [
    {
     "name": "stdin",
     "output_type": "stream",
     "text": [
      " The quick brown fox\n",
      " jumps over the lazy dog\n"
     ]
    },
    {
     "name": "stdout",
     "output_type": "stream",
     "text": [
      "24\n"
     ]
    }
   ],
   "source": [
    "a=input() #mynamesss\n",
    "b=input() #isvenkateshmm\n",
    "c=[]\n",
    "d=[]\n",
    "count=0\n",
    "for i in a:\n",
    "    c+=[0]\n",
    "for i in b:\n",
    "    d+=[0]\n",
    "for i in range(len(a)):\n",
    "    for j in range(len(b)):\n",
    "        if a[i]==b[j] and d[j]!=-1:\n",
    "            c[i]=-1\n",
    "            d[j]=-1\n",
    "            break\n",
    "for i in c:\n",
    "    if i==0:\n",
    "        count+=1\n",
    "for i in d:\n",
    "    if i==0:\n",
    "        count+=1\n",
    "print(count)\n",
    "\n",
    "\n"
   ]
  },
  {
   "cell_type": "code",
   "execution_count": null,
   "id": "bc3f8cad-f3da-4576-a6f5-5256468f3552",
   "metadata": {},
   "outputs": [],
   "source": [
    "66.Write a Python program to make two given strings (lower case, may or may not be of the same length)\n",
    "anagrams without removing any characters from any of the strings."
   ]
  },
  {
   "cell_type": "code",
   "execution_count": 266,
   "id": "20dddaa3-a687-4af5-ac76-1311527cf719",
   "metadata": {},
   "outputs": [
    {
     "name": "stdin",
     "output_type": "stream",
     "text": [
      " The quick brown fox\n",
      "  jumps over the lazy dog\n"
     ]
    },
    {
     "name": "stdout",
     "output_type": "stream",
     "text": [
      "22\n"
     ]
    }
   ],
   "source": [
    "a=input() #spearmks\n",
    "b=input() #pearsuvk\n",
    "count=0\n",
    "a_1=\"\"\n",
    "b_1=\"\"\n",
    "for i in a:\n",
    "    if  i not in b:\n",
    "        count+=1\n",
    "    else:\n",
    "        a_1+=i\n",
    "for i in b:\n",
    "    if  i not in a:\n",
    "        count+=1\n",
    "    else:\n",
    "        b_1+=i\n",
    "\n",
    "print(count)\n",
    "        \n",
    "\n",
    "    "
   ]
  },
  {
   "cell_type": "code",
   "execution_count": null,
   "id": "3ee2956f-7be7-47db-be1a-2e6e4baee1d0",
   "metadata": {},
   "outputs": [],
   "source": [
    "67 Write a Python program to remove all consecutive duplicates of a given string."
   ]
  },
  {
   "cell_type": "code",
   "execution_count": 260,
   "id": "d84a37d1-98e0-4c47-b99d-5af9c2fc6a0f",
   "metadata": {},
   "outputs": [
    {
     "name": "stdin",
     "output_type": "stream",
     "text": [
      " aaaababbbbabba\n"
     ]
    },
    {
     "name": "stdout",
     "output_type": "stream",
     "text": [
      "ab\n"
     ]
    }
   ],
   "source": [
    "a=input()\n",
    "b=set(a)\n",
    "c=list(b)\n",
    "d=''.join(c)\n",
    "print(d)\n",
    "#--------------\n",
    "for i in range(len(a)):\n",
    "    "
   ]
  },
  {
   "cell_type": "code",
   "execution_count": 10,
   "id": "b7a96cba-d00d-4614-8691-2737a9902621",
   "metadata": {},
   "outputs": [
    {
     "name": "stdin",
     "output_type": "stream",
     "text": [
      " aaabbebba\n"
     ]
    },
    {
     "name": "stdout",
     "output_type": "stream",
     "text": [
      "abe"
     ]
    }
   ],
   "source": [
    "a=input()\n",
    "b=len(a)\n",
    "c=[]\n",
    "for i in a:\n",
    "    c+=[0]\n",
    "for i in range(b):\n",
    "    for j in range(i+1,b):\n",
    "        if a[i]==a[j]:\n",
    "            c[j]=-1\n",
    "    if c[i]!=-1:\n",
    "        print(a[i],end=\"\")"
   ]
  },
  {
   "cell_type": "code",
   "execution_count": null,
   "id": "c50afd87-2202-43c6-ab41-33ec1e319d31",
   "metadata": {},
   "outputs": [],
   "source": [
    "68. Write a Python program to generate two strings from a given string. For the first string, \n",
    "use the characters that occur only once, and for the second,\n",
    "use the characters that occur multiple times in the said string.\n"
   ]
  },
  {
   "cell_type": "code",
   "execution_count": 257,
   "id": "bc5a284c-3f59-4ecc-a89f-dc794e5e3437",
   "metadata": {},
   "outputs": [
    {
     "name": "stdin",
     "output_type": "stream",
     "text": [
      " w3resource\n"
     ]
    },
    {
     "name": "stdout",
     "output_type": "stream",
     "text": [
      "w3souc\n",
      "re\n"
     ]
    }
   ],
   "source": [
    "a=input()\n",
    "b=[]\n",
    "st1=\"\"\n",
    "st2=\"\"\n",
    "for i in a:\n",
    "    b+=[0]\n",
    "for i in range(len(a)):\n",
    "    for j in range(i+1,len(a)):\n",
    "        if a[i]==a[j]:\n",
    "            b[j]=-1\n",
    "            b[i]=-2\n",
    "    if b[i]==0:\n",
    "        st1+=a[i]\n",
    "    elif b[i]==-1:\n",
    "        st2+=a[i]\n",
    "print(st1)\n",
    "print(st2)"
   ]
  },
  {
   "cell_type": "code",
   "execution_count": null,
   "id": "9c87788a-0c52-423a-ac09-80a3c5a8bc83",
   "metadata": {},
   "outputs": [],
   "source": [
    "69.Write a Python program to find the longest common sub-string from two given strings."
   ]
  },
  {
   "cell_type": "code",
   "execution_count": 16,
   "id": "e26dfc8e-ea0a-47d8-9f12-382a2d0cec46",
   "metadata": {},
   "outputs": [
    {
     "name": "stdin",
     "output_type": "stream",
     "text": [
      " abcdefgh\n",
      " xswerabcdwd\n"
     ]
    },
    {
     "name": "stdout",
     "output_type": "stream",
     "text": [
      "abcdefgh\n",
      "abcd\n"
     ]
    }
   ],
   "source": [
    "str1=input()\n",
    "str2=input()\n",
    "k=min(str1,str2)\n",
    "print(k)\n",
    "z=0\n",
    "for i in range(1,len(str1)+1):\n",
    "    x=str1[:i]\n",
    "    if x in str2:\n",
    "        z=x\n",
    "print(z)\n",
    "         \n",
    "        \n",
    "\n"
   ]
  },
  {
   "cell_type": "code",
   "execution_count": null,
   "id": "0e93d59a-4d74-44e9-8c1c-aaef81109045",
   "metadata": {},
   "outputs": [],
   "source": [
    "70.Write a Python program that concatenates uncommon characters from two strings."
   ]
  },
  {
   "cell_type": "code",
   "execution_count": 17,
   "id": "319a8e3a-940b-45d5-8517-cb1aa301a7df",
   "metadata": {},
   "outputs": [
    {
     "name": "stdin",
     "output_type": "stream",
     "text": [
      " abcdpqr\n",
      " stuabcd\n"
     ]
    },
    {
     "name": "stdout",
     "output_type": "stream",
     "text": [
      "pqrstu\n"
     ]
    }
   ],
   "source": [
    "a=input() #mynamesss\n",
    "b=input() #isvenkateshmm\n",
    "c=[]\n",
    "d=[]\n",
    "x=\"\"\n",
    "y=\"\"\n",
    "count=0\n",
    "for i in a:\n",
    "    c+=[0]\n",
    "for i in b:\n",
    "    d+=[0]\n",
    "for i in range(len(a)):\n",
    "    for j in range(len(b)):\n",
    "        if a[i]==b[j] and d[j]!=-1:\n",
    "            c[i]=-1\n",
    "            d[j]=-1\n",
    "            break\n",
    "for i in range(len(c)):\n",
    "    if c[i]==0:\n",
    "        x+=a[i]\n",
    "        \n",
    "for i in range(len(d)):\n",
    "    if d[i]==0:\n",
    "        y+=b[i]\n",
    "print(x+y)"
   ]
  },
  {
   "cell_type": "code",
   "execution_count": null,
   "id": "96c5d74f-4a07-4715-b758-752235a3d524",
   "metadata": {},
   "outputs": [],
   "source": []
  },
  {
   "cell_type": "code",
   "execution_count": null,
   "id": "65156747-5d51-4a70-956d-db2081a2f087",
   "metadata": {},
   "outputs": [],
   "source": []
  },
  {
   "cell_type": "code",
   "execution_count": null,
   "id": "9597a0ba-c81a-4bb3-9a08-73d5fc6b4d50",
   "metadata": {},
   "outputs": [],
   "source": []
  },
  {
   "cell_type": "code",
   "execution_count": null,
   "id": "0a21e543-38fb-43f0-9483-98fb9d1dfb51",
   "metadata": {},
   "outputs": [],
   "source": [
    "71. Write a Python program to move all spaces to the front of a given string in a single traversal."
   ]
  },
  {
   "cell_type": "code",
   "execution_count": 243,
   "id": "ac342cb3-6b1f-49ea-9de0-046077a997f7",
   "metadata": {},
   "outputs": [
    {
     "name": "stdin",
     "output_type": "stream",
     "text": [
      " py thon re sour\n"
     ]
    },
    {
     "name": "stdout",
     "output_type": "stream",
     "text": [
      "   pythonresour\n"
     ]
    }
   ],
   "source": [
    "a=input()\n",
    "x=\" \"\n",
    "count=0\n",
    "r=\"\"\n",
    "for i in a:\n",
    "    if i==\" \":\n",
    "        count+=1\n",
    "    else:\n",
    "        r+=i\n",
    "k=x*count\n",
    "print(k+r)"
   ]
  },
  {
   "cell_type": "code",
   "execution_count": null,
   "id": "7b62f0cf-c116-44be-b9c9-bea0a5b82122",
   "metadata": {},
   "outputs": [],
   "source": [
    "72. Write a Python program to remove all characters except a specified character from a given string.\n",
    "Original string\n",
    "Python Exercises\n",
    "Remove all characters except P in the said string:\n",
    "P\n",
    "Original string\n",
    "google\n",
    "Remove all characters except g in the said string:\n",
    "gg\n",
    "Original string\n",
    "exercises\n",
    "Remove all characters except e in the said string:\n",
    "eee"
   ]
  },
  {
   "cell_type": "code",
   "execution_count": 239,
   "id": "1e5b14bc-0c44-4dda-9f6b-608c14936b4c",
   "metadata": {},
   "outputs": [
    {
     "name": "stdin",
     "output_type": "stream",
     "text": [
      " google\n",
      " g\n"
     ]
    },
    {
     "name": "stdout",
     "output_type": "stream",
     "text": [
      "gg\n"
     ]
    }
   ],
   "source": [
    "a=input()\n",
    "b=input()\n",
    "k=\"\"\n",
    "for i in a:\n",
    "    if i==b:\n",
    "        k+=i\n",
    "print(k)"
   ]
  },
  {
   "cell_type": "code",
   "execution_count": null,
   "id": "d9cfc83c-bd69-4a4f-9db1-47c093c498b6",
   "metadata": {},
   "outputs": [],
   "source": [
    "73. Write a Python program to count Uppercase, Lowercase, special characters and numeric values in a given string."
   ]
  },
  {
   "cell_type": "code",
   "execution_count": 238,
   "id": "0584cfc5-0e2f-4bc4-94a4-a347c10737ff",
   "metadata": {},
   "outputs": [
    {
     "name": "stdin",
     "output_type": "stream",
     "text": [
      " @W3Resource.Com\n"
     ]
    },
    {
     "name": "stdout",
     "output_type": "stream",
     "text": [
      "3\n",
      "9\n",
      "1\n",
      "2\n"
     ]
    }
   ],
   "source": [
    "a=input()\n",
    "upper=0\n",
    "lower=0\n",
    "numbers=0\n",
    "special=0\n",
    "for i in a:\n",
    "    if i.isdigit():\n",
    "        numbers+=1\n",
    "    elif i.isupper():\n",
    "        upper+=1\n",
    "    elif i.islower():\n",
    "        lower+=1\n",
    "    else:\n",
    "        special+=1\n",
    "print(upper)\n",
    "print(lower)\n",
    "print(numbers)\n",
    "print(special)\n",
    "        "
   ]
  },
  {
   "cell_type": "code",
   "execution_count": null,
   "id": "d3e42aa3-1351-446c-9ffd-8077552c6b82",
   "metadata": {},
   "outputs": [],
   "source": [
    "74. Write a Python program to find the minimum window in a given string that will contain all the characters of another given string.\n",
    "Example 1\n",
    "Input : str1 = \" PRWSOERIUSFK \"\n",
    "str2 = \" OSU \"\n",
    "Output: Minimum window is \"OERIUS\""
   ]
  },
  {
   "cell_type": "code",
   "execution_count": 21,
   "id": "a215d532-f6c9-40a1-9cf9-c6aa0e84c614",
   "metadata": {},
   "outputs": [
    {
     "name": "stdin",
     "output_type": "stream",
     "text": [
      " PRWSOERIUSFK\n",
      " OSU\n"
     ]
    },
    {
     "name": "stdout",
     "output_type": "stream",
     "text": [
      "P\n",
      "PR\n",
      "PRW\n",
      "PRWS\n",
      "PRWSO\n",
      "PRWSOE\n",
      "PRWSOER\n",
      "PRWSOERI\n",
      "PRWSOERIU\n",
      "PRWSOERIUS\n",
      "PRWSOERIUSF\n",
      "PRWSOERIUSFK\n",
      "0\n"
     ]
    }
   ],
   "source": [
    "a=input()\n",
    "b=input()\n",
    "k=0\n",
    "for i in range(0,len(a)):\n",
    "    s=a[:i+1]\n",
    "    print(s)\n",
    "    if s in b:\n",
    "        k=s\n",
    "        break\n",
    "print(k)\n",
    "    \n",
    "\n",
    "\n",
    "\n",
    "\n",
    "\n",
    "\n",
    "\n",
    "\n"
   ]
  },
  {
   "cell_type": "code",
   "execution_count": 22,
   "id": "ad244278-4ba3-4532-ba15-2d0b63914e43",
   "metadata": {},
   "outputs": [
    {
     "ename": "SyntaxError",
     "evalue": "invalid syntax (379456530.py, line 1)",
     "output_type": "error",
     "traceback": [
      "\u001b[1;36m  Cell \u001b[1;32mIn[22], line 1\u001b[1;36m\u001b[0m\n\u001b[1;33m    76. Write a Python program to count the number of substrings from a given string of lowercase alphabets with exactly k distinct (given) characters.\u001b[0m\n\u001b[1;37m        ^\u001b[0m\n\u001b[1;31mSyntaxError\u001b[0m\u001b[1;31m:\u001b[0m invalid syntax\n"
     ]
    }
   ],
   "source": [
    "76. Write a Python program to count the number of substrings from a given string of lowercase alphabets with exactly k distinct (given) characters."
   ]
  },
  {
   "cell_type": "code",
   "execution_count": 29,
   "id": "eb718b5c-1644-43a3-8691-db3da620b4eb",
   "metadata": {},
   "outputs": [
    {
     "name": "stdin",
     "output_type": "stream",
     "text": [
      " wolf\n",
      " 4\n"
     ]
    },
    {
     "name": "stdout",
     "output_type": "stream",
     "text": [
      "1\n"
     ]
    }
   ],
   "source": [
    "a=input()\n",
    "b=int(input())\n",
    "count=0\n",
    "for i in range(len(a)):\n",
    "    for j in range(i+1,len(a)+1):\n",
    "        k=a[i:j]\n",
    "        if len(k)==b:\n",
    "            count+=1\n",
    "print(count)\n",
    "    "
   ]
  },
  {
   "cell_type": "code",
   "execution_count": 224,
   "id": "751e7999-153c-4b1c-894c-49c91d8617b7",
   "metadata": {},
   "outputs": [
    {
     "ename": "SyntaxError",
     "evalue": "invalid syntax (1771110242.py, line 1)",
     "output_type": "error",
     "traceback": [
      "\u001b[1;36m  Cell \u001b[1;32mIn[224], line 1\u001b[1;36m\u001b[0m\n\u001b[1;33m    Write a Python program to count the number of non-empty substrings of a given string.\u001b[0m\n\u001b[1;37m          ^\u001b[0m\n\u001b[1;31mSyntaxError\u001b[0m\u001b[1;31m:\u001b[0m invalid syntax\n"
     ]
    }
   ],
   "source": [
    "Write a Python program to count the number of non-empty substrings of a given string.\n",
    "a=input"
   ]
  },
  {
   "cell_type": "code",
   "execution_count": 27,
   "id": "b2422450-ef7e-4fcd-a446-a9d51ea44072",
   "metadata": {},
   "outputs": [
    {
     "name": "stdin",
     "output_type": "stream",
     "text": [
      " w3resource\n"
     ]
    },
    {
     "name": "stdout",
     "output_type": "stream",
     "text": [
      "55\n"
     ]
    }
   ],
   "source": [
    "a=input()\n",
    "count=0\n",
    "for i in range(len(a)):\n",
    "    for j in range(i+1,len(a)+1):\n",
    "        count+=1\n",
    "print(count)"
   ]
  },
  {
   "cell_type": "code",
   "execution_count": null,
   "id": "518c272a-51da-4b7c-aedc-ccf3995f2c9b",
   "metadata": {},
   "outputs": [],
   "source": []
  },
  {
   "cell_type": "code",
   "execution_count": null,
   "id": "4f6687cc-de76-457a-9403-5c8e1e624561",
   "metadata": {},
   "outputs": [],
   "source": [
    "78. Write a Python program to count characters at the same position in a given string (lower and uppercase characters) as in the English alphabet."
   ]
  },
  {
   "cell_type": "code",
   "execution_count": 223,
   "id": "7659aacd-0d51-46cb-a1a6-4df09d7bbc0b",
   "metadata": {},
   "outputs": [
    {
     "name": "stdin",
     "output_type": "stream",
     "text": [
      " xbcefg\n"
     ]
    },
    {
     "name": "stdout",
     "output_type": "stream",
     "text": [
      "b c\n",
      "2\n",
      "e f\n",
      "4\n",
      "f g\n",
      "6\n"
     ]
    }
   ],
   "source": [
    "a=input() #xbcefg\n",
    "count=0\n",
    "for i in range(len(a)-1):\n",
    "     k=ord(a[i])\n",
    "     l=ord(a[i+1])\n",
    "     if l-k==1:\n",
    "        count+=2\n",
    "        print(a[i],a[i+1])\n",
    "        print(count)\n",
    "        \n",
    "    \n",
    "    "
   ]
  },
  {
   "cell_type": "code",
   "execution_count": null,
   "id": "8ca1a51c-82ea-48f8-ad6d-7ebfd878943f",
   "metadata": {},
   "outputs": [],
   "source": []
  },
  {
   "cell_type": "code",
   "execution_count": null,
   "id": "a94d21dd-85d3-4e9d-b83d-c4e6b71706e2",
   "metadata": {},
   "outputs": [],
   "source": [
    "79. Write a Python program to find the smallest and largest words in a given string.\n"
   ]
  },
  {
   "cell_type": "code",
   "execution_count": 216,
   "id": "9af3d7b6-c4a9-4736-ae14-373c2cceacb8",
   "metadata": {},
   "outputs": [
    {
     "name": "stdout",
     "output_type": "stream",
     "text": [
      "Algorithm.\n",
      "a\n"
     ]
    }
   ],
   "source": [
    "a=\"Write a Java program to sort an array of given integers using Quick sort Algorithm.\"\n",
    "b=a.split()\n",
    "max=len(b[0])\n",
    "k=b[0]\n",
    "for i in range(len(b)):\n",
    "    if len(b[i])>max:\n",
    "        k=b[i]\n",
    "        max=len(b[i])\n",
    "print(k)\n",
    "min=len(b[0])\n",
    "k1=b[0]\n",
    "for i in range(len(b)):\n",
    "    if len(b[i])<min:\n",
    "        k1=b[i]\n",
    "        min=len(b[i])\n",
    "print(k1)"
   ]
  },
  {
   "cell_type": "code",
   "execution_count": null,
   "id": "a5228f91-d599-42ff-abd3-607fca645de1",
   "metadata": {},
   "outputs": [],
   "source": []
  },
  {
   "cell_type": "code",
   "execution_count": null,
   "id": "6107f7e0-fd09-41fd-9bab-71cbc61fe8f5",
   "metadata": {},
   "outputs": [],
   "source": [
    "80.Write a Python program to count the number of substrings with the same first and last characters in a given string.\n"
   ]
  },
  {
   "cell_type": "code",
   "execution_count": 30,
   "id": "8615d76f-357a-42d5-bbce-0425a50218f2",
   "metadata": {},
   "outputs": [
    {
     "name": "stdin",
     "output_type": "stream",
     "text": [
      " abcba\n"
     ]
    },
    {
     "name": "stdout",
     "output_type": "stream",
     "text": [
      "7\n"
     ]
    }
   ],
   "source": [
    "a=input()\n",
    "count=0\n",
    "for i in range(len(a)):\n",
    "    for j in range(i+1,len(a)+1):\n",
    "        k=a[i:j]\n",
    "        if k[0]==k[-1]:\n",
    "            count+=1\n",
    "print(count)\n",
    "            "
   ]
  },
  {
   "cell_type": "code",
   "execution_count": null,
   "id": "830da9d9-fa4d-4887-b728-953fad513b8d",
   "metadata": {},
   "outputs": [],
   "source": [
    "81. Write a Python program to determine the index of a given string at which a certain substring starts.\n",
    "If the substring is not found in the given string return 'Not found'.\n",
    "\n",
    "\"Python Exercises\", \"Ex\"\n",
    "\"Python Exercises\", \"yt\"\n",
    "\"Python Exercises\", \"PY\""
   ]
  },
  {
   "cell_type": "code",
   "execution_count": 199,
   "id": "a7020294-531c-4a0e-91ab-a99245a7a146",
   "metadata": {},
   "outputs": [
    {
     "name": "stdin",
     "output_type": "stream",
     "text": [
      " Python Exercises\n",
      " PY\n"
     ]
    },
    {
     "name": "stdout",
     "output_type": "stream",
     "text": [
      "not found\n"
     ]
    }
   ],
   "source": [
    "a=input()\n",
    "b=input()\n",
    "c=len(b)\n",
    "x=-1\n",
    "for i in range(0,len(a)):\n",
    "    k=a[i:i+c]\n",
    "    if k==b:\n",
    "         x=i\n",
    "         break\n",
    "if x!=-1:\n",
    "    print(x)\n",
    "else:\n",
    "    print(\"not found\")\n",
    "    "
   ]
  },
  {
   "cell_type": "code",
   "execution_count": null,
   "id": "62cc641e-be65-4d4b-8858-f9729dd4f30c",
   "metadata": {},
   "outputs": [],
   "source": [
    "82. Write a Python program to wrap a given string into a paragraph with a given width.\n",
    "Sample Output:\n",
    "Input a string: The quick brown fox.\n",
    "Input the width of the paragraph: 10\n",
    "Result:\n",
    "The quick\n",
    "brown fox."
   ]
  },
  {
   "cell_type": "code",
   "execution_count": 188,
   "id": "3ad215f9-7ebe-4c76-a9f3-336f58b12942",
   "metadata": {},
   "outputs": [
    {
     "name": "stdin",
     "output_type": "stream",
     "text": [
      " The quick brown fox.\n",
      " 10\n"
     ]
    },
    {
     "name": "stdout",
     "output_type": "stream",
     "text": [
      "The quick \n",
      "brown fox \n"
     ]
    }
   ],
   "source": [
    "a=input()\n",
    "b=int(input())\n",
    "i=1\n",
    "for i in range(1,len(a)+1):\n",
    "    if i%10!=0:\n",
    "        print(a[i-1],end=\"\")\n",
    "    else:\n",
    "        print(\" \")\n"
   ]
  },
  {
   "cell_type": "code",
   "execution_count": null,
   "id": "dadb3655-586a-4eac-b5d0-6a5bdb15f637",
   "metadata": {},
   "outputs": [],
   "source": []
  },
  {
   "cell_type": "code",
   "execution_count": null,
   "id": "c7f6628f-38b7-4b3d-8893-ad5014ceeee7",
   "metadata": {},
   "outputs": [],
   "source": [
    "83. Write a Python program to print four integer values - decimal, octal, hexadecimal (capitalized), binary - in a single line.\n",
    "Sample Output:\n",
    "Input an integer: 25\n",
    "Decimal Octal Hexadecimal (capitalized), Binary\n",
    "25 31 19 11001"
   ]
  },
  {
   "cell_type": "code",
   "execution_count": null,
   "id": "d7707acd-b1c6-4bd6-b645-52dafe567ab1",
   "metadata": {},
   "outputs": [],
   "source": []
  },
  {
   "cell_type": "code",
   "execution_count": null,
   "id": "9b921f0c-79c0-43c3-9971-0f8adc728587",
   "metadata": {},
   "outputs": [],
   "source": [
    "84. Write a Python program to swap cases in a given string.\n",
    "Sample Output:\n",
    "pYTHON eXERCISES\n",
    "jAVA\n",
    "nUMpY"
   ]
  },
  {
   "cell_type": "code",
   "execution_count": 172,
   "id": "f6be49ee-ea83-4653-82f7-723cc23dc192",
   "metadata": {},
   "outputs": [
    {
     "name": "stdin",
     "output_type": "stream",
     "text": [
      " python Excercisr\n"
     ]
    },
    {
     "name": "stdout",
     "output_type": "stream",
     "text": [
      "PYTHON eXCERCISR\n"
     ]
    }
   ],
   "source": [
    "a=input()\n",
    "k=\"\"\n",
    "for i in a:\n",
    "    if i.isupper():\n",
    "        k=k+i.lower()\n",
    "    else:\n",
    "        k+=i.upper()\n",
    "print(k)"
   ]
  },
  {
   "cell_type": "code",
   "execution_count": null,
   "id": "476ca120-21a6-494c-a67a-a5bfed4c9aee",
   "metadata": {},
   "outputs": [],
   "source": [
    "86. Write a Python program to delete all occurrences of a specified character in a given string.\n",
    "Sample Output:\n",
    "Original string:\n",
    "Delete all occurrences of a specified character in a given string\n",
    "Modified string:\n",
    "Delete ll occurrences of specified chrcter in given string"
   ]
  },
  {
   "cell_type": "code",
   "execution_count": 170,
   "id": "c01b9851-6101-464e-8f5c-3dff9d86a1dc",
   "metadata": {},
   "outputs": [
    {
     "name": "stdin",
     "output_type": "stream",
     "text": [
      " Delete all occurrences of a specified character in a given string\n",
      " a\n"
     ]
    },
    {
     "name": "stdout",
     "output_type": "stream",
     "text": [
      "Delete ll occurrences of  specified chrcter in  given string\n"
     ]
    }
   ],
   "source": [
    "a=input()\n",
    "specific_character=input()\n",
    "k=\"\"\n",
    "for i in range(len(a)):\n",
    "    if a[i]!=specific_character:\n",
    "        k+=a[i]\n",
    "print(k)"
   ]
  },
  {
   "cell_type": "code",
   "execution_count": null,
   "id": "e98388fe-6aad-4a61-ab01-94b1acc4424d",
   "metadata": {},
   "outputs": [],
   "source": [
    "87. Write a Python program to find the common values that appear in two given strings.\n",
    "Sample Output:\n",
    "Original strings:\n",
    "Python3\n",
    "Python2.7\n",
    "Intersection of two said String:\n",
    "Python"
   ]
  },
  {
   "cell_type": "code",
   "execution_count": 168,
   "id": "b5781a4b-9e35-452e-8205-280bbd7ab016",
   "metadata": {},
   "outputs": [
    {
     "name": "stdin",
     "output_type": "stream",
     "text": [
      " python2\n",
      " python5.5\n"
     ]
    },
    {
     "name": "stdout",
     "output_type": "stream",
     "text": [
      "python\n"
     ]
    }
   ],
   "source": [
    "a=input()\n",
    "b=input()\n",
    "c=min(a,b)\n",
    "d=len(c)\n",
    "k=\"\"\n",
    "for i in range(d):\n",
    "    if a[i]==b[i]:\n",
    "        k+=a[i]\n",
    "print(k)"
   ]
  },
  {
   "cell_type": "code",
   "execution_count": null,
   "id": "15089e93-18f7-4ac1-9041-ea4f17f8ff37",
   "metadata": {},
   "outputs": [],
   "source": []
  },
  {
   "cell_type": "code",
   "execution_count": null,
   "id": "496bfc30-3698-4e2c-950e-6a8ac7db4e53",
   "metadata": {},
   "outputs": [],
   "source": [
    "88. Write a Python program to check whether a given string contains a capital letter, a lower case letter, a number and a minimum length.\n",
    "Sample Output:\n",
    "Input the string: W3resource\n",
    "['Valid string.']"
   ]
  },
  {
   "cell_type": "code",
   "execution_count": 166,
   "id": "b47eb80a-3419-494f-baa4-6e4239a6e8c0",
   "metadata": {},
   "outputs": [
    {
     "name": "stdin",
     "output_type": "stream",
     "text": [
      " Wresource\n"
     ]
    },
    {
     "name": "stdout",
     "output_type": "stream",
     "text": [
      "Not valid\n"
     ]
    }
   ],
   "source": [
    "a=input()\n",
    "b=len(a)>=8\n",
    "c=0\n",
    "d=0\n",
    "e=0\n",
    "        \n",
    "for i in range(len(a)):\n",
    "     if a[i].isupper():\n",
    "         c=1\n",
    "     if  a[i].islower():\n",
    "         d=1\n",
    "     if a[i].isdigit():\n",
    "        e=1\n",
    "if c==1 and d==1 and e==1 and b:\n",
    "    print(\"Valid\")\n",
    "else:\n",
    "    print(\"Not valid\")\n",
    "    "
   ]
  },
  {
   "cell_type": "code",
   "execution_count": null,
   "id": "da6eda12-42d5-4be1-bce9-8ebaa2340b6a",
   "metadata": {},
   "outputs": [],
   "source": []
  },
  {
   "cell_type": "code",
   "execution_count": null,
   "id": "ad48db82-9d8f-44a4-a17b-c0072f0ddd71",
   "metadata": {},
   "outputs": [],
   "source": [
    "89. Write a Python program to remove unwanted characters from a given string.\n",
    "Sample Output:\n",
    "Original String : Pyth*^on Exercis^es\n",
    "After removing unwanted characters:\n",
    "Python Exercises\n",
    "Original String : A%^!B#*CD\n",
    "After removing unwanted characters:\n",
    "ABCD"
   ]
  },
  {
   "cell_type": "code",
   "execution_count": 161,
   "id": "85e90aa2-995b-4ae0-9575-fa2ae1a43eb4",
   "metadata": {},
   "outputs": [
    {
     "name": "stdin",
     "output_type": "stream",
     "text": [
      " Pyth*^on Exercis^es\n"
     ]
    },
    {
     "name": "stdout",
     "output_type": "stream",
     "text": [
      "PythonExercises\n"
     ]
    }
   ],
   "source": [
    "a=input()\n",
    "k=\"\"\n",
    "for i in a:\n",
    "    if (i>=\"a\" and i<=\"z\") or (i>=\"A\" and i<=\"Z\"):\n",
    "        k+=i\n",
    "print(k)"
   ]
  },
  {
   "cell_type": "code",
   "execution_count": null,
   "id": "c00aa29a-6f1b-4bf7-beff-43555983655e",
   "metadata": {},
   "outputs": [],
   "source": [
    "90. Write a Python program to remove duplicate words from a given string.\n",
    "Sample Output:\n",
    "Original String:\n",
    "Python Exercises Practice Solution Exercises\n",
    "After removing duplicate words from the said string:\n",
    "Python Exercises Practice Solution"
   ]
  },
  {
   "cell_type": "code",
   "execution_count": 160,
   "id": "29fa072a-cca5-42ae-bfcb-f958299b1bb7",
   "metadata": {},
   "outputs": [
    {
     "name": "stdin",
     "output_type": "stream",
     "text": [
      " Python Exercises Practice Solution Exercises\n"
     ]
    },
    {
     "name": "stdout",
     "output_type": "stream",
     "text": [
      "Python Exercises Practice Solution\n"
     ]
    }
   ],
   "source": [
    "a=input()\n",
    "c=a.split()\n",
    "b=[]\n",
    "for  i  in  c:\n",
    "    if i in b:\n",
    "        pass\n",
    "    else:\n",
    "        b.append(i)\n",
    "print(' '.join(b))\n",
    "    "
   ]
  },
  {
   "cell_type": "code",
   "execution_count": null,
   "id": "32c27ab9-aa1e-42d6-9fc0-2133ad6ea379",
   "metadata": {},
   "outputs": [],
   "source": []
  },
  {
   "cell_type": "code",
   "execution_count": null,
   "id": "34c9bcc4-59bf-49f9-883f-b4f9f53e7cf2",
   "metadata": {},
   "outputs": [],
   "source": [
    "91. Write a Python program to convert a given heterogeneous list of scalars into a string.\n",
    "Sample Output:\n",
    "Original list:\n",
    "['Red', 100, -50, 'green', 'w,3,r', 12.12, False]\n",
    "Convert the heterogeneous list of scalars into a string:\n",
    "Red,100,-50,green,w,3,r,12.12,False"
   ]
  },
  {
   "cell_type": "code",
   "execution_count": 156,
   "id": "dbefa62e-de0d-4792-901d-140106d5f474",
   "metadata": {},
   "outputs": [
    {
     "name": "stdout",
     "output_type": "stream",
     "text": [
      "Red,100,-50,green,w,3,r,12.12,False,\n"
     ]
    }
   ],
   "source": [
    "a=['Red', 100, -50, 'green', 'w,3,r', 12.12, False]\n",
    "k=\"\"\n",
    "for i in a:\n",
    "    k+=str(i)+\",\"\n",
    "print(k)"
   ]
  },
  {
   "cell_type": "code",
   "execution_count": null,
   "id": "ede13a2c-3ded-4793-9a01-ee068d940028",
   "metadata": {},
   "outputs": [],
   "source": [
    "93. Write a Python program to extract numbers from a given string.\n",
    "Sample Output:\n",
    "Original string: red 12 black 45 green\n",
    "Extract numbers from the said string: [12, 45"
   ]
  },
  {
   "cell_type": "code",
   "execution_count": 152,
   "id": "dcbca061-3917-4d6e-bdf1-a26483287dfa",
   "metadata": {},
   "outputs": [
    {
     "name": "stdin",
     "output_type": "stream",
     "text": [
      " red 12 black 45 green\n"
     ]
    },
    {
     "name": "stdout",
     "output_type": "stream",
     "text": [
      "[12, 45]\n"
     ]
    }
   ],
   "source": [
    "a=input()\n",
    "b=a.split()\n",
    "c=[]\n",
    "for  i in b:\n",
    "    if i.isdigit():\n",
    "        c+=[int(i)]\n",
    "print(c)"
   ]
  },
  {
   "cell_type": "code",
   "execution_count": null,
   "id": "1ab53fc9-6eec-4c22-ad72-9bb35805bb2f",
   "metadata": {},
   "outputs": [],
   "source": [
    "94. Write a Python program to convert a hexadecimal color code to a tuple of integers corresponding to its RGB components.\n",
    "Sample Output:\n",
    "(255, 165, 1)\n",
    "(255, 255, 255)\n",
    "(0, 0, 0)\n",
    "(255, 0, 0)\n",
    "(0, 0, 128)\n",
    "(192, 192, 192)"
   ]
  },
  {
   "cell_type": "code",
   "execution_count": null,
   "id": "6614a306-7ab8-4fa6-9ed9-3757fbc152b8",
   "metadata": {},
   "outputs": [],
   "source": []
  },
  {
   "cell_type": "code",
   "execution_count": null,
   "id": "6f241e47-cc7b-4c0a-b5e8-3a7b22167eab",
   "metadata": {},
   "outputs": [],
   "source": [
    "95. Write a Python program to convert the values of RGB components to a hexadecimal color code.\n",
    "Sample Output:\n",
    "FFA501\n",
    "FFFFFF\n",
    "000000\n",
    "000080\n",
    "C0C0C0"
   ]
  },
  {
   "cell_type": "code",
   "execution_count": null,
   "id": "50d3155c-347c-46fd-8370-b03c25035401",
   "metadata": {},
   "outputs": [],
   "source": []
  },
  {
   "cell_type": "code",
   "execution_count": null,
   "id": "c3e4d131-abf1-489c-9da6-f2fb71978661",
   "metadata": {},
   "outputs": [],
   "source": []
  },
  {
   "cell_type": "code",
   "execution_count": null,
   "id": "aed349fc-df7c-47e7-82f5-c5b869c70473",
   "metadata": {},
   "outputs": [],
   "source": [
    "96. Write a Python program to convert a given string to Camelcase.\n",
    "Sample Output:\n",
    "java Script\n"
   ]
  },
  {
   "cell_type": "code",
   "execution_count": 148,
   "id": "704ab564-cb04-448d-bcfd-67cfffe04e5e",
   "metadata": {},
   "outputs": [
    {
     "name": "stdin",
     "output_type": "stream",
     "text": [
      " java script is a easy\n"
     ]
    },
    {
     "name": "stdout",
     "output_type": "stream",
     "text": [
      "java Script Is A Easy\n"
     ]
    }
   ],
   "source": [
    "a=input()\n",
    "b=a.split()\n",
    "d=b[:1]\n",
    "c=b[1:]\n",
    "e=[]\n",
    "for i in c:\n",
    "    k=i[0].upper()\n",
    "    l=i[1:]\n",
    "    m=k+l\n",
    "    e.append(m)\n",
    "s=d+e\n",
    "print(' '.join(s))\n",
    "    \n",
    "    "
   ]
  },
  {
   "cell_type": "code",
   "execution_count": null,
   "id": "897db764-ae84-4aaa-b07b-25b1dacb000b",
   "metadata": {},
   "outputs": [],
   "source": [
    "97. Write a Python program to convert a given string to Snake case.       #pending\n",
    "Sample Output:\n",
    "java_script   #javascript\n",
    "foo_bar       #foobar                                                               #    re and sub modules\n",
    "foo_bar       #foobar\n",
    "foo.bar       #foo.bar\n",
    "foo_bar\n",
    "foo_bar\n",
    "foo_bar"
   ]
  },
  {
   "cell_type": "code",
   "execution_count": 150,
   "id": "f63e7d2d-8fd7-4b25-b597-bb42f4aec94d",
   "metadata": {},
   "outputs": [
    {
     "name": "stdin",
     "output_type": "stream",
     "text": [
      " JavaScript\n"
     ]
    },
    {
     "name": "stdout",
     "output_type": "stream",
     "text": [
      "Java_script\n"
     ]
    }
   ],
   "source": [
    "a=input()#javSCript\n",
    "c=a[:1]\n",
    "b=a[1:]\n",
    "k=\"\"\n",
    "for i in b:\n",
    "    if i.isupper():\n",
    "        k+=\"_\"+i.lower()\n",
    "    else:\n",
    "        k+=i\n",
    "k=c+k\n",
    "print(k)"
   ]
  },
  {
   "cell_type": "code",
   "execution_count": null,
   "id": "4fc450fa-d285-4645-aa23-e927a5a25658",
   "metadata": {},
   "outputs": [],
   "source": [
    "98.Write a Python program to decapitalize the first letter of a given string.\n",
    "Sample Output:\n",
    "java Script\n",
    "python"
   ]
  },
  {
   "cell_type": "code",
   "execution_count": 143,
   "id": "f04c8a70-872f-497a-81ec-c1ff1d7667aa",
   "metadata": {},
   "outputs": [
    {
     "name": "stdin",
     "output_type": "stream",
     "text": [
      " Abcds\n"
     ]
    },
    {
     "name": "stdout",
     "output_type": "stream",
     "text": [
      "abcds\n"
     ]
    }
   ],
   "source": [
    "a=input()\n",
    "b=a[0].lower()\n",
    "c=a[1:]\n",
    "print(b+c)"
   ]
  },
  {
   "cell_type": "code",
   "execution_count": null,
   "id": "ee4029cd-f454-4b64-846a-cf51dfb9abea",
   "metadata": {},
   "outputs": [],
   "source": [
    "99. Write a Python program to split a multi-line string into a list of lines.\n",
    "Sample Output:\n",
    "Original string: This\n",
    "is a\n",
    "multiline\n",
    "string.\n",
    "Split the said multiline string into a list of lines:\n",
    "['This', 'is a', 'multiline', 'string.', '']"
   ]
  },
  {
   "cell_type": "code",
   "execution_count": 140,
   "id": "93225db1-0f88-47a7-99ec-bb3ee98a524d",
   "metadata": {},
   "outputs": [
    {
     "name": "stdout",
     "output_type": "stream",
     "text": [
      "['This ', ' is a', ' multiline ', ' string.']\n"
     ]
    }
   ],
   "source": [
    "a=\"This \\n is a\\n multiline \\n string.\"\n",
    "print(a.split(\"\\n\"))"
   ]
  },
  {
   "cell_type": "code",
   "execution_count": null,
   "id": "e4e8551c-45c0-4ed3-8a3d-6b6e157cbb15",
   "metadata": {},
   "outputs": [],
   "source": []
  },
  {
   "cell_type": "code",
   "execution_count": null,
   "id": "82e3bc94-541b-40f5-bf12-50706267532f",
   "metadata": {},
   "outputs": [],
   "source": [
    "100. Write a Python program to check whether any word in a given string contains duplicate characters or not. Return True or False.\n",
    "Sample Output:\n",
    "Original text:\n",
    "Filter out the factorials of the said list.\n",
    "Check whether any word in the said sting contains duplicate characrters or not!\n",
    "False\n",
    "Original text:\n",
    "Python Exercise.\n",
    "Check whether any word in the said sting contains duplicate characrters or not!\n",
    "False\n",
    "Original text:\n",
    "The wait is over.\n",
    "Check whether any word in the said sting contains duplicate characrters or not!\n",
    "True"
   ]
  },
  {
   "cell_type": "code",
   "execution_count": 132,
   "id": "3cc4904a-f5c2-43d9-abdc-9d907904a874",
   "metadata": {},
   "outputs": [
    {
     "name": "stdin",
     "output_type": "stream",
     "text": [
      " Filter out the factorials of the said list.\n"
     ]
    },
    {
     "name": "stdout",
     "output_type": "stream",
     "text": [
      "False\n"
     ]
    }
   ],
   "source": [
    "a=input()\n",
    "b=len(a)\n",
    "c=set(a)\n",
    "d=len(c)\n",
    "if b==d:\n",
    "    print(\"True\")\n",
    "else:\n",
    "    print(\"False\")"
   ]
  },
  {
   "cell_type": "code",
   "execution_count": 136,
   "id": "72a240e6-2dc8-42af-ae14-2e5b6312620c",
   "metadata": {},
   "outputs": [
    {
     "name": "stdin",
     "output_type": "stream",
     "text": [
      " thet is flases\n"
     ]
    },
    {
     "name": "stdout",
     "output_type": "stream",
     "text": [
      "False\n"
     ]
    }
   ],
   "source": [
    "a=input()\n",
    "b=a.split()\n",
    "flag=0\n",
    "for i in b:\n",
    "    c=len(i)\n",
    "    for j in range(c):\n",
    "        for k in range(j+1,c):\n",
    "            if i[j]==i[k]:\n",
    "                flag=1\n",
    "if flag==1:\n",
    "    print(\"False\")\n",
    "else:\n",
    "    print(\"True\")"
   ]
  },
  {
   "cell_type": "code",
   "execution_count": null,
   "id": "dc3a612d-11af-452c-9d32-78eaa5bb162f",
   "metadata": {},
   "outputs": [],
   "source": []
  },
  {
   "cell_type": "code",
   "execution_count": null,
   "id": "6f11b059-1413-45ca-a94c-53f5796951f0",
   "metadata": {},
   "outputs": [],
   "source": [
    "101. Write a Python program to add two strings as if they were numbers (positive integer values). Return a message if the numbers are strings.\n",
    "Sample Output:\n",
    "42\n",
    "Error in input!\n",
    "Error in input!"
   ]
  },
  {
   "cell_type": "code",
   "execution_count": 131,
   "id": "1096baf6-0d70-4478-8058-f1008683b2d2",
   "metadata": {},
   "outputs": [
    {
     "name": "stdin",
     "output_type": "stream",
     "text": [
      " 3\n",
      " 4.56\n"
     ]
    },
    {
     "name": "stdout",
     "output_type": "stream",
     "text": [
      "error\n"
     ]
    }
   ],
   "source": [
    "a=input()\n",
    "b=input()\n",
    "c=a.isdigit()\n",
    "d=b.isdigit()\n",
    "if c and d:\n",
    "    print(int(a)+int(b))\n",
    "else:\n",
    "    print(\"error\")"
   ]
  },
  {
   "cell_type": "code",
   "execution_count": null,
   "id": "abd19b91-6d4f-47a2-acb3-b0ffeb8770b7",
   "metadata": {},
   "outputs": [],
   "source": []
  },
  {
   "cell_type": "code",
   "execution_count": null,
   "id": "21c82c21-c99d-47bc-9ddc-431c6b06572b",
   "metadata": {},
   "outputs": [],
   "source": [
    "102. Write a Python program to remove punctuation from a given string.\n",
    "Sample Output:\n",
    "Original text:\n",
    "String! With. Punctuation?\n",
    "After removing Punctuations from the said string:\n",
    "String With Punctuation"
   ]
  },
  {
   "cell_type": "code",
   "execution_count": 125,
   "id": "f5bdbe24-c490-4400-9946-eab1473e1d0e",
   "metadata": {},
   "outputs": [
    {
     "name": "stdin",
     "output_type": "stream",
     "text": [
      " String! With. Punctuation?\n"
     ]
    },
    {
     "name": "stdout",
     "output_type": "stream",
     "text": [
      "String With Punctuation\n"
     ]
    }
   ],
   "source": [
    "a=input()\n",
    "k=\"\"\n",
    "for i in a:\n",
    "    if i!=\"!\" and  i!=\"?\" and  i!=\".\" and  i!=\",\":\n",
    "        k+=i\n",
    "print(k)"
   ]
  },
  {
   "cell_type": "code",
   "execution_count": null,
   "id": "24b6df79-acd4-4029-a2bd-675dbc41c658",
   "metadata": {},
   "outputs": [],
   "source": []
  },
  {
   "cell_type": "code",
   "execution_count": null,
   "id": "489fca2f-9fff-4cfa-b097-499813cce20c",
   "metadata": {},
   "outputs": [],
   "source": [
    "103. Write a Python program to replace each character of a word of length five and more with a hash character (#).\n",
    "Sample Output:\n",
    "Original string: Count the lowercase letters in the said list of words:\n",
    "Replace words (length five or more) with hash characters in the said string:\n",
    "##### the ######### ####### in the said list of ######\n",
    "Original string: Python - Remove punctuations from a string:\n",
    "Replace words (length five or more) with hash characters in the said string:\n",
    "###### - ###### ############ from a #######"
   ]
  },
  {
   "cell_type": "code",
   "execution_count": 122,
   "id": "019254d0-df70-4b4c-ad5c-313a8d34cb5a",
   "metadata": {},
   "outputs": [
    {
     "name": "stdin",
     "output_type": "stream",
     "text": [
      " Count the lowercase letters in the said list of words\n"
     ]
    },
    {
     "name": "stdout",
     "output_type": "stream",
     "text": [
      "##### the ######### ####### in the said list of ##### \n"
     ]
    }
   ],
   "source": [
    "a=input()\n",
    "b=a.split()\n",
    "k=\"\"\n",
    "for i in b:\n",
    "    if len(i)>=5:\n",
    "        s=\"#\"*len(i)+\" \"\n",
    "        k+=s\n",
    "    else:\n",
    "        k+=i+\" \"\n",
    "print(k)\n",
    "        "
   ]
  },
  {
   "cell_type": "code",
   "execution_count": null,
   "id": "705e8e99-7c07-4ce3-bf90-d22181036200",
   "metadata": {},
   "outputs": [],
   "source": []
  },
  {
   "cell_type": "code",
   "execution_count": null,
   "id": "77a3c313-72cf-458d-ab20-31277764397d",
   "metadata": {},
   "outputs": [],
   "source": []
  },
  {
   "cell_type": "code",
   "execution_count": null,
   "id": "64fe89fb-3b9a-4b97-8a83-595e4c7d413b",
   "metadata": {},
   "outputs": [],
   "source": []
  },
  {
   "cell_type": "code",
   "execution_count": 116,
   "id": "d7604f54-590f-4a70-b9c8-d04a31da181b",
   "metadata": {},
   "outputs": [
    {
     "ename": "SyntaxError",
     "evalue": "invalid syntax (3662734324.py, line 1)",
     "output_type": "error",
     "traceback": [
      "\u001b[1;36m  Cell \u001b[1;32mIn[116], line 1\u001b[1;36m\u001b[0m\n\u001b[1;33m    104. Write a Python program that capitalizes the first letter and lowercases the remaining letters in a given string.\u001b[0m\n\u001b[1;37m         ^\u001b[0m\n\u001b[1;31mSyntaxError\u001b[0m\u001b[1;31m:\u001b[0m invalid syntax\n"
     ]
    }
   ],
   "source": [
    "104. Write a Python program that capitalizes the first letter and lowercases the remaining letters in a given string.\n",
    "Sample Data:\n",
    "(\"Red Green WHITE\") -> \"Red Green White\"\n",
    "(\"w3resource\") -> \"W3resource\"\n",
    "(\"dow jones industrial average\") -> \"Dow Jones Industrial Average\""
   ]
  },
  {
   "cell_type": "code",
   "execution_count": 1,
   "id": "f360a1e8-de05-4d7d-901a-36056c48bf3d",
   "metadata": {},
   "outputs": [
    {
     "name": "stdin",
     "output_type": "stream",
     "text": [
      " W3resources\n"
     ]
    },
    {
     "name": "stdout",
     "output_type": "stream",
     "text": [
      "W3resources \n"
     ]
    }
   ],
   "source": [
    "a=input()  \n",
    "b=a.split()\n",
    "k=\"\"\n",
    "for i in b:\n",
    "    s=i[0].upper()\n",
    "    l=i[1:].lower()\n",
    "    w=s+l\n",
    "    k+=w+\" \"\n",
    "print(k)\n",
    "    \n",
    "    "
   ]
  },
  {
   "cell_type": "code",
   "execution_count": null,
   "id": "b07d37c5-29e2-4c3d-82a6-4562fc8dcff2",
   "metadata": {},
   "outputs": [],
   "source": []
  },
  {
   "cell_type": "code",
   "execution_count": null,
   "id": "b8f11fc4-8ed0-45a9-8afa-ef3fbe52b668",
   "metadata": {},
   "outputs": [],
   "source": []
  },
  {
   "cell_type": "code",
   "execution_count": null,
   "id": "c93f3d2d-5c09-477c-a792-c99639bdc810",
   "metadata": {},
   "outputs": [],
   "source": []
  },
  {
   "cell_type": "code",
   "execution_count": null,
   "id": "ecec4a54-f6d4-4deb-bdb1-959142de46ed",
   "metadata": {},
   "outputs": [],
   "source": []
  },
  {
   "cell_type": "code",
   "execution_count": 113,
   "id": "8d06f2a7-e7f6-4e8e-a4a7-8637a5b74a43",
   "metadata": {},
   "outputs": [
    {
     "ename": "SyntaxError",
     "evalue": "invalid syntax (2514551746.py, line 1)",
     "output_type": "error",
     "traceback": [
      "\u001b[1;36m  Cell \u001b[1;32mIn[113], line 1\u001b[1;36m\u001b[0m\n\u001b[1;33m    105. Write a Python program to extract and display the name from a given Email address.\u001b[0m\n\u001b[1;37m         ^\u001b[0m\n\u001b[1;31mSyntaxError\u001b[0m\u001b[1;31m:\u001b[0m invalid syntax\n"
     ]
    }
   ],
   "source": [
    "105. Write a Python program to extract and display the name from a given Email address.\n",
    "Sample Data:\n",
    "(\"john@example.com\") -> (\"john\")\n",
    "(\"john.smith@example.com\") -> (\"johnsmith\")\n",
    "(\"fully-qualified-domain@example.com\") -> (\"fullyqualifieddomain\")"
   ]
  },
  {
   "cell_type": "code",
   "execution_count": 115,
   "id": "d7dd603e-967d-47af-a576-988493ecaabf",
   "metadata": {},
   "outputs": [
    {
     "name": "stdin",
     "output_type": "stream",
     "text": [
      " fully-qualified-domain@example.com\n"
     ]
    },
    {
     "name": "stdout",
     "output_type": "stream",
     "text": [
      "fullyqualifieddomain\n"
     ]
    }
   ],
   "source": [
    "a=input()\n",
    "b=a.index(\"@\")\n",
    "c=a[:b]\n",
    "k=\"\"\n",
    "for i in range(len(c)):\n",
    "    if c[i]>='a' and c[i]<'z':\n",
    "        k+=c[i]\n",
    "print(k)"
   ]
  },
  {
   "cell_type": "code",
   "execution_count": null,
   "id": "6199ae4d-b2a9-4fe5-b355-dfffde51ebf6",
   "metadata": {},
   "outputs": [],
   "source": []
  },
  {
   "cell_type": "code",
   "execution_count": 107,
   "id": "982009b3-7403-4ac5-8188-7778768edb50",
   "metadata": {},
   "outputs": [
    {
     "ename": "SyntaxError",
     "evalue": "invalid syntax (373089662.py, line 1)",
     "output_type": "error",
     "traceback": [
      "\u001b[1;36m  Cell \u001b[1;32mIn[107], line 1\u001b[1;36m\u001b[0m\n\u001b[1;33m    106. Write a Python program to remove repeated consecutive characters and replace them with single letters and print a updated string.\u001b[0m\n\u001b[1;37m         ^\u001b[0m\n\u001b[1;31mSyntaxError\u001b[0m\u001b[1;31m:\u001b[0m invalid syntax\n"
     ]
    }
   ],
   "source": [
    "106. Write a Python program to remove repeated consecutive characters and replace them with single letters and print a updated string.\n",
    "Sample Data:\n",
    "(\"Red Green White\") -> \"Red Gren White\n",
    "(\"aabbbcdeffff\") -> \"abcdef\"\n",
    "(\"Yellowwooddoor\") -> \"Yelowodor\""
   ]
  },
  {
   "cell_type": "code",
   "execution_count": null,
   "id": "68e3d87e-37f9-4120-b104-dcbadf652325",
   "metadata": {},
   "outputs": [],
   "source": [
    "106. Write a Python program to remove repeated consecutive characters and replace them with single letters and print a updated string.\n",
    "Sample Data:\n",
    "(\"Red Green White\") -> \"Red Gren White\"\n",
    "(\"aabbbcdeffff\") -> \"abcdef\"\n",
    "(\"Yellowwooddoor\") -> \"Yelowodor\""
   ]
  },
  {
   "cell_type": "code",
   "execution_count": null,
   "id": "1618ceb9-24aa-4e82-9bec-b6897f79749e",
   "metadata": {},
   "outputs": [],
   "source": []
  },
  {
   "cell_type": "code",
   "execution_count": 108,
   "id": "19f665cc-b622-465f-a6ad-9bd77e444b49",
   "metadata": {},
   "outputs": [
    {
     "name": "stdin",
     "output_type": "stream",
     "text": [
      " Red Green White\n"
     ]
    },
    {
     "name": "stdout",
     "output_type": "stream",
     "text": [
      " GRWdehinrt\n"
     ]
    }
   ],
   "source": [
    "a=input()\n",
    "b=sorted(set(a))\n",
    "c=list(b)\n",
    "print(''.join(c))\n",
    "    "
   ]
  },
  {
   "cell_type": "code",
   "execution_count": null,
   "id": "3a80a037-27b5-4b33-a39a-4e773a95b1a7",
   "metadata": {},
   "outputs": [],
   "source": []
  },
  {
   "cell_type": "code",
   "execution_count": null,
   "id": "a7951600-7e20-4168-b87c-2d245c1eda7f",
   "metadata": {},
   "outputs": [],
   "source": []
  },
  {
   "cell_type": "code",
   "execution_count": null,
   "id": "49684aa2-3691-4f6e-8bc4-c08879a70346",
   "metadata": {},
   "outputs": [],
   "source": []
  },
  {
   "cell_type": "code",
   "execution_count": null,
   "id": "478092a5-71b4-4092-b61a-45e84e441a01",
   "metadata": {},
   "outputs": [],
   "source": [
    "108. Write a Python program that takes a string and returns # on both sides of each element, which are not vowels.\n",
    "Sample Data:\n",
    "(\"Green\" -> \"-G--r-ee-n-\"\n",
    "(\"White\") -> \"-W--h-i-t-e\"\n",
    "(\"aeiou\") -> \"aeiou\""
   ]
  },
  {
   "cell_type": "code",
   "execution_count": 3,
   "id": "1256d3d2-7ff4-41b3-9626-0568a92122f2",
   "metadata": {},
   "outputs": [
    {
     "name": "stdin",
     "output_type": "stream",
     "text": [
      " White'\n"
     ]
    },
    {
     "name": "stdout",
     "output_type": "stream",
     "text": [
      "-W--h-i-t-e-'-\n"
     ]
    }
   ],
   "source": [
    "a=input()\n",
    "k=\"\"\n",
    "for i in a:\n",
    "    if i not in \"aeiou\":\n",
    "        k=k+\"-\"+i+\"-\"\n",
    "    else:\n",
    "        k+=i\n",
    "print(k)"
   ]
  },
  {
   "cell_type": "code",
   "execution_count": null,
   "id": "c41a66bd-73c6-442c-97a3-5a740f09c516",
   "metadata": {},
   "outputs": [],
   "source": []
  },
  {
   "cell_type": "code",
   "execution_count": null,
   "id": "3d2d6826-b4fb-489f-a73e-e14a7549b8be",
   "metadata": {},
   "outputs": [],
   "source": [
    "109. Write a Python program that counts the number of leap years within the range of years. Ranges of years should be accepted as strings.\n",
    "Sample Data:\n",
    "(\"1981-1991\") -> 2\n",
    "(\"2000-2020\") -> 6"
   ]
  },
  {
   "cell_type": "code",
   "execution_count": 93,
   "id": "baee15b0-69c1-4b8b-be9f-08b2f984a8a2",
   "metadata": {},
   "outputs": [
    {
     "name": "stdin",
     "output_type": "stream",
     "text": [
      " 2000\n",
      " 2020\n"
     ]
    },
    {
     "name": "stdout",
     "output_type": "stream",
     "text": [
      "6\n"
     ]
    }
   ],
   "source": [
    "a=input()\n",
    "b=input()\n",
    "count=0\n",
    "for i in range(int(a),int(b)+1):\n",
    "    if (i%4==0 and i%100!=0) or (i%400==0):\n",
    "        count+=1\n",
    "print(count)"
   ]
  },
  {
   "cell_type": "code",
   "execution_count": null,
   "id": "dbff722a-78b2-4da8-8d3b-2bdb605bb847",
   "metadata": {},
   "outputs": [],
   "source": []
  },
  {
   "cell_type": "code",
   "execution_count": null,
   "id": "2ef806b9-08d4-4acd-82fd-49fa0a61cbe0",
   "metadata": {},
   "outputs": [],
   "source": [
    "110.10. Write a Python program to insert space before every capital letter appears in a given word.\n",
    "Sample Data:\n",
    "(\"PythonExercises\") -> \"Python Exercises\"\n",
    "(\"Python\") -> \"Python\"\n",
    "(\"PythonExercisesPracticeSolution\") -> \"Python Exercises Practice Solution\""
   ]
  },
  {
   "cell_type": "code",
   "execution_count": 61,
   "id": "237bc02f-17b1-47c0-9497-45656f3adaed",
   "metadata": {},
   "outputs": [
    {
     "name": "stdin",
     "output_type": "stream",
     "text": [
      " PythonExercisesPracticeSolution\n"
     ]
    },
    {
     "name": "stdout",
     "output_type": "stream",
     "text": [
      " Python Exercises Practice Solution\n"
     ]
    }
   ],
   "source": [
    "a=input()\n",
    "k=\"\"\n",
    "for i in range(0,len(a)):\n",
    "    if a[i].isupper():\n",
    "         k+=\" \"+a[i]\n",
    "    else:\n",
    "        k+=a[i]\n",
    "print(k)\n",
    "        "
   ]
  },
  {
   "cell_type": "code",
   "execution_count": null,
   "id": "7b02e2de-9edf-49f6-b7f2-e6f6dce6201d",
   "metadata": {},
   "outputs": [],
   "source": [
    "111. Write a Python program that takes a string and replaces all the characters with their respective numbers.\n",
    "Sample Data:\n",
    "(\"Python\") -> \"16 25 20 8 15 14\"\n",
    "(\"Java\") -> \"10 1 22 1\"\n",
    "(\"Python Tutorial\") -> \"16 25 20 8 15 14 20 21 20 15 18 9 1 12\""
   ]
  },
  {
   "cell_type": "code",
   "execution_count": 4,
   "id": "2f600669-092a-44a9-8c25-e503f917c398",
   "metadata": {},
   "outputs": [
    {
     "name": "stdin",
     "output_type": "stream",
     "text": [
      " java\n"
     ]
    },
    {
     "name": "stdout",
     "output_type": "stream",
     "text": [
      "10 1 22 1 "
     ]
    }
   ],
   "source": [
    "a=input()\n",
    "for i in a:\n",
    "    print((ord(i)-96),end=\" \")"
   ]
  },
  {
   "cell_type": "code",
   "execution_count": null,
   "id": "7a799389-46f5-4993-b857-3e2093677594",
   "metadata": {},
   "outputs": [],
   "source": [
    "112. Write a Python program to calculate the sum of two numbers given as strings. Return the result in the same string representation.\n",
    "Sample Data:\n",
    "( \"234242342341\", \"2432342342\") -> \"236674684683\"\n",
    "( \"\", \"2432342342\") -> False ( \"1000\", \"0\") -> \"1000\"\n",
    "( \"1000\", \"10\") -> \"1010\""
   ]
  },
  {
   "cell_type": "code",
   "execution_count": 7,
   "id": "29eaaa40-2f6d-4fdc-a9c3-56bfeafacfc0",
   "metadata": {},
   "outputs": [
    {
     "name": "stdin",
     "output_type": "stream",
     "text": [
      " 5444\n",
      " \"\"\n"
     ]
    },
    {
     "name": "stdout",
     "output_type": "stream",
     "text": [
      "False\n"
     ]
    }
   ],
   "source": [
    "a_1=input()\n",
    "b_1=input()\n",
    "try:\n",
    "    if a_1 != \" \" or a_1!=\"\" or b_1!=\" \" or b_1!=\"\":\n",
    "        print(int(a_1)+int(b_1))\n",
    "except:\n",
    "    print(False)\n",
    "    \n",
    "\n",
    "\n"
   ]
  },
  {
   "cell_type": "code",
   "execution_count": null,
   "id": "45d69cc3-dfd0-4d27-8016-c7aa112af90f",
   "metadata": {},
   "outputs": [],
   "source": [
    "113. Write a Python program that returns a string sorted alphabetically by the first character of a given string of words.\n",
    "Sample Data:\n",
    "(\"Red Green Black White Pink\") -> \"Black Green Pink Red White\"\n",
    "(\"Calculate the sum of two said numbers given as strings.\") -> (\"Calculate as given numbers of sum said strings. the two\")\n",
    "(\"The quick brown fox jumps over the lazy dog.\") -> (\"The brown dog. fox jumps lazy over quick the\")"
   ]
  },
  {
   "cell_type": "code",
   "execution_count": 31,
   "id": "a3e52f5c-8bcd-4adc-a5b0-babf141cb2a2",
   "metadata": {},
   "outputs": [
    {
     "name": "stdin",
     "output_type": "stream",
     "text": [
      " The quick brown fox jumps over the lazy dog.\n"
     ]
    },
    {
     "name": "stdout",
     "output_type": "stream",
     "text": [
      "The brown dog. fox jumps lazy over quick the\n"
     ]
    }
   ],
   "source": [
    "a=input()\n",
    "a=a.split()\n",
    "b=list(a)\n",
    "c=sorted(b)\n",
    "print(' '.join(c))"
   ]
  },
  {
   "cell_type": "code",
   "execution_count": 11,
   "id": "384863bc-032b-4eb7-ae04-46b97183e7d8",
   "metadata": {},
   "outputs": [
    {
     "name": "stdout",
     "output_type": "stream",
     "text": [
      "7\n"
     ]
    }
   ],
   "source": [
    "107\n",
    "def test(a,b):\n",
    "    count=0\n",
    "    for i in range(len(a)-2):\n",
    "        if a[i:i+3]==b[i:i+3]:\n",
    "            count+=1\n",
    "    return count\n",
    "print(test(\"red white\",\"red white\"))\n"
   ]
  },
  {
   "cell_type": "markdown",
   "id": "5bf6820b-2b15-4e14-85a5-01f951a08533",
   "metadata": {},
   "source": [
    "106\n"
   ]
  },
  {
   "cell_type": "code",
   "execution_count": 24,
   "id": "57286bee-9494-4cab-8e87-587aaf01ccf2",
   "metadata": {},
   "outputs": [
    {
     "name": "stdin",
     "output_type": "stream",
     "text": [
      " red green\n"
     ]
    },
    {
     "ename": "IndexError",
     "evalue": "string index out of range",
     "output_type": "error",
     "traceback": [
      "\u001b[1;31m---------------------------------------------------------------------------\u001b[0m",
      "\u001b[1;31mIndexError\u001b[0m                                Traceback (most recent call last)",
      "Cell \u001b[1;32mIn[24], line 17\u001b[0m\n\u001b[0;32m     15\u001b[0m a\u001b[38;5;241m=\u001b[39m\u001b[38;5;28minput\u001b[39m()\n\u001b[0;32m     16\u001b[0m \u001b[38;5;28;01mif\u001b[39;00m \u001b[38;5;124m\"\u001b[39m\u001b[38;5;124m \u001b[39m\u001b[38;5;124m\"\u001b[39m \u001b[38;5;129;01min\u001b[39;00m a:\n\u001b[1;32m---> 17\u001b[0m     \u001b[43mgreet\u001b[49m\u001b[43m(\u001b[49m\u001b[43ma\u001b[49m\u001b[43m)\u001b[49m\n\u001b[0;32m     18\u001b[0m \u001b[38;5;28;01melse\u001b[39;00m:\n\u001b[0;32m     19\u001b[0m     welcome(a)\n",
      "Cell \u001b[1;32mIn[24], line 8\u001b[0m, in \u001b[0;36mgreet\u001b[1;34m(a)\u001b[0m\n\u001b[0;32m      6\u001b[0m k\u001b[38;5;241m=\u001b[39m\u001b[38;5;124m\"\u001b[39m\u001b[38;5;124m \u001b[39m\u001b[38;5;124m\"\u001b[39m\n\u001b[0;32m      7\u001b[0m \u001b[38;5;28;01mfor\u001b[39;00m j \u001b[38;5;129;01min\u001b[39;00m \u001b[38;5;28mrange\u001b[39m(s\u001b[38;5;241m+\u001b[39m\u001b[38;5;241m1\u001b[39m):\n\u001b[1;32m----> 8\u001b[0m     \u001b[38;5;28;01mif\u001b[39;00m i[j]\u001b[38;5;241m==\u001b[39m\u001b[43mi\u001b[49m\u001b[43m[\u001b[49m\u001b[43mj\u001b[49m\u001b[38;5;241;43m+\u001b[39;49m\u001b[38;5;241;43m1\u001b[39;49m\u001b[43m]\u001b[49m:\n\u001b[0;32m      9\u001b[0m         \u001b[38;5;28;01mpass\u001b[39;00m\n\u001b[0;32m     10\u001b[0m     \u001b[38;5;28;01melse\u001b[39;00m:\n",
      "\u001b[1;31mIndexError\u001b[0m: string index out of range"
     ]
    }
   ],
   "source": []
  },
  {
   "cell_type": "code",
   "execution_count": 28,
   "id": "acd8fa13-7347-407d-966a-d80f5ce4df8b",
   "metadata": {},
   "outputs": [
    {
     "name": "stdout",
     "output_type": "stream",
     "text": [
      "RED GREN BLUE\n"
     ]
    }
   ],
   "source": [
    "a=\"RED GREEN BLUE\"\n",
    "s=\"\"\n",
    "for i in a:\n",
    "    if s==\"\" or i!=s[len(s)-1]:\n",
    "        s+=i  #ABCDABCSBASDSA\n",
    "print(s)"
   ]
  },
  {
   "cell_type": "code",
   "execution_count": 29,
   "id": "f510db7d-f8c7-49fd-a47b-144c6197c8a8",
   "metadata": {},
   "outputs": [
    {
     "data": {
      "text/plain": [
       "['', '', '', '0000', '0', '0', '0', '0']"
      ]
     },
     "execution_count": 29,
     "metadata": {},
     "output_type": "execute_result"
    }
   ],
   "source": [
    "a=\"111000010101010\"\n",
    "b=a.split(\"1\")\n",
    "b"
   ]
  },
  {
   "cell_type": "code",
   "execution_count": 30,
   "id": "2ca17074-5f9a-4dc2-8b83-63938197c954",
   "metadata": {},
   "outputs": [
    {
     "name": "stdout",
     "output_type": "stream",
     "text": [
      "4\n"
     ]
    }
   ],
   "source": [
    "print(len(max(b)))"
   ]
  },
  {
   "cell_type": "code",
   "execution_count": null,
   "id": "fbcdeb1c-95ca-488b-923a-26070d90782a",
   "metadata": {},
   "outputs": [],
   "source": []
  },
  {
   "cell_type": "code",
   "execution_count": null,
   "id": "c5dcd6ac-cdb4-404b-bdae-effc52907c0a",
   "metadata": {},
   "outputs": [],
   "source": []
  },
  {
   "cell_type": "code",
   "execution_count": null,
   "id": "843dd643-bbe4-48a1-b00f-421ae38d7422",
   "metadata": {},
   "outputs": [],
   "source": []
  },
  {
   "cell_type": "code",
   "execution_count": null,
   "id": "c5229ec5-ec4d-4044-b048-74cf8feca5f1",
   "metadata": {},
   "outputs": [],
   "source": []
  },
  {
   "cell_type": "code",
   "execution_count": null,
   "id": "72ebc814-d561-4322-b6a3-a0979d845187",
   "metadata": {},
   "outputs": [],
   "source": []
  },
  {
   "cell_type": "code",
   "execution_count": null,
   "id": "e08deed7-5c63-40e2-a7b3-9ba2306dff1f",
   "metadata": {},
   "outputs": [],
   "source": []
  },
  {
   "cell_type": "code",
   "execution_count": 5,
   "id": "cf83ad2b-ff42-4dc6-b983-1f02f7bfe1ae",
   "metadata": {},
   "outputs": [
    {
     "name": "stdout",
     "output_type": "stream",
     "text": [
      "a\n"
     ]
    }
   ],
   "source": [
    "a=\"abc\"\n",
    "print(a[:1])"
   ]
  },
  {
   "cell_type": "code",
   "execution_count": null,
   "id": "92684210-ed95-40bd-a466-21b1204a013d",
   "metadata": {},
   "outputs": [],
   "source": [
    "chatgpt questions"
   ]
  },
  {
   "cell_type": "code",
   "execution_count": 9,
   "id": "5ea0a4b5-42f7-46bd-be9d-a14ba9880200",
   "metadata": {},
   "outputs": [
    {
     "name": "stdout",
     "output_type": "stream",
     "text": [
      "abcdef\n"
     ]
    }
   ],
   "source": [
    "a=\"abcdef\"\n",
    "b=\"abcdefxyzklo\"\n",
    "q=0\n",
    "for i in range(len(a)):\n",
    "    s=a[:i+1]\n",
    "    if s in b:\n",
    "        q=s\n",
    "print(q)\n",
    "    \n",
    "    \n"
   ]
  },
  {
   "cell_type": "code",
   "execution_count": 32,
   "id": "ccf9c832-1894-4dc5-af7c-6f08b4280ecd",
   "metadata": {},
   "outputs": [
    {
     "name": "stdout",
     "output_type": "stream",
     "text": [
      "a\n"
     ]
    }
   ],
   "source": [
    "strs = [\"abaacdefgh\",\"aefaa\",\"abcaaefgh\"]\n",
    "l=len(strs)\n",
    "min=len(strs[0])\n",
    "k=0\n",
    "for i in strs:\n",
    "    if len(i)<=min:\n",
    "        min=len(i)\n",
    "        k=i\n",
    "x=len(k)\n",
    "d=0\n",
    "\n",
    "for i in range(x):\n",
    "    count=0\n",
    "    y=k[:i+1]\n",
    "    for i in strs:v\n",
    "        if y in i:\n",
    "            count+=1\n",
    "    if count==l:\n",
    "        d=y\n",
    "if d!=0:\n",
    "    print(d)\n",
    "else:\n",
    "    print(\"\")\n",
    "    "
   ]
  },
  {
   "cell_type": "code",
   "execution_count": 33,
   "id": "17bedaff-5359-4ef9-8e18-5a0dc6cffa33",
   "metadata": {},
   "outputs": [
    {
     "ename": "SyntaxError",
     "evalue": "invalid syntax. Maybe you meant '==' or ':=' instead of '='? (3959041016.py, line 1)",
     "output_type": "error",
     "traceback": [
      "\u001b[1;36m  Cell \u001b[1;32mIn[33], line 1\u001b[1;36m\u001b[0m\n\u001b[1;33m    s=\"ADOBECODEBANC\", t = \"ABC\"\u001b[0m\n\u001b[1;37m    ^\u001b[0m\n\u001b[1;31mSyntaxError\u001b[0m\u001b[1;31m:\u001b[0m invalid syntax. Maybe you meant '==' or ':=' instead of '='?\n"
     ]
    }
   ],
   "source": [
    "s=\"ADOBECODEBANC\", t = \"ABC\""
   ]
  },
  {
   "cell_type": "code",
   "execution_count": 39,
   "id": "99651377-2091-4a9d-afd7-7a72ad49e01b",
   "metadata": {},
   "outputs": [
    {
     "name": "stdout",
     "output_type": "stream",
     "text": [
      "DOB\n",
      "OBA\n",
      "BAE\n",
      "AEC\n",
      "ECO\n",
      "COD\n",
      "ODE\n",
      "DEB\n",
      "EBA\n",
      "BAN\n",
      "ANC\n",
      "NC\n",
      "C\n",
      "DOBA\n",
      "OBAE\n",
      "BAEC\n",
      "AECO\n",
      "ECOD\n",
      "CODE\n",
      "ODEB\n",
      "DEBA\n",
      "EBAN\n",
      "BANC\n",
      "ANC\n",
      "NC\n",
      "C\n",
      "DOBAE\n",
      "OBAEC\n",
      "BAECO\n",
      "AECOD\n",
      "ECODE\n",
      "CODEB\n",
      "ODEBA\n",
      "DEBAN\n",
      "EBANC\n",
      "BANC\n",
      "ANC\n",
      "NC\n",
      "C\n",
      "DOBAEC\n",
      "OBAECO\n",
      "BAECOD\n",
      "AECODE\n",
      "ECODEB\n",
      "CODEBA\n",
      "ODEBAN\n",
      "DEBANC\n",
      "EBANC\n",
      "BANC\n",
      "ANC\n",
      "NC\n",
      "C\n",
      "DOBAECO\n",
      "OBAECOD\n",
      "BAECODE\n",
      "AECODEB\n",
      "ECODEBA\n",
      "CODEBAN\n",
      "ODEBANC\n",
      "DEBANC\n",
      "EBANC\n",
      "BANC\n",
      "ANC\n",
      "NC\n",
      "C\n",
      "DOBAECOD\n",
      "OBAECODE\n",
      "BAECODEB\n",
      "AECODEBA\n",
      "ECODEBAN\n",
      "CODEBANC\n",
      "ODEBANC\n",
      "DEBANC\n",
      "EBANC\n",
      "BANC\n",
      "ANC\n",
      "NC\n",
      "C\n",
      "DOBAECODE\n",
      "OBAECODEB\n",
      "BAECODEBA\n",
      "AECODEBAN\n",
      "ECODEBANC\n",
      "CODEBANC\n",
      "ODEBANC\n",
      "DEBANC\n",
      "EBANC\n",
      "BANC\n",
      "ANC\n",
      "NC\n",
      "C\n",
      "DOBAECODEB\n",
      "OBAECODEBA\n",
      "BAECODEBAN\n",
      "AECODEBANC\n",
      "ECODEBANC\n",
      "CODEBANC\n",
      "ODEBANC\n",
      "DEBANC\n",
      "EBANC\n",
      "BANC\n",
      "ANC\n",
      "NC\n",
      "C\n",
      "DOBAECODEBA\n",
      "OBAECODEBAN\n",
      "BAECODEBANC\n",
      "AECODEBANC\n",
      "ECODEBANC\n",
      "CODEBANC\n",
      "ODEBANC\n",
      "DEBANC\n",
      "EBANC\n",
      "BANC\n",
      "ANC\n",
      "NC\n",
      "C\n",
      "DOBAECODEBAN\n",
      "OBAECODEBANC\n",
      "BAECODEBANC\n",
      "AECODEBANC\n",
      "ECODEBANC\n",
      "CODEBANC\n",
      "ODEBANC\n",
      "DEBANC\n",
      "EBANC\n",
      "BANC\n",
      "ANC\n",
      "NC\n",
      "C\n"
     ]
    }
   ],
   "source": [
    "a=\"DOBAECODEBANC\"\n",
    "t=\"ABC\"\n",
    "s=[]\n",
    "j=len(t)\n",
    "while j<len(a):\n",
    "    for i in range(0,len(a),):\n",
    "        g=a[i:i+j]\n",
    "        for i in t:\n",
    "            if i in a:\n",
    "                \n",
    "            \n",
    "       \n",
    "            s.append(g)\n",
    "    j=j+1\n",
    "\n",
    "    \n",
    "      \n",
    "        \n",
    "            \n",
    "        "
   ]
  },
  {
   "cell_type": "code",
   "execution_count": null,
   "id": "1172993f-6625-4e2b-8dcf-605683c6d062",
   "metadata": {},
   "outputs": [],
   "source": [
    "1)Reverse a String     *****DONE\n",
    "\n",
    "Check if a String is a Palindrome  *****DONE\n",
    "\n",
    "Find the first non-repeated character in a string   ******DONE\n",
    "\n",
    "Implement strstr (substring search)   *****DONE\n",
    "  \n",
    "\n",
    "Anagram Detection   ****DONE\n",
    "\n",
    "Longest Palindromic Substring  ****DONE\n",
    "\n",
    "Count the number of words in a string *******DONE\n",
    "\n",
    "Reverse Words in a String  *************DONE\n",
    "\n",
    "Implement strStr() - Substring in String ********************DONE\n",
    "\n",
    "Multiply Strings\n",
    "==============================================\n",
    "String to Integer (atoi)\n",
    "Implement atoi (String to Integer) function\n",
    "=====================================================\n",
    "\n",
    "============================================\n",
    "Valid Parentheses\n",
    "Valid Palindrome\n",
    "===========================\n",
    "Count and Say\n",
    "Implement Regular Expression Matching\n",
    "============================================================\n",
    "Wildcard Matching\n",
    "Longest Common Prefix\n",
    "Longest Substring Without Repeating Characters\n",
    "===================================================\n",
    "Minimum Window Substring\n",
    "\n",
    "Encode and Decode Strings ==================================stack \n",
    "Group Anagrams\n",
    "\n",
    "Add Binary Strings\n",
    "\n",
    "Integer to Roman\n",
    "Roman to Integer\n",
    "ZigZag Conversion\n",
    "Valid Number\n",
    "Compare Version Numbers\n",
    "Count and Say\n",
    "Longest Common Subsequence\n",
    "Edit Distance\n",
    "Minimum ASCII Delete Sum for Two Strings\n",
    "Longest Increasing Subsequence\n",
    "Implement Trie (Prefix Tree)\n",
    "Word Search\n",
    "Palindrome Pairs\n",
    "Ransom Note\n",
    "Repeated Substring Pattern\n",
    "Minimum Window Subsequence\n",
    "Shortest Palindrome\n",
    "Regular Expression Matching\n",
    "Longest Repeating Substring\n",
    "Word Ladder II\n",
    "String Compression\n",
    "Find the Duplicate Substring\n",
    "Longest Word in Dictionary through Deleting\n",
    "Minimum Add to Make Parentheses Valid\n",
    "Longest Uncommon Subsequence I & II\n",
    "Unique Substrings in Wraparound String\n",
    "Implement Magic Dictionary\n",
    "Longest Word in Dictionary\n",
    "Valid Palindrome II\n",
    "Find and Replace Pattern\n",
    "Palindrome Partitioning\n",
    "Longest Word in Dictionary through Deleting\n",
    "Shortest Word Distance\n",
    "Shortest Word Distance II\n",
    "Shortest Word Distance III\n",
    "Longest Substring with At Most K Distinct Characters\n",
    "Minimum Window Substring\n",
    "Valid Parenthesis String\n",
    "Remove Duplicate Letters\n",
    "Minimum Number of Steps to Make Two Strings Anagram\n",
    "Valid Anagram\n",
    "Shortest Palindrome\n",
    "Implement strStr()\n",
    "Palindrome Permutation\n",
    "Longest Word in Dictionary\n",
    "Implement strStr()\n",
    "Group Shifted Strings\n",
    "Longest Absolute File Path\n",
    "Palindrome Pairs\n",
    "Reverse Words in a String II\n",
    "Count Binary Substrings\n",
    "Regular Expression Parser\n",
    "Expressive Words\n",
    "Reorganize String\n",
    "Number of Matching Subsequences\n",
    "Count Binary Substrings\n",
    "Next Closest Time\n",
    "Implement strStr()\n",
    "Maximum Product of Word Lengths\n",
    "Alien Dictionary\n",
    "Valid Parentheses String\n",
    "Compare Version Numbers\n",
    "Encode and Decode Strings\n",
    "Permutation in String\n",
    "Shortest Word Distance III\n",
    "Simplify Path\n",
    "Word Abbreviation\n",
    "Minimum Window Substring\n",
    "Remove Comments\n",
    "String Compression\n",
    "Unique Email Addresses\n",
    "Valid Palindrome III\n",
    "Find the Closest Palindrome\n",
    "Count Binary Substrings\n",
    "Number of Distinct Islands II\n",
    "Similar RGB Color\n",
    "Palindromic Substrings"
   ]
  },
  {
   "cell_type": "code",
   "execution_count": null,
   "id": "cc67b13c-7152-423e-b6a6-75570bc7e376",
   "metadata": {},
   "outputs": [],
   "source": [
    "\n",
    "\n",
    "\n",
    "#####################"
   ]
  },
  {
   "cell_type": "code",
   "execution_count": 24,
   "id": "ca98e55a-322a-44a5-b9a4-6ec45f730a14",
   "metadata": {},
   "outputs": [
    {
     "name": "stdout",
     "output_type": "stream",
     "text": [
      "['ee']\n",
      "ee\n"
     ]
    }
   ],
   "source": [
    "a=\"fgeeks\"\n",
    "l=[]\n",
    "m=[]\n",
    "for i in range(len(a)): \n",
    "    for j in range(len(a)-i-1):   #4 0123  012\n",
    "        b=len(a)-j-1    #4 3 2 1   4 3\n",
    "        if a[i]==a[b]:\n",
    "            k=a[i:b+1]\n",
    "            if k==k[::-1]:\n",
    "                l.append(k)\n",
    "                m.append(len(k))\n",
    "\n",
    "print(l)\n",
    "s=max(m)\n",
    "k=m.index(s)\n",
    "print(l[0])"
   ]
  },
  {
   "cell_type": "code",
   "execution_count": null,
   "id": "b9b40e4c-a6a3-4ea2-89b3-4cbc287933fc",
   "metadata": {},
   "outputs": [],
   "source": []
  },
  {
   "cell_type": "code",
   "execution_count": null,
   "id": "a046ee96-73d0-48a0-a369-e268ad29b0c8",
   "metadata": {},
   "outputs": [],
   "source": [
    "Input: strs = [\"eat\",\"tea\",\"tan\",\"ate\",\"nat\",\"bat\"]\n",
    "Output: [[\"bat\"],[\"nat\",\"tan\"],[\"ate\",\"eat\",\"tea\"]]"
   ]
  },
  {
   "cell_type": "code",
   "execution_count": 26,
   "id": "17e74daf-4477-49f0-88e0-a632b32b368b",
   "metadata": {},
   "outputs": [
    {
     "name": "stdout",
     "output_type": "stream",
     "text": [
      "['eat', 'tea']\n",
      "[]\n",
      "['eat', 'ate']\n",
      "[]\n",
      "[]\n",
      "[]\n",
      "['tea', 'ate']\n",
      "[]\n",
      "[]\n",
      "[]\n",
      "['tan', 'nat']\n",
      "[]\n",
      "[]\n",
      "[]\n",
      "[]\n"
     ]
    }
   ],
   "source": [
    "strs = [\"eat\",\"tea\",\"tan\",\"ate\",\"nat\",\"bat\"]\n",
    "b=[]\n",
    "c=[]\n",
    "for i in strs:\n",
    "    c+=[0]\n",
    "    \n",
    "for i in range(len(strs)):\n",
    "      for j in range(i+1,len(strs)):\n",
    "          x=[]\n",
    "          count=0\n",
    "          for k in strs[j]:\n",
    "              if k in strs[i]:\n",
    "                  count+=1\n",
    "          if count==len(strs[j]):\n",
    "              x.append(strs[i])\n",
    "              x.append(strs[j])\n",
    "              \n",
    "          print(x)\n",
    "        \n",
    "                  \n",
    "          \n",
    "    \n",
    "    "
   ]
  },
  {
   "cell_type": "code",
   "execution_count": null,
   "id": "502e8aee-5efc-40aa-8e93-63cd3988df40",
   "metadata": {},
   "outputs": [],
   "source": [
    "Implement strStr() - Substring in String"
   ]
  },
  {
   "cell_type": "code",
   "execution_count": 28,
   "id": "b27b06e4-87ee-4558-8bed-fd876418fdb7",
   "metadata": {},
   "outputs": [
    {
     "name": "stdin",
     "output_type": "stream",
     "text": [
      " geeksforgeeks\n",
      " practice\n"
     ]
    },
    {
     "name": "stdout",
     "output_type": "stream",
     "text": [
      "-1\n"
     ]
    }
   ],
   "source": [
    "a=input()\n",
    "b=input()\n",
    "c=len(b)\n",
    "k=0\n",
    "for i in range(len(a)):\n",
    "    if b==a[i:i+c]:\n",
    "        k=i\n",
    "        break\n",
    "if k!=0:\n",
    "    print(i)\n",
    "else:\n",
    "    print(\"-1\")\n",
    "    "
   ]
  },
  {
   "cell_type": "code",
   "execution_count": 30,
   "id": "83a1a9b3-8a1b-49b6-897e-e9f771b4e29a",
   "metadata": {},
   "outputs": [
    {
     "name": "stdout",
     "output_type": "stream",
     "text": [
      "XLIV\n"
     ]
    }
   ],
   "source": [
    "a={\"I\":1,\"IV\":4,\"V\":5,\"IX\":9,\"X\":10,\"XL\":40,\"L\":50,\"XC\":90,\"C\":100,\"CD\":400,\"D\":500,\"CM\":900,\"M\":1000}\n",
    "k=[]\n",
    "num=44\n",
    "for i,j in reversed(a.items()):\n",
    "    while num>0:\n",
    "        if j<=num:\n",
    "            k.append(i)\n",
    "            num-=j\n",
    "        else:\n",
    "            break\n",
    "print(\"\".join(k))"
   ]
  },
  {
   "cell_type": "code",
   "execution_count": 42,
   "id": "2ecabd9b-d749-4e2f-a5fe-a9a4589a5abb",
   "metadata": {},
   "outputs": [
    {
     "name": "stdout",
     "output_type": "stream",
     "text": [
      "-1\n",
      "49\n",
      "39\n"
     ]
    }
   ],
   "source": [
    "str1=\"XLIV\"\n",
    "output=0\n",
    "for i in range(len(str1)-2,-1,-1):\n",
    "    if a[str1[i]]<a[str1[i+1]]:\n",
    "        output=output-a[str1[i]]\n",
    "        print(output)\n",
    "    else:\n",
    "        output=output+a[str1[i]]\n",
    "        print(output)\n"
   ]
  },
  {
   "cell_type": "code",
   "execution_count": 47,
   "id": "f18bf7e1-c21b-4be5-9e0f-00562d49f1a9",
   "metadata": {},
   "outputs": [
    {
     "name": "stdin",
     "output_type": "stream",
     "text": [
      " GEEKSFORGEEKS\n",
      " 3\n"
     ]
    },
    {
     "name": "stdout",
     "output_type": "stream",
     "text": [
      "GSGS\n",
      "EFE\n",
      "EOE\n",
      " GSGSEFEEOE\n"
     ]
    }
   ],
   "source": [
    "a=input()\n",
    "b=int(input())\n",
    "s=\" \"\n",
    "for i in range(b):\n",
    "    k=a[i:len(a):b+1]\n",
    "    print(k)\n",
    "    s=s+k\n",
    "print(s)\n",
    "        \n",
    "\n",
    "\n"
   ]
  },
  {
   "cell_type": "code",
   "execution_count": null,
   "id": "05e75023-4a78-4dea-9e3c-0b6437340f1e",
   "metadata": {},
   "outputs": [],
   "source": []
  }
 ],
 "metadata": {
  "kernelspec": {
   "display_name": "Python 3 (ipykernel)",
   "language": "python",
   "name": "python3"
  },
  "language_info": {
   "codemirror_mode": {
    "name": "ipython",
    "version": 3
   },
   "file_extension": ".py",
   "mimetype": "text/x-python",
   "name": "python",
   "nbconvert_exporter": "python",
   "pygments_lexer": "ipython3",
   "version": "3.11.5"
  }
 },
 "nbformat": 4,
 "nbformat_minor": 5
}
