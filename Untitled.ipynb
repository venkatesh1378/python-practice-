{
 "cells": [
  {
   "cell_type": "code",
   "execution_count": null,
   "id": "515d9b29-50e8-4d33-9024-41c510630a21",
   "metadata": {},
   "outputs": [],
   "source": [
    "1. Write a Python program to create a tuple."
   ]
  },
  {
   "cell_type": "code",
   "execution_count": 1,
   "id": "d5d6f6e5-3556-4aeb-bfd4-9801f6667cd9",
   "metadata": {},
   "outputs": [
    {
     "name": "stdout",
     "output_type": "stream",
     "text": [
      "(1, 2, 3)\n",
      "<class 'tuple'>\n"
     ]
    }
   ],
   "source": [
    "a=(1,2,3)\n",
    "print(a)\n",
    "print(type(a))"
   ]
  },
  {
   "cell_type": "code",
   "execution_count": null,
   "id": "dc86e685-03f6-4c1d-a98e-2a90f716cf8b",
   "metadata": {},
   "outputs": [],
   "source": [
    "2. Write a Python program to create a tuple with different data types."
   ]
  },
  {
   "cell_type": "code",
   "execution_count": 2,
   "id": "c5e7fd61-d10e-4072-91a4-d3d0ddc0cb16",
   "metadata": {},
   "outputs": [
    {
     "name": "stdout",
     "output_type": "stream",
     "text": [
      "(1, 2.3, 'hello', None)\n"
     ]
    }
   ],
   "source": [
    "a=(1,2.3,\"hello\",None)\n",
    "print(a)"
   ]
  },
  {
   "cell_type": "code",
   "execution_count": null,
   "id": "f89d97f3-4cc3-4fb6-b469-fedc597ea608",
   "metadata": {},
   "outputs": [],
   "source": [
    "3. Write a Python program to create a tuple of numbers and print one item."
   ]
  },
  {
   "cell_type": "code",
   "execution_count": 3,
   "id": "f6fac085-b399-4ef2-a862-6a4b77609f02",
   "metadata": {},
   "outputs": [
    {
     "name": "stdout",
     "output_type": "stream",
     "text": [
      "(1,)\n"
     ]
    }
   ],
   "source": [
    "a=(1,2,3)\n",
    "b=(1,)\n",
    "print(b)"
   ]
  },
  {
   "cell_type": "code",
   "execution_count": null,
   "id": "09697d5b-20f7-4e56-a9cc-a628c57189e9",
   "metadata": {},
   "outputs": [],
   "source": [
    "4. Write a Python program to unpack a tuple into several variables."
   ]
  },
  {
   "cell_type": "code",
   "execution_count": 5,
   "id": "08206ea2-b824-46fc-ac9a-3d97371b95ba",
   "metadata": {},
   "outputs": [
    {
     "name": "stdout",
     "output_type": "stream",
     "text": [
      "15\n"
     ]
    }
   ],
   "source": [
    "tuplex = 4, 8, 3\n",
    "a,b,c=tuplex\n",
    "print(a+b+c)"
   ]
  },
  {
   "cell_type": "code",
   "execution_count": null,
   "id": "b14724fd-4bca-424e-8179-63ee7d076f87",
   "metadata": {},
   "outputs": [],
   "source": [
    "5. Write a Python program to add an item to a tuple.\n"
   ]
  },
  {
   "cell_type": "code",
   "execution_count": 6,
   "id": "dfe97fe1-36f9-4b59-9667-94d97f315596",
   "metadata": {},
   "outputs": [
    {
     "name": "stdout",
     "output_type": "stream",
     "text": [
      "(1, 2, 3, 4)\n"
     ]
    }
   ],
   "source": [
    "a=(1,2,3)\n",
    "b=(4,)\n",
    "print(a+b)"
   ]
  },
  {
   "cell_type": "code",
   "execution_count": null,
   "id": "e88d3799-4c36-42f8-97e2-a47db6fc85ca",
   "metadata": {},
   "outputs": [],
   "source": [
    "6. Write a Python program to convert a tuple to a string."
   ]
  },
  {
   "cell_type": "code",
   "execution_count": 10,
   "id": "c07bb87c-5bc9-4840-9778-89d35fa03054",
   "metadata": {},
   "outputs": [
    {
     "name": "stdout",
     "output_type": "stream",
     "text": [
      "abc"
     ]
    }
   ],
   "source": [
    "a=('a','b','c')\n",
    "b=''.join(a)\n",
    "b\n",
    "for i in b:\n",
    "    print(i,end=\"\")"
   ]
  },
  {
   "cell_type": "code",
   "execution_count": null,
   "id": "e32a23ac-d4d2-4866-a5e3-badf24999cd3",
   "metadata": {},
   "outputs": [],
   "source": [
    "7. Write a Python program to get the 4th element from the last element of a tuple."
   ]
  },
  {
   "cell_type": "code",
   "execution_count": 11,
   "id": "53d80fd2-e714-492b-8088-5089d1730370",
   "metadata": {},
   "outputs": [
    {
     "name": "stdout",
     "output_type": "stream",
     "text": [
      "e\n",
      "u\n"
     ]
    }
   ],
   "source": [
    "tuplex = (\"w\", 3, \"r\", \"e\", \"s\", \"o\", \"u\", \"r\", \"c\", \"e\")\n",
    "print(tuplex[3])\n",
    "print(tuplex[-4])"
   ]
  },
  {
   "cell_type": "code",
   "execution_count": null,
   "id": "3ebe1d14-be38-4724-b92d-de2f9d7db9fc",
   "metadata": {},
   "outputs": [],
   "source": [
    "8. Write a Python program to create the colon of a tuple."
   ]
  },
  {
   "cell_type": "code",
   "execution_count": null,
   "id": "18479922-7479-4bb5-bbfc-e0b412c854a3",
   "metadata": {},
   "outputs": [],
   "source": []
  },
  {
   "cell_type": "code",
   "execution_count": null,
   "id": "af77a634-f662-4952-8e19-d2b2d9ace71d",
   "metadata": {},
   "outputs": [],
   "source": [
    "9.Write a Python program to find repeated items in a tuple."
   ]
  },
  {
   "cell_type": "code",
   "execution_count": 21,
   "id": "a65b2d56-845a-4d68-ae1c-f4ba488b6065",
   "metadata": {},
   "outputs": [
    {
     "data": {
      "text/plain": [
       "{2, 4}"
      ]
     },
     "execution_count": 21,
     "metadata": {},
     "output_type": "execute_result"
    }
   ],
   "source": [
    "a= (2, 4, 5, 6, 2, 3, 4, 4, 7)\n",
    "k=set()\n",
    "for i in range(len(a)):\n",
    "    for j in range(i+1,len(a)):\n",
    "        if a[i]==a[j]:\n",
    "            k.add(a[i])\n",
    "            break\n",
    "k\n"
   ]
  },
  {
   "cell_type": "code",
   "execution_count": null,
   "id": "42c9cceb-39ba-4937-9828-da2073ee536f",
   "metadata": {},
   "outputs": [],
   "source": [
    "10. Write a Python program to check whether an element exists within a tuple."
   ]
  },
  {
   "cell_type": "code",
   "execution_count": 22,
   "id": "f00fffcf-b17d-42a8-a027-a0e793e05f2d",
   "metadata": {},
   "outputs": [
    {
     "name": "stdout",
     "output_type": "stream",
     "text": [
      "True\n"
     ]
    }
   ],
   "source": [
    "a=1,2,3,4\n",
    "if 2 in a:\n",
    "    print(True)\n",
    "else:\n",
    "    print(False)"
   ]
  },
  {
   "cell_type": "code",
   "execution_count": null,
   "id": "467d3d66-c692-4677-8d9a-7ec2bea42a32",
   "metadata": {},
   "outputs": [],
   "source": [
    "11. Write a Python program to convert a list to a tuple."
   ]
  },
  {
   "cell_type": "code",
   "execution_count": 23,
   "id": "3f1b0f36-1c5b-4dff-ac8c-90b82becba78",
   "metadata": {},
   "outputs": [
    {
     "data": {
      "text/plain": [
       "(1, 2, 3, 4)"
      ]
     },
     "execution_count": 23,
     "metadata": {},
     "output_type": "execute_result"
    }
   ],
   "source": [
    "a=[1,2,3,4]\n",
    "b=tuple(a)\n",
    "b"
   ]
  },
  {
   "cell_type": "code",
   "execution_count": 26,
   "id": "304e8c14-59d5-48ee-a9cf-356dc0f2a16f",
   "metadata": {},
   "outputs": [
    {
     "ename": "SyntaxError",
     "evalue": "invalid syntax (3623969472.py, line 1)",
     "output_type": "error",
     "traceback": [
      "\u001b[1;36m  Cell \u001b[1;32mIn[26], line 1\u001b[1;36m\u001b[0m\n\u001b[1;33m    12. Write a Python program to remove an item from a tuple.\u001b[0m\n\u001b[1;37m        ^\u001b[0m\n\u001b[1;31mSyntaxError\u001b[0m\u001b[1;31m:\u001b[0m invalid syntax\n"
     ]
    }
   ],
   "source": [
    "12. Write a Python program to remove an item from a tuple."
   ]
  },
  {
   "cell_type": "code",
   "execution_count": 24,
   "id": "adee2973-8f5e-4fa0-a217-e8955ced2ef3",
   "metadata": {},
   "outputs": [
    {
     "name": "stdin",
     "output_type": "stream",
     "text": [
      " 4\n"
     ]
    },
    {
     "name": "stdout",
     "output_type": "stream",
     "text": [
      "(1, 2, 3, 5, 6, 7)\n"
     ]
    }
   ],
   "source": [
    "a=(1,2,3,4,5,6,7)\n",
    "b=a.index(int(input()))\n",
    "print(a[:b]+a[b+1:])"
   ]
  },
  {
   "cell_type": "code",
   "execution_count": null,
   "id": "049b5727-7489-40d3-bade-7366e5e7f55b",
   "metadata": {},
   "outputs": [],
   "source": [
    "13. Write a Python program to slice a tuple."
   ]
  },
  {
   "cell_type": "code",
   "execution_count": 25,
   "id": "ba6f17f1-790c-4c68-bed6-138b8ec58fdd",
   "metadata": {},
   "outputs": [
    {
     "name": "stdout",
     "output_type": "stream",
     "text": [
      "(3, 5, 4, 6, 7, 8)\n"
     ]
    }
   ],
   "source": [
    "tuplex = (2, 4, 3, 5, 4, 6, 7, 8, 6, 1)\n",
    "print(tuplex[2:8])"
   ]
  },
  {
   "cell_type": "code",
   "execution_count": null,
   "id": "a443499d-a571-4af0-af05-76b0110c6308",
   "metadata": {},
   "outputs": [],
   "source": [
    "14. Write a Python program to find the index of an item in a tuple."
   ]
  },
  {
   "cell_type": "code",
   "execution_count": 28,
   "id": "c016c506-7ebb-45b6-aaeb-ac488638e33c",
   "metadata": {},
   "outputs": [
    {
     "data": {
      "text/plain": [
       "7"
      ]
     },
     "execution_count": 28,
     "metadata": {},
     "output_type": "execute_result"
    }
   ],
   "source": [
    "tuplex = (2, 4, 3, 5, 4, 6, 7, 8, 6, 1)\n",
    "tuplex.index(8)"
   ]
  },
  {
   "cell_type": "code",
   "execution_count": null,
   "id": "42316817-7cb4-4583-8b17-6731f4173e5c",
   "metadata": {},
   "outputs": [],
   "source": [
    "15. Write a Python program to find the length of a tuple."
   ]
  },
  {
   "cell_type": "code",
   "execution_count": 29,
   "id": "1f84d341-50e6-4b04-a783-c8eb0dd1f3dc",
   "metadata": {},
   "outputs": [
    {
     "data": {
      "text/plain": [
       "10"
      ]
     },
     "execution_count": 29,
     "metadata": {},
     "output_type": "execute_result"
    }
   ],
   "source": [
    "tuplex = (2, 4, 3, 5, 4, 6, 7, 8, 6, 1)\n",
    "a=len(tuplex)\n",
    "a"
   ]
  },
  {
   "cell_type": "code",
   "execution_count": null,
   "id": "bea3cc78-d83f-4c62-9931-2d70be22a0b0",
   "metadata": {},
   "outputs": [],
   "source": [
    "16. Write a Python program to convert a tuple to a dictionary."
   ]
  },
  {
   "cell_type": "code",
   "execution_count": 33,
   "id": "c3f5db13-7e6c-4e9c-a9bb-cfcb70d026be",
   "metadata": {},
   "outputs": [
    {
     "name": "stdout",
     "output_type": "stream",
     "text": [
      "{'w': 2, 'r': 3}\n"
     ]
    }
   ],
   "source": [
    "t= ((2, \"w\"), (3, \"r\"))\n",
    "print(dict((x,y) for y,x in t))"
   ]
  },
  {
   "cell_type": "code",
   "execution_count": 36,
   "id": "3fa214e0-9b6d-4be9-bb9f-bc327eb25445",
   "metadata": {},
   "outputs": [
    {
     "data": {
      "text/plain": [
       "{'w': 2, 'r': 3}"
      ]
     },
     "execution_count": 36,
     "metadata": {},
     "output_type": "execute_result"
    }
   ],
   "source": [
    "a= ((2, \"w\"), (3, \"r\"))\n",
    "x={}\n",
    "\n",
    "for (j,k) in a:\n",
    "        x[k]=j\n",
    "x\n",
    "        "
   ]
  },
  {
   "cell_type": "code",
   "execution_count": null,
   "id": "2341748c-f983-423e-99ae-4b4a770cac23",
   "metadata": {},
   "outputs": [],
   "source": [
    "17. Write a Python program to unzip a list of tuples into individual lists."
   ]
  },
  {
   "cell_type": "code",
   "execution_count": 37,
   "id": "e2d79767-3aa7-405c-89ef-5bc35353579a",
   "metadata": {},
   "outputs": [
    {
     "name": "stdout",
     "output_type": "stream",
     "text": [
      "(1, 3, 8)\n",
      "(2, 4, 9)\n"
     ]
    }
   ],
   "source": [
    "l = [(1, 2), (3, 4), (8, 9)]\n",
    "for i in zip(*l):\n",
    "    print(i)"
   ]
  },
  {
   "cell_type": "code",
   "execution_count": null,
   "id": "8bd094b7-60b6-43a0-b0f2-8d73279194e3",
   "metadata": {},
   "outputs": [],
   "source": [
    "18. Write a Python program to reverse a tuple."
   ]
  },
  {
   "cell_type": "code",
   "execution_count": 38,
   "id": "4ea2ce4f-d9ec-4163-9fa5-736f60565a31",
   "metadata": {},
   "outputs": [
    {
     "data": {
      "text/plain": [
       "(1, 6, 8, 7, 6, 4, 5, 3, 4, 2)"
      ]
     },
     "execution_count": 38,
     "metadata": {},
     "output_type": "execute_result"
    }
   ],
   "source": [
    "t= (2, 4, 3, 5, 4, 6, 7, 8, 6, 1)\n",
    "t[::-1]"
   ]
  },
  {
   "cell_type": "code",
   "execution_count": null,
   "id": "92b609c7-cb4a-4c44-9c6e-cf544c536c36",
   "metadata": {},
   "outputs": [],
   "source": [
    "19. Write a Python program to convert a list of tuples into a dictionary."
   ]
  },
  {
   "cell_type": "code",
   "execution_count": 41,
   "id": "10b32518-6c41-46fb-99e9-a55bb3a7e474",
   "metadata": {},
   "outputs": [
    {
     "data": {
      "text/plain": [
       "{'x': [1, 2, 3], 'y': [1, 2], 'z': [1]}"
      ]
     },
     "execution_count": 41,
     "metadata": {},
     "output_type": "execute_result"
    }
   ],
   "source": [
    "l = [(\"x\", 1), (\"x\", 2), (\"x\", 3), (\"y\", 1), (\"y\", 2), (\"z\", 1)]\n",
    "k={}\n",
    "for (i,j) in l:\n",
    "    if i not in k:\n",
    "        k[i]=[j]\n",
    "    else:\n",
    "        k[i]+=[j]\n",
    "k"
   ]
  },
  {
   "cell_type": "code",
   "execution_count": null,
   "id": "f8cd35a6-fbac-4a7a-b86d-49af64b4e9ed",
   "metadata": {},
   "outputs": [],
   "source": [
    "20. Write a Python program to print a tuple with string formatting.\n",
    "Sample tuple : (100, 200, 300)\n",
    "Output : This is a tuple (100, 200, 300)"
   ]
  },
  {
   "cell_type": "code",
   "execution_count": 42,
   "id": "2b20b926-278a-4027-90a0-953f363c6638",
   "metadata": {},
   "outputs": [
    {
     "name": "stdout",
     "output_type": "stream",
     "text": [
      "This is a tuple (100, 200, 300)\n"
     ]
    }
   ],
   "source": [
    "t = (100, 200, 300)\n",
    "print(\"This is a tuple {}\".format(t))"
   ]
  },
  {
   "cell_type": "code",
   "execution_count": null,
   "id": "2fbb0218-0c40-41cb-80ec-5921c98d6ab0",
   "metadata": {},
   "outputs": [],
   "source": [
    "21. Write a Python program to replace the last value of tuples in a list.\n",
    "Sample list: [(10, 20, 40), (40, 50, 60), (70, 80, 90)]\n",
    "Expected Output: [(10, 20, 100), (40, 50, 100), (70, 80, 100)]"
   ]
  },
  {
   "cell_type": "code",
   "execution_count": 46,
   "id": "a1a02e26-11a9-4183-87f7-b17c1f20284c",
   "metadata": {},
   "outputs": [
    {
     "data": {
      "text/plain": [
       "[(10, 20, 100), (40, 50, 100), (70, 80, 100)]"
      ]
     },
     "execution_count": 46,
     "metadata": {},
     "output_type": "execute_result"
    }
   ],
   "source": [
    "a=[(10, 20, 40), (40, 50, 60), (70, 80, 90)]\n",
    "k1=[]\n",
    "for (i,j,k) in a:\n",
    "    k=100\n",
    "    k1.append((i,j,k))\n",
    "k1\n",
    "    "
   ]
  },
  {
   "cell_type": "code",
   "execution_count": null,
   "id": "07fc28fa-62c0-42c1-8470-7df3babfef8e",
   "metadata": {},
   "outputs": [],
   "source": [
    "22. Write a Python program to remove an empty tuple(s) from a list of tuples.\n",
    "Sample data: [(), (), ('',), ('a', 'b'), ('a', 'b', 'c'), ('d')]\n",
    "Expected output: [('',), ('a', 'b'), ('a', 'b', 'c'), 'd']\n"
   ]
  },
  {
   "cell_type": "code",
   "execution_count": 45,
   "id": "1d081b0d-b3ab-4104-898f-44bbdf7d0f7d",
   "metadata": {},
   "outputs": [
    {
     "data": {
      "text/plain": [
       "[('',), ('a', 'b'), ('a', 'b', 'c'), 'd']"
      ]
     },
     "execution_count": 45,
     "metadata": {},
     "output_type": "execute_result"
    }
   ],
   "source": [
    "a=[(), (), ('',), ('a', 'b'), ('a', 'b', 'c'), ('d')]\n",
    "k=[]\n",
    "for i in a:\n",
    "    if len(i)!=0:\n",
    "        k.append(i)\n",
    "k\n",
    "    "
   ]
  },
  {
   "cell_type": "code",
   "execution_count": null,
   "id": "2d8fe124-4db8-4d3a-835d-4c3ec29bf7c3",
   "metadata": {},
   "outputs": [],
   "source": [
    "23. Write a Python program to sort a tuple by its float element.\n",
    "Sample data: [('item1', '12.20'), ('item2', '15.10'), ('item3', '24.5')]\n",
    "Expected Output: [('item3', '24.5'), ('item2', '15.10'), ('item1', '12.20')]"
   ]
  },
  {
   "cell_type": "code",
   "execution_count": 56,
   "id": "1d011100-31ac-41c2-bba8-4a89afe70c8e",
   "metadata": {},
   "outputs": [
    {
     "name": "stdout",
     "output_type": "stream",
     "text": [
      "[12.2, 15.1, 24.5]\n",
      "2\n",
      "1\n",
      "0\n",
      "[('item3', '24.5'), ('item2', '15.10'), ('item1', '12.20')]\n"
     ]
    }
   ],
   "source": [
    "a=[('item1', '12.20'), ('item2', '15.10'), ('item3', '24.5')]\n",
    "x=[]\n",
    "b=[]\n",
    "for (i,j) in a:\n",
    "    b.append(float(j))\n",
    "print(b)\n",
    "c=sorted(b,reverse=True)\n",
    "for i in c:\n",
    "    k=b.index(i)\n",
    "    print(k)\n",
    "    x.append((a[k]))\n",
    "print(x)\n"
   ]
  },
  {
   "cell_type": "code",
   "execution_count": null,
   "id": "11e8e8b4-f2a3-4f97-922d-792392e560b6",
   "metadata": {},
   "outputs": [],
   "source": [
    "24. Write a Python program to count the elements in a list until an element is a tuple."
   ]
  },
  {
   "cell_type": "code",
   "execution_count": 57,
   "id": "6408a341-43ed-45d9-acc8-b58fca11e7d7",
   "metadata": {},
   "outputs": [
    {
     "data": {
      "text/plain": [
       "3"
      ]
     },
     "execution_count": 57,
     "metadata": {},
     "output_type": "execute_result"
    }
   ],
   "source": [
    "num = [10, 20, 30, (10, 20), 40]\n",
    "count=0\n",
    "for i in num:\n",
    "    if type(i) is tuple:\n",
    "        break\n",
    "    else:\n",
    "        count+=1\n",
    "count\n"
   ]
  },
  {
   "cell_type": "code",
   "execution_count": null,
   "id": "4e179aa9-09f3-46d6-9d21-a9d04468e56f",
   "metadata": {},
   "outputs": [],
   "source": [
    "25. Write a Python program to convert a given string list to a tuple.\n",
    "Original string: python 3.0\n",
    "<class 'str'>\n",
    "Convert the said string to a tuple:\n",
    "('p', 'y', 't', 'h', 'o', 'n', '3', '.', '0')\n",
    "<class 'tuple'>"
   ]
  },
  {
   "cell_type": "code",
   "execution_count": 59,
   "id": "c1ce36f2-069d-46ce-a4e9-2c53225fe571",
   "metadata": {},
   "outputs": [
    {
     "name": "stdout",
     "output_type": "stream",
     "text": [
      "('p', 'y', 't', 'h', 'o', 'n', '3', '.', '0')\n"
     ]
    }
   ],
   "source": [
    "a=\"python3.0\"\n",
    "print(tuple(a))\n"
   ]
  },
  {
   "cell_type": "code",
   "execution_count": null,
   "id": "529792aa-7378-4cf6-8bb5-54d95d9534f2",
   "metadata": {},
   "outputs": [],
   "source": [
    "26. Write a Python program to calculate the product, multiplying all the numbers in a given tuple.\n",
    "Original Tuple:\n",
    "(4, 3, 2, 2, -1, 18)\n",
    "Product - multiplying all the numbers of the said tuple: -864\n",
    "Original Tuple:\n",
    "(2, 4, 8, 8, 3, 2, 9)\n",
    "Product - multiplying all the numbers of the said tuple: 27648"
   ]
  },
  {
   "cell_type": "code",
   "execution_count": 61,
   "id": "66810a26-ded3-44ff-b240-9ad1bcc03ebc",
   "metadata": {},
   "outputs": [
    {
     "data": {
      "text/plain": [
       "27648"
      ]
     },
     "execution_count": 61,
     "metadata": {},
     "output_type": "execute_result"
    }
   ],
   "source": [
    "a=(2, 4, 8, 8, 3, 2, 9)\n",
    "k=1\n",
    "for i in a:\n",
    "    k=k*i\n",
    "k"
   ]
  },
  {
   "cell_type": "code",
   "execution_count": null,
   "id": "901bcf26-316f-428d-9d9c-8eb0346f3999",
   "metadata": {},
   "outputs": [],
   "source": [
    "7. Write a Python program to calculate the average value of the numbers in a given tuple of tuples.\n",
    "Original Tuple:\n",
    "((10, 10, 10, 12), (30, 45, 56, 45), (81, 80, 39, 32), (1, 2, 3, 4))\n",
    "Average value of the numbers of the said tuple of tuples:\n",
    "[30.5, 34.25, 27.0, 23.25]\n",
    "Original Tuple:\n",
    "((1, 1, -5), (30, -15, 56), (81, -60, -39), (-10, 2, 3))\n",
    "Average value of the numbers of the said tuple of tuples:\n",
    "[25.5, -18.0, 3.75]"
   ]
  },
  {
   "cell_type": "code",
   "execution_count": 64,
   "id": "3bcff868-9da2-44fe-a5a7-cd8ab008fefa",
   "metadata": {},
   "outputs": [
    {
     "name": "stdout",
     "output_type": "stream",
     "text": [
      "10.5\n",
      "44.0\n",
      "58.0\n",
      "2.5\n"
     ]
    }
   ],
   "source": [
    "a=((10, 10, 10, 12), (30, 45, 56, 45), (81, 80, 39, 32), (1, 2, 3, 4))\n",
    "q=[]\n",
    "for i in a:\n",
    "    s=len(i)\n",
    "    k=sum(i)\n",
    "    print(k/s)\n",
    "\n",
    "    "
   ]
  },
  {
   "cell_type": "code",
   "execution_count": null,
   "id": "c09b4b1b-79d9-424a-8f72-18a65c2e5915",
   "metadata": {},
   "outputs": [],
   "source": [
    "28. Write a Python program to convert a tuple of string values to a tuple of integer values.\n",
    "Original tuple values:\n",
    "(('333', '33'), ('1416', '55'))\n",
    "New tuple values:\n",
    "((333, 33), (1416, 55))"
   ]
  },
  {
   "cell_type": "code",
   "execution_count": 79,
   "id": "1c1c645a-2e87-4afa-8984-e2fcbc5a4963",
   "metadata": {},
   "outputs": [
    {
     "data": {
      "text/plain": [
       "((333, 33), (1416, 55))"
      ]
     },
     "execution_count": 79,
     "metadata": {},
     "output_type": "execute_result"
    }
   ],
   "source": [
    "a=(('333', '33'), ('1416', '55'))\n",
    "b=[]\n",
    "for i in a:\n",
    "    k=[]\n",
    "    for j in i:\n",
    "        k+=[int(j)]\n",
    "    b.append(tuple(k))\n",
    "tuple(b)"
   ]
  },
  {
   "cell_type": "code",
   "execution_count": null,
   "id": "ff138612-01c5-4767-ae29-b3fc2443c42c",
   "metadata": {},
   "outputs": [],
   "source": [
    "29. Write a Python program to convert a given tuple of positive integers into an integer.\n",
    "Original tuple:\n",
    "(1, 2, 3)\n",
    "Convert the said tuple of positive integers into an integer:\n",
    "123\n",
    "Original tuple:\n",
    "(10, 20, 40, 5, 70)\n",
    "Convert the said tuple of positive integers into an integer:\n",
    "102040570"
   ]
  },
  {
   "cell_type": "code",
   "execution_count": 68,
   "id": "b155a138-a275-441a-a2bc-93b1add32ca1",
   "metadata": {},
   "outputs": [
    {
     "name": "stdout",
     "output_type": "stream",
     "text": [
      "12345\n"
     ]
    }
   ],
   "source": [
    "a=(1, 2, 3,4,5)\n",
    "b=\"\"\n",
    "for i in a:\n",
    "    b+=str(i)\n",
    "print(int(b))"
   ]
  },
  {
   "cell_type": "code",
   "execution_count": null,
   "id": "c0ff6786-66cc-4e1b-b0db-bc423aeb5cfc",
   "metadata": {},
   "outputs": [],
   "source": [
    "30. Write a Python program to check if a specified element appears in a tuple of tuples.\n",
    "Original list:\n",
    "(('Red', 'White', 'Blue'), ('Green', 'Pink', 'Purple'), ('Orange', 'Yellow', 'Lime'))\n",
    "Check if White presenet in said tuple of tuples!\n",
    "True\n",
    "Check if White presenet in said tuple of tuples!\n",
    "True\n",
    "Check if Olive presenet in said tuple of tuples!\n",
    "False"
   ]
  },
  {
   "cell_type": "code",
   "execution_count": 71,
   "id": "092995ca-1cc6-40a6-b394-308a0f6282ac",
   "metadata": {},
   "outputs": [
    {
     "name": "stdin",
     "output_type": "stream",
     "text": [
      " White\n"
     ]
    },
    {
     "name": "stdout",
     "output_type": "stream",
     "text": [
      "True\n"
     ]
    }
   ],
   "source": [
    "a=(('Red', 'White', 'Blue'), ('Green', 'Pink', 'Purple'), ('Orange', 'Yellow', 'Lime'))\n",
    "b=input()\n",
    "for i in a:\n",
    "    if b in i:\n",
    "        print(\"True\")\n",
    "        break\n",
    "    else:\n",
    "        print(\"False\")\n",
    "        break"
   ]
  },
  {
   "cell_type": "code",
   "execution_count": null,
   "id": "13a8154e-6300-480f-b5ea-6ab9ccf4ce3c",
   "metadata": {},
   "outputs": [],
   "source": [
    "31. Write a Python program to compute the element-wise sum of given tuples.\n",
    "Original lists:\n",
    "(1, 2, 3, 4)\n",
    "(3, 5, 2, 1)\n",
    "(2, 2, 3, 1)\n",
    "Element-wise sum of the said tuples:\n",
    "(6, 9, 8, 6)"
   ]
  },
  {
   "cell_type": "code",
   "execution_count": 74,
   "id": "47c5076e-1046-4509-807e-c33eb48fc93c",
   "metadata": {},
   "outputs": [
    {
     "data": {
      "text/plain": [
       "(6, 9, 8, 6)"
      ]
     },
     "execution_count": 74,
     "metadata": {},
     "output_type": "execute_result"
    }
   ],
   "source": [
    "a=(1, 2, 3, 4)\n",
    "b=(3, 5, 2, 1)\n",
    "c=(2, 2, 3, 1)\n",
    "d=[]\n",
    "for i,j,k in zip(a,b,c):\n",
    "    d.append(i+j+k)\n",
    "tuple(d)"
   ]
  },
  {
   "cell_type": "code",
   "execution_count": null,
   "id": "80ced17b-f1a8-4ad4-a5b5-7977d428599c",
   "metadata": {},
   "outputs": [],
   "source": [
    "32. Write a Python program to compute the sum of all the elements of each tuple stored inside a list of tuples.\n",
    "Original list of tuples:\n",
    "[(1, 2), (2, 3), (3, 4)]\n",
    "Sum of all the elements of each tuple stored inside the said list of tuples:\n",
    "[3, 5, 7]\n",
    "Original list of tuples:\n",
    "[(1, 2, 6), (2, 3, -6), (3, 4), (2, 2, 2, 2)]\n",
    "Sum of all the elements of each tuple stored inside the said list of tuples:\n",
    "[9, -1, 7, 8]"
   ]
  },
  {
   "cell_type": "code",
   "execution_count": 75,
   "id": "427fc6c1-5b2c-4528-919d-a70cfb654fd1",
   "metadata": {},
   "outputs": [
    {
     "data": {
      "text/plain": [
       "[3, 5, 7]"
      ]
     },
     "execution_count": 75,
     "metadata": {},
     "output_type": "execute_result"
    }
   ],
   "source": [
    "a=[(1, 2), (2, 3), (3, 4)]\n",
    "b=[]\n",
    "for i in a:\n",
    "    b.append(sum(i))\n",
    "b"
   ]
  },
  {
   "cell_type": "code",
   "execution_count": null,
   "id": "094ee179-93f1-4d3d-9c0a-810f714d4dde",
   "metadata": {},
   "outputs": [],
   "source": [
    "33. Write a Python program to convert a given list of tuples to a list of lists.\n",
    "Original list of tuples: [(1, 2), (2, 3), (3, 4)]\n",
    "Convert the said list of tuples to a list of lists: [[1, 2], [2, 3], [3, 4]]\n",
    "Original list of tuples: [(1, 2), (2, 3, 5), (3, 4), (2, 3, 4, 2)]\n",
    "Convert the said list of tuples to a list of lists: [[1, 2], [2, 3, 5], [3, 4], [2, 3, 4, 2]]"
   ]
  },
  {
   "cell_type": "code",
   "execution_count": 76,
   "id": "662f9e99-2f1b-4f36-a92c-3226eeff08d9",
   "metadata": {},
   "outputs": [
    {
     "data": {
      "text/plain": [
       "[[1, 2], [2, 3], [3, 4]]"
      ]
     },
     "execution_count": 76,
     "metadata": {},
     "output_type": "execute_result"
    }
   ],
   "source": [
    "a=[(1, 2), (2, 3), (3, 4)]\n",
    "b=[]\n",
    "for i in a:\n",
    "    b.append(list(i))\n",
    "b"
   ]
  },
  {
   "cell_type": "code",
   "execution_count": null,
   "id": "36899125-5ca2-4721-8298-e7dd76c12647",
   "metadata": {},
   "outputs": [],
   "source": []
  }
 ],
 "metadata": {
  "kernelspec": {
   "display_name": "Python 3 (ipykernel)",
   "language": "python",
   "name": "python3"
  },
  "language_info": {
   "codemirror_mode": {
    "name": "ipython",
    "version": 3
   },
   "file_extension": ".py",
   "mimetype": "text/x-python",
   "name": "python",
   "nbconvert_exporter": "python",
   "pygments_lexer": "ipython3",
   "version": "3.11.5"
  }
 },
 "nbformat": 4,
 "nbformat_minor": 5
}
