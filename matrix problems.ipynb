{
 "cells": [
  {
   "cell_type": "code",
   "execution_count": 6,
   "id": "4a25bbe7-dc25-4b0a-af84-abc226468845",
   "metadata": {},
   "outputs": [
    {
     "name": "stdin",
     "output_type": "stream",
     "text": [
      " 2\n",
      " 3\n",
      " 1\n",
      " 2\n",
      " 3\n",
      " 4\n",
      " 5\n",
      " 6\n"
     ]
    },
    {
     "data": {
      "text/plain": [
       "[[1, 2, 3], [4, 5, 6]]"
      ]
     },
     "execution_count": 6,
     "metadata": {},
     "output_type": "execute_result"
    }
   ],
   "source": [
    "a=[]\n",
    "b=int(input())\n",
    "k=int(input())\n",
    "for i in range(b):\n",
    "    x=[]\n",
    "    for i in range(k):\n",
    "        d=int(input())\n",
    "        x.append(d)\n",
    "    a.append(x)\n",
    "a"
   ]
  },
  {
   "cell_type": "code",
   "execution_count": 17,
   "id": "1d758323-0a07-43f8-8977-58f24c902e08",
   "metadata": {},
   "outputs": [
    {
     "name": "stdin",
     "output_type": "stream",
     "text": [
      " 3\n",
      " 3\n",
      " 1\n",
      " 2\n",
      " 3\n",
      " 4\n",
      " 5\n",
      " 6\n",
      " 7\n",
      " 8\n",
      " 9\n"
     ]
    },
    {
     "name": "stdout",
     "output_type": "stream",
     "text": [
      "[[1, 2, 3], [4, 5, 6], [7, 8, 9]]\n",
      "[[1, 4, 7]]\n",
      "[[1, 4, 7], [2, 5, 8]]\n",
      "[[1, 4, 7], [2, 5, 8], [3, 6, 9]]\n"
     ]
    }
   ],
   "source": [
    "#transpose of matrix\n",
    "a=[]\n",
    "b=int(input())\n",
    "k=int(input())\n",
    "for i in range(b):\n",
    "    x=[]\n",
    "    for i in range(k):\n",
    "        d=int(input())\n",
    "        x.append(d)\n",
    "    a.append(x)\n",
    "print(a)\n",
    "p=[]\n",
    "for i in range(b):\n",
    "    y=[]\n",
    "    for j in range(k):\n",
    "       y.append(a[j][i])\n",
    "    p.append(y)\n",
    "print(p)"
   ]
  },
  {
   "cell_type": "code",
   "execution_count": 21,
   "id": "66056c01-aa4d-40dd-9cb5-e81f4a03d971",
   "metadata": {},
   "outputs": [
    {
     "name": "stdin",
     "output_type": "stream",
     "text": [
      " 3\n",
      " 3\n",
      " 1\n",
      " 2\n",
      " 3\n",
      " 4\n",
      " 5\n",
      " 6\n",
      " 7\n",
      " 8\n",
      " 9\n"
     ]
    },
    {
     "name": "stdout",
     "output_type": "stream",
     "text": [
      "[[1, 2, 3], [4, 5, 6], [7, 8, 9]]\n",
      "The sum of 0 row is 6\n",
      "The sum of 1 row is 15\n",
      "The sum of 2 row is 24\n",
      "The sum of 0 column is 12\n",
      "The sum of 1 column is 15\n",
      "The sum of 2 column is 18\n"
     ]
    }
   ],
   "source": [
    "a=[]\n",
    "b=int(input())\n",
    "k=int(input())\n",
    "for i in range(b):\n",
    "    x=[]\n",
    "    for i in range(k):\n",
    "        d=int(input())\n",
    "        x.append(d)\n",
    "    a.append(x)\n",
    "print(a)\n",
    "#sum of rows \n",
    "for i in range(b):\n",
    "    count=0\n",
    "    for j in range(k):\n",
    "        count+=a[i][j]\n",
    "    print(\"The sum of {} row is {}\".format(i,count))\n",
    "#columns\n",
    "for i in range(b):\n",
    "    count=0\n",
    "    for j in range(k):\n",
    "        count+=a[j][i]\n",
    "    print(\"The sum of {} column is {}\".format(i,count))"
   ]
  },
  {
   "cell_type": "code",
   "execution_count": null,
   "id": "e159d62b-2432-4b30-8b66-51f1714328ac",
   "metadata": {},
   "outputs": [],
   "source": []
  },
  {
   "cell_type": "code",
   "execution_count": null,
   "id": "80d33cea-8bf5-407e-9ddd-b024915703b3",
   "metadata": {},
   "outputs": [],
   "source": []
  },
  {
   "cell_type": "code",
   "execution_count": null,
   "id": "a6959dbd-50c0-49e8-b0a6-3e33c1055487",
   "metadata": {},
   "outputs": [],
   "source": [
    "# diagnol"
   ]
  },
  {
   "cell_type": "code",
   "execution_count": 26,
   "id": "8e76b6d6-c492-4e5b-a2ad-89e38a5d2b5d",
   "metadata": {},
   "outputs": [
    {
     "name": "stdin",
     "output_type": "stream",
     "text": [
      " 3\n",
      " 3\n",
      " 1\n",
      " 2\n",
      " 3\n",
      " 4\n",
      " 5\n",
      " 6\n",
      " 7\n",
      " 8\n",
      " 9\n"
     ]
    },
    {
     "name": "stdout",
     "output_type": "stream",
     "text": [
      "[[1, 2, 3], [4, 5, 6], [7, 8, 9]]\n",
      "1\n",
      "5\n",
      "9\n",
      "3\n",
      "5\n",
      "7\n"
     ]
    }
   ],
   "source": [
    "a=[]\n",
    "b=int(input())\n",
    "k=int(input())\n",
    "for i in range(b):\n",
    "    x=[]\n",
    "    for i in range(k):\n",
    "        d=int(input())\n",
    "        x.append(d)\n",
    "    a.append(x)\n",
    "print(a)\n",
    "for i in range(b):\n",
    "    for j in range(k):\n",
    "        if i==j:\n",
    "            print(a[i][j])\n",
    "for i in range(b):\n",
    "    for j in range(k-1,-1,-1):\n",
    "        if i+j==b-1:\n",
    "            print(a[i][j])"
   ]
  },
  {
   "cell_type": "code",
   "execution_count": null,
   "id": "7f44f50a-dcb0-4092-9460-6b2fc6c00a5b",
   "metadata": {},
   "outputs": [],
   "source": [
    "#left diagonal  sum\n",
    "# right diagonal sum"
   ]
  },
  {
   "cell_type": "code",
   "execution_count": 28,
   "id": "fd26d674-e45d-4b30-bfae-6abd01a931d6",
   "metadata": {},
   "outputs": [
    {
     "name": "stdin",
     "output_type": "stream",
     "text": [
      " 3\n",
      " 3\n",
      " 1\n",
      " 2\n",
      " 3\n",
      " 4\n",
      " 5\n",
      " 6\n",
      " 7\n",
      " 8\n",
      " 9\n"
     ]
    },
    {
     "name": "stdout",
     "output_type": "stream",
     "text": [
      "[[1, 2, 3], [4, 5, 6], [7, 8, 9]]\n",
      "15\n",
      "15\n"
     ]
    }
   ],
   "source": [
    "a=[]\n",
    "b=int(input())\n",
    "k=int(input())\n",
    "for i in range(b):\n",
    "    x=[]\n",
    "    for i in range(k):\n",
    "        d=int(input())\n",
    "        x.append(d)\n",
    "    a.append(x)\n",
    "print(a)\n",
    "count=0\n",
    "sum_1=0\n",
    "for i in range(b):\n",
    "    for j in range(k):\n",
    "        if i==j:\n",
    "            count+=a[i][j]\n",
    "print(count)\n",
    "for i in range(b):\n",
    "    for j in range(k,-1,-1):\n",
    "        if i+j==b-1:\n",
    "            sum_1+=a[i][j]\n",
    "print(sum_1)\n"
   ]
  },
  {
   "cell_type": "code",
   "execution_count": 34,
   "id": "139385d4-1134-469a-b76a-3c5057aeb914",
   "metadata": {},
   "outputs": [
    {
     "name": "stdin",
     "output_type": "stream",
     "text": [
      " 3\n",
      " 3\n",
      " 1\n",
      " 2\n",
      " 3\n",
      " 4\n",
      " 5\n",
      " 6\n",
      " 7\n",
      " 8\n",
      " 9\n"
     ]
    },
    {
     "name": "stdout",
     "output_type": "stream",
     "text": [
      "[[1, 2, 3], [4, 5, 6], [7, 8, 9]]\n",
      "[[3, 2, 1], [4, 5, 6], [9, 8, 7]]\n"
     ]
    }
   ],
   "source": [
    "a=[]\n",
    "b=int(input())\n",
    "k=int(input())\n",
    "for i in range(b):\n",
    "    x=[]\n",
    "    for i in range(k):\n",
    "        d=int(input())\n",
    "        x.append(d)\n",
    "    a.append(x)\n",
    "print(a)\n",
    "c=b-1\n",
    "for i in range(b):\n",
    "    for j in range(b):\n",
    "        if i==j:\n",
    "            temp=a[i][j]\n",
    "            a[i][j]=a[i][c]\n",
    "            a[i][c]=temp\n",
    "            c=c-1\n",
    "        \n",
    "            \n",
    "print(a)\n"
   ]
  },
  {
   "cell_type": "code",
   "execution_count": 38,
   "id": "176176a5-091c-4dec-8079-3c4b5fb74d45",
   "metadata": {},
   "outputs": [
    {
     "name": "stdin",
     "output_type": "stream",
     "text": [
      " 3\n",
      " 3\n",
      " 1\n",
      " 2\n",
      " 3\n",
      " 4\n",
      " 5\n",
      " 6\n",
      " 7\n",
      " 8\n",
      " 9\n"
     ]
    },
    {
     "name": "stdout",
     "output_type": "stream",
     "text": [
      "[[1, 2, 3], [4, 5, 6], [7, 8, 9]]\n",
      "11\n"
     ]
    }
   ],
   "source": [
    "a=[]\n",
    "b=int(input())\n",
    "k=int(input())\n",
    "for i in range(b):\n",
    "    x=[]\n",
    "    for i in range(k):\n",
    "        d=int(input())\n",
    "        x.append(d)\n",
    "    a.append(x)\n",
    "print(a)\n",
    "count=0\n",
    "for i in range(b):\n",
    "    for j in range(k):\n",
    "        if i<j:\n",
    "            count+=a[i][j]\n",
    "print(count)"
   ]
  },
  {
   "cell_type": "code",
   "execution_count": 39,
   "id": "c894a0c2-8e5a-464b-b91b-099cecb4a1da",
   "metadata": {},
   "outputs": [
    {
     "name": "stdin",
     "output_type": "stream",
     "text": [
      " 3\n",
      " 3\n",
      " 1\n",
      " 2\n",
      " 3\n",
      " 4\n",
      " 5\n",
      " 6\n",
      " 7\n",
      " 8\n",
      " 9\n"
     ]
    },
    {
     "name": "stdout",
     "output_type": "stream",
     "text": [
      "[[1, 2, 3], [4, 5, 6], [7, 8, 9]]\n",
      "19\n"
     ]
    }
   ],
   "source": [
    "a=[]\n",
    "b=int(input())\n",
    "k=int(input())\n",
    "for i in range(b):\n",
    "    x=[]\n",
    "    for i in range(k):\n",
    "        d=int(input())\n",
    "        x.append(d)\n",
    "    a.append(x)\n",
    "print(a)\n",
    "count=0\n",
    "for i in range(b):\n",
    "    for j in range(k):\n",
    "        if i>j:\n",
    "            count+=a[i][j]\n",
    "print(count)"
   ]
  },
  {
   "cell_type": "code",
   "execution_count": null,
   "id": "96763280-44af-41da-bb7a-902dd49b7f9f",
   "metadata": {},
   "outputs": [],
   "source": [
    "#[1 0 0]\n",
    " [0 1 0]\n",
    " [0 0 1]"
   ]
  },
  {
   "cell_type": "code",
   "execution_count": 42,
   "id": "fb7954ac-2e12-4d3a-b050-895ce01508dd",
   "metadata": {},
   "outputs": [
    {
     "name": "stdin",
     "output_type": "stream",
     "text": [
      " 3\n",
      " 3\n",
      " 1\n",
      " 0\n",
      " 0\n",
      " 0\n",
      " 1\n",
      " 0\n",
      " 0\n",
      " 0\n",
      " 1\n"
     ]
    },
    {
     "name": "stdout",
     "output_type": "stream",
     "text": [
      "[[1, 0, 0], [0, 1, 0], [0, 0, 1]]\n",
      "it is unit matrix\n"
     ]
    }
   ],
   "source": [
    "a=[]\n",
    "b=int(input())\n",
    "k=int(input())\n",
    "for i in range(b):\n",
    "    x=[]\n",
    "    for i in range(k):\n",
    "        d=int(input())\n",
    "        x.append(d)\n",
    "    a.append(x)\n",
    "print(a)\n",
    "flag=0\n",
    "for i in range(b):\n",
    "    for j in range(k):\n",
    "        if (i==j and a[i][j]!=1) or (i<j and a[i][j]!=0) or (i>j and a[i][j]!=0):\n",
    "            flag=1\n",
    "if flag==1:\n",
    "    print(\"Not a unit matrix\")\n",
    "else:\n",
    "    print(\"it is unit matrix\")\n",
    "        "
   ]
  },
  {
   "cell_type": "code",
   "execution_count": 45,
   "id": "6119e664-d72f-437e-be56-178fce253825",
   "metadata": {},
   "outputs": [
    {
     "name": "stdin",
     "output_type": "stream",
     "text": [
      " 3\n",
      " 3\n",
      " 1\n",
      " 0\n",
      " 8\n",
      " 0\n",
      " 5\n",
      " 6\n",
      " 7\n",
      " 0\n",
      " 4\n"
     ]
    },
    {
     "name": "stdout",
     "output_type": "stream",
     "text": [
      "[[1, 0, 8], [0, 5, 6], [7, 0, 4]]\n",
      "Not a sparse matrix\n"
     ]
    }
   ],
   "source": [
    "a=[]\n",
    "b=int(input())\n",
    "k=int(input())\n",
    "x1=b*k\n",
    "for i in range(b):\n",
    "    x=[]\n",
    "    for i in range(k):\n",
    "        d=int(input())\n",
    "        x.append(d)\n",
    "    a.append(x)\n",
    "print(a)\n",
    "count=0\n",
    "for i in range(b):\n",
    "    for j in range(k):\n",
    "        if a[i][j]==0:\n",
    "            count+=1\n",
    "if count>=x1//2:\n",
    "    print(\"sparse matrix\")\n",
    "else:\n",
    "    print(\"Not a sparse matrix\")"
   ]
  },
  {
   "cell_type": "code",
   "execution_count": 46,
   "id": "d9cec763-7dbc-45c6-a45d-5a362b6ade68",
   "metadata": {},
   "outputs": [
    {
     "name": "stdin",
     "output_type": "stream",
     "text": [
      " 3\n",
      " 3\n",
      " 3\n",
      " 2\n",
      " 2\n",
      " 2\n",
      " 3\n",
      " 2\n",
      " 2\n",
      " 2\n",
      " 3\n"
     ]
    },
    {
     "name": "stdout",
     "output_type": "stream",
     "text": [
      "[[3, 2, 2], [2, 3, 2], [2, 2, 3]]\n",
      "symetric\n"
     ]
    }
   ],
   "source": [
    "a=[]\n",
    "b=int(input())\n",
    "k=int(input())\n",
    "for i in range(b):\n",
    "    x=[]\n",
    "    for i in range(k):\n",
    "        d=int(input())\n",
    "        x.append(d)\n",
    "    a.append(x)\n",
    "print(a)\n",
    "a1=[]\n",
    "for i in range(b):\n",
    "    c1=[]\n",
    "    for j in range(k):\n",
    "        c1.append(a[j][i])\n",
    "    a1.append(c1)\n",
    "if a==a1:\n",
    "    print(\"symetric\")\n",
    "else:\n",
    "    print(\"not a symmetric\")\n",
    "    "
   ]
  },
  {
   "cell_type": "code",
   "execution_count": 54,
   "id": "c9f340a5-5b59-4904-af40-48766074d1ff",
   "metadata": {},
   "outputs": [
    {
     "name": "stdin",
     "output_type": "stream",
     "text": [
      " 3\n",
      " 3\n",
      " 1\n",
      " 2\n",
      " 3\n",
      " 4\n",
      " 5\n",
      " 6\n",
      " 7\n",
      " 8\n",
      " 9\n"
     ]
    },
    {
     "name": "stdout",
     "output_type": "stream",
     "text": [
      "[[1, 2, 3], [4, 5, 6], [7, 8, 9]]\n"
     ]
    },
    {
     "name": "stdin",
     "output_type": "stream",
     "text": [
      " 3\n",
      " 3\n",
      " 1\n",
      " 2\n",
      " 3\n",
      " 4\n",
      " 5\n",
      " 6\n",
      " 7\n",
      " 8\n",
      " 9\n"
     ]
    },
    {
     "name": "stdout",
     "output_type": "stream",
     "text": [
      "[[1, 2, 3], [4, 5, 6], [7, 8, 9]]\n",
      "30 36 42  \n",
      "66 81 96  \n",
      "102 126 150  \n"
     ]
    }
   ],
   "source": [
    "a=[]\n",
    "b=int(input())\n",
    "k=int(input())\n",
    "for i in range(b):\n",
    "    x=[]\n",
    "    for i in range(k):\n",
    "        d=int(input())\n",
    "        x.append(d)\n",
    "    a.append(x)\n",
    "print(a)\n",
    "a1=[]\n",
    "b1=int(input())\n",
    "k1=int(input())\n",
    "for i in range(b1):\n",
    "    x1=[]\n",
    "    for i in range(k1):\n",
    "        d1=int(input())\n",
    "        x1.append(d1)\n",
    "    a1.append(x1)\n",
    "print(a1)\n",
    "q=[[0,0,0],[0,0,0,],[0,0,0]]\n",
    "z=[]\n",
    "for i in range(b):\n",
    "    b11=[]\n",
    "    for j in range(3):\n",
    "        for k in range(3):\n",
    "            q[i][j]=q[i][j]+a[i][k]*a1[k][j]\n",
    "\n",
    "for i in range(3):\n",
    "    for j in range(3):\n",
    "        print(q[i][j],end=\" \")\n",
    "    print(\" \")\n",
    "    "
   ]
  },
  {
   "cell_type": "code",
   "execution_count": 55,
   "id": "f35d31e2-fcee-4b3c-8a18-9d0fe1d1d4be",
   "metadata": {},
   "outputs": [
    {
     "name": "stdin",
     "output_type": "stream",
     "text": [
      " 3\n",
      " 3\n",
      " 1\n",
      " 2\n",
      " 3\n",
      " 4\n",
      " 5\n",
      " 6\n",
      " 7\n",
      " 8\n",
      " 9\n"
     ]
    },
    {
     "name": "stdout",
     "output_type": "stream",
     "text": [
      "[[1, 2, 3], [4, 5, 6], [7, 8, 9]]\n"
     ]
    },
    {
     "name": "stdin",
     "output_type": "stream",
     "text": [
      " 3\n",
      " 3\n",
      " 1\n",
      " 2\n",
      " 3\n",
      " 4\n",
      " 5\n",
      " 6\n",
      " 7\n",
      " 8\n",
      " 9\n"
     ]
    },
    {
     "name": "stdout",
     "output_type": "stream",
     "text": [
      "[[1, 2, 3], [4, 5, 6], [7, 8, 9]]\n",
      "[[2, 4, 6], [8, 10, 12], [14, 16, 18]]\n"
     ]
    }
   ],
   "source": [
    "a=[]\n",
    "b=int(input())\n",
    "k=int(input())\n",
    "for i in range(b):\n",
    "    x=[]\n",
    "    for i in range(k):\n",
    "        d=int(input())\n",
    "        x.append(d)\n",
    "    a.append(x)\n",
    "print(a)\n",
    "a1=[]\n",
    "b1=int(input())\n",
    "k1=int(input())\n",
    "for i in range(b1):\n",
    "    x1=[]\n",
    "    for i in range(k1):\n",
    "        d1=int(input())\n",
    "        x1.append(d1)\n",
    "    a1.append(x1)\n",
    "print(a1)\n",
    "q=[[0,0,0],[0,0,0,],[0,0,0]]\n",
    "for i in range(3):\n",
    "    for j in range(3):\n",
    "        q[i][j]=a[i][j]+a1[i][j]\n",
    "print(q)"
   ]
  },
  {
   "cell_type": "code",
   "execution_count": 57,
   "id": "6d31d456-0da1-41d4-819c-e47dfca82739",
   "metadata": {},
   "outputs": [
    {
     "name": "stdin",
     "output_type": "stream",
     "text": [
      " 3\n",
      " 3\n",
      " 2\n",
      " 7\n",
      " 6\n",
      " 9\n",
      " 5\n",
      " 1\n",
      " 4\n",
      " 3\n",
      " 8\n"
     ]
    },
    {
     "name": "stdout",
     "output_type": "stream",
     "text": [
      "[[2, 7, 6], [9, 5, 1], [4, 3, 8]]\n",
      "magic square\n"
     ]
    }
   ],
   "source": [
    "a=[]\n",
    "b=int(input())\n",
    "k=int(input())\n",
    "for i in range(b):\n",
    "    x=[]\n",
    "    for i in range(k):\n",
    "        d=int(input())\n",
    "        x.append(d)\n",
    "    a.append(x)\n",
    "print(a)\n",
    "s=0\n",
    "for i in range(3):\n",
    "    for j in range(3):\n",
    "        if i==j:\n",
    "            s=s+a[i][j]\n",
    "s\n",
    "flag=0\n",
    "for i in range(3):\n",
    "    sum=0\n",
    "    sum1=0\n",
    "    for j in range(3):\n",
    "        sum=sum+a[i][j]\n",
    "        sum1=sum1+a[j][i]\n",
    "    if sum!=s or sum1!=s:\n",
    "        flag=1\n",
    "        break\n",
    "if flag==0:\n",
    "    print(\"magic square\")\n",
    "else:\n",
    "    print(\"Not a magic\")\n",
    "        \n",
    "            \n",
    "        "
   ]
  },
  {
   "cell_type": "code",
   "execution_count": 58,
   "id": "7e820876-2357-4b51-9ec2-92a5af3a2e2f",
   "metadata": {},
   "outputs": [
    {
     "name": "stdin",
     "output_type": "stream",
     "text": [
      " 2\n",
      " 2\n",
      " 1\n",
      " 2\n",
      " 3\n",
      " 4\n"
     ]
    },
    {
     "name": "stdout",
     "output_type": "stream",
     "text": [
      "[[1, 2], [3, 4]]\n"
     ]
    },
    {
     "data": {
      "text/plain": [
       "-2"
      ]
     },
     "execution_count": 58,
     "metadata": {},
     "output_type": "execute_result"
    }
   ],
   "source": [
    "a=[]\n",
    "b=int(input())\n",
    "k=int(input())\n",
    "for i in range(b):\n",
    "    x=[]\n",
    "    for i in range(k):\n",
    "        d=int(input())\n",
    "        x.append(d)\n",
    "    a.append(x)\n",
    "print(a)\n",
    "row1=0\n",
    "\n",
    "sum=1\n",
    "col1=1\n",
    "for i in range(2):\n",
    "    for j in range(2):\n",
    "        if i==j:\n",
    "            sum=sum*a[i][j]\n",
    "        else:\n",
    "            col1=col1*a[i][j]\n",
    "sum-col1\n",
    "            \n",
    "            "
   ]
  },
  {
   "cell_type": "code",
   "execution_count": 59,
   "id": "5588e0ff-f81f-48e1-8b12-25b51f4ad532",
   "metadata": {},
   "outputs": [
    {
     "name": "stdin",
     "output_type": "stream",
     "text": [
      " 3\n",
      " 3\n",
      " 1\n",
      " 2\n",
      " 3\n",
      " 4\n",
      " 5\n",
      " 6\n",
      " 7\n",
      " 8\n",
      " 9\n"
     ]
    },
    {
     "name": "stdout",
     "output_type": "stream",
     "text": [
      "[[1, 2, 3], [4, 5, 6], [7, 8, 9]]\n",
      "[[3, 2, 1], [6, 5, 4], [9, 8, 7]]\n"
     ]
    }
   ],
   "source": [
    "a=[]\n",
    "b=int(input())\n",
    "k=int(input())\n",
    "for i in range(b):\n",
    "    x=[]\n",
    "    for i in range(k):\n",
    "        d=int(input())\n",
    "        x.append(d)\n",
    "    a.append(x)\n",
    "print(a)\n",
    "q=[]\n",
    "for i in range(3):\n",
    "    x=[]\n",
    "    for j in range(2,-1,-1):\n",
    "        x.append(a[i][j])\n",
    "    q.append(x)\n",
    "print(q)"
   ]
  },
  {
   "cell_type": "code",
   "execution_count": 60,
   "id": "ad0d7f3b-e34b-499e-879b-73a6614368dd",
   "metadata": {},
   "outputs": [
    {
     "name": "stdin",
     "output_type": "stream",
     "text": [
      " 3\n",
      " 3\n",
      " 1\n",
      " 2\n",
      " 3\n",
      " 4\n",
      " 5\n",
      " 6\n",
      " 7\n",
      " 8\n",
      " 9\n"
     ]
    },
    {
     "name": "stdout",
     "output_type": "stream",
     "text": [
      "[[1, 2, 3], [4, 5, 6], [7, 8, 9]]\n",
      "[[7, 8, 9], [4, 5, 6], [1, 2, 3]]\n"
     ]
    }
   ],
   "source": [
    "a=[]\n",
    "b=int(input())\n",
    "k=int(input())\n",
    "for i in range(b):\n",
    "    x=[]\n",
    "    for i in range(k):\n",
    "        d=int(input())\n",
    "        x.append(d)\n",
    "    a.append(x)\n",
    "print(a)\n",
    "for i in range(3):\n",
    "    temp=a[0][i]\n",
    "    a[0][i]=a[2][i]\n",
    "    a[2][i]=temp\n",
    "print(a)"
   ]
  },
  {
   "cell_type": "code",
   "execution_count": 61,
   "id": "68bbbc15-fb2d-4931-aa36-d5ac213544c2",
   "metadata": {},
   "outputs": [
    {
     "name": "stdin",
     "output_type": "stream",
     "text": [
      " 3\n",
      " 3\n",
      " 1\n",
      " 2\n",
      " 3\n",
      " 4\n",
      " 5\n",
      " 6\n",
      " 7\n",
      " 8\n",
      " 9\n"
     ]
    },
    {
     "name": "stdout",
     "output_type": "stream",
     "text": [
      "[[1, 2, 3], [4, 5, 6], [7, 8, 9]]\n",
      "[[3, 2, 1], [6, 5, 4], [9, 8, 7]]\n"
     ]
    }
   ],
   "source": [
    "a=[]\n",
    "b=int(input())\n",
    "k=int(input())\n",
    "for i in range(b):\n",
    "    x=[]\n",
    "    for i in range(k):\n",
    "        d=int(input())\n",
    "        x.append(d)\n",
    "    a.append(x)\n",
    "print(a)\n",
    "for i in range(3):\n",
    "    temp=a[i][0]\n",
    "    a[i][0]=a[i][2]\n",
    "    a[i][2]=temp\n",
    "print(a)"
   ]
  },
  {
   "cell_type": "code",
   "execution_count": 66,
   "id": "5fc3413b-5298-4cc9-b910-4854ba4db7e2",
   "metadata": {},
   "outputs": [
    {
     "name": "stdin",
     "output_type": "stream",
     "text": [
      " 3\n",
      " 3\n",
      " 0\n",
      " -2\n",
      " 3\n",
      " 2\n",
      " 0\n",
      " -1\n",
      " -3\n",
      " 1\n",
      " 0\n"
     ]
    },
    {
     "name": "stdout",
     "output_type": "stream",
     "text": [
      "[[0, -2, 3], [2, 0, -1], [-3, 1, 0]]\n",
      "[[0, -2, 3], [2, 0, -1], [-3, 1, 0]]\n",
      "skew symmetric\n"
     ]
    }
   ],
   "source": [
    "a=[]\n",
    "b=int(input())\n",
    "k=int(input())\n",
    "for i in range(b):\n",
    "    x=[]\n",
    "    for i in range(k):\n",
    "        d=int(input())\n",
    "        x.append(d)\n",
    "    a.append(x)\n",
    "print(a)\n",
    "x11=[]\n",
    "for i in range(3):\n",
    "    dd=[]\n",
    "    for j in range(3):\n",
    "        dd.append((-(a[j][i])))\n",
    "    x11.append(dd)\n",
    "print(x11)\n",
    "if a==x11:\n",
    "    print(\"skew symmetric\")\n",
    "else:\n",
    "    print(\"Not a skew\")\n",
    "        "
   ]
  },
  {
   "cell_type": "code",
   "execution_count": 67,
   "id": "760216a0-d08d-43a5-8247-98cfad2bcdd3",
   "metadata": {},
   "outputs": [
    {
     "name": "stdin",
     "output_type": "stream",
     "text": [
      " 3\n",
      " 3\n",
      " 1\n",
      " 7\n",
      " 4\n",
      " 8\n",
      " 5\n",
      " 2\n",
      " 9\n",
      " 6\n",
      " 3\n"
     ]
    },
    {
     "name": "stdout",
     "output_type": "stream",
     "text": [
      "[[1, 7, 4], [8, 5, 2], [9, 6, 3]]\n",
      "[[1, 4, 7], [2, 5, 8], [3, 6, 9]]\n"
     ]
    }
   ],
   "source": [
    "a=[]\n",
    "b=int(input())\n",
    "k=int(input())\n",
    "for i in range(b):\n",
    "    x=[]\n",
    "    for i in range(k):\n",
    "        d=int(input())\n",
    "        x.append(d)\n",
    "    a.append(x)\n",
    "print(a)\n",
    "x11=[]\n",
    "for i in range(3):\n",
    "    b11=[]\n",
    "    for j in range(3):\n",
    "        b11.append(a[i][j])\n",
    "    b11.sort()\n",
    "    x11.append(b11)\n",
    "print(x11)"
   ]
  },
  {
   "cell_type": "code",
   "execution_count": 68,
   "id": "d9e2c336-e8e1-482b-b88c-6247bc069511",
   "metadata": {},
   "outputs": [
    {
     "name": "stdin",
     "output_type": "stream",
     "text": [
      " 3\n",
      " 3\n",
      " 1\n",
      " 7\n",
      " 4\n",
      " 2\n",
      " 5\n",
      " 8\n",
      " 9\n",
      " 6\n",
      " 3\n"
     ]
    },
    {
     "name": "stdout",
     "output_type": "stream",
     "text": [
      "[[1, 7, 4], [2, 5, 8], [9, 6, 3]]\n",
      "[[1, 4, 7], [2, 5, 8], [6, 3, 9]]\n"
     ]
    }
   ],
   "source": [
    "a=[]\n",
    "b=int(input())\n",
    "k=int(input())\n",
    "for i in range(b):\n",
    "    x=[]\n",
    "    for i in range(k):\n",
    "        d=int(input())\n",
    "        x.append(d)\n",
    "    a.append(x)\n",
    "print(a)\n",
    "x11=[]\n",
    "for i in range(3):\n",
    "    y11=[]\n",
    "    for j in range(2):\n",
    "        if a[i][j]>a[i][j+1]:\n",
    "            temp=a[i][j]\n",
    "            a[i][j]=a[i][j+1]\n",
    "            a[i][j+1]=temp\n",
    "print(a)"
   ]
  },
  {
   "cell_type": "code",
   "execution_count": 69,
   "id": "0d656481-2ddb-4e5f-9688-cf75beafd720",
   "metadata": {},
   "outputs": [
    {
     "name": "stdin",
     "output_type": "stream",
     "text": [
      " 3\n",
      " 3\n",
      " 1\n",
      " 2\n",
      " 3\n",
      " 4\n",
      " 5\n",
      " 6\n",
      " 7\n",
      " 8\n",
      " 9\n"
     ]
    },
    {
     "name": "stdout",
     "output_type": "stream",
     "text": [
      "[[1, 2, 3], [4, 5, 6], [7, 8, 9]]\n",
      "1\n",
      "2\n",
      "3\n"
     ]
    },
    {
     "ename": "IndexError",
     "evalue": "list index out of range",
     "output_type": "error",
     "traceback": [
      "\u001b[1;31m---------------------------------------------------------------------------\u001b[0m",
      "\u001b[1;31mIndexError\u001b[0m                                Traceback (most recent call last)",
      "Cell \u001b[1;32mIn[69], line 18\u001b[0m\n\u001b[0;32m     16\u001b[0m rows\u001b[38;5;241m+\u001b[39m\u001b[38;5;241m=\u001b[39m\u001b[38;5;241m1\u001b[39m\n\u001b[0;32m     17\u001b[0m \u001b[38;5;28;01mfor\u001b[39;00m i \u001b[38;5;129;01min\u001b[39;00m \u001b[38;5;28mrange\u001b[39m(rows,b):\n\u001b[1;32m---> 18\u001b[0m     \u001b[38;5;28mprint\u001b[39m(\u001b[43ma\u001b[49m\u001b[43m[\u001b[49m\u001b[43mi\u001b[49m\u001b[43m]\u001b[49m\u001b[43m[\u001b[49m\u001b[43mb\u001b[49m\u001b[43m]\u001b[49m)\n\u001b[0;32m     19\u001b[0m \u001b[38;5;28;01mfor\u001b[39;00m i \u001b[38;5;129;01min\u001b[39;00m \u001b[38;5;28mrange\u001b[39m(rows,b):\n\u001b[0;32m     20\u001b[0m     \u001b[38;5;28mprint\u001b[39m(a[n][n\u001b[38;5;241m-\u001b[39mi])\n",
      "\u001b[1;31mIndexError\u001b[0m: list index out of range"
     ]
    }
   ],
   "source": [
    "a=[]\n",
    "b=int(input())\n",
    "k=int(input())\n",
    "for i in range(b):\n",
    "    x=[]\n",
    "    for i in range(k):\n",
    "        d=int(input())\n",
    "        x.append(d)\n",
    "    a.append(x)\n",
    "print(a)\n",
    "rows=0\n",
    "cols=0\n",
    "while rows<b and cols<k:\n",
    "    for i in range(cols,b):\n",
    "        print(a[rows][i])\n",
    "    rows+=1\n",
    "    for i in range(rows,b):\n",
    "        print(a[i][b])\n",
    "    for i in range(rows,b):\n",
    "        print(a[n][n-i])\n",
    "    for i in range(rows+1,b):\n",
    "        print(a[b-i][0])"
   ]
  },
  {
   "cell_type": "code",
   "execution_count": null,
   "id": "3328027d-3264-4bcb-9d13-1662807134f2",
   "metadata": {},
   "outputs": [],
   "source": []
  },
  {
   "cell_type": "code",
   "execution_count": null,
   "id": "78550059-7750-41e5-b298-45751ee0d63f",
   "metadata": {},
   "outputs": [],
   "source": []
  },
  {
   "cell_type": "code",
   "execution_count": null,
   "id": "39b7a039-cf4d-44db-9e03-2caa2ee847aa",
   "metadata": {},
   "outputs": [],
   "source": []
  },
  {
   "cell_type": "code",
   "execution_count": 73,
   "id": "4c8937ab-6558-4524-98c0-9e55ec0f9337",
   "metadata": {},
   "outputs": [
    {
     "name": "stdin",
     "output_type": "stream",
     "text": [
      " 3\n",
      " 3\n",
      " 1\n",
      " 0\n",
      " 0\n",
      " 0\n",
      " 2\n",
      " 0\n",
      " 0\n",
      " 0\n",
      " 3\n"
     ]
    },
    {
     "name": "stdout",
     "output_type": "stream",
     "text": [
      "[[1, 0, 0], [0, 2, 0], [0, 0, 3]]\n",
      "diagonal matrix\n"
     ]
    }
   ],
   "source": [
    "a=[]\n",
    "b=int(input())\n",
    "k=int(input())\n",
    "for i in range(b):\n",
    "    x=[]\n",
    "    for i in range(k):\n",
    "        d=int(input())\n",
    "        x.append(d)\n",
    "    a.append(x)\n",
    "print(a)\n",
    "flag=0\n",
    "for i in range(3):\n",
    "    for j in range(3):\n",
    "        if i==j:\n",
    "            if a[i][j]==0:\n",
    "                flag=1\n",
    "        elif i<j:\n",
    "            if a[i][j]!=0:\n",
    "                flag=1\n",
    "        else:\n",
    "            if a[i][j]!=0:\n",
    "                flag=1\n",
    "if flag==0:\n",
    "    print(\"diagonal matrix\")\n",
    "else:\n",
    "    print(\"Not a diagonal\")"
   ]
  },
  {
   "cell_type": "code",
   "execution_count": null,
   "id": "11d09aba-67db-4bb0-b1e6-4e6cc560aa24",
   "metadata": {},
   "outputs": [],
   "source": [
    "#find the min and max "
   ]
  },
  {
   "cell_type": "code",
   "execution_count": 78,
   "id": "567bf1be-5852-454d-8819-48cc5db10cce",
   "metadata": {},
   "outputs": [
    {
     "name": "stdin",
     "output_type": "stream",
     "text": [
      " 3\n",
      " 3\n",
      " 1\n",
      " 2\n",
      " 3\n",
      " 4\n",
      " 5\n",
      " 6\n",
      " 7\n",
      " 8\n",
      " 9\n"
     ]
    },
    {
     "name": "stdout",
     "output_type": "stream",
     "text": [
      "[[1, 2, 3], [4, 5, 6], [7, 8, 9]]\n",
      "1\n",
      "9\n",
      "0\n",
      "2\n",
      "7\n"
     ]
    }
   ],
   "source": [
    "a=[]\n",
    "b=int(input())\n",
    "k=int(input())\n",
    "for i in range(b):\n",
    "    x=[]\n",
    "    for i in range(k):\n",
    "        d=int(input())\n",
    "        x.append(d)\n",
    "    a.append(x)\n",
    "print(a)\n",
    "min=a[0][0]\n",
    "for i in range(3):\n",
    "    for j in range(3):\n",
    "        if a[i][j]<min:\n",
    "            min=a[i][j]\n",
    "print(min)\n",
    "max=a[0][0]\n",
    "for i in range(3):\n",
    "    for j in range(3):\n",
    "        if a[i][j]>min:\n",
    "            max=a[i][j]\n",
    "print(max)\n",
    "rows=0\n",
    "cols=0\n",
    "for i in range(b):\n",
    "    for j in range(b):\n",
    "        if a[i][j]==min:\n",
    "            rows=i\n",
    "            break\n",
    "for i in range(b):\n",
    "    for j in range(b):\n",
    "        if a[i][j]==max:\n",
    "            cols=j\n",
    "            break\n",
    "print(rows)\n",
    "print(cols)\n",
    "print(a[cols][rows])"
   ]
  },
  {
   "cell_type": "code",
   "execution_count": 81,
   "id": "59c74d2e-2b38-4e0f-a497-3b6b9686a7f8",
   "metadata": {},
   "outputs": [
    {
     "name": "stdin",
     "output_type": "stream",
     "text": [
      " 3\n",
      " 3\n",
      " 4\n",
      " 0\n",
      " 0\n",
      " 0\n",
      " 4\n",
      " 0\n",
      " 0\n",
      " 0\n",
      " 4\n"
     ]
    },
    {
     "name": "stdout",
     "output_type": "stream",
     "text": [
      "[[4, 0, 0], [0, 4, 0], [0, 0, 4]]\n",
      "scalar metrics\n"
     ]
    }
   ],
   "source": [
    "a=[]\n",
    "b=int(input())\n",
    "k=int(input())\n",
    "for i in range(b):\n",
    "    x=[]\n",
    "    for i in range(k):\n",
    "        d=int(input())\n",
    "        x.append(d)\n",
    "    a.append(x)\n",
    "print(a)\n",
    "min=a[0][0]\n",
    "flag=0\n",
    "for i in range(3):\n",
    "    for j in range(3):\n",
    "        if i==j:\n",
    "            if a[i][j]!=min:\n",
    "                flag=1\n",
    "        elif i<j and a[i][j]!=0:\n",
    "            flag=1\n",
    "        elif i>j and a[i][j]!=0:\n",
    "            flag=1\n",
    "if flag==1:\n",
    "    print(\"not a scalr matrix\")\n",
    "else:\n",
    "    print(\"scalar metrics\")"
   ]
  },
  {
   "cell_type": "code",
   "execution_count": null,
   "id": "8bab8f3a-d50d-474c-9df2-af61146a669b",
   "metadata": {},
   "outputs": [],
   "source": [
    "a=[]\n",
    "b=int(input())\n",
    "k=int(input())\n",
    "for i in range(b):\n",
    "    x=[]\n",
    "    for i in range(k):\n",
    "        d=int(input())\n",
    "        x.append(d)\n",
    "    a.append(x)\n",
    "print(a)\n",
    "flag=0\n",
    "x11=[]\n",
    "for i in range(3):\n",
    "    b11=[]\n",
    "    for j in range(3):\n",
    "        b11.append(a[i][j])\n",
    "    b11.sort()\n",
    "    x11.append(b11)\n",
    "print(x11)\n",
    "for i in range(3):\n",
    "    for j in range(3):\n",
    "        if a[i][j]!=x11[i][j]:\n",
    "            flag=1\n",
    "            break\n",
    "if flag==1:\n",
    "    print(\"False\")\n",
    "else:\n",
    "    print(\"True\")\n",
    "        "
   ]
  },
  {
   "cell_type": "code",
   "execution_count": 87,
   "id": "a311f03d-0975-4a83-8712-ca88fe161c57",
   "metadata": {},
   "outputs": [
    {
     "name": "stdin",
     "output_type": "stream",
     "text": [
      " 2\n",
      " 2\n",
      " 1\n",
      " 2\n",
      " 3\n",
      " 4\n"
     ]
    },
    {
     "name": "stdout",
     "output_type": "stream",
     "text": [
      "[[1, 2], [3, 4]]\n"
     ]
    },
    {
     "name": "stdin",
     "output_type": "stream",
     "text": [
      " 5\n",
      " 6\n",
      " 7\n",
      " 8\n"
     ]
    },
    {
     "name": "stdout",
     "output_type": "stream",
     "text": [
      "[[1, 2], [3, 4]]\n",
      "[[1, 2, 5, 6], [3, 4, 7, 8]]\n"
     ]
    }
   ],
   "source": [
    "a=[]\n",
    "b=int(input())\n",
    "k=int(input())\n",
    "for i in range(b):\n",
    "    x=[]\n",
    "    for i in range(k):\n",
    "        d=int(input())\n",
    "        x.append(d)\n",
    "    a.append(x)\n",
    "print(a)\n",
    "a11=[]\n",
    "for i in range(2):\n",
    "    x=[]\n",
    "    for i in range(2):\n",
    "        d=int(input())\n",
    "        x.append(d)\n",
    "    a11.append(x)\n",
    "print(a)\n",
    "\n",
    "x=[[0,0,0,0],[0,0,0,0]]\n",
    "for i in range(2):\n",
    "    for j in range(4):\n",
    "        if j<2:\n",
    "            x[i][j]=a[i][j]\n",
    "        else:\n",
    "            x[i][j]=a11[i][j-2]\n",
    "print(x)"
   ]
  },
  {
   "cell_type": "code",
   "execution_count": 90,
   "id": "cdb4f51c-3c58-4d80-aedd-207b50684a2c",
   "metadata": {},
   "outputs": [
    {
     "name": "stdin",
     "output_type": "stream",
     "text": [
      " 3\n",
      " 3\n",
      " 1\n",
      " 2\n",
      " 3\n",
      " 4\n",
      " 5\n",
      " 6\n",
      " 7\n",
      " 8\n",
      " 9\n"
     ]
    },
    {
     "name": "stdout",
     "output_type": "stream",
     "text": [
      "[[1, 2, 3], [4, 5, 6], [7, 8, 9]]\n",
      "1 \n",
      "24 \n",
      "357 \n",
      "68 \n",
      "9 \n"
     ]
    }
   ],
   "source": [
    "a=[]\n",
    "b=int(input())\n",
    "k=int(input())\n",
    "for i in range(b):\n",
    "    x=[]\n",
    "    for i in range(k):\n",
    "        d=int(input())\n",
    "        x.append(d)\n",
    "    a.append(x)\n",
    "print(a)\n",
    "k=0\n",
    "while k<5:\n",
    "    for i in range(3):\n",
    "        for j in range(3):\n",
    "            if i+j==k:\n",
    "                print(a[i][j],end=\" \")\n",
    "    print(\" \")\n",
    "    k+=1\n",
    "        "
   ]
  },
  {
   "cell_type": "code",
   "execution_count": 91,
   "id": "42d0ff59-8efd-49d9-8ce5-6af811957330",
   "metadata": {},
   "outputs": [
    {
     "name": "stdin",
     "output_type": "stream",
     "text": [
      " 3\n",
      " 3\n",
      " 1\n",
      " 2\n",
      " 3\n",
      " 4\n",
      " 5\n",
      " 6\n",
      " 7\n",
      " 8\n",
      " 9\n"
     ]
    },
    {
     "name": "stdout",
     "output_type": "stream",
     "text": [
      "[[1, 2, 3], [4, 5, 6], [7, 8, 9]]\n",
      "1  \n",
      "4 2  \n",
      "7 5 3  \n",
      "8 6  \n",
      "9  \n"
     ]
    }
   ],
   "source": [
    "a=[]\n",
    "b=int(input())\n",
    "k=int(input())\n",
    "for i in range(b):\n",
    "    x=[]\n",
    "    for i in range(k):\n",
    "        d=int(input())\n",
    "        x.append(d)\n",
    "    a.append(x)\n",
    "print(a)\n",
    "k=0\n",
    "while k<5:\n",
    "    for i in range(3):\n",
    "        for j in range(3):\n",
    "            if i+j==k:\n",
    "                print(a[j][i],end=\" \")\n",
    "    print(\" \")\n",
    "    k+=1"
   ]
  },
  {
   "cell_type": "code",
   "execution_count": 92,
   "id": "9187ab48-e266-4714-b9ba-e794107db420",
   "metadata": {},
   "outputs": [
    {
     "name": "stdin",
     "output_type": "stream",
     "text": [
      " 3\n",
      " 3\n",
      " 1\n",
      " 2\n",
      " 3\n",
      " 4\n",
      " 5\n",
      " 6\n",
      " 7\n",
      " 8\n",
      " 9\n"
     ]
    },
    {
     "name": "stdout",
     "output_type": "stream",
     "text": [
      "[[1, 2, 3], [4, 5, 6], [7, 8, 9]]\n",
      "[[1, 2, 3], [2, 5, 6], [3, 6, 9]]\n"
     ]
    }
   ],
   "source": [
    "a=[]\n",
    "b=int(input())\n",
    "k=int(input())\n",
    "for i in range(b):\n",
    "    x=[]\n",
    "    for i in range(k):\n",
    "        d=int(input())\n",
    "        x.append(d)\n",
    "    a.append(x)\n",
    "print(a)\n",
    "for i in range(3):\n",
    "    for j in range(3):\n",
    "        if i>j:\n",
    "            a[i][j]=a[j][i]\n",
    "print(a)"
   ]
  },
  {
   "cell_type": "code",
   "execution_count": 96,
   "id": "83e4b07b-4352-4c26-9472-accac9e9c051",
   "metadata": {},
   "outputs": [
    {
     "name": "stdin",
     "output_type": "stream",
     "text": [
      " 3\n",
      " 3\n",
      " 1\n",
      " 2\n",
      " 3\n",
      " 4\n",
      " 5\n",
      " 6\n",
      " 7\n",
      " 8\n",
      " 9\n"
     ]
    },
    {
     "name": "stdout",
     "output_type": "stream",
     "text": [
      "[[1, 2, 3], [4, 5, 6], [7, 8, 9]]\n",
      "[[1, 2, 3], [6, 5, 4], [7, 8, 9]]\n"
     ]
    }
   ],
   "source": [
    "a=[]\n",
    "b=int(input())\n",
    "k=int(input())\n",
    "for i in range(b):\n",
    "    x=[]\n",
    "    for i in range(k):\n",
    "        d=int(input())\n",
    "        x.append(d)\n",
    "    a.append(x)\n",
    "print(a)\n",
    "b11=[]\n",
    "for i in range(3):\n",
    "    c11=[]\n",
    "    for j in range(3):\n",
    "        if i%2==1:\n",
    "            c11.append(a[i][2-j])\n",
    "        else:\n",
    "            c11.append(a[i][j])\n",
    "    b11.append(c11)\n",
    "            \n",
    "print(b11)\n",
    "            \n",
    "            "
   ]
  },
  {
   "cell_type": "code",
   "execution_count": 97,
   "id": "2da7acc3-768a-4349-b1c6-a463866a2dc6",
   "metadata": {},
   "outputs": [
    {
     "name": "stdin",
     "output_type": "stream",
     "text": [
      " 3\n",
      " 3\n",
      " 1\n",
      " 2\n",
      " 3\n",
      " 4\n",
      " 5\n",
      " 6\n",
      " 7\n",
      " 8\n",
      " 9\n"
     ]
    },
    {
     "name": "stdout",
     "output_type": "stream",
     "text": [
      "[[1, 2, 3], [4, 5, 6], [7, 8, 9]]\n",
      "[[7, 4, 1], [8, 5, 2], [9, 6, 3]]\n"
     ]
    }
   ],
   "source": [
    "a=[]\n",
    "b=int(input())\n",
    "k=int(input())\n",
    "for i in range(b):\n",
    "    x=[]\n",
    "    for i in range(k):\n",
    "        d=int(input())\n",
    "        x.append(d)\n",
    "    a.append(x)\n",
    "print(a)\n",
    "b11=[]\n",
    "for i in range(3):\n",
    "    c11=[]\n",
    "    for j in range(3):\n",
    "        c11.append(a[3-1-j][i])\n",
    "    b11.append(c11)\n",
    "            \n",
    "print(b11)\n",
    "            \n",
    "            "
   ]
  },
  {
   "cell_type": "code",
   "execution_count": 98,
   "id": "a0bf8cc6-888b-4222-87fc-ef049474ea84",
   "metadata": {},
   "outputs": [
    {
     "name": "stdin",
     "output_type": "stream",
     "text": [
      " 3\n",
      " 3\n",
      " 1\n",
      " 2\n",
      " 3\n",
      " 4\n",
      " 5\n",
      " 6\n",
      " 7\n",
      " 8\n",
      " 9\n"
     ]
    },
    {
     "name": "stdout",
     "output_type": "stream",
     "text": [
      "[[1, 2, 3], [4, 5, 6], [7, 8, 9]]\n",
      "[[3, 6, 9], [2, 5, 8], [1, 4, 7]]\n"
     ]
    }
   ],
   "source": [
    "a=[]\n",
    "b=int(input())\n",
    "k=int(input())\n",
    "for i in range(b):\n",
    "    x=[]\n",
    "    for i in range(k):\n",
    "        d=int(input())\n",
    "        x.append(d)\n",
    "    a.append(x)\n",
    "print(a)\n",
    "b11=[]\n",
    "for i in range(2,-1,-1):\n",
    "    c11=[]\n",
    "    for j in range(3):\n",
    "        c11.append(a[j][i])\n",
    "    b11.append(c11)\n",
    "            \n",
    "print(b11)"
   ]
  },
  {
   "cell_type": "code",
   "execution_count": 100,
   "id": "e70df790-16c7-4a19-a84b-ba31e511e625",
   "metadata": {},
   "outputs": [
    {
     "name": "stdin",
     "output_type": "stream",
     "text": [
      " 3\n",
      " 3\n",
      " 1\n",
      " 2\n",
      " 3\n",
      " 4\n",
      " 5\n",
      " 6\n",
      " 7\n",
      " 8\n",
      " 9\n"
     ]
    },
    {
     "name": "stdout",
     "output_type": "stream",
     "text": [
      "[[1, 2, 3], [4, 5, 6], [7, 8, 9]]\n",
      "[[9, 8, 7], [6, 5, 4], [3, 2, 1]]\n"
     ]
    }
   ],
   "source": [
    "a=[]\n",
    "b=int(input())\n",
    "k=int(input())\n",
    "for i in range(b):\n",
    "    x=[]\n",
    "    for i in range(k):\n",
    "        d=int(input())\n",
    "        x.append(d)\n",
    "    a.append(x)\n",
    "print(a)\n",
    "b11=[]\n",
    "for i in range(2,-1,-1):\n",
    "    c11=[]\n",
    "    for j in range(2,-1,-1):\n",
    "        c11.append(a[i][j])\n",
    "    b11.append(c11)\n",
    "            \n",
    "print(b11)"
   ]
  },
  {
   "cell_type": "code",
   "execution_count": 101,
   "id": "ef9ecf89-ff28-4d6e-8cd3-fc4d153d5cda",
   "metadata": {},
   "outputs": [
    {
     "name": "stdin",
     "output_type": "stream",
     "text": [
      " 3\n",
      " 3\n",
      " 1\n",
      " 1\n",
      " 1\n",
      " 1\n",
      " 0\n",
      " 1\n",
      " 1\n",
      " 1\n",
      " 1\n"
     ]
    },
    {
     "name": "stdout",
     "output_type": "stream",
     "text": [
      "[[1, 1, 1], [1, 0, 1], [1, 1, 1]]\n",
      "[[1, 0, 1], [0, 0, 0], [1, 0, 1]]\n"
     ]
    }
   ],
   "source": [
    "a=[]\n",
    "b=int(input())\n",
    "k=int(input())\n",
    "for i in range(b):\n",
    "    x=[]\n",
    "    for i in range(k):\n",
    "        d=int(input())\n",
    "        x.append(d)\n",
    "    a.append(x)\n",
    "print(a)\n",
    "for i in range(3):\n",
    "    for j in range(3):\n",
    "        if i==1 or j==1:\n",
    "            a[i][j]=0\n",
    "print(a)"
   ]
  },
  {
   "cell_type": "code",
   "execution_count": null,
   "id": "cd4a18d3-912a-4913-984a-77dbbb768c91",
   "metadata": {},
   "outputs": [],
   "source": []
  }
 ],
 "metadata": {
  "kernelspec": {
   "display_name": "Python 3 (ipykernel)",
   "language": "python",
   "name": "python3"
  },
  "language_info": {
   "codemirror_mode": {
    "name": "ipython",
    "version": 3
   },
   "file_extension": ".py",
   "mimetype": "text/x-python",
   "name": "python",
   "nbconvert_exporter": "python",
   "pygments_lexer": "ipython3",
   "version": "3.11.5"
  }
 },
 "nbformat": 4,
 "nbformat_minor": 5
}
