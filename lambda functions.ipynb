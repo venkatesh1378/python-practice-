{
 "cells": [
  {
   "cell_type": "code",
   "execution_count": null,
   "id": "2712ae14-9f71-4334-8af9-4ca8ba241849",
   "metadata": {},
   "outputs": [],
   "source": [
    "1. Write a Python program to create a lambda function that adds 15 to a given number passed in as an argument, also create a lambda function that multiplies argument x with argument y and prints the result.\n",
    "Sample Output:\n",
    "25\n",
    "48"
   ]
  },
  {
   "cell_type": "code",
   "execution_count": 1,
   "id": "897ba175-924b-4d10-98f7-13f308ca2f3f",
   "metadata": {},
   "outputs": [
    {
     "name": "stdout",
     "output_type": "stream",
     "text": [
      "25\n"
     ]
    }
   ],
   "source": [
    "x=lambda a:a+15\n",
    "print(x(10))"
   ]
  },
  {
   "cell_type": "code",
   "execution_count": 3,
   "id": "509e9d2a-bbfc-49e6-a255-672f0c03af14",
   "metadata": {},
   "outputs": [
    {
     "name": "stdout",
     "output_type": "stream",
     "text": [
      "66\n"
     ]
    }
   ],
   "source": [
    "x=lambda a,b:a*b\n",
    "print(x(22,3))"
   ]
  },
  {
   "cell_type": "code",
   "execution_count": null,
   "id": "9aca3860-c34e-4e90-a744-392f3be15d23",
   "metadata": {},
   "outputs": [],
   "source": [
    "2. Write a Python program to create a function that takes one argument, and that argument will be multiplied with an unknown given number.\n",
    "Sample Output:\n",
    "Double the number of 15 = 30\n",
    "Triple the number of 15 = 45\n",
    "Quadruple the number of 15 = 60\n",
    "Quintuple the number 15 = 75"
   ]
  },
  {
   "cell_type": "code",
   "execution_count": 4,
   "id": "2b035a3b-4113-40e7-a658-061a5a3ef564",
   "metadata": {},
   "outputs": [
    {
     "name": "stdout",
     "output_type": "stream",
     "text": [
      "30\n",
      "45\n",
      "60\n",
      "75\n"
     ]
    }
   ],
   "source": [
    "x=lambda a:2*a\n",
    "print(x(15))\n",
    "x=lambda a:3*a\n",
    "print(x(15))\n",
    "x=lambda a:4*a\n",
    "print(x(15))\n",
    "x=lambda a:5*a\n",
    "print(x(15))"
   ]
  },
  {
   "cell_type": "code",
   "execution_count": 12,
   "id": "88d25f9e-39ba-4adc-b87a-c91b4f9bb490",
   "metadata": {},
   "outputs": [
    {
     "name": "stdout",
     "output_type": "stream",
     "text": [
      "30\n"
     ]
    }
   ],
   "source": [
    "def func1(i):\n",
    "    return ( lambda a:a*i)\n",
    "k=func1(2)\n",
    "print(k(15))\n"
   ]
  },
  {
   "cell_type": "code",
   "execution_count": null,
   "id": "e3db2821-4c7e-4b96-bdf2-c931895f3919",
   "metadata": {},
   "outputs": [],
   "source": [
    "3. Write a Python program to sort a list of tuples using Lambda.\n",
    "Original list of tuples:\n",
    "[('English', 88), ('Science', 90), ('Maths', 97), ('Social sciences', 82)]\n",
    "Sorting the List of Tuples:\n",
    "[('Social sciences', 82), ('English', 88), ('Science', 90), ('Maths', 97)]"
   ]
  },
  {
   "cell_type": "code",
   "execution_count": 16,
   "id": "21f2a731-44b9-4f7e-80c4-4f625278bb2b",
   "metadata": {},
   "outputs": [
    {
     "ename": "SyntaxError",
     "evalue": "invalid syntax (1587601429.py, line 2)",
     "output_type": "error",
     "traceback": [
      "\u001b[1;36m  Cell \u001b[1;32mIn[16], line 2\u001b[1;36m\u001b[0m\n\u001b[1;33m    b=lambda i:i.sort() for i in a:\u001b[0m\n\u001b[1;37m                        ^\u001b[0m\n\u001b[1;31mSyntaxError\u001b[0m\u001b[1;31m:\u001b[0m invalid syntax\n"
     ]
    }
   ],
   "source": [
    "a=[('English', 88), ('Science', 90), ('Maths', 97), ('Social sciences', 82)]\n",
    "b=lambda i:i.sort() for i in a:\n",
    "print(b(a))"
   ]
  },
  {
   "cell_type": "code",
   "execution_count": null,
   "id": "6d6032f5-2990-4885-99f7-f0c52ba4ecc8",
   "metadata": {},
   "outputs": [],
   "source": []
  },
  {
   "cell_type": "code",
   "execution_count": null,
   "id": "13ee2ddd-a5c2-43e6-a302-0fe9b34f73fc",
   "metadata": {},
   "outputs": [],
   "source": [
    "5. Write a Python program to filter a list of integers using Lambda.\n",
    "Original list of integers:\n",
    "[1, 2, 3, 4, 5, 6, 7, 8, 9, 10]\n",
    "Even numbers from the said list:\n",
    "[2, 4, 6, 8, 10]\n",
    "Odd numbers from the said list:\n",
    "[1, 3, 5, 7, 9]"
   ]
  },
  {
   "cell_type": "code",
   "execution_count": null,
   "id": "43b0429f-98eb-4810-bacc-b5f7a06f92cc",
   "metadata": {},
   "outputs": [],
   "source": []
  },
  {
   "cell_type": "code",
   "execution_count": null,
   "id": "52aa3bdc-700d-4565-b9df-d3e120f2ecfb",
   "metadata": {},
   "outputs": [],
   "source": []
  },
  {
   "cell_type": "code",
   "execution_count": null,
   "id": "c6d93fc2-323c-4cf2-842c-a0ef7c067528",
   "metadata": {},
   "outputs": [],
   "source": []
  },
  {
   "cell_type": "code",
   "execution_count": null,
   "id": "b445dbb1-8128-43cc-a96a-ebf011c443d3",
   "metadata": {},
   "outputs": [],
   "source": []
  },
  {
   "cell_type": "code",
   "execution_count": 26,
   "id": "0c483346-f80d-4e56-88f6-7540ac47893d",
   "metadata": {},
   "outputs": [
    {
     "ename": "SyntaxError",
     "evalue": "invalid syntax (4021206649.py, line 2)",
     "output_type": "error",
     "traceback": [
      "\u001b[1;36m  Cell \u001b[1;32mIn[26], line 2\u001b[1;36m\u001b[0m\n\u001b[1;33m    a=lambda i:for i in l1 if i%2==0\u001b[0m\n\u001b[1;37m               ^\u001b[0m\n\u001b[1;31mSyntaxError\u001b[0m\u001b[1;31m:\u001b[0m invalid syntax\n"
     ]
    }
   ],
   "source": []
  },
  {
   "cell_type": "code",
   "execution_count": 24,
   "id": "c6f1a369-b8f6-4d97-b24f-e7e84edc5385",
   "metadata": {},
   "outputs": [
    {
     "data": {
      "text/plain": [
       "[0, 2]"
      ]
     },
     "execution_count": 24,
     "metadata": {},
     "output_type": "execute_result"
    }
   ],
   "source": [
    "a=[i for i in range(3) if i%2==0]\n",
    "a"
   ]
  },
  {
   "cell_type": "code",
   "execution_count": null,
   "id": "56feabac-b693-4973-8380-537fbd24038b",
   "metadata": {},
   "outputs": [],
   "source": []
  },
  {
   "cell_type": "code",
   "execution_count": null,
   "id": "9da9fcad-041a-42c5-97a7-e12c4323d25e",
   "metadata": {},
   "outputs": [],
   "source": []
  },
  {
   "cell_type": "code",
   "execution_count": null,
   "id": "1f94ccc9-a7b0-40c8-8a3f-e2dca662f057",
   "metadata": {},
   "outputs": [],
   "source": []
  },
  {
   "cell_type": "code",
   "execution_count": null,
   "id": "d683912e-364f-4f99-8788-58ad0adf5fc3",
   "metadata": {},
   "outputs": [],
   "source": []
  },
  {
   "cell_type": "code",
   "execution_count": 28,
   "id": "ed12a6ab-14fd-45c7-a351-576186cc94b9",
   "metadata": {},
   "outputs": [
    {
     "data": {
      "text/plain": [
       "[2, 4]"
      ]
     },
     "execution_count": 28,
     "metadata": {},
     "output_type": "execute_result"
    }
   ],
   "source": [
    "a=[1,2,3,4,5]\n",
    "k=list(filter(lambda i:i%2==0,a))\n",
    "k"
   ]
  },
  {
   "cell_type": "code",
   "execution_count": null,
   "id": "47023ea8-4fd7-4a4e-b9dd-3344c7da46f1",
   "metadata": {},
   "outputs": [],
   "source": []
  },
  {
   "cell_type": "code",
   "execution_count": null,
   "id": "90b23fdd-2736-4531-a4f2-e0cabc7e2ad8",
   "metadata": {},
   "outputs": [],
   "source": [
    "6. Write a Python program to square and cube every number in a given list of integers using Lambda.\n",
    "Original list of integers:\n",
    "[1, 2, 3, 4, 5, 6, 7, 8, 9, 10]\n",
    "Square every number of the said list:\n",
    "[1, 4, 9, 16, 25, 36, 49, 64, 81, 100]\n",
    "Cube every number of the said list:\n",
    "[1, 8, 27, 64, 125, 216, 343, 512, 729, 1000]"
   ]
  },
  {
   "cell_type": "code",
   "execution_count": 29,
   "id": "7fb40a18-5a3f-4a68-81bb-ace1771a8140",
   "metadata": {},
   "outputs": [
    {
     "data": {
      "text/plain": [
       "[1, 4, 9, 16, 25, 36, 49, 64, 81, 100]"
      ]
     },
     "execution_count": 29,
     "metadata": {},
     "output_type": "execute_result"
    }
   ],
   "source": [
    "a=[1, 2, 3, 4, 5, 6, 7, 8, 9, 10]\n",
    "b=list(map(lambda i:i*i,a))\n",
    "b"
   ]
  },
  {
   "cell_type": "code",
   "execution_count": 30,
   "id": "c4887c85-475b-42dd-b03a-510d8b0e6710",
   "metadata": {},
   "outputs": [
    {
     "data": {
      "text/plain": [
       "[1, 8, 27, 64, 125, 216, 343, 512, 729, 1000]"
      ]
     },
     "execution_count": 30,
     "metadata": {},
     "output_type": "execute_result"
    }
   ],
   "source": [
    "a=[1, 2, 3, 4, 5, 6, 7, 8, 9, 10]\n",
    "b=list(map(lambda i:i**3,a))\n",
    "b"
   ]
  },
  {
   "cell_type": "code",
   "execution_count": null,
   "id": "7526135b-333e-41f5-b27f-5eb573e4a5cb",
   "metadata": {},
   "outputs": [],
   "source": [
    "7. Write a Python program to find if a given string starts with a given character using Lambda.\n",
    "Sample Output:\n",
    "True\n",
    "False"
   ]
  },
  {
   "cell_type": "code",
   "execution_count": 37,
   "id": "7432e77c-3784-4912-aa5a-9934f14b02e8",
   "metadata": {},
   "outputs": [
    {
     "name": "stdout",
     "output_type": "stream",
     "text": [
      "True\n"
     ]
    }
   ],
   "source": [
    "a=\"python\"\n",
    "k=lambda a:True if a.startswith(\"p\") else False\n",
    "print(k(a))"
   ]
  },
  {
   "cell_type": "code",
   "execution_count": null,
   "id": "8264cbae-2640-4b32-b7fa-fe7c1c896101",
   "metadata": {},
   "outputs": [],
   "source": [
    "8. Write a Python program to extract year, month, date and time using Lambda.\n",
    "Sample Output:\n",
    "2020-01-15 09:03:32.744178\n",
    "2020\n",
    "1\n",
    "15\n",
    "09:03:32.744178"
   ]
  },
  {
   "cell_type": "code",
   "execution_count": null,
   "id": "72af7554-2b2b-47e5-8f8e-b44c72025f49",
   "metadata": {},
   "outputs": [],
   "source": []
  },
  {
   "cell_type": "code",
   "execution_count": null,
   "id": "12296abc-6a1a-4b1e-812d-0e076500d4f8",
   "metadata": {},
   "outputs": [],
   "source": []
  },
  {
   "cell_type": "code",
   "execution_count": 40,
   "id": "3c6121ff-2661-4d8d-bb70-2b3dfa1fd8f3",
   "metadata": {},
   "outputs": [
    {
     "name": "stdout",
     "output_type": "stream",
     "text": [
      "False\n"
     ]
    }
   ],
   "source": [
    "#9. Write a Python program to check whether a given string is a number or not using Lambda.\n",
    "a=\"12d\"\n",
    "b=lambda a:True if a.isdigit() else False\n",
    "print(b(a))"
   ]
  },
  {
   "cell_type": "code",
   "execution_count": null,
   "id": "35bf5f1e-fa86-4869-8ecd-65bd444ffeed",
   "metadata": {},
   "outputs": [],
   "source": [
    "10. Write a Python program to create Fibonacci series up to n using Lambda.\n",
    "Fibonacci series upto 2:\n",
    "[0, 1]\n",
    "Fibonacci series upto 5:\n",
    "[0, 1, 1, 2, 3]\n",
    "Fibonacci series upto 6:\n",
    "[0, 1, 1, 2, 3, 5]\n",
    "Fibonacci series upto 9:\n",
    "[0, 1, 1, 2, 3, 5, 8, 13, 21]"
   ]
  },
  {
   "cell_type": "code",
   "execution_count": null,
   "id": "f631107e-d401-4ddd-8d32-498ee03a8fc3",
   "metadata": {},
   "outputs": [],
   "source": [
    "k=[]\n",
    "k.append(0)\n",
    "k.append(1)\n",
    "for i in range(2):\n",
    "    if i<=2:\n",
    "        print(k)\n",
    "    else:\n",
    "        l=lambda i,j:(i-1)+(i-2)"
   ]
  },
  {
   "cell_type": "code",
   "execution_count": null,
   "id": "17207d15-8992-420e-9fd7-efe596fd1bf4",
   "metadata": {},
   "outputs": [],
   "source": [
    "11. Write a Python program to find the intersection of two given arrays using Lambda.\n",
    "Original arrays:\n",
    "[1, 2, 3, 5, 7, 8, 9, 10]\n",
    "[1, 2, 4, 8, 9]\n",
    "Intersection of the said arrays: [1, 2, 8, 9]"
   ]
  },
  {
   "cell_type": "code",
   "execution_count": 44,
   "id": "bcd43a66-1938-4ef6-86f2-bdba1abcc1da",
   "metadata": {},
   "outputs": [
    {
     "ename": "TypeError",
     "evalue": "<lambda>() missing 1 required positional argument: 'b'",
     "output_type": "error",
     "traceback": [
      "\u001b[1;31m---------------------------------------------------------------------------\u001b[0m",
      "\u001b[1;31mTypeError\u001b[0m                                 Traceback (most recent call last)",
      "Cell \u001b[1;32mIn[44], line 3\u001b[0m\n\u001b[0;32m      1\u001b[0m a\u001b[38;5;241m=\u001b[39m[\u001b[38;5;241m1\u001b[39m, \u001b[38;5;241m2\u001b[39m, \u001b[38;5;241m3\u001b[39m, \u001b[38;5;241m5\u001b[39m, \u001b[38;5;241m7\u001b[39m, \u001b[38;5;241m8\u001b[39m, \u001b[38;5;241m9\u001b[39m, \u001b[38;5;241m10\u001b[39m]\n\u001b[0;32m      2\u001b[0m b\u001b[38;5;241m=\u001b[39m[\u001b[38;5;241m1\u001b[39m, \u001b[38;5;241m2\u001b[39m, \u001b[38;5;241m4\u001b[39m, \u001b[38;5;241m8\u001b[39m, \u001b[38;5;241m9\u001b[39m]\n\u001b[1;32m----> 3\u001b[0m c\u001b[38;5;241m=\u001b[39m\u001b[38;5;28;43mlist\u001b[39;49m\u001b[43m(\u001b[49m\u001b[38;5;28;43mmap\u001b[39;49m\u001b[43m(\u001b[49m\u001b[38;5;28;43;01mlambda\u001b[39;49;00m\u001b[43m \u001b[49m\u001b[43ma\u001b[49m\u001b[43m,\u001b[49m\u001b[43mb\u001b[49m\u001b[43m:\u001b[49m\u001b[43mi\u001b[49m\u001b[43m,\u001b[49m\u001b[38;5;28;43mset\u001b[39;49m\u001b[43m(\u001b[49m\u001b[43ma\u001b[49m\u001b[43m)\u001b[49m\u001b[38;5;241;43m&\u001b[39;49m\u001b[38;5;28;43mset\u001b[39;49m\u001b[43m(\u001b[49m\u001b[43mb\u001b[49m\u001b[43m)\u001b[49m\u001b[43m)\u001b[49m\u001b[43m)\u001b[49m\n\u001b[0;32m      4\u001b[0m c\n",
      "\u001b[1;31mTypeError\u001b[0m: <lambda>() missing 1 required positional argument: 'b'"
     ]
    }
   ],
   "source": [
    "a=[1, 2, 3, 5, 7, 8, 9, 10]\n",
    "b=[1, 2, 4, 8, 9]\n",
    "c=list(map(lambda a,b:i,set(a)&set(b)))\n",
    "c"
   ]
  },
  {
   "cell_type": "code",
   "execution_count": null,
   "id": "2e9c179d-4c27-4b23-9ce1-908a962cd8e3",
   "metadata": {},
   "outputs": [],
   "source": []
  }
 ],
 "metadata": {
  "kernelspec": {
   "display_name": "Python 3 (ipykernel)",
   "language": "python",
   "name": "python3"
  },
  "language_info": {
   "codemirror_mode": {
    "name": "ipython",
    "version": 3
   },
   "file_extension": ".py",
   "mimetype": "text/x-python",
   "name": "python",
   "nbconvert_exporter": "python",
   "pygments_lexer": "ipython3",
   "version": "3.11.5"
  }
 },
 "nbformat": 4,
 "nbformat_minor": 5
}
