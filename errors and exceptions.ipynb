{
 "cells": [
  {
   "cell_type": "code",
   "execution_count": null,
   "id": "53462790-d643-4fa2-b78e-407503d00844",
   "metadata": {},
   "outputs": [],
   "source": [
    "#error in python"
   ]
  },
  {
   "cell_type": "markdown",
   "id": "a477250b-6c6f-4759-80ba-1321b6b58567",
   "metadata": {},
   "source": [
    "- error are nothing but programming mistakes\n",
    "- syntax is wrong\n",
    "- we write in the woring foramt or not followed the rules of a particular programming language rules\n",
    "- leads to error"
   ]
  },
  {
   "cell_type": "code",
   "execution_count": null,
   "id": "1d8bdbc9-2cab-41a5-a621-c0f9bd69355f",
   "metadata": {},
   "outputs": [],
   "source": [
    "#python errors"
   ]
  },
  {
   "cell_type": "code",
   "execution_count": null,
   "id": "1cae5e25-8bec-4c4f-8f1f-be635f1deda5",
   "metadata": {},
   "outputs": [],
   "source": [
    "#popular errors\n",
    "#1.name error\n",
    "#2.type error\n",
    "#3.value error\n",
    "#4.key error\n",
    "#5.recursion error\n",
    "#6.synatx error\n",
    "#7.indentation error\n",
    "#8.index error\n",
    "#9.attribute error\n",
    "#10.filenot found error"
   ]
  },
  {
   "cell_type": "code",
   "execution_count": null,
   "id": "ead4e266-271e-4602-b872-22764eb5aa0c",
   "metadata": {},
   "outputs": [],
   "source": [
    "#name error"
   ]
  },
  {
   "cell_type": "code",
   "execution_count": null,
   "id": "b735ae2a-bd3a-4970-895f-54a61734556e",
   "metadata": {},
   "outputs": [],
   "source": [
    "#name error comes when the we use a variable name in the program that is not defined"
   ]
  },
  {
   "cell_type": "code",
   "execution_count": 1,
   "id": "e5065481-d656-437b-b6f4-3f3b642f7a8a",
   "metadata": {},
   "outputs": [
    {
     "ename": "NameError",
     "evalue": "name 'c' is not defined",
     "output_type": "error",
     "traceback": [
      "\u001b[1;31m---------------------------------------------------------------------------\u001b[0m",
      "\u001b[1;31mNameError\u001b[0m                                 Traceback (most recent call last)",
      "Cell \u001b[1;32mIn[1], line 4\u001b[0m\n\u001b[0;32m      2\u001b[0m a\u001b[38;5;241m=\u001b[39m\u001b[38;5;241m10\u001b[39m\n\u001b[0;32m      3\u001b[0m b\u001b[38;5;241m=\u001b[39m\u001b[38;5;241m20\u001b[39m\n\u001b[1;32m----> 4\u001b[0m \u001b[38;5;28mprint\u001b[39m(a\u001b[38;5;241m+\u001b[39mb\u001b[38;5;241m+\u001b[39m\u001b[43mc\u001b[49m)\n",
      "\u001b[1;31mNameError\u001b[0m: name 'c' is not defined"
     ]
    }
   ],
   "source": [
    "#name error program\n",
    "a=10\n",
    "b=20\n",
    "print(a+b+c)"
   ]
  },
  {
   "cell_type": "code",
   "execution_count": 2,
   "id": "50ac7c7a-237f-45b0-9032-fbe26da11fa2",
   "metadata": {},
   "outputs": [
    {
     "ename": "SyntaxError",
     "evalue": "incomplete input (691056151.py, line 3)",
     "output_type": "error",
     "traceback": [
      "\u001b[1;36m  Cell \u001b[1;32mIn[2], line 3\u001b[1;36m\u001b[0m\n\u001b[1;33m    print(a\u001b[0m\n\u001b[1;37m           ^\u001b[0m\n\u001b[1;31mSyntaxError\u001b[0m\u001b[1;31m:\u001b[0m incomplete input\n"
     ]
    }
   ],
   "source": [
    "# syntax error\n",
    "a=10\n",
    "print(a"
   ]
  },
  {
   "cell_type": "code",
   "execution_count": null,
   "id": "36928e63-67df-4135-a4c3-6a4af0e1183c",
   "metadata": {},
   "outputs": [],
   "source": [
    "#type error\n",
    "# type error occurs when we perform operations on different types of data"
   ]
  },
  {
   "cell_type": "code",
   "execution_count": 3,
   "id": "e025001e-652b-4e95-8b04-eed1fc7c7f1a",
   "metadata": {},
   "outputs": [
    {
     "ename": "TypeError",
     "evalue": "unsupported operand type(s) for +: 'int' and 'str'",
     "output_type": "error",
     "traceback": [
      "\u001b[1;31m---------------------------------------------------------------------------\u001b[0m",
      "\u001b[1;31mTypeError\u001b[0m                                 Traceback (most recent call last)",
      "Cell \u001b[1;32mIn[3], line 4\u001b[0m\n\u001b[0;32m      2\u001b[0m a\u001b[38;5;241m=\u001b[39m\u001b[38;5;241m10\u001b[39m\n\u001b[0;32m      3\u001b[0m b\u001b[38;5;241m=\u001b[39m\u001b[38;5;124m'\u001b[39m\u001b[38;5;124m10\u001b[39m\u001b[38;5;124m'\u001b[39m\n\u001b[1;32m----> 4\u001b[0m \u001b[38;5;28mprint\u001b[39m(\u001b[43ma\u001b[49m\u001b[38;5;241;43m+\u001b[39;49m\u001b[43mb\u001b[49m)\n",
      "\u001b[1;31mTypeError\u001b[0m: unsupported operand type(s) for +: 'int' and 'str'"
     ]
    }
   ],
   "source": [
    "#example\n",
    "a=10\n",
    "b='10'\n",
    "print(a+b)"
   ]
  },
  {
   "cell_type": "code",
   "execution_count": null,
   "id": "e18b77e2-3a45-4853-8e13-17ca20f38358",
   "metadata": {},
   "outputs": [],
   "source": [
    "#value error"
   ]
  },
  {
   "cell_type": "code",
   "execution_count": null,
   "id": "c8c43fdc-596b-4412-955d-e883098475f3",
   "metadata": {},
   "outputs": [],
   "source": []
  },
  {
   "cell_type": "code",
   "execution_count": null,
   "id": "d90f3701-c02c-4104-9fd2-e6d6cbd8066b",
   "metadata": {},
   "outputs": [],
   "source": []
  },
  {
   "cell_type": "code",
   "execution_count": null,
   "id": "df6d1658-b02a-4516-83eb-b7e48b24592c",
   "metadata": {},
   "outputs": [],
   "source": []
  },
  {
   "cell_type": "code",
   "execution_count": 4,
   "id": "ad6e1acf-f36f-45f2-b0ba-f09e97886c74",
   "metadata": {},
   "outputs": [
    {
     "ename": "RecursionError",
     "evalue": "maximum recursion depth exceeded",
     "output_type": "error",
     "traceback": [
      "\u001b[1;31m---------------------------------------------------------------------------\u001b[0m",
      "\u001b[1;31mRecursionError\u001b[0m                            Traceback (most recent call last)",
      "Cell \u001b[1;32mIn[4], line 4\u001b[0m\n\u001b[0;32m      2\u001b[0m \u001b[38;5;28;01mdef\u001b[39;00m \u001b[38;5;21mfact\u001b[39m(a):\n\u001b[0;32m      3\u001b[0m     \u001b[38;5;28;01mreturn\u001b[39;00m a\u001b[38;5;241m*\u001b[39mfact(a\u001b[38;5;241m-\u001b[39m\u001b[38;5;241m1\u001b[39m)\n\u001b[1;32m----> 4\u001b[0m \u001b[43mfact\u001b[49m\u001b[43m(\u001b[49m\u001b[38;5;241;43m2\u001b[39;49m\u001b[43m)\u001b[49m\n",
      "Cell \u001b[1;32mIn[4], line 3\u001b[0m, in \u001b[0;36mfact\u001b[1;34m(a)\u001b[0m\n\u001b[0;32m      2\u001b[0m \u001b[38;5;28;01mdef\u001b[39;00m \u001b[38;5;21mfact\u001b[39m(a):\n\u001b[1;32m----> 3\u001b[0m     \u001b[38;5;28;01mreturn\u001b[39;00m a\u001b[38;5;241m*\u001b[39m\u001b[43mfact\u001b[49m\u001b[43m(\u001b[49m\u001b[43ma\u001b[49m\u001b[38;5;241;43m-\u001b[39;49m\u001b[38;5;241;43m1\u001b[39;49m\u001b[43m)\u001b[49m\n",
      "Cell \u001b[1;32mIn[4], line 3\u001b[0m, in \u001b[0;36mfact\u001b[1;34m(a)\u001b[0m\n\u001b[0;32m      2\u001b[0m \u001b[38;5;28;01mdef\u001b[39;00m \u001b[38;5;21mfact\u001b[39m(a):\n\u001b[1;32m----> 3\u001b[0m     \u001b[38;5;28;01mreturn\u001b[39;00m a\u001b[38;5;241m*\u001b[39m\u001b[43mfact\u001b[49m\u001b[43m(\u001b[49m\u001b[43ma\u001b[49m\u001b[38;5;241;43m-\u001b[39;49m\u001b[38;5;241;43m1\u001b[39;49m\u001b[43m)\u001b[49m\n",
      "    \u001b[1;31m[... skipping similar frames: fact at line 3 (2971 times)]\u001b[0m\n",
      "Cell \u001b[1;32mIn[4], line 3\u001b[0m, in \u001b[0;36mfact\u001b[1;34m(a)\u001b[0m\n\u001b[0;32m      2\u001b[0m \u001b[38;5;28;01mdef\u001b[39;00m \u001b[38;5;21mfact\u001b[39m(a):\n\u001b[1;32m----> 3\u001b[0m     \u001b[38;5;28;01mreturn\u001b[39;00m a\u001b[38;5;241m*\u001b[39m\u001b[43mfact\u001b[49m\u001b[43m(\u001b[49m\u001b[43ma\u001b[49m\u001b[38;5;241;43m-\u001b[39;49m\u001b[38;5;241;43m1\u001b[39;49m\u001b[43m)\u001b[49m\n",
      "\u001b[1;31mRecursionError\u001b[0m: maximum recursion depth exceeded"
     ]
    }
   ],
   "source": [
    "#recursion error\n",
    "def fact(a):\n",
    "    return a*fact(a-1)\n",
    "fact(2)"
   ]
  },
  {
   "cell_type": "code",
   "execution_count": null,
   "id": "de6e2176-09a9-4667-ad2d-7e654f0034c8",
   "metadata": {},
   "outputs": [],
   "source": [
    "#key error\n",
    "#key error we see generally in the sets and dictionaries \n",
    "#when we try to access the not present element in them"
   ]
  },
  {
   "cell_type": "code",
   "execution_count": 6,
   "id": "02cd7139-4879-4f0c-b2ff-b3af711cda57",
   "metadata": {},
   "outputs": [
    {
     "ename": "KeyError",
     "evalue": "5",
     "output_type": "error",
     "traceback": [
      "\u001b[1;31m---------------------------------------------------------------------------\u001b[0m",
      "\u001b[1;31mKeyError\u001b[0m                                  Traceback (most recent call last)",
      "Cell \u001b[1;32mIn[6], line 3\u001b[0m\n\u001b[0;32m      1\u001b[0m \u001b[38;5;66;03m#dictionaries\u001b[39;00m\n\u001b[0;32m      2\u001b[0m a\u001b[38;5;241m=\u001b[39m{\u001b[38;5;241m1\u001b[39m:\u001b[38;5;241m2\u001b[39m,\u001b[38;5;241m3\u001b[39m:\u001b[38;5;241m4\u001b[39m}\n\u001b[1;32m----> 3\u001b[0m \u001b[43ma\u001b[49m\u001b[43m[\u001b[49m\u001b[38;5;241;43m5\u001b[39;49m\u001b[43m]\u001b[49m\n",
      "\u001b[1;31mKeyError\u001b[0m: 5"
     ]
    }
   ],
   "source": [
    "#dictionaries\n",
    "a={1:2,3:4}\n",
    "a[5]"
   ]
  },
  {
   "cell_type": "code",
   "execution_count": 7,
   "id": "7e3ce8ce-d7c7-41fc-b874-e3c1fffb80aa",
   "metadata": {},
   "outputs": [
    {
     "ename": "TypeError",
     "evalue": "unhashable type: 'set'",
     "output_type": "error",
     "traceback": [
      "\u001b[1;31m---------------------------------------------------------------------------\u001b[0m",
      "\u001b[1;31mTypeError\u001b[0m                                 Traceback (most recent call last)",
      "Cell \u001b[1;32mIn[7], line 1\u001b[0m\n\u001b[1;32m----> 1\u001b[0m a\u001b[38;5;241m=\u001b[39m{\u001b[38;5;241m1\u001b[39m,{\u001b[38;5;241m3\u001b[39m,\u001b[38;5;241m4\u001b[39m}}\n",
      "\u001b[1;31mTypeError\u001b[0m: unhashable type: 'set'"
     ]
    }
   ],
   "source": [
    "a={1,{3,4}}  #working on the type of the data"
   ]
  },
  {
   "cell_type": "code",
   "execution_count": 8,
   "id": "2a86dc61-26e1-44b1-bee6-237e7185f9b9",
   "metadata": {},
   "outputs": [
    {
     "ename": "ValueError",
     "evalue": "invalid literal for int() with base 10: 'abc'",
     "output_type": "error",
     "traceback": [
      "\u001b[1;31m---------------------------------------------------------------------------\u001b[0m",
      "\u001b[1;31mValueError\u001b[0m                                Traceback (most recent call last)",
      "Cell \u001b[1;32mIn[8], line 3\u001b[0m\n\u001b[0;32m      1\u001b[0m \u001b[38;5;66;03m#value error\u001b[39;00m\n\u001b[0;32m      2\u001b[0m \u001b[38;5;66;03m#when function recieved invalid parameters\u001b[39;00m\n\u001b[1;32m----> 3\u001b[0m \u001b[38;5;28;43mint\u001b[39;49m\u001b[43m(\u001b[49m\u001b[38;5;124;43m\"\u001b[39;49m\u001b[38;5;124;43mabc\u001b[39;49m\u001b[38;5;124;43m\"\u001b[39;49m\u001b[43m)\u001b[49m\n",
      "\u001b[1;31mValueError\u001b[0m: invalid literal for int() with base 10: 'abc'"
     ]
    }
   ],
   "source": [
    "#value error\n",
    "#when function recieved invalid parameters\n",
    "int(\"abc\")"
   ]
  },
  {
   "cell_type": "code",
   "execution_count": 9,
   "id": "2c0344bf-675f-4a6f-a799-e8f2b50fb976",
   "metadata": {},
   "outputs": [
    {
     "ename": "IndentationError",
     "evalue": "expected an indented block after 'if' statement on line 1 (4182949370.py, line 2)",
     "output_type": "error",
     "traceback": [
      "\u001b[1;36m  Cell \u001b[1;32mIn[9], line 2\u001b[1;36m\u001b[0m\n\u001b[1;33m    print(i)\u001b[0m\n\u001b[1;37m    ^\u001b[0m\n\u001b[1;31mIndentationError\u001b[0m\u001b[1;31m:\u001b[0m expected an indented block after 'if' statement on line 1\n"
     ]
    }
   ],
   "source": [
    "if i in a:\n",
    "print(i)"
   ]
  },
  {
   "cell_type": "code",
   "execution_count": null,
   "id": "e7f13dde-274a-4ca1-a59e-342218c7b9c0",
   "metadata": {},
   "outputs": [],
   "source": [
    "#attribute error in python\n",
    "#trying to access an attribute that is not present in the object"
   ]
  },
  {
   "cell_type": "code",
   "execution_count": 11,
   "id": "d145340d-b310-4e83-bb1e-cc425a61d95c",
   "metadata": {},
   "outputs": [
    {
     "ename": "AttributeError",
     "evalue": "'list' object has no attribute 'upper'",
     "output_type": "error",
     "traceback": [
      "\u001b[1;31m---------------------------------------------------------------------------\u001b[0m",
      "\u001b[1;31mAttributeError\u001b[0m                            Traceback (most recent call last)",
      "Cell \u001b[1;32mIn[11], line 2\u001b[0m\n\u001b[0;32m      1\u001b[0m a\u001b[38;5;241m=\u001b[39m[\u001b[38;5;241m1\u001b[39m,\u001b[38;5;241m2\u001b[39m,\u001b[38;5;241m3\u001b[39m]\n\u001b[1;32m----> 2\u001b[0m \u001b[43ma\u001b[49m\u001b[38;5;241;43m.\u001b[39;49m\u001b[43mupper\u001b[49m()\n",
      "\u001b[1;31mAttributeError\u001b[0m: 'list' object has no attribute 'upper'"
     ]
    }
   ],
   "source": [
    "a=[1,2,3]\n",
    "a.upper()"
   ]
  },
  {
   "cell_type": "code",
   "execution_count": 12,
   "id": "80b344a5-229f-4874-a970-2849bb2b6431",
   "metadata": {},
   "outputs": [
    {
     "ename": "IndexError",
     "evalue": "list index out of range",
     "output_type": "error",
     "traceback": [
      "\u001b[1;31m---------------------------------------------------------------------------\u001b[0m",
      "\u001b[1;31mIndexError\u001b[0m                                Traceback (most recent call last)",
      "Cell \u001b[1;32mIn[12], line 2\u001b[0m\n\u001b[0;32m      1\u001b[0m a\u001b[38;5;241m=\u001b[39m[\u001b[38;5;241m1\u001b[39m,\u001b[38;5;241m2\u001b[39m,\u001b[38;5;241m3\u001b[39m]\n\u001b[1;32m----> 2\u001b[0m \u001b[43ma\u001b[49m\u001b[43m[\u001b[49m\u001b[38;5;241;43m3\u001b[39;49m\u001b[43m]\u001b[49m\n",
      "\u001b[1;31mIndexError\u001b[0m: list index out of range"
     ]
    }
   ],
   "source": [
    "a=[1,2,3]\n",
    "a[3]"
   ]
  },
  {
   "cell_type": "code",
   "execution_count": null,
   "id": "41ab60d2-9975-4945-a698-22a2c7a1786c",
   "metadata": {},
   "outputs": [],
   "source": []
  },
  {
   "cell_type": "code",
   "execution_count": null,
   "id": "aa711a01-9dbc-4196-90ff-287000080d45",
   "metadata": {},
   "outputs": [],
   "source": []
  },
  {
   "cell_type": "code",
   "execution_count": null,
   "id": "f41cca91-226b-471a-922a-32d5f6b47894",
   "metadata": {},
   "outputs": [],
   "source": []
  },
  {
   "cell_type": "code",
   "execution_count": null,
   "id": "7e93c048-6686-4add-8a00-93a6a650047d",
   "metadata": {},
   "outputs": [],
   "source": []
  },
  {
   "cell_type": "code",
   "execution_count": null,
   "id": "8773b6c8-2184-4bd1-be5b-b3d4fa2a2984",
   "metadata": {},
   "outputs": [],
   "source": []
  },
  {
   "cell_type": "code",
   "execution_count": null,
   "id": "711b3b69-9054-4d18-a473-22a73001c638",
   "metadata": {},
   "outputs": [],
   "source": [
    "#exception handling in python"
   ]
  },
  {
   "cell_type": "code",
   "execution_count": null,
   "id": "e8e6d8ed-41c5-487d-aaa4-6b365bfbe7bb",
   "metadata": {},
   "outputs": [],
   "source": [
    "#try\n",
    "#except\n",
    "#finally\n",
    "#else\n"
   ]
  },
  {
   "cell_type": "code",
   "execution_count": null,
   "id": "450220dc-f760-40a8-85f2-2d524925c5b0",
   "metadata": {},
   "outputs": [],
   "source": [
    "# exception handling\n",
    "#generally run time errors are called excpetions\n",
    "#even our program is syntatically everything is correct but we get the error when we run the code\n",
    "# this is called exception"
   ]
  },
  {
   "cell_type": "code",
   "execution_count": null,
   "id": "d77e6d76-5d77-44fb-8fbb-9ff09e20665c",
   "metadata": {},
   "outputs": [],
   "source": [
    "#some of exceptions\n",
    "#zerodivisionerror\n",
    "#indexoutof bound\n",
    "#assertion error"
   ]
  },
  {
   "cell_type": "code",
   "execution_count": 13,
   "id": "9bf43e88-e220-40fd-9c5d-ca9bfc4b1c4a",
   "metadata": {},
   "outputs": [
    {
     "ename": "ZeroDivisionError",
     "evalue": "division by zero",
     "output_type": "error",
     "traceback": [
      "\u001b[1;31m---------------------------------------------------------------------------\u001b[0m",
      "\u001b[1;31mZeroDivisionError\u001b[0m                         Traceback (most recent call last)",
      "Cell \u001b[1;32mIn[13], line 4\u001b[0m\n\u001b[0;32m      2\u001b[0m a\u001b[38;5;241m=\u001b[39m\u001b[38;5;241m1\u001b[39m\n\u001b[0;32m      3\u001b[0m b\u001b[38;5;241m=\u001b[39m\u001b[38;5;241m0\u001b[39m\n\u001b[1;32m----> 4\u001b[0m \u001b[38;5;28mprint\u001b[39m(\u001b[43ma\u001b[49m\u001b[38;5;241;43m/\u001b[39;49m\u001b[43mb\u001b[49m)\n",
      "\u001b[1;31mZeroDivisionError\u001b[0m: division by zero"
     ]
    }
   ],
   "source": [
    "#exmaples\n",
    "a=1\n",
    "b=0\n",
    "print(a/b)"
   ]
  },
  {
   "cell_type": "code",
   "execution_count": 14,
   "id": "88d0ff10-541a-4da2-8ab4-3600cf920dd5",
   "metadata": {},
   "outputs": [
    {
     "ename": "IndexError",
     "evalue": "list index out of range",
     "output_type": "error",
     "traceback": [
      "\u001b[1;31m---------------------------------------------------------------------------\u001b[0m",
      "\u001b[1;31mIndexError\u001b[0m                                Traceback (most recent call last)",
      "Cell \u001b[1;32mIn[14], line 2\u001b[0m\n\u001b[0;32m      1\u001b[0m a\u001b[38;5;241m=\u001b[39m[\u001b[38;5;241m1\u001b[39m,\u001b[38;5;241m2\u001b[39m,\u001b[38;5;241m3\u001b[39m]\n\u001b[1;32m----> 2\u001b[0m \u001b[43ma\u001b[49m\u001b[43m[\u001b[49m\u001b[38;5;241;43m3\u001b[39;49m\u001b[43m]\u001b[49m\n",
      "\u001b[1;31mIndexError\u001b[0m: list index out of range"
     ]
    }
   ],
   "source": [
    "a=[1,2,3]\n",
    "a[3]"
   ]
  },
  {
   "cell_type": "code",
   "execution_count": null,
   "id": "a635b7e4-07d8-459a-b375-6b38de2691db",
   "metadata": {},
   "outputs": [],
   "source": [
    "#how to handle exceptions\n",
    "#exceptions should be handle by the user\n",
    "#best exmaples are video buffering\n",
    "#if net is not present the video will stop rather than closing it\n",
    "# exception handling is very important in programming language"
   ]
  },
  {
   "cell_type": "markdown",
   "id": "51c6f74a-52ca-4499-855a-67fbcda0982f",
   "metadata": {},
   "source": [
    "#try \n",
    "- try is akeyword which is used in exceptions\n",
    "- exception occuring or may occured lines of code is wriiten in the try  block\n",
    "- all the exception occuring statemnets written in the try block are handled by the except block\n",
    "- except block will used to handle the exceptions\n",
    "- finally block which is exceuted whether try and except blocks are exceuted are not\n",
    "- else block is excuted when except block is not excuted "
   ]
  },
  {
   "cell_type": "code",
   "execution_count": null,
   "id": "b7fc3775-0c86-4eb7-ae9f-a29fba3db3f7",
   "metadata": {},
   "outputs": [],
   "source": []
  },
  {
   "cell_type": "code",
   "execution_count": null,
   "id": "090ab303-2e01-43e4-a3c8-3d1bc86af8dc",
   "metadata": {},
   "outputs": [],
   "source": []
  },
  {
   "cell_type": "code",
   "execution_count": null,
   "id": "6432621a-b06a-46e9-8825-ca3e44ea0c2b",
   "metadata": {},
   "outputs": [],
   "source": []
  },
  {
   "cell_type": "code",
   "execution_count": null,
   "id": "b68c1f8f-2d53-42a3-8588-38a7cc2903e7",
   "metadata": {},
   "outputs": [],
   "source": []
  },
  {
   "cell_type": "code",
   "execution_count": 17,
   "id": "4c1cd9dc-11ca-4287-8df9-e2459ad9bb52",
   "metadata": {},
   "outputs": [
    {
     "name": "stdout",
     "output_type": "stream",
     "text": [
      "division by zero\n"
     ]
    }
   ],
   "source": [
    "try:\n",
    "    a=1\n",
    "    b=0\n",
    "    print(a/b)\n",
    "except Exception as e:\n",
    "    print(e)"
   ]
  },
  {
   "cell_type": "code",
   "execution_count": 21,
   "id": "a08af433-f96a-470a-9237-429982d19f33",
   "metadata": {},
   "outputs": [
    {
     "name": "stdout",
     "output_type": "stream",
     "text": [
      "4\n",
      "not get an exception\n",
      "completed\n"
     ]
    }
   ],
   "source": [
    "try:\n",
    "    a=[1,2,3,4]\n",
    "    print(a[4])\n",
    "except Exception as e:\n",
    "    print(e)\n",
    "else:\n",
    "    print(\"not get an exception\")\n",
    "finally:\n",
    "    print(\"completed\")"
   ]
  },
  {
   "cell_type": "code",
   "execution_count": 28,
   "id": "4d76bbd4-27ef-479c-8be8-bbb44bce653f",
   "metadata": {},
   "outputs": [
    {
     "ename": "AssertionError",
     "evalue": "",
     "output_type": "error",
     "traceback": [
      "\u001b[1;31m---------------------------------------------------------------------------\u001b[0m",
      "\u001b[1;31mAssertionError\u001b[0m                            Traceback (most recent call last)",
      "Cell \u001b[1;32mIn[28], line 3\u001b[0m\n\u001b[0;32m      1\u001b[0m \u001b[38;5;66;03m#assertion\u001b[39;00m\n\u001b[0;32m      2\u001b[0m a\u001b[38;5;241m=\u001b[39m\u001b[38;5;241m2\u001b[39m\n\u001b[1;32m----> 3\u001b[0m \u001b[38;5;28;01massert\u001b[39;00m a\u001b[38;5;241m%\u001b[39m\u001b[38;5;241m2\u001b[39m\u001b[38;5;241m==\u001b[39m\u001b[38;5;241m1\u001b[39m\n",
      "\u001b[1;31mAssertionError\u001b[0m: "
     ]
    }
   ],
   "source": [
    "#assertion\n",
    "a=2\n",
    "assert a%2==1\n",
    "\n"
   ]
  },
  {
   "cell_type": "code",
   "execution_count": null,
   "id": "4ab57b65-01ea-46c0-9dff-83b02a61cb31",
   "metadata": {},
   "outputs": [],
   "source": []
  },
  {
   "cell_type": "code",
   "execution_count": 31,
   "id": "b510c6c3-7362-4d23-8ab2-a4cf8d912ffa",
   "metadata": {},
   "outputs": [],
   "source": [
    "a=2\n",
    "try:\n",
    "    assert a%2==0\n",
    "except:\n",
    "    print(\"succesfully handled assertions\")"
   ]
  },
  {
   "cell_type": "code",
   "execution_count": null,
   "id": "21348bab-3695-4785-954a-211300c35e8e",
   "metadata": {},
   "outputs": [],
   "source": [
    "# raise "
   ]
  },
  {
   "cell_type": "code",
   "execution_count": null,
   "id": "7b6c67fe-0442-44bb-bf7d-d8605a85efd4",
   "metadata": {},
   "outputs": [],
   "source": [
    "- raise is used to raise the exception\n"
   ]
  },
  {
   "cell_type": "code",
   "execution_count": null,
   "id": "4ecf229e-7a79-47ae-b495-45f60b1df987",
   "metadata": {},
   "outputs": [],
   "source": [
    "try:\n",
    "    num = int(input(\"Enter a number: \"))\n",
    "    result = 10 / num\n",
    "except ValueError:\n",
    "    print(\"Please enter a valid integer.\")\n",
    "except ZeroDivisionError:\n",
    "    print(\"Cannot divide by zero!\")\n",
    "else:\n",
    "    print(f\"Result: {result}\")\n",
    "finally:\n",
    "    print(\"Execution completed.\")\n"
   ]
  },
  {
   "cell_type": "code",
   "execution_count": null,
   "id": "2635f9df-a77d-492d-bf8f-916d4a0a8f58",
   "metadata": {},
   "outputs": [],
   "source": [
    "#user defined expections"
   ]
  },
  {
   "cell_type": "code",
   "execution_count": null,
   "id": "1b535234-c944-412b-8a5d-0dfcbf11c5f8",
   "metadata": {},
   "outputs": [],
   "source": []
  },
  {
   "cell_type": "code",
   "execution_count": null,
   "id": "b5a83d83-9ade-4f09-b7bf-7a7beabb7b7a",
   "metadata": {},
   "outputs": [],
   "source": []
  },
  {
   "cell_type": "code",
   "execution_count": null,
   "id": "0b21c0c7-d771-4111-a72d-d10c67fd5e00",
   "metadata": {},
   "outputs": [],
   "source": []
  },
  {
   "cell_type": "code",
   "execution_count": null,
   "id": "6b83ebb4-f19a-4da0-b9e5-a661ddf6c5a5",
   "metadata": {},
   "outputs": [],
   "source": []
  },
  {
   "cell_type": "code",
   "execution_count": null,
   "id": "28b43e00-05ad-46f4-bd2c-8e2c564a7e66",
   "metadata": {},
   "outputs": [],
   "source": [
    "# interview questions chatGPT"
   ]
  },
  {
   "cell_type": "code",
   "execution_count": null,
   "id": "e22fb44a-5ee2-44cd-a1b9-a623cc19ccaf",
   "metadata": {},
   "outputs": [],
   "source": [
    "\n",
    "2.How do you raise a specific exception manually in Python?\n",
    "Explain the use of the as keyword in the except block.\n",
    "What is the purpose of the with statement in Python exception handling?\n",
    "What is the difference between the except Exception and except statements?\n",
    "How can you catch all exceptions in a single except block?\n",
    "How does the order of except blocks matter?\n",
    "How can you handle an exception globally in a Python program?\n",
    "What is the purpose of the assert statement in Python?\n",
    "Explain the concept of custom exceptions in Python.\n",
    "What is the __exit__ method used for in the context of exception handling?\n",
    "How do you re-raise an exception in Python?\n",
    "What is the purpose of the warnings module in Python?\n",
    "Explain the difference between the assert statement and raising an exception.\n",
    "How can you handle keyboard interrupts in Python?\n",
    "How can you handle file-related exceptions in Python?\n",
    "Explain the concept of exception chaining in Python."
   ]
  },
  {
   "cell_type": "code",
   "execution_count": null,
   "id": "9b9fd91d-efac-4494-a7de-ceb6765b4107",
   "metadata": {},
   "outputs": [],
   "source": [
    "2.How do you raise a specific exception manually in Python?\n",
    "n Python, you can raise a specific exception manually using the raise statement. \n",
    "The raise statement allows you to raise exceptions explicitly in your code.\n",
    "You can raise built-in exceptions or create custom exceptions."
   ]
  },
  {
   "cell_type": "code",
   "execution_count": 51,
   "id": "360415db-3811-4f54-b209-a6c1534ebcd9",
   "metadata": {},
   "outputs": [
    {
     "name": "stdout",
     "output_type": "stream",
     "text": [
      "values are less than zero\n"
     ]
    }
   ],
   "source": [
    "class values_err(BaseException):\n",
    "    def __init__(self,msg):\n",
    "        self.msg=msg\n",
    "def values(a):\n",
    "        if a<0:\n",
    "            raise  values_err(\"values are less than zero\")\n",
    "try:\n",
    "    values(-2)\n",
    "except  values_err as e:\n",
    "    print(e)"
   ]
  },
  {
   "cell_type": "code",
   "execution_count": 48,
   "id": "f71994e8-3bb0-47e5-a9c7-1a0b8436d9c0",
   "metadata": {},
   "outputs": [
    {
     "name": "stdout",
     "output_type": "stream",
     "text": [
      "Caught a custom exception: Value must be an even number\n"
     ]
    }
   ],
   "source": [
    "class CustomError(BaseException):\n",
    "    def __init__(self, message):\n",
    "        self.message = message\n",
    "def example_function(value):\n",
    "    if value % 2 != 0:\n",
    "        raise CustomError(\"Value must be an even number\")\n",
    "\n",
    "# Example usage\n",
    "try:\n",
    "    example_function(3)\n",
    "except CustomError as ce:\n",
    "    print(f\"Caught a custom exception: {ce}\")\n",
    "    "
   ]
  },
  {
   "cell_type": "code",
   "execution_count": null,
   "id": "5bb99506-8634-4e65-a874-5321f5ac39c2",
   "metadata": {},
   "outputs": [],
   "source": []
  },
  {
   "cell_type": "code",
   "execution_count": null,
   "id": "4b1f2002-a0c2-4f0a-8ff0-b32ae2e3e149",
   "metadata": {},
   "outputs": [],
   "source": []
  },
  {
   "cell_type": "code",
   "execution_count": null,
   "id": "5f204e23-2eee-49e5-a5cf-342d31b8f4dc",
   "metadata": {},
   "outputs": [],
   "source": []
  }
 ],
 "metadata": {
  "kernelspec": {
   "display_name": "Python 3 (ipykernel)",
   "language": "python",
   "name": "python3"
  },
  "language_info": {
   "codemirror_mode": {
    "name": "ipython",
    "version": 3
   },
   "file_extension": ".py",
   "mimetype": "text/x-python",
   "name": "python",
   "nbconvert_exporter": "python",
   "pygments_lexer": "ipython3",
   "version": "3.11.5"
  }
 },
 "nbformat": 4,
 "nbformat_minor": 5
}
